{
 "cells": [
  {
   "cell_type": "markdown",
   "metadata": {
    "toc": true
   },
   "source": [
    "<h1>Содержание<span class=\"tocSkip\"></span></h1>\n",
    "<div class=\"toc\"><ul class=\"toc-item\"><li><span><a href=\"#Загрузка-данных\" data-toc-modified-id=\"Загрузка-данных-1\"><span class=\"toc-item-num\">1&nbsp;&nbsp;</span>Загрузка данных</a></span><ul class=\"toc-item\"><li><span><a href=\"#заключение-по-пункту\" data-toc-modified-id=\"заключение-по-пункту-1.1\"><span class=\"toc-item-num\">1.1&nbsp;&nbsp;</span>заключение по пункту</a></span></li></ul></li><li><span><a href=\"#Умножение-матриц\" data-toc-modified-id=\"Умножение-матриц-2\"><span class=\"toc-item-num\">2&nbsp;&nbsp;</span>Умножение матриц</a></span></li><li><span><a href=\"#Алгоритм-преобразования\" data-toc-modified-id=\"Алгоритм-преобразования-3\"><span class=\"toc-item-num\">3&nbsp;&nbsp;</span>Алгоритм преобразования</a></span></li><li><span><a href=\"#Проверка-алгоритма\" data-toc-modified-id=\"Проверка-алгоритма-4\"><span class=\"toc-item-num\">4&nbsp;&nbsp;</span>Проверка алгоритма</a></span><ul class=\"toc-item\"><li><span><a href=\"#подготовка-датафрейма\" data-toc-modified-id=\"подготовка-датафрейма-4.1\"><span class=\"toc-item-num\">4.1&nbsp;&nbsp;</span>подготовка датафрейма</a></span></li><li><span><a href=\"#подготовка-к-использованию-алгоритма\" data-toc-modified-id=\"подготовка-к-использованию-алгоритма-4.2\"><span class=\"toc-item-num\">4.2&nbsp;&nbsp;</span>подготовка к использованию алгоритма</a></span></li><li><span><a href=\"#проверка-с-помощью-кросс-валидации\" data-toc-modified-id=\"проверка-с-помощью-кросс-валидации-4.3\"><span class=\"toc-item-num\">4.3&nbsp;&nbsp;</span>проверка с помощью кросс-валидации</a></span></li><li><span><a href=\"#Заключение\" data-toc-modified-id=\"Заключение-4.4\"><span class=\"toc-item-num\">4.4&nbsp;&nbsp;</span>Заключение</a></span></li></ul></li><li><span><a href=\"#Чек-лист-проверки\" data-toc-modified-id=\"Чек-лист-проверки-5\"><span class=\"toc-item-num\">5&nbsp;&nbsp;</span>Чек-лист проверки</a></span></li></ul></div>"
   ]
  },
  {
   "cell_type": "markdown",
   "metadata": {},
   "source": [
    "# Защита персональных данных клиентов"
   ]
  },
  {
   "cell_type": "markdown",
   "metadata": {},
   "source": [
    "Вам нужно защитить данные клиентов страховой компании «Хоть потоп». Разработайте такой метод преобразования данных, чтобы по ним было сложно восстановить персональную информацию. Обоснуйте корректность его работы.\n",
    "\n",
    "Нужно защитить данные, чтобы при преобразовании качество моделей машинного обучения не ухудшилось. Подбирать наилучшую модель не требуется."
   ]
  },
  {
   "cell_type": "markdown",
   "metadata": {},
   "source": [
    "# Исходные данные\n",
    "- Признаки: пол, возраст и зарплата застрахованного, количество членов его семьи.\n",
    "- Целевой признак: количество страховых выплат клиенту за последние 5 лет."
   ]
  },
  {
   "cell_type": "markdown",
   "metadata": {},
   "source": [
    "# Cхема выполнения исследования\n",
    "\n",
    "Инструкция по выполнению проекта\n",
    "- 1. Загрузите и изучите данные.\n",
    "- 2. Ответьте на вопрос и обоснуйте решение.\n",
    "\n",
    "Признаки умножают на обратимую матрицу. Изменится ли качество линейной регрессии? (Её можно обучить заново.)\n",
    "- a. Изменится. Приведите примеры матриц.\n",
    "\n",
    "- b. Не изменится. Укажите, как связаны параметры линейной регрессии в исходной задаче и в преобразованной.\n",
    "\n",
    "- 3. Предложите алгоритм преобразования данных для решения задачи. Обоснуйте, почему качество линейной регрессии не поменяется.\n",
    "- 4. Запрограммируйте этот алгоритм, применив матричные операции. Проверьте, что качество линейной регрессии из sklearn не отличается до и после преобразования. Примените метрику R2"
   ]
  },
  {
   "cell_type": "markdown",
   "metadata": {},
   "source": [
    "## Загрузка данных"
   ]
  },
  {
   "cell_type": "code",
   "execution_count": 1,
   "metadata": {},
   "outputs": [],
   "source": [
    "# ячейка импорта\n",
    "import pandas as pd\n",
    "import numpy as np\n",
    "\n",
    "import matplotlib.pyplot as plt  # для построения графиков\n",
    "import seaborn as sns            # для построения графиков\n",
    "import warnings                  # добавил чтобы убирать предупреждения\n",
    "\n",
    "from sklearn.preprocessing import StandardScaler     # для масштабирования\n",
    "from sklearn.model_selection import train_test_split  # для разбиения на выборки\n",
    "\n",
    "from sklearn.linear_model import LinearRegression   # модель линейной регрессии\n",
    "from sklearn.metrics import mean_squared_error      # для расчета MSE\n",
    "from sklearn.metrics import r2_score                # для расчета R2\n",
    "\n",
    "from sklearn.model_selection import cross_val_score  # для кросс-валидации\n",
    "from sklearn.metrics import make_scorer              # импорт make_scorer\n",
    "\n",
    "\n",
    "pd.options.display.float_format = '{:,.2f}'.format  # форматирование числа разрядов после запятой \n",
    "\n",
    "random_state=12345"
   ]
  },
  {
   "cell_type": "code",
   "execution_count": 2,
   "metadata": {},
   "outputs": [],
   "source": [
    "# открытие файла (на случай если буду открывать вне тренажера, прописал альтернативный путь)\n",
    "try:\n",
    "    data = pd.read_csv('/datasets/insurance.csv')\n",
    "    \n",
    "except:\n",
    "    data_path = 'C:/Users/vladk/OneDrive/Рабочий стол/LRN_on_desk/'\n",
    "    data = pd.read_csv(data_path + 'insurance.csv')"
   ]
  },
  {
   "cell_type": "code",
   "execution_count": 3,
   "metadata": {},
   "outputs": [
    {
     "data": {
      "text/html": [
       "<div>\n",
       "<style scoped>\n",
       "    .dataframe tbody tr th:only-of-type {\n",
       "        vertical-align: middle;\n",
       "    }\n",
       "\n",
       "    .dataframe tbody tr th {\n",
       "        vertical-align: top;\n",
       "    }\n",
       "\n",
       "    .dataframe thead th {\n",
       "        text-align: right;\n",
       "    }\n",
       "</style>\n",
       "<table border=\"1\" class=\"dataframe\">\n",
       "  <thead>\n",
       "    <tr style=\"text-align: right;\">\n",
       "      <th></th>\n",
       "      <th>Пол</th>\n",
       "      <th>Возраст</th>\n",
       "      <th>Зарплата</th>\n",
       "      <th>Члены семьи</th>\n",
       "      <th>Страховые выплаты</th>\n",
       "    </tr>\n",
       "  </thead>\n",
       "  <tbody>\n",
       "    <tr>\n",
       "      <th>0</th>\n",
       "      <td>1</td>\n",
       "      <td>41.00</td>\n",
       "      <td>49,600.00</td>\n",
       "      <td>1</td>\n",
       "      <td>0</td>\n",
       "    </tr>\n",
       "    <tr>\n",
       "      <th>1</th>\n",
       "      <td>0</td>\n",
       "      <td>46.00</td>\n",
       "      <td>38,000.00</td>\n",
       "      <td>1</td>\n",
       "      <td>1</td>\n",
       "    </tr>\n",
       "    <tr>\n",
       "      <th>2</th>\n",
       "      <td>0</td>\n",
       "      <td>29.00</td>\n",
       "      <td>21,000.00</td>\n",
       "      <td>0</td>\n",
       "      <td>0</td>\n",
       "    </tr>\n",
       "    <tr>\n",
       "      <th>3</th>\n",
       "      <td>0</td>\n",
       "      <td>21.00</td>\n",
       "      <td>41,700.00</td>\n",
       "      <td>2</td>\n",
       "      <td>0</td>\n",
       "    </tr>\n",
       "    <tr>\n",
       "      <th>4</th>\n",
       "      <td>1</td>\n",
       "      <td>28.00</td>\n",
       "      <td>26,100.00</td>\n",
       "      <td>0</td>\n",
       "      <td>0</td>\n",
       "    </tr>\n",
       "    <tr>\n",
       "      <th>...</th>\n",
       "      <td>...</td>\n",
       "      <td>...</td>\n",
       "      <td>...</td>\n",
       "      <td>...</td>\n",
       "      <td>...</td>\n",
       "    </tr>\n",
       "    <tr>\n",
       "      <th>4995</th>\n",
       "      <td>0</td>\n",
       "      <td>28.00</td>\n",
       "      <td>35,700.00</td>\n",
       "      <td>2</td>\n",
       "      <td>0</td>\n",
       "    </tr>\n",
       "    <tr>\n",
       "      <th>4996</th>\n",
       "      <td>0</td>\n",
       "      <td>34.00</td>\n",
       "      <td>52,400.00</td>\n",
       "      <td>1</td>\n",
       "      <td>0</td>\n",
       "    </tr>\n",
       "    <tr>\n",
       "      <th>4997</th>\n",
       "      <td>0</td>\n",
       "      <td>20.00</td>\n",
       "      <td>33,900.00</td>\n",
       "      <td>2</td>\n",
       "      <td>0</td>\n",
       "    </tr>\n",
       "    <tr>\n",
       "      <th>4998</th>\n",
       "      <td>1</td>\n",
       "      <td>22.00</td>\n",
       "      <td>32,700.00</td>\n",
       "      <td>3</td>\n",
       "      <td>0</td>\n",
       "    </tr>\n",
       "    <tr>\n",
       "      <th>4999</th>\n",
       "      <td>1</td>\n",
       "      <td>28.00</td>\n",
       "      <td>40,600.00</td>\n",
       "      <td>1</td>\n",
       "      <td>0</td>\n",
       "    </tr>\n",
       "  </tbody>\n",
       "</table>\n",
       "<p>5000 rows × 5 columns</p>\n",
       "</div>"
      ],
      "text/plain": [
       "      Пол  Возраст  Зарплата  Члены семьи  Страховые выплаты\n",
       "0       1    41.00 49,600.00            1                  0\n",
       "1       0    46.00 38,000.00            1                  1\n",
       "2       0    29.00 21,000.00            0                  0\n",
       "3       0    21.00 41,700.00            2                  0\n",
       "4       1    28.00 26,100.00            0                  0\n",
       "...   ...      ...       ...          ...                ...\n",
       "4995    0    28.00 35,700.00            2                  0\n",
       "4996    0    34.00 52,400.00            1                  0\n",
       "4997    0    20.00 33,900.00            2                  0\n",
       "4998    1    22.00 32,700.00            3                  0\n",
       "4999    1    28.00 40,600.00            1                  0\n",
       "\n",
       "[5000 rows x 5 columns]"
      ]
     },
     "execution_count": 3,
     "metadata": {},
     "output_type": "execute_result"
    }
   ],
   "source": [
    "# знакомство с данными\n",
    "data"
   ]
  },
  {
   "cell_type": "code",
   "execution_count": 4,
   "metadata": {},
   "outputs": [
    {
     "name": "stdout",
     "output_type": "stream",
     "text": [
      "<class 'pandas.core.frame.DataFrame'>\n",
      "RangeIndex: 5000 entries, 0 to 4999\n",
      "Data columns (total 5 columns):\n",
      " #   Column             Non-Null Count  Dtype  \n",
      "---  ------             --------------  -----  \n",
      " 0   Пол                5000 non-null   int64  \n",
      " 1   Возраст            5000 non-null   float64\n",
      " 2   Зарплата           5000 non-null   float64\n",
      " 3   Члены семьи        5000 non-null   int64  \n",
      " 4   Страховые выплаты  5000 non-null   int64  \n",
      "dtypes: float64(2), int64(3)\n",
      "memory usage: 195.4 KB\n"
     ]
    }
   ],
   "source": [
    "data.info()"
   ]
  },
  {
   "cell_type": "markdown",
   "metadata": {},
   "source": [
    "пропусков не видно"
   ]
  },
  {
   "cell_type": "code",
   "execution_count": 5,
   "metadata": {},
   "outputs": [
    {
     "data": {
      "text/html": [
       "<div>\n",
       "<style scoped>\n",
       "    .dataframe tbody tr th:only-of-type {\n",
       "        vertical-align: middle;\n",
       "    }\n",
       "\n",
       "    .dataframe tbody tr th {\n",
       "        vertical-align: top;\n",
       "    }\n",
       "\n",
       "    .dataframe thead th {\n",
       "        text-align: right;\n",
       "    }\n",
       "</style>\n",
       "<table border=\"1\" class=\"dataframe\">\n",
       "  <thead>\n",
       "    <tr style=\"text-align: right;\">\n",
       "      <th></th>\n",
       "      <th>Пол</th>\n",
       "      <th>Возраст</th>\n",
       "      <th>Зарплата</th>\n",
       "      <th>Члены семьи</th>\n",
       "      <th>Страховые выплаты</th>\n",
       "    </tr>\n",
       "  </thead>\n",
       "  <tbody>\n",
       "    <tr>\n",
       "      <th>count</th>\n",
       "      <td>5,000.00</td>\n",
       "      <td>5,000.00</td>\n",
       "      <td>5,000.00</td>\n",
       "      <td>5,000.00</td>\n",
       "      <td>5,000.00</td>\n",
       "    </tr>\n",
       "    <tr>\n",
       "      <th>mean</th>\n",
       "      <td>0.50</td>\n",
       "      <td>30.95</td>\n",
       "      <td>39,916.36</td>\n",
       "      <td>1.19</td>\n",
       "      <td>0.15</td>\n",
       "    </tr>\n",
       "    <tr>\n",
       "      <th>std</th>\n",
       "      <td>0.50</td>\n",
       "      <td>8.44</td>\n",
       "      <td>9,900.08</td>\n",
       "      <td>1.09</td>\n",
       "      <td>0.46</td>\n",
       "    </tr>\n",
       "    <tr>\n",
       "      <th>min</th>\n",
       "      <td>0.00</td>\n",
       "      <td>18.00</td>\n",
       "      <td>5,300.00</td>\n",
       "      <td>0.00</td>\n",
       "      <td>0.00</td>\n",
       "    </tr>\n",
       "    <tr>\n",
       "      <th>25%</th>\n",
       "      <td>0.00</td>\n",
       "      <td>24.00</td>\n",
       "      <td>33,300.00</td>\n",
       "      <td>0.00</td>\n",
       "      <td>0.00</td>\n",
       "    </tr>\n",
       "    <tr>\n",
       "      <th>50%</th>\n",
       "      <td>0.00</td>\n",
       "      <td>30.00</td>\n",
       "      <td>40,200.00</td>\n",
       "      <td>1.00</td>\n",
       "      <td>0.00</td>\n",
       "    </tr>\n",
       "    <tr>\n",
       "      <th>75%</th>\n",
       "      <td>1.00</td>\n",
       "      <td>37.00</td>\n",
       "      <td>46,600.00</td>\n",
       "      <td>2.00</td>\n",
       "      <td>0.00</td>\n",
       "    </tr>\n",
       "    <tr>\n",
       "      <th>max</th>\n",
       "      <td>1.00</td>\n",
       "      <td>65.00</td>\n",
       "      <td>79,000.00</td>\n",
       "      <td>6.00</td>\n",
       "      <td>5.00</td>\n",
       "    </tr>\n",
       "  </tbody>\n",
       "</table>\n",
       "</div>"
      ],
      "text/plain": [
       "           Пол  Возраст  Зарплата  Члены семьи  Страховые выплаты\n",
       "count 5,000.00 5,000.00  5,000.00     5,000.00           5,000.00\n",
       "mean      0.50    30.95 39,916.36         1.19               0.15\n",
       "std       0.50     8.44  9,900.08         1.09               0.46\n",
       "min       0.00    18.00  5,300.00         0.00               0.00\n",
       "25%       0.00    24.00 33,300.00         0.00               0.00\n",
       "50%       0.00    30.00 40,200.00         1.00               0.00\n",
       "75%       1.00    37.00 46,600.00         2.00               0.00\n",
       "max       1.00    65.00 79,000.00         6.00               5.00"
      ]
     },
     "execution_count": 5,
     "metadata": {},
     "output_type": "execute_result"
    }
   ],
   "source": [
    "# посмотрю с помощью describe()\n",
    "data.describe()"
   ]
  },
  {
   "cell_type": "code",
   "execution_count": 6,
   "metadata": {},
   "outputs": [
    {
     "data": {
      "text/plain": [
       "153"
      ]
     },
     "execution_count": 6,
     "metadata": {},
     "output_type": "execute_result"
    }
   ],
   "source": [
    "# посмотрю на наличие дубликатов\n",
    "data.duplicated().sum()"
   ]
  },
  {
   "cell_type": "code",
   "execution_count": 7,
   "metadata": {},
   "outputs": [
    {
     "data": {
      "text/html": [
       "<div>\n",
       "<style scoped>\n",
       "    .dataframe tbody tr th:only-of-type {\n",
       "        vertical-align: middle;\n",
       "    }\n",
       "\n",
       "    .dataframe tbody tr th {\n",
       "        vertical-align: top;\n",
       "    }\n",
       "\n",
       "    .dataframe thead th {\n",
       "        text-align: right;\n",
       "    }\n",
       "</style>\n",
       "<table border=\"1\" class=\"dataframe\">\n",
       "  <thead>\n",
       "    <tr style=\"text-align: right;\">\n",
       "      <th></th>\n",
       "      <th>Пол</th>\n",
       "      <th>Возраст</th>\n",
       "      <th>Зарплата</th>\n",
       "      <th>Члены семьи</th>\n",
       "      <th>Страховые выплаты</th>\n",
       "    </tr>\n",
       "  </thead>\n",
       "  <tbody>\n",
       "    <tr>\n",
       "      <th>Пол</th>\n",
       "      <td>1.00</td>\n",
       "      <td>0.00</td>\n",
       "      <td>0.01</td>\n",
       "      <td>-0.01</td>\n",
       "      <td>0.01</td>\n",
       "    </tr>\n",
       "    <tr>\n",
       "      <th>Возраст</th>\n",
       "      <td>0.00</td>\n",
       "      <td>1.00</td>\n",
       "      <td>-0.02</td>\n",
       "      <td>-0.01</td>\n",
       "      <td>0.65</td>\n",
       "    </tr>\n",
       "    <tr>\n",
       "      <th>Зарплата</th>\n",
       "      <td>0.01</td>\n",
       "      <td>-0.02</td>\n",
       "      <td>1.00</td>\n",
       "      <td>-0.03</td>\n",
       "      <td>-0.01</td>\n",
       "    </tr>\n",
       "    <tr>\n",
       "      <th>Члены семьи</th>\n",
       "      <td>-0.01</td>\n",
       "      <td>-0.01</td>\n",
       "      <td>-0.03</td>\n",
       "      <td>1.00</td>\n",
       "      <td>-0.04</td>\n",
       "    </tr>\n",
       "    <tr>\n",
       "      <th>Страховые выплаты</th>\n",
       "      <td>0.01</td>\n",
       "      <td>0.65</td>\n",
       "      <td>-0.01</td>\n",
       "      <td>-0.04</td>\n",
       "      <td>1.00</td>\n",
       "    </tr>\n",
       "  </tbody>\n",
       "</table>\n",
       "</div>"
      ],
      "text/plain": [
       "                    Пол  Возраст  Зарплата  Члены семьи  Страховые выплаты\n",
       "Пол                1.00     0.00      0.01        -0.01               0.01\n",
       "Возраст            0.00     1.00     -0.02        -0.01               0.65\n",
       "Зарплата           0.01    -0.02      1.00        -0.03              -0.01\n",
       "Члены семьи       -0.01    -0.01     -0.03         1.00              -0.04\n",
       "Страховые выплаты  0.01     0.65     -0.01        -0.04               1.00"
      ]
     },
     "execution_count": 7,
     "metadata": {},
     "output_type": "execute_result"
    }
   ],
   "source": [
    "# посмотрю на скоррелированность признаков\n",
    "data.corr()"
   ]
  },
  {
   "cell_type": "markdown",
   "metadata": {},
   "source": [
    "видна некоторая (не очень сильная) корреляция между возрастом и числом выплат"
   ]
  },
  {
   "cell_type": "code",
   "execution_count": 8,
   "metadata": {},
   "outputs": [
    {
     "data": {
      "text/plain": [
       "<seaborn.axisgrid.PairGrid at 0x7fcb7d84f550>"
      ]
     },
     "execution_count": 8,
     "metadata": {},
     "output_type": "execute_result"
    },
    {
     "data": {
      "image/png": "[encoded data removed]",
      "text/plain": [
       "<Figure size 900x900 with 30 Axes>"
      ]
     },
     "metadata": {},
     "output_type": "display_data"
    }
   ],
   "source": [
    "# выведу pairplot\n",
    "\n",
    "sns.set_style(\"darkgrid\")\n",
    "sns.pairplot(data)"
   ]
  },
  {
   "cell_type": "markdown",
   "metadata": {},
   "source": [
    "похоже что зарплаты распределяются нормально, некоторая корреляция возраста и числа выплат видна на графике - чем больше возраст там больше выплат (причем выплаты характерны только для людей старше 40 лет)"
   ]
  },
  {
   "cell_type": "code",
   "execution_count": 9,
   "metadata": {},
   "outputs": [
    {
     "data": {
      "text/plain": [
       "<AxesSubplot:>"
      ]
     },
     "execution_count": 9,
     "metadata": {},
     "output_type": "execute_result"
    },
    {
     "data": {
      "image/png": "[encoded data removed]",
      "text/plain": [
       "<Figure size 432x288 with 1 Axes>"
      ]
     },
     "metadata": {},
     "output_type": "display_data"
    }
   ],
   "source": [
    "# посмотрю лучше на распределение зарплаты\n",
    "data['Зарплата'].hist(bins=70)"
   ]
  },
  {
   "cell_type": "code",
   "execution_count": 10,
   "metadata": {},
   "outputs": [],
   "source": [
    "# удалю дубликаты\n",
    "data = data.drop_duplicates()"
   ]
  },
  {
   "cell_type": "code",
   "execution_count": 11,
   "metadata": {},
   "outputs": [],
   "source": [
    "# переведу названия столбцов в змеиный регистр (так исходно говорили, что надо делать)\n",
    "data.columns = ['gender', 'age', 'salary', 'familiars', 'benefits']"
   ]
  },
  {
   "cell_type": "code",
   "execution_count": 12,
   "metadata": {},
   "outputs": [
    {
     "name": "stdout",
     "output_type": "stream",
     "text": [
      "<class 'pandas.core.frame.DataFrame'>\n",
      "Int64Index: 4847 entries, 0 to 4999\n",
      "Data columns (total 5 columns):\n",
      " #   Column     Non-Null Count  Dtype  \n",
      "---  ------     --------------  -----  \n",
      " 0   gender     4847 non-null   int64  \n",
      " 1   age        4847 non-null   float64\n",
      " 2   salary     4847 non-null   float64\n",
      " 3   familiars  4847 non-null   int64  \n",
      " 4   benefits   4847 non-null   int64  \n",
      "dtypes: float64(2), int64(3)\n",
      "memory usage: 227.2 KB\n"
     ]
    }
   ],
   "source": [
    "data.info()"
   ]
  },
  {
   "cell_type": "markdown",
   "metadata": {},
   "source": [
    "### заключение по пункту\n",
    "\n",
    "В итоге после загрузки и небольшой предобработки сделано (или отмечено следующие):\n",
    "- пропусков нет, дубликаты удалены\n",
    "- столбцы переименованы\n",
    "- признак возраст имеет некоторую корреляцию с целевым признаком (количество страховых выплат)\n",
    "- пол, члены семьи и целевой признак (количество страховых выплат) представлены категориальными данными, возраст и зарплата - количественные (причем разного масштаба)"
   ]
  },
  {
   "cell_type": "markdown",
   "metadata": {},
   "source": [
    "## Умножение матриц"
   ]
  },
  {
   "cell_type": "markdown",
   "metadata": {},
   "source": [
    "В этом задании вы можете записывать формулы в *Jupyter Notebook.*\n",
    "\n",
    "Чтобы записать формулу внутри текста, окружите её символами доллара \\\\$; если снаружи —  двойными символами \\\\$\\\\$. Эти формулы записываются на языке вёрстки *LaTeX.* \n",
    "\n",
    "Для примера мы записали формулы линейной регрессии. Можете их скопировать и отредактировать, чтобы решить задачу.\n",
    "\n",
    "Работать в *LaTeX* необязательно."
   ]
  },
  {
   "cell_type": "markdown",
   "metadata": {},
   "source": [
    "Обозначения:\n",
    "\n",
    "- $X$ — матрица признаков (нулевой столбец состоит из единиц)\n",
    "\n",
    "- $y$ — вектор целевого признака\n",
    "\n",
    "- $P$ — матрица, на которую умножаются признаки\n",
    "\n",
    "- $w$ — вектор весов линейной регрессии (нулевой элемент равен сдвигу)"
   ]
  },
  {
   "cell_type": "markdown",
   "metadata": {},
   "source": [
    "Предсказания:\n",
    "\n",
    "$$\n",
    "a = Xw\n",
    "$$\n",
    "\n",
    "Задача обучения:\n",
    "\n",
    "$$\n",
    "w = \\arg\\min_w MSE(Xw, y)\n",
    "$$\n",
    "\n",
    "Формула обучения:\n",
    "\n",
    "$$\n",
    "w = (X^T X)^{-1} X^T y\n",
    "$$"
   ]
  },
  {
   "cell_type": "markdown",
   "metadata": {},
   "source": [
    "\n",
    "\n",
    "**Обоснование:**\n",
    "\n",
    "1. Пишу формулу обучения с подстановкой матрицы, на которую умножаются признаки:\n",
    "\n",
    "$$\n",
    "w = ((X P)^T(X P))^{-1}(X P)^Ty\n",
    "$$\n",
    "\n",
    "2. Далее исхожу из свойств транспонирования матриц, где $(A B)^T = B^T A^T$\n",
    "\n",
    "$$\n",
    "w = (P^T X^T X P)^{-1}P^TX^Ty\n",
    "$$\n",
    "\n",
    "3. Далее исхожу из свойств обратных матриц, где $(A B)^{-1} = B^{-1} A^{-1}$, помня про то что $(X^TX)$ должны оставаться под знаком обратной матрицы всегда вместе\n",
    "\n",
    "$$\n",
    "w = P^{-1} (P^T X^T X)^{-1}P^TX^Ty\n",
    "$$\n",
    "\n",
    "$$\n",
    "w = P^{-1}(X^T X)^{-1}(P^T)^{-1}P^TX^Ty\n",
    "$$\n",
    "\n",
    "4. На этом этапе $P^T$ и $P^T{-1}$ дадут единичную матрицу и формула станет принимать такой вид:\n",
    "\n",
    "$$\n",
    "w = P^{-1}(X^T X)^{-1}E X^Ty\n",
    "$$\n",
    "\n",
    "$$\n",
    "w = P^{-1}(X^T X)^{-1}X^Ty\n",
    "$$\n",
    "\n",
    "5. при умножении на единичную матрицу получится та же матрица, в итоге в формуле прдескахания это будет выглядет так:\n",
    "\n",
    "$$\n",
    "a =  X P P^{-1}(X^T X)^{-1} X^T\n",
    "$$\n",
    "\n",
    "6. $P$ и $P^{-1}$ тоже дадут единичную матрицу и сократятся и в итоге формула прдесказаний не изменится\n",
    "\n",
    "$$\n",
    "a =  X E (X^T X)^{-1} X^T\n",
    "$$\n",
    "\n",
    "$$\n",
    "a = X (X^T X)^{-1} X^T\n",
    "$$\n",
    "\n",
    "здесь мне показался важным пункт в задании, что регрессию после умножения признаков на обратимую матрицу можно обучить заново (скорее нужно), т.к. если делать предсказания по признакам умноженным на обратмую матрицу, но регрессия будет обучена на исходных данных - результат будет ошибочным (тогда эффект \"сокращения\" P не проявится)"
   ]
  },
  {
   "cell_type": "markdown",
   "metadata": {},
   "source": [
    "в общем пункт является ключевым и занял больше всего времени - основной вопрос для меня был в раскрытии скобок при операциях с матрицами (нашел указанные выше свойства транспонированных и обратных матриц - надеюсь что такой подход - корректен) "
   ]
  },
  {
   "cell_type": "markdown",
   "metadata": {},
   "source": [
    "## Алгоритм преобразования"
   ]
  },
  {
   "cell_type": "markdown",
   "metadata": {},
   "source": [
    "**Алгоритм**\n",
    "\n",
    "1. Мне кажется само содержание задания наводит на ответ, что данные надо будет умножить на единичную матрицу\n",
    "\n",
    "2. Перед этим, хочу еще провести масштабирование "
   ]
  },
  {
   "cell_type": "markdown",
   "metadata": {},
   "source": [
    "**Обоснование**\n",
    "\n",
    "1. Процесс, который реализуется в пункте 2 демонстрирует, что умножение данных на квадратную матрицу (ширина, которой будет сходна с шириной датафрэйма) видоизменит весь датафрейм, но после обучения регресии и получения предсказаний - предсказания будут такими же, как и для не видоизмененных данных (важно заново обучить регрессию на модифицированных данных). \n",
    "\n",
    "2. Масштабирование тоже видоизменит данные от исходных, кроме того количественные данные по возрасту и зарплате различаются на порядки."
   ]
  },
  {
   "cell_type": "markdown",
   "metadata": {},
   "source": [
    "## Проверка алгоритма"
   ]
  },
  {
   "cell_type": "markdown",
   "metadata": {},
   "source": [
    "### подготовка датафрейма"
   ]
  },
  {
   "cell_type": "code",
   "execution_count": 13,
   "metadata": {},
   "outputs": [],
   "source": [
    "# выделю набор признаков и целевой признак\n",
    "\n",
    "features = data.drop(['benefits'], axis=1)\n",
    "target = data['benefits']"
   ]
  },
  {
   "cell_type": "code",
   "execution_count": 14,
   "metadata": {},
   "outputs": [],
   "source": [
    "# масштабирование\n",
    "scaler = StandardScaler()\n",
    "\n",
    "scaler.fit(features)           \n",
    "features_scaled = scaler.transform(features)"
   ]
  },
  {
   "cell_type": "markdown",
   "metadata": {},
   "source": [
    "### подготовка к использованию алгоритма"
   ]
  },
  {
   "cell_type": "code",
   "execution_count": 15,
   "metadata": {},
   "outputs": [
    {
     "data": {
      "text/plain": [
       "array([[ 4.06352749,  0.79211247, -0.72486272,  4.461457  ],\n",
       "       [ 5.92674939,  0.70792329,  2.15360095,  0.78818953],\n",
       "       [ 1.7031875 ,  3.28615524,  3.42324812,  2.12231836],\n",
       "       [ 2.05504964,  2.23749513,  3.65119362,  0.67978733]])"
      ]
     },
     "execution_count": 15,
     "metadata": {},
     "output_type": "execute_result"
    }
   ],
   "source": [
    "# генерация квадратной матрицы (размером 4 на 4, чтобы умножить ее на датасет)\n",
    "matrix = np.random.normal(4, 2, size=(4, 4))\n",
    "matrix"
   ]
  },
  {
   "cell_type": "code",
   "execution_count": 16,
   "metadata": {},
   "outputs": [
    {
     "data": {
      "text/plain": [
       "array([[-0.13365795,  0.35411204,  0.32137026, -0.53670937],\n",
       "       [-0.69212492,  0.74876648,  1.94707549, -2.40457318],\n",
       "       [ 0.39999601, -0.55652791, -1.21835861,  1.82384879],\n",
       "       [ 0.53375068, -0.5458884 , -0.83635063,  1.21208512]])"
      ]
     },
     "execution_count": 16,
     "metadata": {},
     "output_type": "execute_result"
    }
   ],
   "source": [
    "# проверка этой матрицы на обратимость\n",
    "matrix_inv = np.linalg.inv(matrix)\n",
    "matrix_inv"
   ]
  },
  {
   "cell_type": "code",
   "execution_count": 17,
   "metadata": {},
   "outputs": [],
   "source": [
    "# умножаю матрицу с исходными (уже масштабированными данными) на квадратную обратимую\n",
    "features_modified = features_scaled.dot(matrix)"
   ]
  },
  {
   "cell_type": "code",
   "execution_count": 18,
   "metadata": {},
   "outputs": [
    {
     "data": {
      "text/plain": [
       "array([[ 12.31955152,   4.41028167,   4.45953599,   7.34120781],\n",
       "       [  5.70281192,  -0.57956558,   3.19586741,  -3.58622486],\n",
       "       [-10.94293873,  -9.63652335, -10.277424  ,  -9.40189918],\n",
       "       ...,\n",
       "       [-11.28316244,  -2.06261073,  -1.48545177,  -6.25461288],\n",
       "       [ -0.09368872,   1.32976639,   0.48401492,   3.21749037],\n",
       "       [  1.70417037,   0.36006596,  -1.92880265,   4.21844785]])"
      ]
     },
     "execution_count": 18,
     "metadata": {},
     "output_type": "execute_result"
    }
   ],
   "source": [
    "# посмотрю на результат\n",
    "features_modified"
   ]
  },
  {
   "cell_type": "code",
   "execution_count": 19,
   "metadata": {},
   "outputs": [],
   "source": [
    "# инициация модели\n",
    "linear = LinearRegression()"
   ]
  },
  {
   "cell_type": "markdown",
   "metadata": {},
   "source": [
    "### проверка с помощью кросс-валидации"
   ]
  },
  {
   "cell_type": "code",
   "execution_count": 20,
   "metadata": {},
   "outputs": [],
   "source": [
    "# делаю scorer по r2_score, чтобы использовать в кросс-валидации\n",
    "r2 = make_scorer(r2_score, greater_is_better=True)"
   ]
  },
  {
   "cell_type": "code",
   "execution_count": 21,
   "metadata": {},
   "outputs": [
    {
     "name": "stdout",
     "output_type": "stream",
     "text": [
      "[0.43732736 0.32590498 0.47465875 0.41955112 0.44235782 0.39259707\n",
      " 0.44016863 0.36839904 0.43926976 0.45421724]\n",
      "Средняя оценка качества модели по R2 на исходных данных: 0.419445178191361\n"
     ]
    }
   ],
   "source": [
    "# кросс-валидация по исходным данным \n",
    "scores = cross_val_score(linear, features_scaled, target, scoring=r2, cv=10)   # кросс-валидация\n",
    "final_score = scores.mean()                                                  # cредняя оценка качества модели\n",
    "print(scores)\n",
    "print('Средняя оценка качества модели по R2 на исходных данных:', final_score)"
   ]
  },
  {
   "cell_type": "code",
   "execution_count": 22,
   "metadata": {},
   "outputs": [
    {
     "name": "stdout",
     "output_type": "stream",
     "text": [
      "[0.43732736 0.32590498 0.47465875 0.41955112 0.44235782 0.39259707\n",
      " 0.44016863 0.36839904 0.43926976 0.45421724]\n",
      "Средняя оценка качества модели по R2 на данных умноженных на квадратную матрицу: 0.419445178191361\n"
     ]
    }
   ],
   "source": [
    "# кросс-валидация по модифицированным данным \n",
    "scores = cross_val_score(linear, features_modified, target, scoring=r2, cv=10)   # кросс-валидация\n",
    "final_score = scores.mean()                                                  # cредняя оценка качества модели\n",
    "print(scores)\n",
    "print('Средняя оценка качества модели по R2 на данных умноженных на квадратную матрицу:', final_score)"
   ]
  },
  {
   "cell_type": "markdown",
   "metadata": {},
   "source": [
    "результаты - одинаковые"
   ]
  },
  {
   "cell_type": "markdown",
   "metadata": {},
   "source": [
    "### Заключение"
   ]
  },
  {
   "cell_type": "markdown",
   "metadata": {},
   "source": [
    "\n",
    "1. после загрузки и небольшой предобработки сделано (или отмечено следующие):\n",
    "- пропусков нет, дубликаты удалены\n",
    "- столбцы переименованы\n",
    "- признак возраст имеет некоторую корреляцию с целевым признаком (количество страховых выплат)\n",
    "- пол, члены семьи и целевой признак (количество страховых выплат) представлены категориальными данными, возраст и зарплата - количественные (причем разного масштаба)   \n",
    "\n",
    "2. качество линейной регресии после умнжения исходных признаков на квадратную матрицу не изменится, т.к. при подстановке в формулы обучения и затем предсказания квадратная матрица скоратится   \n",
    "\n",
    "3. Для преобразования данных по страховкам можно использовать как раз умножение на единичную матрицу (перед этим я еще сделал масштабирование признаков)  \n",
    "\n",
    "4. R2_score при кросс-валидации на обоих вариантах данных (до умножения на квадратную матрицу и после) был одинаковым - 0.42 "
   ]
  }
 ],
 "metadata": {
  "ExecuteTimeLog": [
   {
    "duration": 534,
    "start_time": "2022-04-29T21:25:43.871Z"
   },
   {
    "duration": 28,
    "start_time": "2022-04-29T21:25:51.607Z"
   },
   {
    "duration": 16,
    "start_time": "2022-04-29T21:26:29.603Z"
   },
   {
    "duration": 12,
    "start_time": "2022-04-29T21:26:42.269Z"
   },
   {
    "duration": 98,
    "start_time": "2022-04-29T21:26:52.486Z"
   },
   {
    "duration": 9,
    "start_time": "2022-04-29T21:26:57.542Z"
   },
   {
    "duration": 8,
    "start_time": "2022-04-29T21:27:01.338Z"
   },
   {
    "duration": 9,
    "start_time": "2022-04-29T21:27:06.752Z"
   },
   {
    "duration": 10,
    "start_time": "2022-04-29T21:27:09.600Z"
   },
   {
    "duration": 873,
    "start_time": "2022-04-29T21:27:43.307Z"
   },
   {
    "duration": 214,
    "start_time": "2022-04-29T21:27:49.793Z"
   },
   {
    "duration": 237,
    "start_time": "2022-04-29T21:28:00.803Z"
   },
   {
    "duration": 246,
    "start_time": "2022-04-29T21:28:05.053Z"
   },
   {
    "duration": 299,
    "start_time": "2022-04-29T21:28:12.425Z"
   },
   {
    "duration": 289,
    "start_time": "2022-04-29T21:28:45.192Z"
   },
   {
    "duration": 284,
    "start_time": "2022-04-29T21:28:59.386Z"
   },
   {
    "duration": 332,
    "start_time": "2022-04-29T21:29:10.012Z"
   },
   {
    "duration": 544,
    "start_time": "2022-04-30T16:36:24.910Z"
   },
   {
    "duration": 34,
    "start_time": "2022-04-30T16:36:26.348Z"
   },
   {
    "duration": 17,
    "start_time": "2022-04-30T16:36:29.453Z"
   },
   {
    "duration": 8,
    "start_time": "2022-04-30T16:36:30.706Z"
   },
   {
    "duration": 15,
    "start_time": "2022-04-30T16:36:38.108Z"
   },
   {
    "duration": 1351,
    "start_time": "2022-04-30T16:37:31.202Z"
   },
   {
    "duration": 444,
    "start_time": "2022-04-30T16:38:47.601Z"
   },
   {
    "duration": 478,
    "start_time": "2022-04-30T16:39:30.838Z"
   },
   {
    "duration": 799,
    "start_time": "2022-04-30T16:40:11.937Z"
   },
   {
    "duration": 833,
    "start_time": "2022-04-30T16:40:24.750Z"
   },
   {
    "duration": 216,
    "start_time": "2022-04-30T16:40:43.888Z"
   },
   {
    "duration": 262,
    "start_time": "2022-04-30T20:36:16.166Z"
   },
   {
    "duration": 387,
    "start_time": "2022-04-30T20:36:26.368Z"
   },
   {
    "duration": 14,
    "start_time": "2022-04-30T21:47:36.783Z"
   },
   {
    "duration": 19,
    "start_time": "2022-04-30T21:47:39.921Z"
   },
   {
    "duration": 16,
    "start_time": "2022-04-30T21:47:41.737Z"
   },
   {
    "duration": 9,
    "start_time": "2022-04-30T21:47:43.465Z"
   },
   {
    "duration": 448,
    "start_time": "2022-04-30T21:47:44.641Z"
   },
   {
    "duration": 15,
    "start_time": "2022-04-30T21:47:46.451Z"
   },
   {
    "duration": 247,
    "start_time": "2022-04-30T21:47:50.237Z"
   },
   {
    "duration": 144,
    "start_time": "2022-04-30T21:48:32.330Z"
   },
   {
    "duration": 21,
    "start_time": "2022-04-30T21:49:17.265Z"
   },
   {
    "duration": 4,
    "start_time": "2022-04-30T21:50:01.646Z"
   },
   {
    "duration": 19,
    "start_time": "2022-04-30T21:50:08.023Z"
   },
   {
    "duration": 5,
    "start_time": "2022-04-30T21:50:54.665Z"
   },
   {
    "duration": 18,
    "start_time": "2022-04-30T21:51:04.718Z"
   },
   {
    "duration": 6,
    "start_time": "2022-04-30T21:51:11.587Z"
   },
   {
    "duration": 5,
    "start_time": "2022-04-30T21:52:11.111Z"
   },
   {
    "duration": 5,
    "start_time": "2022-04-30T21:52:16.690Z"
   },
   {
    "duration": 8,
    "start_time": "2022-04-30T21:52:32.964Z"
   },
   {
    "duration": 4,
    "start_time": "2022-04-30T21:52:34.396Z"
   },
   {
    "duration": 19,
    "start_time": "2022-04-30T21:52:35.134Z"
   },
   {
    "duration": 5,
    "start_time": "2022-04-30T21:52:37.308Z"
   },
   {
    "duration": 5,
    "start_time": "2022-04-30T21:52:41.612Z"
   },
   {
    "duration": 6,
    "start_time": "2022-04-30T21:52:42.288Z"
   },
   {
    "duration": 1364,
    "start_time": "2022-05-02T22:09:16.936Z"
   },
   {
    "duration": 17,
    "start_time": "2022-05-02T22:09:19.112Z"
   },
   {
    "duration": 15,
    "start_time": "2022-05-02T22:09:19.882Z"
   },
   {
    "duration": 22,
    "start_time": "2022-05-02T22:09:31.284Z"
   },
   {
    "duration": 171,
    "start_time": "2022-05-02T22:11:41.172Z"
   },
   {
    "duration": 6,
    "start_time": "2022-05-02T22:11:43.231Z"
   },
   {
    "duration": 4,
    "start_time": "2022-05-02T22:11:44.374Z"
   },
   {
    "duration": 12,
    "start_time": "2022-05-02T22:11:45.225Z"
   },
   {
    "duration": 4,
    "start_time": "2022-05-02T22:12:43.374Z"
   },
   {
    "duration": 3,
    "start_time": "2022-05-02T22:12:45.246Z"
   },
   {
    "duration": 4,
    "start_time": "2022-05-02T22:12:45.598Z"
   },
   {
    "duration": 92,
    "start_time": "2022-05-02T22:13:19.811Z"
   },
   {
    "duration": 3,
    "start_time": "2022-05-02T22:13:22.811Z"
   },
   {
    "duration": 2,
    "start_time": "2022-05-02T22:13:24.045Z"
   },
   {
    "duration": 13,
    "start_time": "2022-05-02T22:13:48.953Z"
   },
   {
    "duration": 3,
    "start_time": "2022-05-02T22:14:10.111Z"
   },
   {
    "duration": 4,
    "start_time": "2022-05-02T22:14:15.102Z"
   },
   {
    "duration": 9,
    "start_time": "2022-05-02T22:14:38.208Z"
   },
   {
    "duration": 4,
    "start_time": "2022-05-02T22:17:09.507Z"
   },
   {
    "duration": 344,
    "start_time": "2022-05-02T22:17:31.731Z"
   },
   {
    "duration": 6,
    "start_time": "2022-05-02T22:17:58.365Z"
   },
   {
    "duration": 3,
    "start_time": "2022-05-02T22:18:53.834Z"
   },
   {
    "duration": 199,
    "start_time": "2022-05-02T22:18:54.461Z"
   },
   {
    "duration": 9,
    "start_time": "2022-05-02T22:23:11.121Z"
   },
   {
    "duration": 11,
    "start_time": "2022-05-02T22:23:21.992Z"
   },
   {
    "duration": 154,
    "start_time": "2022-05-02T22:23:26.397Z"
   },
   {
    "duration": 5,
    "start_time": "2022-05-02T22:25:04.662Z"
   },
   {
    "duration": 2,
    "start_time": "2022-05-02T22:25:09.024Z"
   },
   {
    "duration": 152,
    "start_time": "2022-05-02T22:25:10.745Z"
   },
   {
    "duration": 9,
    "start_time": "2022-05-02T22:25:14.033Z"
   },
   {
    "duration": 9,
    "start_time": "2022-05-02T22:27:07.581Z"
   },
   {
    "duration": 3,
    "start_time": "2022-05-02T22:27:13.654Z"
   },
   {
    "duration": 9,
    "start_time": "2022-05-02T22:27:20.314Z"
   },
   {
    "duration": 3,
    "start_time": "2022-05-02T22:27:28.210Z"
   },
   {
    "duration": 4,
    "start_time": "2022-05-02T22:27:31.639Z"
   },
   {
    "duration": 2,
    "start_time": "2022-05-02T22:27:35.750Z"
   },
   {
    "duration": 4,
    "start_time": "2022-05-02T22:27:37.864Z"
   },
   {
    "duration": 3,
    "start_time": "2022-05-02T22:27:41.106Z"
   },
   {
    "duration": 4,
    "start_time": "2022-05-02T22:27:42.944Z"
   },
   {
    "duration": 3,
    "start_time": "2022-05-02T22:27:49.204Z"
   },
   {
    "duration": 4,
    "start_time": "2022-05-02T22:27:50.145Z"
   },
   {
    "duration": 3,
    "start_time": "2022-05-02T22:29:45.986Z"
   },
   {
    "duration": 5,
    "start_time": "2022-05-02T22:29:46.959Z"
   },
   {
    "duration": 160,
    "start_time": "2022-05-02T22:30:18.169Z"
   },
   {
    "duration": 3,
    "start_time": "2022-05-02T22:30:22.577Z"
   },
   {
    "duration": 3,
    "start_time": "2022-05-02T22:30:23.509Z"
   },
   {
    "duration": 4,
    "start_time": "2022-05-02T22:30:26.909Z"
   },
   {
    "duration": 4,
    "start_time": "2022-05-02T22:30:32.533Z"
   },
   {
    "duration": 133,
    "start_time": "2022-05-02T22:32:10.751Z"
   },
   {
    "duration": 3,
    "start_time": "2022-05-02T22:32:15.509Z"
   },
   {
    "duration": 4,
    "start_time": "2022-05-02T22:32:20.141Z"
   },
   {
    "duration": 3,
    "start_time": "2022-05-02T22:32:23.983Z"
   },
   {
    "duration": 5,
    "start_time": "2022-05-02T22:32:28.017Z"
   },
   {
    "duration": 4,
    "start_time": "2022-05-02T22:32:32.625Z"
   },
   {
    "duration": 6,
    "start_time": "2022-05-02T22:32:34.567Z"
   },
   {
    "duration": 3,
    "start_time": "2022-05-02T22:32:37.865Z"
   },
   {
    "duration": 18,
    "start_time": "2022-05-02T22:32:38.840Z"
   },
   {
    "duration": 5,
    "start_time": "2022-05-02T22:33:39.523Z"
   },
   {
    "duration": 4,
    "start_time": "2022-05-02T22:33:45.030Z"
   },
   {
    "duration": 3,
    "start_time": "2022-05-02T22:33:46.441Z"
   },
   {
    "duration": 5,
    "start_time": "2022-05-02T22:33:53.197Z"
   },
   {
    "duration": 4,
    "start_time": "2022-05-02T22:34:05.107Z"
   },
   {
    "duration": 7,
    "start_time": "2022-05-02T22:34:20.573Z"
   },
   {
    "duration": 14,
    "start_time": "2022-05-02T22:34:22.080Z"
   },
   {
    "duration": 4,
    "start_time": "2022-05-02T22:34:44.068Z"
   },
   {
    "duration": 3,
    "start_time": "2022-05-02T22:34:47.612Z"
   },
   {
    "duration": 4,
    "start_time": "2022-05-02T22:34:48.444Z"
   },
   {
    "duration": 4,
    "start_time": "2022-05-02T22:34:50.494Z"
   },
   {
    "duration": 7,
    "start_time": "2022-05-02T22:46:41.215Z"
   },
   {
    "duration": 12,
    "start_time": "2022-05-02T22:47:41.243Z"
   },
   {
    "duration": 3,
    "start_time": "2022-05-02T22:47:42.080Z"
   },
   {
    "duration": 1557,
    "start_time": "2022-05-07T14:00:38.457Z"
   },
   {
    "duration": 12,
    "start_time": "2022-05-07T14:00:46.312Z"
   },
   {
    "duration": 14,
    "start_time": "2022-05-07T14:00:48.860Z"
   },
   {
    "duration": 7,
    "start_time": "2022-05-07T14:02:19.448Z"
   },
   {
    "duration": 3139,
    "start_time": "2022-05-07T14:04:36.753Z"
   },
   {
    "duration": 3335,
    "start_time": "2022-05-07T14:09:23.620Z"
   },
   {
    "duration": 5,
    "start_time": "2022-05-07T14:16:07.815Z"
   },
   {
    "duration": 3,
    "start_time": "2022-05-07T14:16:08.820Z"
   },
   {
    "duration": 10,
    "start_time": "2022-05-07T14:16:12.722Z"
   },
   {
    "duration": 6,
    "start_time": "2022-05-07T16:09:19.400Z"
   },
   {
    "duration": 5,
    "start_time": "2022-05-07T16:09:21.294Z"
   },
   {
    "duration": 4,
    "start_time": "2022-05-07T16:10:21.141Z"
   },
   {
    "duration": 5,
    "start_time": "2022-05-07T16:10:39.240Z"
   },
   {
    "duration": 5,
    "start_time": "2022-05-07T16:10:42.240Z"
   },
   {
    "duration": 5,
    "start_time": "2022-05-07T16:10:43.794Z"
   },
   {
    "duration": 5,
    "start_time": "2022-05-07T16:10:46.780Z"
   },
   {
    "duration": 4,
    "start_time": "2022-05-07T16:13:20.272Z"
   },
   {
    "duration": 5,
    "start_time": "2022-05-07T16:13:25.108Z"
   },
   {
    "duration": 5,
    "start_time": "2022-05-07T16:13:39.301Z"
   },
   {
    "duration": 4,
    "start_time": "2022-05-07T16:15:00.408Z"
   },
   {
    "duration": 5,
    "start_time": "2022-05-07T16:15:01.897Z"
   },
   {
    "duration": 2,
    "start_time": "2022-05-07T16:15:15.381Z"
   },
   {
    "duration": 4,
    "start_time": "2022-05-07T16:15:16.340Z"
   },
   {
    "duration": 5,
    "start_time": "2022-05-07T16:15:17.059Z"
   },
   {
    "duration": 2,
    "start_time": "2022-05-07T16:15:33.365Z"
   },
   {
    "duration": 224,
    "start_time": "2022-05-07T16:15:34.632Z"
   },
   {
    "duration": 6,
    "start_time": "2022-05-07T16:16:28.069Z"
   },
   {
    "duration": 6,
    "start_time": "2022-05-07T16:16:30.254Z"
   },
   {
    "duration": 2,
    "start_time": "2022-05-07T16:16:33.441Z"
   },
   {
    "duration": 125,
    "start_time": "2022-05-07T16:16:36.300Z"
   },
   {
    "duration": 8,
    "start_time": "2022-05-07T16:17:10.393Z"
   },
   {
    "duration": 3,
    "start_time": "2022-05-07T16:17:15.862Z"
   },
   {
    "duration": 116,
    "start_time": "2022-05-07T16:17:18.534Z"
   },
   {
    "duration": 4,
    "start_time": "2022-05-07T16:17:44.241Z"
   },
   {
    "duration": 2,
    "start_time": "2022-05-07T16:17:48.578Z"
   },
   {
    "duration": 3,
    "start_time": "2022-05-07T16:17:50.212Z"
   },
   {
    "duration": 4,
    "start_time": "2022-05-07T16:18:13.780Z"
   },
   {
    "duration": 4,
    "start_time": "2022-05-07T16:18:17.051Z"
   },
   {
    "duration": 166,
    "start_time": "2022-05-07T16:18:47.576Z"
   },
   {
    "duration": 3,
    "start_time": "2022-05-07T16:20:21.208Z"
   },
   {
    "duration": 6,
    "start_time": "2022-05-07T16:25:43.090Z"
   },
   {
    "duration": 5,
    "start_time": "2022-05-07T16:25:45.440Z"
   },
   {
    "duration": 10,
    "start_time": "2022-05-07T16:25:47.480Z"
   },
   {
    "duration": 2,
    "start_time": "2022-05-07T16:25:53.929Z"
   },
   {
    "duration": 4,
    "start_time": "2022-05-07T16:25:55.285Z"
   },
   {
    "duration": 3,
    "start_time": "2022-05-07T16:25:59.009Z"
   },
   {
    "duration": 5,
    "start_time": "2022-05-07T16:26:00.489Z"
   },
   {
    "duration": 3,
    "start_time": "2022-05-07T16:44:43.642Z"
   },
   {
    "duration": 5,
    "start_time": "2022-05-07T16:44:45.180Z"
   },
   {
    "duration": 4,
    "start_time": "2022-05-07T16:44:47.300Z"
   },
   {
    "duration": 4,
    "start_time": "2022-05-07T16:44:49.607Z"
   },
   {
    "duration": 108,
    "start_time": "2022-05-07T16:44:54.620Z"
   },
   {
    "duration": 3,
    "start_time": "2022-05-07T16:51:51.543Z"
   },
   {
    "duration": 9,
    "start_time": "2022-05-07T16:51:54.676Z"
   },
   {
    "duration": 5,
    "start_time": "2022-05-07T16:51:58.803Z"
   },
   {
    "duration": 5,
    "start_time": "2022-05-07T16:52:03.744Z"
   },
   {
    "duration": 129,
    "start_time": "2022-05-07T16:52:05.852Z"
   },
   {
    "duration": 4,
    "start_time": "2022-05-07T16:52:30.574Z"
   },
   {
    "duration": 11,
    "start_time": "2022-05-07T16:52:52.569Z"
   },
   {
    "duration": 3,
    "start_time": "2022-05-07T16:52:56.912Z"
   },
   {
    "duration": 8,
    "start_time": "2022-05-07T17:54:23.264Z"
   },
   {
    "duration": 5,
    "start_time": "2022-05-07T17:54:28.037Z"
   },
   {
    "duration": 4,
    "start_time": "2022-05-07T17:54:30.813Z"
   },
   {
    "duration": 3,
    "start_time": "2022-05-07T17:54:32.061Z"
   },
   {
    "duration": 4,
    "start_time": "2022-05-07T17:54:33.377Z"
   },
   {
    "duration": 5,
    "start_time": "2022-05-07T17:55:43.244Z"
   },
   {
    "duration": 4,
    "start_time": "2022-05-07T17:55:44.064Z"
   },
   {
    "duration": 4,
    "start_time": "2022-05-07T17:55:45.448Z"
   },
   {
    "duration": 2,
    "start_time": "2022-05-07T17:57:03.665Z"
   },
   {
    "duration": 10,
    "start_time": "2022-05-07T17:57:31.429Z"
   },
   {
    "duration": 6,
    "start_time": "2022-05-07T17:57:40.890Z"
   },
   {
    "duration": 5,
    "start_time": "2022-05-07T17:57:43.703Z"
   },
   {
    "duration": 5,
    "start_time": "2022-05-07T17:57:44.439Z"
   },
   {
    "duration": 4,
    "start_time": "2022-05-07T17:57:45.324Z"
   },
   {
    "duration": 7,
    "start_time": "2022-05-07T18:15:17.271Z"
   },
   {
    "duration": 81,
    "start_time": "2022-05-07T18:15:19.295Z"
   },
   {
    "duration": 9,
    "start_time": "2022-05-07T18:15:22.246Z"
   },
   {
    "duration": 4,
    "start_time": "2022-05-07T18:15:27.838Z"
   },
   {
    "duration": 4,
    "start_time": "2022-05-07T18:15:29.830Z"
   },
   {
    "duration": 3,
    "start_time": "2022-05-07T18:15:39.854Z"
   },
   {
    "duration": 13,
    "start_time": "2022-05-07T18:15:40.858Z"
   },
   {
    "duration": 9,
    "start_time": "2022-05-07T18:15:42.651Z"
   },
   {
    "duration": 5,
    "start_time": "2022-05-07T18:15:47.138Z"
   },
   {
    "duration": 3,
    "start_time": "2022-05-07T18:16:26.919Z"
   },
   {
    "duration": 4,
    "start_time": "2022-05-07T18:17:54.411Z"
   },
   {
    "duration": 2,
    "start_time": "2022-05-07T18:17:56.294Z"
   },
   {
    "duration": 14,
    "start_time": "2022-05-07T18:17:58.939Z"
   },
   {
    "duration": 4,
    "start_time": "2022-05-07T18:18:00.092Z"
   },
   {
    "duration": 4,
    "start_time": "2022-05-07T18:18:03.472Z"
   },
   {
    "duration": 4,
    "start_time": "2022-05-07T18:18:04.852Z"
   },
   {
    "duration": 7,
    "start_time": "2022-05-07T18:18:05.812Z"
   },
   {
    "duration": 5,
    "start_time": "2022-05-07T18:18:08.731Z"
   },
   {
    "duration": 13,
    "start_time": "2022-05-07T18:18:23.975Z"
   },
   {
    "duration": 6,
    "start_time": "2022-05-07T18:18:45.419Z"
   },
   {
    "duration": 2,
    "start_time": "2022-05-07T18:18:48.820Z"
   },
   {
    "duration": 68,
    "start_time": "2022-05-07T18:18:49.591Z"
   },
   {
    "duration": 14,
    "start_time": "2022-05-07T18:18:53.272Z"
   },
   {
    "duration": 11,
    "start_time": "2022-05-07T18:18:54.312Z"
   },
   {
    "duration": 5,
    "start_time": "2022-05-07T18:19:09.692Z"
   },
   {
    "duration": 2138,
    "start_time": "2022-05-08T07:16:14.065Z"
   },
   {
    "duration": 26,
    "start_time": "2022-05-08T07:16:19.745Z"
   },
   {
    "duration": 21,
    "start_time": "2022-05-08T07:16:21.477Z"
   },
   {
    "duration": 17,
    "start_time": "2022-05-08T07:16:26.284Z"
   },
   {
    "duration": 32,
    "start_time": "2022-05-08T07:16:31.078Z"
   },
   {
    "duration": 10,
    "start_time": "2022-05-08T07:16:35.007Z"
   },
   {
    "duration": 12,
    "start_time": "2022-05-08T07:16:36.585Z"
   },
   {
    "duration": 6335,
    "start_time": "2022-05-08T07:16:41.078Z"
   },
   {
    "duration": 365,
    "start_time": "2022-05-08T07:16:54.717Z"
   },
   {
    "duration": 7,
    "start_time": "2022-05-08T07:16:58.325Z"
   },
   {
    "duration": 6,
    "start_time": "2022-05-08T07:17:01.925Z"
   },
   {
    "duration": 17,
    "start_time": "2022-05-08T07:17:04.913Z"
   },
   {
    "duration": 167,
    "start_time": "2022-05-08T07:51:39.161Z"
   },
   {
    "duration": 6,
    "start_time": "2022-05-08T07:51:53.954Z"
   },
   {
    "duration": 8,
    "start_time": "2022-05-08T07:53:58.341Z"
   },
   {
    "duration": 5,
    "start_time": "2022-05-08T07:54:20.162Z"
   },
   {
    "duration": 14,
    "start_time": "2022-05-08T07:54:26.349Z"
   },
   {
    "duration": 8,
    "start_time": "2022-05-08T07:55:38.283Z"
   },
   {
    "duration": 4,
    "start_time": "2022-05-08T07:57:50.282Z"
   },
   {
    "duration": 11,
    "start_time": "2022-05-08T07:57:52.943Z"
   },
   {
    "duration": 8,
    "start_time": "2022-05-08T07:58:06.871Z"
   },
   {
    "duration": 4,
    "start_time": "2022-05-08T07:58:18.270Z"
   },
   {
    "duration": 10,
    "start_time": "2022-05-08T07:58:19.294Z"
   },
   {
    "duration": 10,
    "start_time": "2022-05-08T07:58:45.134Z"
   },
   {
    "duration": 8,
    "start_time": "2022-05-08T07:59:19.043Z"
   },
   {
    "duration": 10,
    "start_time": "2022-05-08T07:59:34.154Z"
   },
   {
    "duration": 9,
    "start_time": "2022-05-08T07:59:50.422Z"
   },
   {
    "duration": 6,
    "start_time": "2022-05-08T08:00:06.762Z"
   },
   {
    "duration": 22,
    "start_time": "2022-05-08T08:01:48.822Z"
   },
   {
    "duration": 5,
    "start_time": "2022-05-08T08:03:01.802Z"
   },
   {
    "duration": 10,
    "start_time": "2022-05-08T08:03:03.242Z"
   },
   {
    "duration": 10,
    "start_time": "2022-05-08T08:03:22.782Z"
   },
   {
    "duration": 6,
    "start_time": "2022-05-08T08:03:30.374Z"
   },
   {
    "duration": 6,
    "start_time": "2022-05-08T09:56:24.298Z"
   },
   {
    "duration": 8,
    "start_time": "2022-05-08T09:56:28.958Z"
   },
   {
    "duration": 1836,
    "start_time": "2022-05-08T10:48:19.054Z"
   },
   {
    "duration": 15,
    "start_time": "2022-05-08T10:48:20.893Z"
   },
   {
    "duration": 21,
    "start_time": "2022-05-08T10:48:22.388Z"
   },
   {
    "duration": 17,
    "start_time": "2022-05-08T10:48:24.626Z"
   },
   {
    "duration": 32,
    "start_time": "2022-05-08T10:48:26.939Z"
   },
   {
    "duration": 10,
    "start_time": "2022-05-08T10:48:29.059Z"
   },
   {
    "duration": 13,
    "start_time": "2022-05-08T10:48:30.819Z"
   },
   {
    "duration": 5709,
    "start_time": "2022-05-08T10:48:33.399Z"
   },
   {
    "duration": 388,
    "start_time": "2022-05-08T10:48:44.387Z"
   },
   {
    "duration": 7,
    "start_time": "2022-05-08T10:48:47.751Z"
   },
   {
    "duration": 5,
    "start_time": "2022-05-08T10:48:51.367Z"
   },
   {
    "duration": 16,
    "start_time": "2022-05-08T10:48:54.126Z"
   },
   {
    "duration": 4,
    "start_time": "2022-05-08T10:51:59.275Z"
   },
   {
    "duration": 159,
    "start_time": "2022-05-08T10:51:59.926Z"
   },
   {
    "duration": 5,
    "start_time": "2022-05-08T10:52:12.318Z"
   },
   {
    "duration": 7,
    "start_time": "2022-05-08T10:52:17.787Z"
   },
   {
    "duration": 8,
    "start_time": "2022-05-08T10:52:19.876Z"
   },
   {
    "duration": 5,
    "start_time": "2022-05-08T10:52:22.741Z"
   },
   {
    "duration": 15,
    "start_time": "2022-05-08T10:52:24.467Z"
   },
   {
    "duration": 5,
    "start_time": "2022-05-08T10:53:26.668Z"
   },
   {
    "duration": 4,
    "start_time": "2022-05-08T10:54:04.036Z"
   },
   {
    "duration": 11,
    "start_time": "2022-05-08T10:54:05.082Z"
   },
   {
    "duration": 11,
    "start_time": "2022-05-08T10:54:07.148Z"
   },
   {
    "duration": 12,
    "start_time": "2022-05-08T10:54:09.684Z"
   },
   {
    "duration": 6,
    "start_time": "2022-05-08T10:54:15.679Z"
   },
   {
    "duration": 19,
    "start_time": "2022-05-08T10:55:10.774Z"
   },
   {
    "duration": 8,
    "start_time": "2022-05-08T10:55:29.348Z"
   },
   {
    "duration": 22,
    "start_time": "2022-05-08T11:14:09.243Z"
   },
   {
    "duration": 14,
    "start_time": "2022-05-08T11:15:09.519Z"
   },
   {
    "duration": 18,
    "start_time": "2022-05-08T11:15:16.271Z"
   },
   {
    "duration": 15,
    "start_time": "2022-05-08T11:16:00.789Z"
   },
   {
    "duration": 4,
    "start_time": "2022-05-08T11:16:43.681Z"
   },
   {
    "duration": 20,
    "start_time": "2022-05-08T11:16:46.071Z"
   },
   {
    "duration": 74,
    "start_time": "2022-05-08T11:17:10.182Z"
   },
   {
    "duration": 4,
    "start_time": "2022-05-08T11:17:32.090Z"
   },
   {
    "duration": 74,
    "start_time": "2022-05-08T11:17:33.404Z"
   },
   {
    "duration": 15,
    "start_time": "2022-05-08T11:55:52.605Z"
   },
   {
    "duration": 14,
    "start_time": "2022-05-08T11:56:01.031Z"
   },
   {
    "duration": 1631,
    "start_time": "2022-05-08T17:42:49.321Z"
   },
   {
    "duration": 14,
    "start_time": "2022-05-08T17:43:11.643Z"
   },
   {
    "duration": 17,
    "start_time": "2022-05-08T17:43:12.873Z"
   },
   {
    "duration": 13,
    "start_time": "2022-05-08T17:43:13.545Z"
   },
   {
    "duration": 24,
    "start_time": "2022-05-08T17:43:15.159Z"
   },
   {
    "duration": 6,
    "start_time": "2022-05-08T17:43:16.253Z"
   },
   {
    "duration": 14,
    "start_time": "2022-05-08T17:43:17.253Z"
   },
   {
    "duration": 4111,
    "start_time": "2022-05-08T17:43:23.105Z"
   },
   {
    "duration": 255,
    "start_time": "2022-05-08T17:43:30.633Z"
   },
   {
    "duration": 6,
    "start_time": "2022-05-08T17:43:31.195Z"
   },
   {
    "duration": 4,
    "start_time": "2022-05-08T17:43:32.485Z"
   },
   {
    "duration": 12,
    "start_time": "2022-05-08T17:43:33.142Z"
   },
   {
    "duration": 4,
    "start_time": "2022-05-08T17:43:38.293Z"
   },
   {
    "duration": 119,
    "start_time": "2022-05-08T17:44:19.353Z"
   },
   {
    "duration": 3,
    "start_time": "2022-05-08T17:44:56.421Z"
   },
   {
    "duration": 5,
    "start_time": "2022-05-08T17:45:01.270Z"
   },
   {
    "duration": 5,
    "start_time": "2022-05-08T17:45:03.330Z"
   },
   {
    "duration": 6,
    "start_time": "2022-05-08T17:45:04.869Z"
   },
   {
    "duration": 4,
    "start_time": "2022-05-08T17:45:14.709Z"
   },
   {
    "duration": 10,
    "start_time": "2022-05-08T17:45:20.649Z"
   },
   {
    "duration": 3,
    "start_time": "2022-05-08T17:45:37.408Z"
   },
   {
    "duration": 9,
    "start_time": "2022-05-08T17:45:39.302Z"
   },
   {
    "duration": 11,
    "start_time": "2022-05-08T17:46:06.389Z"
   },
   {
    "duration": 5,
    "start_time": "2022-05-08T17:46:18.361Z"
   },
   {
    "duration": 10,
    "start_time": "2022-05-08T17:47:24.798Z"
   },
   {
    "duration": 4,
    "start_time": "2022-05-08T17:47:34.989Z"
   },
   {
    "duration": 3,
    "start_time": "2022-05-08T17:47:46.341Z"
   },
   {
    "duration": 58,
    "start_time": "2022-05-08T17:48:23.582Z"
   },
   {
    "duration": 53,
    "start_time": "2022-05-08T17:48:25.309Z"
   },
   {
    "duration": 3,
    "start_time": "2022-05-08T18:32:51.515Z"
   },
   {
    "duration": 9,
    "start_time": "2022-05-08T18:32:52.429Z"
   },
   {
    "duration": 10,
    "start_time": "2022-05-08T18:33:14.594Z"
   },
   {
    "duration": 5,
    "start_time": "2022-05-08T18:33:15.766Z"
   },
   {
    "duration": 75,
    "start_time": "2022-05-09T06:27:32.568Z"
   },
   {
    "duration": 2109,
    "start_time": "2022-05-09T06:40:14.789Z"
   },
   {
    "duration": 15,
    "start_time": "2022-05-09T06:40:16.901Z"
   },
   {
    "duration": 35,
    "start_time": "2022-05-09T06:40:16.918Z"
   },
   {
    "duration": 17,
    "start_time": "2022-05-09T06:40:16.955Z"
   },
   {
    "duration": 32,
    "start_time": "2022-05-09T06:40:16.975Z"
   },
   {
    "duration": 7,
    "start_time": "2022-05-09T06:40:17.009Z"
   },
   {
    "duration": 44,
    "start_time": "2022-05-09T06:40:17.019Z"
   },
   {
    "duration": 5883,
    "start_time": "2022-05-09T06:40:17.065Z"
   },
   {
    "duration": 394,
    "start_time": "2022-05-09T06:40:22.951Z"
   },
   {
    "duration": 7,
    "start_time": "2022-05-09T06:40:23.347Z"
   },
   {
    "duration": 10,
    "start_time": "2022-05-09T06:40:23.356Z"
   },
   {
    "duration": 29,
    "start_time": "2022-05-09T06:40:23.368Z"
   },
   {
    "duration": 7,
    "start_time": "2022-05-09T06:40:23.400Z"
   },
   {
    "duration": 16,
    "start_time": "2022-05-09T06:40:23.411Z"
   },
   {
    "duration": 22,
    "start_time": "2022-05-09T06:40:23.430Z"
   },
   {
    "duration": 8,
    "start_time": "2022-05-09T06:40:23.454Z"
   },
   {
    "duration": 5,
    "start_time": "2022-05-09T06:40:23.465Z"
   },
   {
    "duration": 10,
    "start_time": "2022-05-09T06:40:23.551Z"
   },
   {
    "duration": 9,
    "start_time": "2022-05-09T06:40:23.564Z"
   },
   {
    "duration": 13,
    "start_time": "2022-05-09T06:40:23.653Z"
   },
   {
    "duration": 37,
    "start_time": "2022-05-09T06:40:23.668Z"
   },
   {
    "duration": 51,
    "start_time": "2022-05-09T06:40:23.707Z"
   },
   {
    "duration": 1831,
    "start_time": "2022-05-09T06:59:16.441Z"
   },
   {
    "duration": 15,
    "start_time": "2022-05-09T06:59:18.275Z"
   },
   {
    "duration": 20,
    "start_time": "2022-05-09T06:59:18.292Z"
   },
   {
    "duration": 15,
    "start_time": "2022-05-09T06:59:18.314Z"
   },
   {
    "duration": 49,
    "start_time": "2022-05-09T06:59:18.331Z"
   },
   {
    "duration": 7,
    "start_time": "2022-05-09T06:59:18.382Z"
   },
   {
    "duration": 11,
    "start_time": "2022-05-09T06:59:18.391Z"
   },
   {
    "duration": 5827,
    "start_time": "2022-05-09T06:59:18.405Z"
   },
   {
    "duration": 360,
    "start_time": "2022-05-09T06:59:24.235Z"
   },
   {
    "duration": 7,
    "start_time": "2022-05-09T06:59:24.599Z"
   },
   {
    "duration": 5,
    "start_time": "2022-05-09T06:59:24.608Z"
   },
   {
    "duration": 37,
    "start_time": "2022-05-09T06:59:24.615Z"
   },
   {
    "duration": 5,
    "start_time": "2022-05-09T06:59:24.654Z"
   },
   {
    "duration": 12,
    "start_time": "2022-05-09T06:59:24.661Z"
   },
   {
    "duration": 5,
    "start_time": "2022-05-09T06:59:24.675Z"
   },
   {
    "duration": 9,
    "start_time": "2022-05-09T06:59:24.682Z"
   },
   {
    "duration": 61,
    "start_time": "2022-05-09T06:59:24.693Z"
   },
   {
    "duration": 14,
    "start_time": "2022-05-09T06:59:24.757Z"
   },
   {
    "duration": 4,
    "start_time": "2022-05-09T06:59:24.852Z"
   },
   {
    "duration": 7,
    "start_time": "2022-05-09T06:59:24.858Z"
   },
   {
    "duration": 39,
    "start_time": "2022-05-09T06:59:24.867Z"
   },
   {
    "duration": 64,
    "start_time": "2022-05-09T06:59:24.908Z"
   },
   {
    "duration": 156,
    "start_time": "2022-05-10T06:33:13.179Z"
   },
   {
    "duration": 2281,
    "start_time": "2022-05-10T06:34:22.021Z"
   },
   {
    "duration": 16,
    "start_time": "2022-05-10T06:34:24.305Z"
   },
   {
    "duration": 22,
    "start_time": "2022-05-10T06:34:24.325Z"
   },
   {
    "duration": 17,
    "start_time": "2022-05-10T06:34:24.349Z"
   },
   {
    "duration": 65,
    "start_time": "2022-05-10T06:34:24.369Z"
   },
   {
    "duration": 8,
    "start_time": "2022-05-10T06:34:24.436Z"
   },
   {
    "duration": 14,
    "start_time": "2022-05-10T06:34:24.445Z"
   },
   {
    "duration": 5860,
    "start_time": "2022-05-10T06:34:24.461Z"
   },
   {
    "duration": 492,
    "start_time": "2022-05-10T06:34:30.324Z"
   },
   {
    "duration": 11,
    "start_time": "2022-05-10T06:34:30.818Z"
   },
   {
    "duration": 10,
    "start_time": "2022-05-10T06:34:30.831Z"
   },
   {
    "duration": 21,
    "start_time": "2022-05-10T06:34:30.843Z"
   },
   {
    "duration": 5,
    "start_time": "2022-05-10T06:34:30.867Z"
   },
   {
    "duration": 23,
    "start_time": "2022-05-10T06:34:30.876Z"
   },
   {
    "duration": 25,
    "start_time": "2022-05-10T06:34:30.902Z"
   },
   {
    "duration": 15,
    "start_time": "2022-05-10T06:34:30.929Z"
   },
   {
    "duration": 79,
    "start_time": "2022-05-10T06:34:30.946Z"
   },
   {
    "duration": 19,
    "start_time": "2022-05-10T06:34:31.027Z"
   },
   {
    "duration": 90,
    "start_time": "2022-05-10T06:34:31.048Z"
   },
   {
    "duration": 22,
    "start_time": "2022-05-10T06:34:31.141Z"
   },
   {
    "duration": 46,
    "start_time": "2022-05-10T06:34:31.166Z"
   },
   {
    "duration": 39,
    "start_time": "2022-05-10T06:34:31.214Z"
   },
   {
    "duration": 131,
    "start_time": "2022-05-10T11:27:02.571Z"
   }
  ],
  "kernelspec": {
   "display_name": "Python 3 (ipykernel)",
   "language": "python",
   "name": "python3"
  },
  "language_info": {
   "codemirror_mode": {
    "name": "ipython",
    "version": 3
   },
   "file_extension": ".py",
   "mimetype": "text/x-python",
   "name": "python",
   "nbconvert_exporter": "python",
   "pygments_lexer": "ipython3",
   "version": "3.9.12"
  },
  "toc": {
   "base_numbering": 1,
   "nav_menu": {},
   "number_sections": true,
   "sideBar": true,
   "skip_h1_title": true,
   "title_cell": "Содержание",
   "title_sidebar": "Contents",
   "toc_cell": true,
   "toc_position": {
    "height": "calc(100% - 180px)",
    "left": "10px",
    "top": "150px",
    "width": "289.6px"
   },
   "toc_section_display": true,
   "toc_window_display": true
  }
 },
 "nbformat": 4,
 "nbformat_minor": 2
}
