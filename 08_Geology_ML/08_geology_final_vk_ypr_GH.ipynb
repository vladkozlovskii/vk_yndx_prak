{
 "cells": [
  {
   "cell_type": "markdown",
   "metadata": {},
   "source": [
    "Этот проект небольшой по объему, но по пониманию некоторых вещей (да и просто задания) сложнее многих объемных. При выполнении смотрел в тренажер и впервые смотрел в каналы в слаке (т.к. некоторые вещи в задании базово не понял). В итоге кажется, что понимание появилось по ходу выполнения (хотя возможно совершил какие-то принципиальные ошибки), ну и результат выглядит немного странно, как и вобщем данные по второму региону."
   ]
  },
  {
   "cell_type": "markdown",
   "metadata": {},
   "source": [
    "# Выбор локации для скважины"
   ]
  },
  {
   "cell_type": "markdown",
   "metadata": {},
   "source": [
    "Допустим, вы работаете в добывающей компании «ГлавРосГосНефть». Нужно решить, где бурить новую скважину.\n",
    "\n",
    "Вам предоставлены пробы нефти в трёх регионах: в каждом 10 000 месторождений, где измерили качество нефти и объём её запасов. Постройте модель машинного обучения, которая поможет определить регион, где добыча принесёт наибольшую прибыль. Проанализируйте возможную прибыль и риски техникой *Bootstrap.*\n",
    "\n",
    "Шаги для выбора локации:\n",
    "\n",
    "- В избранном регионе ищут месторождения, для каждого определяют значения признаков;\n",
    "- Строят модель и оценивают объём запасов;\n",
    "- Выбирают месторождения с самым высокими оценками значений. Количество месторождений зависит от бюджета компании и стоимости разработки одной скважины;\n",
    "- Прибыль равна суммарной прибыли отобранных месторождений."
   ]
  },
  {
   "cell_type": "markdown",
   "metadata": {},
   "source": [
    "# Исходные данные\n",
    "Данные геологоразведки трёх регионов находятся в трех файлах.\n",
    "- id — уникальный идентификатор скважины;\n",
    "- f0, f1, f2 — три признака точек (неважно, что они означают, но сами признаки значимы);\n",
    "- product — объём запасов в скважине (тыс. баррелей)."
   ]
  },
  {
   "cell_type": "markdown",
   "metadata": {},
   "source": [
    "# Схема исследования\n",
    "- [Шаг 1. Загрузка и подготовка данных](#step_1)\n",
    "- [Шаг 2. Обучение и проверка модели](#step_2)\n",
    "- [Шаг 3. Подготовка к расчёту прибыли](#step_3)\n",
    "- [Шаг 4. Расчёт прибыли и рисков](#step_4)\n",
    "\n",
    "Инструкция по выполнению проекта\n",
    "1.\tЗагрузите и подготовьте данные. Поясните порядок действий.\n",
    "2.\tОбучите и проверьте модель для каждого региона:\n",
    "- Разбейте данные на обучающую и валидационную выборки в соотношении 75:25.\n",
    "- Обучите модель и сделайте предсказания на валидационной выборке.\n",
    "- Сохраните предсказания и правильные ответы на валидационной выборке.\n",
    "- Напечатайте на экране средний запас предсказанного сырья и RMSE модели.\n",
    "- Проанализируйте результаты.\n",
    "3.\tПодготовьтесь к расчёту прибыли:\n",
    "- Все ключевые значения для расчётов сохраните в отдельных переменных.\n",
    "- Рассчитайте достаточный объём сырья для безубыточной разработки новой скважины. Сравните полученный объём сырья со средним запасом в каждом регионе.\n",
    "- Напишите выводы по этапу подготовки расчёта прибыли.\n",
    "4.\tНапишите функцию для расчёта прибыли по выбранным скважинам и предсказаниям модели:\n",
    "- Выберите скважины с максимальными значениями предсказаний.\n",
    "- Просуммируйте целевое значение объёма сырья, соответствующее этим предсказаниям.\n",
    "- Рассчитайте прибыль для полученного объёма сырья.\n",
    "5.\tПосчитайте риски и прибыль для каждого региона:\n",
    "- Примените технику Bootstrap с 1000 выборок, чтобы найти распределение прибыли.\n",
    "- Найдите среднюю прибыль, 95%-й доверительный интервал и риск убытков. Убыток — это отрицательная прибыль.\n",
    "- Напишите выводы: предложите регион для разработки скважин и обоснуйте выбор.\n"
   ]
  },
  {
   "cell_type": "markdown",
   "metadata": {},
   "source": [
    "<a id='step_1'></a>\n",
    "## Загрузка и подготовка данных"
   ]
  },
  {
   "cell_type": "code",
   "execution_count": 1,
   "metadata": {},
   "outputs": [],
   "source": [
    "# ячейка импорта\n",
    "import pandas as pd\n",
    "import matplotlib.pyplot as plt  # для построения графиков\n",
    "import seaborn as sns            # для построения графиков\n",
    "import warnings                  # добавил чтобы убирать предупреждения\n",
    "\n",
    "\n",
    "from sklearn.preprocessing import OrdinalEncoder     # для преобразование категориальных признаков в численные\n",
    "from sklearn.preprocessing import StandardScaler     # для масштабирования\n",
    "from sklearn.model_selection import train_test_split  # для разбиения на выборки\n",
    "\n",
    "# модели\n",
    "from sklearn.tree import DecisionTreeClassifier      # модель решающего дерева\n",
    "from sklearn.ensemble import RandomForestClassifier  # модель случайного леса\n",
    "from sklearn.linear_model import LogisticRegression  # модель логистической регрессии\n",
    "from sklearn.neighbors import KNeighborsClassifier    # модель k-ближайших соседей\n",
    "\n",
    "# модели\n",
    "from sklearn.linear_model import LinearRegression   # модель линейной регрессии\n",
    "from sklearn.ensemble import RandomForestRegressor  # на всякий случай \n",
    "from sklearn.tree import DecisionTreeRegressor      # на всякий случай \n",
    "from sklearn.metrics import mean_squared_error      # для расчета MSE\n",
    "\n",
    "\n",
    "from sklearn.model_selection import GridSearchCV   # для того чтобы попробовать применить GridSearchCV\n",
    "import numpy as np                                 # для того чтобы попробовать перебрать пороги вероятностей\n",
    "\n",
    "\n",
    "pd.options.display.float_format = '{:,.2f}'.format  # форматирование числа разрядов после запятой "
   ]
  },
  {
   "cell_type": "code",
   "execution_count": null,
   "metadata": {},
   "outputs": [],
   "source": [
    "# открытие файла (на случай если буду открывать вне тренажера, прописал альтернативный путь)\n",
    "try:\n",
    "    data0 = pd.read_csv('/datasets/geo_data_0.csv')\n",
    "    data1 = pd.read_csv('/datasets/geo_data_1.csv')\n",
    "    data2 = pd.read_csv('/datasets/geo_data_2.csv')\n",
    "    \n",
    "except:\n",
    "    data_path = 'C:/Users/v.kozlovskiy/Desktop/LRN_on_desk/10/'\n",
    "    data = pd.read_csv(data_path + 'Churn.csv')\n",
    "    data0 = pd.read_csv(data_path + 'geo_data_0.csv')\n",
    "    data1 = pd.read_csv(data_path + 'geo_data_1.csv')\n",
    "    data2 = pd.read_csv(data_path + 'geo_data_2.csv')\n",
    "    "
   ]
  },
  {
   "cell_type": "code",
   "execution_count": 3,
   "metadata": {},
   "outputs": [],
   "source": [
    "datas = [data0, data1, data2]"
   ]
  },
  {
   "cell_type": "code",
   "execution_count": 4,
   "metadata": {},
   "outputs": [
    {
     "name": "stdout",
     "output_type": "stream",
     "text": [
      "<class 'pandas.core.frame.DataFrame'>\n",
      "RangeIndex: 100000 entries, 0 to 99999\n",
      "Data columns (total 5 columns):\n",
      " #   Column   Non-Null Count   Dtype  \n",
      "---  ------   --------------   -----  \n",
      " 0   id       100000 non-null  object \n",
      " 1   f0       100000 non-null  float64\n",
      " 2   f1       100000 non-null  float64\n",
      " 3   f2       100000 non-null  float64\n",
      " 4   product  100000 non-null  float64\n",
      "dtypes: float64(4), object(1)\n",
      "memory usage: 3.8+ MB\n",
      "<class 'pandas.core.frame.DataFrame'>\n",
      "RangeIndex: 100000 entries, 0 to 99999\n",
      "Data columns (total 5 columns):\n",
      " #   Column   Non-Null Count   Dtype  \n",
      "---  ------   --------------   -----  \n",
      " 0   id       100000 non-null  object \n",
      " 1   f0       100000 non-null  float64\n",
      " 2   f1       100000 non-null  float64\n",
      " 3   f2       100000 non-null  float64\n",
      " 4   product  100000 non-null  float64\n",
      "dtypes: float64(4), object(1)\n",
      "memory usage: 3.8+ MB\n",
      "<class 'pandas.core.frame.DataFrame'>\n",
      "RangeIndex: 100000 entries, 0 to 99999\n",
      "Data columns (total 5 columns):\n",
      " #   Column   Non-Null Count   Dtype  \n",
      "---  ------   --------------   -----  \n",
      " 0   id       100000 non-null  object \n",
      " 1   f0       100000 non-null  float64\n",
      " 2   f1       100000 non-null  float64\n",
      " 3   f2       100000 non-null  float64\n",
      " 4   product  100000 non-null  float64\n",
      "dtypes: float64(4), object(1)\n",
      "memory usage: 3.8+ MB\n",
      "[None, None, None]\n"
     ]
    }
   ],
   "source": [
    "print([i.info() for i in datas])"
   ]
  },
  {
   "cell_type": "markdown",
   "metadata": {},
   "source": [
    "датасеты похожи, пропусков нет"
   ]
  },
  {
   "cell_type": "code",
   "execution_count": 5,
   "metadata": {},
   "outputs": [
    {
     "data": {
      "text/plain": [
       "[      id    f0    f1   f2  product\n",
       " 0  txEyH  0.71 -0.50 1.22   105.28\n",
       " 1  2acmU  1.33 -0.34 4.37    73.04\n",
       " 2  409Wp  1.02  0.15 1.42    85.27\n",
       " 3  iJLyR -0.03  0.14 2.98   168.62\n",
       " 4  Xdl7t  1.99  0.16 4.75   154.04,\n",
       "       id     f0     f1    f2  product\n",
       " 0  kBEdx -15.00  -8.28 -0.01     3.18\n",
       " 1  62mP7  14.27  -3.48  1.00    26.95\n",
       " 2  vyE1P   6.26  -5.95  5.00   134.77\n",
       " 3  KcrkZ -13.08 -11.51  5.00   137.95\n",
       " 4  AHL4O  12.70  -8.15  5.00   134.77,\n",
       "       id    f0    f1    f2  product\n",
       " 0  fwXo0 -1.15  0.96 -0.83    27.76\n",
       " 1  WJtFt  0.26  0.27 -2.53    56.07\n",
       " 2  ovLUW  0.19  0.29 -5.59    62.87\n",
       " 3  q6cA6  2.24 -0.55  0.93   114.57\n",
       " 4  WPMUX -0.52  1.72  5.90   149.60]"
      ]
     },
     "metadata": {},
     "output_type": "display_data"
    }
   ],
   "source": [
    "display([i.head() for i in datas])"
   ]
  },
  {
   "cell_type": "markdown",
   "metadata": {},
   "source": [
    "скорее всего столбец id не пригодится, исходя из контекста столбец product должен стать целевым признаком\n",
    "посмотрю методом describe()"
   ]
  },
  {
   "cell_type": "code",
   "execution_count": 6,
   "metadata": {},
   "outputs": [
    {
     "data": {
      "text/plain": [
       "[              f0         f1         f2    product\n",
       " count 100,000.00 100,000.00 100,000.00 100,000.00\n",
       " mean        0.50       0.25       2.50      92.50\n",
       " std         0.87       0.50       3.25      44.29\n",
       " min        -1.41      -0.85     -12.09       0.00\n",
       " 25%        -0.07      -0.20       0.29      56.50\n",
       " 50%         0.50       0.25       2.52      91.85\n",
       " 75%         1.07       0.70       4.72     128.56\n",
       " max         2.36       1.34      16.00     185.36,\n",
       "               f0         f1         f2    product\n",
       " count 100,000.00 100,000.00 100,000.00 100,000.00\n",
       " mean        1.14      -4.80       2.49      68.83\n",
       " std         8.97       5.12       1.70      45.94\n",
       " min       -31.61     -26.36      -0.02       0.00\n",
       " 25%        -6.30      -8.27       1.00      26.95\n",
       " 50%         1.15      -4.81       2.01      57.09\n",
       " 75%         8.62      -1.33       4.00     107.81\n",
       " max        29.42      18.73       5.02     137.95,\n",
       "               f0         f1         f2    product\n",
       " count 100,000.00 100,000.00 100,000.00 100,000.00\n",
       " mean        0.00      -0.00       2.50      95.00\n",
       " std         1.73       1.73       3.47      44.75\n",
       " min        -8.76      -7.08     -11.97       0.00\n",
       " 25%        -1.16      -1.17       0.13      59.45\n",
       " 50%         0.01      -0.01       2.48      94.93\n",
       " 75%         1.16       1.16       4.86     130.60\n",
       " max         7.24       7.84      16.74     190.03]"
      ]
     },
     "metadata": {},
     "output_type": "display_data"
    }
   ],
   "source": [
    "display([i.describe() for i in datas])"
   ]
  },
  {
   "cell_type": "markdown",
   "metadata": {},
   "source": [
    "показатели для первого и третьего региона сходны, для второго заметно меньше, применю метод describe для object "
   ]
  },
  {
   "cell_type": "code",
   "execution_count": 7,
   "metadata": {},
   "outputs": [
    {
     "data": {
      "text/plain": [
       "[            id\n",
       " count   100000\n",
       " unique   99990\n",
       " top      74z30\n",
       " freq         2,\n",
       "             id\n",
       " count   100000\n",
       " unique   99996\n",
       " top      wt4Uk\n",
       " freq         2,\n",
       "             id\n",
       " count   100000\n",
       " unique   99996\n",
       " top      Vcm5J\n",
       " freq         2]"
      ]
     },
     "metadata": {},
     "output_type": "display_data"
    }
   ],
   "source": [
    "display([i.describe(include=['object']) for i in datas]) "
   ]
  },
  {
   "cell_type": "markdown",
   "metadata": {},
   "source": [
    "видно, что несколько раз id дублируется - посмотрю сколько"
   ]
  },
  {
   "cell_type": "code",
   "execution_count": 8,
   "metadata": {},
   "outputs": [
    {
     "data": {
      "text/plain": [
       "[74z30    2\n",
       " Tdehs    2\n",
       " QcMuo    2\n",
       " bxg6G    2\n",
       " bsk9y    2\n",
       " HZww2    2\n",
       " A5aEY    2\n",
       " TtcGQ    2\n",
       " fiKDv    2\n",
       " AGS9W    2\n",
       " SwYDu    1\n",
       " Name: id, dtype: int64,\n",
       " wt4Uk    2\n",
       " 5ltQ6    2\n",
       " LHZR0    2\n",
       " bfPNe    2\n",
       " 9zMrI    1\n",
       " PFRhC    1\n",
       " HNvJY    1\n",
       " 9Wtrh    1\n",
       " 2wQbN    1\n",
       " ZozSR    1\n",
       " 6nRks    1\n",
       " Name: id, dtype: int64,\n",
       " Vcm5J    2\n",
       " xCHr8    2\n",
       " KUPhW    2\n",
       " VF7Jo    2\n",
       " U51DY    1\n",
       " h6mKL    1\n",
       " 436wJ    1\n",
       " F15bq    1\n",
       " eCeoH    1\n",
       " hKIqg    1\n",
       " M8fR4    1\n",
       " Name: id, dtype: int64]"
      ]
     },
     "metadata": {},
     "output_type": "display_data"
    }
   ],
   "source": [
    "display([i['id'].value_counts().sort_values(ascending=False).head(11) for i in datas]) "
   ]
  },
  {
   "cell_type": "markdown",
   "metadata": {},
   "source": [
    "может быть признаком дубликатов - проверю"
   ]
  },
  {
   "cell_type": "code",
   "execution_count": 9,
   "metadata": {},
   "outputs": [
    {
     "data": {
      "text/plain": [
       "[0, 0, 0]"
      ]
     },
     "metadata": {},
     "output_type": "display_data"
    }
   ],
   "source": [
    "display([i.duplicated().sum() for i in datas]) "
   ]
  },
  {
   "cell_type": "markdown",
   "metadata": {},
   "source": [
    "дубликатов нет, посмотю на матрицу корреляций"
   ]
  },
  {
   "cell_type": "code",
   "execution_count": 10,
   "metadata": {},
   "outputs": [
    {
     "data": {
      "text/plain": [
       "[           f0    f1    f2  product\n",
       " f0       1.00 -0.44 -0.00     0.14\n",
       " f1      -0.44  1.00  0.00    -0.19\n",
       " f2      -0.00  0.00  1.00     0.48\n",
       " product  0.14 -0.19  0.48     1.00,\n",
       "            f0    f1    f2  product\n",
       " f0       1.00  0.18 -0.00    -0.03\n",
       " f1       0.18  1.00 -0.00    -0.01\n",
       " f2      -0.00 -0.00  1.00     1.00\n",
       " product -0.03 -0.01  1.00     1.00,\n",
       "            f0    f1    f2  product\n",
       " f0       1.00  0.00 -0.00    -0.00\n",
       " f1       0.00  1.00  0.00    -0.00\n",
       " f2      -0.00  0.00  1.00     0.45\n",
       " product -0.00 -0.00  0.45     1.00]"
      ]
     },
     "metadata": {},
     "output_type": "display_data"
    }
   ],
   "source": [
    "display([i.corr() for i in datas])"
   ]
  },
  {
   "cell_type": "markdown",
   "metadata": {},
   "source": [
    "видна почти полная корреляция между столбцом f2 и product (целевым признаком) во втором регионе\n",
    "посмотрю на распредеелние значений целевого признака в регионах:"
   ]
  },
  {
   "cell_type": "code",
   "execution_count": 11,
   "metadata": {},
   "outputs": [
    {
     "data": {
      "image/png": "[encoded data removed]",
      "text/plain": [
       "<Figure size 432x288 with 1 Axes>"
      ]
     },
     "metadata": {
      "needs_background": "light"
     },
     "output_type": "display_data"
    },
    {
     "data": {
      "image/png": "[encoded data removed]",
      "text/plain": [
       "<Figure size 432x288 with 1 Axes>"
      ]
     },
     "metadata": {
      "needs_background": "light"
     },
     "output_type": "display_data"
    },
    {
     "data": {
      "image/png": "[encoded data removed]",
      "text/plain": [
       "<Figure size 432x288 with 1 Axes>"
      ]
     },
     "metadata": {
      "needs_background": "light"
     },
     "output_type": "display_data"
    }
   ],
   "source": [
    "for i in datas:\n",
    "    i['product'].hist(alpha=0.4) \n",
    "    plt.show() "
   ]
  },
  {
   "cell_type": "markdown",
   "metadata": {},
   "source": [
    "первый и треитй регион выглядят нормально распределенными (причем в сходных границах) - чего не нельзя сказать про второй (отличаются как границы, так и само распределние не нормальное - много минимальных и максимальных значений, остальные на одном уровне)"
   ]
  },
  {
   "cell_type": "markdown",
   "metadata": {},
   "source": [
    "на предыдущем семинаре обсуждали способы масштабирования и способы проверки нормальности распределения - решил его попробовать (хотя не уверен, что он здесь особо нужен - но результат показался интересным)"
   ]
  },
  {
   "cell_type": "code",
   "execution_count": 12,
   "metadata": {},
   "outputs": [
    {
     "data": {
      "image/png": "[encoded data removed]",
      "text/plain": [
       "<Figure size 432x288 with 1 Axes>"
      ]
     },
     "metadata": {
      "needs_background": "light"
     },
     "output_type": "display_data"
    }
   ],
   "source": [
    "import statsmodels.api as sm\n",
    "fig = sm.qqplot(data0['product'], loc=data0['product'].mean(), scale=data0['product'].std(), line='45')"
   ]
  },
  {
   "cell_type": "code",
   "execution_count": 13,
   "metadata": {},
   "outputs": [
    {
     "data": {
      "image/png": "[encoded data removed]",
      "text/plain": [
       "<Figure size 432x288 with 1 Axes>"
      ]
     },
     "metadata": {
      "needs_background": "light"
     },
     "output_type": "display_data"
    }
   ],
   "source": [
    "fig = sm.qqplot(data1['product'], loc=data1['product'].mean(), scale=data1['product'].std(), line='45')"
   ]
  },
  {
   "cell_type": "code",
   "execution_count": 14,
   "metadata": {},
   "outputs": [
    {
     "data": {
      "image/png": "[encoded data removed]",
      "text/plain": [
       "<Figure size 432x288 with 1 Axes>"
      ]
     },
     "metadata": {
      "needs_background": "light"
     },
     "output_type": "display_data"
    }
   ],
   "source": [
    "fig = sm.qqplot(data2['product'], loc=data2['product'].mean(), scale=data2['product'].std(), line='45')"
   ]
  },
  {
   "cell_type": "markdown",
   "metadata": {},
   "source": [
    "в общем как я понял у всех распределений есть отклонения от нормальности (хвосты отклоняются от середины - хотя судя по гистограммам я бы так не сказал), но опять сильно выделятся 2-ой регион (data1) решил посмотреть гистограмму с большим числом корзин"
   ]
  },
  {
   "cell_type": "code",
   "execution_count": 15,
   "metadata": {},
   "outputs": [
    {
     "data": {
      "text/plain": [
       "<AxesSubplot:>"
      ]
     },
     "execution_count": 15,
     "metadata": {},
     "output_type": "execute_result"
    },
    {
     "data": {
      "image/png": "[encoded data removed]",
      "text/plain": [
       "<Figure size 432x288 with 1 Axes>"
      ]
     },
     "metadata": {
      "needs_background": "light"
     },
     "output_type": "display_data"
    }
   ],
   "source": [
    "data1['product'].hist(bins=20, alpha=0.4)"
   ]
  },
  {
   "cell_type": "markdown",
   "metadata": {},
   "source": [
    "во втором регионе данные не просто не нормально распределены, но еще и разбиты на 6 групп"
   ]
  },
  {
   "cell_type": "markdown",
   "metadata": {},
   "source": [
    "**Вывод по шагу**\n",
    "- Данные из первого и третьего региона выглядят сходно - значения целвого признака нормально распределены.\n",
    "- Данные из второго региона отличаются (целевой признак меньше по средним показателям), целевой признак скоррелирован с одним из других и распределен не нормально (его значения разбиты на 6 групп, при том значения минимальной и максимальной встречаются в 2 раза чаще, чем других, а у других групп значения примерно одинаковы)\n",
    "- Пропусков нет, дубликатов нет (хотя есть несколько дублирований id - до 10 на 100000, но не думаю, что это имеет значение)\n"
   ]
  },
  {
   "cell_type": "markdown",
   "metadata": {},
   "source": [
    "<a id='step_2'></a>\n",
    "## Обучение и проверка модели"
   ]
  },
  {
   "cell_type": "code",
   "execution_count": 16,
   "metadata": {},
   "outputs": [],
   "source": [
    "def train_and_check(data):\n",
    "    # разбиение на подвыборки\n",
    "    features = data.drop(['product', 'id'], axis=1) # подготовка данных с признакми\n",
    "    target = data['product']                        # выделение целевого признака\n",
    "\n",
    "    features_train, features_test, target_train, target_test = train_test_split(        # разделение тестовой и обучающей выборки \n",
    "        features, target, test_size=0.25, random_state=12345)\n",
    "    \n",
    "    # обучение моделей и создание предсказаний\n",
    "    model = LinearRegression() # инициализация модели\n",
    "    model.fit(features_train, target_train) # обучение модели на тренировочной выборке\n",
    "    predictions_test = model.predict(features_test) # предсказания модели на тестовой выборке\n",
    "    \n",
    "    # cредний запас предсказанного сырья и RMSE моделей\n",
    "    rmse = mean_squared_error(target_test, predictions_test)**0.5 # п RMSE \n",
    "    print('Средний запас предсказанного сырья для региона:', predictions_test.mean())\n",
    "    print('RMSE модели линейной регрессии на тестовой выборке для региона:', rmse)\n",
    "    \n",
    "    predictions_test = pd.Series(predictions_test)  # добавил этот этап сюда - все равно он нужен дальше + без него у меня не получалось нормально вернуть результат\n",
    "    # возврат тех данных, которые потребуются в дальнейшей работе\n",
    "    return target_test, predictions_test\n",
    "    \n"
   ]
  },
  {
   "cell_type": "markdown",
   "metadata": {},
   "source": [
    "### Работа с данными по первому региону"
   ]
  },
  {
   "cell_type": "code",
   "execution_count": 17,
   "metadata": {},
   "outputs": [
    {
     "name": "stdout",
     "output_type": "stream",
     "text": [
      "Средний запас предсказанного сырья для региона: 92.59256778438035\n",
      "RMSE модели линейной регрессии на тестовой выборке для региона: 37.5794217150813\n"
     ]
    }
   ],
   "source": [
    "target_test0, predictions_test0 = train_and_check(data0)"
   ]
  },
  {
   "cell_type": "markdown",
   "metadata": {},
   "source": [
    "### Работа с данными по второму региону"
   ]
  },
  {
   "cell_type": "code",
   "execution_count": 18,
   "metadata": {},
   "outputs": [
    {
     "name": "stdout",
     "output_type": "stream",
     "text": [
      "Средний запас предсказанного сырья для региона: 68.728546895446\n",
      "RMSE модели линейной регрессии на тестовой выборке для региона: 0.893099286775617\n"
     ]
    }
   ],
   "source": [
    "target_test1, predictions_test1 = train_and_check(data1)"
   ]
  },
  {
   "cell_type": "markdown",
   "metadata": {},
   "source": [
    "### Работа с данными по третьему региону"
   ]
  },
  {
   "cell_type": "code",
   "execution_count": 19,
   "metadata": {},
   "outputs": [
    {
     "name": "stdout",
     "output_type": "stream",
     "text": [
      "Средний запас предсказанного сырья для региона: 94.96504596800489\n",
      "RMSE модели линейной регрессии на тестовой выборке для региона: 40.02970873393434\n"
     ]
    }
   ],
   "source": [
    "target_test2, predictions_test2 = train_and_check(data2)"
   ]
  },
  {
   "cell_type": "markdown",
   "metadata": {},
   "source": [
    "в задании указано, что использовать надо только линейную регрессию (исходя из того что читал, хотя это поверхностно понял, что в её случае настройка гиперпараметров не особо поможет - изначально думал использовать GridSearchCV)\n",
    "на всякий случай в ячейке импорта оставил и другие варианты регрессий, но дальше буду использовать только линейную без гиперпараметров (если потребуется буду корректировать)"
   ]
  },
  {
   "cell_type": "code",
   "execution_count": 20,
   "metadata": {},
   "outputs": [
    {
     "data": {
      "text/html": [
       "<div>\n",
       "<style scoped>\n",
       "    .dataframe tbody tr th:only-of-type {\n",
       "        vertical-align: middle;\n",
       "    }\n",
       "\n",
       "    .dataframe tbody tr th {\n",
       "        vertical-align: top;\n",
       "    }\n",
       "\n",
       "    .dataframe thead th {\n",
       "        text-align: right;\n",
       "    }\n",
       "</style>\n",
       "<table border=\"1\" class=\"dataframe\">\n",
       "  <thead>\n",
       "    <tr style=\"text-align: right;\">\n",
       "      <th></th>\n",
       "      <th>Средний запас</th>\n",
       "      <th>RMSE</th>\n",
       "    </tr>\n",
       "  </thead>\n",
       "  <tbody>\n",
       "    <tr>\n",
       "      <th>Регион 1</th>\n",
       "      <td>92.59</td>\n",
       "      <td>37.58</td>\n",
       "    </tr>\n",
       "    <tr>\n",
       "      <th>Регион 2</th>\n",
       "      <td>68.72</td>\n",
       "      <td>0.89</td>\n",
       "    </tr>\n",
       "    <tr>\n",
       "      <th>Регион 3</th>\n",
       "      <td>94.97</td>\n",
       "      <td>40.03</td>\n",
       "    </tr>\n",
       "  </tbody>\n",
       "</table>\n",
       "</div>"
      ],
      "text/plain": [
       "          Средний запас  RMSE\n",
       "Регион 1          92.59 37.58\n",
       "Регион 2          68.72  0.89\n",
       "Регион 3          94.97 40.03"
      ]
     },
     "metadata": {},
     "output_type": "display_data"
    }
   ],
   "source": [
    "# выведу результатаы в таблице\n",
    "table = pd.DataFrame(data=[[92.59, 37.58],  [68.72, 0.89], [94.97, 40.03]], \n",
    "                     columns=['Средний запас', 'RMSE'])\n",
    "table.index = ['Регион 1', 'Регион 2', 'Регион 3',]\n",
    "display(table)"
   ]
  },
  {
   "cell_type": "markdown",
   "metadata": {},
   "source": [
    "Средний запас во втором регионе ниже, при этом RMSE там близка к 0 - это ожидаемо, с учетом того, что признак f2 там почти полностью коррелирует с целевым. Посмотрю на гистограмме распределение признака f2 для каждого из регионов"
   ]
  },
  {
   "cell_type": "code",
   "execution_count": 21,
   "metadata": {},
   "outputs": [
    {
     "data": {
      "image/png": "[encoded data removed]",
      "text/plain": [
       "<Figure size 432x288 with 1 Axes>"
      ]
     },
     "metadata": {
      "needs_background": "light"
     },
     "output_type": "display_data"
    },
    {
     "data": {
      "image/png": "[encoded data removed]",
      "text/plain": [
       "<Figure size 432x288 with 1 Axes>"
      ]
     },
     "metadata": {
      "needs_background": "light"
     },
     "output_type": "display_data"
    },
    {
     "data": {
      "image/png": "[encoded data removed]",
      "text/plain": [
       "<Figure size 432x288 with 1 Axes>"
      ]
     },
     "metadata": {
      "needs_background": "light"
     },
     "output_type": "display_data"
    }
   ],
   "source": [
    "for i in datas:\n",
    "    i['f2'].hist(bins= 20, alpha=0.4) \n",
    "    plt.show() "
   ]
  },
  {
   "cell_type": "markdown",
   "metadata": {},
   "source": [
    "в первом и третьем регионе распределение f2 похоже на нормальное во втором, как и product разделен на 6 групп (хотя это соотношение между группами не совсем такое же как у product, но почти полная корреляция).\n",
    "\n",
    "На предыдущем семинаре шла речь про отбор признаков - т.к. здесь их немного и я решил посмотреть на комбинации всех признаков для всех регионов в построении моделей, получении предсказаний и подсчета rmse."
   ]
  },
  {
   "cell_type": "code",
   "execution_count": 22,
   "metadata": {},
   "outputs": [
    {
     "data": {
      "text/html": [
       "<div>\n",
       "<style scoped>\n",
       "    .dataframe tbody tr th:only-of-type {\n",
       "        vertical-align: middle;\n",
       "    }\n",
       "\n",
       "    .dataframe tbody tr th {\n",
       "        vertical-align: top;\n",
       "    }\n",
       "\n",
       "    .dataframe thead th {\n",
       "        text-align: right;\n",
       "    }\n",
       "</style>\n",
       "<table border=\"1\" class=\"dataframe\">\n",
       "  <thead>\n",
       "    <tr style=\"text-align: right;\">\n",
       "      <th></th>\n",
       "      <th>Регион</th>\n",
       "      <th>Комбинация признаков</th>\n",
       "      <th>Средний запас</th>\n",
       "      <th>RMSE</th>\n",
       "    </tr>\n",
       "  </thead>\n",
       "  <tbody>\n",
       "    <tr>\n",
       "      <th>13</th>\n",
       "      <td>Регион 2</td>\n",
       "      <td>[f0, f1, f2]</td>\n",
       "      <td>68.73</td>\n",
       "      <td>0.89</td>\n",
       "    </tr>\n",
       "    <tr>\n",
       "      <th>11</th>\n",
       "      <td>Регион 2</td>\n",
       "      <td>[f0, f2]</td>\n",
       "      <td>68.73</td>\n",
       "      <td>0.90</td>\n",
       "    </tr>\n",
       "    <tr>\n",
       "      <th>12</th>\n",
       "      <td>Регион 2</td>\n",
       "      <td>[f1, f2]</td>\n",
       "      <td>68.73</td>\n",
       "      <td>1.56</td>\n",
       "    </tr>\n",
       "    <tr>\n",
       "      <th>9</th>\n",
       "      <td>Регион 2</td>\n",
       "      <td>[f2]</td>\n",
       "      <td>68.73</td>\n",
       "      <td>1.59</td>\n",
       "    </tr>\n",
       "    <tr>\n",
       "      <th>6</th>\n",
       "      <td>Регион 1</td>\n",
       "      <td>[f0, f1, f2]</td>\n",
       "      <td>92.59</td>\n",
       "      <td>37.58</td>\n",
       "    </tr>\n",
       "    <tr>\n",
       "      <th>5</th>\n",
       "      <td>Регион 1</td>\n",
       "      <td>[f1, f2]</td>\n",
       "      <td>92.55</td>\n",
       "      <td>37.73</td>\n",
       "    </tr>\n",
       "    <tr>\n",
       "      <th>4</th>\n",
       "      <td>Регион 1</td>\n",
       "      <td>[f0, f2]</td>\n",
       "      <td>92.64</td>\n",
       "      <td>38.12</td>\n",
       "    </tr>\n",
       "    <tr>\n",
       "      <th>2</th>\n",
       "      <td>Регион 1</td>\n",
       "      <td>[f2]</td>\n",
       "      <td>92.55</td>\n",
       "      <td>38.73</td>\n",
       "    </tr>\n",
       "    <tr>\n",
       "      <th>16</th>\n",
       "      <td>Регион 3</td>\n",
       "      <td>[f2]</td>\n",
       "      <td>94.97</td>\n",
       "      <td>40.03</td>\n",
       "    </tr>\n",
       "    <tr>\n",
       "      <th>19</th>\n",
       "      <td>Регион 3</td>\n",
       "      <td>[f1, f2]</td>\n",
       "      <td>94.97</td>\n",
       "      <td>40.03</td>\n",
       "    </tr>\n",
       "    <tr>\n",
       "      <th>18</th>\n",
       "      <td>Регион 3</td>\n",
       "      <td>[f0, f2]</td>\n",
       "      <td>94.97</td>\n",
       "      <td>40.03</td>\n",
       "    </tr>\n",
       "    <tr>\n",
       "      <th>20</th>\n",
       "      <td>Регион 3</td>\n",
       "      <td>[f0, f1, f2]</td>\n",
       "      <td>94.97</td>\n",
       "      <td>40.03</td>\n",
       "    </tr>\n",
       "    <tr>\n",
       "      <th>3</th>\n",
       "      <td>Регион 1</td>\n",
       "      <td>[f0, f1]</td>\n",
       "      <td>92.68</td>\n",
       "      <td>43.29</td>\n",
       "    </tr>\n",
       "    <tr>\n",
       "      <th>1</th>\n",
       "      <td>Регион 1</td>\n",
       "      <td>[f1]</td>\n",
       "      <td>92.64</td>\n",
       "      <td>43.42</td>\n",
       "    </tr>\n",
       "    <tr>\n",
       "      <th>0</th>\n",
       "      <td>Регион 1</td>\n",
       "      <td>[f0]</td>\n",
       "      <td>92.73</td>\n",
       "      <td>43.76</td>\n",
       "    </tr>\n",
       "    <tr>\n",
       "      <th>15</th>\n",
       "      <td>Регион 3</td>\n",
       "      <td>[f1]</td>\n",
       "      <td>95.04</td>\n",
       "      <td>44.90</td>\n",
       "    </tr>\n",
       "    <tr>\n",
       "      <th>14</th>\n",
       "      <td>Регион 3</td>\n",
       "      <td>[f0]</td>\n",
       "      <td>95.04</td>\n",
       "      <td>44.90</td>\n",
       "    </tr>\n",
       "    <tr>\n",
       "      <th>17</th>\n",
       "      <td>Регион 3</td>\n",
       "      <td>[f0, f1]</td>\n",
       "      <td>95.04</td>\n",
       "      <td>44.90</td>\n",
       "    </tr>\n",
       "    <tr>\n",
       "      <th>7</th>\n",
       "      <td>Регион 2</td>\n",
       "      <td>[f0]</td>\n",
       "      <td>68.86</td>\n",
       "      <td>46.01</td>\n",
       "    </tr>\n",
       "    <tr>\n",
       "      <th>10</th>\n",
       "      <td>Регион 2</td>\n",
       "      <td>[f0, f1]</td>\n",
       "      <td>68.86</td>\n",
       "      <td>46.01</td>\n",
       "    </tr>\n",
       "    <tr>\n",
       "      <th>8</th>\n",
       "      <td>Регион 2</td>\n",
       "      <td>[f1]</td>\n",
       "      <td>68.86</td>\n",
       "      <td>46.02</td>\n",
       "    </tr>\n",
       "  </tbody>\n",
       "</table>\n",
       "</div>"
      ],
      "text/plain": [
       "      Регион Комбинация признаков Средний запас  RMSE\n",
       "13  Регион 2         [f0, f1, f2]         68.73  0.89\n",
       "11  Регион 2             [f0, f2]         68.73  0.90\n",
       "12  Регион 2             [f1, f2]         68.73  1.56\n",
       "9   Регион 2                 [f2]         68.73  1.59\n",
       "6   Регион 1         [f0, f1, f2]         92.59 37.58\n",
       "5   Регион 1             [f1, f2]         92.55 37.73\n",
       "4   Регион 1             [f0, f2]         92.64 38.12\n",
       "2   Регион 1                 [f2]         92.55 38.73\n",
       "16  Регион 3                 [f2]         94.97 40.03\n",
       "19  Регион 3             [f1, f2]         94.97 40.03\n",
       "18  Регион 3             [f0, f2]         94.97 40.03\n",
       "20  Регион 3         [f0, f1, f2]         94.97 40.03\n",
       "3   Регион 1             [f0, f1]         92.68 43.29\n",
       "1   Регион 1                 [f1]         92.64 43.42\n",
       "0   Регион 1                 [f0]         92.73 43.76\n",
       "15  Регион 3                 [f1]         95.04 44.90\n",
       "14  Регион 3                 [f0]         95.04 44.90\n",
       "17  Регион 3             [f0, f1]         95.04 44.90\n",
       "7   Регион 2                 [f0]         68.86 46.01\n",
       "10  Регион 2             [f0, f1]         68.86 46.01\n",
       "8   Регион 2                 [f1]         68.86 46.02"
      ]
     },
     "metadata": {},
     "output_type": "display_data"
    }
   ],
   "source": [
    "features_comb = [['f0'], ['f1'], ['f2'], ['f0', 'f1'], ['f0', 'f2'], ['f1', 'f2'], ['f0', 'f1', 'f2']] # список с комбинациями признаков\n",
    "product_list = [] # список для средних запасов\n",
    "rmse_list = []    # список для rmse\n",
    "counter = 0       # переменная для того чтобы выводить в тексте нужный регион\n",
    "region = ''\n",
    "region_list = []    # список для регионов\n",
    "for i in datas:           # цикл по регионам\n",
    "    if counter == 2:\n",
    "        region = 'Регион 3'\n",
    "    if counter == 1:\n",
    "        region = 'Регион 2'\n",
    "        counter += 1\n",
    "    if counter == 0:\n",
    "        region = 'Регион 1'\n",
    "        counter += 1\n",
    "     \n",
    "        \n",
    "    for x in features_comb:    # цикл по комбинациям признаков\n",
    "        features_c = i[x]\n",
    "        target_c = i['product']\n",
    "        \n",
    "        features_train_c, features_test_c, target_train_c, target_test_c = train_test_split(        # разделение тестовой и обучающей выборки \n",
    "            features_c, target_c, test_size=0.25, random_state=12345)\n",
    "\n",
    "\n",
    "        model_c = LinearRegression() # инициализация модели\n",
    "        model_c.fit(features_train_c, target_train_c) # обучение модели на тренировочной выборке\n",
    "        predictions_test_c = model_c.predict(features_test_c) # предсказания модели на тестовой выборке\n",
    "\n",
    "\n",
    "        rmse_c = mean_squared_error(target_test_c, predictions_test_c)**0.5 #  RMSE         \n",
    "        product_list.append(predictions_test_c.mean())\n",
    "        rmse_list.append(rmse_c)\n",
    "        region_list.append(region) \n",
    "\n",
    "table = pd.DataFrame(data=[region_list, features_comb * 3, product_list, rmse_list],    # таблица для представления результатов\n",
    "                     index=['Регион', 'Комбинация признаков', 'Средний запас', 'RMSE'])\n",
    "table = table.T\n",
    "display(table.sort_values(by='RMSE'))\n"
   ]
  },
  {
   "cell_type": "markdown",
   "metadata": {},
   "source": [
    "предсказания запасов модели по разным комбинациям признаков дают примерно одинаковые (для каждого региона)\n",
    "- видно что для первого региона rmse ниже всего когда используются все три признака,\n",
    "- для третьего значения rmse примерно одинаковы (но когда в числе признаков есть f2) обычно ниже\n",
    "- для второго региона самая низкая rmse наблюдается если использованы все три признака (но все низкие - близкие к 0 значения видны при использовании f2). при этом после удаления f2 rmse становится самой высокой."
   ]
  },
  {
   "cell_type": "markdown",
   "metadata": {},
   "source": [
    "**Вывод по шагу**\n",
    "Также как и раньше видны аномалии в случае 2-го региона, в то же время удалять f2, наверное не стоит, т.к. хотя модель почти полностью работает на этом признаке, и он выглядит странно - это не выглядит основанием для удаления.\n",
    "вообще мне кажется, что данные по 2-му региону выглядят малореалистично"
   ]
  },
  {
   "cell_type": "markdown",
   "metadata": {},
   "source": [
    "<a id='step_3'></a>\n",
    "## Подготовка к расчёту прибыли"
   ]
  },
  {
   "cell_type": "markdown",
   "metadata": {},
   "source": [
    "**достаточный объём сырья для безубыточной разработки новой скважины**"
   ]
  },
  {
   "cell_type": "markdown",
   "metadata": {},
   "source": [
    "на регион выделяют 10 000 000 000 для того чтобы разработать 200 скважин. Стоимость 450 рублей. Единицы объема сырья - тысяча баррелей. (Насколько я помню константы надо писать заглавными буквами)"
   ]
  },
  {
   "cell_type": "code",
   "execution_count": 23,
   "metadata": {},
   "outputs": [
    {
     "name": "stdout",
     "output_type": "stream",
     "text": [
      "Стоимость разработки скважины: 50000000.0\n"
     ]
    }
   ],
   "source": [
    "REGION_BUDGET = 10000000000\n",
    "WELL_PRICE = REGION_BUDGET / 200\n",
    "MIL_BARREL = 450000\n",
    "print('Стоимость разработки скважины:', WELL_PRICE)"
   ]
  },
  {
   "cell_type": "code",
   "execution_count": 24,
   "metadata": {},
   "outputs": [
    {
     "name": "stdout",
     "output_type": "stream",
     "text": [
      "Граница ниже, которой разработка не будет безубыточной: 111.11111111111111\n"
     ]
    }
   ],
   "source": [
    "# граница ниже, которой разработка не будет безубыточной\n",
    "WELL_PRODUCT_LIMIT = WELL_PRICE / MIL_BARREL\n",
    "print('Граница ниже, которой разработка не будет безубыточной:', WELL_PRODUCT_LIMIT)"
   ]
  },
  {
   "cell_type": "code",
   "execution_count": 25,
   "metadata": {},
   "outputs": [
    {
     "name": "stdout",
     "output_type": "stream",
     "text": [
      "Средний объем в первом регионе: 92.50000000000001\n",
      "Средний объем во втором регионе: 68.82500000000002\n",
      "Средний объем в третьем регионе: 95.00000000000004\n"
     ]
    }
   ],
   "source": [
    "print('Средний объем в первом регионе:', data0['product'].mean()) \n",
    "print('Средний объем во втором регионе:', data1['product'].mean()) \n",
    "print('Средний объем в третьем регионе:', data2['product'].mean()) "
   ]
  },
  {
   "cell_type": "markdown",
   "metadata": {},
   "source": [
    "**вывод по этапу подготовки расчёта прибыли**\n",
    "\n",
    "разработку скважины имеет смысл начинать если объем сырья в ней больше, чем 111,(1)\n",
    "Средний объем сырья во всех регионах (особенно во втором) ниже этой цифры"
   ]
  },
  {
   "cell_type": "markdown",
   "metadata": {},
   "source": [
    "<a id='step_4'></a>\n",
    "## Расчёт прибыли и рисков "
   ]
  },
  {
   "cell_type": "markdown",
   "metadata": {},
   "source": [
    "Фунция для расчета прибыли - самый сложный момент для моего понимания исходя из понимания задания и в целом (смотрел в тренажер, в задание, и в слак и вроде бы пришел к пониманию, что надо сделать)\n",
    "\n",
    "- 4.1. Выберите скважины с максимальными значениями предсказаний.\n",
    "- 4.2. Просуммируйте целевое значение объёма сырья, соответствующее этим предсказаниям.\n",
    "- 4.3. Рассчитайте прибыль для полученного объёма сырья.\n",
    "\n",
    "Сначала идет сортировка предсказанных значений сырья по убыванию (их еще надо перевести в Series)  \n",
    "Затем обновление индексов в целевых значениях (т.к. их индексы перемешаны после разделения на выборки и не соответствовали индексам, которые появяться у предсказанных значений) - как я понимаю для локальной задачи нам нужно соответстие значений предсказанных и целевых признаков (но в случае предсказанных индексов нет т.к. данные еще не в виде Series, а в случае целевых индексы перемешаны - но фактически (по расположению в столбце) значения соответствуют друг другу) "
   ]
  },
  {
   "cell_type": "code",
   "execution_count": 26,
   "metadata": {},
   "outputs": [],
   "source": [
    "# функция для расчета прибыли\n",
    "def profit(target, pred, wells):\n",
    "    \n",
    "    pred_sorted = pred.sort_values(ascending=False)  # перевод сортировка по убыванию (в Series перевел раньше)\n",
    "    target = target.reset_index(drop=True)                      # сброс старых индексов целевых значений\n",
    "    select = target[pred_sorted.index][:wells]                # выбор целвых значений соответствующих отсортированным предсказанным - и выбор count первых из них\n",
    "\n",
    "    return select.sum() * MIL_BARREL - REGION_BUDGET    # подсчет суммарного объема для count скважин, их умножение на стоимость тысячи бареллей и вычитание из этой суммы бюджета на разработку в регионе\n"
   ]
  },
  {
   "cell_type": "code",
   "execution_count": 27,
   "metadata": {},
   "outputs": [
    {
     "name": "stdout",
     "output_type": "stream",
     "text": [
      "Доход по предсказаниям для 200 наиболее прибыльных скважин в первом регионе: 3320826043.14\n"
     ]
    }
   ],
   "source": [
    "print(f'Доход по предсказаниям для 200 наиболее прибыльных скважин в первом регионе: {profit(target_test0, predictions_test0, 200):.2f}')"
   ]
  },
  {
   "cell_type": "code",
   "execution_count": 28,
   "metadata": {},
   "outputs": [
    {
     "name": "stdout",
     "output_type": "stream",
     "text": [
      "Доход по предсказаниям для 200 наиболее прибыльных скважин во втором регионе: 2415086696.68\n"
     ]
    }
   ],
   "source": [
    "print(f'Доход по предсказаниям для 200 наиболее прибыльных скважин во втором регионе: {profit(target_test1, predictions_test1, 200):.2f}')"
   ]
  },
  {
   "cell_type": "code",
   "execution_count": 29,
   "metadata": {},
   "outputs": [
    {
     "name": "stdout",
     "output_type": "stream",
     "text": [
      "Доход по предсказаниям для 200 наиболее прибыльных скважин в третьем регионе: 2710349963.60\n"
     ]
    }
   ],
   "source": [
    "print(f'Доход по предсказаниям для 200 наиболее прибыльных скважин в третьем регионе: {profit(target_test2, predictions_test2, 200):.2f}')"
   ]
  },
  {
   "cell_type": "markdown",
   "metadata": {},
   "source": [
    "При таком рассмотрении прибыльными получаются все регионы: самым прибыльным первый, наименее прибыльным - второй"
   ]
  },
  {
   "cell_type": "markdown",
   "metadata": {},
   "source": [
    "**Бутстреп**"
   ]
  },
  {
   "cell_type": "markdown",
   "metadata": {},
   "source": [
    "Думаю, что если правильно понял подход с функцией, то применение bootstrap получится сделать верно"
   ]
  },
  {
   "cell_type": "code",
   "execution_count": 30,
   "metadata": {},
   "outputs": [],
   "source": [
    "state = np.random.RandomState(12345) # фиксируется случайность"
   ]
  },
  {
   "cell_type": "code",
   "execution_count": 31,
   "metadata": {},
   "outputs": [],
   "source": [
    "def bootstrap(target, predictions, explore, wells):\n",
    "    values = []   # список для значений\n",
    "\n",
    "    for i in range(1000):  # цикл для тысячи итераций\n",
    "    \n",
    "        # ниже выбор случайной подвыборки (исходя из того что в разработку идут 500 скважин)\n",
    "        prediction_subsample = pd.Series(predictions).sample(n=explore, replace=True, random_state=state)\n",
    "    \n",
    "        # применение функции\n",
    "        result = profit(target, prediction_subsample, wells)\n",
    "        values.append(result)\n",
    "    \n",
    "    values = pd.Series(values)       # перевод списка с результатами в Series\n",
    "    lower = values.quantile(0.025)    # определение нижней границы доверительного интервала\n",
    "    upper = values.quantile(0.0975)   # определение верхней границы доверительного интервала\n",
    "\n",
    "    mean = values.mean()          # определение средней прибыли по итогам bootstrap\n",
    "    values.hist()                 # гистограмма значений прибыли по итогам bootstrap\n",
    "    risk = (values < 0).mean()\n",
    "\n",
    "    print(f'Средняя прибыль: {mean:.2f}')\n",
    "    print(f'97.5%-квантиль: {upper:.2f}')\n",
    "    print(f'2.5%-квантиль: {lower:.2f}')\n",
    "    print(f'Риск убытков: {risk:.2%}')\n",
    "    return mean, lower, upper, risk"
   ]
  },
  {
   "cell_type": "markdown",
   "metadata": {},
   "source": [
    "### работа с данными по первому региону"
   ]
  },
  {
   "cell_type": "code",
   "execution_count": 32,
   "metadata": {},
   "outputs": [
    {
     "name": "stdout",
     "output_type": "stream",
     "text": [
      "Средняя прибыль: 396164984.80\n",
      "97.5%-квантиль: 53834549.79\n",
      "2.5%-квантиль: -111215545.89\n",
      "Риск убытков: 6.90%\n"
     ]
    },
    {
     "data": {
      "image/png": "[encoded data removed]",
      "text/plain": [
       "<Figure size 432x288 with 1 Axes>"
      ]
     },
     "metadata": {
      "needs_background": "light"
     },
     "output_type": "display_data"
    }
   ],
   "source": [
    "mean0, lower0, upper0, risk0 = bootstrap(target_test0, predictions_test0, 500, 200)"
   ]
  },
  {
   "cell_type": "markdown",
   "metadata": {},
   "source": [
    "### работа с данными по второму региону"
   ]
  },
  {
   "cell_type": "code",
   "execution_count": 33,
   "metadata": {},
   "outputs": [
    {
     "name": "stdout",
     "output_type": "stream",
     "text": [
      "Средняя прибыль: 461155817.28\n",
      "97.5%-квантиль: 212855420.64\n",
      "2.5%-квантиль: 78050810.75\n",
      "Риск убытков: 0.70%\n"
     ]
    },
    {
     "data": {
      "image/png": "[encoded data removed]",
      "text/plain": [
       "<Figure size 432x288 with 1 Axes>"
      ]
     },
     "metadata": {
      "needs_background": "light"
     },
     "output_type": "display_data"
    }
   ],
   "source": [
    "mean1, lower1, upper1, risk1 = bootstrap(target_test1, predictions_test1, 500, 200)"
   ]
  },
  {
   "cell_type": "markdown",
   "metadata": {},
   "source": [
    "### работа с данными по третьему региону"
   ]
  },
  {
   "cell_type": "code",
   "execution_count": 34,
   "metadata": {},
   "outputs": [
    {
     "name": "stdout",
     "output_type": "stream",
     "text": [
      "Средняя прибыль: 392950475.17\n",
      "97.5%-квантиль: 54436533.11\n",
      "2.5%-квантиль: -112227625.38\n",
      "Риск убытков: 6.50%\n"
     ]
    },
    {
     "data": {
      "image/png": "[encoded data removed]",
      "text/plain": [
       "<Figure size 432x288 with 1 Axes>"
      ]
     },
     "metadata": {
      "needs_background": "light"
     },
     "output_type": "display_data"
    }
   ],
   "source": [
    "mean2, lower2, upper2, risk2 = bootstrap(target_test2, predictions_test2, 500, 200)"
   ]
  },
  {
   "cell_type": "code",
   "execution_count": 35,
   "metadata": {},
   "outputs": [
    {
     "data": {
      "text/html": [
       "<div>\n",
       "<style scoped>\n",
       "    .dataframe tbody tr th:only-of-type {\n",
       "        vertical-align: middle;\n",
       "    }\n",
       "\n",
       "    .dataframe tbody tr th {\n",
       "        vertical-align: top;\n",
       "    }\n",
       "\n",
       "    .dataframe thead th {\n",
       "        text-align: right;\n",
       "    }\n",
       "</style>\n",
       "<table border=\"1\" class=\"dataframe\">\n",
       "  <thead>\n",
       "    <tr style=\"text-align: right;\">\n",
       "      <th></th>\n",
       "      <th>Регион</th>\n",
       "      <th>Средняя прибыль после bootsrap</th>\n",
       "      <th>Нижняя граница дов.интервала</th>\n",
       "      <th>Верхняя граница дов.интервала</th>\n",
       "      <th>Риск убытков</th>\n",
       "    </tr>\n",
       "  </thead>\n",
       "  <tbody>\n",
       "    <tr>\n",
       "      <th>0</th>\n",
       "      <td>Регион 1</td>\n",
       "      <td>396,164,984.80</td>\n",
       "      <td>-111,215,545.89</td>\n",
       "      <td>53,834,549.79</td>\n",
       "      <td>0.07</td>\n",
       "    </tr>\n",
       "    <tr>\n",
       "      <th>1</th>\n",
       "      <td>Регион 2</td>\n",
       "      <td>461,155,817.28</td>\n",
       "      <td>78,050,810.75</td>\n",
       "      <td>212,855,420.64</td>\n",
       "      <td>0.01</td>\n",
       "    </tr>\n",
       "    <tr>\n",
       "      <th>2</th>\n",
       "      <td>Регион 3</td>\n",
       "      <td>392,950,475.17</td>\n",
       "      <td>-112,227,625.38</td>\n",
       "      <td>54,436,533.11</td>\n",
       "      <td>0.07</td>\n",
       "    </tr>\n",
       "  </tbody>\n",
       "</table>\n",
       "</div>"
      ],
      "text/plain": [
       "     Регион  Средняя прибыль после bootsrap  Нижняя граница дов.интервала  \\\n",
       "0  Регион 1                  396,164,984.80               -111,215,545.89   \n",
       "1  Регион 2                  461,155,817.28                 78,050,810.75   \n",
       "2  Регион 3                  392,950,475.17               -112,227,625.38   \n",
       "\n",
       "   Верхняя граница дов.интервала  Риск убытков  \n",
       "0                  53,834,549.79          0.07  \n",
       "1                 212,855,420.64          0.01  \n",
       "2                  54,436,533.11          0.07  "
      ]
     },
     "execution_count": 35,
     "metadata": {},
     "output_type": "execute_result"
    }
   ],
   "source": [
    "\n",
    "table = pd.DataFrame(data=[['Регион 1', mean0, lower0, upper0, risk0], \n",
    "                           ['Регион 2', mean1, lower1, upper1, risk1], \n",
    "                           ['Регион 3', mean2, lower2, upper2, risk2]],    # таблица для представления результатов\n",
    "                     columns=['Регион', 'Средняя прибыль после bootsrap', 'Нижняя граница дов.интервала', 'Верхняя граница дов.интервала', 'Риск убытков'])\n",
    "table"
   ]
  },
  {
   "cell_type": "markdown",
   "metadata": {},
   "source": [
    "**Вывод по расчету прибыли и рисков**  \n",
    "В ходе bootstrap и подсчета риска убытков первый и третий регион опять дают сходные результаты\n",
    "при этом наилучшие результаты у второго региона (доверительный интервал находится вне зоны убытков, значение риска убытков соответствует требуемому - меньше 2.5 %)"
   ]
  },
  {
   "cell_type": "markdown",
   "metadata": {},
   "source": [
    "# Общий вывод\n",
    "По требованию задания для разработки нужно предложить второй регион  \n",
    "\n",
    "в то же время надо отметить, что данные по целевому признаку второго региона исходно выглядят не нормально распределенными (делятся на 6 групп) - мне кажется, что результат при котором второй регион выигрывает в ходе применения bootstrap является следствием того, что данные по целевому признаку там распределены не нормально и выглядят странно"
   ]
  },
  {
   "cell_type": "code",
   "execution_count": null,
   "metadata": {},
   "outputs": [],
   "source": []
  }
 ],
 "metadata": {
  "ExecuteTimeLog": [
   {
    "duration": 378,
    "start_time": "2022-03-30T17:51:52.790Z"
   },
   {
    "duration": 73,
    "start_time": "2022-03-30T17:52:39.080Z"
   },
   {
    "duration": 133,
    "start_time": "2022-03-30T17:52:48.416Z"
   },
   {
    "duration": 19,
    "start_time": "2022-03-30T17:53:12.274Z"
   },
   {
    "duration": 124,
    "start_time": "2022-04-01T21:46:44.147Z"
   },
   {
    "duration": 2381,
    "start_time": "2022-04-01T21:46:48.320Z"
   },
   {
    "duration": 429,
    "start_time": "2022-04-01T21:46:52.061Z"
   },
   {
    "duration": 105,
    "start_time": "2022-04-01T21:47:53.912Z"
   },
   {
    "duration": 3,
    "start_time": "2022-04-01T21:48:00.333Z"
   },
   {
    "duration": 49,
    "start_time": "2022-04-01T21:48:01.031Z"
   },
   {
    "duration": 60,
    "start_time": "2022-04-01T21:50:06.223Z"
   },
   {
    "duration": 209,
    "start_time": "2022-04-01T21:50:56.697Z"
   },
   {
    "duration": 221,
    "start_time": "2022-04-01T21:51:01.128Z"
   },
   {
    "duration": 53,
    "start_time": "2022-04-01T21:51:52.532Z"
   },
   {
    "duration": 19,
    "start_time": "2022-04-01T21:52:17.224Z"
   },
   {
    "duration": 127,
    "start_time": "2022-04-01T21:52:56.236Z"
   },
   {
    "duration": 44,
    "start_time": "2022-04-01T21:53:14.528Z"
   },
   {
    "duration": 276,
    "start_time": "2022-04-01T21:54:12.188Z"
   },
   {
    "duration": 76,
    "start_time": "2022-04-01T21:56:48.519Z"
   },
   {
    "duration": 45,
    "start_time": "2022-04-01T21:57:00.369Z"
   },
   {
    "duration": 4,
    "start_time": "2022-04-01T21:57:15.916Z"
   },
   {
    "duration": 254,
    "start_time": "2022-04-01T21:57:35.718Z"
   },
   {
    "duration": 34,
    "start_time": "2022-04-01T21:57:44.969Z"
   },
   {
    "duration": 224,
    "start_time": "2022-04-01T21:58:12.593Z"
   },
   {
    "duration": 7,
    "start_time": "2022-04-01T21:58:18.243Z"
   },
   {
    "duration": 253,
    "start_time": "2022-04-01T21:58:46.141Z"
   },
   {
    "duration": 112,
    "start_time": "2022-04-01T21:59:11.419Z"
   },
   {
    "duration": 250,
    "start_time": "2022-04-01T21:59:17.856Z"
   },
   {
    "duration": 314,
    "start_time": "2022-04-01T21:59:30.990Z"
   },
   {
    "duration": 241,
    "start_time": "2022-04-01T21:59:37.455Z"
   },
   {
    "duration": 263,
    "start_time": "2022-04-01T22:00:16.345Z"
   },
   {
    "duration": 99,
    "start_time": "2022-04-01T22:00:55.676Z"
   },
   {
    "duration": 113,
    "start_time": "2022-04-01T22:01:11.513Z"
   },
   {
    "duration": 196,
    "start_time": "2022-04-01T22:01:57.376Z"
   },
   {
    "duration": 81,
    "start_time": "2022-04-01T22:02:07.354Z"
   },
   {
    "duration": 98,
    "start_time": "2022-04-01T22:02:20.887Z"
   },
   {
    "duration": 78,
    "start_time": "2022-04-01T22:02:27.029Z"
   },
   {
    "duration": 91,
    "start_time": "2022-04-01T22:02:31.360Z"
   },
   {
    "duration": 83,
    "start_time": "2022-04-01T22:02:35.211Z"
   },
   {
    "duration": 63,
    "start_time": "2022-04-01T22:02:38.668Z"
   },
   {
    "duration": 75,
    "start_time": "2022-04-01T22:02:41.585Z"
   },
   {
    "duration": 64,
    "start_time": "2022-04-01T22:02:56.960Z"
   },
   {
    "duration": 211,
    "start_time": "2022-04-01T22:03:15.250Z"
   },
   {
    "duration": 208,
    "start_time": "2022-04-01T22:04:34.017Z"
   },
   {
    "duration": 234,
    "start_time": "2022-04-01T22:04:40.541Z"
   },
   {
    "duration": 293,
    "start_time": "2022-04-01T22:06:21.321Z"
   },
   {
    "duration": 1208,
    "start_time": "2022-04-01T22:08:52.881Z"
   },
   {
    "duration": 1107,
    "start_time": "2022-04-01T22:09:59.524Z"
   },
   {
    "duration": 1040,
    "start_time": "2022-04-01T22:11:16.484Z"
   },
   {
    "duration": 284,
    "start_time": "2022-04-01T22:12:10.782Z"
   },
   {
    "duration": 272,
    "start_time": "2022-04-01T22:12:17.604Z"
   },
   {
    "duration": 1576,
    "start_time": "2022-04-02T07:06:38.464Z"
   },
   {
    "duration": 350,
    "start_time": "2022-04-02T07:06:40.042Z"
   },
   {
    "duration": 3,
    "start_time": "2022-04-02T07:06:40.393Z"
   },
   {
    "duration": 40,
    "start_time": "2022-04-02T07:06:40.398Z"
   },
   {
    "duration": 14,
    "start_time": "2022-04-02T07:06:40.440Z"
   },
   {
    "duration": 108,
    "start_time": "2022-04-02T07:06:40.456Z"
   },
   {
    "duration": 217,
    "start_time": "2022-04-02T07:06:40.565Z"
   },
   {
    "duration": 207,
    "start_time": "2022-04-02T07:06:40.784Z"
   },
   {
    "duration": 147,
    "start_time": "2022-04-02T07:06:40.993Z"
   },
   {
    "duration": 28,
    "start_time": "2022-04-02T07:06:41.143Z"
   },
   {
    "duration": 214,
    "start_time": "2022-04-02T07:06:41.173Z"
   },
   {
    "duration": 583,
    "start_time": "2022-04-02T07:06:41.388Z"
   },
   {
    "duration": 0,
    "start_time": "2022-04-02T07:06:41.973Z"
   },
   {
    "duration": 122,
    "start_time": "2022-04-02T07:06:51.684Z"
   },
   {
    "duration": 112,
    "start_time": "2022-04-02T07:06:57.278Z"
   },
   {
    "duration": 242,
    "start_time": "2022-04-02T07:07:31.020Z"
   },
   {
    "duration": 390,
    "start_time": "2022-04-02T07:07:36.267Z"
   },
   {
    "duration": 20,
    "start_time": "2022-04-02T07:19:09.313Z"
   },
   {
    "duration": 5,
    "start_time": "2022-04-02T07:21:17.042Z"
   },
   {
    "duration": 218,
    "start_time": "2022-04-02T07:21:32.626Z"
   },
   {
    "duration": 216,
    "start_time": "2022-04-02T07:21:49.996Z"
   },
   {
    "duration": 215,
    "start_time": "2022-04-02T07:22:05.060Z"
   },
   {
    "duration": 11,
    "start_time": "2022-04-02T07:22:17.900Z"
   },
   {
    "duration": 227,
    "start_time": "2022-04-02T07:22:29.271Z"
   },
   {
    "duration": 13,
    "start_time": "2022-04-02T07:36:54.794Z"
   },
   {
    "duration": 1312,
    "start_time": "2022-04-02T07:37:30.664Z"
   },
   {
    "duration": 298,
    "start_time": "2022-04-02T07:37:52.698Z"
   },
   {
    "duration": 113,
    "start_time": "2022-04-02T07:39:17.978Z"
   },
   {
    "duration": 270,
    "start_time": "2022-04-02T07:39:45.782Z"
   },
   {
    "duration": 113,
    "start_time": "2022-04-02T07:39:49.588Z"
   },
   {
    "duration": 45,
    "start_time": "2022-04-04T21:25:56.625Z"
   },
   {
    "duration": 1647,
    "start_time": "2022-04-04T21:26:03.104Z"
   },
   {
    "duration": 361,
    "start_time": "2022-04-04T21:26:06.611Z"
   },
   {
    "duration": 2,
    "start_time": "2022-04-04T21:26:08.519Z"
   },
   {
    "duration": 38,
    "start_time": "2022-04-04T21:26:10.248Z"
   },
   {
    "duration": 14,
    "start_time": "2022-04-04T21:26:12.638Z"
   },
   {
    "duration": 78,
    "start_time": "2022-04-04T21:26:14.169Z"
   },
   {
    "duration": 201,
    "start_time": "2022-04-04T21:26:15.815Z"
   },
   {
    "duration": 200,
    "start_time": "2022-04-04T21:26:18.027Z"
   },
   {
    "duration": 125,
    "start_time": "2022-04-04T21:26:20.585Z"
   },
   {
    "duration": 27,
    "start_time": "2022-04-04T21:26:22.183Z"
   },
   {
    "duration": 387,
    "start_time": "2022-04-04T21:26:24.535Z"
   },
   {
    "duration": 169,
    "start_time": "2022-04-04T21:26:26.643Z"
   },
   {
    "duration": 244,
    "start_time": "2022-04-04T21:26:33.023Z"
   },
   {
    "duration": 159,
    "start_time": "2022-04-04T21:26:38.187Z"
   },
   {
    "duration": 148,
    "start_time": "2022-04-04T21:26:41.287Z"
   },
   {
    "duration": 132,
    "start_time": "2022-04-04T21:26:44.681Z"
   },
   {
    "duration": 143,
    "start_time": "2022-04-04T21:26:49.359Z"
   },
   {
    "duration": 536,
    "start_time": "2022-04-04T21:48:14.884Z"
   },
   {
    "duration": 365,
    "start_time": "2022-04-04T21:48:17.730Z"
   },
   {
    "duration": 264,
    "start_time": "2022-04-04T21:48:20.413Z"
   },
   {
    "duration": 266,
    "start_time": "2022-04-04T21:48:50.067Z"
   },
   {
    "duration": 270,
    "start_time": "2022-04-04T21:49:57.110Z"
   },
   {
    "duration": 262,
    "start_time": "2022-04-04T21:49:58.584Z"
   },
   {
    "duration": 270,
    "start_time": "2022-04-04T21:50:00.841Z"
   },
   {
    "duration": 2378,
    "start_time": "2022-04-05T07:45:51.925Z"
   },
   {
    "duration": 357,
    "start_time": "2022-04-05T07:45:54.306Z"
   },
   {
    "duration": 3,
    "start_time": "2022-04-05T07:45:54.665Z"
   },
   {
    "duration": 41,
    "start_time": "2022-04-05T07:45:54.669Z"
   },
   {
    "duration": 14,
    "start_time": "2022-04-05T07:45:54.712Z"
   },
   {
    "duration": 93,
    "start_time": "2022-04-05T07:45:54.728Z"
   },
   {
    "duration": 335,
    "start_time": "2022-04-05T07:45:54.823Z"
   },
   {
    "duration": 321,
    "start_time": "2022-04-05T07:45:55.161Z"
   },
   {
    "duration": 218,
    "start_time": "2022-04-05T07:45:55.484Z"
   },
   {
    "duration": 41,
    "start_time": "2022-04-05T07:45:55.705Z"
   },
   {
    "duration": 671,
    "start_time": "2022-04-05T07:45:55.748Z"
   },
   {
    "duration": 1268,
    "start_time": "2022-04-05T07:45:56.421Z"
   },
   {
    "duration": 414,
    "start_time": "2022-04-05T07:45:57.692Z"
   },
   {
    "duration": 287,
    "start_time": "2022-04-05T07:45:58.109Z"
   },
   {
    "duration": 157,
    "start_time": "2022-04-05T07:45:58.398Z"
   },
   {
    "duration": 15,
    "start_time": "2022-04-05T08:36:09.008Z"
   },
   {
    "duration": 15,
    "start_time": "2022-04-05T08:37:14.891Z"
   },
   {
    "duration": 16,
    "start_time": "2022-04-05T08:37:15.591Z"
   },
   {
    "duration": 11,
    "start_time": "2022-04-05T09:06:03.941Z"
   },
   {
    "duration": 11,
    "start_time": "2022-04-05T09:06:23.018Z"
   },
   {
    "duration": 12,
    "start_time": "2022-04-05T09:06:54.302Z"
   },
   {
    "duration": 5,
    "start_time": "2022-04-05T09:15:29.415Z"
   },
   {
    "duration": 6,
    "start_time": "2022-04-05T09:16:24.415Z"
   },
   {
    "duration": 6,
    "start_time": "2022-04-05T09:16:27.335Z"
   },
   {
    "duration": 5,
    "start_time": "2022-04-05T09:16:51.315Z"
   },
   {
    "duration": 1296,
    "start_time": "2022-04-05T09:22:55.946Z"
   },
   {
    "duration": 4,
    "start_time": "2022-04-05T09:23:03.205Z"
   },
   {
    "duration": 4,
    "start_time": "2022-04-05T09:23:06.023Z"
   },
   {
    "duration": 16,
    "start_time": "2022-04-05T09:23:14.105Z"
   },
   {
    "duration": 13,
    "start_time": "2022-04-05T09:23:22.246Z"
   },
   {
    "duration": 388,
    "start_time": "2022-04-05T10:07:59.270Z"
   },
   {
    "duration": 357,
    "start_time": "2022-04-05T10:08:17.136Z"
   },
   {
    "duration": 316,
    "start_time": "2022-04-05T10:08:21.887Z"
   },
   {
    "duration": 354,
    "start_time": "2022-04-05T10:08:33.081Z"
   },
   {
    "duration": 317,
    "start_time": "2022-04-05T10:08:59.758Z"
   },
   {
    "duration": 473,
    "start_time": "2022-04-05T10:09:06.776Z"
   },
   {
    "duration": 510,
    "start_time": "2022-04-05T10:09:11.747Z"
   },
   {
    "duration": 330,
    "start_time": "2022-04-05T10:09:14.439Z"
   },
   {
    "duration": 376,
    "start_time": "2022-04-05T10:09:29.911Z"
   },
   {
    "duration": 379,
    "start_time": "2022-04-05T10:09:39.967Z"
   },
   {
    "duration": 559,
    "start_time": "2022-04-05T10:09:47.415Z"
   },
   {
    "duration": 358,
    "start_time": "2022-04-05T10:10:00.203Z"
   },
   {
    "duration": 368,
    "start_time": "2022-04-05T10:10:05.933Z"
   },
   {
    "duration": 425,
    "start_time": "2022-04-05T10:10:12.653Z"
   },
   {
    "duration": 508,
    "start_time": "2022-04-05T10:10:16.686Z"
   },
   {
    "duration": 494,
    "start_time": "2022-04-05T10:17:10.887Z"
   },
   {
    "duration": 397,
    "start_time": "2022-04-05T10:17:26.611Z"
   },
   {
    "duration": 355,
    "start_time": "2022-04-05T10:17:34.155Z"
   },
   {
    "duration": 405,
    "start_time": "2022-04-05T10:17:53.050Z"
   },
   {
    "duration": 9,
    "start_time": "2022-04-05T10:18:22.924Z"
   },
   {
    "duration": 14,
    "start_time": "2022-04-05T10:19:58.011Z"
   },
   {
    "duration": 49,
    "start_time": "2022-04-05T10:20:42.638Z"
   },
   {
    "duration": 10,
    "start_time": "2022-04-05T14:07:56.519Z"
   },
   {
    "duration": 6,
    "start_time": "2022-04-05T14:08:17.129Z"
   },
   {
    "duration": 506,
    "start_time": "2022-04-05T14:08:18.261Z"
   },
   {
    "duration": 6,
    "start_time": "2022-04-05T14:08:19.294Z"
   },
   {
    "duration": 35,
    "start_time": "2022-04-05T14:08:20.730Z"
   },
   {
    "duration": 11,
    "start_time": "2022-04-05T14:08:23.009Z"
   },
   {
    "duration": 77,
    "start_time": "2022-04-05T14:08:24.236Z"
   },
   {
    "duration": 320,
    "start_time": "2022-04-05T14:08:25.502Z"
   },
   {
    "duration": 192,
    "start_time": "2022-04-05T14:08:26.578Z"
   },
   {
    "duration": 107,
    "start_time": "2022-04-05T14:08:27.725Z"
   },
   {
    "duration": 26,
    "start_time": "2022-04-05T14:08:28.832Z"
   },
   {
    "duration": 381,
    "start_time": "2022-04-05T14:08:30.673Z"
   },
   {
    "duration": 265,
    "start_time": "2022-04-05T14:08:33.079Z"
   },
   {
    "duration": 253,
    "start_time": "2022-04-05T14:08:34.072Z"
   },
   {
    "duration": 258,
    "start_time": "2022-04-05T14:08:34.646Z"
   },
   {
    "duration": 134,
    "start_time": "2022-04-05T14:08:37.202Z"
   },
   {
    "duration": 15,
    "start_time": "2022-04-05T14:08:39.628Z"
   },
   {
    "duration": 13,
    "start_time": "2022-04-05T14:08:40.350Z"
   },
   {
    "duration": 16,
    "start_time": "2022-04-05T14:08:40.942Z"
   },
   {
    "duration": 22,
    "start_time": "2022-04-05T14:08:43.125Z"
   },
   {
    "duration": 15,
    "start_time": "2022-04-05T14:08:43.756Z"
   },
   {
    "duration": 15,
    "start_time": "2022-04-05T14:08:44.303Z"
   },
   {
    "duration": 5,
    "start_time": "2022-04-05T14:08:45.902Z"
   },
   {
    "duration": 5,
    "start_time": "2022-04-05T14:08:46.558Z"
   },
   {
    "duration": 6,
    "start_time": "2022-04-05T14:08:47.087Z"
   },
   {
    "duration": 11,
    "start_time": "2022-04-05T14:08:49.894Z"
   },
   {
    "duration": 14,
    "start_time": "2022-04-05T14:08:55.434Z"
   },
   {
    "duration": 3410,
    "start_time": "2022-04-05T14:09:19.687Z"
   },
   {
    "duration": 1579,
    "start_time": "2022-04-05T14:14:05.487Z"
   },
   {
    "duration": 13,
    "start_time": "2022-04-05T14:14:21.393Z"
   },
   {
    "duration": 6,
    "start_time": "2022-04-05T14:14:49.395Z"
   },
   {
    "duration": 67,
    "start_time": "2022-04-05T14:15:38.480Z"
   },
   {
    "duration": 11,
    "start_time": "2022-04-05T14:16:25.743Z"
   },
   {
    "duration": 90,
    "start_time": "2022-04-05T14:16:37.849Z"
   },
   {
    "duration": 85,
    "start_time": "2022-04-05T14:17:03.521Z"
   },
   {
    "duration": 30,
    "start_time": "2022-04-05T14:21:05.681Z"
   },
   {
    "duration": 2116,
    "start_time": "2022-04-05T14:21:14.166Z"
   },
   {
    "duration": 2158,
    "start_time": "2022-04-05T14:22:33.725Z"
   },
   {
    "duration": 1987,
    "start_time": "2022-04-05T14:22:58.598Z"
   },
   {
    "duration": 2011,
    "start_time": "2022-04-05T14:29:02.772Z"
   },
   {
    "duration": 1810,
    "start_time": "2022-04-05T14:29:28.273Z"
   },
   {
    "duration": 1702,
    "start_time": "2022-04-05T14:30:14.988Z"
   },
   {
    "duration": 1689,
    "start_time": "2022-04-05T14:31:44.097Z"
   },
   {
    "duration": 1988,
    "start_time": "2022-04-05T14:34:09.100Z"
   },
   {
    "duration": 1693,
    "start_time": "2022-04-05T14:34:16.791Z"
   },
   {
    "duration": 2049,
    "start_time": "2022-04-05T14:35:00.636Z"
   },
   {
    "duration": 22,
    "start_time": "2022-04-05T14:42:04.711Z"
   },
   {
    "duration": 28,
    "start_time": "2022-04-05T14:42:25.644Z"
   },
   {
    "duration": 155,
    "start_time": "2022-04-05T14:42:47.996Z"
   },
   {
    "duration": 29,
    "start_time": "2022-04-05T14:42:55.779Z"
   },
   {
    "duration": 1530,
    "start_time": "2022-04-05T14:44:32.363Z"
   },
   {
    "duration": 1896,
    "start_time": "2022-04-05T14:45:22.388Z"
   },
   {
    "duration": 2379,
    "start_time": "2022-04-05T14:45:35.506Z"
   },
   {
    "duration": 1750,
    "start_time": "2022-04-05T14:46:38.938Z"
   },
   {
    "duration": 2120,
    "start_time": "2022-04-05T14:47:18.156Z"
   },
   {
    "duration": 1798,
    "start_time": "2022-04-05T14:47:40.592Z"
   },
   {
    "duration": 1565,
    "start_time": "2022-04-05T14:48:19.217Z"
   },
   {
    "duration": 1434,
    "start_time": "2022-04-05T14:48:39.754Z"
   },
   {
    "duration": 1778,
    "start_time": "2022-04-05T14:49:17.205Z"
   },
   {
    "duration": 214,
    "start_time": "2022-04-05T14:49:38.660Z"
   },
   {
    "duration": 2628,
    "start_time": "2022-04-05T14:49:43.283Z"
   },
   {
    "duration": 2656,
    "start_time": "2022-04-05T14:50:49.354Z"
   },
   {
    "duration": 194,
    "start_time": "2022-04-05T14:51:39.030Z"
   },
   {
    "duration": 2512,
    "start_time": "2022-04-05T14:51:58.590Z"
   },
   {
    "duration": 1613,
    "start_time": "2022-04-05T14:52:12.279Z"
   },
   {
    "duration": 1862,
    "start_time": "2022-04-05T14:52:22.526Z"
   },
   {
    "duration": 1590,
    "start_time": "2022-04-05T14:52:50.897Z"
   },
   {
    "duration": 2236,
    "start_time": "2022-04-05T14:53:06.645Z"
   },
   {
    "duration": 188,
    "start_time": "2022-04-05T14:57:03.276Z"
   },
   {
    "duration": 2151,
    "start_time": "2022-04-05T14:57:07.632Z"
   },
   {
    "duration": 2436,
    "start_time": "2022-04-05T14:58:14.348Z"
   },
   {
    "duration": 2309,
    "start_time": "2022-04-05T14:58:43.174Z"
   },
   {
    "duration": 73,
    "start_time": "2022-04-05T17:34:52.471Z"
   },
   {
    "duration": 2747,
    "start_time": "2022-04-05T17:35:00.914Z"
   },
   {
    "duration": 4408,
    "start_time": "2022-04-05T17:35:03.664Z"
   },
   {
    "duration": 5,
    "start_time": "2022-04-05T17:35:08.075Z"
   },
   {
    "duration": 101,
    "start_time": "2022-04-05T17:35:08.083Z"
   },
   {
    "duration": 31,
    "start_time": "2022-04-05T17:35:08.189Z"
   },
   {
    "duration": 179,
    "start_time": "2022-04-05T17:35:08.223Z"
   },
   {
    "duration": 249,
    "start_time": "2022-04-05T17:35:08.405Z"
   },
   {
    "duration": 203,
    "start_time": "2022-04-05T17:35:08.656Z"
   },
   {
    "duration": 214,
    "start_time": "2022-04-05T17:35:08.861Z"
   },
   {
    "duration": 33,
    "start_time": "2022-04-05T17:35:09.077Z"
   },
   {
    "duration": 668,
    "start_time": "2022-04-05T17:35:09.112Z"
   },
   {
    "duration": 1374,
    "start_time": "2022-04-05T17:35:09.782Z"
   },
   {
    "duration": 432,
    "start_time": "2022-04-05T17:35:11.159Z"
   },
   {
    "duration": 558,
    "start_time": "2022-04-05T17:35:11.597Z"
   },
   {
    "duration": 372,
    "start_time": "2022-04-05T17:35:12.157Z"
   },
   {
    "duration": 35,
    "start_time": "2022-04-05T17:35:12.531Z"
   },
   {
    "duration": 21,
    "start_time": "2022-04-05T17:35:12.570Z"
   },
   {
    "duration": 49,
    "start_time": "2022-04-05T17:35:12.594Z"
   },
   {
    "duration": 29,
    "start_time": "2022-04-05T17:35:12.646Z"
   },
   {
    "duration": 191,
    "start_time": "2022-04-05T17:35:12.752Z"
   },
   {
    "duration": 107,
    "start_time": "2022-04-05T17:35:12.947Z"
   },
   {
    "duration": 87,
    "start_time": "2022-04-05T17:35:13.058Z"
   },
   {
    "duration": 97,
    "start_time": "2022-04-05T17:35:13.148Z"
   },
   {
    "duration": 9,
    "start_time": "2022-04-05T17:35:13.247Z"
   },
   {
    "duration": 20,
    "start_time": "2022-04-05T17:35:13.258Z"
   },
   {
    "duration": 733,
    "start_time": "2022-04-05T17:35:13.281Z"
   },
   {
    "duration": 2234,
    "start_time": "2022-04-05T17:35:14.016Z"
   },
   {
    "duration": 643,
    "start_time": "2022-04-05T17:42:55.714Z"
   },
   {
    "duration": 2391,
    "start_time": "2022-04-05T17:49:50.454Z"
   },
   {
    "duration": 4,
    "start_time": "2022-04-05T18:30:25.049Z"
   },
   {
    "duration": 194,
    "start_time": "2022-04-05T18:31:26.628Z"
   },
   {
    "duration": 6,
    "start_time": "2022-04-05T18:31:32.593Z"
   },
   {
    "duration": 4,
    "start_time": "2022-04-05T18:34:29.288Z"
   },
   {
    "duration": 5,
    "start_time": "2022-04-05T18:34:39.555Z"
   },
   {
    "duration": 5,
    "start_time": "2022-04-05T18:35:01.644Z"
   },
   {
    "duration": 5158,
    "start_time": "2022-04-05T18:36:02.311Z"
   },
   {
    "duration": 5,
    "start_time": "2022-04-05T18:36:11.651Z"
   },
   {
    "duration": 8,
    "start_time": "2022-04-05T18:36:35.605Z"
   },
   {
    "duration": 4,
    "start_time": "2022-04-05T18:41:22.125Z"
   },
   {
    "duration": 18,
    "start_time": "2022-04-05T18:41:56.041Z"
   },
   {
    "duration": 4,
    "start_time": "2022-04-05T18:42:05.383Z"
   },
   {
    "duration": 16,
    "start_time": "2022-04-05T18:42:06.579Z"
   },
   {
    "duration": 5,
    "start_time": "2022-04-05T18:42:23.495Z"
   },
   {
    "duration": 18,
    "start_time": "2022-04-05T18:42:24.649Z"
   },
   {
    "duration": 5,
    "start_time": "2022-04-05T18:42:42.680Z"
   },
   {
    "duration": 30,
    "start_time": "2022-04-05T18:42:42.687Z"
   },
   {
    "duration": 5,
    "start_time": "2022-04-05T18:42:51.085Z"
   },
   {
    "duration": 10,
    "start_time": "2022-04-05T18:42:51.619Z"
   },
   {
    "duration": 9,
    "start_time": "2022-04-05T18:43:19.874Z"
   },
   {
    "duration": 10,
    "start_time": "2022-04-05T18:43:21.967Z"
   },
   {
    "duration": 2194,
    "start_time": "2022-04-05T20:40:14.000Z"
   },
   {
    "duration": 437,
    "start_time": "2022-04-05T20:40:16.198Z"
   },
   {
    "duration": 3,
    "start_time": "2022-04-05T20:40:16.637Z"
   },
   {
    "duration": 61,
    "start_time": "2022-04-05T20:40:16.642Z"
   },
   {
    "duration": 19,
    "start_time": "2022-04-05T20:40:16.707Z"
   },
   {
    "duration": 130,
    "start_time": "2022-04-05T20:40:16.728Z"
   },
   {
    "duration": 240,
    "start_time": "2022-04-05T20:40:16.860Z"
   },
   {
    "duration": 201,
    "start_time": "2022-04-05T20:40:17.103Z"
   },
   {
    "duration": 314,
    "start_time": "2022-04-05T20:40:17.307Z"
   },
   {
    "duration": 35,
    "start_time": "2022-04-05T20:40:17.622Z"
   },
   {
    "duration": 690,
    "start_time": "2022-04-05T20:40:17.673Z"
   },
   {
    "duration": 1400,
    "start_time": "2022-04-05T20:40:18.366Z"
   },
   {
    "duration": 416,
    "start_time": "2022-04-05T20:40:19.773Z"
   },
   {
    "duration": 424,
    "start_time": "2022-04-05T20:40:20.194Z"
   },
   {
    "duration": 273,
    "start_time": "2022-04-05T20:40:20.620Z"
   },
   {
    "duration": 20,
    "start_time": "2022-04-05T20:40:20.895Z"
   },
   {
    "duration": 27,
    "start_time": "2022-04-05T20:40:20.917Z"
   },
   {
    "duration": 40,
    "start_time": "2022-04-05T20:40:20.947Z"
   },
   {
    "duration": 90,
    "start_time": "2022-04-05T20:40:20.990Z"
   },
   {
    "duration": 18,
    "start_time": "2022-04-05T20:40:21.173Z"
   },
   {
    "duration": 183,
    "start_time": "2022-04-05T20:40:21.194Z"
   },
   {
    "duration": 96,
    "start_time": "2022-04-05T20:40:21.380Z"
   },
   {
    "duration": 98,
    "start_time": "2022-04-05T20:40:21.480Z"
   },
   {
    "duration": 8,
    "start_time": "2022-04-05T20:40:21.580Z"
   },
   {
    "duration": 14,
    "start_time": "2022-04-05T20:40:21.590Z"
   },
   {
    "duration": 940,
    "start_time": "2022-04-05T20:40:21.606Z"
   },
   {
    "duration": 2336,
    "start_time": "2022-04-05T20:40:22.548Z"
   },
   {
    "duration": 5,
    "start_time": "2022-04-05T20:40:24.886Z"
   },
   {
    "duration": 9,
    "start_time": "2022-04-05T20:40:24.893Z"
   },
   {
    "duration": 8,
    "start_time": "2022-04-05T20:40:24.904Z"
   },
   {
    "duration": 4,
    "start_time": "2022-04-05T20:40:24.914Z"
   },
   {
    "duration": 11,
    "start_time": "2022-04-05T20:40:24.920Z"
   },
   {
    "duration": 10,
    "start_time": "2022-04-05T20:40:24.975Z"
   },
   {
    "duration": 9,
    "start_time": "2022-04-05T20:40:24.986Z"
   },
   {
    "duration": 203,
    "start_time": "2022-04-05T20:43:13.156Z"
   },
   {
    "duration": 5,
    "start_time": "2022-04-05T20:43:15.978Z"
   },
   {
    "duration": 4,
    "start_time": "2022-04-05T20:43:17.113Z"
   },
   {
    "duration": 9,
    "start_time": "2022-04-05T20:47:43.568Z"
   },
   {
    "duration": 9,
    "start_time": "2022-04-05T20:47:44.090Z"
   },
   {
    "duration": 9,
    "start_time": "2022-04-05T20:47:44.522Z"
   },
   {
    "duration": 5,
    "start_time": "2022-04-05T21:37:31.997Z"
   },
   {
    "duration": 5,
    "start_time": "2022-04-05T21:37:43.295Z"
   },
   {
    "duration": 5,
    "start_time": "2022-04-05T21:37:55.962Z"
   },
   {
    "duration": 9,
    "start_time": "2022-04-05T21:37:56.462Z"
   },
   {
    "duration": 5,
    "start_time": "2022-04-05T21:40:29.160Z"
   },
   {
    "duration": 5,
    "start_time": "2022-04-05T21:41:08.694Z"
   },
   {
    "duration": 18,
    "start_time": "2022-04-05T21:41:09.261Z"
   },
   {
    "duration": 5,
    "start_time": "2022-04-05T21:41:26.079Z"
   },
   {
    "duration": 37,
    "start_time": "2022-04-05T21:41:27.173Z"
   },
   {
    "duration": 5,
    "start_time": "2022-04-05T21:42:34.591Z"
   },
   {
    "duration": 30,
    "start_time": "2022-04-05T21:42:35.172Z"
   },
   {
    "duration": 93,
    "start_time": "2022-04-05T21:43:12.371Z"
   },
   {
    "duration": 31,
    "start_time": "2022-04-05T21:43:12.898Z"
   },
   {
    "duration": 98,
    "start_time": "2022-04-05T21:46:10.196Z"
   },
   {
    "duration": 32,
    "start_time": "2022-04-05T21:46:13.894Z"
   },
   {
    "duration": 92,
    "start_time": "2022-04-05T21:46:36.869Z"
   },
   {
    "duration": 99,
    "start_time": "2022-04-05T21:46:48.801Z"
   },
   {
    "duration": 102,
    "start_time": "2022-04-05T21:47:00.839Z"
   },
   {
    "duration": 119,
    "start_time": "2022-04-05T21:51:30.318Z"
   },
   {
    "duration": 113,
    "start_time": "2022-04-05T21:51:35.224Z"
   },
   {
    "duration": 5,
    "start_time": "2022-04-05T21:51:47.738Z"
   },
   {
    "duration": 30,
    "start_time": "2022-04-05T21:51:55.815Z"
   },
   {
    "duration": 4,
    "start_time": "2022-04-05T21:55:16.508Z"
   },
   {
    "duration": 4,
    "start_time": "2022-04-05T21:59:50.620Z"
   },
   {
    "duration": 35,
    "start_time": "2022-04-05T21:59:51.333Z"
   },
   {
    "duration": 4,
    "start_time": "2022-04-05T22:02:26.582Z"
   },
   {
    "duration": 12,
    "start_time": "2022-04-05T22:02:28.830Z"
   },
   {
    "duration": 5,
    "start_time": "2022-04-05T22:03:42.117Z"
   },
   {
    "duration": 5,
    "start_time": "2022-04-05T22:03:42.609Z"
   },
   {
    "duration": 5,
    "start_time": "2022-04-05T22:04:00.569Z"
   },
   {
    "duration": 12,
    "start_time": "2022-04-05T22:04:04.201Z"
   },
   {
    "duration": 6,
    "start_time": "2022-04-05T22:05:37.194Z"
   },
   {
    "duration": 15,
    "start_time": "2022-04-05T22:05:37.623Z"
   },
   {
    "duration": 5,
    "start_time": "2022-04-05T22:08:10.313Z"
   },
   {
    "duration": 13,
    "start_time": "2022-04-05T22:08:14.139Z"
   },
   {
    "duration": 4,
    "start_time": "2022-04-05T22:08:29.556Z"
   },
   {
    "duration": 14,
    "start_time": "2022-04-05T22:08:32.941Z"
   },
   {
    "duration": 13,
    "start_time": "2022-04-05T22:09:00.748Z"
   },
   {
    "duration": 16,
    "start_time": "2022-04-05T22:09:01.246Z"
   },
   {
    "duration": 6,
    "start_time": "2022-04-05T22:10:36.503Z"
   },
   {
    "duration": 7,
    "start_time": "2022-04-05T22:10:49.469Z"
   },
   {
    "duration": 5,
    "start_time": "2022-04-05T22:16:23.677Z"
   },
   {
    "duration": 16,
    "start_time": "2022-04-05T22:16:26.985Z"
   },
   {
    "duration": 4765,
    "start_time": "2022-04-05T22:18:24.357Z"
   },
   {
    "duration": 4773,
    "start_time": "2022-04-05T22:19:33.910Z"
   },
   {
    "duration": 5,
    "start_time": "2022-04-05T22:19:41.423Z"
   },
   {
    "duration": 1549,
    "start_time": "2022-04-05T22:19:45.111Z"
   },
   {
    "duration": 1514,
    "start_time": "2022-04-05T22:20:31.598Z"
   },
   {
    "duration": 1528,
    "start_time": "2022-04-05T22:20:45.155Z"
   },
   {
    "duration": 5,
    "start_time": "2022-04-05T22:21:41.763Z"
   },
   {
    "duration": 7,
    "start_time": "2022-04-05T22:21:45.683Z"
   },
   {
    "duration": 12,
    "start_time": "2022-04-05T22:21:48.617Z"
   },
   {
    "duration": 11,
    "start_time": "2022-04-05T22:21:50.625Z"
   },
   {
    "duration": 12,
    "start_time": "2022-04-05T22:21:52.003Z"
   },
   {
    "duration": 1548,
    "start_time": "2022-04-05T22:22:02.451Z"
   },
   {
    "duration": 1497,
    "start_time": "2022-04-05T22:22:39.692Z"
   },
   {
    "duration": 1512,
    "start_time": "2022-04-05T22:22:52.062Z"
   },
   {
    "duration": 119,
    "start_time": "2022-04-05T22:24:40.778Z"
   },
   {
    "duration": 1502,
    "start_time": "2022-04-05T22:24:53.686Z"
   },
   {
    "duration": 1527,
    "start_time": "2022-04-05T22:27:38.770Z"
   },
   {
    "duration": 1504,
    "start_time": "2022-04-05T22:28:43.649Z"
   },
   {
    "duration": 1524,
    "start_time": "2022-04-05T22:28:53.444Z"
   },
   {
    "duration": 1560,
    "start_time": "2022-04-05T22:29:09.554Z"
   },
   {
    "duration": 108,
    "start_time": "2022-04-05T22:35:38.367Z"
   },
   {
    "duration": 13,
    "start_time": "2022-04-05T22:35:46.487Z"
   },
   {
    "duration": 12,
    "start_time": "2022-04-05T22:36:11.546Z"
   },
   {
    "duration": 11,
    "start_time": "2022-04-05T22:36:16.598Z"
   },
   {
    "duration": 1610,
    "start_time": "2022-04-05T22:36:47.941Z"
   },
   {
    "duration": 1535,
    "start_time": "2022-04-05T22:37:29.243Z"
   },
   {
    "duration": 1685,
    "start_time": "2022-04-06T06:52:41.638Z"
   },
   {
    "duration": 346,
    "start_time": "2022-04-06T06:52:43.325Z"
   },
   {
    "duration": 3,
    "start_time": "2022-04-06T06:52:43.672Z"
   },
   {
    "duration": 37,
    "start_time": "2022-04-06T06:52:43.677Z"
   },
   {
    "duration": 12,
    "start_time": "2022-04-06T06:52:43.716Z"
   },
   {
    "duration": 88,
    "start_time": "2022-04-06T06:52:43.729Z"
   },
   {
    "duration": 169,
    "start_time": "2022-04-06T06:52:43.819Z"
   },
   {
    "duration": 176,
    "start_time": "2022-04-06T06:52:43.989Z"
   },
   {
    "duration": 123,
    "start_time": "2022-04-06T06:52:44.167Z"
   },
   {
    "duration": 26,
    "start_time": "2022-04-06T06:52:44.292Z"
   },
   {
    "duration": 394,
    "start_time": "2022-04-06T06:52:44.319Z"
   },
   {
    "duration": 511,
    "start_time": "2022-04-06T06:52:44.714Z"
   },
   {
    "duration": 259,
    "start_time": "2022-04-06T06:52:45.227Z"
   },
   {
    "duration": 370,
    "start_time": "2022-04-06T06:52:45.489Z"
   },
   {
    "duration": 142,
    "start_time": "2022-04-06T06:52:45.860Z"
   },
   {
    "duration": 14,
    "start_time": "2022-04-06T06:52:46.004Z"
   },
   {
    "duration": 14,
    "start_time": "2022-04-06T06:52:46.019Z"
   },
   {
    "duration": 14,
    "start_time": "2022-04-06T06:52:46.035Z"
   },
   {
    "duration": 13,
    "start_time": "2022-04-06T06:52:46.051Z"
   },
   {
    "duration": 100,
    "start_time": "2022-04-06T06:52:46.108Z"
   },
   {
    "duration": 98,
    "start_time": "2022-04-06T06:52:46.211Z"
   },
   {
    "duration": 96,
    "start_time": "2022-04-06T06:52:46.311Z"
   },
   {
    "duration": 92,
    "start_time": "2022-04-06T06:52:46.410Z"
   },
   {
    "duration": 6,
    "start_time": "2022-04-06T06:52:46.504Z"
   },
   {
    "duration": 11,
    "start_time": "2022-04-06T06:52:46.512Z"
   },
   {
    "duration": 439,
    "start_time": "2022-04-06T06:52:46.525Z"
   },
   {
    "duration": 1944,
    "start_time": "2022-04-06T06:52:46.966Z"
   },
   {
    "duration": 3,
    "start_time": "2022-04-06T06:52:49.002Z"
   },
   {
    "duration": 6,
    "start_time": "2022-04-06T06:52:49.007Z"
   },
   {
    "duration": 7,
    "start_time": "2022-04-06T06:52:49.014Z"
   },
   {
    "duration": 5,
    "start_time": "2022-04-06T06:52:49.022Z"
   },
   {
    "duration": 8,
    "start_time": "2022-04-06T06:52:49.029Z"
   },
   {
    "duration": 6,
    "start_time": "2022-04-06T06:52:49.039Z"
   },
   {
    "duration": 7,
    "start_time": "2022-04-06T06:52:49.047Z"
   },
   {
    "duration": 170,
    "start_time": "2022-04-06T06:52:49.056Z"
   },
   {
    "duration": 0,
    "start_time": "2022-04-06T06:52:49.228Z"
   },
   {
    "duration": 0,
    "start_time": "2022-04-06T06:52:49.229Z"
   },
   {
    "duration": 3,
    "start_time": "2022-04-06T07:03:00.651Z"
   },
   {
    "duration": 9,
    "start_time": "2022-04-06T07:03:24.884Z"
   },
   {
    "duration": 7,
    "start_time": "2022-04-06T07:03:26.752Z"
   },
   {
    "duration": 8,
    "start_time": "2022-04-06T07:03:41.256Z"
   },
   {
    "duration": 8,
    "start_time": "2022-04-06T07:03:41.830Z"
   },
   {
    "duration": 8,
    "start_time": "2022-04-06T07:03:42.236Z"
   },
   {
    "duration": 934,
    "start_time": "2022-04-06T07:04:35.806Z"
   },
   {
    "duration": 928,
    "start_time": "2022-04-06T07:04:45.867Z"
   },
   {
    "duration": 886,
    "start_time": "2022-04-06T07:04:49.616Z"
   },
   {
    "duration": 3,
    "start_time": "2022-04-06T07:05:40.879Z"
   },
   {
    "duration": 1359,
    "start_time": "2022-04-06T07:14:39.245Z"
   },
   {
    "duration": 876,
    "start_time": "2022-04-06T07:27:49.081Z"
   },
   {
    "duration": 906,
    "start_time": "2022-04-06T07:27:52.359Z"
   },
   {
    "duration": 925,
    "start_time": "2022-04-06T07:27:54.976Z"
   },
   {
    "duration": 17,
    "start_time": "2022-04-06T07:31:14.058Z"
   },
   {
    "duration": 4,
    "start_time": "2022-04-06T07:31:22.172Z"
   },
   {
    "duration": 11,
    "start_time": "2022-04-06T07:31:26.676Z"
   },
   {
    "duration": 10,
    "start_time": "2022-04-06T07:34:27.840Z"
   },
   {
    "duration": 11,
    "start_time": "2022-04-06T07:36:33.779Z"
   },
   {
    "duration": 3,
    "start_time": "2022-04-06T07:37:57.176Z"
   },
   {
    "duration": 2,
    "start_time": "2022-04-06T07:37:58.740Z"
   },
   {
    "duration": 9,
    "start_time": "2022-04-06T07:37:59.771Z"
   },
   {
    "duration": 1637,
    "start_time": "2022-04-06T07:47:58.798Z"
   },
   {
    "duration": 365,
    "start_time": "2022-04-06T07:48:00.438Z"
   },
   {
    "duration": 3,
    "start_time": "2022-04-06T07:48:00.804Z"
   },
   {
    "duration": 42,
    "start_time": "2022-04-06T07:48:00.809Z"
   },
   {
    "duration": 13,
    "start_time": "2022-04-06T07:48:00.854Z"
   },
   {
    "duration": 98,
    "start_time": "2022-04-06T07:48:00.869Z"
   },
   {
    "duration": 206,
    "start_time": "2022-04-06T07:48:00.969Z"
   },
   {
    "duration": 185,
    "start_time": "2022-04-06T07:48:01.177Z"
   },
   {
    "duration": 121,
    "start_time": "2022-04-06T07:48:01.363Z"
   },
   {
    "duration": 28,
    "start_time": "2022-04-06T07:48:01.486Z"
   },
   {
    "duration": 379,
    "start_time": "2022-04-06T07:48:01.516Z"
   },
   {
    "duration": 515,
    "start_time": "2022-04-06T07:48:01.900Z"
   },
   {
    "duration": 292,
    "start_time": "2022-04-06T07:48:02.417Z"
   },
   {
    "duration": 272,
    "start_time": "2022-04-06T07:48:02.712Z"
   },
   {
    "duration": 145,
    "start_time": "2022-04-06T07:48:02.986Z"
   },
   {
    "duration": 13,
    "start_time": "2022-04-06T07:48:03.133Z"
   },
   {
    "duration": 23,
    "start_time": "2022-04-06T07:48:03.148Z"
   },
   {
    "duration": 19,
    "start_time": "2022-04-06T07:48:03.173Z"
   },
   {
    "duration": 27,
    "start_time": "2022-04-06T07:48:03.194Z"
   },
   {
    "duration": 181,
    "start_time": "2022-04-06T07:48:03.222Z"
   },
   {
    "duration": 101,
    "start_time": "2022-04-06T07:48:03.405Z"
   },
   {
    "duration": 193,
    "start_time": "2022-04-06T07:48:03.508Z"
   },
   {
    "duration": 11,
    "start_time": "2022-04-06T07:48:03.703Z"
   },
   {
    "duration": 15,
    "start_time": "2022-04-06T07:48:03.716Z"
   },
   {
    "duration": 27,
    "start_time": "2022-04-06T07:48:03.733Z"
   },
   {
    "duration": 389,
    "start_time": "2022-04-06T07:48:03.761Z"
   },
   {
    "duration": 1959,
    "start_time": "2022-04-06T07:48:04.152Z"
   },
   {
    "duration": 90,
    "start_time": "2022-04-06T07:48:06.113Z"
   },
   {
    "duration": 20,
    "start_time": "2022-04-06T07:48:06.205Z"
   },
   {
    "duration": 10,
    "start_time": "2022-04-06T07:48:06.227Z"
   },
   {
    "duration": 8,
    "start_time": "2022-04-06T07:48:06.239Z"
   },
   {
    "duration": 15,
    "start_time": "2022-04-06T07:48:06.249Z"
   },
   {
    "duration": 8,
    "start_time": "2022-04-06T07:48:06.267Z"
   },
   {
    "duration": 25,
    "start_time": "2022-04-06T07:48:06.277Z"
   },
   {
    "duration": 1290,
    "start_time": "2022-04-06T07:48:06.303Z"
   },
   {
    "duration": 1118,
    "start_time": "2022-04-06T07:48:07.601Z"
   },
   {
    "duration": 1131,
    "start_time": "2022-04-06T07:48:08.720Z"
   },
   {
    "duration": 3,
    "start_time": "2022-04-06T07:48:09.853Z"
   },
   {
    "duration": 14,
    "start_time": "2022-04-06T07:48:09.858Z"
   },
   {
    "duration": 1598,
    "start_time": "2022-04-06T07:49:47.772Z"
   },
   {
    "duration": 361,
    "start_time": "2022-04-06T07:49:49.373Z"
   },
   {
    "duration": 2,
    "start_time": "2022-04-06T07:49:49.736Z"
   },
   {
    "duration": 35,
    "start_time": "2022-04-06T07:49:49.740Z"
   },
   {
    "duration": 26,
    "start_time": "2022-04-06T07:49:49.778Z"
   },
   {
    "duration": 76,
    "start_time": "2022-04-06T07:49:49.805Z"
   },
   {
    "duration": 195,
    "start_time": "2022-04-06T07:49:49.883Z"
   },
   {
    "duration": 167,
    "start_time": "2022-04-06T07:49:50.079Z"
   },
   {
    "duration": 123,
    "start_time": "2022-04-06T07:49:50.248Z"
   },
   {
    "duration": 36,
    "start_time": "2022-04-06T07:49:50.373Z"
   },
   {
    "duration": 384,
    "start_time": "2022-04-06T07:49:50.410Z"
   },
   {
    "duration": 504,
    "start_time": "2022-04-06T07:49:50.800Z"
   },
   {
    "duration": 270,
    "start_time": "2022-04-06T07:49:51.306Z"
   },
   {
    "duration": 276,
    "start_time": "2022-04-06T07:49:51.579Z"
   },
   {
    "duration": 151,
    "start_time": "2022-04-06T07:49:51.856Z"
   },
   {
    "duration": 15,
    "start_time": "2022-04-06T07:49:52.009Z"
   },
   {
    "duration": 16,
    "start_time": "2022-04-06T07:49:52.026Z"
   },
   {
    "duration": 18,
    "start_time": "2022-04-06T07:49:52.043Z"
   },
   {
    "duration": 42,
    "start_time": "2022-04-06T07:49:52.063Z"
   },
   {
    "duration": 194,
    "start_time": "2022-04-06T07:49:52.108Z"
   },
   {
    "duration": 103,
    "start_time": "2022-04-06T07:49:52.305Z"
   },
   {
    "duration": 96,
    "start_time": "2022-04-06T07:49:52.410Z"
   },
   {
    "duration": 97,
    "start_time": "2022-04-06T07:49:52.508Z"
   },
   {
    "duration": 12,
    "start_time": "2022-04-06T07:49:52.606Z"
   },
   {
    "duration": 9,
    "start_time": "2022-04-06T07:49:52.620Z"
   },
   {
    "duration": 411,
    "start_time": "2022-04-06T07:49:52.630Z"
   },
   {
    "duration": 2159,
    "start_time": "2022-04-06T07:49:53.043Z"
   },
   {
    "duration": 4,
    "start_time": "2022-04-06T07:49:55.203Z"
   },
   {
    "duration": 6,
    "start_time": "2022-04-06T07:49:55.208Z"
   },
   {
    "duration": 10,
    "start_time": "2022-04-06T07:49:55.216Z"
   },
   {
    "duration": 4,
    "start_time": "2022-04-06T07:49:55.227Z"
   },
   {
    "duration": 9,
    "start_time": "2022-04-06T07:49:55.233Z"
   },
   {
    "duration": 8,
    "start_time": "2022-04-06T07:49:55.243Z"
   },
   {
    "duration": 8,
    "start_time": "2022-04-06T07:49:55.252Z"
   },
   {
    "duration": 953,
    "start_time": "2022-04-06T07:49:55.261Z"
   },
   {
    "duration": 909,
    "start_time": "2022-04-06T07:49:56.215Z"
   },
   {
    "duration": 911,
    "start_time": "2022-04-06T07:49:57.125Z"
   },
   {
    "duration": 3,
    "start_time": "2022-04-06T07:49:58.037Z"
   },
   {
    "duration": 11,
    "start_time": "2022-04-06T07:49:58.041Z"
   },
   {
    "duration": 1623,
    "start_time": "2022-04-07T12:10:12.607Z"
   },
   {
    "duration": 334,
    "start_time": "2022-04-07T12:11:51.556Z"
   },
   {
    "duration": 3,
    "start_time": "2022-04-07T12:11:53.162Z"
   },
   {
    "duration": 35,
    "start_time": "2022-04-07T12:11:53.848Z"
   },
   {
    "duration": 11,
    "start_time": "2022-04-07T12:11:55.536Z"
   },
   {
    "duration": 77,
    "start_time": "2022-04-07T12:11:57.064Z"
   },
   {
    "duration": 198,
    "start_time": "2022-04-07T12:11:58.749Z"
   },
   {
    "duration": 197,
    "start_time": "2022-04-07T12:12:00.084Z"
   },
   {
    "duration": 131,
    "start_time": "2022-04-07T12:12:02.777Z"
   },
   {
    "duration": 24,
    "start_time": "2022-04-07T12:12:04.214Z"
   },
   {
    "duration": 382,
    "start_time": "2022-04-07T12:12:06.116Z"
   },
   {
    "duration": 574,
    "start_time": "2022-04-07T12:12:09.496Z"
   },
   {
    "duration": 268,
    "start_time": "2022-04-07T12:12:11.012Z"
   },
   {
    "duration": 265,
    "start_time": "2022-04-07T12:12:12.314Z"
   },
   {
    "duration": 146,
    "start_time": "2022-04-07T12:12:14.557Z"
   },
   {
    "duration": 5,
    "start_time": "2022-04-07T12:21:39.339Z"
   },
   {
    "duration": 136,
    "start_time": "2022-04-07T12:21:57.840Z"
   },
   {
    "duration": 4,
    "start_time": "2022-04-07T12:22:05.687Z"
   },
   {
    "duration": 111,
    "start_time": "2022-04-07T12:22:06.324Z"
   },
   {
    "duration": 5,
    "start_time": "2022-04-07T12:22:39.664Z"
   },
   {
    "duration": 49,
    "start_time": "2022-04-07T12:22:40.285Z"
   },
   {
    "duration": 4,
    "start_time": "2022-04-07T12:23:21.446Z"
   },
   {
    "duration": 96,
    "start_time": "2022-04-07T12:23:22.039Z"
   },
   {
    "duration": 9,
    "start_time": "2022-04-07T12:24:40.111Z"
   },
   {
    "duration": 10,
    "start_time": "2022-04-07T12:24:45.284Z"
   },
   {
    "duration": 4,
    "start_time": "2022-04-07T12:24:49.906Z"
   },
   {
    "duration": 31,
    "start_time": "2022-04-07T12:24:51.024Z"
   },
   {
    "duration": 10,
    "start_time": "2022-04-07T12:24:51.981Z"
   },
   {
    "duration": 6,
    "start_time": "2022-04-07T12:25:30.765Z"
   },
   {
    "duration": 123,
    "start_time": "2022-04-07T12:25:31.609Z"
   },
   {
    "duration": 9,
    "start_time": "2022-04-07T12:25:40.501Z"
   },
   {
    "duration": 10,
    "start_time": "2022-04-07T12:26:02.958Z"
   },
   {
    "duration": 9,
    "start_time": "2022-04-07T12:27:56.898Z"
   },
   {
    "duration": 4,
    "start_time": "2022-04-07T12:28:03.166Z"
   },
   {
    "duration": 124,
    "start_time": "2022-04-07T12:28:04.309Z"
   },
   {
    "duration": 9,
    "start_time": "2022-04-07T12:28:09.449Z"
   },
   {
    "duration": 5,
    "start_time": "2022-04-07T12:28:46.884Z"
   },
   {
    "duration": 60,
    "start_time": "2022-04-07T12:28:48.177Z"
   },
   {
    "duration": 10,
    "start_time": "2022-04-07T12:29:07.201Z"
   },
   {
    "duration": 5,
    "start_time": "2022-04-07T12:37:10.111Z"
   },
   {
    "duration": 29,
    "start_time": "2022-04-07T12:37:11.485Z"
   },
   {
    "duration": 12,
    "start_time": "2022-04-07T12:37:13.657Z"
   },
   {
    "duration": 11,
    "start_time": "2022-04-07T12:37:20.581Z"
   },
   {
    "duration": 13,
    "start_time": "2022-04-07T12:37:28.179Z"
   },
   {
    "duration": 6,
    "start_time": "2022-04-07T12:37:40.358Z"
   },
   {
    "duration": 32,
    "start_time": "2022-04-07T12:37:41.609Z"
   },
   {
    "duration": 13,
    "start_time": "2022-04-07T12:37:43.735Z"
   },
   {
    "duration": 151,
    "start_time": "2022-04-07T12:39:25.085Z"
   },
   {
    "duration": 9,
    "start_time": "2022-04-07T12:39:36.207Z"
   },
   {
    "duration": 10,
    "start_time": "2022-04-07T12:39:41.933Z"
   },
   {
    "duration": 155,
    "start_time": "2022-04-07T12:39:57.179Z"
   },
   {
    "duration": 31,
    "start_time": "2022-04-07T12:40:25.446Z"
   },
   {
    "duration": 5,
    "start_time": "2022-04-07T12:40:26.426Z"
   },
   {
    "duration": 207,
    "start_time": "2022-04-07T12:41:08.627Z"
   },
   {
    "duration": 6,
    "start_time": "2022-04-07T12:41:35.989Z"
   },
   {
    "duration": 22,
    "start_time": "2022-04-07T12:41:36.933Z"
   },
   {
    "duration": 22,
    "start_time": "2022-04-07T12:41:43.101Z"
   },
   {
    "duration": 5,
    "start_time": "2022-04-07T12:41:59.498Z"
   },
   {
    "duration": 69,
    "start_time": "2022-04-07T12:42:12.464Z"
   },
   {
    "duration": 11,
    "start_time": "2022-04-07T12:43:14.367Z"
   },
   {
    "duration": 4,
    "start_time": "2022-04-07T12:43:19.522Z"
   },
   {
    "duration": 20,
    "start_time": "2022-04-07T12:43:21.345Z"
   },
   {
    "duration": 4,
    "start_time": "2022-04-07T12:43:25.629Z"
   },
   {
    "duration": 4,
    "start_time": "2022-04-07T12:43:27.005Z"
   },
   {
    "duration": 6,
    "start_time": "2022-04-07T12:43:27.772Z"
   },
   {
    "duration": 4,
    "start_time": "2022-04-07T12:43:30.358Z"
   },
   {
    "duration": 8,
    "start_time": "2022-04-07T12:43:32.344Z"
   },
   {
    "duration": 7,
    "start_time": "2022-04-07T12:44:32.582Z"
   },
   {
    "duration": 129,
    "start_time": "2022-04-07T12:44:34.014Z"
   },
   {
    "duration": 33,
    "start_time": "2022-04-07T12:45:37.419Z"
   },
   {
    "duration": 69,
    "start_time": "2022-04-07T12:45:39.364Z"
   },
   {
    "duration": 12,
    "start_time": "2022-04-07T12:46:37.093Z"
   },
   {
    "duration": 407,
    "start_time": "2022-04-07T12:46:44.085Z"
   },
   {
    "duration": 2079,
    "start_time": "2022-04-07T12:47:31.755Z"
   },
   {
    "duration": 5,
    "start_time": "2022-04-07T12:47:47.742Z"
   },
   {
    "duration": 185,
    "start_time": "2022-04-07T12:47:57.418Z"
   },
   {
    "duration": 27,
    "start_time": "2022-04-07T12:48:02.845Z"
   },
   {
    "duration": 5,
    "start_time": "2022-04-07T12:48:12.010Z"
   },
   {
    "duration": 8,
    "start_time": "2022-04-07T12:48:14.757Z"
   },
   {
    "duration": 391,
    "start_time": "2022-04-07T12:48:18.813Z"
   },
   {
    "duration": 1653,
    "start_time": "2022-04-07T12:48:22.686Z"
   },
   {
    "duration": 3,
    "start_time": "2022-04-07T12:48:43.534Z"
   },
   {
    "duration": 8,
    "start_time": "2022-04-07T12:48:45.263Z"
   },
   {
    "duration": 10,
    "start_time": "2022-04-07T12:49:32.724Z"
   },
   {
    "duration": 4,
    "start_time": "2022-04-07T12:49:35.029Z"
   },
   {
    "duration": 8,
    "start_time": "2022-04-07T12:49:36.692Z"
   },
   {
    "duration": 9,
    "start_time": "2022-04-07T12:49:49.296Z"
   },
   {
    "duration": 9,
    "start_time": "2022-04-07T12:49:49.794Z"
   },
   {
    "duration": 4,
    "start_time": "2022-04-07T12:57:08.627Z"
   },
   {
    "duration": 8,
    "start_time": "2022-04-07T12:57:10.055Z"
   },
   {
    "duration": 9,
    "start_time": "2022-04-07T12:57:10.557Z"
   },
   {
    "duration": 7,
    "start_time": "2022-04-07T12:58:28.031Z"
   },
   {
    "duration": 13,
    "start_time": "2022-04-07T12:58:29.430Z"
   },
   {
    "duration": 3,
    "start_time": "2022-04-07T12:59:12.079Z"
   },
   {
    "duration": 5,
    "start_time": "2022-04-07T12:59:13.836Z"
   },
   {
    "duration": 819,
    "start_time": "2022-04-07T12:59:15.127Z"
   },
   {
    "duration": 814,
    "start_time": "2022-04-07T13:00:44.942Z"
   },
   {
    "duration": 814,
    "start_time": "2022-04-07T13:00:50.112Z"
   },
   {
    "duration": 6,
    "start_time": "2022-04-07T13:02:35.890Z"
   },
   {
    "duration": 1068,
    "start_time": "2022-04-07T13:02:36.842Z"
   },
   {
    "duration": 5,
    "start_time": "2022-04-07T13:03:29.397Z"
   },
   {
    "duration": 969,
    "start_time": "2022-04-07T13:03:30.453Z"
   },
   {
    "duration": 5,
    "start_time": "2022-04-07T13:04:01.967Z"
   },
   {
    "duration": 890,
    "start_time": "2022-04-07T13:04:06.017Z"
   },
   {
    "duration": 1026,
    "start_time": "2022-04-07T13:04:11.454Z"
   },
   {
    "duration": 938,
    "start_time": "2022-04-07T13:04:15.522Z"
   },
   {
    "duration": 829,
    "start_time": "2022-04-07T13:04:22.805Z"
   },
   {
    "duration": 931,
    "start_time": "2022-04-07T13:04:26.697Z"
   },
   {
    "duration": 1409,
    "start_time": "2022-04-07T13:04:34.161Z"
   },
   {
    "duration": 1359,
    "start_time": "2022-04-07T13:04:39.177Z"
   },
   {
    "duration": 900,
    "start_time": "2022-04-07T13:04:42.687Z"
   },
   {
    "duration": 889,
    "start_time": "2022-04-07T13:04:45.251Z"
   },
   {
    "duration": 1524,
    "start_time": "2022-04-07T13:06:23.077Z"
   },
   {
    "duration": 436,
    "start_time": "2022-04-07T13:06:24.603Z"
   },
   {
    "duration": 3,
    "start_time": "2022-04-07T13:06:25.041Z"
   },
   {
    "duration": 40,
    "start_time": "2022-04-07T13:06:25.045Z"
   },
   {
    "duration": 12,
    "start_time": "2022-04-07T13:06:25.087Z"
   },
   {
    "duration": 107,
    "start_time": "2022-04-07T13:06:25.101Z"
   },
   {
    "duration": 337,
    "start_time": "2022-04-07T13:06:25.209Z"
   },
   {
    "duration": 334,
    "start_time": "2022-04-07T13:06:25.548Z"
   },
   {
    "duration": 204,
    "start_time": "2022-04-07T13:06:25.884Z"
   },
   {
    "duration": 46,
    "start_time": "2022-04-07T13:06:26.090Z"
   },
   {
    "duration": 622,
    "start_time": "2022-04-07T13:06:26.138Z"
   },
   {
    "duration": 765,
    "start_time": "2022-04-07T13:06:26.763Z"
   },
   {
    "duration": 390,
    "start_time": "2022-04-07T13:06:27.533Z"
   },
   {
    "duration": 392,
    "start_time": "2022-04-07T13:06:27.932Z"
   },
   {
    "duration": 239,
    "start_time": "2022-04-07T13:06:28.326Z"
   },
   {
    "duration": 6,
    "start_time": "2022-04-07T13:06:28.567Z"
   },
   {
    "duration": 162,
    "start_time": "2022-04-07T13:06:28.575Z"
   },
   {
    "duration": 99,
    "start_time": "2022-04-07T13:06:28.739Z"
   },
   {
    "duration": 120,
    "start_time": "2022-04-07T13:06:28.840Z"
   },
   {
    "duration": 78,
    "start_time": "2022-04-07T13:06:28.962Z"
   },
   {
    "duration": 573,
    "start_time": "2022-04-07T13:06:29.042Z"
   },
   {
    "duration": 1917,
    "start_time": "2022-04-07T13:06:29.617Z"
   },
   {
    "duration": 4,
    "start_time": "2022-04-07T13:06:31.535Z"
   },
   {
    "duration": 8,
    "start_time": "2022-04-07T13:06:31.540Z"
   },
   {
    "duration": 12,
    "start_time": "2022-04-07T13:06:31.550Z"
   },
   {
    "duration": 12,
    "start_time": "2022-04-07T13:06:31.564Z"
   },
   {
    "duration": 12,
    "start_time": "2022-04-07T13:06:31.578Z"
   },
   {
    "duration": 9,
    "start_time": "2022-04-07T13:06:31.592Z"
   },
   {
    "duration": 30,
    "start_time": "2022-04-07T13:06:31.603Z"
   },
   {
    "duration": 3,
    "start_time": "2022-04-07T13:06:31.635Z"
   },
   {
    "duration": 7,
    "start_time": "2022-04-07T13:06:31.640Z"
   },
   {
    "duration": 1291,
    "start_time": "2022-04-07T13:06:31.649Z"
   },
   {
    "duration": 1131,
    "start_time": "2022-04-07T13:06:32.942Z"
   },
   {
    "duration": 1314,
    "start_time": "2022-04-07T13:06:34.075Z"
   },
   {
    "duration": 15,
    "start_time": "2022-04-07T13:06:35.391Z"
   },
   {
    "duration": 8,
    "start_time": "2022-04-07T13:10:30.891Z"
   },
   {
    "duration": 1399,
    "start_time": "2022-04-07T13:10:34.000Z"
   },
   {
    "duration": 1295,
    "start_time": "2022-04-07T13:10:59.050Z"
   },
   {
    "duration": 9,
    "start_time": "2022-04-07T13:11:17.407Z"
   },
   {
    "duration": 137,
    "start_time": "2022-04-07T13:12:02.853Z"
   },
   {
    "duration": 11,
    "start_time": "2022-04-07T13:12:11.923Z"
   },
   {
    "duration": 937,
    "start_time": "2022-04-07T13:12:41.435Z"
   },
   {
    "duration": 856,
    "start_time": "2022-04-07T13:13:06.693Z"
   },
   {
    "duration": 880,
    "start_time": "2022-04-07T13:13:26.313Z"
   },
   {
    "duration": 845,
    "start_time": "2022-04-07T13:13:28.747Z"
   },
   {
    "duration": 9,
    "start_time": "2022-04-07T13:14:01.989Z"
   },
   {
    "duration": 180,
    "start_time": "2022-04-07T13:14:59.892Z"
   },
   {
    "duration": 5,
    "start_time": "2022-04-07T13:15:11.779Z"
   },
   {
    "duration": 844,
    "start_time": "2022-04-07T13:15:13.302Z"
   },
   {
    "duration": 850,
    "start_time": "2022-04-07T13:15:15.665Z"
   },
   {
    "duration": 838,
    "start_time": "2022-04-07T13:15:18.301Z"
   },
   {
    "duration": 9,
    "start_time": "2022-04-07T13:15:20.955Z"
   },
   {
    "duration": 1516,
    "start_time": "2022-04-07T13:18:21.226Z"
   },
   {
    "duration": 527,
    "start_time": "2022-04-07T13:18:22.744Z"
   },
   {
    "duration": 3,
    "start_time": "2022-04-07T13:18:23.273Z"
   },
   {
    "duration": 39,
    "start_time": "2022-04-07T13:18:23.278Z"
   },
   {
    "duration": 12,
    "start_time": "2022-04-07T13:18:23.332Z"
   },
   {
    "duration": 91,
    "start_time": "2022-04-07T13:18:23.346Z"
   },
   {
    "duration": 223,
    "start_time": "2022-04-07T13:18:23.439Z"
   },
   {
    "duration": 195,
    "start_time": "2022-04-07T13:18:23.664Z"
   },
   {
    "duration": 137,
    "start_time": "2022-04-07T13:18:23.861Z"
   },
   {
    "duration": 44,
    "start_time": "2022-04-07T13:18:24.000Z"
   },
   {
    "duration": 408,
    "start_time": "2022-04-07T13:18:24.046Z"
   },
   {
    "duration": 521,
    "start_time": "2022-04-07T13:18:24.455Z"
   },
   {
    "duration": 275,
    "start_time": "2022-04-07T13:18:24.977Z"
   },
   {
    "duration": 280,
    "start_time": "2022-04-07T13:18:25.254Z"
   },
   {
    "duration": 160,
    "start_time": "2022-04-07T13:18:25.536Z"
   },
   {
    "duration": 5,
    "start_time": "2022-04-07T13:18:25.697Z"
   },
   {
    "duration": 45,
    "start_time": "2022-04-07T13:18:25.704Z"
   },
   {
    "duration": 201,
    "start_time": "2022-04-07T13:18:25.751Z"
   },
   {
    "duration": 196,
    "start_time": "2022-04-07T13:18:25.954Z"
   },
   {
    "duration": 86,
    "start_time": "2022-04-07T13:18:26.152Z"
   },
   {
    "duration": 488,
    "start_time": "2022-04-07T13:18:26.240Z"
   },
   {
    "duration": 1814,
    "start_time": "2022-04-07T13:18:26.729Z"
   },
   {
    "duration": 4,
    "start_time": "2022-04-07T13:18:28.633Z"
   },
   {
    "duration": 5,
    "start_time": "2022-04-07T13:18:28.639Z"
   },
   {
    "duration": 9,
    "start_time": "2022-04-07T13:18:28.646Z"
   },
   {
    "duration": 5,
    "start_time": "2022-04-07T13:18:28.657Z"
   },
   {
    "duration": 13,
    "start_time": "2022-04-07T13:18:28.664Z"
   },
   {
    "duration": 10,
    "start_time": "2022-04-07T13:18:28.679Z"
   },
   {
    "duration": 47,
    "start_time": "2022-04-07T13:18:28.691Z"
   },
   {
    "duration": 4,
    "start_time": "2022-04-07T13:18:28.740Z"
   },
   {
    "duration": 10,
    "start_time": "2022-04-07T13:18:28.746Z"
   },
   {
    "duration": 924,
    "start_time": "2022-04-07T13:18:28.758Z"
   },
   {
    "duration": 840,
    "start_time": "2022-04-07T13:18:29.684Z"
   },
   {
    "duration": 865,
    "start_time": "2022-04-07T13:18:30.526Z"
   },
   {
    "duration": 11,
    "start_time": "2022-04-07T13:18:31.393Z"
   }
  ],
  "kernelspec": {
   "display_name": "Python 3 (ipykernel)",
   "language": "python",
   "name": "python3"
  },
  "language_info": {
   "codemirror_mode": {
    "name": "ipython",
    "version": 3
   },
   "file_extension": ".py",
   "mimetype": "text/x-python",
   "name": "python",
   "nbconvert_exporter": "python",
   "pygments_lexer": "ipython3",
   "version": "3.9.12"
  },
  "toc": {
   "base_numbering": 1,
   "nav_menu": {},
   "number_sections": true,
   "sideBar": true,
   "skip_h1_title": true,
   "title_cell": "Table of Contents",
   "title_sidebar": "Contents",
   "toc_cell": false,
   "toc_position": {},
   "toc_section_display": true,
   "toc_window_display": false
  }
 },
 "nbformat": 4,
 "nbformat_minor": 2
}
