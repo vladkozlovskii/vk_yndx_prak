{
 "cells": [
  {
   "cell_type": "markdown",
   "metadata": {},
   "source": [
    "# Вводный текст"
   ]
  },
  {
   "cell_type": "markdown",
   "metadata": {},
   "source": [
    "Действовать планирую по инструкции указанной в задании (по шагам)"
   ]
  },
  {
   "cell_type": "markdown",
   "metadata": {},
   "source": [
    "В этом проекте не так много, как раньше занимался предобработкой (данные в основном хорошие) - больше всего времени потратил на расчеты.\n",
    "Мне было сложнее всего работать на Шаге 3 - где делал единую таблицу и заполнял её значениями из других - надеюсь не сделал принципиальных ошибок, Шаг 4 требовал меньше действий, надеюсь что там пришел к правильному выводу (хотя выбор метода проверки равенства/неравенства выборок мог быть ошибочным."
   ]
  },
  {
   "cell_type": "markdown",
   "metadata": {},
   "source": [
    "**Проект: Предварительный анализ тарифов компании Мегалайн на небольшой выборке клиентов**   \n",
    "\n",
    "**Описание Исследования**  \n",
    "Клиентам компании предлагают два тарифных плана: «Смарт» и «Ультра». Чтобы скорректировать рекламный бюджет, коммерческий департамент хочет понять, какой тариф приносит больше денег. Требуется сделать предварительный анализ тарифов на небольшой выборке клиентов. Есть данные 500 пользователей «Мегалайна»: кто они, откуда, каким тарифом пользуются, сколько звонков и сообщений каждый отправил за 2018 год.   \n",
    " \n",
    "**Цель Исследования**    \n",
    "Нужно проанализировать поведение клиентов и сделать вывод — какой тариф лучше.\n",
    "\n",
    "**Задачи Исследования**  \n",
    "Опишите поведение клиентов оператора, исходя из выборки. Сколько минут разговора, сколько сообщений и какой объём интернет-трафика требуется пользователям каждого тарифа в месяц. Проверить гипотезы: 1. средняя выручка пользователей тарифов «Ультра» и «Смарт» различаются; 2. средняя выручка пользователи из Москвы отличается от выручки пользователей из других регионов.   \n",
    "\n",
    "**Исходные данные**  \n",
    "\n",
    "Таблица users (информация о пользователях):  \n",
    "- user_id — уникальный идентификатор пользователя\n",
    "- first_name — имя пользователя\n",
    "- last_name — фамилия пользователя\n",
    "- age — возраст пользователя (годы)\n",
    "- reg_date — дата подключения тарифа (день, месяц, год)\n",
    "- churn_date — дата прекращения пользования тарифом (если значение пропущено, то тариф ещё действовал на момент выгрузки данных)\n",
    "- city — город проживания пользователя\n",
    "- tarif — название тарифного плана    \n",
    "\n",
    "Таблица calls (информация о звонках):  \n",
    "- id — уникальный номер звонка\n",
    "- call_date — дата звонка\n",
    "- duration — длительность звонка в минутах\n",
    "- user_id — идентификатор пользователя, сделавшего звонок  \n",
    "Таблица messages (информация о сообщениях):  \n",
    "- id — уникальный номер звонка\n",
    "- message_date — дата сообщения\n",
    "- user_id — идентификатор пользователя, отправившего сообщение  \n",
    "Таблица internet (информация об интернет-сессиях):  \n",
    "- id — уникальный номер сессии\n",
    "- mb_used — объём потраченного за сессию интернет-трафика (в мегабайтах)\n",
    "- session_date — дата интернет-сессии\n",
    "- user_id — идентификатор пользователя  \n",
    "Таблица tariffs (информация о тарифах):  \n",
    "- tariff_name — название тарифа\n",
    "- rub_monthly_fee — ежемесячная абонентская плата в рублях\n",
    "- minutes_included — количество минут разговора в месяц, включённых в абонентскую плату\n",
    "- messages_included — количество сообщений в месяц, включённых в абонентскую плату\n",
    "- mb_per_month_included — объём интернет-трафика, включённого в абонентскую плату (в мегабайтах)\n",
    "- rub_per_minute — стоимость минуты разговора сверх тарифного пакета (например, если в тарифе 100 минут разговора в месяц, то со 101 минуты будет взиматься плата)\n",
    "- rub_per_message — стоимость отправки сообщения сверх тарифного пакета\n",
    "- rub_per_gb — стоимость дополнительного гигабайта интернет-трафика сверх тарифного пакета (1 гигабайт = 1024 мегабайта)\n",
    "\n",
    "**Данное исследование разделим на несколько частей**  \n",
    "[Шаг 1. Откройте файл с данными и изучите общую информацию](#step_1).  \n",
    "\n",
    "В этом разделе планирую импортировать библиотеки, открыть файлы с данными, ознакомится с общей информацией по ним (искать пропуски, дубликаты и прочие вероятные сбои).  \n",
    "\n",
    "[Шаг 2. Подготовьте данные](#step_2).\n",
    "\n",
    "В этом разделе планирую:\n",
    "- дополнительно рассмотреть данные (изучить максимальные, минимальные и уникальные значения, там где не посмотрел их в ходе шага 1, посмотреть на графики) с целью поиска ошибок\n",
    "- привести данные к нужным типам\n",
    "- сделать расчеты, которые требуются в задании:\n",
    "-- количество сделанных звонков и израсходованных минут разговора по месяцам\n",
    "-- количество отправленных сообщений по месяцам\n",
    "-- объем израсходованного интернет-трафика по месяцам\n",
    "-- помесячную выручку с каждого пользователя \n",
    "\n",
    "[Шаг 3. Анализ данных](#step_3).\n",
    "В задании указано следующее:\n",
    "- Опишите поведение клиентов оператора, исходя из выборки. Сколько минут разговора, сколько сообщений и какой объём интернет-трафика требуется пользователям каждого тарифа в месяц? \n",
    "- Посчитайте среднее количество, дисперсию и стандартное отклонение. \n",
    "- Постройте гистограммы. \n",
    "- Опишите распределения.\n",
    "\n",
    "[Шаг 4. Проверка гипотез](#step_4).\n",
    "В задании требуется проверить следующие гипотезы:\n",
    "- средняя выручка пользователей тарифов «Ультра» и «Смарт» различаются;\n",
    "- средняя выручка пользователи из Москвы отличается от выручки пользователей из других регионов.\n",
    "\n",
    "[Вывод](#conclusion)."
   ]
  },
  {
   "cell_type": "markdown",
   "metadata": {},
   "source": [
    "<a id='step_1'></a>\n",
    "\n",
    "# Шаг 1. Откройте файл с данными и изучите общую информацию"
   ]
  },
  {
   "cell_type": "markdown",
   "metadata": {},
   "source": [
    "В этом разделе планирую импортировать библиотеки, открыть файлы с данными, ознакомится с общей информацией по ним (искать пропуски, дубликаты и прочие вероятные сбои)."
   ]
  },
  {
   "cell_type": "code",
   "execution_count": 1,
   "metadata": {},
   "outputs": [],
   "source": [
    "# импорт библиотек\n",
    "import pandas as pd\n",
    "import numpy as np\n",
    "import matplotlib.pyplot as plt\n",
    "import seaborn as sns\n",
    "from scipy import stats as st"
   ]
  },
  {
   "cell_type": "code",
   "execution_count": 2,
   "metadata": {},
   "outputs": [],
   "source": [
    "# открытие данных\n",
    "data_path = '/datasets/'    # такую запись делаю, чтобы легче открыть файлы, если придется действовать вне тренажера\n",
    "df_calls = pd.read_csv(data_path + 'calls.csv')   # данные о звонках\n",
    "df_internet = pd.read_csv(data_path + 'internet.csv', index_col=0)  # данные об интернет-траффике (после ревью добавил сюда параметр index_col=0)\n",
    "df_messages = pd.read_csv(data_path + 'messages.csv')  # данные  о сообщениях\n",
    "df_tariffs = pd.read_csv(data_path + 'tariffs.csv')    # данные о тарифах \n",
    "df_users = pd.read_csv(data_path + 'users.csv')   # данные об абонентах"
   ]
  },
  {
   "cell_type": "markdown",
   "metadata": {},
   "source": [
    "знакомится с данными буду поочередно, чтобы не запутаться:\n",
    "**df_calls**"
   ]
  },
  {
   "cell_type": "code",
   "execution_count": 3,
   "metadata": {},
   "outputs": [
    {
     "name": "stdout",
     "output_type": "stream",
     "text": [
      "<class 'pandas.core.frame.DataFrame'>\n",
      "RangeIndex: 202607 entries, 0 to 202606\n",
      "Data columns (total 4 columns):\n",
      "id           202607 non-null object\n",
      "call_date    202607 non-null object\n",
      "duration     202607 non-null float64\n",
      "user_id      202607 non-null int64\n",
      "dtypes: float64(1), int64(1), object(2)\n",
      "memory usage: 6.2+ MB\n",
      "None\n"
     ]
    },
    {
     "data": {
      "text/html": [
       "<div>\n",
       "<style scoped>\n",
       "    .dataframe tbody tr th:only-of-type {\n",
       "        vertical-align: middle;\n",
       "    }\n",
       "\n",
       "    .dataframe tbody tr th {\n",
       "        vertical-align: top;\n",
       "    }\n",
       "\n",
       "    .dataframe thead th {\n",
       "        text-align: right;\n",
       "    }\n",
       "</style>\n",
       "<table border=\"1\" class=\"dataframe\">\n",
       "  <thead>\n",
       "    <tr style=\"text-align: right;\">\n",
       "      <th></th>\n",
       "      <th>duration</th>\n",
       "      <th>user_id</th>\n",
       "    </tr>\n",
       "  </thead>\n",
       "  <tbody>\n",
       "    <tr>\n",
       "      <td>count</td>\n",
       "      <td>202607.000000</td>\n",
       "      <td>202607.000000</td>\n",
       "    </tr>\n",
       "    <tr>\n",
       "      <td>mean</td>\n",
       "      <td>6.755887</td>\n",
       "      <td>1253.940619</td>\n",
       "    </tr>\n",
       "    <tr>\n",
       "      <td>std</td>\n",
       "      <td>5.843365</td>\n",
       "      <td>144.722751</td>\n",
       "    </tr>\n",
       "    <tr>\n",
       "      <td>min</td>\n",
       "      <td>0.000000</td>\n",
       "      <td>1000.000000</td>\n",
       "    </tr>\n",
       "    <tr>\n",
       "      <td>25%</td>\n",
       "      <td>1.300000</td>\n",
       "      <td>1126.000000</td>\n",
       "    </tr>\n",
       "    <tr>\n",
       "      <td>50%</td>\n",
       "      <td>6.000000</td>\n",
       "      <td>1260.000000</td>\n",
       "    </tr>\n",
       "    <tr>\n",
       "      <td>75%</td>\n",
       "      <td>10.700000</td>\n",
       "      <td>1379.000000</td>\n",
       "    </tr>\n",
       "    <tr>\n",
       "      <td>max</td>\n",
       "      <td>38.000000</td>\n",
       "      <td>1499.000000</td>\n",
       "    </tr>\n",
       "  </tbody>\n",
       "</table>\n",
       "</div>"
      ],
      "text/plain": [
       "            duration        user_id\n",
       "count  202607.000000  202607.000000\n",
       "mean        6.755887    1253.940619\n",
       "std         5.843365     144.722751\n",
       "min         0.000000    1000.000000\n",
       "25%         1.300000    1126.000000\n",
       "50%         6.000000    1260.000000\n",
       "75%        10.700000    1379.000000\n",
       "max        38.000000    1499.000000"
      ]
     },
     "metadata": {},
     "output_type": "display_data"
    },
    {
     "name": "stdout",
     "output_type": "stream",
     "text": [
      "0\n"
     ]
    },
    {
     "data": {
      "text/html": [
       "<div>\n",
       "<style scoped>\n",
       "    .dataframe tbody tr th:only-of-type {\n",
       "        vertical-align: middle;\n",
       "    }\n",
       "\n",
       "    .dataframe tbody tr th {\n",
       "        vertical-align: top;\n",
       "    }\n",
       "\n",
       "    .dataframe thead th {\n",
       "        text-align: right;\n",
       "    }\n",
       "</style>\n",
       "<table border=\"1\" class=\"dataframe\">\n",
       "  <thead>\n",
       "    <tr style=\"text-align: right;\">\n",
       "      <th></th>\n",
       "      <th>id</th>\n",
       "      <th>call_date</th>\n",
       "      <th>duration</th>\n",
       "      <th>user_id</th>\n",
       "    </tr>\n",
       "  </thead>\n",
       "  <tbody>\n",
       "    <tr>\n",
       "      <td>0</td>\n",
       "      <td>1000_0</td>\n",
       "      <td>2018-07-25</td>\n",
       "      <td>0.00</td>\n",
       "      <td>1000</td>\n",
       "    </tr>\n",
       "    <tr>\n",
       "      <td>1</td>\n",
       "      <td>1000_1</td>\n",
       "      <td>2018-08-17</td>\n",
       "      <td>0.00</td>\n",
       "      <td>1000</td>\n",
       "    </tr>\n",
       "    <tr>\n",
       "      <td>2</td>\n",
       "      <td>1000_2</td>\n",
       "      <td>2018-06-11</td>\n",
       "      <td>2.85</td>\n",
       "      <td>1000</td>\n",
       "    </tr>\n",
       "    <tr>\n",
       "      <td>3</td>\n",
       "      <td>1000_3</td>\n",
       "      <td>2018-09-21</td>\n",
       "      <td>13.80</td>\n",
       "      <td>1000</td>\n",
       "    </tr>\n",
       "    <tr>\n",
       "      <td>4</td>\n",
       "      <td>1000_4</td>\n",
       "      <td>2018-12-15</td>\n",
       "      <td>5.18</td>\n",
       "      <td>1000</td>\n",
       "    </tr>\n",
       "  </tbody>\n",
       "</table>\n",
       "</div>"
      ],
      "text/plain": [
       "       id   call_date  duration  user_id\n",
       "0  1000_0  2018-07-25      0.00     1000\n",
       "1  1000_1  2018-08-17      0.00     1000\n",
       "2  1000_2  2018-06-11      2.85     1000\n",
       "3  1000_3  2018-09-21     13.80     1000\n",
       "4  1000_4  2018-12-15      5.18     1000"
      ]
     },
     "metadata": {},
     "output_type": "display_data"
    }
   ],
   "source": [
    "print(df_calls.info())  # общая информация методом info\n",
    "display(df_calls.describe()) # общая информация методом describe\n",
    "print(df_calls.duplicated().sum()) #поиск явных дубликатов\n",
    "display(df_calls.head()) # вывод первых строк таблицы"
   ]
  },
  {
   "cell_type": "markdown",
   "metadata": {},
   "source": [
    "Пропусков и явных дубликатов нет, названия колонок в змеином регистре, call_date - класс object (надо будет перевести в datetime), duration - float64 - надо будет перевести в int (c учетом задания и того куда округлять)"
   ]
  },
  {
   "cell_type": "markdown",
   "metadata": {},
   "source": [
    "**df_internet**"
   ]
  },
  {
   "cell_type": "code",
   "execution_count": 4,
   "metadata": {},
   "outputs": [
    {
     "name": "stdout",
     "output_type": "stream",
     "text": [
      "<class 'pandas.core.frame.DataFrame'>\n",
      "Int64Index: 149396 entries, 0 to 149395\n",
      "Data columns (total 4 columns):\n",
      "id              149396 non-null object\n",
      "mb_used         149396 non-null float64\n",
      "session_date    149396 non-null object\n",
      "user_id         149396 non-null int64\n",
      "dtypes: float64(1), int64(1), object(2)\n",
      "memory usage: 5.7+ MB\n",
      "None\n"
     ]
    },
    {
     "data": {
      "text/html": [
       "<div>\n",
       "<style scoped>\n",
       "    .dataframe tbody tr th:only-of-type {\n",
       "        vertical-align: middle;\n",
       "    }\n",
       "\n",
       "    .dataframe tbody tr th {\n",
       "        vertical-align: top;\n",
       "    }\n",
       "\n",
       "    .dataframe thead th {\n",
       "        text-align: right;\n",
       "    }\n",
       "</style>\n",
       "<table border=\"1\" class=\"dataframe\">\n",
       "  <thead>\n",
       "    <tr style=\"text-align: right;\">\n",
       "      <th></th>\n",
       "      <th>mb_used</th>\n",
       "      <th>user_id</th>\n",
       "    </tr>\n",
       "  </thead>\n",
       "  <tbody>\n",
       "    <tr>\n",
       "      <td>count</td>\n",
       "      <td>149396.000000</td>\n",
       "      <td>149396.000000</td>\n",
       "    </tr>\n",
       "    <tr>\n",
       "      <td>mean</td>\n",
       "      <td>370.192426</td>\n",
       "      <td>1252.099842</td>\n",
       "    </tr>\n",
       "    <tr>\n",
       "      <td>std</td>\n",
       "      <td>278.300951</td>\n",
       "      <td>144.050823</td>\n",
       "    </tr>\n",
       "    <tr>\n",
       "      <td>min</td>\n",
       "      <td>0.000000</td>\n",
       "      <td>1000.000000</td>\n",
       "    </tr>\n",
       "    <tr>\n",
       "      <td>25%</td>\n",
       "      <td>138.187500</td>\n",
       "      <td>1130.000000</td>\n",
       "    </tr>\n",
       "    <tr>\n",
       "      <td>50%</td>\n",
       "      <td>348.015000</td>\n",
       "      <td>1251.000000</td>\n",
       "    </tr>\n",
       "    <tr>\n",
       "      <td>75%</td>\n",
       "      <td>559.552500</td>\n",
       "      <td>1380.000000</td>\n",
       "    </tr>\n",
       "    <tr>\n",
       "      <td>max</td>\n",
       "      <td>1724.830000</td>\n",
       "      <td>1499.000000</td>\n",
       "    </tr>\n",
       "  </tbody>\n",
       "</table>\n",
       "</div>"
      ],
      "text/plain": [
       "             mb_used        user_id\n",
       "count  149396.000000  149396.000000\n",
       "mean      370.192426    1252.099842\n",
       "std       278.300951     144.050823\n",
       "min         0.000000    1000.000000\n",
       "25%       138.187500    1130.000000\n",
       "50%       348.015000    1251.000000\n",
       "75%       559.552500    1380.000000\n",
       "max      1724.830000    1499.000000"
      ]
     },
     "metadata": {},
     "output_type": "display_data"
    },
    {
     "name": "stdout",
     "output_type": "stream",
     "text": [
      "0\n"
     ]
    },
    {
     "data": {
      "text/html": [
       "<div>\n",
       "<style scoped>\n",
       "    .dataframe tbody tr th:only-of-type {\n",
       "        vertical-align: middle;\n",
       "    }\n",
       "\n",
       "    .dataframe tbody tr th {\n",
       "        vertical-align: top;\n",
       "    }\n",
       "\n",
       "    .dataframe thead th {\n",
       "        text-align: right;\n",
       "    }\n",
       "</style>\n",
       "<table border=\"1\" class=\"dataframe\">\n",
       "  <thead>\n",
       "    <tr style=\"text-align: right;\">\n",
       "      <th></th>\n",
       "      <th>id</th>\n",
       "      <th>mb_used</th>\n",
       "      <th>session_date</th>\n",
       "      <th>user_id</th>\n",
       "    </tr>\n",
       "  </thead>\n",
       "  <tbody>\n",
       "    <tr>\n",
       "      <td>0</td>\n",
       "      <td>1000_0</td>\n",
       "      <td>112.95</td>\n",
       "      <td>2018-11-25</td>\n",
       "      <td>1000</td>\n",
       "    </tr>\n",
       "    <tr>\n",
       "      <td>1</td>\n",
       "      <td>1000_1</td>\n",
       "      <td>1052.81</td>\n",
       "      <td>2018-09-07</td>\n",
       "      <td>1000</td>\n",
       "    </tr>\n",
       "    <tr>\n",
       "      <td>2</td>\n",
       "      <td>1000_2</td>\n",
       "      <td>1197.26</td>\n",
       "      <td>2018-06-25</td>\n",
       "      <td>1000</td>\n",
       "    </tr>\n",
       "    <tr>\n",
       "      <td>3</td>\n",
       "      <td>1000_3</td>\n",
       "      <td>550.27</td>\n",
       "      <td>2018-08-22</td>\n",
       "      <td>1000</td>\n",
       "    </tr>\n",
       "    <tr>\n",
       "      <td>4</td>\n",
       "      <td>1000_4</td>\n",
       "      <td>302.56</td>\n",
       "      <td>2018-09-24</td>\n",
       "      <td>1000</td>\n",
       "    </tr>\n",
       "  </tbody>\n",
       "</table>\n",
       "</div>"
      ],
      "text/plain": [
       "       id  mb_used session_date  user_id\n",
       "0  1000_0   112.95   2018-11-25     1000\n",
       "1  1000_1  1052.81   2018-09-07     1000\n",
       "2  1000_2  1197.26   2018-06-25     1000\n",
       "3  1000_3   550.27   2018-08-22     1000\n",
       "4  1000_4   302.56   2018-09-24     1000"
      ]
     },
     "metadata": {},
     "output_type": "display_data"
    }
   ],
   "source": [
    "print(df_internet.info())  # общая информация методом info\n",
    "display(df_internet.describe()) # общая информация методом describe\n",
    "print(df_internet.duplicated().sum()) #поиск явных дубликатов\n",
    "display(df_internet.head()) # вывод первых строк таблицы"
   ]
  },
  {
   "cell_type": "markdown",
   "metadata": {},
   "source": [
    "Пропусков и явных дубликатов нет, названия колонок в змеином регистре, call_date - класс object (надо будет перевести в datetime), mb_used - класс float64 - надо будет перевести в int (c учетом задания и того как и куда округлять/преобразовывать из мб в гб). Странно выглядит столбец Unnamed: 0 - он не соответствует змеиному регистру и вообще похоже, что дублирует индекс строки **(после ревью столбец Unnamed: 0 убран в индекс при открытии файла)**"
   ]
  },
  {
   "cell_type": "markdown",
   "metadata": {},
   "source": [
    "**df_messages**"
   ]
  },
  {
   "cell_type": "code",
   "execution_count": 5,
   "metadata": {},
   "outputs": [
    {
     "name": "stdout",
     "output_type": "stream",
     "text": [
      "<class 'pandas.core.frame.DataFrame'>\n",
      "RangeIndex: 123036 entries, 0 to 123035\n",
      "Data columns (total 3 columns):\n",
      "id              123036 non-null object\n",
      "message_date    123036 non-null object\n",
      "user_id         123036 non-null int64\n",
      "dtypes: int64(1), object(2)\n",
      "memory usage: 2.8+ MB\n",
      "None\n"
     ]
    },
    {
     "data": {
      "text/html": [
       "<div>\n",
       "<style scoped>\n",
       "    .dataframe tbody tr th:only-of-type {\n",
       "        vertical-align: middle;\n",
       "    }\n",
       "\n",
       "    .dataframe tbody tr th {\n",
       "        vertical-align: top;\n",
       "    }\n",
       "\n",
       "    .dataframe thead th {\n",
       "        text-align: right;\n",
       "    }\n",
       "</style>\n",
       "<table border=\"1\" class=\"dataframe\">\n",
       "  <thead>\n",
       "    <tr style=\"text-align: right;\">\n",
       "      <th></th>\n",
       "      <th>user_id</th>\n",
       "    </tr>\n",
       "  </thead>\n",
       "  <tbody>\n",
       "    <tr>\n",
       "      <td>count</td>\n",
       "      <td>123036.000000</td>\n",
       "    </tr>\n",
       "    <tr>\n",
       "      <td>mean</td>\n",
       "      <td>1256.989410</td>\n",
       "    </tr>\n",
       "    <tr>\n",
       "      <td>std</td>\n",
       "      <td>143.523967</td>\n",
       "    </tr>\n",
       "    <tr>\n",
       "      <td>min</td>\n",
       "      <td>1000.000000</td>\n",
       "    </tr>\n",
       "    <tr>\n",
       "      <td>25%</td>\n",
       "      <td>1134.000000</td>\n",
       "    </tr>\n",
       "    <tr>\n",
       "      <td>50%</td>\n",
       "      <td>1271.000000</td>\n",
       "    </tr>\n",
       "    <tr>\n",
       "      <td>75%</td>\n",
       "      <td>1381.000000</td>\n",
       "    </tr>\n",
       "    <tr>\n",
       "      <td>max</td>\n",
       "      <td>1499.000000</td>\n",
       "    </tr>\n",
       "  </tbody>\n",
       "</table>\n",
       "</div>"
      ],
      "text/plain": [
       "             user_id\n",
       "count  123036.000000\n",
       "mean     1256.989410\n",
       "std       143.523967\n",
       "min      1000.000000\n",
       "25%      1134.000000\n",
       "50%      1271.000000\n",
       "75%      1381.000000\n",
       "max      1499.000000"
      ]
     },
     "metadata": {},
     "output_type": "display_data"
    },
    {
     "name": "stdout",
     "output_type": "stream",
     "text": [
      "0\n"
     ]
    },
    {
     "data": {
      "text/html": [
       "<div>\n",
       "<style scoped>\n",
       "    .dataframe tbody tr th:only-of-type {\n",
       "        vertical-align: middle;\n",
       "    }\n",
       "\n",
       "    .dataframe tbody tr th {\n",
       "        vertical-align: top;\n",
       "    }\n",
       "\n",
       "    .dataframe thead th {\n",
       "        text-align: right;\n",
       "    }\n",
       "</style>\n",
       "<table border=\"1\" class=\"dataframe\">\n",
       "  <thead>\n",
       "    <tr style=\"text-align: right;\">\n",
       "      <th></th>\n",
       "      <th>id</th>\n",
       "      <th>message_date</th>\n",
       "      <th>user_id</th>\n",
       "    </tr>\n",
       "  </thead>\n",
       "  <tbody>\n",
       "    <tr>\n",
       "      <td>0</td>\n",
       "      <td>1000_0</td>\n",
       "      <td>2018-06-27</td>\n",
       "      <td>1000</td>\n",
       "    </tr>\n",
       "    <tr>\n",
       "      <td>1</td>\n",
       "      <td>1000_1</td>\n",
       "      <td>2018-10-08</td>\n",
       "      <td>1000</td>\n",
       "    </tr>\n",
       "    <tr>\n",
       "      <td>2</td>\n",
       "      <td>1000_2</td>\n",
       "      <td>2018-08-04</td>\n",
       "      <td>1000</td>\n",
       "    </tr>\n",
       "    <tr>\n",
       "      <td>3</td>\n",
       "      <td>1000_3</td>\n",
       "      <td>2018-06-16</td>\n",
       "      <td>1000</td>\n",
       "    </tr>\n",
       "    <tr>\n",
       "      <td>4</td>\n",
       "      <td>1000_4</td>\n",
       "      <td>2018-12-05</td>\n",
       "      <td>1000</td>\n",
       "    </tr>\n",
       "  </tbody>\n",
       "</table>\n",
       "</div>"
      ],
      "text/plain": [
       "       id message_date  user_id\n",
       "0  1000_0   2018-06-27     1000\n",
       "1  1000_1   2018-10-08     1000\n",
       "2  1000_2   2018-08-04     1000\n",
       "3  1000_3   2018-06-16     1000\n",
       "4  1000_4   2018-12-05     1000"
      ]
     },
     "metadata": {},
     "output_type": "display_data"
    }
   ],
   "source": [
    "print(df_messages.info())  # общая информация методом info\n",
    "display(df_messages.describe()) # общая информация методом describe\n",
    "print(df_messages.duplicated().sum()) #поиск явных дубликатов\n",
    "display(df_messages.head()) # вывод первых строк таблицы"
   ]
  },
  {
   "cell_type": "markdown",
   "metadata": {},
   "source": [
    "Пропусков и явных дубликатов нет, названия колонок в змеином регистре, message_date - класс object (надо будет перевести в datetime)"
   ]
  },
  {
   "cell_type": "markdown",
   "metadata": {},
   "source": [
    "**df_tariffs**"
   ]
  },
  {
   "cell_type": "code",
   "execution_count": 6,
   "metadata": {},
   "outputs": [
    {
     "name": "stdout",
     "output_type": "stream",
     "text": [
      "<class 'pandas.core.frame.DataFrame'>\n",
      "RangeIndex: 2 entries, 0 to 1\n",
      "Data columns (total 8 columns):\n",
      "messages_included        2 non-null int64\n",
      "mb_per_month_included    2 non-null int64\n",
      "minutes_included         2 non-null int64\n",
      "rub_monthly_fee          2 non-null int64\n",
      "rub_per_gb               2 non-null int64\n",
      "rub_per_message          2 non-null int64\n",
      "rub_per_minute           2 non-null int64\n",
      "tariff_name              2 non-null object\n",
      "dtypes: int64(7), object(1)\n",
      "memory usage: 256.0+ bytes\n",
      "None\n"
     ]
    },
    {
     "data": {
      "text/html": [
       "<div>\n",
       "<style scoped>\n",
       "    .dataframe tbody tr th:only-of-type {\n",
       "        vertical-align: middle;\n",
       "    }\n",
       "\n",
       "    .dataframe tbody tr th {\n",
       "        vertical-align: top;\n",
       "    }\n",
       "\n",
       "    .dataframe thead th {\n",
       "        text-align: right;\n",
       "    }\n",
       "</style>\n",
       "<table border=\"1\" class=\"dataframe\">\n",
       "  <thead>\n",
       "    <tr style=\"text-align: right;\">\n",
       "      <th></th>\n",
       "      <th>messages_included</th>\n",
       "      <th>mb_per_month_included</th>\n",
       "      <th>minutes_included</th>\n",
       "      <th>rub_monthly_fee</th>\n",
       "      <th>rub_per_gb</th>\n",
       "      <th>rub_per_message</th>\n",
       "      <th>rub_per_minute</th>\n",
       "      <th>tariff_name</th>\n",
       "    </tr>\n",
       "  </thead>\n",
       "  <tbody>\n",
       "    <tr>\n",
       "      <td>0</td>\n",
       "      <td>50</td>\n",
       "      <td>15360</td>\n",
       "      <td>500</td>\n",
       "      <td>550</td>\n",
       "      <td>200</td>\n",
       "      <td>3</td>\n",
       "      <td>3</td>\n",
       "      <td>smart</td>\n",
       "    </tr>\n",
       "    <tr>\n",
       "      <td>1</td>\n",
       "      <td>1000</td>\n",
       "      <td>30720</td>\n",
       "      <td>3000</td>\n",
       "      <td>1950</td>\n",
       "      <td>150</td>\n",
       "      <td>1</td>\n",
       "      <td>1</td>\n",
       "      <td>ultra</td>\n",
       "    </tr>\n",
       "  </tbody>\n",
       "</table>\n",
       "</div>"
      ],
      "text/plain": [
       "   messages_included  mb_per_month_included  minutes_included  \\\n",
       "0                 50                  15360               500   \n",
       "1               1000                  30720              3000   \n",
       "\n",
       "   rub_monthly_fee  rub_per_gb  rub_per_message  rub_per_minute tariff_name  \n",
       "0              550         200                3               3       smart  \n",
       "1             1950         150                1               1       ultra  "
      ]
     },
     "metadata": {},
     "output_type": "display_data"
    }
   ],
   "source": [
    "print(df_tariffs.info())  # общая информация методом info\n",
    "display(df_tariffs.head()) # вывод первых строк таблицы"
   ]
  },
  {
   "cell_type": "markdown",
   "metadata": {},
   "source": [
    "здесь сразу все видно"
   ]
  },
  {
   "cell_type": "markdown",
   "metadata": {},
   "source": [
    "**df_users**"
   ]
  },
  {
   "cell_type": "code",
   "execution_count": 7,
   "metadata": {},
   "outputs": [
    {
     "name": "stdout",
     "output_type": "stream",
     "text": [
      "<class 'pandas.core.frame.DataFrame'>\n",
      "RangeIndex: 500 entries, 0 to 499\n",
      "Data columns (total 8 columns):\n",
      "user_id       500 non-null int64\n",
      "age           500 non-null int64\n",
      "churn_date    38 non-null object\n",
      "city          500 non-null object\n",
      "first_name    500 non-null object\n",
      "last_name     500 non-null object\n",
      "reg_date      500 non-null object\n",
      "tariff        500 non-null object\n",
      "dtypes: int64(2), object(6)\n",
      "memory usage: 31.4+ KB\n",
      "None\n"
     ]
    },
    {
     "data": {
      "text/html": [
       "<div>\n",
       "<style scoped>\n",
       "    .dataframe tbody tr th:only-of-type {\n",
       "        vertical-align: middle;\n",
       "    }\n",
       "\n",
       "    .dataframe tbody tr th {\n",
       "        vertical-align: top;\n",
       "    }\n",
       "\n",
       "    .dataframe thead th {\n",
       "        text-align: right;\n",
       "    }\n",
       "</style>\n",
       "<table border=\"1\" class=\"dataframe\">\n",
       "  <thead>\n",
       "    <tr style=\"text-align: right;\">\n",
       "      <th></th>\n",
       "      <th>user_id</th>\n",
       "      <th>age</th>\n",
       "    </tr>\n",
       "  </thead>\n",
       "  <tbody>\n",
       "    <tr>\n",
       "      <td>count</td>\n",
       "      <td>500.000000</td>\n",
       "      <td>500.00000</td>\n",
       "    </tr>\n",
       "    <tr>\n",
       "      <td>mean</td>\n",
       "      <td>1249.500000</td>\n",
       "      <td>46.58800</td>\n",
       "    </tr>\n",
       "    <tr>\n",
       "      <td>std</td>\n",
       "      <td>144.481833</td>\n",
       "      <td>16.66763</td>\n",
       "    </tr>\n",
       "    <tr>\n",
       "      <td>min</td>\n",
       "      <td>1000.000000</td>\n",
       "      <td>18.00000</td>\n",
       "    </tr>\n",
       "    <tr>\n",
       "      <td>25%</td>\n",
       "      <td>1124.750000</td>\n",
       "      <td>32.00000</td>\n",
       "    </tr>\n",
       "    <tr>\n",
       "      <td>50%</td>\n",
       "      <td>1249.500000</td>\n",
       "      <td>46.00000</td>\n",
       "    </tr>\n",
       "    <tr>\n",
       "      <td>75%</td>\n",
       "      <td>1374.250000</td>\n",
       "      <td>62.00000</td>\n",
       "    </tr>\n",
       "    <tr>\n",
       "      <td>max</td>\n",
       "      <td>1499.000000</td>\n",
       "      <td>75.00000</td>\n",
       "    </tr>\n",
       "  </tbody>\n",
       "</table>\n",
       "</div>"
      ],
      "text/plain": [
       "           user_id        age\n",
       "count   500.000000  500.00000\n",
       "mean   1249.500000   46.58800\n",
       "std     144.481833   16.66763\n",
       "min    1000.000000   18.00000\n",
       "25%    1124.750000   32.00000\n",
       "50%    1249.500000   46.00000\n",
       "75%    1374.250000   62.00000\n",
       "max    1499.000000   75.00000"
      ]
     },
     "metadata": {},
     "output_type": "display_data"
    },
    {
     "name": "stdout",
     "output_type": "stream",
     "text": [
      "0\n"
     ]
    },
    {
     "data": {
      "text/html": [
       "<div>\n",
       "<style scoped>\n",
       "    .dataframe tbody tr th:only-of-type {\n",
       "        vertical-align: middle;\n",
       "    }\n",
       "\n",
       "    .dataframe tbody tr th {\n",
       "        vertical-align: top;\n",
       "    }\n",
       "\n",
       "    .dataframe thead th {\n",
       "        text-align: right;\n",
       "    }\n",
       "</style>\n",
       "<table border=\"1\" class=\"dataframe\">\n",
       "  <thead>\n",
       "    <tr style=\"text-align: right;\">\n",
       "      <th></th>\n",
       "      <th>user_id</th>\n",
       "      <th>age</th>\n",
       "      <th>churn_date</th>\n",
       "      <th>city</th>\n",
       "      <th>first_name</th>\n",
       "      <th>last_name</th>\n",
       "      <th>reg_date</th>\n",
       "      <th>tariff</th>\n",
       "    </tr>\n",
       "  </thead>\n",
       "  <tbody>\n",
       "    <tr>\n",
       "      <td>0</td>\n",
       "      <td>1000</td>\n",
       "      <td>52</td>\n",
       "      <td>NaN</td>\n",
       "      <td>Краснодар</td>\n",
       "      <td>Рафаил</td>\n",
       "      <td>Верещагин</td>\n",
       "      <td>2018-05-25</td>\n",
       "      <td>ultra</td>\n",
       "    </tr>\n",
       "    <tr>\n",
       "      <td>1</td>\n",
       "      <td>1001</td>\n",
       "      <td>41</td>\n",
       "      <td>NaN</td>\n",
       "      <td>Москва</td>\n",
       "      <td>Иван</td>\n",
       "      <td>Ежов</td>\n",
       "      <td>2018-11-01</td>\n",
       "      <td>smart</td>\n",
       "    </tr>\n",
       "    <tr>\n",
       "      <td>2</td>\n",
       "      <td>1002</td>\n",
       "      <td>59</td>\n",
       "      <td>NaN</td>\n",
       "      <td>Стерлитамак</td>\n",
       "      <td>Евгений</td>\n",
       "      <td>Абрамович</td>\n",
       "      <td>2018-06-17</td>\n",
       "      <td>smart</td>\n",
       "    </tr>\n",
       "    <tr>\n",
       "      <td>3</td>\n",
       "      <td>1003</td>\n",
       "      <td>23</td>\n",
       "      <td>NaN</td>\n",
       "      <td>Москва</td>\n",
       "      <td>Белла</td>\n",
       "      <td>Белякова</td>\n",
       "      <td>2018-08-17</td>\n",
       "      <td>ultra</td>\n",
       "    </tr>\n",
       "    <tr>\n",
       "      <td>4</td>\n",
       "      <td>1004</td>\n",
       "      <td>68</td>\n",
       "      <td>NaN</td>\n",
       "      <td>Новокузнецк</td>\n",
       "      <td>Татьяна</td>\n",
       "      <td>Авдеенко</td>\n",
       "      <td>2018-05-14</td>\n",
       "      <td>ultra</td>\n",
       "    </tr>\n",
       "  </tbody>\n",
       "</table>\n",
       "</div>"
      ],
      "text/plain": [
       "   user_id  age churn_date         city first_name  last_name    reg_date  \\\n",
       "0     1000   52        NaN    Краснодар     Рафаил  Верещагин  2018-05-25   \n",
       "1     1001   41        NaN       Москва       Иван       Ежов  2018-11-01   \n",
       "2     1002   59        NaN  Стерлитамак    Евгений  Абрамович  2018-06-17   \n",
       "3     1003   23        NaN       Москва      Белла   Белякова  2018-08-17   \n",
       "4     1004   68        NaN  Новокузнецк    Татьяна   Авдеенко  2018-05-14   \n",
       "\n",
       "  tariff  \n",
       "0  ultra  \n",
       "1  smart  \n",
       "2  smart  \n",
       "3  ultra  \n",
       "4  ultra  "
      ]
     },
     "metadata": {},
     "output_type": "display_data"
    }
   ],
   "source": [
    "print(df_users.info())  # общая информация методом info\n",
    "display(df_users.describe()) # общая информация методом describe\n",
    "print(df_users.duplicated().sum()) #поиск явных дубликатов\n",
    "display(df_users.head()) # вывод первых строк таблицы"
   ]
  },
  {
   "cell_type": "markdown",
   "metadata": {},
   "source": [
    "Пропусков есть в churn_date (но их наличие было обговорено в задании), явных дубликатов нет, названия колонок в змеином регистре."
   ]
  },
  {
   "cell_type": "markdown",
   "metadata": {},
   "source": [
    "## Вывод по шагу 1"
   ]
  },
  {
   "cell_type": "markdown",
   "metadata": {},
   "source": [
    "На этапе первичного знакомства данные выглядт качественными\n",
    "- потребуются преобразования дат в datetime, float64 в int \n",
    "- Видно что значения user_id в трех таблицах разбросаны от 1000 до 1499 (500 человек) - возможно их будет иметь смысл перевести в текстовый формат, в любом случае к ним надо внимательно отнестись - так как они являются связующим звеном 4-ёх таблиц\n",
    "- Пропуски обнаружены только в оговоренном месте\n",
    "- Явных дубликатов нет \n",
    "- Названия столбцов в змеином регистре (кроме одного 'Unnamed: 0' в df_internet, который похоже что можно удалить)"
   ]
  },
  {
   "cell_type": "markdown",
   "metadata": {},
   "source": [
    "<a id='step_2'></a>\n",
    "\n",
    "# Шаг 2. Подготовьте данные"
   ]
  },
  {
   "cell_type": "markdown",
   "metadata": {},
   "source": [
    "В этом разделе планирую:\n",
    "- дополнительно рассмотреть данные (изучить максимальные, минимальные и уникальные значения, там где не посмотрел их в ходе шага 1, посмотреть на графики) с целью поиска ошибок\n",
    "- привести данные к нужным типам\n",
    "- сделать расчеты, которые требуются в задании:\n",
    "-- количество сделанных звонков и израсходованных минут разговора по месяцам\n",
    "-- количество отправленных сообщений по месяцам\n",
    "-- объем израсходованного интернет-трафика по месяцам\n",
    "-- помесячную выручку с каждого пользователя "
   ]
  },
  {
   "cell_type": "markdown",
   "metadata": {},
   "source": [
    "## дополнительное изучение данных"
   ]
  },
  {
   "cell_type": "markdown",
   "metadata": {},
   "source": [
    "**df_calls**"
   ]
  },
  {
   "cell_type": "code",
   "execution_count": 8,
   "metadata": {},
   "outputs": [
    {
     "name": "stdout",
     "output_type": "stream",
     "text": [
      "самая ранняя дата: 2018-01-01\n",
      "самая поздняя дата: 2018-12-31\n"
     ]
    }
   ],
   "source": [
    "# проверю разброс дат\n",
    "print('самая ранняя дата:', df_calls['call_date'].min())\n",
    "print('самая поздняя дата:', df_calls['call_date'].max())"
   ]
  },
  {
   "cell_type": "code",
   "execution_count": 9,
   "metadata": {},
   "outputs": [
    {
     "name": "stdout",
     "output_type": "stream",
     "text": [
      "492\n"
     ]
    },
    {
     "data": {
      "image/png": "[encoded data removed]",
      "text/plain": [
       "<Figure size 360x504 with 1 Axes>"
      ]
     },
     "metadata": {
      "needs_background": "light"
     },
     "output_type": "display_data"
    }
   ],
   "source": [
    "#построю диаграмму размаха\n",
    "plt.figure(figsize=(5, 7))\n",
    "sns.set(context = 'notebook', style = 'whitegrid', font_scale=1)\n",
    "\n",
    "sns.boxplot(y=df_calls['duration'])\n",
    "plt.title('Диаграмма размаха продолжительности звонков')\n",
    "\n",
    "#посмотрю число уникальных user_id\n",
    "print(pd.Series(df_calls['user_id'].unique()).count())\n"
   ]
  },
  {
   "cell_type": "markdown",
   "metadata": {},
   "source": [
    "Данные о звонках выглядят вполне реалистично (длительность звонков за границами верхнего уса не является невозможной - 38 минут максимум), данные о времени соответствуют условиям задания, 492 уникальных абонента - это меньше пятисот (возможно они не пользовались телефоном). Нулевые значения обговорены в задании - пропущенные звонки"
   ]
  },
  {
   "cell_type": "markdown",
   "metadata": {},
   "source": [
    "я решил посмотреть какие именно абоненты отсутствуют - это у меня получилось с трудом: пробовал делать срез с помощью .query(), делать функцию или искать с помощью циклов - не мог найти - один из примеров поставил ниже  \n",
    "в итоге получилось найти через цикл - хотя конструкция выглядит громоздкой и кривой - вероятно это делается проще и быстрее"
   ]
  },
  {
   "cell_type": "code",
   "execution_count": 10,
   "metadata": {},
   "outputs": [
    {
     "name": "stdout",
     "output_type": "stream",
     "text": [
      "Отсутствуют данные по абонентам с user_id: [1090, 1105, 1127, 1230, 1327, 1370, 1472, 1488]\n"
     ]
    },
    {
     "data": {
      "text/html": [
       "<div>\n",
       "<style scoped>\n",
       "    .dataframe tbody tr th:only-of-type {\n",
       "        vertical-align: middle;\n",
       "    }\n",
       "\n",
       "    .dataframe tbody tr th {\n",
       "        vertical-align: top;\n",
       "    }\n",
       "\n",
       "    .dataframe thead th {\n",
       "        text-align: right;\n",
       "    }\n",
       "</style>\n",
       "<table border=\"1\" class=\"dataframe\">\n",
       "  <thead>\n",
       "    <tr style=\"text-align: right;\">\n",
       "      <th></th>\n",
       "      <th>id</th>\n",
       "      <th>call_date</th>\n",
       "      <th>duration</th>\n",
       "      <th>user_id</th>\n",
       "    </tr>\n",
       "  </thead>\n",
       "  <tbody>\n",
       "  </tbody>\n",
       "</table>\n",
       "</div>"
      ],
      "text/plain": [
       "Empty DataFrame\n",
       "Columns: [id, call_date, duration, user_id]\n",
       "Index: []"
      ]
     },
     "metadata": {},
     "output_type": "display_data"
    }
   ],
   "source": [
    "users_uniq = pd.Series(df_calls['user_id'].unique()) # сделал Series из уникальных значений\n",
    "\n",
    "list_check = []     # список для проверки значений, в которм будут значений от 1000 до 1499\n",
    "temporary = 999     # временная вспомогательная переменная\n",
    "for i in range(0,500):   # цикл для создания проверочного списка\n",
    "    temporary += 1 \n",
    "    list_check.append(temporary)\n",
    "\n",
    "temporary=0  \n",
    "\n",
    "search_list_calls = []        # список, в который попадут отсутствющие в датафрейме абоненты\n",
    "\n",
    "for i, x in enumerate(list_check):   # цикл в котором проверяется попадает ли id абонента в значенияя от 1000 до 1499\n",
    "    if users_uniq[i+temporary] != x:\n",
    "        temporary = temporary - 1   # такое смещение сделал чтобы, результат не останавливался после первого не попавшего значения\n",
    "        search_list_calls.append(users_uniq[i+temporary])\n",
    "print('Отсутствуют данные по абонентам с user_id:', search_list_calls)\n",
    "\n",
    "display(df_calls.query('user_id not in @list_check')) # пример одной из попыток найти отсуствующих абонентов через .query() - не смог"
   ]
  },
  {
   "cell_type": "markdown",
   "metadata": {},
   "source": [
    "**df_messages**"
   ]
  },
  {
   "cell_type": "code",
   "execution_count": 11,
   "metadata": {},
   "outputs": [
    {
     "name": "stdout",
     "output_type": "stream",
     "text": [
      "самая ранняя дата: 2018-01-02\n",
      "самая поздняя дата: 2018-12-31\n",
      "426\n"
     ]
    }
   ],
   "source": [
    "# проверю разброс дат\n",
    "print('самая ранняя дата:', df_messages['message_date'].min())\n",
    "print('самая поздняя дата:', df_messages['message_date'].max())\n",
    "#посмотрю число уникальных user_id\n",
    "print(pd.Series(df_messages['user_id'].unique()).count())"
   ]
  },
  {
   "cell_type": "markdown",
   "metadata": {},
   "source": [
    "1-го января почему-то не было сообщений, здесь видно 426 уникальных абонентов"
   ]
  },
  {
   "cell_type": "code",
   "execution_count": 12,
   "metadata": {},
   "outputs": [
    {
     "name": "stdout",
     "output_type": "stream",
     "text": [
      "Отсутствуют данные по абонентам с user_id: [1000, 1005, 1009, 1016, 1023, 1039, 1048, 1052, 1062, 1077, 1084, 1094, 1100, 1106, 1113, 1115, 1115, 1115, 1119, 1127, 1127, 1131, 1142, 1151, 1151, 1156, 1161, 1174, 1176, 1178, 1184, 1194, 1200, 1203, 1207, 1209, 1219, 1223, 1223, 1227, 1239, 1241, 1247, 1253, 1253, 1259, 1289, 1289, 1289, 1296, 1300, 1304, 1304, 1321, 1333, 1338, 1359, 1362, 1366, 1369, 1369, 1375, 1387, 1396, 1427, 1427, 1434, 1441, 1455, 1461, 1465, 1468, 1478, 1493]\n"
     ]
    }
   ],
   "source": [
    "# поиск отсутствующих в датафрейме значений тем же способом, что в df_calls\n",
    "users_uniq = pd.Series(df_messages['user_id'].unique()) # сделал Series из уникальных значений\n",
    "\n",
    "temporary=0  \n",
    "\n",
    "search_list_messages = []        # список, в который попадут отсутствющие в датафрейме абоненты\n",
    "\n",
    "for i, x in enumerate(list_check):   # цикл в котором проверяется попадает ли id абонента в значенияя от 1000 до 1499\n",
    "    if users_uniq[i+temporary] != x:\n",
    "        temporary = temporary - 1   # такое смещение сделал чтобы, результат не останавливался после первого не попавшего значения\n",
    "        search_list_messages.append(users_uniq[i+temporary])\n",
    "print('Отсутствуют данные по абонентам с user_id:', search_list_messages)"
   ]
  },
  {
   "cell_type": "markdown",
   "metadata": {},
   "source": [
    "**df_internet**"
   ]
  },
  {
   "cell_type": "code",
   "execution_count": 13,
   "metadata": {},
   "outputs": [
    {
     "name": "stdout",
     "output_type": "stream",
     "text": [
      "самая ранняя дата: 2018-01-01\n",
      "самая поздняя дата: 2018-12-31\n",
      "497\n"
     ]
    },
    {
     "data": {
      "image/png": "[encoded data removed]",
      "text/plain": [
       "<Figure size 432x288 with 1 Axes>"
      ]
     },
     "metadata": {},
     "output_type": "display_data"
    }
   ],
   "source": [
    "# проверю разброс дат\n",
    "print('самая ранняя дата:', df_internet['session_date'].min())\n",
    "print('самая поздняя дата:', df_internet['session_date'].max())\n",
    "\n",
    "#построю диаграмму размаха\n",
    "#df_internet.boxplot('mb_used')\n",
    "\n",
    "sns.set(context = 'notebook', style = 'whitegrid', font_scale=1)\n",
    "\n",
    "sns.boxplot(y=df_internet['mb_used'])\n",
    "plt.title('Диаграмма размаха траффика')\n",
    "\n",
    "#посмотрю число уникальных user_id\n",
    "print(pd.Series(df_internet['user_id'].unique()).count())"
   ]
  },
  {
   "cell_type": "markdown",
   "metadata": {},
   "source": [
    "даты использования интернета - весь год, значения уникальных абонентов 497. Значения траффика выглядят реалистично, но есть нулевые значения"
   ]
  },
  {
   "cell_type": "code",
   "execution_count": 14,
   "metadata": {},
   "outputs": [
    {
     "data": {
      "text/plain": [
       "<matplotlib.axes._subplots.AxesSubplot at 0x7f8c23b55bd0>"
      ]
     },
     "execution_count": 14,
     "metadata": {},
     "output_type": "execute_result"
    },
    {
     "data": {
      "image/png": "[encoded data removed]",
      "text/plain": [
       "<Figure size 432x288 with 1 Axes>"
      ]
     },
     "metadata": {},
     "output_type": "display_data"
    }
   ],
   "source": [
    "# посмотрю на значения траффика на графике\n",
    "sns.scatterplot(data = df_internet, x= range(len(df_internet['mb_used'])), y = df_internet['mb_used'].sort_values())"
   ]
  },
  {
   "cell_type": "code",
   "execution_count": 15,
   "metadata": {},
   "outputs": [
    {
     "data": {
      "text/html": [
       "<div>\n",
       "<style scoped>\n",
       "    .dataframe tbody tr th:only-of-type {\n",
       "        vertical-align: middle;\n",
       "    }\n",
       "\n",
       "    .dataframe tbody tr th {\n",
       "        vertical-align: top;\n",
       "    }\n",
       "\n",
       "    .dataframe thead th {\n",
       "        text-align: right;\n",
       "    }\n",
       "</style>\n",
       "<table border=\"1\" class=\"dataframe\">\n",
       "  <thead>\n",
       "    <tr style=\"text-align: right;\">\n",
       "      <th></th>\n",
       "      <th>id</th>\n",
       "      <th>mb_used</th>\n",
       "      <th>session_date</th>\n",
       "      <th>user_id</th>\n",
       "    </tr>\n",
       "  </thead>\n",
       "  <tbody>\n",
       "    <tr>\n",
       "      <td>11</td>\n",
       "      <td>1000_11</td>\n",
       "      <td>0.0</td>\n",
       "      <td>2018-08-28</td>\n",
       "      <td>1000</td>\n",
       "    </tr>\n",
       "    <tr>\n",
       "      <td>38</td>\n",
       "      <td>1000_38</td>\n",
       "      <td>0.0</td>\n",
       "      <td>2018-11-27</td>\n",
       "      <td>1000</td>\n",
       "    </tr>\n",
       "    <tr>\n",
       "      <td>46</td>\n",
       "      <td>1000_46</td>\n",
       "      <td>0.0</td>\n",
       "      <td>2018-06-30</td>\n",
       "      <td>1000</td>\n",
       "    </tr>\n",
       "    <tr>\n",
       "      <td>67</td>\n",
       "      <td>1000_67</td>\n",
       "      <td>0.0</td>\n",
       "      <td>2018-06-16</td>\n",
       "      <td>1000</td>\n",
       "    </tr>\n",
       "    <tr>\n",
       "      <td>72</td>\n",
       "      <td>1000_72</td>\n",
       "      <td>0.0</td>\n",
       "      <td>2018-06-15</td>\n",
       "      <td>1000</td>\n",
       "    </tr>\n",
       "    <tr>\n",
       "      <td>...</td>\n",
       "      <td>...</td>\n",
       "      <td>...</td>\n",
       "      <td>...</td>\n",
       "      <td>...</td>\n",
       "    </tr>\n",
       "    <tr>\n",
       "      <td>149380</td>\n",
       "      <td>1499_141</td>\n",
       "      <td>0.0</td>\n",
       "      <td>2018-12-11</td>\n",
       "      <td>1499</td>\n",
       "    </tr>\n",
       "    <tr>\n",
       "      <td>149381</td>\n",
       "      <td>1499_142</td>\n",
       "      <td>0.0</td>\n",
       "      <td>2018-11-01</td>\n",
       "      <td>1499</td>\n",
       "    </tr>\n",
       "    <tr>\n",
       "      <td>149383</td>\n",
       "      <td>1499_144</td>\n",
       "      <td>0.0</td>\n",
       "      <td>2018-11-27</td>\n",
       "      <td>1499</td>\n",
       "    </tr>\n",
       "    <tr>\n",
       "      <td>149386</td>\n",
       "      <td>1499_147</td>\n",
       "      <td>0.0</td>\n",
       "      <td>2018-10-21</td>\n",
       "      <td>1499</td>\n",
       "    </tr>\n",
       "    <tr>\n",
       "      <td>149393</td>\n",
       "      <td>1499_154</td>\n",
       "      <td>0.0</td>\n",
       "      <td>2018-10-27</td>\n",
       "      <td>1499</td>\n",
       "    </tr>\n",
       "  </tbody>\n",
       "</table>\n",
       "<p>19598 rows × 4 columns</p>\n",
       "</div>"
      ],
      "text/plain": [
       "              id  mb_used session_date  user_id\n",
       "11       1000_11      0.0   2018-08-28     1000\n",
       "38       1000_38      0.0   2018-11-27     1000\n",
       "46       1000_46      0.0   2018-06-30     1000\n",
       "67       1000_67      0.0   2018-06-16     1000\n",
       "72       1000_72      0.0   2018-06-15     1000\n",
       "...          ...      ...          ...      ...\n",
       "149380  1499_141      0.0   2018-12-11     1499\n",
       "149381  1499_142      0.0   2018-11-01     1499\n",
       "149383  1499_144      0.0   2018-11-27     1499\n",
       "149386  1499_147      0.0   2018-10-21     1499\n",
       "149393  1499_154      0.0   2018-10-27     1499\n",
       "\n",
       "[19598 rows x 4 columns]"
      ]
     },
     "metadata": {},
     "output_type": "display_data"
    }
   ],
   "source": [
    "# сделаю срез по сессиям с нулевым траффиком\n",
    "display(df_internet.query('mb_used == 0'))"
   ]
  },
  {
   "cell_type": "markdown",
   "metadata": {},
   "source": [
    "виден заметный процент сессий с нулевым трафиком (в отличии от звонков такая аномалия не была обговорена в задании) "
   ]
  },
  {
   "cell_type": "code",
   "execution_count": 16,
   "metadata": {},
   "outputs": [
    {
     "data": {
      "text/plain": [
       "id                  1000_0\n",
       "mb_used               0.03\n",
       "session_date    2018-01-01\n",
       "user_id               1000\n",
       "dtype: object"
      ]
     },
     "metadata": {},
     "output_type": "display_data"
    }
   ],
   "source": [
    "# посмотрю минимальное значение 'mb_used', которое выше нуля\n",
    "display(df_internet.query('mb_used > 0').min())"
   ]
  },
  {
   "cell_type": "code",
   "execution_count": 17,
   "metadata": {},
   "outputs": [
    {
     "data": {
      "text/html": [
       "<div>\n",
       "<style scoped>\n",
       "    .dataframe tbody tr th:only-of-type {\n",
       "        vertical-align: middle;\n",
       "    }\n",
       "\n",
       "    .dataframe tbody tr th {\n",
       "        vertical-align: top;\n",
       "    }\n",
       "\n",
       "    .dataframe thead th {\n",
       "        text-align: right;\n",
       "    }\n",
       "</style>\n",
       "<table border=\"1\" class=\"dataframe\">\n",
       "  <thead>\n",
       "    <tr style=\"text-align: right;\">\n",
       "      <th></th>\n",
       "      <th>id</th>\n",
       "      <th>mb_used</th>\n",
       "      <th>session_date</th>\n",
       "      <th>user_id</th>\n",
       "    </tr>\n",
       "  </thead>\n",
       "  <tbody>\n",
       "    <tr>\n",
       "      <td>377</td>\n",
       "      <td>1002_70</td>\n",
       "      <td>1.62</td>\n",
       "      <td>2018-10-29</td>\n",
       "      <td>1002</td>\n",
       "    </tr>\n",
       "    <tr>\n",
       "      <td>1379</td>\n",
       "      <td>1006_10</td>\n",
       "      <td>0.86</td>\n",
       "      <td>2018-12-19</td>\n",
       "      <td>1006</td>\n",
       "    </tr>\n",
       "    <tr>\n",
       "      <td>1494</td>\n",
       "      <td>1006_125</td>\n",
       "      <td>1.51</td>\n",
       "      <td>2018-07-06</td>\n",
       "      <td>1006</td>\n",
       "    </tr>\n",
       "    <tr>\n",
       "      <td>1593</td>\n",
       "      <td>1006_224</td>\n",
       "      <td>0.93</td>\n",
       "      <td>2018-03-18</td>\n",
       "      <td>1006</td>\n",
       "    </tr>\n",
       "    <tr>\n",
       "      <td>3956</td>\n",
       "      <td>1012_229</td>\n",
       "      <td>1.35</td>\n",
       "      <td>2018-04-02</td>\n",
       "      <td>1012</td>\n",
       "    </tr>\n",
       "    <tr>\n",
       "      <td>...</td>\n",
       "      <td>...</td>\n",
       "      <td>...</td>\n",
       "      <td>...</td>\n",
       "      <td>...</td>\n",
       "    </tr>\n",
       "    <tr>\n",
       "      <td>147305</td>\n",
       "      <td>1492_255</td>\n",
       "      <td>1.16</td>\n",
       "      <td>2018-11-20</td>\n",
       "      <td>1492</td>\n",
       "    </tr>\n",
       "    <tr>\n",
       "      <td>147627</td>\n",
       "      <td>1494_66</td>\n",
       "      <td>1.35</td>\n",
       "      <td>2018-12-06</td>\n",
       "      <td>1494</td>\n",
       "    </tr>\n",
       "    <tr>\n",
       "      <td>148779</td>\n",
       "      <td>1496_727</td>\n",
       "      <td>0.87</td>\n",
       "      <td>2018-04-19</td>\n",
       "      <td>1496</td>\n",
       "    </tr>\n",
       "    <tr>\n",
       "      <td>149007</td>\n",
       "      <td>1498_0</td>\n",
       "      <td>0.19</td>\n",
       "      <td>2018-09-21</td>\n",
       "      <td>1498</td>\n",
       "    </tr>\n",
       "    <tr>\n",
       "      <td>149289</td>\n",
       "      <td>1499_50</td>\n",
       "      <td>0.57</td>\n",
       "      <td>2018-12-07</td>\n",
       "      <td>1499</td>\n",
       "    </tr>\n",
       "  </tbody>\n",
       "</table>\n",
       "<p>198 rows × 4 columns</p>\n",
       "</div>"
      ],
      "text/plain": [
       "              id  mb_used session_date  user_id\n",
       "377      1002_70     1.62   2018-10-29     1002\n",
       "1379     1006_10     0.86   2018-12-19     1006\n",
       "1494    1006_125     1.51   2018-07-06     1006\n",
       "1593    1006_224     0.93   2018-03-18     1006\n",
       "3956    1012_229     1.35   2018-04-02     1012\n",
       "...          ...      ...          ...      ...\n",
       "147305  1492_255     1.16   2018-11-20     1492\n",
       "147627   1494_66     1.35   2018-12-06     1494\n",
       "148779  1496_727     0.87   2018-04-19     1496\n",
       "149007    1498_0     0.19   2018-09-21     1498\n",
       "149289   1499_50     0.57   2018-12-07     1499\n",
       "\n",
       "[198 rows x 4 columns]"
      ]
     },
     "metadata": {},
     "output_type": "display_data"
    }
   ],
   "source": [
    "# и как еще выглядят низкие значения 'mb_used'\n",
    "display(df_internet.query('mb_used > 0 and mb_used < 2'))"
   ]
  },
  {
   "cell_type": "markdown",
   "metadata": {},
   "source": [
    "не могу объяснить с чем это связано - очень низкие значения траффика тоже видны, возможно это связано с тем, что то, что ниже 0,03 округлилось вниз, но не обяязательно - вероятно какой-то служебный траффик - в то же время датасет отражает интернет сессии, так что фактически они были  \n",
    "попробую посмотреть миннимальные значения траффика просуммированного по абонентам"
   ]
  },
  {
   "cell_type": "code",
   "execution_count": 18,
   "metadata": {},
   "outputs": [
    {
     "data": {
      "text/html": [
       "<div>\n",
       "<style scoped>\n",
       "    .dataframe tbody tr th:only-of-type {\n",
       "        vertical-align: middle;\n",
       "    }\n",
       "\n",
       "    .dataframe tbody tr th {\n",
       "        vertical-align: top;\n",
       "    }\n",
       "\n",
       "    .dataframe thead tr th {\n",
       "        text-align: left;\n",
       "    }\n",
       "\n",
       "    .dataframe thead tr:last-of-type th {\n",
       "        text-align: right;\n",
       "    }\n",
       "</style>\n",
       "<table border=\"1\" class=\"dataframe\">\n",
       "  <thead>\n",
       "    <tr>\n",
       "      <th></th>\n",
       "      <th colspan=\"2\" halign=\"left\">mb_used</th>\n",
       "    </tr>\n",
       "    <tr>\n",
       "      <th></th>\n",
       "      <th>count</th>\n",
       "      <th>sum</th>\n",
       "    </tr>\n",
       "    <tr>\n",
       "      <th>user_id</th>\n",
       "      <th></th>\n",
       "      <th></th>\n",
       "    </tr>\n",
       "  </thead>\n",
       "  <tbody>\n",
       "    <tr>\n",
       "      <td>1000</td>\n",
       "      <td>211</td>\n",
       "      <td>107392.31</td>\n",
       "    </tr>\n",
       "    <tr>\n",
       "      <td>1001</td>\n",
       "      <td>96</td>\n",
       "      <td>32466.00</td>\n",
       "    </tr>\n",
       "    <tr>\n",
       "      <td>1002</td>\n",
       "      <td>369</td>\n",
       "      <td>116036.52</td>\n",
       "    </tr>\n",
       "    <tr>\n",
       "      <td>1003</td>\n",
       "      <td>104</td>\n",
       "      <td>57280.64</td>\n",
       "    </tr>\n",
       "    <tr>\n",
       "      <td>1004</td>\n",
       "      <td>300</td>\n",
       "      <td>149039.48</td>\n",
       "    </tr>\n",
       "    <tr>\n",
       "      <td>...</td>\n",
       "      <td>...</td>\n",
       "      <td>...</td>\n",
       "    </tr>\n",
       "    <tr>\n",
       "      <td>1495</td>\n",
       "      <td>254</td>\n",
       "      <td>127410.56</td>\n",
       "    </tr>\n",
       "    <tr>\n",
       "      <td>1496</td>\n",
       "      <td>834</td>\n",
       "      <td>270942.29</td>\n",
       "    </tr>\n",
       "    <tr>\n",
       "      <td>1497</td>\n",
       "      <td>121</td>\n",
       "      <td>45574.97</td>\n",
       "    </tr>\n",
       "    <tr>\n",
       "      <td>1498</td>\n",
       "      <td>232</td>\n",
       "      <td>74425.22</td>\n",
       "    </tr>\n",
       "    <tr>\n",
       "      <td>1499</td>\n",
       "      <td>157</td>\n",
       "      <td>50653.15</td>\n",
       "    </tr>\n",
       "  </tbody>\n",
       "</table>\n",
       "<p>497 rows × 2 columns</p>\n",
       "</div>"
      ],
      "text/plain": [
       "        mb_used           \n",
       "          count        sum\n",
       "user_id                   \n",
       "1000        211  107392.31\n",
       "1001         96   32466.00\n",
       "1002        369  116036.52\n",
       "1003        104   57280.64\n",
       "1004        300  149039.48\n",
       "...         ...        ...\n",
       "1495        254  127410.56\n",
       "1496        834  270942.29\n",
       "1497        121   45574.97\n",
       "1498        232   74425.22\n",
       "1499        157   50653.15\n",
       "\n",
       "[497 rows x 2 columns]"
      ]
     },
     "metadata": {},
     "output_type": "display_data"
    }
   ],
   "source": [
    "df_traffic_by_users = df_internet.groupby('user_id').agg({'mb_used': ['count', 'sum']})\n",
    "display(df_traffic_by_users)"
   ]
  },
  {
   "cell_type": "code",
   "execution_count": 19,
   "metadata": {},
   "outputs": [
    {
     "data": {
      "text/plain": [
       "4603.5199999999995"
      ]
     },
     "metadata": {},
     "output_type": "display_data"
    }
   ],
   "source": [
    "df_traffic_by_users.columns = ['count', 'sum']\n",
    "display(df_traffic_by_users['sum'].min())"
   ]
  },
  {
   "cell_type": "markdown",
   "metadata": {},
   "source": [
    "минимальное значение 4603 мб это немало - мне кажется, что нулевые значения надо оставить (неясно чем их заменять - можно минимальным значением 0.03 - но думаю, что это некорректно), т.к. в условиях сказано, что считается общий траффик, в то же время факт интернет сессий может иметь значения (переводить мб в гб надо будет уже перед анализом)"
   ]
  },
  {
   "cell_type": "code",
   "execution_count": 20,
   "metadata": {},
   "outputs": [
    {
     "name": "stdout",
     "output_type": "stream",
     "text": [
      "Отсутствуют данные по абонентам с user_id: [1127, 1272, 1370]\n"
     ]
    }
   ],
   "source": [
    "# поиск отсутствующих в датафрейме значений тем же способом, что в df_calls\n",
    "users_uniq = pd.Series(df_internet['user_id'].unique()) # сделал Series из уникальных значений\n",
    "\n",
    "temporary=0  \n",
    "\n",
    "search_list_internet = []        # список, в который попадут отсутствющие в датафрейме абоненты\n",
    "\n",
    "for i, x in enumerate(list_check):   # цикл в котором проверяется попадает ли id абонента в значенияя от 1000 до 1499\n",
    "    if users_uniq[i+temporary] != x:\n",
    "        temporary = temporary - 1   # такое смещение сделал чтобы, результат не останавливался после первого не попавшего значения\n",
    "        search_list_internet.append(users_uniq[i+temporary])\n",
    "print('Отсутствуют данные по абонентам с user_id:', search_list_internet)"
   ]
  },
  {
   "cell_type": "markdown",
   "metadata": {},
   "source": [
    "**df_users**"
   ]
  },
  {
   "cell_type": "code",
   "execution_count": 22,
   "metadata": {},
   "outputs": [
    {
     "data": {
      "text/html": [
       "<div>\n",
       "<style scoped>\n",
       "    .dataframe tbody tr th:only-of-type {\n",
       "        vertical-align: middle;\n",
       "    }\n",
       "\n",
       "    .dataframe tbody tr th {\n",
       "        vertical-align: top;\n",
       "    }\n",
       "\n",
       "    .dataframe thead th {\n",
       "        text-align: right;\n",
       "    }\n",
       "</style>\n",
       "<table border=\"1\" class=\"dataframe\">\n",
       "  <thead>\n",
       "    <tr style=\"text-align: right;\">\n",
       "      <th></th>\n",
       "      <th>user_id</th>\n",
       "      <th>age</th>\n",
       "      <th>churn_date</th>\n",
       "      <th>city</th>\n",
       "      <th>first_name</th>\n",
       "      <th>last_name</th>\n",
       "      <th>reg_date</th>\n",
       "      <th>tariff</th>\n",
       "    </tr>\n",
       "  </thead>\n",
       "  <tbody>\n",
       "    <tr>\n",
       "      <td>0</td>\n",
       "      <td>1000</td>\n",
       "      <td>52</td>\n",
       "      <td>NaN</td>\n",
       "      <td>Краснодар</td>\n",
       "      <td>Рафаил</td>\n",
       "      <td>Верещагин</td>\n",
       "      <td>2018-05-25</td>\n",
       "      <td>ultra</td>\n",
       "    </tr>\n",
       "    <tr>\n",
       "      <td>1</td>\n",
       "      <td>1001</td>\n",
       "      <td>41</td>\n",
       "      <td>NaN</td>\n",
       "      <td>Москва</td>\n",
       "      <td>Иван</td>\n",
       "      <td>Ежов</td>\n",
       "      <td>2018-11-01</td>\n",
       "      <td>smart</td>\n",
       "    </tr>\n",
       "    <tr>\n",
       "      <td>2</td>\n",
       "      <td>1002</td>\n",
       "      <td>59</td>\n",
       "      <td>NaN</td>\n",
       "      <td>Стерлитамак</td>\n",
       "      <td>Евгений</td>\n",
       "      <td>Абрамович</td>\n",
       "      <td>2018-06-17</td>\n",
       "      <td>smart</td>\n",
       "    </tr>\n",
       "    <tr>\n",
       "      <td>3</td>\n",
       "      <td>1003</td>\n",
       "      <td>23</td>\n",
       "      <td>NaN</td>\n",
       "      <td>Москва</td>\n",
       "      <td>Белла</td>\n",
       "      <td>Белякова</td>\n",
       "      <td>2018-08-17</td>\n",
       "      <td>ultra</td>\n",
       "    </tr>\n",
       "    <tr>\n",
       "      <td>4</td>\n",
       "      <td>1004</td>\n",
       "      <td>68</td>\n",
       "      <td>NaN</td>\n",
       "      <td>Новокузнецк</td>\n",
       "      <td>Татьяна</td>\n",
       "      <td>Авдеенко</td>\n",
       "      <td>2018-05-14</td>\n",
       "      <td>ultra</td>\n",
       "    </tr>\n",
       "    <tr>\n",
       "      <td>5</td>\n",
       "      <td>1005</td>\n",
       "      <td>67</td>\n",
       "      <td>NaN</td>\n",
       "      <td>Набережные Челны</td>\n",
       "      <td>Афанасий</td>\n",
       "      <td>Горлов</td>\n",
       "      <td>2018-01-25</td>\n",
       "      <td>smart</td>\n",
       "    </tr>\n",
       "    <tr>\n",
       "      <td>6</td>\n",
       "      <td>1006</td>\n",
       "      <td>21</td>\n",
       "      <td>NaN</td>\n",
       "      <td>Ульяновск</td>\n",
       "      <td>Леонид</td>\n",
       "      <td>Ермолаев</td>\n",
       "      <td>2018-02-26</td>\n",
       "      <td>smart</td>\n",
       "    </tr>\n",
       "    <tr>\n",
       "      <td>7</td>\n",
       "      <td>1007</td>\n",
       "      <td>65</td>\n",
       "      <td>NaN</td>\n",
       "      <td>Москва</td>\n",
       "      <td>Юна</td>\n",
       "      <td>Березина</td>\n",
       "      <td>2018-04-19</td>\n",
       "      <td>smart</td>\n",
       "    </tr>\n",
       "    <tr>\n",
       "      <td>8</td>\n",
       "      <td>1008</td>\n",
       "      <td>63</td>\n",
       "      <td>NaN</td>\n",
       "      <td>Челябинск</td>\n",
       "      <td>Рустэм</td>\n",
       "      <td>Пономарёв</td>\n",
       "      <td>2018-12-19</td>\n",
       "      <td>smart</td>\n",
       "    </tr>\n",
       "    <tr>\n",
       "      <td>9</td>\n",
       "      <td>1009</td>\n",
       "      <td>24</td>\n",
       "      <td>NaN</td>\n",
       "      <td>Пермь</td>\n",
       "      <td>Василиса</td>\n",
       "      <td>Блинова</td>\n",
       "      <td>2018-03-22</td>\n",
       "      <td>smart</td>\n",
       "    </tr>\n",
       "    <tr>\n",
       "      <td>10</td>\n",
       "      <td>1010</td>\n",
       "      <td>26</td>\n",
       "      <td>NaN</td>\n",
       "      <td>Тюмень</td>\n",
       "      <td>Эдуард</td>\n",
       "      <td>Кононов</td>\n",
       "      <td>2018-08-05</td>\n",
       "      <td>smart</td>\n",
       "    </tr>\n",
       "    <tr>\n",
       "      <td>11</td>\n",
       "      <td>1011</td>\n",
       "      <td>44</td>\n",
       "      <td>NaN</td>\n",
       "      <td>Самара</td>\n",
       "      <td>Веселина</td>\n",
       "      <td>Алёшко</td>\n",
       "      <td>2018-03-19</td>\n",
       "      <td>smart</td>\n",
       "    </tr>\n",
       "    <tr>\n",
       "      <td>12</td>\n",
       "      <td>1012</td>\n",
       "      <td>38</td>\n",
       "      <td>NaN</td>\n",
       "      <td>Санкт-Петербург</td>\n",
       "      <td>Варлам</td>\n",
       "      <td>Соловьев</td>\n",
       "      <td>2018-03-28</td>\n",
       "      <td>smart</td>\n",
       "    </tr>\n",
       "    <tr>\n",
       "      <td>13</td>\n",
       "      <td>1013</td>\n",
       "      <td>36</td>\n",
       "      <td>NaN</td>\n",
       "      <td>Иваново</td>\n",
       "      <td>Борис</td>\n",
       "      <td>Андреенко</td>\n",
       "      <td>2018-11-14</td>\n",
       "      <td>ultra</td>\n",
       "    </tr>\n",
       "    <tr>\n",
       "      <td>14</td>\n",
       "      <td>1014</td>\n",
       "      <td>64</td>\n",
       "      <td>NaN</td>\n",
       "      <td>Чебоксары</td>\n",
       "      <td>Яков</td>\n",
       "      <td>Акинфьев</td>\n",
       "      <td>2018-05-15</td>\n",
       "      <td>smart</td>\n",
       "    </tr>\n",
       "  </tbody>\n",
       "</table>\n",
       "</div>"
      ],
      "text/plain": [
       "    user_id  age churn_date              city first_name  last_name  \\\n",
       "0      1000   52        NaN         Краснодар     Рафаил  Верещагин   \n",
       "1      1001   41        NaN            Москва       Иван       Ежов   \n",
       "2      1002   59        NaN       Стерлитамак    Евгений  Абрамович   \n",
       "3      1003   23        NaN            Москва      Белла   Белякова   \n",
       "4      1004   68        NaN       Новокузнецк    Татьяна   Авдеенко   \n",
       "5      1005   67        NaN  Набережные Челны   Афанасий     Горлов   \n",
       "6      1006   21        NaN         Ульяновск     Леонид   Ермолаев   \n",
       "7      1007   65        NaN            Москва        Юна   Березина   \n",
       "8      1008   63        NaN         Челябинск     Рустэм  Пономарёв   \n",
       "9      1009   24        NaN             Пермь   Василиса    Блинова   \n",
       "10     1010   26        NaN            Тюмень     Эдуард    Кононов   \n",
       "11     1011   44        NaN            Самара   Веселина     Алёшко   \n",
       "12     1012   38        NaN   Санкт-Петербург     Варлам   Соловьев   \n",
       "13     1013   36        NaN           Иваново      Борис  Андреенко   \n",
       "14     1014   64        NaN         Чебоксары       Яков   Акинфьев   \n",
       "\n",
       "      reg_date tariff  \n",
       "0   2018-05-25  ultra  \n",
       "1   2018-11-01  smart  \n",
       "2   2018-06-17  smart  \n",
       "3   2018-08-17  ultra  \n",
       "4   2018-05-14  ultra  \n",
       "5   2018-01-25  smart  \n",
       "6   2018-02-26  smart  \n",
       "7   2018-04-19  smart  \n",
       "8   2018-12-19  smart  \n",
       "9   2018-03-22  smart  \n",
       "10  2018-08-05  smart  \n",
       "11  2018-03-19  smart  \n",
       "12  2018-03-28  smart  \n",
       "13  2018-11-14  ultra  \n",
       "14  2018-05-15  smart  "
      ]
     },
     "metadata": {},
     "output_type": "display_data"
    }
   ],
   "source": [
    "# посмотрю еще раз на таблицу\n",
    "display(df_users.head(15))"
   ]
  },
  {
   "cell_type": "markdown",
   "metadata": {},
   "source": [
    "в таблице 500 абонентов (как и указано в задании), хочу проверить их уникальность, и посмотреть на распределение тарифов,\n",
    "также хочу посмотреть на распределение возрастов (возможно далее возраст будет можно/нужно категоризировать)"
   ]
  },
  {
   "cell_type": "code",
   "execution_count": 23,
   "metadata": {},
   "outputs": [
    {
     "data": {
      "text/plain": [
       "tariff\n",
       "smart    351\n",
       "ultra    149\n",
       "Name: user_id, dtype: int64"
      ]
     },
     "execution_count": 23,
     "metadata": {},
     "output_type": "execute_result"
    }
   ],
   "source": [
    "# распределение тарифов\n",
    "df_users.groupby('tariff')['user_id'].count()"
   ]
  },
  {
   "cell_type": "code",
   "execution_count": 24,
   "metadata": {},
   "outputs": [
    {
     "data": {
      "text/plain": [
       "Text(0.5, 1.0, 'Диаграмма размаха возраста')"
      ]
     },
     "execution_count": 24,
     "metadata": {},
     "output_type": "execute_result"
    },
    {
     "data": {
      "image/png": "[encoded data removed]",
      "text/plain": [
       "<Figure size 432x288 with 1 Axes>"
      ]
     },
     "metadata": {},
     "output_type": "display_data"
    }
   ],
   "source": [
    "# диаграмма размаха для возраста\n",
    "# df_users.boxplot('age')\n",
    "sns.boxplot(y=df_users['age'])\n",
    "plt.title('Диаграмма размаха возраста')"
   ]
  },
  {
   "cell_type": "code",
   "execution_count": 25,
   "metadata": {},
   "outputs": [
    {
     "data": {
      "text/plain": [
       "array([[<matplotlib.axes._subplots.AxesSubplot object at 0x7f8c23a931d0>]],\n",
       "      dtype=object)"
      ]
     },
     "execution_count": 25,
     "metadata": {},
     "output_type": "execute_result"
    },
    {
     "data": {
      "image/png": "[encoded data removed]",
      "text/plain": [
       "<Figure size 432x288 with 1 Axes>"
      ]
     },
     "metadata": {},
     "output_type": "display_data"
    }
   ],
   "source": [
    "# гистограмма для возраста\n",
    "df_users.hist('age', bins=50)"
   ]
  },
  {
   "cell_type": "code",
   "execution_count": 26,
   "metadata": {},
   "outputs": [
    {
     "name": "stdout",
     "output_type": "stream",
     "text": [
      "Число вариантов полных имен абонентов: 500\n",
      "Число полных имен абонентов вместе с городом: 500\n",
      "Число городов: 76\n"
     ]
    }
   ],
   "source": [
    "# хочу проверить уникальность комбинаций имени и фамилии\n",
    "df_users['full_name'] = df_users['first_name'] + ' ' + df_users['last_name']\n",
    "print('Число вариантов полных имен абонентов:', pd.Series(df_users['full_name'].unique()).count())\n",
    "\n",
    "# а также уникальность принадлжености человека к городу (может быть человек принадлежит к нескольким городам)\n",
    "df_users['full_name_and_city'] = df_users['full_name'] + ' ' + df_users['city']\n",
    "print('Число полных имен абонентов вместе с городом:', pd.Series(df_users['full_name'].unique()).count())\n",
    "\n",
    "# и число городов\n",
    "print('Число городов:', pd.Series(df_users['city'].unique()).count())\n"
   ]
  },
  {
   "cell_type": "markdown",
   "metadata": {},
   "source": [
    "Диаграмма размаха для возраста выглядит отлично, уникальных имен абонентов столько сколько должно быть (500), и каждый привязан к определнному городу (не к разным)\n",
    "\n",
    "пропуски в churn_date обговорены в задании (тариф действовал на момент выгрузки данных)\n",
    "\n",
    "мне кажется разумным категоризировать значения возрастов (хотя не уверен точно, что это понадобится) - возраст распределен достаточно равномерно - поэтому при выборе категорий думаю ориентироваться на значения Q1 и Q3  \n",
    "\n",
    "еще при взгляде на данные мне показалось возможным категоризировать абонентов по полу (у женщин фамилия обычно оканчивается на 'а', а в тех случая когда не на 'а' (увидел окончания на 'о'), то на 'а' оканчивается имя - конечно все имена/фамилии я не смотрел и вероятность ошибок есть, но думаю что такой подход приемлем."
   ]
  },
  {
   "cell_type": "code",
   "execution_count": 27,
   "metadata": {},
   "outputs": [
    {
     "name": "stdout",
     "output_type": "stream",
     "text": [
      "regular    249\n",
      "old        129\n",
      "young      122\n",
      "Name: age_categorize, dtype: int64\n"
     ]
    }
   ],
   "source": [
    "# категоризация возраста\n",
    "def age_categorize(age):    # функция\n",
    "    if age >= 62:\n",
    "        return 'old'\n",
    "    if age >= 32:\n",
    "        return 'regular'\n",
    "    else: \n",
    "        return 'young'\n",
    "df_users['age_categorize'] = df_users['age'].apply(age_categorize)   # применение\n",
    "print(df_users['age_categorize'].value_counts())  # проверка"
   ]
  },
  {
   "cell_type": "code",
   "execution_count": 28,
   "metadata": {},
   "outputs": [
    {
     "name": "stdout",
     "output_type": "stream",
     "text": [
      "gender\n",
      "F    256\n",
      "M    244\n",
      "Name: user_id, dtype: int64\n"
     ]
    }
   ],
   "source": [
    "# определение пола\n",
    "def gender_define(row):               # функция\n",
    "    last_name = row['last_name']\n",
    "    first_name = row['first_name']\n",
    "    if last_name[-1] == 'а':\n",
    "        return 'F'\n",
    "    else:\n",
    "        if first_name[-1] == 'а':\n",
    "            return 'F'\n",
    "        else:\n",
    "            return 'M'\n",
    "df_users['gender'] = df_users.apply(gender_define, axis=1)  # применение функции\n",
    "print(df_users.groupby('gender')['user_id'].count())  # проверка"
   ]
  },
  {
   "cell_type": "code",
   "execution_count": 29,
   "metadata": {},
   "outputs": [
    {
     "data": {
      "text/html": [
       "<div>\n",
       "<style scoped>\n",
       "    .dataframe tbody tr th:only-of-type {\n",
       "        vertical-align: middle;\n",
       "    }\n",
       "\n",
       "    .dataframe tbody tr th {\n",
       "        vertical-align: top;\n",
       "    }\n",
       "\n",
       "    .dataframe thead th {\n",
       "        text-align: right;\n",
       "    }\n",
       "</style>\n",
       "<table border=\"1\" class=\"dataframe\">\n",
       "  <thead>\n",
       "    <tr style=\"text-align: right;\">\n",
       "      <th></th>\n",
       "      <th>user_id</th>\n",
       "      <th>age</th>\n",
       "      <th>churn_date</th>\n",
       "      <th>city</th>\n",
       "      <th>first_name</th>\n",
       "      <th>last_name</th>\n",
       "      <th>reg_date</th>\n",
       "      <th>tariff</th>\n",
       "      <th>full_name</th>\n",
       "      <th>full_name_and_city</th>\n",
       "      <th>age_categorize</th>\n",
       "      <th>gender</th>\n",
       "    </tr>\n",
       "  </thead>\n",
       "  <tbody>\n",
       "    <tr>\n",
       "      <td>0</td>\n",
       "      <td>1000</td>\n",
       "      <td>52</td>\n",
       "      <td>NaN</td>\n",
       "      <td>Краснодар</td>\n",
       "      <td>Рафаил</td>\n",
       "      <td>Верещагин</td>\n",
       "      <td>2018-05-25</td>\n",
       "      <td>ultra</td>\n",
       "      <td>Рафаил Верещагин</td>\n",
       "      <td>Рафаил Верещагин Краснодар</td>\n",
       "      <td>regular</td>\n",
       "      <td>M</td>\n",
       "    </tr>\n",
       "    <tr>\n",
       "      <td>1</td>\n",
       "      <td>1001</td>\n",
       "      <td>41</td>\n",
       "      <td>NaN</td>\n",
       "      <td>Москва</td>\n",
       "      <td>Иван</td>\n",
       "      <td>Ежов</td>\n",
       "      <td>2018-11-01</td>\n",
       "      <td>smart</td>\n",
       "      <td>Иван Ежов</td>\n",
       "      <td>Иван Ежов Москва</td>\n",
       "      <td>regular</td>\n",
       "      <td>M</td>\n",
       "    </tr>\n",
       "    <tr>\n",
       "      <td>2</td>\n",
       "      <td>1002</td>\n",
       "      <td>59</td>\n",
       "      <td>NaN</td>\n",
       "      <td>Стерлитамак</td>\n",
       "      <td>Евгений</td>\n",
       "      <td>Абрамович</td>\n",
       "      <td>2018-06-17</td>\n",
       "      <td>smart</td>\n",
       "      <td>Евгений Абрамович</td>\n",
       "      <td>Евгений Абрамович Стерлитамак</td>\n",
       "      <td>regular</td>\n",
       "      <td>M</td>\n",
       "    </tr>\n",
       "    <tr>\n",
       "      <td>3</td>\n",
       "      <td>1003</td>\n",
       "      <td>23</td>\n",
       "      <td>NaN</td>\n",
       "      <td>Москва</td>\n",
       "      <td>Белла</td>\n",
       "      <td>Белякова</td>\n",
       "      <td>2018-08-17</td>\n",
       "      <td>ultra</td>\n",
       "      <td>Белла Белякова</td>\n",
       "      <td>Белла Белякова Москва</td>\n",
       "      <td>young</td>\n",
       "      <td>F</td>\n",
       "    </tr>\n",
       "    <tr>\n",
       "      <td>4</td>\n",
       "      <td>1004</td>\n",
       "      <td>68</td>\n",
       "      <td>NaN</td>\n",
       "      <td>Новокузнецк</td>\n",
       "      <td>Татьяна</td>\n",
       "      <td>Авдеенко</td>\n",
       "      <td>2018-05-14</td>\n",
       "      <td>ultra</td>\n",
       "      <td>Татьяна Авдеенко</td>\n",
       "      <td>Татьяна Авдеенко Новокузнецк</td>\n",
       "      <td>old</td>\n",
       "      <td>F</td>\n",
       "    </tr>\n",
       "    <tr>\n",
       "      <td>5</td>\n",
       "      <td>1005</td>\n",
       "      <td>67</td>\n",
       "      <td>NaN</td>\n",
       "      <td>Набережные Челны</td>\n",
       "      <td>Афанасий</td>\n",
       "      <td>Горлов</td>\n",
       "      <td>2018-01-25</td>\n",
       "      <td>smart</td>\n",
       "      <td>Афанасий Горлов</td>\n",
       "      <td>Афанасий Горлов Набережные Челны</td>\n",
       "      <td>old</td>\n",
       "      <td>M</td>\n",
       "    </tr>\n",
       "    <tr>\n",
       "      <td>6</td>\n",
       "      <td>1006</td>\n",
       "      <td>21</td>\n",
       "      <td>NaN</td>\n",
       "      <td>Ульяновск</td>\n",
       "      <td>Леонид</td>\n",
       "      <td>Ермолаев</td>\n",
       "      <td>2018-02-26</td>\n",
       "      <td>smart</td>\n",
       "      <td>Леонид Ермолаев</td>\n",
       "      <td>Леонид Ермолаев Ульяновск</td>\n",
       "      <td>young</td>\n",
       "      <td>M</td>\n",
       "    </tr>\n",
       "    <tr>\n",
       "      <td>7</td>\n",
       "      <td>1007</td>\n",
       "      <td>65</td>\n",
       "      <td>NaN</td>\n",
       "      <td>Москва</td>\n",
       "      <td>Юна</td>\n",
       "      <td>Березина</td>\n",
       "      <td>2018-04-19</td>\n",
       "      <td>smart</td>\n",
       "      <td>Юна Березина</td>\n",
       "      <td>Юна Березина Москва</td>\n",
       "      <td>old</td>\n",
       "      <td>F</td>\n",
       "    </tr>\n",
       "    <tr>\n",
       "      <td>8</td>\n",
       "      <td>1008</td>\n",
       "      <td>63</td>\n",
       "      <td>NaN</td>\n",
       "      <td>Челябинск</td>\n",
       "      <td>Рустэм</td>\n",
       "      <td>Пономарёв</td>\n",
       "      <td>2018-12-19</td>\n",
       "      <td>smart</td>\n",
       "      <td>Рустэм Пономарёв</td>\n",
       "      <td>Рустэм Пономарёв Челябинск</td>\n",
       "      <td>old</td>\n",
       "      <td>M</td>\n",
       "    </tr>\n",
       "    <tr>\n",
       "      <td>9</td>\n",
       "      <td>1009</td>\n",
       "      <td>24</td>\n",
       "      <td>NaN</td>\n",
       "      <td>Пермь</td>\n",
       "      <td>Василиса</td>\n",
       "      <td>Блинова</td>\n",
       "      <td>2018-03-22</td>\n",
       "      <td>smart</td>\n",
       "      <td>Василиса Блинова</td>\n",
       "      <td>Василиса Блинова Пермь</td>\n",
       "      <td>young</td>\n",
       "      <td>F</td>\n",
       "    </tr>\n",
       "    <tr>\n",
       "      <td>10</td>\n",
       "      <td>1010</td>\n",
       "      <td>26</td>\n",
       "      <td>NaN</td>\n",
       "      <td>Тюмень</td>\n",
       "      <td>Эдуард</td>\n",
       "      <td>Кононов</td>\n",
       "      <td>2018-08-05</td>\n",
       "      <td>smart</td>\n",
       "      <td>Эдуард Кононов</td>\n",
       "      <td>Эдуард Кононов Тюмень</td>\n",
       "      <td>young</td>\n",
       "      <td>M</td>\n",
       "    </tr>\n",
       "    <tr>\n",
       "      <td>11</td>\n",
       "      <td>1011</td>\n",
       "      <td>44</td>\n",
       "      <td>NaN</td>\n",
       "      <td>Самара</td>\n",
       "      <td>Веселина</td>\n",
       "      <td>Алёшко</td>\n",
       "      <td>2018-03-19</td>\n",
       "      <td>smart</td>\n",
       "      <td>Веселина Алёшко</td>\n",
       "      <td>Веселина Алёшко Самара</td>\n",
       "      <td>regular</td>\n",
       "      <td>F</td>\n",
       "    </tr>\n",
       "    <tr>\n",
       "      <td>12</td>\n",
       "      <td>1012</td>\n",
       "      <td>38</td>\n",
       "      <td>NaN</td>\n",
       "      <td>Санкт-Петербург</td>\n",
       "      <td>Варлам</td>\n",
       "      <td>Соловьев</td>\n",
       "      <td>2018-03-28</td>\n",
       "      <td>smart</td>\n",
       "      <td>Варлам Соловьев</td>\n",
       "      <td>Варлам Соловьев Санкт-Петербург</td>\n",
       "      <td>regular</td>\n",
       "      <td>M</td>\n",
       "    </tr>\n",
       "    <tr>\n",
       "      <td>13</td>\n",
       "      <td>1013</td>\n",
       "      <td>36</td>\n",
       "      <td>NaN</td>\n",
       "      <td>Иваново</td>\n",
       "      <td>Борис</td>\n",
       "      <td>Андреенко</td>\n",
       "      <td>2018-11-14</td>\n",
       "      <td>ultra</td>\n",
       "      <td>Борис Андреенко</td>\n",
       "      <td>Борис Андреенко Иваново</td>\n",
       "      <td>regular</td>\n",
       "      <td>M</td>\n",
       "    </tr>\n",
       "    <tr>\n",
       "      <td>14</td>\n",
       "      <td>1014</td>\n",
       "      <td>64</td>\n",
       "      <td>NaN</td>\n",
       "      <td>Чебоксары</td>\n",
       "      <td>Яков</td>\n",
       "      <td>Акинфьев</td>\n",
       "      <td>2018-05-15</td>\n",
       "      <td>smart</td>\n",
       "      <td>Яков Акинфьев</td>\n",
       "      <td>Яков Акинфьев Чебоксары</td>\n",
       "      <td>old</td>\n",
       "      <td>M</td>\n",
       "    </tr>\n",
       "  </tbody>\n",
       "</table>\n",
       "</div>"
      ],
      "text/plain": [
       "    user_id  age churn_date              city first_name  last_name  \\\n",
       "0      1000   52        NaN         Краснодар     Рафаил  Верещагин   \n",
       "1      1001   41        NaN            Москва       Иван       Ежов   \n",
       "2      1002   59        NaN       Стерлитамак    Евгений  Абрамович   \n",
       "3      1003   23        NaN            Москва      Белла   Белякова   \n",
       "4      1004   68        NaN       Новокузнецк    Татьяна   Авдеенко   \n",
       "5      1005   67        NaN  Набережные Челны   Афанасий     Горлов   \n",
       "6      1006   21        NaN         Ульяновск     Леонид   Ермолаев   \n",
       "7      1007   65        NaN            Москва        Юна   Березина   \n",
       "8      1008   63        NaN         Челябинск     Рустэм  Пономарёв   \n",
       "9      1009   24        NaN             Пермь   Василиса    Блинова   \n",
       "10     1010   26        NaN            Тюмень     Эдуард    Кононов   \n",
       "11     1011   44        NaN            Самара   Веселина     Алёшко   \n",
       "12     1012   38        NaN   Санкт-Петербург     Варлам   Соловьев   \n",
       "13     1013   36        NaN           Иваново      Борис  Андреенко   \n",
       "14     1014   64        NaN         Чебоксары       Яков   Акинфьев   \n",
       "\n",
       "      reg_date tariff          full_name                full_name_and_city  \\\n",
       "0   2018-05-25  ultra   Рафаил Верещагин        Рафаил Верещагин Краснодар   \n",
       "1   2018-11-01  smart          Иван Ежов                  Иван Ежов Москва   \n",
       "2   2018-06-17  smart  Евгений Абрамович     Евгений Абрамович Стерлитамак   \n",
       "3   2018-08-17  ultra     Белла Белякова             Белла Белякова Москва   \n",
       "4   2018-05-14  ultra   Татьяна Авдеенко      Татьяна Авдеенко Новокузнецк   \n",
       "5   2018-01-25  smart    Афанасий Горлов  Афанасий Горлов Набережные Челны   \n",
       "6   2018-02-26  smart    Леонид Ермолаев         Леонид Ермолаев Ульяновск   \n",
       "7   2018-04-19  smart       Юна Березина               Юна Березина Москва   \n",
       "8   2018-12-19  smart   Рустэм Пономарёв        Рустэм Пономарёв Челябинск   \n",
       "9   2018-03-22  smart   Василиса Блинова            Василиса Блинова Пермь   \n",
       "10  2018-08-05  smart     Эдуард Кононов             Эдуард Кононов Тюмень   \n",
       "11  2018-03-19  smart    Веселина Алёшко            Веселина Алёшко Самара   \n",
       "12  2018-03-28  smart    Варлам Соловьев   Варлам Соловьев Санкт-Петербург   \n",
       "13  2018-11-14  ultra    Борис Андреенко           Борис Андреенко Иваново   \n",
       "14  2018-05-15  smart      Яков Акинфьев           Яков Акинфьев Чебоксары   \n",
       "\n",
       "   age_categorize gender  \n",
       "0         regular      M  \n",
       "1         regular      M  \n",
       "2         regular      M  \n",
       "3           young      F  \n",
       "4             old      F  \n",
       "5             old      M  \n",
       "6           young      M  \n",
       "7             old      F  \n",
       "8             old      M  \n",
       "9           young      F  \n",
       "10          young      M  \n",
       "11        regular      F  \n",
       "12        regular      M  \n",
       "13        regular      M  \n",
       "14            old      M  "
      ]
     },
     "metadata": {},
     "output_type": "display_data"
    }
   ],
   "source": [
    "# взгляд на данные после категоризации\n",
    "display(df_users.head(15))"
   ]
  },
  {
   "cell_type": "markdown",
   "metadata": {},
   "source": [
    "**df_tariffs**"
   ]
  },
  {
   "cell_type": "code",
   "execution_count": 30,
   "metadata": {},
   "outputs": [
    {
     "data": {
      "text/html": [
       "<div>\n",
       "<style scoped>\n",
       "    .dataframe tbody tr th:only-of-type {\n",
       "        vertical-align: middle;\n",
       "    }\n",
       "\n",
       "    .dataframe tbody tr th {\n",
       "        vertical-align: top;\n",
       "    }\n",
       "\n",
       "    .dataframe thead th {\n",
       "        text-align: right;\n",
       "    }\n",
       "</style>\n",
       "<table border=\"1\" class=\"dataframe\">\n",
       "  <thead>\n",
       "    <tr style=\"text-align: right;\">\n",
       "      <th></th>\n",
       "      <th>messages_included</th>\n",
       "      <th>mb_per_month_included</th>\n",
       "      <th>minutes_included</th>\n",
       "      <th>rub_monthly_fee</th>\n",
       "      <th>rub_per_gb</th>\n",
       "      <th>rub_per_message</th>\n",
       "      <th>rub_per_minute</th>\n",
       "      <th>tariff_name</th>\n",
       "    </tr>\n",
       "  </thead>\n",
       "  <tbody>\n",
       "    <tr>\n",
       "      <td>0</td>\n",
       "      <td>50</td>\n",
       "      <td>15360</td>\n",
       "      <td>500</td>\n",
       "      <td>550</td>\n",
       "      <td>200</td>\n",
       "      <td>3</td>\n",
       "      <td>3</td>\n",
       "      <td>smart</td>\n",
       "    </tr>\n",
       "    <tr>\n",
       "      <td>1</td>\n",
       "      <td>1000</td>\n",
       "      <td>30720</td>\n",
       "      <td>3000</td>\n",
       "      <td>1950</td>\n",
       "      <td>150</td>\n",
       "      <td>1</td>\n",
       "      <td>1</td>\n",
       "      <td>ultra</td>\n",
       "    </tr>\n",
       "  </tbody>\n",
       "</table>\n",
       "</div>"
      ],
      "text/plain": [
       "   messages_included  mb_per_month_included  minutes_included  \\\n",
       "0                 50                  15360               500   \n",
       "1               1000                  30720              3000   \n",
       "\n",
       "   rub_monthly_fee  rub_per_gb  rub_per_message  rub_per_minute tariff_name  \n",
       "0              550         200                3               3       smart  \n",
       "1             1950         150                1               1       ultra  "
      ]
     },
     "metadata": {},
     "output_type": "display_data"
    }
   ],
   "source": [
    "display(df_tariffs)"
   ]
  },
  {
   "cell_type": "markdown",
   "metadata": {},
   "source": [
    "Насчет таблицы с тарифами можно сказать, что она сразу полностью видна и соответствует тому что написано в задании, единственное, что требует корректировки - столбец с включенным траффиком (обговорены расчеты в гб и стоимость дана в них же)"
   ]
  },
  {
   "cell_type": "code",
   "execution_count": 31,
   "metadata": {},
   "outputs": [
    {
     "data": {
      "text/html": [
       "<div>\n",
       "<style scoped>\n",
       "    .dataframe tbody tr th:only-of-type {\n",
       "        vertical-align: middle;\n",
       "    }\n",
       "\n",
       "    .dataframe tbody tr th {\n",
       "        vertical-align: top;\n",
       "    }\n",
       "\n",
       "    .dataframe thead th {\n",
       "        text-align: right;\n",
       "    }\n",
       "</style>\n",
       "<table border=\"1\" class=\"dataframe\">\n",
       "  <thead>\n",
       "    <tr style=\"text-align: right;\">\n",
       "      <th></th>\n",
       "      <th>messages_included</th>\n",
       "      <th>mb_per_month_included</th>\n",
       "      <th>minutes_included</th>\n",
       "      <th>rub_monthly_fee</th>\n",
       "      <th>rub_per_gb</th>\n",
       "      <th>rub_per_message</th>\n",
       "      <th>rub_per_minute</th>\n",
       "      <th>tariff_name</th>\n",
       "      <th>gb_per_month_included</th>\n",
       "    </tr>\n",
       "  </thead>\n",
       "  <tbody>\n",
       "    <tr>\n",
       "      <td>0</td>\n",
       "      <td>50</td>\n",
       "      <td>15360</td>\n",
       "      <td>500</td>\n",
       "      <td>550</td>\n",
       "      <td>200</td>\n",
       "      <td>3</td>\n",
       "      <td>3</td>\n",
       "      <td>smart</td>\n",
       "      <td>15</td>\n",
       "    </tr>\n",
       "    <tr>\n",
       "      <td>1</td>\n",
       "      <td>1000</td>\n",
       "      <td>30720</td>\n",
       "      <td>3000</td>\n",
       "      <td>1950</td>\n",
       "      <td>150</td>\n",
       "      <td>1</td>\n",
       "      <td>1</td>\n",
       "      <td>ultra</td>\n",
       "      <td>30</td>\n",
       "    </tr>\n",
       "  </tbody>\n",
       "</table>\n",
       "</div>"
      ],
      "text/plain": [
       "   messages_included  mb_per_month_included  minutes_included  \\\n",
       "0                 50                  15360               500   \n",
       "1               1000                  30720              3000   \n",
       "\n",
       "   rub_monthly_fee  rub_per_gb  rub_per_message  rub_per_minute tariff_name  \\\n",
       "0              550         200                3               3       smart   \n",
       "1             1950         150                1               1       ultra   \n",
       "\n",
       "   gb_per_month_included  \n",
       "0                     15  \n",
       "1                     30  "
      ]
     },
     "metadata": {},
     "output_type": "display_data"
    }
   ],
   "source": [
    "# перевод мегабайт в гигабайты\n",
    "df_tariffs['gb_per_month_included'] = df_tariffs['mb_per_month_included'] / 1024\n",
    "\n",
    "# перевод в int\n",
    "df_tariffs['gb_per_month_included'] = df_tariffs['gb_per_month_included'].astype('int')\n",
    "display(df_tariffs)"
   ]
  },
  {
   "cell_type": "markdown",
   "metadata": {},
   "source": [
    "мб поделились в гб ровно (без остатка, хотя потом надо будет перевести в int)"
   ]
  },
  {
   "cell_type": "markdown",
   "metadata": {},
   "source": [
    "В итоге при дополнительном изучении обнаружени или сделано следующее:\n",
    "- обнаружены пропуски абонентов - видно каких, возможно это будет иметь значение при объединении таблиц\n",
    "- обнаружено много нулевых значений в стобце по траффику в df_internet - решил их оставить (а перевод мб в гб в том датафрейме вести перед анализом таблиц)\n",
    "- удален столбец 'Unnamed: 0' в df_internet (дублировал номера строк)\n",
    "- мб переведены в гб в df_tariffs\n",
    "- категоризованы возраст и с некотором приближением определен пол\n",
    "- остальные аномалии обговорены в задании"
   ]
  },
  {
   "cell_type": "markdown",
   "metadata": {},
   "source": [
    "## приведение данные к нужным типам"
   ]
  },
  {
   "cell_type": "markdown",
   "metadata": {},
   "source": [
    "столбцы с датами нужно привести в datetime, столбцы c float64 в int (столбец mb_used планировал привести позже непосредственно перед с расчетами, чтобы избежать потерь при округлении, но подумав, понял задание так, что это лучше сделать сейчас)  \n",
    "так как при переводе в int, идет округление вниз, а математическое оругление методом round даст результат не подходящий под условие задания (округление вверх) - сделаю функцию для округления. "
   ]
  },
  {
   "cell_type": "code",
   "execution_count": 32,
   "metadata": {},
   "outputs": [],
   "source": [
    "df_calls['duration'] = np.ceil(df_calls['duration']) # округление значений столбца вверх\n",
    "df_calls['duration'] = df_calls['duration'].astype('int') # перевод вещественных значений в целочисленные"
   ]
  },
  {
   "cell_type": "code",
   "execution_count": 35,
   "metadata": {},
   "outputs": [],
   "source": [
    "# перевод в datetime\n",
    "df_calls['call_date'] = pd.to_datetime(df_calls['call_date'], format='%Y-%m-%d')  # для длительности звонков\n",
    "\n",
    "df_internet['session_date'] = pd.to_datetime(df_internet['session_date'], format='%Y-%m-%d')  # для интернет сессий\n",
    "\n",
    "df_messages['message_date'] = pd.to_datetime(df_messages['message_date'], format='%Y-%m-%d')  # для сообщений\n",
    "\n",
    "df_users['reg_date'] = pd.to_datetime(df_users['reg_date'], format='%Y-%m-%d')   # даты регистрации\n",
    "\n",
    "df_users['churn_date'] = pd.to_datetime(df_users['churn_date'], format='%Y-%m-%d') # даты прекращения пользования тарифом (если были)"
   ]
  },
  {
   "cell_type": "code",
   "execution_count": 36,
   "metadata": {},
   "outputs": [],
   "source": [
    "# и сразу добавлю колонки с округлением до месяца (до дня пока не вижу смысла округлять, хотя \n",
    "# это может пригодится, если надо будет вычислять время пользования тарифом)\n",
    "\n",
    "df_calls['month'] = df_calls['call_date'].dt.month\n",
    "df_internet['month'] = df_internet['session_date'].dt.month\n",
    "df_messages['month'] = df_messages['message_date'].dt.month\n",
    "df_users['month_reg'] = df_users['reg_date'].dt.month\n",
    "df_users['month_churn'] = df_users['churn_date'].dt.month"
   ]
  },
  {
   "cell_type": "code",
   "execution_count": 37,
   "metadata": {},
   "outputs": [],
   "source": [
    "# сделаю месяцы воспринимаемыми текстово\n",
    "months_list = ['январь', 'февраль', 'март', 'апрель', 'май', 'июнь', 'июль', 'август', 'сентябрь', 'октябрь', 'ноябрь', 'декабрь']\n",
    "\n",
    "def month_to_word(month):              # функция для перевода месяца в текстовое значение\n",
    "    for number, word in enumerate(months_list): \n",
    "        if month == number + 1:\n",
    "            return word\n",
    "        \n",
    "df_calls['month_word'] = df_calls['month'].apply(month_to_word)\n",
    "df_internet['month_word'] = df_internet['month'].apply(month_to_word) \n",
    "df_messages['month_word'] = df_messages['month'].apply(month_to_word) \n",
    "df_users['month_reg_word'] = df_users['month_reg'].apply(month_to_word) \n",
    "df_users['month_churn_word'] = df_users['month_churn'].apply(month_to_word) "
   ]
  },
  {
   "cell_type": "code",
   "execution_count": 38,
   "metadata": {},
   "outputs": [
    {
     "data": {
      "text/html": [
       "<div>\n",
       "<style scoped>\n",
       "    .dataframe tbody tr th:only-of-type {\n",
       "        vertical-align: middle;\n",
       "    }\n",
       "\n",
       "    .dataframe tbody tr th {\n",
       "        vertical-align: top;\n",
       "    }\n",
       "\n",
       "    .dataframe thead th {\n",
       "        text-align: right;\n",
       "    }\n",
       "</style>\n",
       "<table border=\"1\" class=\"dataframe\">\n",
       "  <thead>\n",
       "    <tr style=\"text-align: right;\">\n",
       "      <th></th>\n",
       "      <th>id</th>\n",
       "      <th>call_date</th>\n",
       "      <th>duration</th>\n",
       "      <th>user_id</th>\n",
       "      <th>month</th>\n",
       "      <th>month_word</th>\n",
       "    </tr>\n",
       "  </thead>\n",
       "  <tbody>\n",
       "    <tr>\n",
       "      <td>0</td>\n",
       "      <td>1000_0</td>\n",
       "      <td>2018-07-25</td>\n",
       "      <td>0</td>\n",
       "      <td>1000</td>\n",
       "      <td>7</td>\n",
       "      <td>июль</td>\n",
       "    </tr>\n",
       "    <tr>\n",
       "      <td>1</td>\n",
       "      <td>1000_1</td>\n",
       "      <td>2018-08-17</td>\n",
       "      <td>0</td>\n",
       "      <td>1000</td>\n",
       "      <td>8</td>\n",
       "      <td>август</td>\n",
       "    </tr>\n",
       "    <tr>\n",
       "      <td>2</td>\n",
       "      <td>1000_2</td>\n",
       "      <td>2018-06-11</td>\n",
       "      <td>3</td>\n",
       "      <td>1000</td>\n",
       "      <td>6</td>\n",
       "      <td>июнь</td>\n",
       "    </tr>\n",
       "    <tr>\n",
       "      <td>3</td>\n",
       "      <td>1000_3</td>\n",
       "      <td>2018-09-21</td>\n",
       "      <td>14</td>\n",
       "      <td>1000</td>\n",
       "      <td>9</td>\n",
       "      <td>сентябрь</td>\n",
       "    </tr>\n",
       "    <tr>\n",
       "      <td>4</td>\n",
       "      <td>1000_4</td>\n",
       "      <td>2018-12-15</td>\n",
       "      <td>6</td>\n",
       "      <td>1000</td>\n",
       "      <td>12</td>\n",
       "      <td>декабрь</td>\n",
       "    </tr>\n",
       "  </tbody>\n",
       "</table>\n",
       "</div>"
      ],
      "text/plain": [
       "       id  call_date  duration  user_id  month month_word\n",
       "0  1000_0 2018-07-25         0     1000      7       июль\n",
       "1  1000_1 2018-08-17         0     1000      8     август\n",
       "2  1000_2 2018-06-11         3     1000      6       июнь\n",
       "3  1000_3 2018-09-21        14     1000      9   сентябрь\n",
       "4  1000_4 2018-12-15         6     1000     12    декабрь"
      ]
     },
     "metadata": {},
     "output_type": "display_data"
    }
   ],
   "source": [
    "display(df_calls.head()) # смотрю на вывод df_calls"
   ]
  },
  {
   "cell_type": "markdown",
   "metadata": {},
   "source": [
    "## расчеты, которые требуются в задании"
   ]
  },
  {
   "cell_type": "markdown",
   "metadata": {},
   "source": [
    "**количество сделанных звонков и израсходованных минут разговора по месяцам**"
   ]
  },
  {
   "cell_type": "code",
   "execution_count": 39,
   "metadata": {},
   "outputs": [],
   "source": [
    "# такое представление месяцев сделал для использования в графиках: у меня получалось сделать scatterplot с расположением\n",
    "# месяцев по порядку, которое было сделано после сортировки, но когда строил lineplot - они все равно выстраивались по алфавиту\n",
    "# а lineplot здесь более нагляден\n",
    "months_list2 = ['01 - январь', '02 - февраль', '03 - март', '04 - апрель', '05 - май', '06 - июнь', '07 - июль', '08 - август', '09 - сентябрь', '10 - октябрь', '11 - ноябрь', '12 - декабрь']"
   ]
  },
  {
   "cell_type": "code",
   "execution_count": 40,
   "metadata": {},
   "outputs": [
    {
     "data": {
      "text/html": [
       "<div>\n",
       "<style scoped>\n",
       "    .dataframe tbody tr th:only-of-type {\n",
       "        vertical-align: middle;\n",
       "    }\n",
       "\n",
       "    .dataframe tbody tr th {\n",
       "        vertical-align: top;\n",
       "    }\n",
       "\n",
       "    .dataframe thead th {\n",
       "        text-align: right;\n",
       "    }\n",
       "</style>\n",
       "<table border=\"1\" class=\"dataframe\">\n",
       "  <thead>\n",
       "    <tr style=\"text-align: right;\">\n",
       "      <th></th>\n",
       "      <th></th>\n",
       "      <th>total_calls</th>\n",
       "      <th>total_minutes</th>\n",
       "    </tr>\n",
       "    <tr>\n",
       "      <th>month_word</th>\n",
       "      <th>month</th>\n",
       "      <th></th>\n",
       "      <th></th>\n",
       "    </tr>\n",
       "  </thead>\n",
       "  <tbody>\n",
       "    <tr>\n",
       "      <td>январь</td>\n",
       "      <td>1</td>\n",
       "      <td>1476</td>\n",
       "      <td>10784</td>\n",
       "    </tr>\n",
       "    <tr>\n",
       "      <td>февраль</td>\n",
       "      <td>2</td>\n",
       "      <td>3328</td>\n",
       "      <td>24455</td>\n",
       "    </tr>\n",
       "    <tr>\n",
       "      <td>март</td>\n",
       "      <td>3</td>\n",
       "      <td>6687</td>\n",
       "      <td>48151</td>\n",
       "    </tr>\n",
       "    <tr>\n",
       "      <td>апрель</td>\n",
       "      <td>4</td>\n",
       "      <td>9272</td>\n",
       "      <td>66310</td>\n",
       "    </tr>\n",
       "    <tr>\n",
       "      <td>май</td>\n",
       "      <td>5</td>\n",
       "      <td>12647</td>\n",
       "      <td>88810</td>\n",
       "    </tr>\n",
       "  </tbody>\n",
       "</table>\n",
       "</div>"
      ],
      "text/plain": [
       "                  total_calls  total_minutes\n",
       "month_word month                            \n",
       "январь     1             1476          10784\n",
       "февраль    2             3328          24455\n",
       "март       3             6687          48151\n",
       "апрель     4             9272          66310\n",
       "май        5            12647          88810"
      ]
     },
     "metadata": {},
     "output_type": "display_data"
    },
    {
     "data": {
      "text/plain": [
       "Text(0.5, 1.0, 'Грфик израсходованных минут по месяцам')"
      ]
     },
     "execution_count": 40,
     "metadata": {},
     "output_type": "execute_result"
    },
    {
     "data": {
      "image/png": "[encoded data removed]",
      "text/plain": [
       "<Figure size 1728x504 with 2 Axes>"
      ]
     },
     "metadata": {},
     "output_type": "display_data"
    }
   ],
   "source": [
    "# сделал группировку с подсчетом числа звонков и общей продолжительностью по месяцам\n",
    "# исходя из задания я понял, что надо посчитать и пропущенные звонки - поэтому не стал деалть срез ограничивающий их \n",
    "# (а продолжительность их все равно равна нулю)\n",
    "\n",
    "df_calls_by_months = df_calls.groupby(['month_word', 'month']).agg({'duration': ['count', 'sum']}).sort_values(by='month')\n",
    "\n",
    "# переименовал столбцы чтобы убрать мультииндекс\n",
    "df_calls_by_months.columns = ['total_calls', 'total_minutes']\n",
    "display(df_calls_by_months.head())\n",
    "\n",
    "# переименовал строки чтобы убрать мультииндекс\n",
    "df_calls_by_months.index = months_list2\n",
    "\n",
    "\n",
    "# далее построил два графика средствами seaborn (возможно лучше использовать другие билиотеки, но тут у меня получилось быстрее\n",
    "# сделать, то что хотел - хотя вывести линией не получилось\n",
    "\n",
    "plt.figure(figsize=(24, 7))\n",
    "sns.set(context = 'notebook', style = 'whitegrid', font_scale=0.8)\n",
    "\n",
    "plt.subplot(1, 2, 1)\n",
    "sns.lineplot(data = df_calls_by_months, x=df_calls_by_months.index, y='total_calls')\n",
    "plt.title('Грфик числа звонков по месяцам')\n",
    "\n",
    "plt.subplot(1, 2, 2)\n",
    "sns.lineplot(data = df_calls_by_months, x=df_calls_by_months.index, y='total_minutes')\n",
    "plt.title('Грфик израсходованных минут по месяцам')"
   ]
  },
  {
   "cell_type": "markdown",
   "metadata": {},
   "source": [
    "Видно, что число звонков и израсходованных минут с каждым месяцом растут линейно - я начал сомневаться все ли так считал и решил проверить еще раз (было ощущение, что графики с каждым месяцем суммируют предыдущие месяцы)"
   ]
  },
  {
   "cell_type": "code",
   "execution_count": 41,
   "metadata": {},
   "outputs": [
    {
     "name": "stdout",
     "output_type": "stream",
     "text": [
      "Числок строк в таблице по месяцу: январь 1476\n",
      "Числок строк в таблице по месяцу: февраль 3328\n",
      "Числок строк в таблице по месяцу: март 6687\n",
      "Числок строк в таблице по месяцу: апрель 9272\n",
      "Числок строк в таблице по месяцу: май 12647\n",
      "Числок строк в таблице по месяцу: июнь 14716\n",
      "Числок строк в таблице по месяцу: июль 18298\n",
      "Числок строк в таблице по месяцу: август 21488\n",
      "Числок строк в таблице по месяцу: сентябрь 24061\n",
      "Числок строк в таблице по месяцу: октябрь 27146\n",
      "Числок строк в таблице по месяцу: ноябрь 29501\n",
      "Числок строк в таблице по месяцу: декабрь 33987\n"
     ]
    }
   ],
   "source": [
    "# сделал такой вывод - отображение того сколько строк в таблице для каждого месяца\n",
    "for i in range(1,13):\n",
    "    print('Числок строк в таблице по месяцу:', months_list[i-1], df_calls.query('month == @i')['month'].count())"
   ]
  },
  {
   "cell_type": "markdown",
   "metadata": {},
   "source": [
    "теперь точно вижу, что количество и продолжительность звонков с каждым месяцем линейно росли, на обоих графиках виден небольшой спад в ноябре, после чего в декабре рост был сильнее"
   ]
  },
  {
   "cell_type": "markdown",
   "metadata": {},
   "source": [
    "**количество отправленных сообщений по месяцам**"
   ]
  },
  {
   "cell_type": "code",
   "execution_count": 42,
   "metadata": {},
   "outputs": [
    {
     "data": {
      "text/html": [
       "<div>\n",
       "<style scoped>\n",
       "    .dataframe tbody tr th:only-of-type {\n",
       "        vertical-align: middle;\n",
       "    }\n",
       "\n",
       "    .dataframe tbody tr th {\n",
       "        vertical-align: top;\n",
       "    }\n",
       "\n",
       "    .dataframe thead th {\n",
       "        text-align: right;\n",
       "    }\n",
       "</style>\n",
       "<table border=\"1\" class=\"dataframe\">\n",
       "  <thead>\n",
       "    <tr style=\"text-align: right;\">\n",
       "      <th></th>\n",
       "      <th></th>\n",
       "      <th>total_messages</th>\n",
       "    </tr>\n",
       "    <tr>\n",
       "      <th>month_word</th>\n",
       "      <th>month</th>\n",
       "      <th></th>\n",
       "    </tr>\n",
       "  </thead>\n",
       "  <tbody>\n",
       "    <tr>\n",
       "      <td>январь</td>\n",
       "      <td>1</td>\n",
       "      <td>924</td>\n",
       "    </tr>\n",
       "    <tr>\n",
       "      <td>февраль</td>\n",
       "      <td>2</td>\n",
       "      <td>1924</td>\n",
       "    </tr>\n",
       "    <tr>\n",
       "      <td>март</td>\n",
       "      <td>3</td>\n",
       "      <td>3648</td>\n",
       "    </tr>\n",
       "    <tr>\n",
       "      <td>апрель</td>\n",
       "      <td>4</td>\n",
       "      <td>5179</td>\n",
       "    </tr>\n",
       "    <tr>\n",
       "      <td>май</td>\n",
       "      <td>5</td>\n",
       "      <td>7298</td>\n",
       "    </tr>\n",
       "  </tbody>\n",
       "</table>\n",
       "</div>"
      ],
      "text/plain": [
       "                  total_messages\n",
       "month_word month                \n",
       "январь     1                 924\n",
       "февраль    2                1924\n",
       "март       3                3648\n",
       "апрель     4                5179\n",
       "май        5                7298"
      ]
     },
     "metadata": {},
     "output_type": "display_data"
    },
    {
     "data": {
      "text/plain": [
       "Text(0.5, 1.0, 'Грфик числа сообщений месяцам')"
      ]
     },
     "execution_count": 42,
     "metadata": {},
     "output_type": "execute_result"
    },
    {
     "data": {
      "image/png": "[encoded data removed]",
      "text/plain": [
       "<Figure size 1152x504 with 1 Axes>"
      ]
     },
     "metadata": {},
     "output_type": "display_data"
    }
   ],
   "source": [
    "# сделал группировку с подсчетом числа сообщений по месяцам \n",
    "df_messages_by_months = df_messages.groupby(['month_word', 'month']).agg({'id': ['count']}).sort_values(by='month')\n",
    "\n",
    "# переименовал столбцы чтобы убрать мультииндекс\n",
    "df_messages_by_months.columns = ['total_messages']\n",
    "display(df_messages_by_months.head())\n",
    "\n",
    "# переименовал строки чтобы убрать мультииндекс\n",
    "df_messages_by_months.index = months_list2\n",
    "\n",
    "# далее построил график средствами seaborn (возможно лучше использовать другие билиотеки, но тут у меня получилось быстрее\n",
    "# сделать, то что хотел - хотя вывести линией не получилось\n",
    "\n",
    "plt.figure(figsize=(16, 7))\n",
    "sns.set(context = 'notebook', style = 'whitegrid', font_scale=1)\n",
    "\n",
    "sns.lineplot(data = df_messages_by_months, x=df_messages_by_months.index, y='total_messages')\n",
    "plt.title('Грфик числа сообщений месяцам')"
   ]
  },
  {
   "cell_type": "markdown",
   "metadata": {},
   "source": [
    "видны те же тенденции, что и со звонками"
   ]
  },
  {
   "cell_type": "markdown",
   "metadata": {},
   "source": [
    "**объем израсходованного интернет-трафика по месяцам**"
   ]
  },
  {
   "cell_type": "code",
   "execution_count": 43,
   "metadata": {},
   "outputs": [
    {
     "data": {
      "text/html": [
       "<div>\n",
       "<style scoped>\n",
       "    .dataframe tbody tr th:only-of-type {\n",
       "        vertical-align: middle;\n",
       "    }\n",
       "\n",
       "    .dataframe tbody tr th {\n",
       "        vertical-align: top;\n",
       "    }\n",
       "\n",
       "    .dataframe thead th {\n",
       "        text-align: right;\n",
       "    }\n",
       "</style>\n",
       "<table border=\"1\" class=\"dataframe\">\n",
       "  <thead>\n",
       "    <tr style=\"text-align: right;\">\n",
       "      <th></th>\n",
       "      <th></th>\n",
       "      <th>traffic_by_month</th>\n",
       "    </tr>\n",
       "    <tr>\n",
       "      <th>month_word</th>\n",
       "      <th>month</th>\n",
       "      <th></th>\n",
       "    </tr>\n",
       "  </thead>\n",
       "  <tbody>\n",
       "    <tr>\n",
       "      <td>январь</td>\n",
       "      <td>1</td>\n",
       "      <td>399</td>\n",
       "    </tr>\n",
       "    <tr>\n",
       "      <td>февраль</td>\n",
       "      <td>2</td>\n",
       "      <td>933</td>\n",
       "    </tr>\n",
       "    <tr>\n",
       "      <td>март</td>\n",
       "      <td>3</td>\n",
       "      <td>1770</td>\n",
       "    </tr>\n",
       "    <tr>\n",
       "      <td>апрель</td>\n",
       "      <td>4</td>\n",
       "      <td>2377</td>\n",
       "    </tr>\n",
       "    <tr>\n",
       "      <td>май</td>\n",
       "      <td>5</td>\n",
       "      <td>3444</td>\n",
       "    </tr>\n",
       "  </tbody>\n",
       "</table>\n",
       "</div>"
      ],
      "text/plain": [
       "                  traffic_by_month\n",
       "month_word month                  \n",
       "январь     1                   399\n",
       "февраль    2                   933\n",
       "март       3                  1770\n",
       "апрель     4                  2377\n",
       "май        5                  3444"
      ]
     },
     "metadata": {},
     "output_type": "display_data"
    },
    {
     "data": {
      "text/plain": [
       "Text(0.5, 1.0, 'Траффик по месяцам (гб)')"
      ]
     },
     "execution_count": 43,
     "metadata": {},
     "output_type": "execute_result"
    },
    {
     "data": {
      "image/png": "[encoded data removed]",
      "text/plain": [
       "<Figure size 1008x504 with 1 Axes>"
      ]
     },
     "metadata": {},
     "output_type": "display_data"
    }
   ],
   "source": [
    "# сделал группировку с подсчетом числа звонков и общей продолжительностью по месяцам (основывался на срезе данных, где звонки не пропущены)\n",
    "df_internet_by_months = df_internet.groupby(['month_word', 'month']).agg({'mb_used': ['sum']}).sort_values(by='month')\n",
    "\n",
    "# переименовал столбцы чтобы убрать мультииндекс\n",
    "df_internet_by_months.columns = ['traffic_by_month']\n",
    "\n",
    "#здесь пересчитаю в гигабайты и окуруглю вверх\n",
    "df_internet_by_months['traffic_by_month'] = df_internet_by_months['traffic_by_month'] / 1024   # пересчет мб в гб\n",
    "df_internet_by_months['traffic_by_month'] = np.ceil(df_internet_by_months['traffic_by_month']) # округление\n",
    "df_internet_by_months['traffic_by_month'] = df_internet_by_months['traffic_by_month'].astype('int') # перевод в int\n",
    "\n",
    "\n",
    "display(df_internet_by_months.head())\n",
    "\n",
    "# переименовал строки чтобы убрать мультииндекс\n",
    "df_internet_by_months.index = months_list2\n",
    "\n",
    "# далее построил график средствами seaborn (возможно лучше использовать другие билиотеки, но тут у меня получилось быстрее\n",
    "# сделать, то что хотел - хотя вывести линией не получилось\n",
    "\n",
    "plt.figure(figsize=(14, 7))\n",
    "sns.set(context = 'notebook', style = 'whitegrid', font_scale=1)\n",
    "\n",
    "sns.lineplot(data = df_internet_by_months, x=df_internet_by_months.index, y='traffic_by_month')\n",
    "plt.title('Траффик по месяцам (гб)')\n"
   ]
  },
  {
   "cell_type": "markdown",
   "metadata": {},
   "source": [
    "тенденции те же - растет линейно, но здесь некоторый спад роста виден в сентябре"
   ]
  },
  {
   "cell_type": "markdown",
   "metadata": {},
   "source": [
    "**Помесячная выручка с каждого пользователя**"
   ]
  },
  {
   "cell_type": "markdown",
   "metadata": {},
   "source": [
    "В этом пункте потребуется больше действий:\n",
    "- сгруппировать таблицы по пользователям для каждого месяца\n",
    "- сделать единую таблицу по пользователям (объединив несколько таблиц по 'user_id) \n",
    "- сгруппировать единую таблицу со всеми месяцами\n",
    "- добавить в таблицу значение тарифа для каждого пользователя\n",
    "- подсчитать помесячную выручку\n",
    "\n",
    "(не уверен, что двигался правильными путями - этот пункт был самым сложным - надеюсь, что достиг нужного результата  \n",
    "в процессе выполнения постоянно менял способ выполнения, т.к. получалось с трудом (возможно, какие-то пункты в тренажере плохо \n",
    "понял или было недостаточно информации, основные проблемы были такими:\n",
    "\n",
    "- сделать таблицу с данными для каждого пользователя по месяцам, пытался исходно группировать все, а потом объединять с помощью merge или join - в итоге оптимальным показалось сгруппировать ключевые таблицы для каждого месяца - при этом по разному пробовал применяять merge - в итоге применил в таком виде **df_united = df_calls_g.merge(df_messages_g, how='outer')** - параметр on не получилось использовать (но видимо он в таком виде по умолчанию), т.к. user_id после группировки стал индексом, вывел его еще раз в колонку (это осложняло использование merge - поэтому user_id здесь переименовал в user_id_). Затем объединил таблицы для каждого месяца методом .append в одну (про его применение в pandas нашел в интернете информацию).\n",
    "- добавить в эту таблицу значения тарифов (это дольше всего делал, т.к. не получалось применить функцию с другим датафреймом - пробовал варианты, в итоге вроде бы получилось - надеюсь верно)\n",
    "- рассчитать выручку для каждого месяца - там большое нагромождение, но после предыдущего пункта этот получился проще \n",
    "\n"
   ]
  },
  {
   "cell_type": "code",
   "execution_count": 44,
   "metadata": {},
   "outputs": [
    {
     "data": {
      "text/html": [
       "<div>\n",
       "<style scoped>\n",
       "    .dataframe tbody tr th:only-of-type {\n",
       "        vertical-align: middle;\n",
       "    }\n",
       "\n",
       "    .dataframe tbody tr th {\n",
       "        vertical-align: top;\n",
       "    }\n",
       "\n",
       "    .dataframe thead tr th {\n",
       "        text-align: left;\n",
       "    }\n",
       "\n",
       "    .dataframe thead tr:last-of-type th {\n",
       "        text-align: right;\n",
       "    }\n",
       "</style>\n",
       "<table border=\"1\" class=\"dataframe\">\n",
       "  <thead>\n",
       "    <tr>\n",
       "      <th></th>\n",
       "      <th></th>\n",
       "      <th>duration</th>\n",
       "      <th>message_date</th>\n",
       "      <th>mb_used</th>\n",
       "    </tr>\n",
       "    <tr>\n",
       "      <th></th>\n",
       "      <th></th>\n",
       "      <th>sum</th>\n",
       "      <th>count</th>\n",
       "      <th>sum</th>\n",
       "    </tr>\n",
       "    <tr>\n",
       "      <th>user_id</th>\n",
       "      <th>month_word</th>\n",
       "      <th></th>\n",
       "      <th></th>\n",
       "      <th></th>\n",
       "    </tr>\n",
       "  </thead>\n",
       "  <tbody>\n",
       "    <tr>\n",
       "      <td rowspan=\"5\" valign=\"top\">1000</td>\n",
       "      <td>август</td>\n",
       "      <td>408.0</td>\n",
       "      <td>81.0</td>\n",
       "      <td>14055.93</td>\n",
       "    </tr>\n",
       "    <tr>\n",
       "      <td>декабрь</td>\n",
       "      <td>333.0</td>\n",
       "      <td>70.0</td>\n",
       "      <td>9817.61</td>\n",
       "    </tr>\n",
       "    <tr>\n",
       "      <td>июль</td>\n",
       "      <td>340.0</td>\n",
       "      <td>75.0</td>\n",
       "      <td>14003.64</td>\n",
       "    </tr>\n",
       "    <tr>\n",
       "      <td>июнь</td>\n",
       "      <td>172.0</td>\n",
       "      <td>60.0</td>\n",
       "      <td>23233.77</td>\n",
       "    </tr>\n",
       "    <tr>\n",
       "      <td>май</td>\n",
       "      <td>159.0</td>\n",
       "      <td>22.0</td>\n",
       "      <td>2253.49</td>\n",
       "    </tr>\n",
       "    <tr>\n",
       "      <td>...</td>\n",
       "      <td>...</td>\n",
       "      <td>...</td>\n",
       "      <td>...</td>\n",
       "      <td>...</td>\n",
       "    </tr>\n",
       "    <tr>\n",
       "      <td rowspan=\"4\" valign=\"top\">1489</td>\n",
       "      <td>декабрь</td>\n",
       "      <td>NaN</td>\n",
       "      <td>35.0</td>\n",
       "      <td>17322.51</td>\n",
       "    </tr>\n",
       "    <tr>\n",
       "      <td>ноябрь</td>\n",
       "      <td>NaN</td>\n",
       "      <td>20.0</td>\n",
       "      <td>17491.56</td>\n",
       "    </tr>\n",
       "    <tr>\n",
       "      <td>октябрь</td>\n",
       "      <td>NaN</td>\n",
       "      <td>21.0</td>\n",
       "      <td>19559.44</td>\n",
       "    </tr>\n",
       "    <tr>\n",
       "      <td>сентябрь</td>\n",
       "      <td>NaN</td>\n",
       "      <td>32.0</td>\n",
       "      <td>17206.30</td>\n",
       "    </tr>\n",
       "    <tr>\n",
       "      <td>1476</td>\n",
       "      <td>апрель</td>\n",
       "      <td>NaN</td>\n",
       "      <td>NaN</td>\n",
       "      <td>530.78</td>\n",
       "    </tr>\n",
       "  </tbody>\n",
       "</table>\n",
       "<p>3214 rows × 3 columns</p>\n",
       "</div>"
      ],
      "text/plain": [
       "                   duration message_date   mb_used\n",
       "                        sum        count       sum\n",
       "user_id month_word                                \n",
       "1000    август        408.0         81.0  14055.93\n",
       "        декабрь       333.0         70.0   9817.61\n",
       "        июль          340.0         75.0  14003.64\n",
       "        июнь          172.0         60.0  23233.77\n",
       "        май           159.0         22.0   2253.49\n",
       "...                     ...          ...       ...\n",
       "1489    декабрь         NaN         35.0  17322.51\n",
       "        ноябрь          NaN         20.0  17491.56\n",
       "        октябрь         NaN         21.0  19559.44\n",
       "        сентябрь        NaN         32.0  17206.30\n",
       "1476    апрель          NaN          NaN    530.78\n",
       "\n",
       "[3214 rows x 3 columns]"
      ]
     },
     "metadata": {},
     "output_type": "display_data"
    }
   ],
   "source": [
    "# создание таблицы для посчета выручки по пользователям по месяцам\n",
    "df_calls_g = df_calls.groupby(['user_id', 'month_word']).agg({'duration': ['sum']}) # группировка по user_id и month_word для подсчета длительности звонков\n",
    "df_messages_g = df_messages.groupby(['user_id', 'month_word']).agg({'message_date': ['count']}) # группировка по user_id и month_word для подсчета числа сообщений\n",
    "df_internet_g = df_internet.groupby(['user_id', 'month_word']).agg({'mb_used': ['sum']}) # группировка по user_id и month_word для подсчета траффика\n",
    "\n",
    "df_income_by_month = df_calls_g.merge(df_messages_g, on = ['user_id', 'month_word'], how='outer') # присоединение таблицы с сообщениями к таблице со звонками\n",
    "df_income_by_month = df_income_by_month.merge(df_internet_g, on = ['user_id', 'month_word'], how='outer') # присоединение таблицы с трафиком к предыдущей\n",
    "\n",
    "display(df_income_by_month)"
   ]
  },
  {
   "cell_type": "code",
   "execution_count": 46,
   "metadata": {},
   "outputs": [
    {
     "data": {
      "text/html": [
       "<div>\n",
       "<style scoped>\n",
       "    .dataframe tbody tr th:only-of-type {\n",
       "        vertical-align: middle;\n",
       "    }\n",
       "\n",
       "    .dataframe tbody tr th {\n",
       "        vertical-align: top;\n",
       "    }\n",
       "\n",
       "    .dataframe thead tr th {\n",
       "        text-align: left;\n",
       "    }\n",
       "\n",
       "    .dataframe thead tr:last-of-type th {\n",
       "        text-align: right;\n",
       "    }\n",
       "</style>\n",
       "<table border=\"1\" class=\"dataframe\">\n",
       "  <thead>\n",
       "    <tr>\n",
       "      <th></th>\n",
       "      <th></th>\n",
       "      <th>duration</th>\n",
       "      <th>message_date</th>\n",
       "      <th>mb_used</th>\n",
       "    </tr>\n",
       "    <tr>\n",
       "      <th></th>\n",
       "      <th></th>\n",
       "      <th>sum</th>\n",
       "      <th>count</th>\n",
       "      <th>sum</th>\n",
       "    </tr>\n",
       "    <tr>\n",
       "      <th>user_id</th>\n",
       "      <th>month_word</th>\n",
       "      <th></th>\n",
       "      <th></th>\n",
       "      <th></th>\n",
       "    </tr>\n",
       "  </thead>\n",
       "  <tbody>\n",
       "    <tr>\n",
       "      <td rowspan=\"5\" valign=\"top\">1000</td>\n",
       "      <td>август</td>\n",
       "      <td>408.0</td>\n",
       "      <td>81.0</td>\n",
       "      <td>14055.93</td>\n",
       "    </tr>\n",
       "    <tr>\n",
       "      <td>декабрь</td>\n",
       "      <td>333.0</td>\n",
       "      <td>70.0</td>\n",
       "      <td>9817.61</td>\n",
       "    </tr>\n",
       "    <tr>\n",
       "      <td>июль</td>\n",
       "      <td>340.0</td>\n",
       "      <td>75.0</td>\n",
       "      <td>14003.64</td>\n",
       "    </tr>\n",
       "    <tr>\n",
       "      <td>июнь</td>\n",
       "      <td>172.0</td>\n",
       "      <td>60.0</td>\n",
       "      <td>23233.77</td>\n",
       "    </tr>\n",
       "    <tr>\n",
       "      <td>май</td>\n",
       "      <td>159.0</td>\n",
       "      <td>22.0</td>\n",
       "      <td>2253.49</td>\n",
       "    </tr>\n",
       "  </tbody>\n",
       "</table>\n",
       "</div>"
      ],
      "text/plain": [
       "                   duration message_date   mb_used\n",
       "                        sum        count       sum\n",
       "user_id month_word                                \n",
       "1000    август        408.0         81.0  14055.93\n",
       "        декабрь       333.0         70.0   9817.61\n",
       "        июль          340.0         75.0  14003.64\n",
       "        июнь          172.0         60.0  23233.77\n",
       "        май           159.0         22.0   2253.49"
      ]
     },
     "metadata": {},
     "output_type": "display_data"
    },
    {
     "name": "stdout",
     "output_type": "stream",
     "text": [
      "<class 'pandas.core.frame.DataFrame'>\n",
      "MultiIndex: 3214 entries, (1000, август) to (1476, апрель)\n",
      "Data columns (total 3 columns):\n",
      "(duration, sum)          3174 non-null float64\n",
      "(message_date, count)    2717 non-null float64\n",
      "(mb_used, sum)           3203 non-null float64\n",
      "dtypes: float64(3)\n",
      "memory usage: 88.8+ KB\n"
     ]
    }
   ],
   "source": [
    "display(df_income_by_month.head())\n",
    "df_income_by_month.info()"
   ]
  },
  {
   "cell_type": "markdown",
   "metadata": {},
   "source": [
    "в получившейся таблице много пропусков (что ожидаемо) и вещественные значения (возможно после применения groupby)  \n",
    "думаю, что пропуски вполне можно заменить на 0, \n",
    "а вещественные значения на целочисленные\n"
   ]
  },
  {
   "cell_type": "code",
   "execution_count": 47,
   "metadata": {},
   "outputs": [],
   "source": [
    "df_income_by_month.columns = ['duration',  'messages', 'traffic']"
   ]
  },
  {
   "cell_type": "code",
   "execution_count": 48,
   "metadata": {},
   "outputs": [],
   "source": [
    "df_income_by_month['duration'] = df_income_by_month['duration'].fillna(0)\n",
    "df_income_by_month['duration'] = df_income_by_month['duration'].astype('int')\n",
    "\n",
    "df_income_by_month['messages'] = df_income_by_month['messages'].fillna(0)\n",
    "df_income_by_month['messages'] = df_income_by_month['messages'].astype('int')\n",
    "\n",
    "df_income_by_month['traffic'] = df_income_by_month['traffic'].fillna(0)\n",
    "df_income_by_month['traffic'] = df_income_by_month['traffic'] / 1024   # пересчет мб в гб\n",
    "df_income_by_month['traffic'] = np.ceil(df_income_by_month['traffic']) # округление\n",
    "df_income_by_month['traffic'] = df_income_by_month['traffic'].astype('int')"
   ]
  },
  {
   "cell_type": "code",
   "execution_count": 49,
   "metadata": {},
   "outputs": [],
   "source": [
    "df_income_by_month = df_income_by_month.reset_index(level=['user_id', 'month_word']) # переставил мультииндекс в столбцы"
   ]
  },
  {
   "cell_type": "code",
   "execution_count": 50,
   "metadata": {},
   "outputs": [
    {
     "data": {
      "text/html": [
       "<div>\n",
       "<style scoped>\n",
       "    .dataframe tbody tr th:only-of-type {\n",
       "        vertical-align: middle;\n",
       "    }\n",
       "\n",
       "    .dataframe tbody tr th {\n",
       "        vertical-align: top;\n",
       "    }\n",
       "\n",
       "    .dataframe thead th {\n",
       "        text-align: right;\n",
       "    }\n",
       "</style>\n",
       "<table border=\"1\" class=\"dataframe\">\n",
       "  <thead>\n",
       "    <tr style=\"text-align: right;\">\n",
       "      <th></th>\n",
       "      <th>user_id</th>\n",
       "      <th>month_word</th>\n",
       "      <th>duration</th>\n",
       "      <th>messages</th>\n",
       "      <th>traffic</th>\n",
       "    </tr>\n",
       "  </thead>\n",
       "  <tbody>\n",
       "    <tr>\n",
       "      <td>0</td>\n",
       "      <td>1000</td>\n",
       "      <td>август</td>\n",
       "      <td>408</td>\n",
       "      <td>81</td>\n",
       "      <td>14</td>\n",
       "    </tr>\n",
       "    <tr>\n",
       "      <td>1</td>\n",
       "      <td>1000</td>\n",
       "      <td>декабрь</td>\n",
       "      <td>333</td>\n",
       "      <td>70</td>\n",
       "      <td>10</td>\n",
       "    </tr>\n",
       "    <tr>\n",
       "      <td>2</td>\n",
       "      <td>1000</td>\n",
       "      <td>июль</td>\n",
       "      <td>340</td>\n",
       "      <td>75</td>\n",
       "      <td>14</td>\n",
       "    </tr>\n",
       "    <tr>\n",
       "      <td>3</td>\n",
       "      <td>1000</td>\n",
       "      <td>июнь</td>\n",
       "      <td>172</td>\n",
       "      <td>60</td>\n",
       "      <td>23</td>\n",
       "    </tr>\n",
       "    <tr>\n",
       "      <td>4</td>\n",
       "      <td>1000</td>\n",
       "      <td>май</td>\n",
       "      <td>159</td>\n",
       "      <td>22</td>\n",
       "      <td>3</td>\n",
       "    </tr>\n",
       "    <tr>\n",
       "      <td>...</td>\n",
       "      <td>...</td>\n",
       "      <td>...</td>\n",
       "      <td>...</td>\n",
       "      <td>...</td>\n",
       "      <td>...</td>\n",
       "    </tr>\n",
       "    <tr>\n",
       "      <td>3209</td>\n",
       "      <td>1489</td>\n",
       "      <td>декабрь</td>\n",
       "      <td>0</td>\n",
       "      <td>35</td>\n",
       "      <td>17</td>\n",
       "    </tr>\n",
       "    <tr>\n",
       "      <td>3210</td>\n",
       "      <td>1489</td>\n",
       "      <td>ноябрь</td>\n",
       "      <td>0</td>\n",
       "      <td>20</td>\n",
       "      <td>18</td>\n",
       "    </tr>\n",
       "    <tr>\n",
       "      <td>3211</td>\n",
       "      <td>1489</td>\n",
       "      <td>октябрь</td>\n",
       "      <td>0</td>\n",
       "      <td>21</td>\n",
       "      <td>20</td>\n",
       "    </tr>\n",
       "    <tr>\n",
       "      <td>3212</td>\n",
       "      <td>1489</td>\n",
       "      <td>сентябрь</td>\n",
       "      <td>0</td>\n",
       "      <td>32</td>\n",
       "      <td>17</td>\n",
       "    </tr>\n",
       "    <tr>\n",
       "      <td>3213</td>\n",
       "      <td>1476</td>\n",
       "      <td>апрель</td>\n",
       "      <td>0</td>\n",
       "      <td>0</td>\n",
       "      <td>1</td>\n",
       "    </tr>\n",
       "  </tbody>\n",
       "</table>\n",
       "<p>3214 rows × 5 columns</p>\n",
       "</div>"
      ],
      "text/plain": [
       "      user_id month_word  duration  messages  traffic\n",
       "0        1000     август       408        81       14\n",
       "1        1000    декабрь       333        70       10\n",
       "2        1000       июль       340        75       14\n",
       "3        1000       июнь       172        60       23\n",
       "4        1000        май       159        22        3\n",
       "...       ...        ...       ...       ...      ...\n",
       "3209     1489    декабрь         0        35       17\n",
       "3210     1489     ноябрь         0        20       18\n",
       "3211     1489    октябрь         0        21       20\n",
       "3212     1489   сентябрь         0        32       17\n",
       "3213     1476     апрель         0         0        1\n",
       "\n",
       "[3214 rows x 5 columns]"
      ]
     },
     "metadata": {},
     "output_type": "display_data"
    }
   ],
   "source": [
    "display(df_income_by_month) "
   ]
  },
  {
   "cell_type": "code",
   "execution_count": 51,
   "metadata": {},
   "outputs": [],
   "source": [
    "df_income_by_month['tariff'] = df_income_by_month['user_id']  # образование столбца для значений тарифов"
   ]
  },
  {
   "cell_type": "code",
   "execution_count": 52,
   "metadata": {},
   "outputs": [],
   "source": [
    "def tariff(user):                                   # функция для подстановки значений тарифов для каждого user_id\n",
    "    for i in range(len(df_users['user_id'])):\n",
    "  \n",
    "        if user == df_users['user_id'][i]:\n",
    "   \n",
    "            return df_users['tariff'][i]\n",
    "    \n",
    "df_income_by_month['tariff'] = df_income_by_month['tariff'].apply(tariff)  # применение функции\n",
    "\n",
    "#df_income_by_month = df_income_by_month.apply(tariff, axis=1)"
   ]
  },
  {
   "cell_type": "code",
   "execution_count": 53,
   "metadata": {},
   "outputs": [
    {
     "data": {
      "text/html": [
       "<div>\n",
       "<style scoped>\n",
       "    .dataframe tbody tr th:only-of-type {\n",
       "        vertical-align: middle;\n",
       "    }\n",
       "\n",
       "    .dataframe tbody tr th {\n",
       "        vertical-align: top;\n",
       "    }\n",
       "\n",
       "    .dataframe thead th {\n",
       "        text-align: right;\n",
       "    }\n",
       "</style>\n",
       "<table border=\"1\" class=\"dataframe\">\n",
       "  <thead>\n",
       "    <tr style=\"text-align: right;\">\n",
       "      <th></th>\n",
       "      <th>user_id</th>\n",
       "      <th>month_word</th>\n",
       "      <th>duration</th>\n",
       "      <th>messages</th>\n",
       "      <th>traffic</th>\n",
       "      <th>tariff</th>\n",
       "    </tr>\n",
       "  </thead>\n",
       "  <tbody>\n",
       "    <tr>\n",
       "      <td>0</td>\n",
       "      <td>1000</td>\n",
       "      <td>август</td>\n",
       "      <td>408</td>\n",
       "      <td>81</td>\n",
       "      <td>14</td>\n",
       "      <td>ultra</td>\n",
       "    </tr>\n",
       "    <tr>\n",
       "      <td>1</td>\n",
       "      <td>1000</td>\n",
       "      <td>декабрь</td>\n",
       "      <td>333</td>\n",
       "      <td>70</td>\n",
       "      <td>10</td>\n",
       "      <td>ultra</td>\n",
       "    </tr>\n",
       "    <tr>\n",
       "      <td>2</td>\n",
       "      <td>1000</td>\n",
       "      <td>июль</td>\n",
       "      <td>340</td>\n",
       "      <td>75</td>\n",
       "      <td>14</td>\n",
       "      <td>ultra</td>\n",
       "    </tr>\n",
       "    <tr>\n",
       "      <td>3</td>\n",
       "      <td>1000</td>\n",
       "      <td>июнь</td>\n",
       "      <td>172</td>\n",
       "      <td>60</td>\n",
       "      <td>23</td>\n",
       "      <td>ultra</td>\n",
       "    </tr>\n",
       "    <tr>\n",
       "      <td>4</td>\n",
       "      <td>1000</td>\n",
       "      <td>май</td>\n",
       "      <td>159</td>\n",
       "      <td>22</td>\n",
       "      <td>3</td>\n",
       "      <td>ultra</td>\n",
       "    </tr>\n",
       "    <tr>\n",
       "      <td>5</td>\n",
       "      <td>1000</td>\n",
       "      <td>ноябрь</td>\n",
       "      <td>338</td>\n",
       "      <td>58</td>\n",
       "      <td>15</td>\n",
       "      <td>ultra</td>\n",
       "    </tr>\n",
       "    <tr>\n",
       "      <td>6</td>\n",
       "      <td>1000</td>\n",
       "      <td>октябрь</td>\n",
       "      <td>350</td>\n",
       "      <td>73</td>\n",
       "      <td>15</td>\n",
       "      <td>ultra</td>\n",
       "    </tr>\n",
       "    <tr>\n",
       "      <td>7</td>\n",
       "      <td>1000</td>\n",
       "      <td>сентябрь</td>\n",
       "      <td>466</td>\n",
       "      <td>57</td>\n",
       "      <td>15</td>\n",
       "      <td>ultra</td>\n",
       "    </tr>\n",
       "    <tr>\n",
       "      <td>8</td>\n",
       "      <td>1001</td>\n",
       "      <td>декабрь</td>\n",
       "      <td>414</td>\n",
       "      <td>0</td>\n",
       "      <td>14</td>\n",
       "      <td>smart</td>\n",
       "    </tr>\n",
       "    <tr>\n",
       "      <td>9</td>\n",
       "      <td>1001</td>\n",
       "      <td>ноябрь</td>\n",
       "      <td>430</td>\n",
       "      <td>0</td>\n",
       "      <td>18</td>\n",
       "      <td>smart</td>\n",
       "    </tr>\n",
       "  </tbody>\n",
       "</table>\n",
       "</div>"
      ],
      "text/plain": [
       "   user_id month_word  duration  messages  traffic tariff\n",
       "0     1000     август       408        81       14  ultra\n",
       "1     1000    декабрь       333        70       10  ultra\n",
       "2     1000       июль       340        75       14  ultra\n",
       "3     1000       июнь       172        60       23  ultra\n",
       "4     1000        май       159        22        3  ultra\n",
       "5     1000     ноябрь       338        58       15  ultra\n",
       "6     1000    октябрь       350        73       15  ultra\n",
       "7     1000   сентябрь       466        57       15  ultra\n",
       "8     1001    декабрь       414         0       14  smart\n",
       "9     1001     ноябрь       430         0       18  smart"
      ]
     },
     "metadata": {},
     "output_type": "display_data"
    }
   ],
   "source": [
    "display(df_income_by_month.head(10))   # проверка"
   ]
  },
  {
   "cell_type": "code",
   "execution_count": 54,
   "metadata": {
    "scrolled": true
   },
   "outputs": [],
   "source": [
    "df_income_by_month['income'] = ''   # образование столбца для подсчета выручки для каждого пользователся в каждом месяце\n",
    "\n",
    "def income(row):                    # функция для подсчета выручки для каждого пользователся в каждом месяце\n",
    "    x=0                                # временная переменная для подсчет\n",
    "    message = row['messages']\n",
    "    user = row['user_id']\n",
    "    traffic = row['traffic']\n",
    "    duration = row['duration']\n",
    "    tariff = row['tariff']\n",
    "    if tariff == 'smart':\n",
    "        if traffic-df_tariffs['gb_per_month_included'][0] > 0:    # ограничение для ситуации когда включенный траффик больше использованого\n",
    "            x = (traffic-df_tariffs['gb_per_month_included'][0])*df_tariffs['rub_per_gb'][0]   # подсчет\n",
    "        if duration-df_tariffs['minutes_included'][0] > 0:     \n",
    "            x = x + (duration-df_tariffs['minutes_included'][0])*df_tariffs['rub_per_minute'][0]\n",
    "        if  message-df_tariffs['messages_included'][0] > 0:  \n",
    "            x = x + (message-df_tariffs['messages_included'][0])*df_tariffs['rub_per_message'][0]\n",
    "        x = x + df_tariffs['rub_monthly_fee'][0]   # абонентская плата\n",
    "        return x   \n",
    " #      x = (traffic-df_tariffs['gb_per_month_included'][0])*df_tariffs['rub_per_gb'][0] + (duration-df_tariffs['minutes_included'])*df_tariffs['rub_per_minute'][0] + (message-df_tariffs['messages_included'][0])*df_tariffs['rub_per_message'][0] + df_tariffs['rub_monthly_fee'][0]\n",
    "        return x\n",
    "    else:\n",
    "        if traffic-df_tariffs['gb_per_month_included'][1] > 0:\n",
    "            x = (traffic-df_tariffs['gb_per_month_included'][1])*df_tariffs['rub_per_gb'][1]\n",
    "        if duration-df_tariffs['minutes_included'][1] > 0:     \n",
    "            x = x + (duration-df_tariffs['minutes_included'][1])*df_tariffs['rub_per_minute'][1]\n",
    "        if  message-df_tariffs['messages_included'][1] > 0:  \n",
    "            x = x + (message-df_tariffs['messages_included'][1])*df_tariffs['rub_per_message'][1]\n",
    "        x = x + df_tariffs['rub_monthly_fee'][1]        \n",
    "        \n",
    "#       x = (traffic-df_tariffs['gb_per_month_included'][1])*df_tariffs['rub_per_gb'][1] + (duration-df_tariffs['minutes_included'])*df_tariffs['rub_per_minute'][1] + (message-df_tariffs['messages_included'][1])*df_tariffs['rub_per_message'][1] + df_tariffs['rub_monthly_fee'][1]\n",
    "        return x"
   ]
  },
  {
   "cell_type": "code",
   "execution_count": 55,
   "metadata": {},
   "outputs": [],
   "source": [
    "df_income_by_month['income'] = df_income_by_month.apply(income, axis=1) # применение функции"
   ]
  },
  {
   "cell_type": "code",
   "execution_count": 56,
   "metadata": {},
   "outputs": [
    {
     "data": {
      "text/html": [
       "<div>\n",
       "<style scoped>\n",
       "    .dataframe tbody tr th:only-of-type {\n",
       "        vertical-align: middle;\n",
       "    }\n",
       "\n",
       "    .dataframe tbody tr th {\n",
       "        vertical-align: top;\n",
       "    }\n",
       "\n",
       "    .dataframe thead th {\n",
       "        text-align: right;\n",
       "    }\n",
       "</style>\n",
       "<table border=\"1\" class=\"dataframe\">\n",
       "  <thead>\n",
       "    <tr style=\"text-align: right;\">\n",
       "      <th></th>\n",
       "      <th>user_id</th>\n",
       "      <th>month_word</th>\n",
       "      <th>duration</th>\n",
       "      <th>messages</th>\n",
       "      <th>traffic</th>\n",
       "      <th>tariff</th>\n",
       "      <th>income</th>\n",
       "    </tr>\n",
       "  </thead>\n",
       "  <tbody>\n",
       "    <tr>\n",
       "      <td>0</td>\n",
       "      <td>1000</td>\n",
       "      <td>август</td>\n",
       "      <td>408</td>\n",
       "      <td>81</td>\n",
       "      <td>14</td>\n",
       "      <td>ultra</td>\n",
       "      <td>1950</td>\n",
       "    </tr>\n",
       "    <tr>\n",
       "      <td>1</td>\n",
       "      <td>1000</td>\n",
       "      <td>декабрь</td>\n",
       "      <td>333</td>\n",
       "      <td>70</td>\n",
       "      <td>10</td>\n",
       "      <td>ultra</td>\n",
       "      <td>1950</td>\n",
       "    </tr>\n",
       "    <tr>\n",
       "      <td>2</td>\n",
       "      <td>1000</td>\n",
       "      <td>июль</td>\n",
       "      <td>340</td>\n",
       "      <td>75</td>\n",
       "      <td>14</td>\n",
       "      <td>ultra</td>\n",
       "      <td>1950</td>\n",
       "    </tr>\n",
       "    <tr>\n",
       "      <td>3</td>\n",
       "      <td>1000</td>\n",
       "      <td>июнь</td>\n",
       "      <td>172</td>\n",
       "      <td>60</td>\n",
       "      <td>23</td>\n",
       "      <td>ultra</td>\n",
       "      <td>1950</td>\n",
       "    </tr>\n",
       "    <tr>\n",
       "      <td>4</td>\n",
       "      <td>1000</td>\n",
       "      <td>май</td>\n",
       "      <td>159</td>\n",
       "      <td>22</td>\n",
       "      <td>3</td>\n",
       "      <td>ultra</td>\n",
       "      <td>1950</td>\n",
       "    </tr>\n",
       "    <tr>\n",
       "      <td>...</td>\n",
       "      <td>...</td>\n",
       "      <td>...</td>\n",
       "      <td>...</td>\n",
       "      <td>...</td>\n",
       "      <td>...</td>\n",
       "      <td>...</td>\n",
       "      <td>...</td>\n",
       "    </tr>\n",
       "    <tr>\n",
       "      <td>3209</td>\n",
       "      <td>1489</td>\n",
       "      <td>декабрь</td>\n",
       "      <td>0</td>\n",
       "      <td>35</td>\n",
       "      <td>17</td>\n",
       "      <td>smart</td>\n",
       "      <td>950</td>\n",
       "    </tr>\n",
       "    <tr>\n",
       "      <td>3210</td>\n",
       "      <td>1489</td>\n",
       "      <td>ноябрь</td>\n",
       "      <td>0</td>\n",
       "      <td>20</td>\n",
       "      <td>18</td>\n",
       "      <td>smart</td>\n",
       "      <td>1150</td>\n",
       "    </tr>\n",
       "    <tr>\n",
       "      <td>3211</td>\n",
       "      <td>1489</td>\n",
       "      <td>октябрь</td>\n",
       "      <td>0</td>\n",
       "      <td>21</td>\n",
       "      <td>20</td>\n",
       "      <td>smart</td>\n",
       "      <td>1550</td>\n",
       "    </tr>\n",
       "    <tr>\n",
       "      <td>3212</td>\n",
       "      <td>1489</td>\n",
       "      <td>сентябрь</td>\n",
       "      <td>0</td>\n",
       "      <td>32</td>\n",
       "      <td>17</td>\n",
       "      <td>smart</td>\n",
       "      <td>950</td>\n",
       "    </tr>\n",
       "    <tr>\n",
       "      <td>3213</td>\n",
       "      <td>1476</td>\n",
       "      <td>апрель</td>\n",
       "      <td>0</td>\n",
       "      <td>0</td>\n",
       "      <td>1</td>\n",
       "      <td>ultra</td>\n",
       "      <td>1950</td>\n",
       "    </tr>\n",
       "  </tbody>\n",
       "</table>\n",
       "<p>3214 rows × 7 columns</p>\n",
       "</div>"
      ],
      "text/plain": [
       "      user_id month_word  duration  messages  traffic tariff  income\n",
       "0        1000     август       408        81       14  ultra    1950\n",
       "1        1000    декабрь       333        70       10  ultra    1950\n",
       "2        1000       июль       340        75       14  ultra    1950\n",
       "3        1000       июнь       172        60       23  ultra    1950\n",
       "4        1000        май       159        22        3  ultra    1950\n",
       "...       ...        ...       ...       ...      ...    ...     ...\n",
       "3209     1489    декабрь         0        35       17  smart     950\n",
       "3210     1489     ноябрь         0        20       18  smart    1150\n",
       "3211     1489    октябрь         0        21       20  smart    1550\n",
       "3212     1489   сентябрь         0        32       17  smart     950\n",
       "3213     1476     апрель         0         0        1  ultra    1950\n",
       "\n",
       "[3214 rows x 7 columns]"
      ]
     },
     "metadata": {},
     "output_type": "display_data"
    },
    {
     "name": "stdout",
     "output_type": "stream",
     "text": [
      "Index(['user_id', 'month_word', 'duration', 'messages', 'traffic', 'tariff',\n",
      "       'income'],\n",
      "      dtype='object')\n"
     ]
    }
   ],
   "source": [
    "display(df_income_by_month)          # проверка\n",
    "print(df_income_by_month.columns)"
   ]
  },
  {
   "cell_type": "markdown",
   "metadata": {},
   "source": [
    "## Вывод по шагу 2"
   ]
  },
  {
   "cell_type": "markdown",
   "metadata": {},
   "source": [
    "- дополнительное рассмотрение данных провел: \n",
    "-- обнаружены пропуски абонентов - видно каких, возможно это будет иметь значение при объединении таблиц\n",
    "-- обнаружено много нулевых значений в стобце по траффику в df_internet - решил их оставить (а перевод мб в гб в том датафрейме вести перед анализом таблиц)\n",
    "-- мб переведены в гб в df_tariffs\n",
    "-- категоризованы возраст и с некотором приближением определен пол\n",
    "-- остальные аномалии обговорены в задании\n",
    "\n",
    "- данные приведены к нужным типам\n",
    "- расчеты, которые требуются в задании сделаны:\n",
    "-- количество сделанных звонков и израсходованных минут разговора по месяцам подсчитаны\n",
    "-- количество отправленных сообщений по месяцам подсчитаны\n",
    "-- объем израсходованного интернет-трафика по месяцам подсчитан\n",
    "-- помесячная выручка с каждого пользователя представлена в таблице **df_income_by_month** "
   ]
  },
  {
   "cell_type": "markdown",
   "metadata": {},
   "source": [
    "<a id='step_3'></a>\n",
    "\n",
    "# Шаг 3 Анализ данных"
   ]
  },
  {
   "cell_type": "markdown",
   "metadata": {},
   "source": [
    "В задании указано следующее:\n",
    "- Опишите поведение клиентов оператора, исходя из выборки. Сколько минут разговора, сколько сообщений и какой объём интернет-трафика требуется пользователям каждого тарифа в месяц? \n",
    "- Посчитайте среднее количество, дисперсию и стандартное отклонение. \n",
    "- Постройте гистограммы. \n",
    "- Опишите распределения."
   ]
  },
  {
   "cell_type": "markdown",
   "metadata": {},
   "source": [
    "в таблице df_income_by_month данные сгруппировны для каждого пользователя для каждого месяца, поэтому группировка таблицы по тарифу даст значения каждого параметра для среднего месяца"
   ]
  },
  {
   "cell_type": "code",
   "execution_count": 57,
   "metadata": {},
   "outputs": [
    {
     "data": {
      "text/html": [
       "<div>\n",
       "<style scoped>\n",
       "    .dataframe tbody tr th:only-of-type {\n",
       "        vertical-align: middle;\n",
       "    }\n",
       "\n",
       "    .dataframe tbody tr th {\n",
       "        vertical-align: top;\n",
       "    }\n",
       "\n",
       "    .dataframe thead tr th {\n",
       "        text-align: left;\n",
       "    }\n",
       "\n",
       "    .dataframe thead tr:last-of-type th {\n",
       "        text-align: right;\n",
       "    }\n",
       "</style>\n",
       "<table border=\"1\" class=\"dataframe\">\n",
       "  <thead>\n",
       "    <tr>\n",
       "      <th></th>\n",
       "      <th colspan=\"3\" halign=\"left\">traffic</th>\n",
       "      <th colspan=\"3\" halign=\"left\">messages</th>\n",
       "      <th colspan=\"3\" halign=\"left\">duration</th>\n",
       "      <th>user_id</th>\n",
       "      <th colspan=\"3\" halign=\"left\">income</th>\n",
       "    </tr>\n",
       "    <tr>\n",
       "      <th></th>\n",
       "      <th>mean</th>\n",
       "      <th>std</th>\n",
       "      <th>var</th>\n",
       "      <th>mean</th>\n",
       "      <th>std</th>\n",
       "      <th>var</th>\n",
       "      <th>mean</th>\n",
       "      <th>std</th>\n",
       "      <th>var</th>\n",
       "      <th>count</th>\n",
       "      <th>mean</th>\n",
       "      <th>std</th>\n",
       "      <th>var</th>\n",
       "    </tr>\n",
       "    <tr>\n",
       "      <th>tariff</th>\n",
       "      <th></th>\n",
       "      <th></th>\n",
       "      <th></th>\n",
       "      <th></th>\n",
       "      <th></th>\n",
       "      <th></th>\n",
       "      <th></th>\n",
       "      <th></th>\n",
       "      <th></th>\n",
       "      <th></th>\n",
       "      <th></th>\n",
       "      <th></th>\n",
       "      <th></th>\n",
       "    </tr>\n",
       "  </thead>\n",
       "  <tbody>\n",
       "    <tr>\n",
       "      <td>smart</td>\n",
       "      <td>16.328847</td>\n",
       "      <td>5.747061</td>\n",
       "      <td>33.028705</td>\n",
       "      <td>33.384029</td>\n",
       "      <td>28.227876</td>\n",
       "      <td>796.812958</td>\n",
       "      <td>417.934948</td>\n",
       "      <td>190.313730</td>\n",
       "      <td>36219.315784</td>\n",
       "      <td>2229</td>\n",
       "      <td>1289.973531</td>\n",
       "      <td>818.404367</td>\n",
       "      <td>669785.708006</td>\n",
       "    </tr>\n",
       "    <tr>\n",
       "      <td>ultra</td>\n",
       "      <td>19.494416</td>\n",
       "      <td>9.853511</td>\n",
       "      <td>97.091686</td>\n",
       "      <td>49.363452</td>\n",
       "      <td>47.804457</td>\n",
       "      <td>2285.266143</td>\n",
       "      <td>526.623350</td>\n",
       "      <td>317.606098</td>\n",
       "      <td>100873.633397</td>\n",
       "      <td>985</td>\n",
       "      <td>2070.152284</td>\n",
       "      <td>376.187114</td>\n",
       "      <td>141516.745079</td>\n",
       "    </tr>\n",
       "  </tbody>\n",
       "</table>\n",
       "</div>"
      ],
      "text/plain": [
       "          traffic                        messages                          \\\n",
       "             mean       std        var       mean        std          var   \n",
       "tariff                                                                      \n",
       "smart   16.328847  5.747061  33.028705  33.384029  28.227876   796.812958   \n",
       "ultra   19.494416  9.853511  97.091686  49.363452  47.804457  2285.266143   \n",
       "\n",
       "          duration                            user_id       income  \\\n",
       "              mean         std            var   count         mean   \n",
       "tariff                                                               \n",
       "smart   417.934948  190.313730   36219.315784    2229  1289.973531   \n",
       "ultra   526.623350  317.606098  100873.633397     985  2070.152284   \n",
       "\n",
       "                                   \n",
       "               std            var  \n",
       "tariff                             \n",
       "smart   818.404367  669785.708006  \n",
       "ultra   376.187114  141516.745079  "
      ]
     },
     "metadata": {},
     "output_type": "display_data"
    }
   ],
   "source": [
    "display(df_income_by_month.groupby('tariff').agg(\n",
    "    {'traffic': ['mean', 'std', 'var'], 'messages': ['mean', 'std', 'var'], 'duration': ['mean', 'std', 'var'], 'user_id': ['count'], 'income': ['mean', 'std', 'var']}\n",
    "))"
   ]
  },
  {
   "cell_type": "markdown",
   "metadata": {},
   "source": [
    "В среднем абонентам тарифа смарт нужно: 16 гб трафика, 33 сообщения и 417 минут разговора в месяц\n",
    "абонентам тарифа ультра: 19 гб трафика, 49 сообщений и 526 минут разговора в месяц  \n",
    "\n",
    "расчеты дисперсии и стандартного отклонения приведены\n",
    "\n",
    "**изменения после пересчета очень заметны**"
   ]
  },
  {
   "cell_type": "markdown",
   "metadata": {},
   "source": [
    "ниже построил гистограммы для требуемых параметров (и добавил к ним еще выручку)"
   ]
  },
  {
   "cell_type": "code",
   "execution_count": 58,
   "metadata": {},
   "outputs": [
    {
     "data": {
      "image/png": "[encoded data removed]",
      "text/plain": [
       "<Figure size 864x504 with 4 Axes>"
      ]
     },
     "metadata": {},
     "output_type": "display_data"
    }
   ],
   "source": [
    "plt.figure(figsize=(12, 7))       \n",
    "\n",
    "plt.subplot(2, 2, 1)                            \n",
    "plt.hist(df_income_by_month.query('tariff == \"smart\"')['traffic'], bins=50, alpha=0.5)\n",
    "plt.hist(df_income_by_month.query('tariff == \"ultra\"')['traffic'], bins=50, alpha=0.5)\n",
    "plt.title('Гистограмма траффика')\n",
    "\n",
    "plt.subplot(2, 2, 2)\n",
    "plt.hist(df_income_by_month.query('tariff == \"smart\"')['duration'], bins=50, alpha=0.5)\n",
    "plt.hist(df_income_by_month.query('tariff == \"ultra\"')['duration'], bins=50, alpha=0.5)\n",
    "plt.title('Гистограмма продолжительности звонков')\n",
    " \n",
    "\n",
    "plt.subplot(2, 2, 3)\n",
    "plt.hist(df_income_by_month.query('tariff == \"smart\"')['messages'], bins=50, alpha=0.5)\n",
    "plt.hist(df_income_by_month.query('tariff == \"ultra\"')['messages'], bins=50, alpha=0.5)\n",
    "plt.title('Гистограмма числа сообщений')\n",
    "\n",
    "plt.subplot(2, 2, 4)\n",
    "plt.hist(df_income_by_month.query('tariff == \"smart\"')['income'], bins=50, alpha=0.5)\n",
    "plt.hist(df_income_by_month.query('tariff == \"ultra\"')['income'], bins=50, alpha=0.5)\n",
    "plt.title('Гистограмма выручки')\n",
    "\n",
    "plt.show()"
   ]
  },
  {
   "cell_type": "code",
   "execution_count": 59,
   "metadata": {},
   "outputs": [
    {
     "name": "stdout",
     "output_type": "stream",
     "text": [
      "Defaulting to user installation because normal site-packages is not writeable\n",
      "Requirement already up-to-date: seaborn in /home/jovyan/.local/lib/python3.7/site-packages (0.11.2)\n",
      "Requirement already satisfied, skipping upgrade: pandas>=0.23 in /opt/conda/lib/python3.7/site-packages (from seaborn) (0.25.1)\n",
      "Requirement already satisfied, skipping upgrade: matplotlib>=2.2 in /opt/conda/lib/python3.7/site-packages (from seaborn) (3.1.0)\n",
      "Requirement already satisfied, skipping upgrade: scipy>=1.0 in /opt/conda/lib/python3.7/site-packages (from seaborn) (1.4.1)\n",
      "Requirement already satisfied, skipping upgrade: numpy>=1.15 in /opt/conda/lib/python3.7/site-packages (from seaborn) (1.19.5)\n",
      "Requirement already satisfied, skipping upgrade: python-dateutil>=2.6.1 in /opt/conda/lib/python3.7/site-packages (from pandas>=0.23->seaborn) (2.8.1)\n",
      "Requirement already satisfied, skipping upgrade: pytz>=2017.2 in /opt/conda/lib/python3.7/site-packages (from pandas>=0.23->seaborn) (2021.1)\n",
      "Requirement already satisfied, skipping upgrade: pyparsing!=2.0.4,!=2.1.2,!=2.1.6,>=2.0.1 in /opt/conda/lib/python3.7/site-packages (from matplotlib>=2.2->seaborn) (2.4.7)\n",
      "Requirement already satisfied, skipping upgrade: kiwisolver>=1.0.1 in /opt/conda/lib/python3.7/site-packages (from matplotlib>=2.2->seaborn) (1.3.1)\n",
      "Requirement already satisfied, skipping upgrade: cycler>=0.10 in /opt/conda/lib/python3.7/site-packages (from matplotlib>=2.2->seaborn) (0.10.0)\n",
      "Requirement already satisfied, skipping upgrade: six>=1.5 in /opt/conda/lib/python3.7/site-packages (from python-dateutil>=2.6.1->pandas>=0.23->seaborn) (1.15.0)\n",
      "Note: you may need to restart the kernel to use updated packages.\n"
     ]
    }
   ],
   "source": [
    "# код ревьюера\n",
    "pip install seaborn --upgrade"
   ]
  },
  {
   "cell_type": "code",
   "execution_count": 72,
   "metadata": {},
   "outputs": [
    {
     "data": {
      "image/png": "[encoded data removed]",
      "text/plain": [
       "<Figure size 864x504 with 4 Axes>"
      ]
     },
     "metadata": {},
     "output_type": "display_data"
    }
   ],
   "source": [
    "# код ревьюера\n",
    "\n",
    "plt.figure(figsize=(12, 7))       \n",
    "\n",
    "plt.subplot(2, 2, 1)                            \n",
    "sns.histplot(data=df_income_by_month, x=\"traffic\", hue=\"tariff\")\n",
    "plt.title('Гистограмма траффика')\n",
    "\n",
    "plt.subplot(2, 2, 2)\n",
    "sns.histplot(data=df_income_by_month, x=\"duration\", hue=\"tariff\")\n",
    "plt.title('Гистограмма продолжительности звонков')\n",
    " \n",
    "\n",
    "plt.subplot(2, 2, 3)\n",
    "sns.histplot(data=df_income_by_month, x=\"messages\", hue=\"tariff\")\n",
    "plt.title('Гистограмма числа сообщений')\n",
    "\n",
    "plt.subplot(2, 2, 4)\n",
    "sns.histplot(data=df_income_by_month, x=\"income\", hue=\"tariff\")\n",
    "plt.title('Гистограмма выручки')\n",
    "\n",
    "plt.show()"
   ]
  },
  {
   "cell_type": "markdown",
   "metadata": {},
   "source": [
    "- Распределение траффика (использованного помесячно каждым пользователем выглядит, как нормальное), для тарифа ультра - более пологое\n",
    "- Распределение продолжительности звонков тоже (хотя оно сдвинуто влево) и для тарифа ультра очень пологое\n",
    "- На распределениее чсла сообщений виден большой выброс (ноль) - было видно, что многие пользователи вообще не пользовались сообщениями (эти пропуски были заполнены нулями в рабочей таблице) - думаю, что распределение тоже можно назвать нормальным, хотя и очень пологим и сдвинутым влево\n",
    "- Распредение выручки похоже на распределение Пуассона. Для каждого тарифа оно начинается с абонентской платы (в случае тарифа ультра выручка почти всегда равняется абонентской плате)."
   ]
  },
  {
   "cell_type": "code",
   "execution_count": 61,
   "metadata": {},
   "outputs": [
    {
     "name": "stdout",
     "output_type": "stream",
     "text": [
      "Число абонентов в месяц, выручка по которым рана цене тарифа ультра: 905\n",
      "Число абонентов в месяц, выручка по которым рана цене тарифа смарт: 567\n"
     ]
    }
   ],
   "source": [
    "# проверю выбросы на гистограмме выручки\n",
    "print('Число абонентов в месяц, выручка по которым рана цене тарифа ультра:', df_income_by_month.query('income == 1950')['user_id'].count())\n",
    "print('Число абонентов в месяц, выручка по которым рана цене тарифа смарт:', df_income_by_month.query('income == 550')['user_id'].count())"
   ]
  },
  {
   "cell_type": "markdown",
   "metadata": {},
   "source": [
    "предположение насчет выбросов в выручке за счет абонентской платы верное"
   ]
  },
  {
   "cell_type": "markdown",
   "metadata": {},
   "source": [
    "<a id='step_4'></a>\n",
    "\n",
    "# Шаг 4. Проверка гипотез"
   ]
  },
  {
   "cell_type": "markdown",
   "metadata": {},
   "source": [
    "В задании требуется проверить следующие гипотезы:\n",
    "- средняя выручка пользователей тарифов «Ультра» и «Смарт» различаются;\n",
    "- средняя выручка пользователи из Москвы отличается от выручки пользователей из других регионов.\n",
    "\n"
   ]
  },
  {
   "cell_type": "markdown",
   "metadata": {},
   "source": [
    "### Проверка того, что средняя выручка пользователей тарифов «Ультра» и «Смарт» различаются"
   ]
  },
  {
   "cell_type": "markdown",
   "metadata": {},
   "source": [
    "В выборе метода для провреки этой следующей гипотезы важно понять являются ли выборки по тарифам зависимыми совокупностями или нет - мне кажется, что нет (могу ошибаться), т.к., несмотря на то что они объединяются в один набор данных, тариф ультра и тариф смарт в нем не связаны (т.е. не рассматривается действия с одним тарифом, которые повлияют по условиям задания на другой). Так же думал и в плане городов.  \n",
    "Для проверки гипотезы о равенстве среднего двух независимых генеральных совокупностей по взятым из них выборкам решил применить метод  **scipy.stats.ttest_ind**"
   ]
  },
  {
   "cell_type": "markdown",
   "metadata": {},
   "source": [
    "Нулевая гипотеза будет звучать: выручка по тарифам Ультра и Смарт - не отличается  \n",
    "Альтернатиная гипотеза: выручка по тарифам Ультра и Смарт - будет отличаеся "
   ]
  },
  {
   "cell_type": "code",
   "execution_count": 62,
   "metadata": {},
   "outputs": [],
   "source": [
    "income_smart = df_income_by_month.query('tariff == \"smart\"')['income'] # выделяю столбцы с выручками\n",
    "income_ultra = df_income_by_month.query('tariff == \"ultra\"')['income']\n",
    "\n",
    "income_smart_sample = income_smart.sample(100)  # из всего набора данных возьму 100 случайных значений\n",
    "income_ultra_sample = income_ultra.sample(100)"
   ]
  },
  {
   "cell_type": "code",
   "execution_count": 63,
   "metadata": {},
   "outputs": [
    {
     "data": {
      "text/plain": [
       "Text(0.5, 1.0, 'Гистограмма сэмпла выручки для ультра')"
      ]
     },
     "execution_count": 63,
     "metadata": {},
     "output_type": "execute_result"
    },
    {
     "data": {
      "image/png": "[encoded data removed]",
      "text/plain": [
       "<Figure size 864x504 with 2 Axes>"
      ]
     },
     "metadata": {},
     "output_type": "display_data"
    }
   ],
   "source": [
    "# решил построить гистограммы для сэмплов (для ультра сильно видны выбросы за счет абонентской платы)\n",
    "plt.figure(figsize=(12, 7))       \n",
    "\n",
    "plt.subplot(2, 2, 1)                            \n",
    "plt.hist(income_smart_sample, bins=20)\n",
    "plt.title('Гистограмма сэмпла выручки для смарт')\n",
    "\n",
    "plt.subplot(2, 2, 2)\n",
    "plt.hist(income_ultra_sample, bins=20)\n",
    "plt.title('Гистограмма сэмпла выручки для ультра')"
   ]
  },
  {
   "cell_type": "code",
   "execution_count": 64,
   "metadata": {},
   "outputs": [
    {
     "name": "stdout",
     "output_type": "stream",
     "text": [
      "p-значение:  6.851110005082679e-21\n",
      "Отвергаем нулевую гипотезу - значит выручка по тарифам Ультра и Смарт - отличается\n"
     ]
    }
   ],
   "source": [
    "alpha = .05   # критический уровень значимости задал равным 0.5\n",
    "\n",
    "results = st.ttest_ind(\n",
    "    income_smart_sample, \n",
    "    income_ultra_sample)\n",
    "\n",
    "\n",
    "print('p-значение: ', results.pvalue)\n",
    "\n",
    "if results.pvalue < alpha:\n",
    "    print('Отвергаем нулевую гипотезу - значит выручка по тарифам Ультра и Смарт - отличается')\n",
    "else:\n",
    "    print('Не отвергаем нулевую гипотезу - значит выручка по тарифам Ультра и Смарт - не отличается') \n"
   ]
  },
  {
   "cell_type": "markdown",
   "metadata": {},
   "source": [
    "### Проверка того, что средняя выручка пользователи из Москвы отличается от выручки пользователей из других регионов"
   ]
  },
  {
   "cell_type": "markdown",
   "metadata": {},
   "source": [
    "Нулевая гипотеза будет звучать: выручка пользователей из Москвы и из других регионов - не отличается  \n",
    "Альтернативная гипотеза: выручка пользователей из Москвы и из других регионов отличается  "
   ]
  },
  {
   "cell_type": "code",
   "execution_count": 65,
   "metadata": {},
   "outputs": [],
   "source": [
    "# сначала аналогично подходу в шаге 3 добавлю столбец с городом в df_income_by_month\n",
    "df_income_by_month['city'] = df_income_by_month['user_id']  # образование столбца для значений тарифов\n",
    "\n",
    "def city(user):                                   # функция для подстановки значений тарифов для каждого user_id\n",
    "    for i in range(len(df_users['user_id'])):\n",
    "  \n",
    "        if user == df_users['user_id'][i]:\n",
    "   \n",
    "            return df_users['city'][i]\n",
    "    \n"
   ]
  },
  {
   "cell_type": "code",
   "execution_count": 66,
   "metadata": {},
   "outputs": [],
   "source": [
    "df_income_by_month['city'] = df_income_by_month['city'].apply(city)  # применение функции"
   ]
  },
  {
   "cell_type": "code",
   "execution_count": 68,
   "metadata": {},
   "outputs": [],
   "source": [
    "income_moscow = df_income_by_month[df_income_by_month['city']=='Москва']['income']\n",
    "income_russia = df_income_by_month[df_income_by_month['city']!='Москва']['income']"
   ]
  },
  {
   "cell_type": "code",
   "execution_count": 69,
   "metadata": {},
   "outputs": [
    {
     "data": {
      "text/plain": [
       "Text(0.5, 1.0, 'Гистограмма сэмпла выручки для остальной страны')"
      ]
     },
     "execution_count": 69,
     "metadata": {},
     "output_type": "execute_result"
    },
    {
     "data": {
      "image/png": "[encoded data removed]",
      "text/plain": [
       "<Figure size 864x504 with 2 Axes>"
      ]
     },
     "metadata": {},
     "output_type": "display_data"
    }
   ],
   "source": [
    "#income_moscow = df_income_by_month.query('city_cat == \"Москва\"')['income'] # выделяю столбцы с выручками для Москвы и регионов\n",
    "#income_russia = df_income_by_month.query('city_cat == \"Россия\"')['income']\n",
    "\n",
    "income_moscow_sample = income_moscow.sample(100)  # из всего набора данных возьму 100 случайных значений\n",
    "income_russia_sample = income_russia.sample(100)\n",
    "\n",
    "# гистограммы \n",
    "plt.figure(figsize=(12, 7))       \n",
    "\n",
    "plt.subplot(2, 2, 1)                            \n",
    "plt.hist(income_moscow_sample, bins=20)\n",
    "plt.title('Гистограмма сэмпла выручки для Москвы')\n",
    "\n",
    "plt.subplot(2, 2, 2)\n",
    "plt.hist(income_russia_sample, bins=20)\n",
    "plt.title('Гистограмма сэмпла выручки для остальной страны')"
   ]
  },
  {
   "cell_type": "markdown",
   "metadata": {},
   "source": [
    "распределения напоминают нормальные (выбросы - абонентские платы обоих тарифов)"
   ]
  },
  {
   "cell_type": "code",
   "execution_count": 70,
   "metadata": {},
   "outputs": [
    {
     "name": "stdout",
     "output_type": "stream",
     "text": [
      "p-значение:  0.4532216510508361\n",
      "Не отвергаем нулевую гипотезу - значит выручка по Москве и другим регионам - не отличается\n"
     ]
    }
   ],
   "source": [
    "alpha = .05   # критический уровень значимости задал равным 0.5\n",
    "\n",
    "results = st.ttest_ind(\n",
    "    income_moscow_sample, \n",
    "    income_russia_sample)\n",
    "\n",
    "\n",
    "print('p-значение: ', results.pvalue)\n",
    "\n",
    "if results.pvalue < alpha:\n",
    "    print('Отвергаем нулевую гипотезу - значит выручка по Москве и другим регионам - отличается')\n",
    "else:\n",
    "    print('Не отвергаем нулевую гипотезу - значит выручка по Москве и другим регионам - не отличается') \n"
   ]
  },
  {
   "cell_type": "markdown",
   "metadata": {},
   "source": [
    "**Еще в начале задания был такой вопрос - нужно проанализировать поведение клиентов и сделать вывод — какой тариф лучше**, но дальше в плане он не возникал  \n",
    "возможно он уходит в сторону от остальной работы - постарался кратко представить себе представление о нем"
   ]
  },
  {
   "cell_type": "code",
   "execution_count": 71,
   "metadata": {},
   "outputs": [
    {
     "data": {
      "text/html": [
       "<div>\n",
       "<style scoped>\n",
       "    .dataframe tbody tr th:only-of-type {\n",
       "        vertical-align: middle;\n",
       "    }\n",
       "\n",
       "    .dataframe tbody tr th {\n",
       "        vertical-align: top;\n",
       "    }\n",
       "\n",
       "    .dataframe thead th {\n",
       "        text-align: right;\n",
       "    }\n",
       "</style>\n",
       "<table border=\"1\" class=\"dataframe\">\n",
       "  <thead>\n",
       "    <tr style=\"text-align: right;\">\n",
       "      <th></th>\n",
       "      <th>users</th>\n",
       "      <th>sum</th>\n",
       "      <th>median</th>\n",
       "      <th>mean</th>\n",
       "      <th>std</th>\n",
       "      <th>var</th>\n",
       "    </tr>\n",
       "    <tr>\n",
       "      <th>tariff</th>\n",
       "      <th></th>\n",
       "      <th></th>\n",
       "      <th></th>\n",
       "      <th></th>\n",
       "      <th></th>\n",
       "      <th></th>\n",
       "    </tr>\n",
       "  </thead>\n",
       "  <tbody>\n",
       "    <tr>\n",
       "      <td>smart</td>\n",
       "      <td>2229</td>\n",
       "      <td>2875351</td>\n",
       "      <td>1023</td>\n",
       "      <td>1289.973531</td>\n",
       "      <td>818.404367</td>\n",
       "      <td>669785.708006</td>\n",
       "    </tr>\n",
       "    <tr>\n",
       "      <td>ultra</td>\n",
       "      <td>985</td>\n",
       "      <td>2039100</td>\n",
       "      <td>1950</td>\n",
       "      <td>2070.152284</td>\n",
       "      <td>376.187114</td>\n",
       "      <td>141516.745079</td>\n",
       "    </tr>\n",
       "  </tbody>\n",
       "</table>\n",
       "</div>"
      ],
      "text/plain": [
       "        users      sum  median         mean         std            var\n",
       "tariff                                                                \n",
       "smart    2229  2875351    1023  1289.973531  818.404367  669785.708006\n",
       "ultra     985  2039100    1950  2070.152284  376.187114  141516.745079"
      ]
     },
     "metadata": {},
     "output_type": "display_data"
    }
   ],
   "source": [
    "# решил посмотеть показатели в таком виде\n",
    "data_income = df_income_by_month.groupby('tariff').agg(\n",
    "    {'user_id': ['count'], 'income': ['sum', 'median', 'mean', 'std', 'var']}\n",
    ")\n",
    "data_income.columns = ['users', 'sum', 'median', 'mean', 'std', 'var']\n",
    "\n",
    "display(data_income)"
   ]
  },
  {
   "cell_type": "markdown",
   "metadata": {},
   "source": [
    "Выручка, которую принес тариф смарт намного больше чем тариф ультра - средняя выручка тоже больше (причем рост выручки не пропроционален числу пользователей, которая в случае тарифа смарт больше). Для компании распространение тарифа смарт намного выгоднее. Причина таких результатов - это то что абоненты тарифа ультра почти никогда не выходят за пределы абоненсткой платы."
   ]
  },
  {
   "cell_type": "markdown",
   "metadata": {},
   "source": [
    "<a id='conclusion'></a>\n",
    "\n",
    "# Вывод"
   ]
  },
  {
   "cell_type": "markdown",
   "metadata": {},
   "source": [
    "- количество и продолжительность звонков, число сообщений и объем трафика с каждым месяцем линейно росли, для обоих тарифов виден небольшой спад в ноябре, после чего в декабре рост был сильнее\n",
    "- В среднем абонентам тарифа смарт нужно: 16 гб трафика, 33 сообщения и 417 минут разговора в месяц, абонентам тарифа ультра: 19 гб трафика, 49 сообщений и 526 минут разговора в месяц  \n",
    "- выручка по тарифам смарт и ультра различатеся (проверено статистически) - видно что для компании более выгодно когда люди используют тариф смарт (тариф ультра более выгоден абонентам за счет того что они почти никогда не выходят за пределы абонентсокй платы)\n",
    "- выручка абонентов из Москвы и других регионов не различается"
   ]
  }
 ],
 "metadata": {
  "ExecuteTimeLog": [
   {
    "duration": 400,
    "start_time": "2022-02-03T10:15:22.881Z"
   },
   {
    "duration": 156,
    "start_time": "2022-02-03T10:21:25.641Z"
   },
   {
    "duration": 2045,
    "start_time": "2022-02-03T10:21:54.182Z"
   },
   {
    "duration": 3,
    "start_time": "2022-02-03T10:22:00.372Z"
   },
   {
    "duration": 147,
    "start_time": "2022-02-03T10:24:47.735Z"
   },
   {
    "duration": 597,
    "start_time": "2022-02-03T10:25:01.398Z"
   },
   {
    "duration": 192,
    "start_time": "2022-02-03T10:34:10.649Z"
   },
   {
    "duration": 185,
    "start_time": "2022-02-03T10:35:30.229Z"
   },
   {
    "duration": 38,
    "start_time": "2022-02-03T10:36:15.504Z"
   },
   {
    "duration": 37,
    "start_time": "2022-02-03T10:36:38.299Z"
   },
   {
    "duration": 138,
    "start_time": "2022-02-03T10:41:10.182Z"
   },
   {
    "duration": 91,
    "start_time": "2022-02-03T10:46:18.728Z"
   },
   {
    "duration": 19,
    "start_time": "2022-02-03T10:50:36.708Z"
   },
   {
    "duration": 137,
    "start_time": "2022-02-03T10:52:59.170Z"
   },
   {
    "duration": 43,
    "start_time": "2022-02-03T10:54:14.814Z"
   },
   {
    "duration": 3,
    "start_time": "2022-02-03T10:59:12.456Z"
   },
   {
    "duration": 552,
    "start_time": "2022-02-03T10:59:13.757Z"
   },
   {
    "duration": 118,
    "start_time": "2022-02-03T11:10:22.078Z"
   },
   {
    "duration": 553,
    "start_time": "2022-02-03T11:15:00.016Z"
   },
   {
    "duration": 407,
    "start_time": "2022-02-03T11:15:07.493Z"
   },
   {
    "duration": 124,
    "start_time": "2022-02-03T11:19:36.038Z"
   },
   {
    "duration": 464,
    "start_time": "2022-02-03T11:19:40.665Z"
   },
   {
    "duration": 1895,
    "start_time": "2022-02-03T11:20:10.862Z"
   },
   {
    "duration": 1802,
    "start_time": "2022-02-03T11:20:18.386Z"
   },
   {
    "duration": 120,
    "start_time": "2022-02-03T11:22:25.705Z"
   },
   {
    "duration": 122,
    "start_time": "2022-02-03T11:22:36.180Z"
   },
   {
    "duration": 2166,
    "start_time": "2022-02-03T11:23:02.571Z"
   },
   {
    "duration": 114,
    "start_time": "2022-02-03T11:23:20.864Z"
   },
   {
    "duration": 122,
    "start_time": "2022-02-03T11:23:48.813Z"
   },
   {
    "duration": 7,
    "start_time": "2022-02-03T11:23:56.330Z"
   },
   {
    "duration": 1974,
    "start_time": "2022-02-03T11:24:48.200Z"
   },
   {
    "duration": 35066,
    "start_time": "2022-02-03T11:27:40.323Z"
   },
   {
    "duration": 2105,
    "start_time": "2022-02-03T11:29:28.077Z"
   },
   {
    "duration": 359,
    "start_time": "2022-02-03T11:29:37.709Z"
   },
   {
    "duration": 3352,
    "start_time": "2022-02-03T11:30:45.734Z"
   },
   {
    "duration": 505,
    "start_time": "2022-02-03T11:33:09.402Z"
   },
   {
    "duration": 2340,
    "start_time": "2022-02-03T11:35:11.794Z"
   },
   {
    "duration": 363452,
    "start_time": "2022-02-03T11:35:47.543Z"
   },
   {
    "duration": -3042,
    "start_time": "2022-02-03T11:41:54.040Z"
   },
   {
    "duration": 3,
    "start_time": "2022-02-03T11:41:57.408Z"
   },
   {
    "duration": 222,
    "start_time": "2022-02-03T11:41:58.304Z"
   },
   {
    "duration": 350,
    "start_time": "2022-02-03T20:27:03.079Z"
   },
   {
    "duration": 1133,
    "start_time": "2022-02-03T20:27:10.494Z"
   },
   {
    "duration": 411,
    "start_time": "2022-02-03T20:27:11.629Z"
   },
   {
    "duration": 148,
    "start_time": "2022-02-03T20:27:12.042Z"
   },
   {
    "duration": 127,
    "start_time": "2022-02-03T20:27:12.193Z"
   },
   {
    "duration": 74,
    "start_time": "2022-02-03T20:27:12.321Z"
   },
   {
    "duration": 10,
    "start_time": "2022-02-03T20:27:12.397Z"
   },
   {
    "duration": 28,
    "start_time": "2022-02-03T20:27:12.409Z"
   },
   {
    "duration": 50,
    "start_time": "2022-02-03T20:27:12.439Z"
   },
   {
    "duration": 147,
    "start_time": "2022-02-03T20:27:12.491Z"
   },
   {
    "duration": 341,
    "start_time": "2022-02-03T20:27:12.640Z"
   },
   {
    "duration": 652,
    "start_time": "2022-02-03T20:30:17.206Z"
   },
   {
    "duration": 132,
    "start_time": "2022-02-03T20:32:14.171Z"
   },
   {
    "duration": 447,
    "start_time": "2022-02-03T20:33:19.503Z"
   },
   {
    "duration": 152,
    "start_time": "2022-02-03T20:35:35.961Z"
   },
   {
    "duration": 133,
    "start_time": "2022-02-03T20:35:48.405Z"
   },
   {
    "duration": 1866,
    "start_time": "2022-02-03T20:36:55.216Z"
   },
   {
    "duration": 217,
    "start_time": "2022-02-03T20:39:05.133Z"
   },
   {
    "duration": 141,
    "start_time": "2022-02-03T20:39:52.996Z"
   },
   {
    "duration": 10822,
    "start_time": "2022-02-03T20:40:40.193Z"
   },
   {
    "duration": 4910,
    "start_time": "2022-02-03T20:41:12.755Z"
   },
   {
    "duration": 5346,
    "start_time": "2022-02-03T20:41:41.835Z"
   },
   {
    "duration": 5115,
    "start_time": "2022-02-03T20:42:28.532Z"
   },
   {
    "duration": 146,
    "start_time": "2022-02-03T20:43:20.939Z"
   },
   {
    "duration": 140,
    "start_time": "2022-02-03T20:43:32.683Z"
   },
   {
    "duration": 107,
    "start_time": "2022-02-03T20:44:19.696Z"
   },
   {
    "duration": 104,
    "start_time": "2022-02-03T20:44:42.536Z"
   },
   {
    "duration": 139,
    "start_time": "2022-02-03T20:44:59.527Z"
   },
   {
    "duration": 274,
    "start_time": "2022-02-03T20:45:09.577Z"
   },
   {
    "duration": 5068,
    "start_time": "2022-02-03T20:46:58.789Z"
   },
   {
    "duration": 105,
    "start_time": "2022-02-03T20:50:42.477Z"
   },
   {
    "duration": 4946,
    "start_time": "2022-02-03T20:51:18.780Z"
   },
   {
    "duration": 4197,
    "start_time": "2022-02-03T20:52:00.507Z"
   },
   {
    "duration": 450,
    "start_time": "2022-02-03T20:52:49.308Z"
   },
   {
    "duration": 2196,
    "start_time": "2022-02-03T20:53:11.020Z"
   },
   {
    "duration": 463,
    "start_time": "2022-02-03T20:53:54.803Z"
   },
   {
    "duration": 442,
    "start_time": "2022-02-03T20:54:38.869Z"
   },
   {
    "duration": 526,
    "start_time": "2022-02-03T20:55:12.029Z"
   },
   {
    "duration": 423,
    "start_time": "2022-02-03T20:56:06.188Z"
   },
   {
    "duration": 467,
    "start_time": "2022-02-03T20:56:31.135Z"
   },
   {
    "duration": 440,
    "start_time": "2022-02-03T20:57:08.228Z"
   },
   {
    "duration": 456,
    "start_time": "2022-02-03T20:57:18.858Z"
   },
   {
    "duration": 871,
    "start_time": "2022-02-03T20:57:31.700Z"
   },
   {
    "duration": 433,
    "start_time": "2022-02-03T20:58:09.995Z"
   },
   {
    "duration": 642,
    "start_time": "2022-02-03T20:58:22.609Z"
   },
   {
    "duration": 196,
    "start_time": "2022-02-03T20:58:51.378Z"
   },
   {
    "duration": 493,
    "start_time": "2022-02-03T20:58:58.240Z"
   },
   {
    "duration": 183,
    "start_time": "2022-02-03T20:59:15.332Z"
   },
   {
    "duration": 224,
    "start_time": "2022-02-03T20:59:30.871Z"
   },
   {
    "duration": 206,
    "start_time": "2022-02-03T20:59:37.835Z"
   },
   {
    "duration": 184,
    "start_time": "2022-02-03T21:00:58.839Z"
   },
   {
    "duration": 134,
    "start_time": "2022-02-03T21:01:31.980Z"
   },
   {
    "duration": 107,
    "start_time": "2022-02-03T21:01:42.868Z"
   },
   {
    "duration": 131,
    "start_time": "2022-02-03T21:01:47.488Z"
   },
   {
    "duration": 131,
    "start_time": "2022-02-03T21:02:03.412Z"
   },
   {
    "duration": 132,
    "start_time": "2022-02-03T21:03:33.306Z"
   },
   {
    "duration": 131,
    "start_time": "2022-02-03T21:03:38.740Z"
   },
   {
    "duration": 317,
    "start_time": "2022-02-03T21:05:07.217Z"
   },
   {
    "duration": 216,
    "start_time": "2022-02-03T21:05:19.450Z"
   },
   {
    "duration": 118,
    "start_time": "2022-02-03T21:13:10.247Z"
   },
   {
    "duration": 110,
    "start_time": "2022-02-03T21:13:16.047Z"
   },
   {
    "duration": 118,
    "start_time": "2022-02-03T21:14:05.118Z"
   },
   {
    "duration": 480,
    "start_time": "2022-02-03T21:14:15.082Z"
   },
   {
    "duration": 110,
    "start_time": "2022-02-03T21:14:26.853Z"
   },
   {
    "duration": 98,
    "start_time": "2022-02-03T21:14:33.500Z"
   },
   {
    "duration": 102,
    "start_time": "2022-02-03T21:14:37.496Z"
   },
   {
    "duration": 136,
    "start_time": "2022-02-03T21:14:44.914Z"
   },
   {
    "duration": 129,
    "start_time": "2022-02-03T21:14:55.733Z"
   },
   {
    "duration": 101,
    "start_time": "2022-02-03T21:15:18.219Z"
   },
   {
    "duration": 429,
    "start_time": "2022-02-03T21:15:22.399Z"
   },
   {
    "duration": 437,
    "start_time": "2022-02-03T21:15:42.425Z"
   },
   {
    "duration": 441,
    "start_time": "2022-02-03T21:15:59.321Z"
   },
   {
    "duration": 447,
    "start_time": "2022-02-03T21:16:12.770Z"
   },
   {
    "duration": 451,
    "start_time": "2022-02-03T21:17:20.417Z"
   },
   {
    "duration": 223,
    "start_time": "2022-02-03T21:17:33.055Z"
   },
   {
    "duration": 243,
    "start_time": "2022-02-03T21:17:45.877Z"
   },
   {
    "duration": 497,
    "start_time": "2022-02-03T21:19:02.827Z"
   },
   {
    "duration": 134,
    "start_time": "2022-02-03T21:19:28.270Z"
   },
   {
    "duration": 510,
    "start_time": "2022-02-03T21:19:37.200Z"
   },
   {
    "duration": 519,
    "start_time": "2022-02-03T21:19:56.342Z"
   },
   {
    "duration": 132,
    "start_time": "2022-02-03T21:20:02.962Z"
   },
   {
    "duration": 220,
    "start_time": "2022-02-03T21:20:32.027Z"
   },
   {
    "duration": 132,
    "start_time": "2022-02-03T21:20:46.257Z"
   },
   {
    "duration": 130,
    "start_time": "2022-02-03T21:20:57.679Z"
   },
   {
    "duration": 206,
    "start_time": "2022-02-03T21:21:08.083Z"
   },
   {
    "duration": 145,
    "start_time": "2022-02-03T21:22:04.748Z"
   },
   {
    "duration": 139,
    "start_time": "2022-02-03T21:22:18.181Z"
   },
   {
    "duration": 150,
    "start_time": "2022-02-03T21:22:41.489Z"
   },
   {
    "duration": 130,
    "start_time": "2022-02-03T21:22:54.587Z"
   },
   {
    "duration": 211,
    "start_time": "2022-02-03T21:23:27.099Z"
   },
   {
    "duration": 202,
    "start_time": "2022-02-03T21:23:34.937Z"
   },
   {
    "duration": 133,
    "start_time": "2022-02-03T21:23:40.724Z"
   },
   {
    "duration": 195,
    "start_time": "2022-02-03T21:23:54.418Z"
   },
   {
    "duration": 273,
    "start_time": "2022-02-03T21:27:13.326Z"
   },
   {
    "duration": 242,
    "start_time": "2022-02-03T21:27:22.892Z"
   },
   {
    "duration": 143,
    "start_time": "2022-02-03T21:27:37.190Z"
   },
   {
    "duration": 156,
    "start_time": "2022-02-03T21:27:51.962Z"
   },
   {
    "duration": 466,
    "start_time": "2022-02-03T21:28:50.608Z"
   },
   {
    "duration": 205,
    "start_time": "2022-02-03T21:29:26.548Z"
   },
   {
    "duration": 162,
    "start_time": "2022-02-03T21:29:40.678Z"
   },
   {
    "duration": 127,
    "start_time": "2022-02-03T21:30:31.275Z"
   },
   {
    "duration": 8159,
    "start_time": "2022-02-03T21:34:11.665Z"
   },
   {
    "duration": 49,
    "start_time": "2022-02-03T21:34:29.686Z"
   },
   {
    "duration": 5014,
    "start_time": "2022-02-03T21:34:34.209Z"
   },
   {
    "duration": 22,
    "start_time": "2022-02-03T21:34:42.374Z"
   },
   {
    "duration": 155,
    "start_time": "2022-02-03T21:37:14.028Z"
   },
   {
    "duration": 662,
    "start_time": "2022-02-03T21:39:34.471Z"
   },
   {
    "duration": 144,
    "start_time": "2022-02-03T21:39:43.284Z"
   },
   {
    "duration": 101,
    "start_time": "2022-02-03T21:53:56.585Z"
   },
   {
    "duration": 106,
    "start_time": "2022-02-03T21:54:06.529Z"
   },
   {
    "duration": 319,
    "start_time": "2022-02-03T21:54:10.357Z"
   },
   {
    "duration": 24,
    "start_time": "2022-02-03T21:54:19.236Z"
   },
   {
    "duration": 12,
    "start_time": "2022-02-03T21:54:31.758Z"
   },
   {
    "duration": 14,
    "start_time": "2022-02-03T21:55:22.195Z"
   },
   {
    "duration": 19,
    "start_time": "2022-02-03T21:55:45.830Z"
   },
   {
    "duration": 403,
    "start_time": "2022-02-03T21:56:40.596Z"
   },
   {
    "duration": 160,
    "start_time": "2022-02-03T21:57:09.392Z"
   },
   {
    "duration": 151,
    "start_time": "2022-02-03T21:57:21.455Z"
   },
   {
    "duration": 175,
    "start_time": "2022-02-03T21:57:40.008Z"
   },
   {
    "duration": 175,
    "start_time": "2022-02-03T21:58:02.596Z"
   },
   {
    "duration": 381,
    "start_time": "2022-02-03T21:58:57.865Z"
   },
   {
    "duration": 357,
    "start_time": "2022-02-03T21:59:07.289Z"
   },
   {
    "duration": 368,
    "start_time": "2022-02-04T06:20:36.863Z"
   },
   {
    "duration": 1139,
    "start_time": "2022-02-04T06:20:44.129Z"
   },
   {
    "duration": 363,
    "start_time": "2022-02-04T06:20:45.269Z"
   },
   {
    "duration": 133,
    "start_time": "2022-02-04T06:20:45.634Z"
   },
   {
    "duration": 99,
    "start_time": "2022-02-04T06:20:45.769Z"
   },
   {
    "duration": 71,
    "start_time": "2022-02-04T06:20:45.870Z"
   },
   {
    "duration": 9,
    "start_time": "2022-02-04T06:20:45.942Z"
   },
   {
    "duration": 27,
    "start_time": "2022-02-04T06:20:45.952Z"
   },
   {
    "duration": 48,
    "start_time": "2022-02-04T06:20:45.981Z"
   },
   {
    "duration": 139,
    "start_time": "2022-02-04T06:20:46.030Z"
   },
   {
    "duration": 17,
    "start_time": "2022-02-04T06:20:46.171Z"
   },
   {
    "duration": 157,
    "start_time": "2022-02-04T06:20:46.190Z"
   },
   {
    "duration": 13,
    "start_time": "2022-02-04T06:20:46.349Z"
   },
   {
    "duration": 374,
    "start_time": "2022-02-04T06:20:46.364Z"
   },
   {
    "duration": 367,
    "start_time": "2022-02-04T06:20:46.740Z"
   },
   {
    "duration": 23,
    "start_time": "2022-02-04T06:22:14.175Z"
   },
   {
    "duration": 9,
    "start_time": "2022-02-04T06:22:31.228Z"
   },
   {
    "duration": 9,
    "start_time": "2022-02-04T06:22:52.888Z"
   },
   {
    "duration": 20,
    "start_time": "2022-02-04T06:23:19.441Z"
   },
   {
    "duration": 10,
    "start_time": "2022-02-04T06:23:42.175Z"
   },
   {
    "duration": 20,
    "start_time": "2022-02-04T06:24:17.408Z"
   },
   {
    "duration": 21,
    "start_time": "2022-02-04T06:24:38.850Z"
   },
   {
    "duration": 364,
    "start_time": "2022-02-04T07:04:37.973Z"
   },
   {
    "duration": 322,
    "start_time": "2022-02-04T07:04:43.249Z"
   },
   {
    "duration": 113,
    "start_time": "2022-02-04T07:05:26.922Z"
   },
   {
    "duration": 119,
    "start_time": "2022-02-04T07:05:36.532Z"
   },
   {
    "duration": 109,
    "start_time": "2022-02-04T07:05:41.549Z"
   },
   {
    "duration": 1142,
    "start_time": "2022-02-04T08:27:47.973Z"
   },
   {
    "duration": 394,
    "start_time": "2022-02-04T08:27:49.117Z"
   },
   {
    "duration": 157,
    "start_time": "2022-02-04T08:27:49.515Z"
   },
   {
    "duration": 131,
    "start_time": "2022-02-04T08:27:49.674Z"
   },
   {
    "duration": 89,
    "start_time": "2022-02-04T08:27:49.807Z"
   },
   {
    "duration": 11,
    "start_time": "2022-02-04T08:27:49.897Z"
   },
   {
    "duration": 38,
    "start_time": "2022-02-04T08:27:49.909Z"
   },
   {
    "duration": 36,
    "start_time": "2022-02-04T08:27:49.960Z"
   },
   {
    "duration": 166,
    "start_time": "2022-02-04T08:27:49.998Z"
   },
   {
    "duration": 19,
    "start_time": "2022-02-04T08:27:50.166Z"
   },
   {
    "duration": 173,
    "start_time": "2022-02-04T08:27:50.187Z"
   },
   {
    "duration": 24,
    "start_time": "2022-02-04T08:27:50.362Z"
   },
   {
    "duration": 143,
    "start_time": "2022-02-04T08:27:50.388Z"
   },
   {
    "duration": 410,
    "start_time": "2022-02-04T08:27:50.533Z"
   },
   {
    "duration": 424,
    "start_time": "2022-02-04T08:27:50.945Z"
   },
   {
    "duration": 33,
    "start_time": "2022-02-04T08:29:21.550Z"
   },
   {
    "duration": 165,
    "start_time": "2022-02-04T08:30:00.285Z"
   },
   {
    "duration": 156,
    "start_time": "2022-02-04T08:30:55.550Z"
   },
   {
    "duration": 136,
    "start_time": "2022-02-04T08:31:33.651Z"
   },
   {
    "duration": 12,
    "start_time": "2022-02-04T08:33:19.619Z"
   },
   {
    "duration": 13,
    "start_time": "2022-02-04T08:33:32.993Z"
   },
   {
    "duration": 14,
    "start_time": "2022-02-04T08:34:01.438Z"
   },
   {
    "duration": 67,
    "start_time": "2022-02-04T08:37:05.611Z"
   },
   {
    "duration": 265,
    "start_time": "2022-02-04T08:37:14.002Z"
   },
   {
    "duration": 3048,
    "start_time": "2022-02-04T08:37:20.340Z"
   },
   {
    "duration": 65,
    "start_time": "2022-02-04T08:37:51.223Z"
   },
   {
    "duration": 2732,
    "start_time": "2022-02-04T08:37:56.356Z"
   },
   {
    "duration": 2793,
    "start_time": "2022-02-04T08:38:07.642Z"
   },
   {
    "duration": 183,
    "start_time": "2022-02-04T08:43:49.039Z"
   },
   {
    "duration": 834,
    "start_time": "2022-02-04T08:43:55.637Z"
   },
   {
    "duration": 860,
    "start_time": "2022-02-04T08:44:40.687Z"
   },
   {
    "duration": 808,
    "start_time": "2022-02-04T08:44:53.112Z"
   },
   {
    "duration": 3,
    "start_time": "2022-02-04T08:45:01.337Z"
   },
   {
    "duration": 956,
    "start_time": "2022-02-04T08:45:25.696Z"
   },
   {
    "duration": 14,
    "start_time": "2022-02-04T08:45:54.432Z"
   },
   {
    "duration": 12,
    "start_time": "2022-02-04T08:46:11.724Z"
   },
   {
    "duration": 12,
    "start_time": "2022-02-04T08:46:17.665Z"
   },
   {
    "duration": 981,
    "start_time": "2022-02-04T08:46:23.803Z"
   },
   {
    "duration": 960,
    "start_time": "2022-02-04T08:46:41.428Z"
   },
   {
    "duration": 995,
    "start_time": "2022-02-04T08:48:32.565Z"
   },
   {
    "duration": 851,
    "start_time": "2022-02-04T08:50:27.999Z"
   },
   {
    "duration": 262,
    "start_time": "2022-02-04T08:50:43.056Z"
   },
   {
    "duration": 58,
    "start_time": "2022-02-04T08:51:00.999Z"
   },
   {
    "duration": 59,
    "start_time": "2022-02-04T08:51:12.047Z"
   },
   {
    "duration": 11,
    "start_time": "2022-02-04T08:51:29.970Z"
   },
   {
    "duration": 11,
    "start_time": "2022-02-04T08:51:38.993Z"
   },
   {
    "duration": 13,
    "start_time": "2022-02-04T08:51:53.530Z"
   },
   {
    "duration": 187,
    "start_time": "2022-02-04T08:53:27.140Z"
   },
   {
    "duration": 65,
    "start_time": "2022-02-04T08:55:09.666Z"
   },
   {
    "duration": 59,
    "start_time": "2022-02-04T08:55:17.511Z"
   },
   {
    "duration": 62,
    "start_time": "2022-02-04T08:55:27.515Z"
   },
   {
    "duration": 83,
    "start_time": "2022-02-04T08:57:34.686Z"
   },
   {
    "duration": 100,
    "start_time": "2022-02-04T08:57:45.591Z"
   },
   {
    "duration": 2889,
    "start_time": "2022-02-04T08:58:12.204Z"
   },
   {
    "duration": 68,
    "start_time": "2022-02-04T08:58:43.507Z"
   },
   {
    "duration": 2855,
    "start_time": "2022-02-04T08:58:51.502Z"
   },
   {
    "duration": 2968,
    "start_time": "2022-02-04T08:59:34.909Z"
   },
   {
    "duration": 3238,
    "start_time": "2022-02-04T09:00:27.608Z"
   },
   {
    "duration": 2820,
    "start_time": "2022-02-04T09:01:03.594Z"
   },
   {
    "duration": 63,
    "start_time": "2022-02-04T09:01:18.153Z"
   },
   {
    "duration": 2909,
    "start_time": "2022-02-04T09:02:27.881Z"
   },
   {
    "duration": 3001,
    "start_time": "2022-02-04T09:04:41.520Z"
   },
   {
    "duration": 66,
    "start_time": "2022-02-04T09:04:55.340Z"
   },
   {
    "duration": 3589,
    "start_time": "2022-02-04T09:05:15.517Z"
   },
   {
    "duration": 4312,
    "start_time": "2022-02-04T09:06:38.532Z"
   },
   {
    "duration": 2778,
    "start_time": "2022-02-04T09:07:47.391Z"
   },
   {
    "duration": 55,
    "start_time": "2022-02-04T09:08:09.207Z"
   },
   {
    "duration": 49,
    "start_time": "2022-02-04T09:12:19.683Z"
   },
   {
    "duration": 8,
    "start_time": "2022-02-04T09:13:06.186Z"
   },
   {
    "duration": 7,
    "start_time": "2022-02-04T09:15:04.736Z"
   },
   {
    "duration": 8,
    "start_time": "2022-02-04T09:15:33.397Z"
   },
   {
    "duration": 10,
    "start_time": "2022-02-04T09:17:25.000Z"
   },
   {
    "duration": 1597,
    "start_time": "2022-02-04T15:54:59.058Z"
   },
   {
    "duration": 557,
    "start_time": "2022-02-04T15:55:00.657Z"
   },
   {
    "duration": 235,
    "start_time": "2022-02-04T15:55:01.217Z"
   },
   {
    "duration": 219,
    "start_time": "2022-02-04T15:55:01.455Z"
   },
   {
    "duration": 124,
    "start_time": "2022-02-04T15:55:01.677Z"
   },
   {
    "duration": 17,
    "start_time": "2022-02-04T15:55:01.803Z"
   },
   {
    "duration": 76,
    "start_time": "2022-02-04T15:55:01.823Z"
   },
   {
    "duration": 54,
    "start_time": "2022-02-04T15:55:01.903Z"
   },
   {
    "duration": 277,
    "start_time": "2022-02-04T15:55:01.970Z"
   },
   {
    "duration": 91,
    "start_time": "2022-02-04T15:55:02.250Z"
   },
   {
    "duration": -658,
    "start_time": "2022-02-04T15:55:03.002Z"
   },
   {
    "duration": -662,
    "start_time": "2022-02-04T15:55:03.007Z"
   },
   {
    "duration": -667,
    "start_time": "2022-02-04T15:55:03.014Z"
   },
   {
    "duration": -672,
    "start_time": "2022-02-04T15:55:03.020Z"
   },
   {
    "duration": -678,
    "start_time": "2022-02-04T15:55:03.028Z"
   },
   {
    "duration": -694,
    "start_time": "2022-02-04T15:55:03.045Z"
   },
   {
    "duration": -698,
    "start_time": "2022-02-04T15:55:03.051Z"
   },
   {
    "duration": -702,
    "start_time": "2022-02-04T15:55:03.056Z"
   },
   {
    "duration": -705,
    "start_time": "2022-02-04T15:55:03.061Z"
   },
   {
    "duration": 40,
    "start_time": "2022-02-04T15:56:11.605Z"
   },
   {
    "duration": 25,
    "start_time": "2022-02-04T15:58:22.289Z"
   },
   {
    "duration": 19,
    "start_time": "2022-02-04T16:00:01.838Z"
   },
   {
    "duration": 17,
    "start_time": "2022-02-04T16:00:55.933Z"
   },
   {
    "duration": 15,
    "start_time": "2022-02-04T16:03:01.614Z"
   },
   {
    "duration": 1484,
    "start_time": "2022-02-04T16:03:45.565Z"
   },
   {
    "duration": 527,
    "start_time": "2022-02-04T16:03:47.052Z"
   },
   {
    "duration": 217,
    "start_time": "2022-02-04T16:03:47.582Z"
   },
   {
    "duration": 192,
    "start_time": "2022-02-04T16:03:47.802Z"
   },
   {
    "duration": 119,
    "start_time": "2022-02-04T16:03:47.997Z"
   },
   {
    "duration": 16,
    "start_time": "2022-02-04T16:03:48.118Z"
   },
   {
    "duration": 69,
    "start_time": "2022-02-04T16:03:48.137Z"
   },
   {
    "duration": 66,
    "start_time": "2022-02-04T16:03:48.209Z"
   },
   {
    "duration": 267,
    "start_time": "2022-02-04T16:03:48.278Z"
   },
   {
    "duration": 43,
    "start_time": "2022-02-04T16:03:48.547Z"
   },
   {
    "duration": 29,
    "start_time": "2022-02-04T16:03:48.592Z"
   },
   {
    "duration": 15,
    "start_time": "2022-02-04T16:03:48.624Z"
   },
   {
    "duration": 303,
    "start_time": "2022-02-04T16:03:48.642Z"
   },
   {
    "duration": 27,
    "start_time": "2022-02-04T16:03:48.947Z"
   },
   {
    "duration": 576,
    "start_time": "2022-02-04T16:03:48.978Z"
   },
   {
    "duration": 550,
    "start_time": "2022-02-04T16:03:49.556Z"
   },
   {
    "duration": 108,
    "start_time": "2022-02-04T16:06:30.962Z"
   },
   {
    "duration": 21,
    "start_time": "2022-02-04T16:06:50.444Z"
   },
   {
    "duration": 389,
    "start_time": "2022-02-04T16:08:26.817Z"
   },
   {
    "duration": 8,
    "start_time": "2022-02-04T16:08:32.275Z"
   },
   {
    "duration": 15,
    "start_time": "2022-02-04T16:08:59.403Z"
   },
   {
    "duration": 17,
    "start_time": "2022-02-04T16:09:30.337Z"
   },
   {
    "duration": 8,
    "start_time": "2022-02-04T16:10:00.238Z"
   },
   {
    "duration": 441,
    "start_time": "2022-02-04T21:11:57.627Z"
   },
   {
    "duration": 1487,
    "start_time": "2022-02-04T21:12:04.441Z"
   },
   {
    "duration": 625,
    "start_time": "2022-02-04T21:12:05.931Z"
   },
   {
    "duration": 296,
    "start_time": "2022-02-04T21:12:06.559Z"
   },
   {
    "duration": 273,
    "start_time": "2022-02-04T21:12:06.865Z"
   },
   {
    "duration": 175,
    "start_time": "2022-02-04T21:12:07.142Z"
   },
   {
    "duration": 16,
    "start_time": "2022-02-04T21:12:07.319Z"
   },
   {
    "duration": 57,
    "start_time": "2022-02-04T21:12:07.337Z"
   },
   {
    "duration": 68,
    "start_time": "2022-02-04T21:12:07.398Z"
   },
   {
    "duration": 253,
    "start_time": "2022-02-04T21:12:07.469Z"
   },
   {
    "duration": 37,
    "start_time": "2022-02-04T21:12:07.725Z"
   },
   {
    "duration": 28,
    "start_time": "2022-02-04T21:12:07.764Z"
   },
   {
    "duration": 14,
    "start_time": "2022-02-04T21:12:07.794Z"
   },
   {
    "duration": 289,
    "start_time": "2022-02-04T21:12:07.810Z"
   },
   {
    "duration": 13,
    "start_time": "2022-02-04T21:12:08.101Z"
   },
   {
    "duration": 19,
    "start_time": "2022-02-04T21:12:08.116Z"
   },
   {
    "duration": 8,
    "start_time": "2022-02-04T21:12:08.159Z"
   },
   {
    "duration": 542,
    "start_time": "2022-02-04T21:12:08.169Z"
   },
   {
    "duration": 497,
    "start_time": "2022-02-04T21:12:08.714Z"
   },
   {
    "duration": 270,
    "start_time": "2022-02-04T21:16:34.138Z"
   },
   {
    "duration": 285,
    "start_time": "2022-02-04T21:16:56.650Z"
   },
   {
    "duration": 280,
    "start_time": "2022-02-04T21:17:07.838Z"
   },
   {
    "duration": 313,
    "start_time": "2022-02-04T21:17:11.739Z"
   },
   {
    "duration": 329,
    "start_time": "2022-02-04T21:17:22.300Z"
   },
   {
    "duration": 432,
    "start_time": "2022-02-04T21:17:39.529Z"
   },
   {
    "duration": 433,
    "start_time": "2022-02-04T21:18:10.529Z"
   },
   {
    "duration": 621,
    "start_time": "2022-02-04T21:20:40.099Z"
   },
   {
    "duration": 547,
    "start_time": "2022-02-04T21:21:20.944Z"
   },
   {
    "duration": 10,
    "start_time": "2022-02-04T21:21:30.019Z"
   },
   {
    "duration": 115,
    "start_time": "2022-02-04T21:25:33.033Z"
   },
   {
    "duration": 8,
    "start_time": "2022-02-04T21:25:49.588Z"
   },
   {
    "duration": 16,
    "start_time": "2022-02-04T21:28:20.852Z"
   },
   {
    "duration": 6,
    "start_time": "2022-02-04T21:31:39.796Z"
   },
   {
    "duration": 40,
    "start_time": "2022-02-04T21:31:54.539Z"
   },
   {
    "duration": 23,
    "start_time": "2022-02-04T21:33:02.280Z"
   },
   {
    "duration": 187,
    "start_time": "2022-02-04T21:34:58.404Z"
   },
   {
    "duration": 14325,
    "start_time": "2022-02-04T21:35:15.064Z"
   },
   {
    "duration": 15849,
    "start_time": "2022-02-04T21:35:32.612Z"
   },
   {
    "duration": 24,
    "start_time": "2022-02-04T21:39:00.339Z"
   },
   {
    "duration": 22,
    "start_time": "2022-02-04T21:39:32.805Z"
   },
   {
    "duration": 28,
    "start_time": "2022-02-04T21:40:31.720Z"
   },
   {
    "duration": 30,
    "start_time": "2022-02-04T22:11:17.938Z"
   },
   {
    "duration": 11,
    "start_time": "2022-02-04T22:24:58.832Z"
   },
   {
    "duration": 25,
    "start_time": "2022-02-04T22:25:03.686Z"
   },
   {
    "duration": 37,
    "start_time": "2022-02-04T22:25:07.958Z"
   },
   {
    "duration": 23,
    "start_time": "2022-02-04T22:25:58.620Z"
   },
   {
    "duration": 22,
    "start_time": "2022-02-04T22:26:09.094Z"
   },
   {
    "duration": 5,
    "start_time": "2022-02-04T22:33:52.721Z"
   },
   {
    "duration": 5,
    "start_time": "2022-02-04T22:34:11.772Z"
   },
   {
    "duration": 2387,
    "start_time": "2022-02-04T22:35:12.906Z"
   },
   {
    "duration": 14,
    "start_time": "2022-02-04T22:35:16.149Z"
   },
   {
    "duration": 5,
    "start_time": "2022-02-04T22:37:41.300Z"
   },
   {
    "duration": 17,
    "start_time": "2022-02-04T22:37:47.850Z"
   },
   {
    "duration": 459,
    "start_time": "2022-02-04T22:44:15.908Z"
   },
   {
    "duration": 2683,
    "start_time": "2022-02-04T22:45:40.243Z"
   },
   {
    "duration": 2689,
    "start_time": "2022-02-04T22:46:43.390Z"
   },
   {
    "duration": 25,
    "start_time": "2022-02-04T22:46:59.327Z"
   },
   {
    "duration": 2792,
    "start_time": "2022-02-04T22:48:25.578Z"
   },
   {
    "duration": 28,
    "start_time": "2022-02-04T22:49:02.968Z"
   },
   {
    "duration": 480,
    "start_time": "2022-02-04T22:57:11.575Z"
   },
   {
    "duration": 484,
    "start_time": "2022-02-04T22:57:26.027Z"
   },
   {
    "duration": 2170,
    "start_time": "2022-02-04T22:57:55.499Z"
   },
   {
    "duration": 387,
    "start_time": "2022-02-05T08:22:30.745Z"
   },
   {
    "duration": 1061,
    "start_time": "2022-02-05T08:22:43.977Z"
   },
   {
    "duration": 359,
    "start_time": "2022-02-05T08:22:45.039Z"
   },
   {
    "duration": 127,
    "start_time": "2022-02-05T08:22:45.400Z"
   },
   {
    "duration": 98,
    "start_time": "2022-02-05T08:22:45.529Z"
   },
   {
    "duration": 74,
    "start_time": "2022-02-05T08:22:45.628Z"
   },
   {
    "duration": 10,
    "start_time": "2022-02-05T08:22:45.703Z"
   },
   {
    "duration": 27,
    "start_time": "2022-02-05T08:22:45.715Z"
   },
   {
    "duration": 43,
    "start_time": "2022-02-05T08:22:45.744Z"
   },
   {
    "duration": 162,
    "start_time": "2022-02-05T08:22:45.789Z"
   },
   {
    "duration": 28,
    "start_time": "2022-02-05T08:22:45.952Z"
   },
   {
    "duration": 19,
    "start_time": "2022-02-05T08:22:45.982Z"
   },
   {
    "duration": 10,
    "start_time": "2022-02-05T08:22:46.003Z"
   },
   {
    "duration": 175,
    "start_time": "2022-02-05T08:22:46.015Z"
   },
   {
    "duration": 1589,
    "start_time": "2022-02-05T08:22:46.191Z"
   },
   {
    "duration": 16,
    "start_time": "2022-02-05T08:22:47.782Z"
   },
   {
    "duration": 97,
    "start_time": "2022-02-05T08:22:47.799Z"
   },
   {
    "duration": 8,
    "start_time": "2022-02-05T08:22:47.898Z"
   },
   {
    "duration": 9,
    "start_time": "2022-02-05T08:22:47.908Z"
   },
   {
    "duration": 5,
    "start_time": "2022-02-05T08:22:47.919Z"
   },
   {
    "duration": 131,
    "start_time": "2022-02-05T08:22:47.926Z"
   },
   {
    "duration": 233,
    "start_time": "2022-02-05T08:22:48.058Z"
   },
   {
    "duration": 8,
    "start_time": "2022-02-05T08:22:48.293Z"
   },
   {
    "duration": 6,
    "start_time": "2022-02-05T08:22:48.304Z"
   },
   {
    "duration": 15,
    "start_time": "2022-02-05T08:22:48.311Z"
   },
   {
    "duration": 11,
    "start_time": "2022-02-05T08:22:48.328Z"
   },
   {
    "duration": 6,
    "start_time": "2022-02-05T08:22:48.372Z"
   },
   {
    "duration": 8,
    "start_time": "2022-02-05T08:22:48.380Z"
   },
   {
    "duration": 341,
    "start_time": "2022-02-05T08:22:48.390Z"
   },
   {
    "duration": 350,
    "start_time": "2022-02-05T08:22:48.732Z"
   },
   {
    "duration": 90,
    "start_time": "2022-02-05T08:24:37.704Z"
   },
   {
    "duration": 89,
    "start_time": "2022-02-05T08:43:20.871Z"
   },
   {
    "duration": 84,
    "start_time": "2022-02-05T09:39:44.159Z"
   },
   {
    "duration": 89,
    "start_time": "2022-02-05T09:39:59.005Z"
   },
   {
    "duration": 89,
    "start_time": "2022-02-05T09:40:23.463Z"
   },
   {
    "duration": 16,
    "start_time": "2022-02-05T14:57:45.144Z"
   },
   {
    "duration": 8,
    "start_time": "2022-02-05T14:57:57.654Z"
   },
   {
    "duration": 8,
    "start_time": "2022-02-05T14:58:02.062Z"
   },
   {
    "duration": 9,
    "start_time": "2022-02-05T14:58:13.182Z"
   },
   {
    "duration": 8,
    "start_time": "2022-02-05T14:58:59.263Z"
   },
   {
    "duration": 13,
    "start_time": "2022-02-05T14:59:16.974Z"
   },
   {
    "duration": 6,
    "start_time": "2022-02-05T14:59:50.355Z"
   },
   {
    "duration": 5,
    "start_time": "2022-02-05T14:59:57.425Z"
   },
   {
    "duration": 5,
    "start_time": "2022-02-05T15:00:01.744Z"
   },
   {
    "duration": 5,
    "start_time": "2022-02-05T15:00:18.410Z"
   },
   {
    "duration": 5,
    "start_time": "2022-02-05T15:00:23.172Z"
   },
   {
    "duration": 6,
    "start_time": "2022-02-05T15:00:27.992Z"
   },
   {
    "duration": 73,
    "start_time": "2022-02-05T15:01:49.924Z"
   },
   {
    "duration": 103,
    "start_time": "2022-02-05T15:02:58.242Z"
   },
   {
    "duration": 15,
    "start_time": "2022-02-05T15:03:02.139Z"
   },
   {
    "duration": 10,
    "start_time": "2022-02-05T15:06:02.011Z"
   },
   {
    "duration": 9,
    "start_time": "2022-02-05T15:06:13.748Z"
   },
   {
    "duration": 9,
    "start_time": "2022-02-05T15:06:18.411Z"
   },
   {
    "duration": 15,
    "start_time": "2022-02-05T15:06:30.377Z"
   },
   {
    "duration": 5,
    "start_time": "2022-02-05T15:06:48.815Z"
   },
   {
    "duration": 1476,
    "start_time": "2022-02-05T21:26:42.221Z"
   },
   {
    "duration": 494,
    "start_time": "2022-02-05T21:26:43.700Z"
   },
   {
    "duration": 201,
    "start_time": "2022-02-05T21:26:44.197Z"
   },
   {
    "duration": 182,
    "start_time": "2022-02-05T21:26:44.403Z"
   },
   {
    "duration": 109,
    "start_time": "2022-02-05T21:26:44.587Z"
   },
   {
    "duration": 31,
    "start_time": "2022-02-05T21:26:44.699Z"
   },
   {
    "duration": 52,
    "start_time": "2022-02-05T21:26:44.732Z"
   },
   {
    "duration": 73,
    "start_time": "2022-02-05T21:26:44.787Z"
   },
   {
    "duration": 267,
    "start_time": "2022-02-05T21:26:44.863Z"
   },
   {
    "duration": 30,
    "start_time": "2022-02-05T21:26:45.132Z"
   },
   {
    "duration": 28,
    "start_time": "2022-02-05T21:26:45.164Z"
   },
   {
    "duration": 39,
    "start_time": "2022-02-05T21:26:45.194Z"
   },
   {
    "duration": 262,
    "start_time": "2022-02-05T21:26:45.236Z"
   },
   {
    "duration": 2530,
    "start_time": "2022-02-05T21:26:45.501Z"
   },
   {
    "duration": 25,
    "start_time": "2022-02-05T21:26:48.034Z"
   },
   {
    "duration": 162,
    "start_time": "2022-02-05T21:26:48.062Z"
   },
   {
    "duration": 23,
    "start_time": "2022-02-05T21:26:48.227Z"
   },
   {
    "duration": 25,
    "start_time": "2022-02-05T21:26:48.253Z"
   },
   {
    "duration": 6,
    "start_time": "2022-02-05T21:26:48.280Z"
   },
   {
    "duration": 22,
    "start_time": "2022-02-05T21:26:48.324Z"
   },
   {
    "duration": 18,
    "start_time": "2022-02-05T21:26:48.349Z"
   },
   {
    "duration": 10,
    "start_time": "2022-02-05T21:26:48.370Z"
   },
   {
    "duration": 288,
    "start_time": "2022-02-05T21:26:48.386Z"
   },
   {
    "duration": 422,
    "start_time": "2022-02-05T21:26:48.677Z"
   },
   {
    "duration": 26,
    "start_time": "2022-02-05T21:26:49.101Z"
   },
   {
    "duration": 9,
    "start_time": "2022-02-05T21:26:49.129Z"
   },
   {
    "duration": 26,
    "start_time": "2022-02-05T21:26:49.141Z"
   },
   {
    "duration": 53,
    "start_time": "2022-02-05T21:26:49.170Z"
   },
   {
    "duration": 11,
    "start_time": "2022-02-05T21:26:49.226Z"
   },
   {
    "duration": 14,
    "start_time": "2022-02-05T21:26:49.239Z"
   },
   {
    "duration": 553,
    "start_time": "2022-02-05T21:26:49.255Z"
   },
   {
    "duration": 490,
    "start_time": "2022-02-05T21:26:49.810Z"
   },
   {
    "duration": 6,
    "start_time": "2022-02-05T21:30:46.379Z"
   },
   {
    "duration": 19,
    "start_time": "2022-02-05T21:32:12.883Z"
   },
   {
    "duration": 149,
    "start_time": "2022-02-05T21:44:28.210Z"
   },
   {
    "duration": 9,
    "start_time": "2022-02-05T21:47:59.640Z"
   },
   {
    "duration": 92,
    "start_time": "2022-02-05T21:50:28.210Z"
   },
   {
    "duration": 413,
    "start_time": "2022-02-05T21:50:45.361Z"
   },
   {
    "duration": 10,
    "start_time": "2022-02-05T21:50:49.188Z"
   },
   {
    "duration": 70,
    "start_time": "2022-02-05T22:21:10.669Z"
   },
   {
    "duration": 691,
    "start_time": "2022-02-05T22:24:23.143Z"
   },
   {
    "duration": 40,
    "start_time": "2022-02-05T22:27:54.780Z"
   },
   {
    "duration": 35,
    "start_time": "2022-02-05T22:28:06.039Z"
   },
   {
    "duration": 41,
    "start_time": "2022-02-05T22:29:12.504Z"
   },
   {
    "duration": 41,
    "start_time": "2022-02-05T22:29:32.266Z"
   },
   {
    "duration": 310,
    "start_time": "2022-02-05T22:36:51.782Z"
   },
   {
    "duration": 49,
    "start_time": "2022-02-05T22:36:58.002Z"
   },
   {
    "duration": 33,
    "start_time": "2022-02-05T22:37:58.751Z"
   },
   {
    "duration": 339,
    "start_time": "2022-02-05T22:38:14.883Z"
   },
   {
    "duration": 38,
    "start_time": "2022-02-05T22:38:20.747Z"
   },
   {
    "duration": 43,
    "start_time": "2022-02-05T22:38:52.302Z"
   },
   {
    "duration": 41,
    "start_time": "2022-02-05T22:39:21.844Z"
   },
   {
    "duration": 45,
    "start_time": "2022-02-05T22:39:27.069Z"
   },
   {
    "duration": 49,
    "start_time": "2022-02-05T22:39:35.001Z"
   },
   {
    "duration": 55,
    "start_time": "2022-02-05T22:39:43.127Z"
   },
   {
    "duration": 7336,
    "start_time": "2022-02-05T22:40:40.654Z"
   },
   {
    "duration": 7278,
    "start_time": "2022-02-05T22:41:34.621Z"
   },
   {
    "duration": 74,
    "start_time": "2022-02-05T22:41:57.229Z"
   },
   {
    "duration": 52,
    "start_time": "2022-02-05T22:42:56.678Z"
   },
   {
    "duration": 7141,
    "start_time": "2022-02-05T22:43:52.779Z"
   },
   {
    "duration": 7466,
    "start_time": "2022-02-05T22:44:08.889Z"
   },
   {
    "duration": 363,
    "start_time": "2022-02-05T22:44:34.884Z"
   },
   {
    "duration": 7822,
    "start_time": "2022-02-05T22:44:53.814Z"
   },
   {
    "duration": 422,
    "start_time": "2022-02-05T22:45:14.551Z"
   },
   {
    "duration": 94,
    "start_time": "2022-02-05T22:46:06.898Z"
   },
   {
    "duration": 47,
    "start_time": "2022-02-05T22:46:24.550Z"
   },
   {
    "duration": 50,
    "start_time": "2022-02-05T22:46:39.001Z"
   },
   {
    "duration": 352,
    "start_time": "2022-02-05T22:46:53.970Z"
   },
   {
    "duration": 347,
    "start_time": "2022-02-05T22:47:25.893Z"
   },
   {
    "duration": 334,
    "start_time": "2022-02-05T22:47:33.605Z"
   },
   {
    "duration": 330,
    "start_time": "2022-02-05T22:47:41.823Z"
   },
   {
    "duration": 867,
    "start_time": "2022-02-05T22:48:17.530Z"
   },
   {
    "duration": 1598,
    "start_time": "2022-02-06T08:35:02.644Z"
   },
   {
    "duration": 520,
    "start_time": "2022-02-06T08:35:04.245Z"
   },
   {
    "duration": 226,
    "start_time": "2022-02-06T08:35:04.773Z"
   },
   {
    "duration": 184,
    "start_time": "2022-02-06T08:35:05.001Z"
   },
   {
    "duration": 114,
    "start_time": "2022-02-06T08:35:05.187Z"
   },
   {
    "duration": 16,
    "start_time": "2022-02-06T08:35:05.303Z"
   },
   {
    "duration": 68,
    "start_time": "2022-02-06T08:35:05.323Z"
   },
   {
    "duration": 41,
    "start_time": "2022-02-06T08:35:05.394Z"
   },
   {
    "duration": 281,
    "start_time": "2022-02-06T08:35:05.437Z"
   },
   {
    "duration": 29,
    "start_time": "2022-02-06T08:35:05.721Z"
   },
   {
    "duration": 41,
    "start_time": "2022-02-06T08:35:05.752Z"
   },
   {
    "duration": 14,
    "start_time": "2022-02-06T08:35:05.795Z"
   },
   {
    "duration": 285,
    "start_time": "2022-02-06T08:35:05.812Z"
   },
   {
    "duration": 2834,
    "start_time": "2022-02-06T08:35:06.099Z"
   },
   {
    "duration": 38,
    "start_time": "2022-02-06T08:35:08.935Z"
   },
   {
    "duration": 142,
    "start_time": "2022-02-06T08:35:08.975Z"
   },
   {
    "duration": 49,
    "start_time": "2022-02-06T08:35:09.119Z"
   },
   {
    "duration": 74,
    "start_time": "2022-02-06T08:35:09.178Z"
   },
   {
    "duration": 60,
    "start_time": "2022-02-06T08:35:09.255Z"
   },
   {
    "duration": 16,
    "start_time": "2022-02-06T08:35:09.318Z"
   },
   {
    "duration": 20,
    "start_time": "2022-02-06T08:35:09.337Z"
   },
   {
    "duration": 17,
    "start_time": "2022-02-06T08:35:09.364Z"
   },
   {
    "duration": 10,
    "start_time": "2022-02-06T08:35:09.384Z"
   },
   {
    "duration": 246,
    "start_time": "2022-02-06T08:35:09.397Z"
   },
   {
    "duration": 446,
    "start_time": "2022-02-06T08:35:09.645Z"
   },
   {
    "duration": 14,
    "start_time": "2022-02-06T08:35:10.094Z"
   },
   {
    "duration": 11,
    "start_time": "2022-02-06T08:35:10.110Z"
   },
   {
    "duration": 60,
    "start_time": "2022-02-06T08:35:10.123Z"
   },
   {
    "duration": 23,
    "start_time": "2022-02-06T08:35:10.185Z"
   },
   {
    "duration": 14,
    "start_time": "2022-02-06T08:35:10.211Z"
   },
   {
    "duration": 51,
    "start_time": "2022-02-06T08:35:10.228Z"
   },
   {
    "duration": 155,
    "start_time": "2022-02-06T08:35:10.281Z"
   },
   {
    "duration": 105,
    "start_time": "2022-02-06T08:35:10.438Z"
   },
   {
    "duration": 81,
    "start_time": "2022-02-06T08:35:10.545Z"
   },
   {
    "duration": 835,
    "start_time": "2022-02-06T08:35:10.628Z"
   },
   {
    "duration": 1082,
    "start_time": "2022-02-06T08:35:11.466Z"
   },
   {
    "duration": -363,
    "start_time": "2022-02-06T08:35:12.913Z"
   },
   {
    "duration": 636,
    "start_time": "2022-02-06T08:35:55.649Z"
   },
   {
    "duration": 1014,
    "start_time": "2022-02-06T08:36:35.324Z"
   },
   {
    "duration": 1013,
    "start_time": "2022-02-06T08:36:49.756Z"
   },
   {
    "duration": 766,
    "start_time": "2022-02-06T08:39:32.913Z"
   },
   {
    "duration": 19,
    "start_time": "2022-02-06T08:41:29.306Z"
   },
   {
    "duration": 989,
    "start_time": "2022-02-06T08:42:48.242Z"
   },
   {
    "duration": 26,
    "start_time": "2022-02-06T08:42:51.768Z"
   },
   {
    "duration": 1110,
    "start_time": "2022-02-06T08:43:16.454Z"
   },
   {
    "duration": 1188,
    "start_time": "2022-02-06T08:43:33.342Z"
   },
   {
    "duration": 1095,
    "start_time": "2022-02-06T08:43:48.715Z"
   },
   {
    "duration": 1115,
    "start_time": "2022-02-06T08:44:03.345Z"
   },
   {
    "duration": 863,
    "start_time": "2022-02-06T08:44:06.125Z"
   },
   {
    "duration": 23,
    "start_time": "2022-02-06T08:44:19.914Z"
   },
   {
    "duration": 14,
    "start_time": "2022-02-06T08:44:31.327Z"
   },
   {
    "duration": 13,
    "start_time": "2022-02-06T08:44:59.693Z"
   },
   {
    "duration": 1107,
    "start_time": "2022-02-06T08:46:11.196Z"
   },
   {
    "duration": 17,
    "start_time": "2022-02-06T08:46:16.124Z"
   },
   {
    "duration": 341,
    "start_time": "2022-02-06T08:46:47.914Z"
   },
   {
    "duration": 806,
    "start_time": "2022-02-06T08:46:57.738Z"
   },
   {
    "duration": 358,
    "start_time": "2022-02-06T08:51:10.296Z"
   },
   {
    "duration": 353,
    "start_time": "2022-02-06T08:51:44.455Z"
   },
   {
    "duration": 332,
    "start_time": "2022-02-06T08:51:49.640Z"
   },
   {
    "duration": 501,
    "start_time": "2022-02-06T08:51:58.239Z"
   },
   {
    "duration": 369,
    "start_time": "2022-02-06T08:55:24.434Z"
   },
   {
    "duration": 363,
    "start_time": "2022-02-06T08:55:54.250Z"
   },
   {
    "duration": 342,
    "start_time": "2022-02-06T08:56:02.667Z"
   },
   {
    "duration": 341,
    "start_time": "2022-02-06T08:57:37.022Z"
   },
   {
    "duration": 534,
    "start_time": "2022-02-06T08:57:50.128Z"
   },
   {
    "duration": 691,
    "start_time": "2022-02-06T08:58:08.318Z"
   },
   {
    "duration": 821,
    "start_time": "2022-02-06T08:59:25.832Z"
   },
   {
    "duration": 715,
    "start_time": "2022-02-06T09:00:41.470Z"
   },
   {
    "duration": 765,
    "start_time": "2022-02-06T09:00:57.621Z"
   },
   {
    "duration": 1059,
    "start_time": "2022-02-06T09:01:19.978Z"
   },
   {
    "duration": 847,
    "start_time": "2022-02-06T09:02:02.933Z"
   },
   {
    "duration": 1181,
    "start_time": "2022-02-06T09:02:34.164Z"
   },
   {
    "duration": 1025,
    "start_time": "2022-02-06T09:03:03.426Z"
   },
   {
    "duration": 128,
    "start_time": "2022-02-06T09:06:55.036Z"
   },
   {
    "duration": 1281,
    "start_time": "2022-02-06T09:07:28.704Z"
   },
   {
    "duration": 1031,
    "start_time": "2022-02-06T09:08:21.815Z"
   },
   {
    "duration": 1080,
    "start_time": "2022-02-06T09:08:28.080Z"
   },
   {
    "duration": 1069,
    "start_time": "2022-02-06T09:08:35.828Z"
   },
   {
    "duration": 1216,
    "start_time": "2022-02-06T09:08:55.370Z"
   },
   {
    "duration": 1109,
    "start_time": "2022-02-06T09:09:24.264Z"
   },
   {
    "duration": 1189,
    "start_time": "2022-02-06T09:09:48.224Z"
   },
   {
    "duration": 1111,
    "start_time": "2022-02-06T09:10:01.195Z"
   },
   {
    "duration": 334,
    "start_time": "2022-02-06T09:13:31.232Z"
   },
   {
    "duration": 291,
    "start_time": "2022-02-06T09:13:49.718Z"
   },
   {
    "duration": 495,
    "start_time": "2022-02-06T09:14:06.563Z"
   },
   {
    "duration": 290,
    "start_time": "2022-02-06T09:14:47.162Z"
   },
   {
    "duration": 316,
    "start_time": "2022-02-06T09:15:04.572Z"
   },
   {
    "duration": 340,
    "start_time": "2022-02-06T09:15:12.915Z"
   },
   {
    "duration": 336,
    "start_time": "2022-02-06T09:15:47.760Z"
   },
   {
    "duration": 315,
    "start_time": "2022-02-06T09:16:03.763Z"
   },
   {
    "duration": 249,
    "start_time": "2022-02-06T09:16:48.389Z"
   },
   {
    "duration": 292,
    "start_time": "2022-02-06T09:16:58.555Z"
   },
   {
    "duration": 204,
    "start_time": "2022-02-06T09:17:31.100Z"
   },
   {
    "duration": 281,
    "start_time": "2022-02-06T09:21:39.147Z"
   },
   {
    "duration": 466,
    "start_time": "2022-02-06T09:21:47.813Z"
   },
   {
    "duration": 421,
    "start_time": "2022-02-06T09:22:01.671Z"
   },
   {
    "duration": 97,
    "start_time": "2022-02-06T09:22:10.679Z"
   },
   {
    "duration": 995,
    "start_time": "2022-02-06T09:25:32.968Z"
   },
   {
    "duration": 96,
    "start_time": "2022-02-06T09:27:38.704Z"
   },
   {
    "duration": 1099,
    "start_time": "2022-02-06T09:27:45.226Z"
   },
   {
    "duration": 1154,
    "start_time": "2022-02-06T09:27:52.752Z"
   },
   {
    "duration": 124,
    "start_time": "2022-02-06T09:29:51.864Z"
   },
   {
    "duration": 25,
    "start_time": "2022-02-06T09:32:24.167Z"
   },
   {
    "duration": 1135,
    "start_time": "2022-02-06T09:34:11.014Z"
   },
   {
    "duration": 744,
    "start_time": "2022-02-06T09:34:53.625Z"
   },
   {
    "duration": 622,
    "start_time": "2022-02-06T09:35:06.083Z"
   },
   {
    "duration": 713,
    "start_time": "2022-02-06T09:36:38.067Z"
   },
   {
    "duration": 1004,
    "start_time": "2022-02-06T09:39:30.450Z"
   },
   {
    "duration": 1124,
    "start_time": "2022-02-06T09:39:34.498Z"
   },
   {
    "duration": 860,
    "start_time": "2022-02-06T09:42:13.282Z"
   },
   {
    "duration": 821,
    "start_time": "2022-02-06T09:43:23.209Z"
   },
   {
    "duration": 975,
    "start_time": "2022-02-06T09:44:01.126Z"
   },
   {
    "duration": 777,
    "start_time": "2022-02-06T09:44:08.914Z"
   },
   {
    "duration": 665,
    "start_time": "2022-02-06T09:45:12.737Z"
   },
   {
    "duration": 628,
    "start_time": "2022-02-06T09:45:20.575Z"
   },
   {
    "duration": 86,
    "start_time": "2022-02-06T09:48:41.402Z"
   },
   {
    "duration": 115,
    "start_time": "2022-02-06T09:48:43.797Z"
   },
   {
    "duration": 1087,
    "start_time": "2022-02-06T10:12:06.550Z"
   },
   {
    "duration": 642,
    "start_time": "2022-02-06T10:16:12.869Z"
   },
   {
    "duration": 620,
    "start_time": "2022-02-06T10:18:31.308Z"
   },
   {
    "duration": 530,
    "start_time": "2022-02-06T10:21:13.444Z"
   },
   {
    "duration": 4,
    "start_time": "2022-02-06T10:24:39.517Z"
   },
   {
    "duration": 979,
    "start_time": "2022-02-06T10:24:41.126Z"
   },
   {
    "duration": 874,
    "start_time": "2022-02-06T10:24:55.349Z"
   },
   {
    "duration": 965,
    "start_time": "2022-02-06T10:25:50.872Z"
   },
   {
    "duration": 977,
    "start_time": "2022-02-06T10:26:26.865Z"
   },
   {
    "duration": 823,
    "start_time": "2022-02-06T10:27:21.517Z"
   },
   {
    "duration": 697,
    "start_time": "2022-02-06T10:27:52.296Z"
   },
   {
    "duration": 5,
    "start_time": "2022-02-06T10:28:17.538Z"
   },
   {
    "duration": 691,
    "start_time": "2022-02-06T10:28:19.997Z"
   },
   {
    "duration": 862,
    "start_time": "2022-02-06T10:33:25.692Z"
   },
   {
    "duration": 861,
    "start_time": "2022-02-06T10:33:41.392Z"
   },
   {
    "duration": 999,
    "start_time": "2022-02-06T10:34:43.656Z"
   },
   {
    "duration": 924,
    "start_time": "2022-02-06T10:35:15.002Z"
   },
   {
    "duration": 1062,
    "start_time": "2022-02-06T10:35:25.757Z"
   },
   {
    "duration": 563,
    "start_time": "2022-02-06T10:38:25.573Z"
   },
   {
    "duration": 577,
    "start_time": "2022-02-06T10:38:31.911Z"
   },
   {
    "duration": 536,
    "start_time": "2022-02-06T10:39:02.898Z"
   },
   {
    "duration": 706,
    "start_time": "2022-02-06T10:39:22.479Z"
   },
   {
    "duration": 802,
    "start_time": "2022-02-06T10:39:49.847Z"
   },
   {
    "duration": 5,
    "start_time": "2022-02-06T10:53:37.314Z"
   },
   {
    "duration": 4,
    "start_time": "2022-02-06T10:53:42.692Z"
   },
   {
    "duration": 6,
    "start_time": "2022-02-06T10:54:02.564Z"
   },
   {
    "duration": 8,
    "start_time": "2022-02-06T10:54:22.726Z"
   },
   {
    "duration": 11,
    "start_time": "2022-02-06T10:54:55.259Z"
   },
   {
    "duration": 5,
    "start_time": "2022-02-06T10:56:05.714Z"
   },
   {
    "duration": 308,
    "start_time": "2022-02-06T11:03:26.687Z"
   },
   {
    "duration": 1446,
    "start_time": "2022-02-06T11:03:35.908Z"
   },
   {
    "duration": 580,
    "start_time": "2022-02-06T11:03:37.356Z"
   },
   {
    "duration": 292,
    "start_time": "2022-02-06T11:03:37.940Z"
   },
   {
    "duration": 246,
    "start_time": "2022-02-06T11:03:38.235Z"
   },
   {
    "duration": 132,
    "start_time": "2022-02-06T11:03:38.484Z"
   },
   {
    "duration": 18,
    "start_time": "2022-02-06T11:03:38.619Z"
   },
   {
    "duration": 84,
    "start_time": "2022-02-06T11:03:38.640Z"
   },
   {
    "duration": 92,
    "start_time": "2022-02-06T11:03:38.729Z"
   },
   {
    "duration": 380,
    "start_time": "2022-02-06T11:03:38.824Z"
   },
   {
    "duration": 44,
    "start_time": "2022-02-06T11:03:39.207Z"
   },
   {
    "duration": 34,
    "start_time": "2022-02-06T11:03:39.270Z"
   },
   {
    "duration": 15,
    "start_time": "2022-02-06T11:03:39.306Z"
   },
   {
    "duration": 293,
    "start_time": "2022-02-06T11:03:39.324Z"
   },
   {
    "duration": 2656,
    "start_time": "2022-02-06T11:03:39.620Z"
   },
   {
    "duration": 24,
    "start_time": "2022-02-06T11:03:42.279Z"
   },
   {
    "duration": 159,
    "start_time": "2022-02-06T11:03:42.305Z"
   },
   {
    "duration": 24,
    "start_time": "2022-02-06T11:03:42.469Z"
   },
   {
    "duration": 25,
    "start_time": "2022-02-06T11:03:42.495Z"
   },
   {
    "duration": 6,
    "start_time": "2022-02-06T11:03:42.522Z"
   },
   {
    "duration": 49,
    "start_time": "2022-02-06T11:03:42.530Z"
   },
   {
    "duration": 28,
    "start_time": "2022-02-06T11:03:42.582Z"
   },
   {
    "duration": 22,
    "start_time": "2022-02-06T11:03:42.613Z"
   },
   {
    "duration": 29,
    "start_time": "2022-02-06T11:03:42.642Z"
   },
   {
    "duration": 225,
    "start_time": "2022-02-06T11:03:42.675Z"
   },
   {
    "duration": 432,
    "start_time": "2022-02-06T11:03:42.903Z"
   },
   {
    "duration": 33,
    "start_time": "2022-02-06T11:03:43.338Z"
   },
   {
    "duration": 10,
    "start_time": "2022-02-06T11:03:43.373Z"
   },
   {
    "duration": 42,
    "start_time": "2022-02-06T11:03:43.386Z"
   },
   {
    "duration": 39,
    "start_time": "2022-02-06T11:03:43.431Z"
   },
   {
    "duration": 12,
    "start_time": "2022-02-06T11:03:43.473Z"
   },
   {
    "duration": 24,
    "start_time": "2022-02-06T11:03:43.487Z"
   },
   {
    "duration": 175,
    "start_time": "2022-02-06T11:03:43.513Z"
   },
   {
    "duration": 97,
    "start_time": "2022-02-06T11:03:43.690Z"
   },
   {
    "duration": 81,
    "start_time": "2022-02-06T11:03:43.790Z"
   },
   {
    "duration": 683,
    "start_time": "2022-02-06T11:03:43.873Z"
   },
   {
    "duration": 18,
    "start_time": "2022-02-06T11:03:44.559Z"
   },
   {
    "duration": 25,
    "start_time": "2022-02-06T11:03:44.580Z"
   },
   {
    "duration": 996,
    "start_time": "2022-02-06T11:03:44.608Z"
   },
   {
    "duration": 116,
    "start_time": "2022-02-06T11:03:45.606Z"
   },
   {
    "duration": 672,
    "start_time": "2022-02-06T11:03:45.725Z"
   },
   {
    "duration": 555,
    "start_time": "2022-02-06T11:03:46.401Z"
   },
   {
    "duration": 317,
    "start_time": "2022-02-06T11:06:09.432Z"
   },
   {
    "duration": 1576,
    "start_time": "2022-02-06T11:06:16.383Z"
   },
   {
    "duration": 515,
    "start_time": "2022-02-06T11:06:17.962Z"
   },
   {
    "duration": 208,
    "start_time": "2022-02-06T11:06:18.480Z"
   },
   {
    "duration": 195,
    "start_time": "2022-02-06T11:06:18.691Z"
   },
   {
    "duration": 131,
    "start_time": "2022-02-06T11:06:18.889Z"
   },
   {
    "duration": 18,
    "start_time": "2022-02-06T11:06:19.023Z"
   },
   {
    "duration": 66,
    "start_time": "2022-02-06T11:06:19.043Z"
   },
   {
    "duration": 67,
    "start_time": "2022-02-06T11:06:19.113Z"
   },
   {
    "duration": 257,
    "start_time": "2022-02-06T11:06:19.183Z"
   },
   {
    "duration": 41,
    "start_time": "2022-02-06T11:06:19.443Z"
   },
   {
    "duration": 32,
    "start_time": "2022-02-06T11:06:19.487Z"
   },
   {
    "duration": 47,
    "start_time": "2022-02-06T11:06:19.522Z"
   },
   {
    "duration": 288,
    "start_time": "2022-02-06T11:06:19.573Z"
   },
   {
    "duration": 2592,
    "start_time": "2022-02-06T11:06:19.868Z"
   },
   {
    "duration": 28,
    "start_time": "2022-02-06T11:06:22.463Z"
   },
   {
    "duration": 153,
    "start_time": "2022-02-06T11:06:22.493Z"
   },
   {
    "duration": 33,
    "start_time": "2022-02-06T11:06:22.648Z"
   },
   {
    "duration": 27,
    "start_time": "2022-02-06T11:06:22.684Z"
   },
   {
    "duration": 5,
    "start_time": "2022-02-06T11:06:22.714Z"
   },
   {
    "duration": 50,
    "start_time": "2022-02-06T11:06:22.721Z"
   },
   {
    "duration": 21,
    "start_time": "2022-02-06T11:06:22.774Z"
   },
   {
    "duration": 17,
    "start_time": "2022-02-06T11:06:22.798Z"
   },
   {
    "duration": 8,
    "start_time": "2022-02-06T11:06:22.821Z"
   },
   {
    "duration": 263,
    "start_time": "2022-02-06T11:06:22.832Z"
   },
   {
    "duration": 455,
    "start_time": "2022-02-06T11:06:23.097Z"
   },
   {
    "duration": 23,
    "start_time": "2022-02-06T11:06:23.554Z"
   },
   {
    "duration": 14,
    "start_time": "2022-02-06T11:06:23.579Z"
   },
   {
    "duration": 28,
    "start_time": "2022-02-06T11:06:23.595Z"
   },
   {
    "duration": 60,
    "start_time": "2022-02-06T11:06:23.626Z"
   },
   {
    "duration": 16,
    "start_time": "2022-02-06T11:06:23.689Z"
   },
   {
    "duration": 15,
    "start_time": "2022-02-06T11:06:23.707Z"
   },
   {
    "duration": 182,
    "start_time": "2022-02-06T11:06:23.724Z"
   },
   {
    "duration": 98,
    "start_time": "2022-02-06T11:06:23.909Z"
   },
   {
    "duration": 80,
    "start_time": "2022-02-06T11:06:24.009Z"
   },
   {
    "duration": 678,
    "start_time": "2022-02-06T11:06:24.091Z"
   },
   {
    "duration": 13,
    "start_time": "2022-02-06T11:06:24.772Z"
   },
   {
    "duration": 5,
    "start_time": "2022-02-06T11:06:24.787Z"
   },
   {
    "duration": 1021,
    "start_time": "2022-02-06T11:06:24.794Z"
   },
   {
    "duration": 115,
    "start_time": "2022-02-06T11:06:25.817Z"
   },
   {
    "duration": 689,
    "start_time": "2022-02-06T11:06:25.934Z"
   },
   {
    "duration": 570,
    "start_time": "2022-02-06T11:06:26.625Z"
   },
   {
    "duration": 444,
    "start_time": "2022-02-06T11:06:27.197Z"
   },
   {
    "duration": -235,
    "start_time": "2022-02-06T11:06:27.879Z"
   },
   {
    "duration": -243,
    "start_time": "2022-02-06T11:06:27.888Z"
   },
   {
    "duration": -250,
    "start_time": "2022-02-06T11:06:27.896Z"
   },
   {
    "duration": -258,
    "start_time": "2022-02-06T11:06:27.906Z"
   },
   {
    "duration": 71,
    "start_time": "2022-02-06T11:08:21.664Z"
   },
   {
    "duration": 180,
    "start_time": "2022-02-06T11:08:47.711Z"
   },
   {
    "duration": 10,
    "start_time": "2022-02-06T11:12:45.670Z"
   },
   {
    "duration": 30,
    "start_time": "2022-02-06T11:13:02.494Z"
   },
   {
    "duration": 54,
    "start_time": "2022-02-06T11:14:33.197Z"
   },
   {
    "duration": 85,
    "start_time": "2022-02-06T11:16:22.672Z"
   },
   {
    "duration": 86,
    "start_time": "2022-02-06T11:16:31.709Z"
   },
   {
    "duration": 61,
    "start_time": "2022-02-06T11:16:38.702Z"
   },
   {
    "duration": 63,
    "start_time": "2022-02-06T11:17:12.170Z"
   },
   {
    "duration": 85,
    "start_time": "2022-02-06T11:18:46.922Z"
   },
   {
    "duration": 107,
    "start_time": "2022-02-06T11:19:01.148Z"
   },
   {
    "duration": 153,
    "start_time": "2022-02-06T11:20:30.744Z"
   },
   {
    "duration": 150,
    "start_time": "2022-02-06T11:21:05.988Z"
   },
   {
    "duration": 189,
    "start_time": "2022-02-06T11:47:38.139Z"
   },
   {
    "duration": 150,
    "start_time": "2022-02-06T11:48:05.894Z"
   },
   {
    "duration": 154,
    "start_time": "2022-02-06T11:48:53.054Z"
   },
   {
    "duration": 95,
    "start_time": "2022-02-06T11:49:07.424Z"
   },
   {
    "duration": 152,
    "start_time": "2022-02-06T11:49:13.251Z"
   },
   {
    "duration": 46,
    "start_time": "2022-02-06T11:52:35.551Z"
   },
   {
    "duration": 65,
    "start_time": "2022-02-06T11:52:49.488Z"
   },
   {
    "duration": 300,
    "start_time": "2022-02-06T11:56:48.672Z"
   },
   {
    "duration": 304,
    "start_time": "2022-02-06T11:56:59.358Z"
   },
   {
    "duration": 272,
    "start_time": "2022-02-06T11:57:45.897Z"
   },
   {
    "duration": 280,
    "start_time": "2022-02-06T12:01:01.242Z"
   },
   {
    "duration": 643,
    "start_time": "2022-02-06T12:01:15.738Z"
   },
   {
    "duration": 304,
    "start_time": "2022-02-06T12:01:25.832Z"
   },
   {
    "duration": 273,
    "start_time": "2022-02-06T12:01:34.196Z"
   },
   {
    "duration": 403,
    "start_time": "2022-02-06T12:04:35.961Z"
   },
   {
    "duration": 1219,
    "start_time": "2022-02-06T12:06:18.507Z"
   },
   {
    "duration": 1199,
    "start_time": "2022-02-06T12:06:39.311Z"
   },
   {
    "duration": 1145,
    "start_time": "2022-02-06T12:07:13.158Z"
   },
   {
    "duration": 1098,
    "start_time": "2022-02-06T12:07:27.704Z"
   },
   {
    "duration": 1186,
    "start_time": "2022-02-06T12:07:53.771Z"
   },
   {
    "duration": 388,
    "start_time": "2022-02-06T12:08:16.483Z"
   },
   {
    "duration": 71,
    "start_time": "2022-02-06T12:23:06.607Z"
   },
   {
    "duration": 87,
    "start_time": "2022-02-06T13:12:20.082Z"
   },
   {
    "duration": 82,
    "start_time": "2022-02-06T13:14:08.123Z"
   },
   {
    "duration": 149,
    "start_time": "2022-02-06T13:14:14.247Z"
   },
   {
    "duration": 158,
    "start_time": "2022-02-06T13:14:38.790Z"
   },
   {
    "duration": 179,
    "start_time": "2022-02-06T13:15:49.691Z"
   },
   {
    "duration": 198,
    "start_time": "2022-02-06T13:16:14.077Z"
   },
   {
    "duration": 297,
    "start_time": "2022-02-06T13:19:38.855Z"
   },
   {
    "duration": 322,
    "start_time": "2022-02-06T13:21:04.886Z"
   },
   {
    "duration": 278,
    "start_time": "2022-02-06T13:21:41.349Z"
   },
   {
    "duration": 291,
    "start_time": "2022-02-06T13:21:45.285Z"
   },
   {
    "duration": 318,
    "start_time": "2022-02-06T13:23:30.061Z"
   },
   {
    "duration": 624,
    "start_time": "2022-02-06T13:23:52.417Z"
   },
   {
    "duration": 723,
    "start_time": "2022-02-06T13:24:14.602Z"
   },
   {
    "duration": 592,
    "start_time": "2022-02-06T13:24:33.021Z"
   },
   {
    "duration": 290,
    "start_time": "2022-02-06T13:25:17.513Z"
   },
   {
    "duration": 1044,
    "start_time": "2022-02-06T13:26:49.529Z"
   },
   {
    "duration": 742,
    "start_time": "2022-02-06T13:27:23.915Z"
   },
   {
    "duration": 747,
    "start_time": "2022-02-06T13:27:58.492Z"
   },
   {
    "duration": 805,
    "start_time": "2022-02-06T13:28:51.183Z"
   },
   {
    "duration": 731,
    "start_time": "2022-02-06T13:29:04.751Z"
   },
   {
    "duration": 371,
    "start_time": "2022-02-06T13:30:32.229Z"
   },
   {
    "duration": 288,
    "start_time": "2022-02-06T13:30:44.843Z"
   },
   {
    "duration": 318,
    "start_time": "2022-02-06T13:30:54.050Z"
   },
   {
    "duration": 576,
    "start_time": "2022-02-06T13:31:36.660Z"
   },
   {
    "duration": 561,
    "start_time": "2022-02-06T13:38:58.171Z"
   },
   {
    "duration": 293,
    "start_time": "2022-02-06T13:43:13.750Z"
   },
   {
    "duration": 315,
    "start_time": "2022-02-06T13:43:25.629Z"
   },
   {
    "duration": 89,
    "start_time": "2022-02-06T13:44:27.630Z"
   },
   {
    "duration": 407,
    "start_time": "2022-02-06T13:44:30.930Z"
   },
   {
    "duration": 315,
    "start_time": "2022-02-06T13:44:52.464Z"
   },
   {
    "duration": 313,
    "start_time": "2022-02-06T13:45:21.956Z"
   },
   {
    "duration": 318,
    "start_time": "2022-02-06T13:46:15.196Z"
   },
   {
    "duration": 340,
    "start_time": "2022-02-06T13:49:35.668Z"
   },
   {
    "duration": 617,
    "start_time": "2022-02-06T13:49:42.758Z"
   },
   {
    "duration": 597,
    "start_time": "2022-02-06T13:50:18.129Z"
   },
   {
    "duration": 626,
    "start_time": "2022-02-06T13:51:13.848Z"
   },
   {
    "duration": 677,
    "start_time": "2022-02-06T13:55:41.409Z"
   },
   {
    "duration": 666,
    "start_time": "2022-02-06T14:00:47.559Z"
   },
   {
    "duration": 1507,
    "start_time": "2022-02-06T14:03:54.243Z"
   },
   {
    "duration": 533,
    "start_time": "2022-02-06T14:03:55.753Z"
   },
   {
    "duration": 204,
    "start_time": "2022-02-06T14:03:56.289Z"
   },
   {
    "duration": 193,
    "start_time": "2022-02-06T14:03:56.495Z"
   },
   {
    "duration": 131,
    "start_time": "2022-02-06T14:03:56.690Z"
   },
   {
    "duration": 17,
    "start_time": "2022-02-06T14:03:56.823Z"
   },
   {
    "duration": 72,
    "start_time": "2022-02-06T14:03:56.842Z"
   },
   {
    "duration": 93,
    "start_time": "2022-02-06T14:03:56.918Z"
   },
   {
    "duration": 387,
    "start_time": "2022-02-06T14:03:57.018Z"
   },
   {
    "duration": 30,
    "start_time": "2022-02-06T14:03:57.408Z"
   },
   {
    "duration": 49,
    "start_time": "2022-02-06T14:03:57.441Z"
   },
   {
    "duration": 20,
    "start_time": "2022-02-06T14:03:57.493Z"
   },
   {
    "duration": 297,
    "start_time": "2022-02-06T14:03:57.515Z"
   },
   {
    "duration": 2636,
    "start_time": "2022-02-06T14:03:57.815Z"
   },
   {
    "duration": 37,
    "start_time": "2022-02-06T14:04:00.454Z"
   },
   {
    "duration": 165,
    "start_time": "2022-02-06T14:04:00.494Z"
   },
   {
    "duration": 31,
    "start_time": "2022-02-06T14:04:00.661Z"
   },
   {
    "duration": 27,
    "start_time": "2022-02-06T14:04:00.695Z"
   },
   {
    "duration": 6,
    "start_time": "2022-02-06T14:04:00.725Z"
   },
   {
    "duration": 14,
    "start_time": "2022-02-06T14:04:00.769Z"
   },
   {
    "duration": 25,
    "start_time": "2022-02-06T14:04:00.786Z"
   },
   {
    "duration": 21,
    "start_time": "2022-02-06T14:04:00.813Z"
   },
   {
    "duration": 17,
    "start_time": "2022-02-06T14:04:00.869Z"
   },
   {
    "duration": 234,
    "start_time": "2022-02-06T14:04:00.889Z"
   },
   {
    "duration": 470,
    "start_time": "2022-02-06T14:04:01.127Z"
   },
   {
    "duration": 16,
    "start_time": "2022-02-06T14:04:01.600Z"
   },
   {
    "duration": 12,
    "start_time": "2022-02-06T14:04:01.621Z"
   },
   {
    "duration": 59,
    "start_time": "2022-02-06T14:04:01.637Z"
   },
   {
    "duration": 28,
    "start_time": "2022-02-06T14:04:01.699Z"
   },
   {
    "duration": 43,
    "start_time": "2022-02-06T14:04:01.730Z"
   },
   {
    "duration": 22,
    "start_time": "2022-02-06T14:04:01.776Z"
   },
   {
    "duration": 164,
    "start_time": "2022-02-06T14:04:01.800Z"
   },
   {
    "duration": 387,
    "start_time": "2022-02-06T14:04:01.966Z"
   },
   {
    "duration": -211,
    "start_time": "2022-02-06T14:04:02.567Z"
   },
   {
    "duration": -233,
    "start_time": "2022-02-06T14:04:02.591Z"
   },
   {
    "duration": -240,
    "start_time": "2022-02-06T14:04:02.599Z"
   },
   {
    "duration": -247,
    "start_time": "2022-02-06T14:04:02.607Z"
   },
   {
    "duration": -254,
    "start_time": "2022-02-06T14:04:02.616Z"
   },
   {
    "duration": -261,
    "start_time": "2022-02-06T14:04:02.624Z"
   },
   {
    "duration": -269,
    "start_time": "2022-02-06T14:04:02.633Z"
   },
   {
    "duration": -275,
    "start_time": "2022-02-06T14:04:02.641Z"
   },
   {
    "duration": -283,
    "start_time": "2022-02-06T14:04:02.650Z"
   },
   {
    "duration": -289,
    "start_time": "2022-02-06T14:04:02.658Z"
   },
   {
    "duration": 108,
    "start_time": "2022-02-06T14:05:40.964Z"
   },
   {
    "duration": 1527,
    "start_time": "2022-02-06T14:06:44.742Z"
   },
   {
    "duration": 516,
    "start_time": "2022-02-06T14:06:46.272Z"
   },
   {
    "duration": 210,
    "start_time": "2022-02-06T14:06:46.791Z"
   },
   {
    "duration": 184,
    "start_time": "2022-02-06T14:06:47.004Z"
   },
   {
    "duration": 114,
    "start_time": "2022-02-06T14:06:47.190Z"
   },
   {
    "duration": 16,
    "start_time": "2022-02-06T14:06:47.306Z"
   },
   {
    "duration": 67,
    "start_time": "2022-02-06T14:06:47.325Z"
   },
   {
    "duration": 41,
    "start_time": "2022-02-06T14:06:47.395Z"
   },
   {
    "duration": 290,
    "start_time": "2022-02-06T14:06:47.439Z"
   },
   {
    "duration": 47,
    "start_time": "2022-02-06T14:06:47.731Z"
   },
   {
    "duration": 29,
    "start_time": "2022-02-06T14:06:47.780Z"
   },
   {
    "duration": 15,
    "start_time": "2022-02-06T14:06:47.811Z"
   },
   {
    "duration": 292,
    "start_time": "2022-02-06T14:06:47.828Z"
   },
   {
    "duration": 2688,
    "start_time": "2022-02-06T14:06:48.123Z"
   },
   {
    "duration": 27,
    "start_time": "2022-02-06T14:06:50.813Z"
   },
   {
    "duration": 163,
    "start_time": "2022-02-06T14:06:50.842Z"
   },
   {
    "duration": 24,
    "start_time": "2022-02-06T14:06:51.007Z"
   },
   {
    "duration": 47,
    "start_time": "2022-02-06T14:06:51.033Z"
   },
   {
    "duration": 6,
    "start_time": "2022-02-06T14:06:51.083Z"
   },
   {
    "duration": 14,
    "start_time": "2022-02-06T14:06:51.091Z"
   },
   {
    "duration": 20,
    "start_time": "2022-02-06T14:06:51.108Z"
   },
   {
    "duration": 54,
    "start_time": "2022-02-06T14:06:51.131Z"
   },
   {
    "duration": 7,
    "start_time": "2022-02-06T14:06:51.190Z"
   },
   {
    "duration": 247,
    "start_time": "2022-02-06T14:06:51.200Z"
   },
   {
    "duration": 457,
    "start_time": "2022-02-06T14:06:51.450Z"
   },
   {
    "duration": 15,
    "start_time": "2022-02-06T14:06:51.909Z"
   },
   {
    "duration": 10,
    "start_time": "2022-02-06T14:06:51.926Z"
   },
   {
    "duration": 54,
    "start_time": "2022-02-06T14:06:51.938Z"
   },
   {
    "duration": 23,
    "start_time": "2022-02-06T14:06:51.994Z"
   },
   {
    "duration": 12,
    "start_time": "2022-02-06T14:06:52.019Z"
   },
   {
    "duration": 46,
    "start_time": "2022-02-06T14:06:52.034Z"
   },
   {
    "duration": 171,
    "start_time": "2022-02-06T14:06:52.083Z"
   },
   {
    "duration": 119,
    "start_time": "2022-02-06T14:06:52.256Z"
   },
   {
    "duration": 101,
    "start_time": "2022-02-06T14:06:52.378Z"
   },
   {
    "duration": 74,
    "start_time": "2022-02-06T14:06:52.482Z"
   },
   {
    "duration": 784,
    "start_time": "2022-02-06T14:06:52.570Z"
   },
   {
    "duration": 17,
    "start_time": "2022-02-06T14:06:53.357Z"
   },
   {
    "duration": 5,
    "start_time": "2022-02-06T14:06:53.376Z"
   },
   {
    "duration": 1060,
    "start_time": "2022-02-06T14:06:53.383Z"
   },
   {
    "duration": 100,
    "start_time": "2022-02-06T14:06:54.445Z"
   },
   {
    "duration": 701,
    "start_time": "2022-02-06T14:06:54.547Z"
   },
   {
    "duration": 582,
    "start_time": "2022-02-06T14:06:55.250Z"
   },
   {
    "duration": 699,
    "start_time": "2022-02-06T14:06:55.835Z"
   },
   {
    "duration": 390,
    "start_time": "2022-02-06T14:07:54.458Z"
   },
   {
    "duration": 13,
    "start_time": "2022-02-06T14:07:59.854Z"
   },
   {
    "duration": 14,
    "start_time": "2022-02-06T14:13:54.558Z"
   },
   {
    "duration": 261,
    "start_time": "2022-02-06T14:19:58.353Z"
   },
   {
    "duration": 910,
    "start_time": "2022-02-06T14:20:23.404Z"
   },
   {
    "duration": 11,
    "start_time": "2022-02-06T14:20:27.061Z"
   },
   {
    "duration": 18,
    "start_time": "2022-02-06T14:20:48.022Z"
   },
   {
    "duration": 341,
    "start_time": "2022-02-06T14:21:51.159Z"
   },
   {
    "duration": 5,
    "start_time": "2022-02-06T14:21:58.301Z"
   },
   {
    "duration": 5,
    "start_time": "2022-02-06T14:25:31.320Z"
   },
   {
    "duration": 1199,
    "start_time": "2022-02-06T14:26:05.932Z"
   },
   {
    "duration": 4,
    "start_time": "2022-02-06T14:28:34.770Z"
   },
   {
    "duration": 5,
    "start_time": "2022-02-06T14:30:08.079Z"
   },
   {
    "duration": 1214,
    "start_time": "2022-02-06T14:30:14.073Z"
   },
   {
    "duration": 22,
    "start_time": "2022-02-06T14:30:42.840Z"
   },
   {
    "duration": 22,
    "start_time": "2022-02-06T14:30:48.254Z"
   },
   {
    "duration": 1224,
    "start_time": "2022-02-06T14:31:27.061Z"
   },
   {
    "duration": 1209,
    "start_time": "2022-02-06T14:36:54.461Z"
   },
   {
    "duration": 440,
    "start_time": "2022-02-06T14:38:57.348Z"
   },
   {
    "duration": 1199,
    "start_time": "2022-02-06T14:40:08.472Z"
   },
   {
    "duration": 967,
    "start_time": "2022-02-06T14:40:38.610Z"
   },
   {
    "duration": 82,
    "start_time": "2022-02-06T14:44:18.552Z"
   },
   {
    "duration": 1320,
    "start_time": "2022-02-06T14:44:25.156Z"
   },
   {
    "duration": 1190,
    "start_time": "2022-02-06T15:01:26.379Z"
   },
   {
    "duration": 13,
    "start_time": "2022-02-06T15:02:53.429Z"
   },
   {
    "duration": 15,
    "start_time": "2022-02-06T15:03:13.913Z"
   },
   {
    "duration": 1135,
    "start_time": "2022-02-06T15:03:47.973Z"
   },
   {
    "duration": 39,
    "start_time": "2022-02-06T15:05:36.765Z"
   },
   {
    "duration": 1218,
    "start_time": "2022-02-06T15:24:11.971Z"
   },
   {
    "duration": 5,
    "start_time": "2022-02-06T15:24:23.777Z"
   },
   {
    "duration": 288,
    "start_time": "2022-02-06T15:26:25.625Z"
   },
   {
    "duration": 1275,
    "start_time": "2022-02-06T15:26:30.609Z"
   },
   {
    "duration": 15,
    "start_time": "2022-02-06T15:26:52.173Z"
   },
   {
    "duration": 28,
    "start_time": "2022-02-06T15:27:18.562Z"
   },
   {
    "duration": 1210,
    "start_time": "2022-02-06T15:27:32.967Z"
   },
   {
    "duration": 1027,
    "start_time": "2022-02-06T15:28:47.686Z"
   },
   {
    "duration": 1044,
    "start_time": "2022-02-06T15:29:06.544Z"
   },
   {
    "duration": 1043,
    "start_time": "2022-02-06T15:29:12.920Z"
   },
   {
    "duration": 1541,
    "start_time": "2022-02-06T15:57:11.497Z"
   },
   {
    "duration": 527,
    "start_time": "2022-02-06T15:57:13.040Z"
   },
   {
    "duration": 217,
    "start_time": "2022-02-06T15:57:13.570Z"
   },
   {
    "duration": 198,
    "start_time": "2022-02-06T15:57:13.790Z"
   },
   {
    "duration": 132,
    "start_time": "2022-02-06T15:57:13.990Z"
   },
   {
    "duration": 18,
    "start_time": "2022-02-06T15:57:14.125Z"
   },
   {
    "duration": 45,
    "start_time": "2022-02-06T15:57:14.170Z"
   },
   {
    "duration": 74,
    "start_time": "2022-02-06T15:57:14.219Z"
   },
   {
    "duration": 283,
    "start_time": "2022-02-06T15:57:14.296Z"
   },
   {
    "duration": 32,
    "start_time": "2022-02-06T15:57:14.582Z"
   },
   {
    "duration": 57,
    "start_time": "2022-02-06T15:57:14.617Z"
   },
   {
    "duration": 13,
    "start_time": "2022-02-06T15:57:14.677Z"
   },
   {
    "duration": 282,
    "start_time": "2022-02-06T15:57:14.693Z"
   },
   {
    "duration": 2622,
    "start_time": "2022-02-06T15:57:14.977Z"
   },
   {
    "duration": 26,
    "start_time": "2022-02-06T15:57:17.601Z"
   },
   {
    "duration": 174,
    "start_time": "2022-02-06T15:57:17.630Z"
   },
   {
    "duration": 24,
    "start_time": "2022-02-06T15:57:17.806Z"
   },
   {
    "duration": 43,
    "start_time": "2022-02-06T15:57:17.832Z"
   },
   {
    "duration": 8,
    "start_time": "2022-02-06T15:57:17.878Z"
   },
   {
    "duration": 16,
    "start_time": "2022-02-06T15:57:17.888Z"
   },
   {
    "duration": 27,
    "start_time": "2022-02-06T15:57:17.907Z"
   },
   {
    "duration": 46,
    "start_time": "2022-02-06T15:57:17.937Z"
   },
   {
    "duration": 19,
    "start_time": "2022-02-06T15:57:17.988Z"
   },
   {
    "duration": 226,
    "start_time": "2022-02-06T15:57:18.010Z"
   },
   {
    "duration": 430,
    "start_time": "2022-02-06T15:57:18.239Z"
   },
   {
    "duration": 16,
    "start_time": "2022-02-06T15:57:18.672Z"
   },
   {
    "duration": 9,
    "start_time": "2022-02-06T15:57:18.691Z"
   },
   {
    "duration": 30,
    "start_time": "2022-02-06T15:57:18.702Z"
   },
   {
    "duration": 24,
    "start_time": "2022-02-06T15:57:18.770Z"
   },
   {
    "duration": 14,
    "start_time": "2022-02-06T15:57:18.797Z"
   },
   {
    "duration": 15,
    "start_time": "2022-02-06T15:57:18.813Z"
   },
   {
    "duration": 165,
    "start_time": "2022-02-06T15:57:18.869Z"
   },
   {
    "duration": 127,
    "start_time": "2022-02-06T15:57:19.039Z"
   },
   {
    "duration": 100,
    "start_time": "2022-02-06T15:57:19.170Z"
   },
   {
    "duration": 73,
    "start_time": "2022-02-06T15:57:19.273Z"
   },
   {
    "duration": 678,
    "start_time": "2022-02-06T15:57:19.348Z"
   },
   {
    "duration": 13,
    "start_time": "2022-02-06T15:57:20.028Z"
   },
   {
    "duration": 1334,
    "start_time": "2022-02-06T15:57:20.044Z"
   },
   {
    "duration": -148,
    "start_time": "2022-02-06T15:57:21.529Z"
   },
   {
    "duration": -159,
    "start_time": "2022-02-06T15:57:21.541Z"
   },
   {
    "duration": -167,
    "start_time": "2022-02-06T15:57:21.551Z"
   },
   {
    "duration": -175,
    "start_time": "2022-02-06T15:57:21.560Z"
   },
   {
    "duration": -184,
    "start_time": "2022-02-06T15:57:21.571Z"
   },
   {
    "duration": -193,
    "start_time": "2022-02-06T15:57:21.581Z"
   },
   {
    "duration": -199,
    "start_time": "2022-02-06T15:57:21.589Z"
   },
   {
    "duration": -208,
    "start_time": "2022-02-06T15:57:21.599Z"
   },
   {
    "duration": -221,
    "start_time": "2022-02-06T15:57:21.613Z"
   },
   {
    "duration": -246,
    "start_time": "2022-02-06T15:57:21.640Z"
   },
   {
    "duration": -278,
    "start_time": "2022-02-06T15:57:21.673Z"
   },
   {
    "duration": 1605,
    "start_time": "2022-02-06T15:58:38.711Z"
   },
   {
    "duration": 539,
    "start_time": "2022-02-06T15:58:40.318Z"
   },
   {
    "duration": 227,
    "start_time": "2022-02-06T15:58:40.860Z"
   },
   {
    "duration": 190,
    "start_time": "2022-02-06T15:58:41.090Z"
   },
   {
    "duration": 122,
    "start_time": "2022-02-06T15:58:41.282Z"
   },
   {
    "duration": 19,
    "start_time": "2022-02-06T15:58:41.407Z"
   },
   {
    "duration": 76,
    "start_time": "2022-02-06T15:58:41.428Z"
   },
   {
    "duration": 63,
    "start_time": "2022-02-06T15:58:41.508Z"
   },
   {
    "duration": 272,
    "start_time": "2022-02-06T15:58:41.574Z"
   },
   {
    "duration": 42,
    "start_time": "2022-02-06T15:58:41.848Z"
   },
   {
    "duration": 30,
    "start_time": "2022-02-06T15:58:41.893Z"
   },
   {
    "duration": 43,
    "start_time": "2022-02-06T15:58:41.926Z"
   },
   {
    "duration": 275,
    "start_time": "2022-02-06T15:58:41.972Z"
   },
   {
    "duration": 2604,
    "start_time": "2022-02-06T15:58:42.249Z"
   },
   {
    "duration": 34,
    "start_time": "2022-02-06T15:58:44.855Z"
   },
   {
    "duration": 163,
    "start_time": "2022-02-06T15:58:44.892Z"
   },
   {
    "duration": 32,
    "start_time": "2022-02-06T15:58:45.057Z"
   },
   {
    "duration": 25,
    "start_time": "2022-02-06T15:58:45.091Z"
   },
   {
    "duration": 6,
    "start_time": "2022-02-06T15:58:45.118Z"
   },
   {
    "duration": 47,
    "start_time": "2022-02-06T15:58:45.127Z"
   },
   {
    "duration": 21,
    "start_time": "2022-02-06T15:58:45.176Z"
   },
   {
    "duration": 23,
    "start_time": "2022-02-06T15:58:45.200Z"
   },
   {
    "duration": 43,
    "start_time": "2022-02-06T15:58:45.229Z"
   },
   {
    "duration": 235,
    "start_time": "2022-02-06T15:58:45.275Z"
   },
   {
    "duration": 430,
    "start_time": "2022-02-06T15:58:45.512Z"
   },
   {
    "duration": 28,
    "start_time": "2022-02-06T15:58:45.945Z"
   },
   {
    "duration": 11,
    "start_time": "2022-02-06T15:58:45.976Z"
   },
   {
    "duration": 31,
    "start_time": "2022-02-06T15:58:45.990Z"
   },
   {
    "duration": 60,
    "start_time": "2022-02-06T15:58:46.024Z"
   },
   {
    "duration": 13,
    "start_time": "2022-02-06T15:58:46.086Z"
   },
   {
    "duration": 15,
    "start_time": "2022-02-06T15:58:46.102Z"
   },
   {
    "duration": 198,
    "start_time": "2022-02-06T15:58:46.119Z"
   },
   {
    "duration": 127,
    "start_time": "2022-02-06T15:58:46.320Z"
   },
   {
    "duration": 97,
    "start_time": "2022-02-06T15:58:46.450Z"
   },
   {
    "duration": 82,
    "start_time": "2022-02-06T15:58:46.550Z"
   },
   {
    "duration": 672,
    "start_time": "2022-02-06T15:58:46.635Z"
   },
   {
    "duration": 14,
    "start_time": "2022-02-06T15:58:47.310Z"
   },
   {
    "duration": 5,
    "start_time": "2022-02-06T15:58:47.326Z"
   },
   {
    "duration": 1026,
    "start_time": "2022-02-06T15:58:47.333Z"
   },
   {
    "duration": 79,
    "start_time": "2022-02-06T15:58:48.369Z"
   },
   {
    "duration": 837,
    "start_time": "2022-02-06T15:58:48.451Z"
   },
   {
    "duration": 583,
    "start_time": "2022-02-06T15:58:49.291Z"
   },
   {
    "duration": 428,
    "start_time": "2022-02-06T15:58:49.876Z"
   },
   {
    "duration": -135,
    "start_time": "2022-02-06T15:58:50.441Z"
   },
   {
    "duration": -157,
    "start_time": "2022-02-06T15:58:50.464Z"
   },
   {
    "duration": -181,
    "start_time": "2022-02-06T15:58:50.490Z"
   },
   {
    "duration": -196,
    "start_time": "2022-02-06T15:58:50.506Z"
   },
   {
    "duration": -208,
    "start_time": "2022-02-06T15:58:50.519Z"
   },
   {
    "duration": -226,
    "start_time": "2022-02-06T15:58:50.539Z"
   },
   {
    "duration": 7280,
    "start_time": "2022-02-06T16:13:08.285Z"
   },
   {
    "duration": 7774,
    "start_time": "2022-02-06T16:14:27.266Z"
   },
   {
    "duration": -104,
    "start_time": "2022-02-06T16:16:35.572Z"
   },
   {
    "duration": 6531,
    "start_time": "2022-02-06T16:16:39.927Z"
   },
   {
    "duration": 9,
    "start_time": "2022-02-06T16:16:52.397Z"
   },
   {
    "duration": 1042,
    "start_time": "2022-02-06T16:16:55.333Z"
   },
   {
    "duration": 6417,
    "start_time": "2022-02-06T16:17:04.879Z"
   },
   {
    "duration": 6422,
    "start_time": "2022-02-06T16:17:21.456Z"
   },
   {
    "duration": 7317,
    "start_time": "2022-02-06T16:17:43.964Z"
   },
   {
    "duration": 367,
    "start_time": "2022-02-06T16:18:30.698Z"
   },
   {
    "duration": 1998,
    "start_time": "2022-02-06T16:18:39.820Z"
   },
   {
    "duration": 776,
    "start_time": "2022-02-06T16:18:41.821Z"
   },
   {
    "duration": 228,
    "start_time": "2022-02-06T16:18:42.601Z"
   },
   {
    "duration": 185,
    "start_time": "2022-02-06T16:18:42.831Z"
   },
   {
    "duration": 115,
    "start_time": "2022-02-06T16:18:43.018Z"
   },
   {
    "duration": 36,
    "start_time": "2022-02-06T16:18:43.136Z"
   },
   {
    "duration": 48,
    "start_time": "2022-02-06T16:18:43.175Z"
   },
   {
    "duration": 77,
    "start_time": "2022-02-06T16:18:43.227Z"
   },
   {
    "duration": 270,
    "start_time": "2022-02-06T16:18:43.307Z"
   },
   {
    "duration": 34,
    "start_time": "2022-02-06T16:18:43.581Z"
   },
   {
    "duration": 53,
    "start_time": "2022-02-06T16:18:43.618Z"
   },
   {
    "duration": 16,
    "start_time": "2022-02-06T16:18:43.674Z"
   },
   {
    "duration": 394,
    "start_time": "2022-02-06T16:18:43.692Z"
   },
   {
    "duration": 4296,
    "start_time": "2022-02-06T16:18:44.089Z"
   },
   {
    "duration": 36,
    "start_time": "2022-02-06T16:18:48.388Z"
   },
   {
    "duration": 255,
    "start_time": "2022-02-06T16:18:48.428Z"
   },
   {
    "duration": 34,
    "start_time": "2022-02-06T16:18:48.686Z"
   },
   {
    "duration": 59,
    "start_time": "2022-02-06T16:18:48.723Z"
   },
   {
    "duration": 8,
    "start_time": "2022-02-06T16:18:48.785Z"
   },
   {
    "duration": 18,
    "start_time": "2022-02-06T16:18:48.797Z"
   },
   {
    "duration": 58,
    "start_time": "2022-02-06T16:18:48.818Z"
   },
   {
    "duration": 18,
    "start_time": "2022-02-06T16:18:48.879Z"
   },
   {
    "duration": 8,
    "start_time": "2022-02-06T16:18:48.905Z"
   },
   {
    "duration": 255,
    "start_time": "2022-02-06T16:18:48.917Z"
   },
   {
    "duration": 449,
    "start_time": "2022-02-06T16:18:49.175Z"
   },
   {
    "duration": 17,
    "start_time": "2022-02-06T16:18:49.627Z"
   },
   {
    "duration": 32,
    "start_time": "2022-02-06T16:18:49.647Z"
   },
   {
    "duration": 29,
    "start_time": "2022-02-06T16:18:49.682Z"
   },
   {
    "duration": 56,
    "start_time": "2022-02-06T16:18:49.714Z"
   },
   {
    "duration": 11,
    "start_time": "2022-02-06T16:18:49.774Z"
   },
   {
    "duration": 18,
    "start_time": "2022-02-06T16:18:49.788Z"
   },
   {
    "duration": 187,
    "start_time": "2022-02-06T16:18:49.809Z"
   },
   {
    "duration": 220,
    "start_time": "2022-02-06T16:18:49.999Z"
   },
   {
    "duration": 156,
    "start_time": "2022-02-06T16:18:50.222Z"
   },
   {
    "duration": 109,
    "start_time": "2022-02-06T16:18:50.381Z"
   },
   {
    "duration": 1041,
    "start_time": "2022-02-06T16:18:50.493Z"
   },
   {
    "duration": 18,
    "start_time": "2022-02-06T16:18:51.537Z"
   },
   {
    "duration": 13,
    "start_time": "2022-02-06T16:18:51.558Z"
   },
   {
    "duration": 997,
    "start_time": "2022-02-06T16:18:51.574Z"
   },
   {
    "duration": 110,
    "start_time": "2022-02-06T16:18:52.574Z"
   },
   {
    "duration": 685,
    "start_time": "2022-02-06T16:18:52.687Z"
   },
   {
    "duration": 569,
    "start_time": "2022-02-06T16:18:53.375Z"
   },
   {
    "duration": 491,
    "start_time": "2022-02-06T16:18:53.947Z"
   },
   {
    "duration": -487,
    "start_time": "2022-02-06T16:18:54.928Z"
   },
   {
    "duration": -494,
    "start_time": "2022-02-06T16:18:54.937Z"
   },
   {
    "duration": -503,
    "start_time": "2022-02-06T16:18:54.948Z"
   },
   {
    "duration": -518,
    "start_time": "2022-02-06T16:18:54.965Z"
   },
   {
    "duration": -528,
    "start_time": "2022-02-06T16:18:54.977Z"
   },
   {
    "duration": -546,
    "start_time": "2022-02-06T16:18:54.996Z"
   },
   {
    "duration": -553,
    "start_time": "2022-02-06T16:18:55.005Z"
   },
   {
    "duration": 347,
    "start_time": "2022-02-06T16:20:00.038Z"
   },
   {
    "duration": 311,
    "start_time": "2022-02-06T16:20:17.556Z"
   },
   {
    "duration": 673,
    "start_time": "2022-02-06T16:20:28.525Z"
   },
   {
    "duration": 11,
    "start_time": "2022-02-06T16:20:33.434Z"
   },
   {
    "duration": 1020,
    "start_time": "2022-02-06T16:20:36.123Z"
   },
   {
    "duration": 1035,
    "start_time": "2022-02-06T16:20:40.355Z"
   },
   {
    "duration": 6,
    "start_time": "2022-02-06T16:21:00.540Z"
   },
   {
    "duration": 15,
    "start_time": "2022-02-06T16:21:04.876Z"
   },
   {
    "duration": 609,
    "start_time": "2022-02-06T16:21:09.769Z"
   },
   {
    "duration": -120,
    "start_time": "2022-02-06T16:23:21.709Z"
   },
   {
    "duration": 4507,
    "start_time": "2022-02-06T16:23:28.697Z"
   },
   {
    "duration": 4693,
    "start_time": "2022-02-06T16:24:27.132Z"
   },
   {
    "duration": 4360,
    "start_time": "2022-02-06T16:24:44.063Z"
   },
   {
    "duration": 4088,
    "start_time": "2022-02-06T16:24:54.634Z"
   },
   {
    "duration": 4637,
    "start_time": "2022-02-06T16:25:33.371Z"
   },
   {
    "duration": 4306,
    "start_time": "2022-02-06T16:25:48.509Z"
   },
   {
    "duration": 4240,
    "start_time": "2022-02-06T16:26:05.413Z"
   },
   {
    "duration": 4822,
    "start_time": "2022-02-06T16:41:54.273Z"
   },
   {
    "duration": 3394,
    "start_time": "2022-02-06T16:42:30.035Z"
   },
   {
    "duration": 258,
    "start_time": "2022-02-06T16:43:19.028Z"
   },
   {
    "duration": -90,
    "start_time": "2022-02-06T16:44:36.480Z"
   },
   {
    "duration": 277,
    "start_time": "2022-02-06T16:44:41.055Z"
   },
   {
    "duration": 321,
    "start_time": "2022-02-06T16:46:15.235Z"
   },
   {
    "duration": 263,
    "start_time": "2022-02-06T16:46:28.725Z"
   },
   {
    "duration": 260,
    "start_time": "2022-02-06T16:47:52.611Z"
   },
   {
    "duration": 261,
    "start_time": "2022-02-06T16:48:09.557Z"
   },
   {
    "duration": 276,
    "start_time": "2022-02-06T16:48:14.319Z"
   },
   {
    "duration": 311,
    "start_time": "2022-02-06T16:48:36.330Z"
   },
   {
    "duration": 256,
    "start_time": "2022-02-06T16:55:17.769Z"
   },
   {
    "duration": 7200,
    "start_time": "2022-02-06T17:14:04.057Z"
   },
   {
    "duration": 6679,
    "start_time": "2022-02-06T17:15:49.831Z"
   },
   {
    "duration": 5,
    "start_time": "2022-02-06T17:16:11.158Z"
   },
   {
    "duration": 1219,
    "start_time": "2022-02-06T17:16:17.034Z"
   },
   {
    "duration": 7347,
    "start_time": "2022-02-06T17:17:06.535Z"
   },
   {
    "duration": 4196,
    "start_time": "2022-02-06T17:17:17.317Z"
   },
   {
    "duration": 7617,
    "start_time": "2022-02-06T17:17:48.542Z"
   },
   {
    "duration": 441,
    "start_time": "2022-02-06T17:18:12.602Z"
   },
   {
    "duration": 99,
    "start_time": "2022-02-06T17:21:11.229Z"
   },
   {
    "duration": 13981,
    "start_time": "2022-02-06T17:21:16.268Z"
   },
   {
    "duration": 39,
    "start_time": "2022-02-06T17:21:54.450Z"
   },
   {
    "duration": 5065,
    "start_time": "2022-02-06T17:22:42.889Z"
   },
   {
    "duration": 5136,
    "start_time": "2022-02-06T17:23:16.978Z"
   },
   {
    "duration": 5739,
    "start_time": "2022-02-06T17:26:20.785Z"
   },
   {
    "duration": 5229,
    "start_time": "2022-02-06T17:26:51.619Z"
   },
   {
    "duration": 5052,
    "start_time": "2022-02-06T17:28:07.266Z"
   },
   {
    "duration": 5281,
    "start_time": "2022-02-06T17:28:17.196Z"
   },
   {
    "duration": 5017,
    "start_time": "2022-02-06T17:29:09.824Z"
   },
   {
    "duration": 310,
    "start_time": "2022-02-06T17:41:47.217Z"
   },
   {
    "duration": 295,
    "start_time": "2022-02-06T17:42:33.428Z"
   },
   {
    "duration": 277,
    "start_time": "2022-02-06T17:42:40.442Z"
   },
   {
    "duration": 312,
    "start_time": "2022-02-06T17:45:15.570Z"
   },
   {
    "duration": 660,
    "start_time": "2022-02-06T17:45:23.114Z"
   },
   {
    "duration": 10,
    "start_time": "2022-02-06T17:45:31.753Z"
   },
   {
    "duration": 1010,
    "start_time": "2022-02-06T17:45:36.991Z"
   },
   {
    "duration": 19,
    "start_time": "2022-02-06T17:46:03.909Z"
   },
   {
    "duration": 15374,
    "start_time": "2022-02-06T17:46:10.283Z"
   },
   {
    "duration": 23,
    "start_time": "2022-02-06T17:46:40.248Z"
   },
   {
    "duration": 93,
    "start_time": "2022-02-06T17:48:21.693Z"
   },
   {
    "duration": 90,
    "start_time": "2022-02-06T17:48:26.792Z"
   },
   {
    "duration": 14,
    "start_time": "2022-02-06T17:48:42.917Z"
   },
   {
    "duration": 286,
    "start_time": "2022-02-06T17:48:50.645Z"
   },
   {
    "duration": 11,
    "start_time": "2022-02-06T17:49:48.210Z"
   },
   {
    "duration": 21,
    "start_time": "2022-02-06T17:50:00.646Z"
   },
   {
    "duration": 21,
    "start_time": "2022-02-06T17:51:06.127Z"
   },
   {
    "duration": 21,
    "start_time": "2022-02-06T17:51:14.310Z"
   },
   {
    "duration": 1563,
    "start_time": "2022-02-06T17:55:56.452Z"
   },
   {
    "duration": 602,
    "start_time": "2022-02-06T17:55:58.018Z"
   },
   {
    "duration": 225,
    "start_time": "2022-02-06T17:55:58.624Z"
   },
   {
    "duration": 209,
    "start_time": "2022-02-06T17:55:58.852Z"
   },
   {
    "duration": 121,
    "start_time": "2022-02-06T17:55:59.070Z"
   },
   {
    "duration": 19,
    "start_time": "2022-02-06T17:55:59.194Z"
   },
   {
    "duration": 76,
    "start_time": "2022-02-06T17:55:59.215Z"
   },
   {
    "duration": 44,
    "start_time": "2022-02-06T17:55:59.295Z"
   },
   {
    "duration": 281,
    "start_time": "2022-02-06T17:55:59.371Z"
   },
   {
    "duration": 35,
    "start_time": "2022-02-06T17:55:59.655Z"
   },
   {
    "duration": 33,
    "start_time": "2022-02-06T17:55:59.692Z"
   },
   {
    "duration": 46,
    "start_time": "2022-02-06T17:55:59.728Z"
   },
   {
    "duration": 297,
    "start_time": "2022-02-06T17:55:59.776Z"
   },
   {
    "duration": 2730,
    "start_time": "2022-02-06T17:56:00.076Z"
   },
   {
    "duration": 26,
    "start_time": "2022-02-06T17:56:02.809Z"
   },
   {
    "duration": 170,
    "start_time": "2022-02-06T17:56:02.838Z"
   },
   {
    "duration": 26,
    "start_time": "2022-02-06T17:56:03.011Z"
   },
   {
    "duration": 48,
    "start_time": "2022-02-06T17:56:03.039Z"
   },
   {
    "duration": 7,
    "start_time": "2022-02-06T17:56:03.090Z"
   },
   {
    "duration": 19,
    "start_time": "2022-02-06T17:56:03.099Z"
   },
   {
    "duration": 59,
    "start_time": "2022-02-06T17:56:03.122Z"
   },
   {
    "duration": 22,
    "start_time": "2022-02-06T17:56:03.184Z"
   },
   {
    "duration": 13,
    "start_time": "2022-02-06T17:56:03.211Z"
   },
   {
    "duration": 366,
    "start_time": "2022-02-06T17:56:03.229Z"
   },
   {
    "duration": 494,
    "start_time": "2022-02-06T17:56:03.597Z"
   },
   {
    "duration": 16,
    "start_time": "2022-02-06T17:56:04.094Z"
   },
   {
    "duration": 13,
    "start_time": "2022-02-06T17:56:04.114Z"
   },
   {
    "duration": 61,
    "start_time": "2022-02-06T17:56:04.130Z"
   },
   {
    "duration": 24,
    "start_time": "2022-02-06T17:56:04.194Z"
   },
   {
    "duration": 14,
    "start_time": "2022-02-06T17:56:04.221Z"
   },
   {
    "duration": 44,
    "start_time": "2022-02-06T17:56:04.237Z"
   },
   {
    "duration": 171,
    "start_time": "2022-02-06T17:56:04.284Z"
   },
   {
    "duration": 117,
    "start_time": "2022-02-06T17:56:04.457Z"
   },
   {
    "duration": 106,
    "start_time": "2022-02-06T17:56:04.577Z"
   },
   {
    "duration": 87,
    "start_time": "2022-02-06T17:56:04.686Z"
   },
   {
    "duration": 671,
    "start_time": "2022-02-06T17:56:04.776Z"
   },
   {
    "duration": 29,
    "start_time": "2022-02-06T17:56:05.450Z"
   },
   {
    "duration": 7,
    "start_time": "2022-02-06T17:56:05.481Z"
   },
   {
    "duration": 1001,
    "start_time": "2022-02-06T17:56:05.490Z"
   },
   {
    "duration": 106,
    "start_time": "2022-02-06T17:56:06.493Z"
   },
   {
    "duration": 691,
    "start_time": "2022-02-06T17:56:06.601Z"
   },
   {
    "duration": 567,
    "start_time": "2022-02-06T17:56:07.294Z"
   },
   {
    "duration": 673,
    "start_time": "2022-02-06T17:56:07.863Z"
   },
   {
    "duration": 10,
    "start_time": "2022-02-06T17:56:08.538Z"
   },
   {
    "duration": 31,
    "start_time": "2022-02-06T17:56:08.551Z"
   },
   {
    "duration": 12637,
    "start_time": "2022-02-06T17:56:08.584Z"
   },
   {
    "duration": 13,
    "start_time": "2022-02-06T17:56:21.224Z"
   },
   {
    "duration": 63,
    "start_time": "2022-02-06T17:56:21.239Z"
   },
   {
    "duration": 90,
    "start_time": "2022-02-06T17:56:21.305Z"
   },
   {
    "duration": -98,
    "start_time": "2022-02-06T17:56:21.496Z"
   },
   {
    "duration": 21,
    "start_time": "2022-02-06T17:56:30.779Z"
   },
   {
    "duration": 34,
    "start_time": "2022-02-06T18:10:08.072Z"
   },
   {
    "duration": 477,
    "start_time": "2022-02-06T18:13:09.783Z"
   },
   {
    "duration": 20,
    "start_time": "2022-02-06T18:13:20.085Z"
   },
   {
    "duration": 29,
    "start_time": "2022-02-06T18:14:17.892Z"
   },
   {
    "duration": 35,
    "start_time": "2022-02-06T18:14:25.412Z"
   },
   {
    "duration": 44,
    "start_time": "2022-02-06T18:16:43.183Z"
   },
   {
    "duration": 287,
    "start_time": "2022-02-06T18:17:58.068Z"
   },
   {
    "duration": 17,
    "start_time": "2022-02-06T18:18:07.478Z"
   },
   {
    "duration": 8,
    "start_time": "2022-02-06T18:33:22.991Z"
   },
   {
    "duration": 9,
    "start_time": "2022-02-06T18:33:33.355Z"
   },
   {
    "duration": 5232,
    "start_time": "2022-02-06T18:33:35.979Z"
   },
   {
    "duration": 9,
    "start_time": "2022-02-06T18:34:16.868Z"
   },
   {
    "duration": 4905,
    "start_time": "2022-02-06T18:34:20.833Z"
   },
   {
    "duration": 6577,
    "start_time": "2022-02-06T18:35:10.234Z"
   },
   {
    "duration": 6830,
    "start_time": "2022-02-06T18:36:03.649Z"
   },
   {
    "duration": 6890,
    "start_time": "2022-02-06T18:36:20.667Z"
   },
   {
    "duration": 7060,
    "start_time": "2022-02-06T18:39:23.013Z"
   },
   {
    "duration": 6,
    "start_time": "2022-02-06T18:40:06.556Z"
   },
   {
    "duration": 5,
    "start_time": "2022-02-06T18:40:14.474Z"
   },
   {
    "duration": 7,
    "start_time": "2022-02-06T18:40:17.781Z"
   },
   {
    "duration": 5763,
    "start_time": "2022-02-06T18:40:20.998Z"
   },
   {
    "duration": 25,
    "start_time": "2022-02-06T18:40:41.394Z"
   },
   {
    "duration": 84,
    "start_time": "2022-02-06T18:47:44.121Z"
   },
   {
    "duration": 88,
    "start_time": "2022-02-06T18:48:18.731Z"
   },
   {
    "duration": 10,
    "start_time": "2022-02-06T18:48:29.290Z"
   },
   {
    "duration": 505,
    "start_time": "2022-02-06T18:48:31.605Z"
   },
   {
    "duration": 9,
    "start_time": "2022-02-06T18:48:47.002Z"
   },
   {
    "duration": 1905,
    "start_time": "2022-02-06T18:48:49.676Z"
   },
   {
    "duration": 22,
    "start_time": "2022-02-06T18:48:54.889Z"
   },
   {
    "duration": 11,
    "start_time": "2022-02-06T18:50:04.894Z"
   },
   {
    "duration": 674,
    "start_time": "2022-02-06T18:50:08.596Z"
   },
   {
    "duration": 24,
    "start_time": "2022-02-06T18:50:12.288Z"
   },
   {
    "duration": 45,
    "start_time": "2022-02-06T18:51:08.243Z"
   },
   {
    "duration": 53,
    "start_time": "2022-02-06T18:51:14.150Z"
   },
   {
    "duration": 45,
    "start_time": "2022-02-06T18:51:27.302Z"
   },
   {
    "duration": 1604,
    "start_time": "2022-02-06T19:39:44.369Z"
   },
   {
    "duration": 576,
    "start_time": "2022-02-06T19:39:45.976Z"
   },
   {
    "duration": 240,
    "start_time": "2022-02-06T19:39:46.555Z"
   },
   {
    "duration": 201,
    "start_time": "2022-02-06T19:39:46.799Z"
   },
   {
    "duration": 127,
    "start_time": "2022-02-06T19:39:47.002Z"
   },
   {
    "duration": 20,
    "start_time": "2022-02-06T19:39:47.132Z"
   },
   {
    "duration": 46,
    "start_time": "2022-02-06T19:39:47.169Z"
   },
   {
    "duration": 75,
    "start_time": "2022-02-06T19:39:47.218Z"
   },
   {
    "duration": 273,
    "start_time": "2022-02-06T19:39:47.296Z"
   },
   {
    "duration": 39,
    "start_time": "2022-02-06T19:39:47.571Z"
   },
   {
    "duration": 31,
    "start_time": "2022-02-06T19:39:47.612Z"
   },
   {
    "duration": 34,
    "start_time": "2022-02-06T19:39:47.646Z"
   },
   {
    "duration": 294,
    "start_time": "2022-02-06T19:39:47.682Z"
   },
   {
    "duration": 2565,
    "start_time": "2022-02-06T19:39:47.979Z"
   },
   {
    "duration": 36,
    "start_time": "2022-02-06T19:39:50.546Z"
   },
   {
    "duration": 159,
    "start_time": "2022-02-06T19:39:50.584Z"
   },
   {
    "duration": 33,
    "start_time": "2022-02-06T19:39:50.746Z"
   },
   {
    "duration": 26,
    "start_time": "2022-02-06T19:39:50.781Z"
   },
   {
    "duration": 7,
    "start_time": "2022-02-06T19:39:50.809Z"
   },
   {
    "duration": 16,
    "start_time": "2022-02-06T19:39:50.818Z"
   },
   {
    "duration": 20,
    "start_time": "2022-02-06T19:39:50.870Z"
   },
   {
    "duration": 17,
    "start_time": "2022-02-06T19:39:50.893Z"
   },
   {
    "duration": 8,
    "start_time": "2022-02-06T19:39:50.917Z"
   },
   {
    "duration": 268,
    "start_time": "2022-02-06T19:39:50.928Z"
   },
   {
    "duration": 478,
    "start_time": "2022-02-06T19:39:51.199Z"
   },
   {
    "duration": 15,
    "start_time": "2022-02-06T19:39:51.679Z"
   },
   {
    "duration": 10,
    "start_time": "2022-02-06T19:39:51.697Z"
   },
   {
    "duration": 68,
    "start_time": "2022-02-06T19:39:51.710Z"
   },
   {
    "duration": 23,
    "start_time": "2022-02-06T19:39:51.781Z"
   },
   {
    "duration": 13,
    "start_time": "2022-02-06T19:39:51.807Z"
   },
   {
    "duration": 49,
    "start_time": "2022-02-06T19:39:51.823Z"
   },
   {
    "duration": 187,
    "start_time": "2022-02-06T19:39:51.875Z"
   },
   {
    "duration": 123,
    "start_time": "2022-02-06T19:39:52.065Z"
   },
   {
    "duration": 103,
    "start_time": "2022-02-06T19:39:52.190Z"
   },
   {
    "duration": 81,
    "start_time": "2022-02-06T19:39:52.296Z"
   },
   {
    "duration": 678,
    "start_time": "2022-02-06T19:39:52.379Z"
   },
   {
    "duration": 17,
    "start_time": "2022-02-06T19:39:53.060Z"
   },
   {
    "duration": 4,
    "start_time": "2022-02-06T19:39:53.079Z"
   },
   {
    "duration": 1026,
    "start_time": "2022-02-06T19:39:53.085Z"
   },
   {
    "duration": 101,
    "start_time": "2022-02-06T19:39:54.113Z"
   },
   {
    "duration": 690,
    "start_time": "2022-02-06T19:39:54.217Z"
   },
   {
    "duration": 569,
    "start_time": "2022-02-06T19:39:54.911Z"
   },
   {
    "duration": 781,
    "start_time": "2022-02-06T19:39:55.483Z"
   },
   {
    "duration": 10,
    "start_time": "2022-02-06T19:39:56.270Z"
   },
   {
    "duration": 14,
    "start_time": "2022-02-06T19:39:56.283Z"
   },
   {
    "duration": 12720,
    "start_time": "2022-02-06T19:39:56.299Z"
   },
   {
    "duration": 13,
    "start_time": "2022-02-06T19:40:09.022Z"
   },
   {
    "duration": 32,
    "start_time": "2022-02-06T19:40:09.038Z"
   },
   {
    "duration": 655,
    "start_time": "2022-02-06T19:40:09.072Z"
   },
   {
    "duration": 23,
    "start_time": "2022-02-06T19:40:09.729Z"
   },
   {
    "duration": 51,
    "start_time": "2022-02-06T19:40:09.769Z"
   },
   {
    "duration": 12,
    "start_time": "2022-02-06T19:40:09.823Z"
   },
   {
    "duration": 40,
    "start_time": "2022-02-06T19:40:09.838Z"
   },
   {
    "duration": 562,
    "start_time": "2022-02-06T19:40:09.880Z"
   },
   {
    "duration": 30,
    "start_time": "2022-02-06T19:40:10.445Z"
   },
   {
    "duration": 60,
    "start_time": "2022-02-06T19:40:10.477Z"
   },
   {
    "duration": 11,
    "start_time": "2022-02-06T19:41:05.870Z"
   },
   {
    "duration": 7994,
    "start_time": "2022-02-06T19:41:12.784Z"
   },
   {
    "duration": 1543,
    "start_time": "2022-02-06T19:41:59.413Z"
   },
   {
    "duration": 555,
    "start_time": "2022-02-06T19:42:00.959Z"
   },
   {
    "duration": 224,
    "start_time": "2022-02-06T19:42:01.517Z"
   },
   {
    "duration": 214,
    "start_time": "2022-02-06T19:42:01.744Z"
   },
   {
    "duration": 120,
    "start_time": "2022-02-06T19:42:01.968Z"
   },
   {
    "duration": 18,
    "start_time": "2022-02-06T19:42:02.091Z"
   },
   {
    "duration": 78,
    "start_time": "2022-02-06T19:42:02.112Z"
   },
   {
    "duration": 74,
    "start_time": "2022-02-06T19:42:02.196Z"
   },
   {
    "duration": 261,
    "start_time": "2022-02-06T19:42:02.274Z"
   },
   {
    "duration": 46,
    "start_time": "2022-02-06T19:42:02.539Z"
   },
   {
    "duration": 32,
    "start_time": "2022-02-06T19:42:02.589Z"
   },
   {
    "duration": 45,
    "start_time": "2022-02-06T19:42:02.624Z"
   },
   {
    "duration": 287,
    "start_time": "2022-02-06T19:42:02.672Z"
   },
   {
    "duration": 2539,
    "start_time": "2022-02-06T19:42:02.962Z"
   },
   {
    "duration": 26,
    "start_time": "2022-02-06T19:42:05.503Z"
   },
   {
    "duration": 159,
    "start_time": "2022-02-06T19:42:05.531Z"
   },
   {
    "duration": 24,
    "start_time": "2022-02-06T19:42:05.693Z"
   },
   {
    "duration": 22,
    "start_time": "2022-02-06T19:42:05.719Z"
   },
   {
    "duration": 31,
    "start_time": "2022-02-06T19:42:05.743Z"
   },
   {
    "duration": 15,
    "start_time": "2022-02-06T19:42:05.776Z"
   },
   {
    "duration": 20,
    "start_time": "2022-02-06T19:42:05.793Z"
   },
   {
    "duration": 54,
    "start_time": "2022-02-06T19:42:05.815Z"
   },
   {
    "duration": 7,
    "start_time": "2022-02-06T19:42:05.875Z"
   },
   {
    "duration": 239,
    "start_time": "2022-02-06T19:42:05.885Z"
   },
   {
    "duration": 446,
    "start_time": "2022-02-06T19:42:06.127Z"
   },
   {
    "duration": 15,
    "start_time": "2022-02-06T19:42:06.575Z"
   },
   {
    "duration": 11,
    "start_time": "2022-02-06T19:42:06.592Z"
   },
   {
    "duration": 28,
    "start_time": "2022-02-06T19:42:06.605Z"
   },
   {
    "duration": 23,
    "start_time": "2022-02-06T19:42:06.669Z"
   },
   {
    "duration": 15,
    "start_time": "2022-02-06T19:42:06.694Z"
   },
   {
    "duration": 15,
    "start_time": "2022-02-06T19:42:06.712Z"
   },
   {
    "duration": 176,
    "start_time": "2022-02-06T19:42:06.729Z"
   },
   {
    "duration": 116,
    "start_time": "2022-02-06T19:42:06.907Z"
   },
   {
    "duration": 100,
    "start_time": "2022-02-06T19:42:07.026Z"
   },
   {
    "duration": 81,
    "start_time": "2022-02-06T19:42:07.128Z"
   },
   {
    "duration": 670,
    "start_time": "2022-02-06T19:42:07.212Z"
   },
   {
    "duration": 13,
    "start_time": "2022-02-06T19:42:07.884Z"
   },
   {
    "duration": 5,
    "start_time": "2022-02-06T19:42:07.900Z"
   },
   {
    "duration": 1110,
    "start_time": "2022-02-06T19:42:07.907Z"
   },
   {
    "duration": 98,
    "start_time": "2022-02-06T19:42:09.019Z"
   },
   {
    "duration": 716,
    "start_time": "2022-02-06T19:42:09.119Z"
   },
   {
    "duration": 583,
    "start_time": "2022-02-06T19:42:09.839Z"
   },
   {
    "duration": 683,
    "start_time": "2022-02-06T19:42:10.425Z"
   },
   {
    "duration": 10,
    "start_time": "2022-02-06T19:42:11.111Z"
   },
   {
    "duration": 15,
    "start_time": "2022-02-06T19:42:11.124Z"
   },
   {
    "duration": 13221,
    "start_time": "2022-02-06T19:42:11.141Z"
   },
   {
    "duration": 16,
    "start_time": "2022-02-06T19:42:24.365Z"
   },
   {
    "duration": 11,
    "start_time": "2022-02-06T19:42:24.383Z"
   },
   {
    "duration": 559,
    "start_time": "2022-02-06T19:42:24.396Z"
   },
   {
    "duration": 26,
    "start_time": "2022-02-06T19:42:24.957Z"
   },
   {
    "duration": 47,
    "start_time": "2022-02-06T19:42:24.985Z"
   },
   {
    "duration": 36,
    "start_time": "2022-02-06T19:42:25.035Z"
   },
   {
    "duration": 11,
    "start_time": "2022-02-06T19:42:25.073Z"
   },
   {
    "duration": 7961,
    "start_time": "2022-02-06T19:42:25.087Z"
   },
   {
    "duration": 28,
    "start_time": "2022-02-06T19:42:33.023Z"
   },
   {
    "duration": 18,
    "start_time": "2022-02-06T19:42:33.035Z"
   },
   {
    "duration": 39,
    "start_time": "2022-02-06T19:44:08.897Z"
   },
   {
    "duration": 298,
    "start_time": "2022-02-06T19:44:47.878Z"
   },
   {
    "duration": 301,
    "start_time": "2022-02-06T19:45:24.183Z"
   },
   {
    "duration": 41,
    "start_time": "2022-02-06T19:45:43.601Z"
   },
   {
    "duration": 90,
    "start_time": "2022-02-06T19:46:45.438Z"
   },
   {
    "duration": 259,
    "start_time": "2022-02-06T19:46:52.315Z"
   },
   {
    "duration": 304,
    "start_time": "2022-02-06T19:47:25.933Z"
   },
   {
    "duration": 6,
    "start_time": "2022-02-06T19:47:30.737Z"
   },
   {
    "duration": 21,
    "start_time": "2022-02-06T19:48:44.614Z"
   },
   {
    "duration": 11,
    "start_time": "2022-02-06T19:48:57.592Z"
   },
   {
    "duration": 529,
    "start_time": "2022-02-06T19:49:02.051Z"
   },
   {
    "duration": 24,
    "start_time": "2022-02-06T19:49:10.227Z"
   },
   {
    "duration": 6,
    "start_time": "2022-02-06T19:49:14.829Z"
   },
   {
    "duration": 48,
    "start_time": "2022-02-06T19:49:30.368Z"
   },
   {
    "duration": 40,
    "start_time": "2022-02-06T19:49:41.943Z"
   },
   {
    "duration": 60,
    "start_time": "2022-02-06T19:50:26.857Z"
   },
   {
    "duration": 47,
    "start_time": "2022-02-06T19:50:52.493Z"
   },
   {
    "duration": 1103,
    "start_time": "2022-02-06T19:53:44.722Z"
   },
   {
    "duration": 997,
    "start_time": "2022-02-06T19:53:57.005Z"
   },
   {
    "duration": 62,
    "start_time": "2022-02-06T20:47:31.322Z"
   },
   {
    "duration": 45,
    "start_time": "2022-02-06T20:47:50.104Z"
   },
   {
    "duration": 50,
    "start_time": "2022-02-06T20:58:01.549Z"
   },
   {
    "duration": 941,
    "start_time": "2022-02-06T21:04:44.652Z"
   },
   {
    "duration": 1793,
    "start_time": "2022-02-06T21:04:54.426Z"
   },
   {
    "duration": 1596,
    "start_time": "2022-02-06T21:05:09.110Z"
   },
   {
    "duration": 1581,
    "start_time": "2022-02-06T21:05:18.260Z"
   },
   {
    "duration": 2596,
    "start_time": "2022-02-06T21:07:32.030Z"
   },
   {
    "duration": 2004,
    "start_time": "2022-02-06T21:07:40.641Z"
   },
   {
    "duration": 1807,
    "start_time": "2022-02-06T21:07:52.065Z"
   },
   {
    "duration": 2055,
    "start_time": "2022-02-06T21:08:04.945Z"
   },
   {
    "duration": 3098,
    "start_time": "2022-02-06T21:09:26.574Z"
   },
   {
    "duration": 2288,
    "start_time": "2022-02-06T21:10:02.743Z"
   },
   {
    "duration": 376,
    "start_time": "2022-02-06T21:16:07.138Z"
   },
   {
    "duration": 268,
    "start_time": "2022-02-06T21:16:35.450Z"
   },
   {
    "duration": 13,
    "start_time": "2022-02-06T21:16:51.968Z"
   },
   {
    "duration": 13,
    "start_time": "2022-02-06T21:16:58.825Z"
   },
   {
    "duration": 3,
    "start_time": "2022-02-06T21:53:28.842Z"
   },
   {
    "duration": 8,
    "start_time": "2022-02-06T21:55:49.706Z"
   },
   {
    "duration": 5,
    "start_time": "2022-02-06T21:55:58.015Z"
   },
   {
    "duration": 6,
    "start_time": "2022-02-06T21:56:03.755Z"
   },
   {
    "duration": 5,
    "start_time": "2022-02-06T21:57:29.156Z"
   },
   {
    "duration": 142,
    "start_time": "2022-02-06T21:57:48.933Z"
   },
   {
    "duration": 7,
    "start_time": "2022-02-06T21:59:38.908Z"
   },
   {
    "duration": 7,
    "start_time": "2022-02-06T22:00:38.596Z"
   },
   {
    "duration": 7,
    "start_time": "2022-02-06T22:00:53.516Z"
   },
   {
    "duration": 7,
    "start_time": "2022-02-06T22:00:57.414Z"
   },
   {
    "duration": 7,
    "start_time": "2022-02-06T22:01:01.714Z"
   },
   {
    "duration": 7,
    "start_time": "2022-02-06T22:01:20.400Z"
   },
   {
    "duration": 300,
    "start_time": "2022-02-06T22:03:16.692Z"
   },
   {
    "duration": 253,
    "start_time": "2022-02-06T22:25:19.722Z"
   },
   {
    "duration": 13,
    "start_time": "2022-02-06T22:25:26.664Z"
   },
   {
    "duration": 7,
    "start_time": "2022-02-06T22:25:29.918Z"
   },
   {
    "duration": 43406,
    "start_time": "2022-02-06T22:26:59.760Z"
   },
   {
    "duration": 24,
    "start_time": "2022-02-06T22:27:59.316Z"
   },
   {
    "duration": 24,
    "start_time": "2022-02-06T22:28:18.908Z"
   },
   {
    "duration": 38,
    "start_time": "2022-02-06T22:28:26.193Z"
   },
   {
    "duration": 109,
    "start_time": "2022-02-06T22:28:44.622Z"
   },
   {
    "duration": 40,
    "start_time": "2022-02-06T22:28:47.686Z"
   },
   {
    "duration": 58694,
    "start_time": "2022-02-06T22:29:21.775Z"
   },
   {
    "duration": 58,
    "start_time": "2022-02-06T22:30:22.892Z"
   },
   {
    "duration": 24015,
    "start_time": "2022-02-06T22:31:39.905Z"
   },
   {
    "duration": 60,
    "start_time": "2022-02-06T22:32:08.706Z"
   },
   {
    "duration": 268,
    "start_time": "2022-02-06T22:32:30.522Z"
   },
   {
    "duration": 89,
    "start_time": "2022-02-06T22:32:37.364Z"
   },
   {
    "duration": 300,
    "start_time": "2022-02-06T22:32:40.813Z"
   },
   {
    "duration": 9,
    "start_time": "2022-02-06T22:32:55.071Z"
   },
   {
    "duration": 6297,
    "start_time": "2022-02-06T22:33:05.803Z"
   },
   {
    "duration": 11,
    "start_time": "2022-02-06T22:33:17.939Z"
   },
   {
    "duration": 5,
    "start_time": "2022-02-06T22:34:33.397Z"
   },
   {
    "duration": 41782,
    "start_time": "2022-02-06T22:34:35.861Z"
   },
   {
    "duration": 91,
    "start_time": "2022-02-06T22:35:19.568Z"
   },
   {
    "duration": 523,
    "start_time": "2022-02-06T22:36:13.023Z"
   },
   {
    "duration": 543,
    "start_time": "2022-02-06T22:36:21.351Z"
   },
   {
    "duration": 24405,
    "start_time": "2022-02-06T22:36:37.387Z"
   },
   {
    "duration": 57,
    "start_time": "2022-02-06T22:37:06.719Z"
   },
   {
    "duration": 13,
    "start_time": "2022-02-06T22:37:28.504Z"
   },
   {
    "duration": 13,
    "start_time": "2022-02-06T22:37:30.907Z"
   },
   {
    "duration": 6,
    "start_time": "2022-02-06T22:37:31.698Z"
   },
   {
    "duration": 11,
    "start_time": "2022-02-06T22:37:42.498Z"
   },
   {
    "duration": 8,
    "start_time": "2022-02-06T22:37:43.536Z"
   },
   {
    "duration": 12,
    "start_time": "2022-02-06T22:37:50.772Z"
   },
   {
    "duration": 7,
    "start_time": "2022-02-06T22:37:51.928Z"
   },
   {
    "duration": 5,
    "start_time": "2022-02-06T22:38:08.554Z"
   },
   {
    "duration": 24332,
    "start_time": "2022-02-06T22:38:10.330Z"
   },
   {
    "duration": 55,
    "start_time": "2022-02-06T22:38:37.370Z"
   },
   {
    "duration": 24223,
    "start_time": "2022-02-06T22:39:08.850Z"
   },
   {
    "duration": 40,
    "start_time": "2022-02-06T22:39:33.076Z"
   },
   {
    "duration": 6,
    "start_time": "2022-02-06T22:41:07.450Z"
   },
   {
    "duration": 5,
    "start_time": "2022-02-06T22:41:14.240Z"
   },
   {
    "duration": 12321,
    "start_time": "2022-02-06T22:41:15.758Z"
   },
   {
    "duration": 42,
    "start_time": "2022-02-06T22:41:36.779Z"
   },
   {
    "duration": 10,
    "start_time": "2022-02-06T22:41:47.331Z"
   },
   {
    "duration": 10,
    "start_time": "2022-02-06T22:41:52.614Z"
   },
   {
    "duration": 8,
    "start_time": "2022-02-06T22:43:38.853Z"
   },
   {
    "duration": 24,
    "start_time": "2022-02-06T22:43:50.469Z"
   },
   {
    "duration": 12,
    "start_time": "2022-02-06T22:45:06.988Z"
   },
   {
    "duration": 1078,
    "start_time": "2022-02-06T22:46:08.782Z"
   },
   {
    "duration": 13,
    "start_time": "2022-02-06T22:46:51.076Z"
   },
   {
    "duration": 7,
    "start_time": "2022-02-06T22:46:52.838Z"
   },
   {
    "duration": 405,
    "start_time": "2022-02-06T22:49:33.995Z"
   },
   {
    "duration": 450,
    "start_time": "2022-02-06T22:49:50.254Z"
   },
   {
    "duration": 471,
    "start_time": "2022-02-06T22:50:03.914Z"
   },
   {
    "duration": 612,
    "start_time": "2022-02-06T22:50:17.648Z"
   },
   {
    "duration": 700,
    "start_time": "2022-02-06T22:50:23.454Z"
   },
   {
    "duration": 1088,
    "start_time": "2022-02-06T22:51:08.019Z"
   },
   {
    "duration": 1145,
    "start_time": "2022-02-06T22:51:14.677Z"
   },
   {
    "duration": 1070,
    "start_time": "2022-02-06T22:51:18.701Z"
   },
   {
    "duration": 1109,
    "start_time": "2022-02-07T06:55:37.211Z"
   },
   {
    "duration": 392,
    "start_time": "2022-02-07T06:55:38.321Z"
   },
   {
    "duration": 139,
    "start_time": "2022-02-07T06:55:38.715Z"
   },
   {
    "duration": 107,
    "start_time": "2022-02-07T06:55:38.856Z"
   },
   {
    "duration": 63,
    "start_time": "2022-02-07T06:55:38.972Z"
   },
   {
    "duration": 10,
    "start_time": "2022-02-07T06:55:39.037Z"
   },
   {
    "duration": 51,
    "start_time": "2022-02-07T06:55:39.049Z"
   },
   {
    "duration": 32,
    "start_time": "2022-02-07T06:55:39.102Z"
   },
   {
    "duration": 172,
    "start_time": "2022-02-07T06:55:39.136Z"
   },
   {
    "duration": 19,
    "start_time": "2022-02-07T06:55:39.310Z"
   },
   {
    "duration": 33,
    "start_time": "2022-02-07T06:55:39.331Z"
   },
   {
    "duration": 13,
    "start_time": "2022-02-07T06:55:39.366Z"
   },
   {
    "duration": 162,
    "start_time": "2022-02-07T06:55:39.381Z"
   },
   {
    "duration": 1605,
    "start_time": "2022-02-07T06:55:39.545Z"
   },
   {
    "duration": 25,
    "start_time": "2022-02-07T06:55:41.152Z"
   },
   {
    "duration": 95,
    "start_time": "2022-02-07T06:55:41.178Z"
   },
   {
    "duration": 15,
    "start_time": "2022-02-07T06:55:41.275Z"
   },
   {
    "duration": 14,
    "start_time": "2022-02-07T06:55:41.292Z"
   },
   {
    "duration": 4,
    "start_time": "2022-02-07T06:55:41.307Z"
   },
   {
    "duration": 10,
    "start_time": "2022-02-07T06:55:41.313Z"
   },
   {
    "duration": 13,
    "start_time": "2022-02-07T06:55:41.324Z"
   },
   {
    "duration": 44,
    "start_time": "2022-02-07T06:55:41.338Z"
   },
   {
    "duration": 14,
    "start_time": "2022-02-07T06:55:41.385Z"
   },
   {
    "duration": 122,
    "start_time": "2022-02-07T06:55:41.401Z"
   },
   {
    "duration": 257,
    "start_time": "2022-02-07T06:55:41.524Z"
   },
   {
    "duration": 10,
    "start_time": "2022-02-07T06:55:41.783Z"
   },
   {
    "duration": 5,
    "start_time": "2022-02-07T06:55:41.795Z"
   },
   {
    "duration": 16,
    "start_time": "2022-02-07T06:55:41.802Z"
   },
   {
    "duration": 13,
    "start_time": "2022-02-07T06:55:41.819Z"
   },
   {
    "duration": 41,
    "start_time": "2022-02-07T06:55:41.834Z"
   },
   {
    "duration": 9,
    "start_time": "2022-02-07T06:55:41.876Z"
   },
   {
    "duration": 99,
    "start_time": "2022-02-07T06:55:41.887Z"
   },
   {
    "duration": 65,
    "start_time": "2022-02-07T06:55:41.988Z"
   },
   {
    "duration": 67,
    "start_time": "2022-02-07T06:55:42.054Z"
   },
   {
    "duration": 55,
    "start_time": "2022-02-07T06:55:42.123Z"
   },
   {
    "duration": 308,
    "start_time": "2022-02-07T06:55:42.180Z"
   },
   {
    "duration": 7,
    "start_time": "2022-02-07T06:55:42.490Z"
   },
   {
    "duration": 4,
    "start_time": "2022-02-07T06:55:42.498Z"
   },
   {
    "duration": 555,
    "start_time": "2022-02-07T06:55:42.503Z"
   },
   {
    "duration": 61,
    "start_time": "2022-02-07T06:55:43.059Z"
   },
   {
    "duration": 390,
    "start_time": "2022-02-07T06:55:43.121Z"
   },
   {
    "duration": 299,
    "start_time": "2022-02-07T06:55:43.513Z"
   },
   {
    "duration": 386,
    "start_time": "2022-02-07T06:55:43.814Z"
   },
   {
    "duration": 5,
    "start_time": "2022-02-07T06:55:44.202Z"
   },
   {
    "duration": 8,
    "start_time": "2022-02-07T06:55:44.209Z"
   },
   {
    "duration": 6419,
    "start_time": "2022-02-07T06:55:44.219Z"
   },
   {
    "duration": 8,
    "start_time": "2022-02-07T06:55:50.641Z"
   },
   {
    "duration": 21,
    "start_time": "2022-02-07T06:55:50.651Z"
   },
   {
    "duration": 286,
    "start_time": "2022-02-07T06:55:50.673Z"
   },
   {
    "duration": 15,
    "start_time": "2022-02-07T06:55:50.961Z"
   },
   {
    "duration": 44,
    "start_time": "2022-02-07T06:55:50.977Z"
   },
   {
    "duration": 1215,
    "start_time": "2022-02-07T06:55:51.023Z"
   },
   {
    "duration": 8,
    "start_time": "2022-02-07T06:55:52.239Z"
   },
   {
    "duration": 9,
    "start_time": "2022-02-07T06:55:52.248Z"
   },
   {
    "duration": 17,
    "start_time": "2022-02-07T06:55:52.258Z"
   },
   {
    "duration": 8,
    "start_time": "2022-02-07T06:55:52.277Z"
   },
   {
    "duration": 15,
    "start_time": "2022-02-07T06:55:52.287Z"
   },
   {
    "duration": 6441,
    "start_time": "2022-02-07T06:55:52.303Z"
   },
   {
    "duration": 5,
    "start_time": "2022-02-07T06:55:58.745Z"
   },
   {
    "duration": 606,
    "start_time": "2022-02-07T06:55:58.752Z"
   },
   {
    "duration": 12,
    "start_time": "2022-02-07T06:55:59.360Z"
   },
   {
    "duration": 8,
    "start_time": "2022-02-07T07:04:38.598Z"
   },
   {
    "duration": 9,
    "start_time": "2022-02-07T07:19:54.420Z"
   },
   {
    "duration": 5,
    "start_time": "2022-02-07T07:19:55.327Z"
   },
   {
    "duration": 643,
    "start_time": "2022-02-07T07:21:54.835Z"
   },
   {
    "duration": 718,
    "start_time": "2022-02-07T07:22:05.237Z"
   },
   {
    "duration": 598,
    "start_time": "2022-02-07T07:22:22.469Z"
   },
   {
    "duration": 486,
    "start_time": "2022-02-07T07:22:29.658Z"
   },
   {
    "duration": 580,
    "start_time": "2022-02-07T07:22:34.399Z"
   },
   {
    "duration": 511,
    "start_time": "2022-02-07T07:22:40.460Z"
   },
   {
    "duration": 499,
    "start_time": "2022-02-07T07:23:38.889Z"
   },
   {
    "duration": 4,
    "start_time": "2022-02-07T07:24:40.548Z"
   },
   {
    "duration": 9,
    "start_time": "2022-02-07T07:27:45.761Z"
   },
   {
    "duration": 501,
    "start_time": "2022-02-07T07:27:47.053Z"
   },
   {
    "duration": 5,
    "start_time": "2022-02-07T07:27:52.707Z"
   },
   {
    "duration": 5,
    "start_time": "2022-02-07T07:30:25.600Z"
   },
   {
    "duration": 5,
    "start_time": "2022-02-07T07:30:56.603Z"
   },
   {
    "duration": 17,
    "start_time": "2022-02-07T07:34:04.835Z"
   },
   {
    "duration": 432,
    "start_time": "2022-02-07T07:37:21.962Z"
   },
   {
    "duration": 15,
    "start_time": "2022-02-07T07:37:52.688Z"
   },
   {
    "duration": 22,
    "start_time": "2022-02-07T07:38:54.825Z"
   },
   {
    "duration": 17,
    "start_time": "2022-02-07T07:39:01.152Z"
   },
   {
    "duration": 15,
    "start_time": "2022-02-07T07:39:44.006Z"
   },
   {
    "duration": 2,
    "start_time": "2022-02-07T07:43:19.043Z"
   },
   {
    "duration": 1142,
    "start_time": "2022-02-07T07:52:29.777Z"
   },
   {
    "duration": 397,
    "start_time": "2022-02-07T07:52:30.921Z"
   },
   {
    "duration": 144,
    "start_time": "2022-02-07T07:52:31.320Z"
   },
   {
    "duration": 114,
    "start_time": "2022-02-07T07:52:31.466Z"
   },
   {
    "duration": 65,
    "start_time": "2022-02-07T07:52:31.582Z"
   },
   {
    "duration": 11,
    "start_time": "2022-02-07T07:52:31.672Z"
   },
   {
    "duration": 29,
    "start_time": "2022-02-07T07:52:31.685Z"
   },
   {
    "duration": 55,
    "start_time": "2022-02-07T07:52:31.717Z"
   },
   {
    "duration": 152,
    "start_time": "2022-02-07T07:52:31.774Z"
   },
   {
    "duration": 20,
    "start_time": "2022-02-07T07:52:31.928Z"
   },
   {
    "duration": 36,
    "start_time": "2022-02-07T07:52:31.950Z"
   },
   {
    "duration": 9,
    "start_time": "2022-02-07T07:52:31.988Z"
   },
   {
    "duration": 172,
    "start_time": "2022-02-07T07:52:31.999Z"
   },
   {
    "duration": 1563,
    "start_time": "2022-02-07T07:52:32.173Z"
   },
   {
    "duration": 15,
    "start_time": "2022-02-07T07:52:33.738Z"
   },
   {
    "duration": 99,
    "start_time": "2022-02-07T07:52:33.754Z"
   },
   {
    "duration": 26,
    "start_time": "2022-02-07T07:52:33.854Z"
   },
   {
    "duration": 14,
    "start_time": "2022-02-07T07:52:33.881Z"
   },
   {
    "duration": 3,
    "start_time": "2022-02-07T07:52:33.896Z"
   },
   {
    "duration": 8,
    "start_time": "2022-02-07T07:52:33.901Z"
   },
   {
    "duration": 11,
    "start_time": "2022-02-07T07:52:33.910Z"
   },
   {
    "duration": 9,
    "start_time": "2022-02-07T07:52:33.923Z"
   },
   {
    "duration": 36,
    "start_time": "2022-02-07T07:52:33.935Z"
   },
   {
    "duration": 117,
    "start_time": "2022-02-07T07:52:33.973Z"
   },
   {
    "duration": 235,
    "start_time": "2022-02-07T07:52:34.091Z"
   },
   {
    "duration": 9,
    "start_time": "2022-02-07T07:52:34.328Z"
   },
   {
    "duration": 6,
    "start_time": "2022-02-07T07:52:34.338Z"
   },
   {
    "duration": 38,
    "start_time": "2022-02-07T07:52:34.345Z"
   },
   {
    "duration": 13,
    "start_time": "2022-02-07T07:52:34.384Z"
   },
   {
    "duration": 7,
    "start_time": "2022-02-07T07:52:34.398Z"
   },
   {
    "duration": 9,
    "start_time": "2022-02-07T07:52:34.407Z"
   },
   {
    "duration": 104,
    "start_time": "2022-02-07T07:52:34.417Z"
   },
   {
    "duration": 68,
    "start_time": "2022-02-07T07:52:34.522Z"
   },
   {
    "duration": 58,
    "start_time": "2022-02-07T07:52:34.592Z"
   },
   {
    "duration": 62,
    "start_time": "2022-02-07T07:52:34.651Z"
   },
   {
    "duration": 329,
    "start_time": "2022-02-07T07:52:34.715Z"
   },
   {
    "duration": 8,
    "start_time": "2022-02-07T07:52:35.045Z"
   },
   {
    "duration": 5,
    "start_time": "2022-02-07T07:52:35.054Z"
   },
   {
    "duration": 549,
    "start_time": "2022-02-07T07:52:35.060Z"
   },
   {
    "duration": 72,
    "start_time": "2022-02-07T07:52:35.610Z"
   },
   {
    "duration": 394,
    "start_time": "2022-02-07T07:52:35.684Z"
   },
   {
    "duration": 310,
    "start_time": "2022-02-07T07:52:36.080Z"
   },
   {
    "duration": 396,
    "start_time": "2022-02-07T07:52:36.392Z"
   },
   {
    "duration": 6,
    "start_time": "2022-02-07T07:52:36.790Z"
   },
   {
    "duration": 12,
    "start_time": "2022-02-07T07:52:36.798Z"
   },
   {
    "duration": 6816,
    "start_time": "2022-02-07T07:52:36.812Z"
   },
   {
    "duration": 9,
    "start_time": "2022-02-07T07:52:43.630Z"
   },
   {
    "duration": 8,
    "start_time": "2022-02-07T07:52:43.640Z"
   },
   {
    "duration": 289,
    "start_time": "2022-02-07T07:52:43.649Z"
   },
   {
    "duration": 14,
    "start_time": "2022-02-07T07:52:43.940Z"
   },
   {
    "duration": 40,
    "start_time": "2022-02-07T07:52:43.956Z"
   },
   {
    "duration": 1085,
    "start_time": "2022-02-07T07:52:43.998Z"
   },
   {
    "duration": 7,
    "start_time": "2022-02-07T07:52:45.085Z"
   },
   {
    "duration": 7,
    "start_time": "2022-02-07T07:52:45.094Z"
   },
   {
    "duration": 502,
    "start_time": "2022-02-07T07:52:45.103Z"
   },
   {
    "duration": 5,
    "start_time": "2022-02-07T07:52:45.607Z"
   },
   {
    "duration": 5,
    "start_time": "2022-02-07T07:52:45.614Z"
   },
   {
    "duration": 6546,
    "start_time": "2022-02-07T07:52:45.621Z"
   },
   {
    "duration": 4,
    "start_time": "2022-02-07T07:52:52.171Z"
   },
   {
    "duration": 508,
    "start_time": "2022-02-07T07:52:52.177Z"
   },
   {
    "duration": 4,
    "start_time": "2022-02-07T07:52:52.687Z"
   },
   {
    "duration": 15,
    "start_time": "2022-02-07T07:52:52.693Z"
   },
   {
    "duration": 1468,
    "start_time": "2022-02-13T09:32:17.561Z"
   },
   {
    "duration": 511,
    "start_time": "2022-02-13T09:32:19.031Z"
   },
   {
    "duration": 201,
    "start_time": "2022-02-13T09:32:19.545Z"
   },
   {
    "duration": 185,
    "start_time": "2022-02-13T09:32:19.750Z"
   },
   {
    "duration": 113,
    "start_time": "2022-02-13T09:32:19.937Z"
   },
   {
    "duration": 33,
    "start_time": "2022-02-13T09:32:20.053Z"
   },
   {
    "duration": 80,
    "start_time": "2022-02-13T09:32:20.089Z"
   },
   {
    "duration": 43,
    "start_time": "2022-02-13T09:32:20.172Z"
   },
   {
    "duration": 276,
    "start_time": "2022-02-13T09:32:20.219Z"
   },
   {
    "duration": 29,
    "start_time": "2022-02-13T09:32:20.499Z"
   },
   {
    "duration": 54,
    "start_time": "2022-02-13T09:32:20.530Z"
   },
   {
    "duration": 14,
    "start_time": "2022-02-13T09:32:20.586Z"
   },
   {
    "duration": 291,
    "start_time": "2022-02-13T09:32:20.602Z"
   },
   {
    "duration": 2587,
    "start_time": "2022-02-13T09:32:20.895Z"
   },
   {
    "duration": 26,
    "start_time": "2022-02-13T09:32:23.485Z"
   },
   {
    "duration": 164,
    "start_time": "2022-02-13T09:32:23.513Z"
   },
   {
    "duration": 25,
    "start_time": "2022-02-13T09:32:23.679Z"
   },
   {
    "duration": 25,
    "start_time": "2022-02-13T09:32:23.706Z"
   },
   {
    "duration": 38,
    "start_time": "2022-02-13T09:32:23.733Z"
   },
   {
    "duration": 15,
    "start_time": "2022-02-13T09:32:23.773Z"
   },
   {
    "duration": 22,
    "start_time": "2022-02-13T09:32:23.791Z"
   },
   {
    "duration": 16,
    "start_time": "2022-02-13T09:32:23.815Z"
   },
   {
    "duration": 8,
    "start_time": "2022-02-13T09:32:23.869Z"
   },
   {
    "duration": 240,
    "start_time": "2022-02-13T09:32:23.880Z"
   },
   {
    "duration": 433,
    "start_time": "2022-02-13T09:32:24.122Z"
   },
   {
    "duration": 23,
    "start_time": "2022-02-13T09:32:24.558Z"
   },
   {
    "duration": 10,
    "start_time": "2022-02-13T09:32:24.589Z"
   },
   {
    "duration": 28,
    "start_time": "2022-02-13T09:32:24.602Z"
   },
   {
    "duration": 22,
    "start_time": "2022-02-13T09:32:24.670Z"
   },
   {
    "duration": 13,
    "start_time": "2022-02-13T09:32:24.694Z"
   },
   {
    "duration": 16,
    "start_time": "2022-02-13T09:32:24.709Z"
   },
   {
    "duration": 190,
    "start_time": "2022-02-13T09:32:24.727Z"
   },
   {
    "duration": 119,
    "start_time": "2022-02-13T09:32:24.919Z"
   },
   {
    "duration": 107,
    "start_time": "2022-02-13T09:32:25.041Z"
   },
   {
    "duration": 81,
    "start_time": "2022-02-13T09:32:25.150Z"
   },
   {
    "duration": 671,
    "start_time": "2022-02-13T09:32:25.233Z"
   },
   {
    "duration": 13,
    "start_time": "2022-02-13T09:32:25.907Z"
   },
   {
    "duration": 19,
    "start_time": "2022-02-13T09:32:25.922Z"
   },
   {
    "duration": 1062,
    "start_time": "2022-02-13T09:32:25.944Z"
   },
   {
    "duration": 98,
    "start_time": "2022-02-13T09:32:27.010Z"
   },
   {
    "duration": 692,
    "start_time": "2022-02-13T09:32:27.112Z"
   },
   {
    "duration": 606,
    "start_time": "2022-02-13T09:32:27.807Z"
   },
   {
    "duration": 664,
    "start_time": "2022-02-13T09:32:28.416Z"
   },
   {
    "duration": 13,
    "start_time": "2022-02-13T09:32:29.083Z"
   },
   {
    "duration": 19,
    "start_time": "2022-02-13T09:32:29.098Z"
   },
   {
    "duration": 12739,
    "start_time": "2022-02-13T09:32:29.121Z"
   },
   {
    "duration": 18,
    "start_time": "2022-02-13T09:32:41.862Z"
   },
   {
    "duration": 12,
    "start_time": "2022-02-13T09:32:41.882Z"
   },
   {
    "duration": 647,
    "start_time": "2022-02-13T09:32:41.896Z"
   },
   {
    "duration": 36,
    "start_time": "2022-02-13T09:32:42.546Z"
   },
   {
    "duration": 51,
    "start_time": "2022-02-13T09:32:42.584Z"
   },
   {
    "duration": 2139,
    "start_time": "2022-02-13T09:32:42.638Z"
   },
   {
    "duration": 13,
    "start_time": "2022-02-13T09:32:44.780Z"
   },
   {
    "duration": 14,
    "start_time": "2022-02-13T09:32:44.796Z"
   },
   {
    "duration": 1049,
    "start_time": "2022-02-13T09:32:44.812Z"
   },
   {
    "duration": 12,
    "start_time": "2022-02-13T09:32:45.863Z"
   },
   {
    "duration": 11,
    "start_time": "2022-02-13T09:32:45.877Z"
   },
   {
    "duration": 13084,
    "start_time": "2022-02-13T09:32:45.891Z"
   },
   {
    "duration": 6,
    "start_time": "2022-02-13T09:32:58.977Z"
   },
   {
    "duration": 968,
    "start_time": "2022-02-13T09:32:58.985Z"
   },
   {
    "duration": 14,
    "start_time": "2022-02-13T09:32:59.956Z"
   },
   {
    "duration": 28,
    "start_time": "2022-02-13T09:32:59.973Z"
   },
   {
    "duration": 1653,
    "start_time": "2022-02-13T09:53:43.766Z"
   },
   {
    "duration": 528,
    "start_time": "2022-02-13T09:53:45.421Z"
   },
   {
    "duration": 222,
    "start_time": "2022-02-13T09:53:45.953Z"
   },
   {
    "duration": 251,
    "start_time": "2022-02-13T09:53:46.178Z"
   },
   {
    "duration": 141,
    "start_time": "2022-02-13T09:53:46.433Z"
   },
   {
    "duration": 19,
    "start_time": "2022-02-13T09:53:46.576Z"
   },
   {
    "duration": 80,
    "start_time": "2022-02-13T09:53:46.597Z"
   },
   {
    "duration": 43,
    "start_time": "2022-02-13T09:53:46.681Z"
   },
   {
    "duration": 284,
    "start_time": "2022-02-13T09:53:46.727Z"
   },
   {
    "duration": 32,
    "start_time": "2022-02-13T09:53:47.014Z"
   },
   {
    "duration": 45,
    "start_time": "2022-02-13T09:53:47.048Z"
   },
   {
    "duration": 16,
    "start_time": "2022-02-13T09:53:47.096Z"
   },
   {
    "duration": 322,
    "start_time": "2022-02-13T09:53:47.115Z"
   },
   {
    "duration": 2623,
    "start_time": "2022-02-13T09:53:47.440Z"
   },
   {
    "duration": 25,
    "start_time": "2022-02-13T09:53:50.069Z"
   },
   {
    "duration": 163,
    "start_time": "2022-02-13T09:53:50.097Z"
   },
   {
    "duration": 30,
    "start_time": "2022-02-13T09:53:50.263Z"
   },
   {
    "duration": 25,
    "start_time": "2022-02-13T09:53:50.296Z"
   },
   {
    "duration": 6,
    "start_time": "2022-02-13T09:53:50.324Z"
   },
   {
    "duration": 47,
    "start_time": "2022-02-13T09:53:50.333Z"
   },
   {
    "duration": 20,
    "start_time": "2022-02-13T09:53:50.383Z"
   },
   {
    "duration": 18,
    "start_time": "2022-02-13T09:53:50.406Z"
   },
   {
    "duration": 47,
    "start_time": "2022-02-13T09:53:50.430Z"
   },
   {
    "duration": 252,
    "start_time": "2022-02-13T09:53:50.481Z"
   },
   {
    "duration": 470,
    "start_time": "2022-02-13T09:53:50.736Z"
   },
   {
    "duration": 16,
    "start_time": "2022-02-13T09:53:51.208Z"
   },
   {
    "duration": 45,
    "start_time": "2022-02-13T09:53:51.227Z"
   },
   {
    "duration": 36,
    "start_time": "2022-02-13T09:53:51.275Z"
   },
   {
    "duration": 25,
    "start_time": "2022-02-13T09:53:51.313Z"
   },
   {
    "duration": 40,
    "start_time": "2022-02-13T09:53:51.341Z"
   },
   {
    "duration": 19,
    "start_time": "2022-02-13T09:53:51.384Z"
   },
   {
    "duration": 194,
    "start_time": "2022-02-13T09:53:51.406Z"
   },
   {
    "duration": 126,
    "start_time": "2022-02-13T09:53:51.603Z"
   },
   {
    "duration": 135,
    "start_time": "2022-02-13T09:53:51.732Z"
   },
   {
    "duration": 103,
    "start_time": "2022-02-13T09:53:51.870Z"
   },
   {
    "duration": 748,
    "start_time": "2022-02-13T09:53:51.976Z"
   },
   {
    "duration": 14,
    "start_time": "2022-02-13T09:53:52.726Z"
   },
   {
    "duration": 27,
    "start_time": "2022-02-13T09:53:52.742Z"
   },
   {
    "duration": 1227,
    "start_time": "2022-02-13T09:53:52.771Z"
   },
   {
    "duration": 104,
    "start_time": "2022-02-13T09:53:54.001Z"
   },
   {
    "duration": 1013,
    "start_time": "2022-02-13T09:53:54.108Z"
   },
   {
    "duration": 697,
    "start_time": "2022-02-13T09:53:55.126Z"
   },
   {
    "duration": 883,
    "start_time": "2022-02-13T09:53:55.826Z"
   },
   {
    "duration": 14,
    "start_time": "2022-02-13T09:53:56.712Z"
   },
   {
    "duration": 50,
    "start_time": "2022-02-13T09:53:56.733Z"
   },
   {
    "duration": 20214,
    "start_time": "2022-02-13T09:53:56.787Z"
   },
   {
    "duration": 16,
    "start_time": "2022-02-13T09:54:17.004Z"
   },
   {
    "duration": 14,
    "start_time": "2022-02-13T09:54:17.023Z"
   },
   {
    "duration": 644,
    "start_time": "2022-02-13T09:54:17.040Z"
   },
   {
    "duration": 38,
    "start_time": "2022-02-13T09:54:17.688Z"
   },
   {
    "duration": 83,
    "start_time": "2022-02-13T09:54:17.730Z"
   },
   {
    "duration": 2774,
    "start_time": "2022-02-13T09:54:17.816Z"
   },
   {
    "duration": 13,
    "start_time": "2022-02-13T09:54:20.593Z"
   },
   {
    "duration": 14,
    "start_time": "2022-02-13T09:54:20.610Z"
   },
   {
    "duration": 1024,
    "start_time": "2022-02-13T09:54:20.627Z"
   },
   {
    "duration": 7,
    "start_time": "2022-02-13T09:54:21.653Z"
   },
   {
    "duration": 9,
    "start_time": "2022-02-13T09:54:21.672Z"
   },
   {
    "duration": 15786,
    "start_time": "2022-02-13T09:54:21.684Z"
   },
   {
    "duration": 7,
    "start_time": "2022-02-13T09:54:37.472Z"
   },
   {
    "duration": 1016,
    "start_time": "2022-02-13T09:54:37.481Z"
   },
   {
    "duration": 7,
    "start_time": "2022-02-13T09:54:38.500Z"
   },
   {
    "duration": 29,
    "start_time": "2022-02-13T09:54:38.510Z"
   },
   {
    "duration": 1491,
    "start_time": "2022-02-19T11:56:15.796Z"
   },
   {
    "duration": 555,
    "start_time": "2022-02-19T11:56:49.066Z"
   },
   {
    "duration": 212,
    "start_time": "2022-02-19T11:56:53.032Z"
   },
   {
    "duration": 135,
    "start_time": "2022-02-19T11:56:58.677Z"
   },
   {
    "duration": 470,
    "start_time": "2022-02-19T13:05:39.287Z"
   },
   {
    "duration": 262,
    "start_time": "2022-02-19T13:05:54.738Z"
   },
   {
    "duration": 274,
    "start_time": "2022-02-19T13:06:12.474Z"
   },
   {
    "duration": 127,
    "start_time": "2022-02-19T13:08:53.241Z"
   },
   {
    "duration": 264,
    "start_time": "2022-02-19T13:09:24.085Z"
   },
   {
    "duration": 322,
    "start_time": "2022-02-19T13:10:47.256Z"
   },
   {
    "duration": 6,
    "start_time": "2022-02-19T13:15:59.281Z"
   },
   {
    "duration": 12,
    "start_time": "2022-02-19T13:17:42.209Z"
   },
   {
    "duration": 523,
    "start_time": "2022-02-19T13:18:48.146Z"
   },
   {
    "duration": 8,
    "start_time": "2022-02-19T13:20:20.878Z"
   },
   {
    "duration": 11,
    "start_time": "2022-02-19T13:20:26.342Z"
   },
   {
    "duration": 217,
    "start_time": "2022-02-19T13:26:45.472Z"
   },
   {
    "duration": 269,
    "start_time": "2022-02-19T13:27:03.830Z"
   },
   {
    "duration": 3,
    "start_time": "2022-02-19T13:27:16.671Z"
   },
   {
    "duration": 547,
    "start_time": "2022-02-19T13:27:18.502Z"
   },
   {
    "duration": 192,
    "start_time": "2022-02-19T13:27:21.557Z"
   },
   {
    "duration": 127,
    "start_time": "2022-02-19T13:27:24.413Z"
   },
   {
    "duration": 91,
    "start_time": "2022-02-19T13:27:29.509Z"
   },
   {
    "duration": 19,
    "start_time": "2022-02-19T13:27:31.794Z"
   },
   {
    "duration": 144,
    "start_time": "2022-02-19T13:27:33.541Z"
   },
   {
    "duration": 39,
    "start_time": "2022-02-19T13:27:37.277Z"
   },
   {
    "duration": 268,
    "start_time": "2022-02-19T13:27:38.907Z"
   },
   {
    "duration": 242,
    "start_time": "2022-02-19T13:27:46.186Z"
   },
   {
    "duration": 354,
    "start_time": "2022-02-19T13:27:51.663Z"
   },
   {
    "duration": 33,
    "start_time": "2022-02-19T13:27:58.154Z"
   },
   {
    "duration": 28,
    "start_time": "2022-02-19T13:28:15.700Z"
   },
   {
    "duration": 15,
    "start_time": "2022-02-19T13:28:17.483Z"
   },
   {
    "duration": 274,
    "start_time": "2022-02-19T13:28:19.954Z"
   },
   {
    "duration": 2734,
    "start_time": "2022-02-19T13:28:22.166Z"
   },
   {
    "duration": 24,
    "start_time": "2022-02-19T13:28:27.802Z"
   },
   {
    "duration": 107,
    "start_time": "2022-02-19T13:28:30.446Z"
   },
   {
    "duration": 21,
    "start_time": "2022-02-19T13:28:33.476Z"
   },
   {
    "duration": 32,
    "start_time": "2022-02-19T13:28:36.990Z"
   },
   {
    "duration": 7,
    "start_time": "2022-02-19T13:28:40.824Z"
   },
   {
    "duration": 22,
    "start_time": "2022-02-19T13:28:43.404Z"
   },
   {
    "duration": 395,
    "start_time": "2022-02-19T13:28:46.677Z"
   },
   {
    "duration": 3,
    "start_time": "2022-02-19T13:29:44.677Z"
   },
   {
    "duration": 18,
    "start_time": "2022-02-19T13:30:01.572Z"
   },
   {
    "duration": 8,
    "start_time": "2022-02-19T13:30:07.554Z"
   },
   {
    "duration": 212,
    "start_time": "2022-02-19T13:30:09.386Z"
   },
   {
    "duration": 727,
    "start_time": "2022-02-19T13:30:11.056Z"
   },
   {
    "duration": 16,
    "start_time": "2022-02-19T13:30:13.689Z"
   },
   {
    "duration": 10,
    "start_time": "2022-02-19T13:30:15.464Z"
   },
   {
    "duration": 30,
    "start_time": "2022-02-19T13:30:17.148Z"
   },
   {
    "duration": 26,
    "start_time": "2022-02-19T13:30:19.326Z"
   },
   {
    "duration": 12,
    "start_time": "2022-02-19T13:30:23.174Z"
   },
   {
    "duration": 16,
    "start_time": "2022-02-19T13:30:44.321Z"
   },
   {
    "duration": 13,
    "start_time": "2022-02-19T13:30:52.940Z"
   },
   {
    "duration": 6,
    "start_time": "2022-02-19T13:31:03.385Z"
   },
   {
    "duration": 17,
    "start_time": "2022-02-19T13:31:06.559Z"
   },
   {
    "duration": 122,
    "start_time": "2022-02-19T13:45:22.356Z"
   },
   {
    "duration": 428,
    "start_time": "2022-02-19T13:45:30.496Z"
   },
   {
    "duration": 93,
    "start_time": "2022-02-19T13:45:51.549Z"
   },
   {
    "duration": 72,
    "start_time": "2022-02-19T13:45:54.922Z"
   },
   {
    "duration": 690,
    "start_time": "2022-02-19T13:45:55.407Z"
   },
   {
    "duration": 14,
    "start_time": "2022-02-19T13:46:06.839Z"
   },
   {
    "duration": 52,
    "start_time": "2022-02-19T13:46:18.329Z"
   },
   {
    "duration": 394,
    "start_time": "2022-02-19T13:46:36.513Z"
   },
   {
    "duration": 46,
    "start_time": "2022-02-19T13:46:41.246Z"
   },
   {
    "duration": 485,
    "start_time": "2022-02-19T13:49:33.974Z"
   },
   {
    "duration": 6,
    "start_time": "2022-02-19T13:49:58.911Z"
   },
   {
    "duration": 504,
    "start_time": "2022-02-19T13:50:05.935Z"
   },
   {
    "duration": 84,
    "start_time": "2022-02-19T13:50:34.912Z"
   },
   {
    "duration": 75,
    "start_time": "2022-02-19T13:53:30.443Z"
   },
   {
    "duration": 97,
    "start_time": "2022-02-19T13:55:14.979Z"
   },
   {
    "duration": 109,
    "start_time": "2022-02-19T13:55:25.439Z"
   },
   {
    "duration": 106,
    "start_time": "2022-02-19T13:57:42.641Z"
   },
   {
    "duration": 129,
    "start_time": "2022-02-19T13:58:25.530Z"
   },
   {
    "duration": 22,
    "start_time": "2022-02-19T13:59:09.699Z"
   },
   {
    "duration": 16,
    "start_time": "2022-02-19T13:59:25.557Z"
   },
   {
    "duration": 406,
    "start_time": "2022-02-19T13:59:42.461Z"
   },
   {
    "duration": 22,
    "start_time": "2022-02-19T14:12:44.144Z"
   },
   {
    "duration": 4,
    "start_time": "2022-02-19T14:14:11.580Z"
   },
   {
    "duration": 1502,
    "start_time": "2022-02-19T14:17:21.685Z"
   },
   {
    "duration": 565,
    "start_time": "2022-02-19T14:17:24.755Z"
   },
   {
    "duration": 208,
    "start_time": "2022-02-19T14:17:26.593Z"
   },
   {
    "duration": 100,
    "start_time": "2022-02-19T14:17:32.481Z"
   },
   {
    "duration": 19,
    "start_time": "2022-02-19T14:17:37.935Z"
   },
   {
    "duration": 45,
    "start_time": "2022-02-19T14:17:40.539Z"
   },
   {
    "duration": 41,
    "start_time": "2022-02-19T14:17:45.487Z"
   },
   {
    "duration": 272,
    "start_time": "2022-02-19T14:17:47.473Z"
   },
   {
    "duration": 43,
    "start_time": "2022-02-19T14:17:52.284Z"
   },
   {
    "duration": 30,
    "start_time": "2022-02-19T14:17:54.662Z"
   },
   {
    "duration": 15,
    "start_time": "2022-02-19T14:17:59.166Z"
   },
   {
    "duration": 278,
    "start_time": "2022-02-19T14:18:00.908Z"
   },
   {
    "duration": 2757,
    "start_time": "2022-02-19T14:18:03.930Z"
   },
   {
    "duration": 24,
    "start_time": "2022-02-19T14:18:09.163Z"
   },
   {
    "duration": 113,
    "start_time": "2022-02-19T14:19:00.179Z"
   },
   {
    "duration": 23,
    "start_time": "2022-02-19T14:19:01.933Z"
   },
   {
    "duration": 35,
    "start_time": "2022-02-19T14:19:11.276Z"
   },
   {
    "duration": 6,
    "start_time": "2022-02-19T14:19:14.513Z"
   },
   {
    "duration": 15,
    "start_time": "2022-02-19T14:19:31.332Z"
   },
   {
    "duration": 17,
    "start_time": "2022-02-19T14:19:36.167Z"
   },
   {
    "duration": 8,
    "start_time": "2022-02-19T14:19:39.651Z"
   },
   {
    "duration": 217,
    "start_time": "2022-02-19T14:19:41.263Z"
   },
   {
    "duration": 606,
    "start_time": "2022-02-19T14:19:43.055Z"
   },
   {
    "duration": 15,
    "start_time": "2022-02-19T14:19:46.074Z"
   },
   {
    "duration": 10,
    "start_time": "2022-02-19T14:19:49.047Z"
   },
   {
    "duration": 41,
    "start_time": "2022-02-19T14:19:50.817Z"
   },
   {
    "duration": 23,
    "start_time": "2022-02-19T14:20:01.268Z"
   },
   {
    "duration": 11,
    "start_time": "2022-02-19T14:20:08.010Z"
   },
   {
    "duration": 15,
    "start_time": "2022-02-19T14:20:14.378Z"
   },
   {
    "duration": 7,
    "start_time": "2022-02-19T14:20:25.608Z"
   },
   {
    "duration": 125,
    "start_time": "2022-02-19T14:29:00.284Z"
   },
   {
    "duration": 519,
    "start_time": "2022-02-19T14:29:20.670Z"
   },
   {
    "duration": 98,
    "start_time": "2022-02-19T14:29:36.454Z"
   },
   {
    "duration": 74,
    "start_time": "2022-02-19T14:29:37.775Z"
   },
   {
    "duration": 731,
    "start_time": "2022-02-19T14:29:41.670Z"
   },
   {
    "duration": 13,
    "start_time": "2022-02-19T14:29:43.758Z"
   },
   {
    "duration": 5,
    "start_time": "2022-02-19T14:29:45.960Z"
   },
   {
    "duration": 1087,
    "start_time": "2022-02-19T14:31:03.668Z"
   },
   {
    "duration": 72,
    "start_time": "2022-02-19T14:31:09.801Z"
   },
   {
    "duration": 608,
    "start_time": "2022-02-19T14:31:54.567Z"
   },
   {
    "duration": 573,
    "start_time": "2022-02-19T14:32:02.906Z"
   },
   {
    "duration": 472,
    "start_time": "2022-02-19T14:32:27.569Z"
   },
   {
    "duration": 126,
    "start_time": "2022-02-19T14:33:10.329Z"
   },
   {
    "duration": 22,
    "start_time": "2022-02-19T14:33:17.059Z"
   },
   {
    "duration": 4,
    "start_time": "2022-02-19T14:35:14.793Z"
   },
   {
    "duration": 5,
    "start_time": "2022-02-19T14:38:34.004Z"
   },
   {
    "duration": 20,
    "start_time": "2022-02-19T14:38:36.557Z"
   },
   {
    "duration": 10209,
    "start_time": "2022-02-19T14:38:40.309Z"
   },
   {
    "duration": 12,
    "start_time": "2022-02-19T14:39:49.830Z"
   },
   {
    "duration": 5,
    "start_time": "2022-02-19T14:39:54.550Z"
   },
   {
    "duration": 22,
    "start_time": "2022-02-19T14:39:58.552Z"
   },
   {
    "duration": 10419,
    "start_time": "2022-02-19T14:40:43.894Z"
   },
   {
    "duration": 12,
    "start_time": "2022-02-19T14:41:05.715Z"
   },
   {
    "duration": 5,
    "start_time": "2022-02-19T14:41:32.578Z"
   },
   {
    "duration": 5,
    "start_time": "2022-02-19T14:41:43.902Z"
   },
   {
    "duration": 6,
    "start_time": "2022-02-19T14:41:55.610Z"
   },
   {
    "duration": 7,
    "start_time": "2022-02-19T14:42:53.075Z"
   },
   {
    "duration": 27,
    "start_time": "2022-02-19T14:43:08.071Z"
   },
   {
    "duration": 463,
    "start_time": "2022-02-19T14:45:55.333Z"
   },
   {
    "duration": 8,
    "start_time": "2022-02-19T14:45:59.126Z"
   },
   {
    "duration": 373,
    "start_time": "2022-02-19T14:46:16.529Z"
   },
   {
    "duration": 6,
    "start_time": "2022-02-19T14:46:28.217Z"
   },
   {
    "duration": 6,
    "start_time": "2022-02-19T14:46:33.566Z"
   },
   {
    "duration": 9,
    "start_time": "2022-02-19T14:46:38.107Z"
   },
   {
    "duration": 7,
    "start_time": "2022-02-19T14:46:45.347Z"
   },
   {
    "duration": 10,
    "start_time": "2022-02-19T14:46:54.704Z"
   },
   {
    "duration": 8,
    "start_time": "2022-02-19T14:46:58.785Z"
   },
   {
    "duration": 8,
    "start_time": "2022-02-19T14:47:01.849Z"
   },
   {
    "duration": 428,
    "start_time": "2022-02-19T14:47:16.175Z"
   },
   {
    "duration": 516,
    "start_time": "2022-02-19T14:47:21.156Z"
   },
   {
    "duration": 8,
    "start_time": "2022-02-19T14:47:27.738Z"
   },
   {
    "duration": 8,
    "start_time": "2022-02-19T14:47:34.023Z"
   },
   {
    "duration": 7,
    "start_time": "2022-02-19T14:47:41.980Z"
   },
   {
    "duration": 6,
    "start_time": "2022-02-19T14:47:50.930Z"
   },
   {
    "duration": 8,
    "start_time": "2022-02-19T14:47:56.514Z"
   },
   {
    "duration": 119,
    "start_time": "2022-02-19T14:48:18.634Z"
   },
   {
    "duration": 361,
    "start_time": "2022-02-19T14:48:25.067Z"
   },
   {
    "duration": 383,
    "start_time": "2022-02-19T14:51:56.071Z"
   },
   {
    "duration": 373,
    "start_time": "2022-02-19T14:52:05.313Z"
   },
   {
    "duration": 400,
    "start_time": "2022-02-19T14:52:22.385Z"
   },
   {
    "duration": 1458,
    "start_time": "2022-02-19T14:53:20.502Z"
   },
   {
    "duration": 61569,
    "start_time": "2022-02-19T14:58:41.134Z"
   },
   {
    "duration": 19,
    "start_time": "2022-02-19T14:59:46.832Z"
   },
   {
    "duration": 1962,
    "start_time": "2022-02-19T15:00:01.845Z"
   },
   {
    "duration": 139,
    "start_time": "2022-02-19T15:00:13.026Z"
   },
   {
    "duration": 547,
    "start_time": "2022-02-19T15:21:57.450Z"
   },
   {
    "duration": 398,
    "start_time": "2022-02-19T15:22:01.568Z"
   },
   {
    "duration": 7,
    "start_time": "2022-02-19T15:22:07.183Z"
   },
   {
    "duration": 8,
    "start_time": "2022-02-19T15:22:43.505Z"
   },
   {
    "duration": 379,
    "start_time": "2022-02-19T15:41:08.603Z"
   },
   {
    "duration": 401,
    "start_time": "2022-02-19T15:41:18.504Z"
   },
   {
    "duration": 136,
    "start_time": "2022-02-19T15:41:37.642Z"
   },
   {
    "duration": 4,
    "start_time": "2022-02-19T15:41:44.220Z"
   },
   {
    "duration": 16,
    "start_time": "2022-02-19T15:41:45.532Z"
   },
   {
    "duration": 21,
    "start_time": "2022-02-19T15:41:47.872Z"
   },
   {
    "duration": 9944,
    "start_time": "2022-02-19T15:42:48.663Z"
   },
   {
    "duration": 9585,
    "start_time": "2022-02-19T15:43:31.778Z"
   },
   {
    "duration": 21,
    "start_time": "2022-02-19T15:44:06.176Z"
   },
   {
    "duration": 7,
    "start_time": "2022-02-19T15:44:25.135Z"
   },
   {
    "duration": 20,
    "start_time": "2022-02-19T15:44:28.247Z"
   },
   {
    "duration": 391,
    "start_time": "2022-02-19T15:44:34.861Z"
   },
   {
    "duration": 17,
    "start_time": "2022-02-19T15:44:41.339Z"
   },
   {
    "duration": 6,
    "start_time": "2022-02-19T15:44:50.039Z"
   },
   {
    "duration": 1850,
    "start_time": "2022-02-19T15:44:54.003Z"
   },
   {
    "duration": 11,
    "start_time": "2022-02-19T15:45:29.430Z"
   },
   {
    "duration": 14,
    "start_time": "2022-02-19T15:46:55.632Z"
   },
   {
    "duration": 19456,
    "start_time": "2022-02-19T15:47:37.418Z"
   },
   {
    "duration": 20,
    "start_time": "2022-02-19T15:48:00.357Z"
   },
   {
    "duration": 13,
    "start_time": "2022-02-19T15:48:54.606Z"
   },
   {
    "duration": 10577,
    "start_time": "2022-02-19T15:49:02.096Z"
   },
   {
    "duration": 12,
    "start_time": "2022-02-19T15:50:13.479Z"
   },
   {
    "duration": 505,
    "start_time": "2022-02-19T15:50:17.034Z"
   },
   {
    "duration": 26,
    "start_time": "2022-02-19T15:50:23.673Z"
   },
   {
    "duration": 395,
    "start_time": "2022-02-19T15:50:43.175Z"
   },
   {
    "duration": 54,
    "start_time": "2022-02-19T15:50:56.978Z"
   },
   {
    "duration": 9461,
    "start_time": "2022-02-19T15:51:42.107Z"
   },
   {
    "duration": 2472,
    "start_time": "2022-02-19T15:51:52.539Z"
   },
   {
    "duration": 971,
    "start_time": "2022-02-19T15:54:53.199Z"
   },
   {
    "duration": 893,
    "start_time": "2022-02-19T15:56:28.817Z"
   },
   {
    "duration": 864,
    "start_time": "2022-02-19T15:58:27.310Z"
   },
   {
    "duration": 852,
    "start_time": "2022-02-19T15:58:42.698Z"
   },
   {
    "duration": 829,
    "start_time": "2022-02-19T15:59:01.853Z"
   },
   {
    "duration": 2379,
    "start_time": "2022-02-19T15:59:14.837Z"
   },
   {
    "duration": 133,
    "start_time": "2022-02-19T15:59:32.573Z"
   },
   {
    "duration": 1442,
    "start_time": "2022-02-19T15:59:38.010Z"
   },
   {
    "duration": 383,
    "start_time": "2022-02-19T16:02:04.302Z"
   },
   {
    "duration": 401,
    "start_time": "2022-02-19T16:02:12.070Z"
   },
   {
    "duration": 4,
    "start_time": "2022-02-19T16:02:22.822Z"
   },
   {
    "duration": 389,
    "start_time": "2022-02-19T16:02:31.516Z"
   },
   {
    "duration": 461,
    "start_time": "2022-02-19T16:05:22.471Z"
   },
   {
    "duration": 490,
    "start_time": "2022-02-19T16:05:38.874Z"
   },
   {
    "duration": 837,
    "start_time": "2022-02-19T16:05:58.834Z"
   },
   {
    "duration": 372,
    "start_time": "2022-02-19T16:07:19.606Z"
   },
   {
    "duration": 378,
    "start_time": "2022-02-19T16:07:34.699Z"
   },
   {
    "duration": 509,
    "start_time": "2022-02-19T16:07:44.277Z"
   },
   {
    "duration": 435,
    "start_time": "2022-02-19T16:08:22.900Z"
   },
   {
    "duration": 807,
    "start_time": "2022-02-19T16:08:31.652Z"
   },
   {
    "duration": 882,
    "start_time": "2022-02-19T16:08:57.231Z"
   },
   {
    "duration": 550,
    "start_time": "2022-02-19T16:10:37.322Z"
   },
   {
    "duration": 135,
    "start_time": "2022-02-19T16:10:57.135Z"
   },
   {
    "duration": 914,
    "start_time": "2022-02-19T16:11:04.967Z"
   },
   {
    "duration": 2272,
    "start_time": "2022-02-19T16:12:46.967Z"
   },
   {
    "duration": 2382,
    "start_time": "2022-02-19T16:13:08.983Z"
   },
   {
    "duration": 2497,
    "start_time": "2022-02-19T16:13:25.094Z"
   },
   {
    "duration": 2744,
    "start_time": "2022-02-19T16:16:38.358Z"
   },
   {
    "duration": 3034,
    "start_time": "2022-02-19T16:16:58.986Z"
   },
   {
    "duration": 2749,
    "start_time": "2022-02-19T16:18:16.161Z"
   },
   {
    "duration": 3488,
    "start_time": "2022-02-19T16:18:50.416Z"
   },
   {
    "duration": 2894,
    "start_time": "2022-02-19T16:19:00.410Z"
   },
   {
    "duration": 856,
    "start_time": "2022-02-19T16:20:24.298Z"
   },
   {
    "duration": 26,
    "start_time": "2022-02-19T16:20:26.022Z"
   },
   {
    "duration": 12,
    "start_time": "2022-02-19T16:22:04.886Z"
   },
   {
    "duration": 3081,
    "start_time": "2022-02-19T16:22:22.197Z"
   },
   {
    "duration": 14,
    "start_time": "2022-02-19T16:22:30.920Z"
   },
   {
    "duration": 13,
    "start_time": "2022-02-19T16:22:46.658Z"
   },
   {
    "duration": 12,
    "start_time": "2022-02-19T16:23:00.371Z"
   },
   {
    "duration": 926,
    "start_time": "2022-02-19T16:23:02.105Z"
   },
   {
    "duration": 8,
    "start_time": "2022-02-19T16:23:06.085Z"
   },
   {
    "duration": 7,
    "start_time": "2022-02-19T16:23:14.377Z"
   },
   {
    "duration": 13812,
    "start_time": "2022-02-19T16:23:16.166Z"
   },
   {
    "duration": 7,
    "start_time": "2022-02-19T16:23:31.523Z"
   },
   {
    "duration": 945,
    "start_time": "2022-02-19T16:24:09.974Z"
   },
   {
    "duration": 7,
    "start_time": "2022-02-19T16:24:29.322Z"
   },
   {
    "duration": 27,
    "start_time": "2022-02-19T16:24:35.428Z"
   },
   {
    "duration": 7,
    "start_time": "2022-02-19T16:35:33.696Z"
   },
   {
    "duration": 17,
    "start_time": "2022-02-19T16:35:38.096Z"
   },
   {
    "duration": 6,
    "start_time": "2022-02-19T16:36:52.212Z"
   },
   {
    "duration": 12762,
    "start_time": "2022-02-19T16:36:53.784Z"
   },
   {
    "duration": 9,
    "start_time": "2022-02-19T16:37:09.664Z"
   },
   {
    "duration": 1026,
    "start_time": "2022-02-19T16:37:16.387Z"
   },
   {
    "duration": 8,
    "start_time": "2022-02-19T16:37:20.250Z"
   },
   {
    "duration": 28,
    "start_time": "2022-02-19T16:37:22.124Z"
   },
   {
    "duration": 21,
    "start_time": "2022-02-19T16:39:29.525Z"
   },
   {
    "duration": 1508,
    "start_time": "2022-02-19T16:39:32.133Z"
   },
   {
    "duration": 350,
    "start_time": "2022-02-19T16:39:40.689Z"
   },
   {
    "duration": 27,
    "start_time": "2022-02-19T16:39:43.309Z"
   },
   {
    "duration": 4,
    "start_time": "2022-02-19T16:39:46.237Z"
   },
   {
    "duration": 14,
    "start_time": "2022-02-19T16:39:49.139Z"
   },
   {
    "duration": 8,
    "start_time": "2022-02-19T16:39:52.146Z"
   },
   {
    "duration": 19,
    "start_time": "2022-02-19T16:39:55.022Z"
   },
   {
    "duration": 6,
    "start_time": "2022-02-19T16:39:59.695Z"
   },
   {
    "duration": 138,
    "start_time": "2022-02-19T16:45:20.356Z"
   },
   {
    "duration": 459,
    "start_time": "2022-02-19T16:47:13.090Z"
   },
   {
    "duration": 409,
    "start_time": "2022-02-19T16:47:16.544Z"
   },
   {
    "duration": 5,
    "start_time": "2022-02-19T16:47:25.518Z"
   },
   {
    "duration": 13207,
    "start_time": "2022-02-19T16:47:26.724Z"
   },
   {
    "duration": 15,
    "start_time": "2022-02-19T16:47:40.866Z"
   },
   {
    "duration": 12,
    "start_time": "2022-02-19T16:47:42.395Z"
   },
   {
    "duration": 545,
    "start_time": "2022-02-19T16:47:44.122Z"
   },
   {
    "duration": 25,
    "start_time": "2022-02-19T16:47:45.611Z"
   },
   {
    "duration": 51,
    "start_time": "2022-02-19T16:47:48.810Z"
   },
   {
    "duration": 14,
    "start_time": "2022-02-19T16:48:40.486Z"
   },
   {
    "duration": 13,
    "start_time": "2022-02-19T16:53:28.899Z"
   },
   {
    "duration": 953,
    "start_time": "2022-02-19T16:53:30.151Z"
   },
   {
    "duration": 993,
    "start_time": "2022-02-19T16:53:32.807Z"
   },
   {
    "duration": 137,
    "start_time": "2022-02-19T16:54:40.894Z"
   },
   {
    "duration": 13,
    "start_time": "2022-02-19T16:54:46.342Z"
   },
   {
    "duration": 968,
    "start_time": "2022-02-19T16:54:47.234Z"
   },
   {
    "duration": 7,
    "start_time": "2022-02-19T16:54:49.810Z"
   },
   {
    "duration": 6,
    "start_time": "2022-02-19T16:55:05.720Z"
   },
   {
    "duration": 12810,
    "start_time": "2022-02-19T16:55:08.359Z"
   },
   {
    "duration": 9,
    "start_time": "2022-02-19T16:55:44.765Z"
   },
   {
    "duration": 957,
    "start_time": "2022-02-19T16:55:46.210Z"
   },
   {
    "duration": 9,
    "start_time": "2022-02-19T16:56:07.384Z"
   },
   {
    "duration": 1754,
    "start_time": "2022-02-19T19:12:11.169Z"
   },
   {
    "duration": 4957,
    "start_time": "2022-02-19T19:12:12.925Z"
   },
   {
    "duration": 230,
    "start_time": "2022-02-19T19:12:17.886Z"
   },
   {
    "duration": 151,
    "start_time": "2022-02-19T19:12:18.118Z"
   },
   {
    "duration": 117,
    "start_time": "2022-02-19T19:12:18.272Z"
   },
   {
    "duration": 43,
    "start_time": "2022-02-19T19:12:18.393Z"
   },
   {
    "duration": 45,
    "start_time": "2022-02-19T19:12:18.438Z"
   },
   {
    "duration": 43,
    "start_time": "2022-02-19T19:12:18.513Z"
   },
   {
    "duration": 322,
    "start_time": "2022-02-19T19:12:18.559Z"
   },
   {
    "duration": 43,
    "start_time": "2022-02-19T19:12:18.884Z"
   },
   {
    "duration": 27,
    "start_time": "2022-02-19T19:12:18.930Z"
   },
   {
    "duration": 14,
    "start_time": "2022-02-19T19:12:18.960Z"
   },
   {
    "duration": 306,
    "start_time": "2022-02-19T19:12:18.976Z"
   },
   {
    "duration": 2953,
    "start_time": "2022-02-19T19:12:19.284Z"
   },
   {
    "duration": 23,
    "start_time": "2022-02-19T19:12:22.240Z"
   },
   {
    "duration": 147,
    "start_time": "2022-02-19T19:12:22.265Z"
   },
   {
    "duration": 21,
    "start_time": "2022-02-19T19:12:22.415Z"
   },
   {
    "duration": 32,
    "start_time": "2022-02-19T19:12:22.439Z"
   },
   {
    "duration": 37,
    "start_time": "2022-02-19T19:12:22.473Z"
   },
   {
    "duration": 14,
    "start_time": "2022-02-19T19:12:22.513Z"
   },
   {
    "duration": 3,
    "start_time": "2022-02-19T19:12:22.529Z"
   },
   {
    "duration": 21,
    "start_time": "2022-02-19T19:12:22.535Z"
   },
   {
    "duration": 9,
    "start_time": "2022-02-19T19:12:22.563Z"
   },
   {
    "duration": 233,
    "start_time": "2022-02-19T19:12:22.611Z"
   },
   {
    "duration": 569,
    "start_time": "2022-02-19T19:12:22.846Z"
   },
   {
    "duration": 15,
    "start_time": "2022-02-19T19:12:23.418Z"
   },
   {
    "duration": 9,
    "start_time": "2022-02-19T19:12:23.436Z"
   },
   {
    "duration": 63,
    "start_time": "2022-02-19T19:12:23.447Z"
   },
   {
    "duration": 22,
    "start_time": "2022-02-19T19:12:23.513Z"
   },
   {
    "duration": 12,
    "start_time": "2022-02-19T19:12:23.537Z"
   },
   {
    "duration": 16,
    "start_time": "2022-02-19T19:12:23.552Z"
   },
   {
    "duration": 45,
    "start_time": "2022-02-19T19:12:23.571Z"
   },
   {
    "duration": 4,
    "start_time": "2022-02-19T19:12:23.618Z"
   },
   {
    "duration": 4,
    "start_time": "2022-02-19T19:12:23.625Z"
   },
   {
    "duration": 121,
    "start_time": "2022-02-19T19:12:23.631Z"
   },
   {
    "duration": 78,
    "start_time": "2022-02-19T19:12:23.755Z"
   },
   {
    "duration": 689,
    "start_time": "2022-02-19T19:12:23.836Z"
   },
   {
    "duration": 16,
    "start_time": "2022-02-19T19:12:24.528Z"
   },
   {
    "duration": 5,
    "start_time": "2022-02-19T19:12:24.546Z"
   },
   {
    "duration": 1107,
    "start_time": "2022-02-19T19:12:24.553Z"
   },
   {
    "duration": 93,
    "start_time": "2022-02-19T19:12:25.662Z"
   },
   {
    "duration": 613,
    "start_time": "2022-02-19T19:12:25.757Z"
   },
   {
    "duration": 703,
    "start_time": "2022-02-19T19:12:26.372Z"
   },
   {
    "duration": 163,
    "start_time": "2022-02-19T19:12:27.078Z"
   },
   {
    "duration": 5,
    "start_time": "2022-02-19T19:12:27.245Z"
   },
   {
    "duration": 27,
    "start_time": "2022-02-19T19:12:27.253Z"
   },
   {
    "duration": 3,
    "start_time": "2022-02-19T19:12:27.283Z"
   },
   {
    "duration": 19,
    "start_time": "2022-02-19T19:12:27.313Z"
   },
   {
    "duration": 10,
    "start_time": "2022-02-19T19:12:27.335Z"
   },
   {
    "duration": 20,
    "start_time": "2022-02-19T19:12:27.348Z"
   },
   {
    "duration": 41,
    "start_time": "2022-02-19T19:12:27.371Z"
   },
   {
    "duration": 13777,
    "start_time": "2022-02-19T19:12:27.415Z"
   },
   {
    "duration": 18,
    "start_time": "2022-02-19T19:12:41.195Z"
   },
   {
    "duration": 19,
    "start_time": "2022-02-19T19:12:41.216Z"
   },
   {
    "duration": 542,
    "start_time": "2022-02-19T19:12:41.238Z"
   },
   {
    "duration": 34,
    "start_time": "2022-02-19T19:12:41.783Z"
   },
   {
    "duration": 59,
    "start_time": "2022-02-19T19:12:41.819Z"
   },
   {
    "duration": 2975,
    "start_time": "2022-02-19T19:12:41.881Z"
   },
   {
    "duration": 12,
    "start_time": "2022-02-19T19:12:44.858Z"
   },
   {
    "duration": 39,
    "start_time": "2022-02-19T19:12:44.872Z"
   },
   {
    "duration": 1515,
    "start_time": "2022-02-19T19:12:44.913Z"
   },
   {
    "duration": 8,
    "start_time": "2022-02-19T19:12:46.432Z"
   },
   {
    "duration": 11,
    "start_time": "2022-02-19T19:12:46.442Z"
   },
   {
    "duration": 13286,
    "start_time": "2022-02-19T19:12:46.455Z"
   },
   {
    "duration": 3,
    "start_time": "2022-02-19T19:12:59.743Z"
   },
   {
    "duration": 11,
    "start_time": "2022-02-19T19:12:59.749Z"
   },
   {
    "duration": 1200,
    "start_time": "2022-02-19T19:12:59.763Z"
   },
   {
    "duration": 7,
    "start_time": "2022-02-19T19:13:00.970Z"
   },
   {
    "duration": 52,
    "start_time": "2022-02-19T19:13:00.980Z"
   },
   {
    "duration": 1765,
    "start_time": "2022-02-20T11:45:57.738Z"
   },
   {
    "duration": 646,
    "start_time": "2022-02-20T11:45:59.507Z"
   },
   {
    "duration": 223,
    "start_time": "2022-02-20T11:46:00.158Z"
   },
   {
    "duration": 156,
    "start_time": "2022-02-20T11:46:00.383Z"
   },
   {
    "duration": 158,
    "start_time": "2022-02-20T11:46:00.541Z"
   },
   {
    "duration": 31,
    "start_time": "2022-02-20T11:46:00.702Z"
   },
   {
    "duration": 94,
    "start_time": "2022-02-20T11:46:00.736Z"
   },
   {
    "duration": 41,
    "start_time": "2022-02-20T11:46:00.834Z"
   },
   {
    "duration": 478,
    "start_time": "2022-02-20T11:46:00.878Z"
   },
   {
    "duration": 34,
    "start_time": "2022-02-20T11:46:01.359Z"
   },
   {
    "duration": 42,
    "start_time": "2022-02-20T11:46:01.395Z"
   },
   {
    "duration": 19,
    "start_time": "2022-02-20T11:46:01.439Z"
   },
   {
    "duration": 332,
    "start_time": "2022-02-20T11:46:01.461Z"
   },
   {
    "duration": 2990,
    "start_time": "2022-02-20T11:46:01.796Z"
   },
   {
    "duration": 36,
    "start_time": "2022-02-20T11:46:04.789Z"
   },
   {
    "duration": 131,
    "start_time": "2022-02-20T11:46:04.828Z"
   },
   {
    "duration": 23,
    "start_time": "2022-02-20T11:46:04.961Z"
   },
   {
    "duration": 56,
    "start_time": "2022-02-20T11:46:04.987Z"
   },
   {
    "duration": 6,
    "start_time": "2022-02-20T11:46:05.045Z"
   },
   {
    "duration": 16,
    "start_time": "2022-02-20T11:46:05.054Z"
   },
   {
    "duration": 41,
    "start_time": "2022-02-20T11:46:05.073Z"
   },
   {
    "duration": 30,
    "start_time": "2022-02-20T11:46:05.117Z"
   },
   {
    "duration": 11,
    "start_time": "2022-02-20T11:46:05.157Z"
   },
   {
    "duration": 276,
    "start_time": "2022-02-20T11:46:05.175Z"
   },
   {
    "duration": 671,
    "start_time": "2022-02-20T11:46:05.454Z"
   },
   {
    "duration": 17,
    "start_time": "2022-02-20T11:46:06.128Z"
   },
   {
    "duration": 15,
    "start_time": "2022-02-20T11:46:06.147Z"
   },
   {
    "duration": 85,
    "start_time": "2022-02-20T11:46:06.165Z"
   },
   {
    "duration": 31,
    "start_time": "2022-02-20T11:46:06.254Z"
   },
   {
    "duration": 28,
    "start_time": "2022-02-20T11:46:06.288Z"
   },
   {
    "duration": 16,
    "start_time": "2022-02-20T11:46:06.322Z"
   },
   {
    "duration": 17,
    "start_time": "2022-02-20T11:46:06.341Z"
   },
   {
    "duration": 4,
    "start_time": "2022-02-20T11:46:06.360Z"
   },
   {
    "duration": 6,
    "start_time": "2022-02-20T11:46:06.367Z"
   },
   {
    "duration": 182,
    "start_time": "2022-02-20T11:46:06.376Z"
   },
   {
    "duration": 83,
    "start_time": "2022-02-20T11:46:06.561Z"
   },
   {
    "duration": 830,
    "start_time": "2022-02-20T11:46:06.647Z"
   },
   {
    "duration": 29,
    "start_time": "2022-02-20T11:46:07.480Z"
   },
   {
    "duration": 4,
    "start_time": "2022-02-20T11:46:07.512Z"
   },
   {
    "duration": 1309,
    "start_time": "2022-02-20T11:46:07.519Z"
   },
   {
    "duration": 107,
    "start_time": "2022-02-20T11:46:08.831Z"
   },
   {
    "duration": 760,
    "start_time": "2022-02-20T11:46:08.941Z"
   },
   {
    "duration": 616,
    "start_time": "2022-02-20T11:46:09.712Z"
   },
   {
    "duration": 142,
    "start_time": "2022-02-20T11:46:10.332Z"
   },
   {
    "duration": 4,
    "start_time": "2022-02-20T11:46:10.477Z"
   },
   {
    "duration": 44,
    "start_time": "2022-02-20T11:46:10.485Z"
   },
   {
    "duration": 4,
    "start_time": "2022-02-20T11:46:10.533Z"
   },
   {
    "duration": 15,
    "start_time": "2022-02-20T11:46:10.539Z"
   },
   {
    "duration": 10,
    "start_time": "2022-02-20T11:46:10.556Z"
   },
   {
    "duration": 53,
    "start_time": "2022-02-20T11:46:10.569Z"
   },
   {
    "duration": 6,
    "start_time": "2022-02-20T11:46:10.626Z"
   },
   {
    "duration": 20666,
    "start_time": "2022-02-20T11:46:10.635Z"
   },
   {
    "duration": 19,
    "start_time": "2022-02-20T11:46:31.304Z"
   },
   {
    "duration": 14,
    "start_time": "2022-02-20T11:46:31.326Z"
   },
   {
    "duration": 692,
    "start_time": "2022-02-20T11:46:31.342Z"
   },
   {
    "duration": 36,
    "start_time": "2022-02-20T11:46:32.038Z"
   },
   {
    "duration": 55,
    "start_time": "2022-02-20T11:46:32.077Z"
   },
   {
    "duration": 84,
    "start_time": "2022-02-20T11:46:32.135Z"
   },
   {
    "duration": 3808,
    "start_time": "2022-02-20T11:46:32.223Z"
   },
   {
    "duration": 16,
    "start_time": "2022-02-20T11:46:36.034Z"
   },
   {
    "duration": 19,
    "start_time": "2022-02-20T11:46:36.054Z"
   },
   {
    "duration": 1175,
    "start_time": "2022-02-20T11:46:36.076Z"
   },
   {
    "duration": 8,
    "start_time": "2022-02-20T11:46:37.254Z"
   },
   {
    "duration": 10,
    "start_time": "2022-02-20T11:46:37.265Z"
   },
   {
    "duration": 15226,
    "start_time": "2022-02-20T11:46:37.277Z"
   },
   {
    "duration": 6,
    "start_time": "2022-02-20T11:46:52.506Z"
   },
   {
    "duration": 9,
    "start_time": "2022-02-20T11:46:52.515Z"
   },
   {
    "duration": 1097,
    "start_time": "2022-02-20T11:46:52.535Z"
   },
   {
    "duration": 7,
    "start_time": "2022-02-20T11:46:53.635Z"
   },
   {
    "duration": 31,
    "start_time": "2022-02-20T11:46:53.645Z"
   },
   {
    "duration": 1695,
    "start_time": "2022-02-20T12:03:27.370Z"
   },
   {
    "duration": 634,
    "start_time": "2022-02-20T12:03:29.069Z"
   },
   {
    "duration": 250,
    "start_time": "2022-02-20T12:03:29.707Z"
   },
   {
    "duration": 203,
    "start_time": "2022-02-20T12:03:29.960Z"
   },
   {
    "duration": 132,
    "start_time": "2022-02-20T12:03:30.166Z"
   },
   {
    "duration": 23,
    "start_time": "2022-02-20T12:03:30.311Z"
   },
   {
    "duration": 83,
    "start_time": "2022-02-20T12:03:30.337Z"
   },
   {
    "duration": 67,
    "start_time": "2022-02-20T12:03:30.425Z"
   },
   {
    "duration": 366,
    "start_time": "2022-02-20T12:03:30.513Z"
   },
   {
    "duration": 53,
    "start_time": "2022-02-20T12:03:30.882Z"
   },
   {
    "duration": 43,
    "start_time": "2022-02-20T12:03:30.938Z"
   },
   {
    "duration": 35,
    "start_time": "2022-02-20T12:03:30.984Z"
   },
   {
    "duration": 378,
    "start_time": "2022-02-20T12:03:31.021Z"
   },
   {
    "duration": 3230,
    "start_time": "2022-02-20T12:03:31.402Z"
   },
   {
    "duration": 32,
    "start_time": "2022-02-20T12:03:34.636Z"
   },
   {
    "duration": 199,
    "start_time": "2022-02-20T12:03:34.671Z"
   },
   {
    "duration": 42,
    "start_time": "2022-02-20T12:03:34.873Z"
   },
   {
    "duration": 44,
    "start_time": "2022-02-20T12:03:34.918Z"
   },
   {
    "duration": 23,
    "start_time": "2022-02-20T12:03:34.965Z"
   },
   {
    "duration": 32,
    "start_time": "2022-02-20T12:03:34.990Z"
   },
   {
    "duration": 4,
    "start_time": "2022-02-20T12:03:35.025Z"
   },
   {
    "duration": 30,
    "start_time": "2022-02-20T12:03:35.031Z"
   },
   {
    "duration": 43,
    "start_time": "2022-02-20T12:03:35.072Z"
   },
   {
    "duration": 274,
    "start_time": "2022-02-20T12:03:35.119Z"
   },
   {
    "duration": 628,
    "start_time": "2022-02-20T12:03:35.395Z"
   },
   {
    "duration": 14,
    "start_time": "2022-02-20T12:03:36.027Z"
   },
   {
    "duration": 10,
    "start_time": "2022-02-20T12:03:36.043Z"
   },
   {
    "duration": 83,
    "start_time": "2022-02-20T12:03:36.056Z"
   },
   {
    "duration": 23,
    "start_time": "2022-02-20T12:03:36.142Z"
   },
   {
    "duration": 13,
    "start_time": "2022-02-20T12:03:36.167Z"
   },
   {
    "duration": 16,
    "start_time": "2022-02-20T12:03:36.210Z"
   },
   {
    "duration": 10,
    "start_time": "2022-02-20T12:03:36.229Z"
   },
   {
    "duration": 3,
    "start_time": "2022-02-20T12:03:36.242Z"
   },
   {
    "duration": 6,
    "start_time": "2022-02-20T12:03:36.248Z"
   },
   {
    "duration": 193,
    "start_time": "2022-02-20T12:03:36.256Z"
   },
   {
    "duration": 92,
    "start_time": "2022-02-20T12:03:36.452Z"
   },
   {
    "duration": 726,
    "start_time": "2022-02-20T12:03:36.547Z"
   },
   {
    "duration": 21,
    "start_time": "2022-02-20T12:03:37.275Z"
   },
   {
    "duration": 15,
    "start_time": "2022-02-20T12:03:37.299Z"
   },
   {
    "duration": 1218,
    "start_time": "2022-02-20T12:03:37.318Z"
   },
   {
    "duration": 118,
    "start_time": "2022-02-20T12:03:38.539Z"
   },
   {
    "duration": 893,
    "start_time": "2022-02-20T12:03:38.660Z"
   },
   {
    "duration": 641,
    "start_time": "2022-02-20T12:03:39.557Z"
   },
   {
    "duration": 155,
    "start_time": "2022-02-20T12:03:40.200Z"
   },
   {
    "duration": 5,
    "start_time": "2022-02-20T12:03:40.358Z"
   },
   {
    "duration": 46,
    "start_time": "2022-02-20T12:03:40.366Z"
   },
   {
    "duration": 4,
    "start_time": "2022-02-20T12:03:40.415Z"
   },
   {
    "duration": 17,
    "start_time": "2022-02-20T12:03:40.421Z"
   },
   {
    "duration": 7,
    "start_time": "2022-02-20T12:03:40.441Z"
   },
   {
    "duration": 28,
    "start_time": "2022-02-20T12:03:40.450Z"
   },
   {
    "duration": 34,
    "start_time": "2022-02-20T12:03:40.481Z"
   },
   {
    "duration": 15883,
    "start_time": "2022-02-20T12:03:40.518Z"
   },
   {
    "duration": 19,
    "start_time": "2022-02-20T12:03:56.404Z"
   },
   {
    "duration": 15,
    "start_time": "2022-02-20T12:03:56.425Z"
   },
   {
    "duration": 646,
    "start_time": "2022-02-20T12:03:56.442Z"
   },
   {
    "duration": 33,
    "start_time": "2022-02-20T12:03:57.091Z"
   },
   {
    "duration": 49,
    "start_time": "2022-02-20T12:03:57.127Z"
   },
   {
    "duration": 3247,
    "start_time": "2022-02-20T12:03:57.179Z"
   },
   {
    "duration": 1192,
    "start_time": "2022-02-20T12:04:00.429Z"
   },
   {
    "duration": -125,
    "start_time": "2022-02-20T12:04:01.750Z"
   },
   {
    "duration": -128,
    "start_time": "2022-02-20T12:04:01.755Z"
   },
   {
    "duration": -130,
    "start_time": "2022-02-20T12:04:01.759Z"
   },
   {
    "duration": -132,
    "start_time": "2022-02-20T12:04:01.764Z"
   },
   {
    "duration": -135,
    "start_time": "2022-02-20T12:04:01.769Z"
   },
   {
    "duration": -137,
    "start_time": "2022-02-20T12:04:01.773Z"
   },
   {
    "duration": -139,
    "start_time": "2022-02-20T12:04:01.777Z"
   },
   {
    "duration": -140,
    "start_time": "2022-02-20T12:04:01.781Z"
   },
   {
    "duration": -143,
    "start_time": "2022-02-20T12:04:01.786Z"
   },
   {
    "duration": -145,
    "start_time": "2022-02-20T12:04:01.790Z"
   },
   {
    "duration": -147,
    "start_time": "2022-02-20T12:04:01.794Z"
   },
   {
    "duration": 130,
    "start_time": "2022-02-20T12:05:56.823Z"
   },
   {
    "duration": 128,
    "start_time": "2022-02-20T12:06:11.302Z"
   },
   {
    "duration": 137,
    "start_time": "2022-02-20T12:07:20.963Z"
   },
   {
    "duration": 141,
    "start_time": "2022-02-20T12:07:36.076Z"
   },
   {
    "duration": 6863,
    "start_time": "2022-02-20T12:08:35.643Z"
   },
   {
    "duration": 1858,
    "start_time": "2022-02-20T12:08:45.897Z"
   },
   {
    "duration": 1609,
    "start_time": "2022-02-20T12:08:56.614Z"
   },
   {
    "duration": 702,
    "start_time": "2022-02-20T12:08:58.227Z"
   },
   {
    "duration": 270,
    "start_time": "2022-02-20T12:08:58.936Z"
   },
   {
    "duration": 153,
    "start_time": "2022-02-20T12:08:59.212Z"
   },
   {
    "duration": 128,
    "start_time": "2022-02-20T12:08:59.368Z"
   },
   {
    "duration": 27,
    "start_time": "2022-02-20T12:08:59.498Z"
   },
   {
    "duration": 82,
    "start_time": "2022-02-20T12:08:59.528Z"
   },
   {
    "duration": 55,
    "start_time": "2022-02-20T12:08:59.616Z"
   },
   {
    "duration": 347,
    "start_time": "2022-02-20T12:08:59.675Z"
   },
   {
    "duration": 35,
    "start_time": "2022-02-20T12:09:00.025Z"
   },
   {
    "duration": 71,
    "start_time": "2022-02-20T12:09:00.064Z"
   },
   {
    "duration": 16,
    "start_time": "2022-02-20T12:09:00.140Z"
   },
   {
    "duration": 326,
    "start_time": "2022-02-20T12:09:00.159Z"
   },
   {
    "duration": 2977,
    "start_time": "2022-02-20T12:09:00.488Z"
   },
   {
    "duration": 23,
    "start_time": "2022-02-20T12:09:03.468Z"
   },
   {
    "duration": 124,
    "start_time": "2022-02-20T12:09:03.511Z"
   },
   {
    "duration": 21,
    "start_time": "2022-02-20T12:09:03.637Z"
   },
   {
    "duration": 58,
    "start_time": "2022-02-20T12:09:03.660Z"
   },
   {
    "duration": 7,
    "start_time": "2022-02-20T12:09:03.720Z"
   },
   {
    "duration": 16,
    "start_time": "2022-02-20T12:09:03.729Z"
   },
   {
    "duration": 3,
    "start_time": "2022-02-20T12:09:03.747Z"
   },
   {
    "duration": 64,
    "start_time": "2022-02-20T12:09:03.753Z"
   },
   {
    "duration": 9,
    "start_time": "2022-02-20T12:09:03.823Z"
   },
   {
    "duration": 355,
    "start_time": "2022-02-20T12:09:03.837Z"
   },
   {
    "duration": 844,
    "start_time": "2022-02-20T12:09:04.195Z"
   },
   {
    "duration": 16,
    "start_time": "2022-02-20T12:09:05.042Z"
   },
   {
    "duration": 11,
    "start_time": "2022-02-20T12:09:05.061Z"
   },
   {
    "duration": 69,
    "start_time": "2022-02-20T12:09:05.074Z"
   },
   {
    "duration": 22,
    "start_time": "2022-02-20T12:09:05.146Z"
   },
   {
    "duration": 41,
    "start_time": "2022-02-20T12:09:05.170Z"
   },
   {
    "duration": 20,
    "start_time": "2022-02-20T12:09:05.214Z"
   },
   {
    "duration": 8,
    "start_time": "2022-02-20T12:09:05.237Z"
   },
   {
    "duration": 4,
    "start_time": "2022-02-20T12:09:05.248Z"
   },
   {
    "duration": 13,
    "start_time": "2022-02-20T12:09:05.255Z"
   },
   {
    "duration": 132,
    "start_time": "2022-02-20T12:09:05.271Z"
   },
   {
    "duration": 75,
    "start_time": "2022-02-20T12:09:05.406Z"
   },
   {
    "duration": 709,
    "start_time": "2022-02-20T12:09:05.484Z"
   },
   {
    "duration": 24,
    "start_time": "2022-02-20T12:09:06.196Z"
   },
   {
    "duration": 6,
    "start_time": "2022-02-20T12:09:06.223Z"
   },
   {
    "duration": 1111,
    "start_time": "2022-02-20T12:09:06.233Z"
   },
   {
    "duration": 106,
    "start_time": "2022-02-20T12:09:07.347Z"
   },
   {
    "duration": 936,
    "start_time": "2022-02-20T12:09:07.457Z"
   },
   {
    "duration": 670,
    "start_time": "2022-02-20T12:09:08.395Z"
   },
   {
    "duration": 144,
    "start_time": "2022-02-20T12:09:09.068Z"
   },
   {
    "duration": 7,
    "start_time": "2022-02-20T12:09:09.215Z"
   },
   {
    "duration": 25,
    "start_time": "2022-02-20T12:09:09.225Z"
   },
   {
    "duration": 3,
    "start_time": "2022-02-20T12:09:09.254Z"
   },
   {
    "duration": 13,
    "start_time": "2022-02-20T12:09:09.261Z"
   },
   {
    "duration": 7,
    "start_time": "2022-02-20T12:09:09.312Z"
   },
   {
    "duration": 18,
    "start_time": "2022-02-20T12:09:09.322Z"
   },
   {
    "duration": 6,
    "start_time": "2022-02-20T12:09:09.342Z"
   },
   {
    "duration": 14645,
    "start_time": "2022-02-20T12:09:09.350Z"
   },
   {
    "duration": 23,
    "start_time": "2022-02-20T12:09:23.997Z"
   },
   {
    "duration": 13,
    "start_time": "2022-02-20T12:09:24.022Z"
   },
   {
    "duration": 696,
    "start_time": "2022-02-20T12:09:24.038Z"
   },
   {
    "duration": 28,
    "start_time": "2022-02-20T12:09:24.736Z"
   },
   {
    "duration": 78,
    "start_time": "2022-02-20T12:09:24.768Z"
   },
   {
    "duration": 2868,
    "start_time": "2022-02-20T12:09:24.849Z"
   },
   {
    "duration": 4287,
    "start_time": "2022-02-20T12:09:27.719Z"
   },
   {
    "duration": 3485,
    "start_time": "2022-02-20T12:09:32.010Z"
   },
   {
    "duration": 23,
    "start_time": "2022-02-20T12:09:35.498Z"
   },
   {
    "duration": 15,
    "start_time": "2022-02-20T12:09:35.524Z"
   },
   {
    "duration": 983,
    "start_time": "2022-02-20T12:09:35.541Z"
   },
   {
    "duration": 7,
    "start_time": "2022-02-20T12:09:36.527Z"
   },
   {
    "duration": 13,
    "start_time": "2022-02-20T12:09:36.537Z"
   },
   {
    "duration": 17425,
    "start_time": "2022-02-20T12:09:36.552Z"
   },
   {
    "duration": 4,
    "start_time": "2022-02-20T12:09:53.980Z"
   },
   {
    "duration": 23,
    "start_time": "2022-02-20T12:09:53.996Z"
   },
   {
    "duration": 1074,
    "start_time": "2022-02-20T12:09:54.023Z"
   },
   {
    "duration": 16,
    "start_time": "2022-02-20T12:09:55.099Z"
   },
   {
    "duration": 30,
    "start_time": "2022-02-20T12:09:55.118Z"
   },
   {
    "duration": 3431,
    "start_time": "2022-02-20T12:10:40.034Z"
   }
  ],
  "kernelspec": {
   "display_name": "Python 3 (ipykernel)",
   "language": "python",
   "name": "python3"
  },
  "language_info": {
   "codemirror_mode": {
    "name": "ipython",
    "version": 3
   },
   "file_extension": ".py",
   "mimetype": "text/x-python",
   "name": "python",
   "nbconvert_exporter": "python",
   "pygments_lexer": "ipython3",
   "version": "3.9.12"
  },
  "toc": {
   "base_numbering": 1,
   "nav_menu": {
    "height": "85px",
    "width": "228px"
   },
   "number_sections": true,
   "sideBar": true,
   "skip_h1_title": true,
   "title_cell": "Table of Contents",
   "title_sidebar": "Contents",
   "toc_cell": false,
   "toc_position": {},
   "toc_section_display": true,
   "toc_window_display": false
  }
 },
 "nbformat": 4,
 "nbformat_minor": 2
}
