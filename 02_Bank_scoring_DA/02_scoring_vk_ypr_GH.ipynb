{
 "cells": [
  {
   "cell_type": "markdown",
   "metadata": {},
   "source": [
    "# Исследование надёжности заёмщиков\n",
    "\n",
    "Заказчик — кредитный отдел банка. Нужно разобраться, влияет ли семейное положение и количество детей клиента на факт погашения кредита в срок. Входные данные от банка — статистика о платёжеспособности клиентов.\n",
    "\n",
    "Результаты исследования будут учтены при построении модели **кредитного скоринга** — специальной системы, которая оценивает способность потенциального заёмщика вернуть кредит банку."
   ]
  },
  {
   "cell_type": "markdown",
   "metadata": {},
   "source": [
    "## Шаг 1. Откройте файл с данными и изучите общую информацию"
   ]
  },
  {
   "cell_type": "markdown",
   "metadata": {},
   "source": [
    "Возможно в некоторых местах я уходил в сторону (особенно в случае работы с данными трудового стажа), но решил оставить так (тем более изначально говорилось про предобработку данных в целом"
   ]
  },
  {
   "cell_type": "code",
   "execution_count": 1,
   "metadata": {},
   "outputs": [
    {
     "name": "stdout",
     "output_type": "stream",
     "text": [
      "<class 'pandas.core.frame.DataFrame'>\n",
      "RangeIndex: 21525 entries, 0 to 21524\n",
      "Data columns (total 12 columns):\n",
      "children            21525 non-null int64\n",
      "days_employed       19351 non-null float64\n",
      "dob_years           21525 non-null int64\n",
      "education           21525 non-null object\n",
      "education_id        21525 non-null int64\n",
      "family_status       21525 non-null object\n",
      "family_status_id    21525 non-null int64\n",
      "gender              21525 non-null object\n",
      "income_type         21525 non-null object\n",
      "debt                21525 non-null int64\n",
      "total_income        19351 non-null float64\n",
      "purpose             21525 non-null object\n",
      "dtypes: float64(2), int64(5), object(5)\n",
      "memory usage: 2.0+ MB\n"
     ]
    }
   ],
   "source": [
    "import pandas as pd\n",
    "\n",
    "from pymystem3 import Mystem           # импорт бибилиотеки pymystem3\n",
    "m = Mystem()\n",
    "\n",
    "data = pd.read_csv('/datasets/data.csv')\n",
    "data.info() # ознакомление с общей информацией"
   ]
  },
  {
   "cell_type": "markdown",
   "metadata": {},
   "source": [
    "после ознакомления с общей информацией видно, что данные представлены целочисленными значениями, вещественными и типом odject, \n",
    "в большинстве столбцов представлены все строки, пропуски есть в days_employd и total_income - причем одинаковое число  \n",
    "часть столбцов явно количественные, часть категориальные, причем ряд столбцов (например, education_id) повоторяют или дополняют   \n",
    "информацию других (например, education)  \n",
    "названия столбцов представлены в \"змеином регистре\" и не требуют корректировок"
   ]
  },
  {
   "cell_type": "code",
   "execution_count": 2,
   "metadata": {},
   "outputs": [
    {
     "data": {
      "text/html": [
       "<div>\n",
       "<style scoped>\n",
       "    .dataframe tbody tr th:only-of-type {\n",
       "        vertical-align: middle;\n",
       "    }\n",
       "\n",
       "    .dataframe tbody tr th {\n",
       "        vertical-align: top;\n",
       "    }\n",
       "\n",
       "    .dataframe thead th {\n",
       "        text-align: right;\n",
       "    }\n",
       "</style>\n",
       "<table border=\"1\" class=\"dataframe\">\n",
       "  <thead>\n",
       "    <tr style=\"text-align: right;\">\n",
       "      <th></th>\n",
       "      <th>children</th>\n",
       "      <th>days_employed</th>\n",
       "      <th>dob_years</th>\n",
       "      <th>education</th>\n",
       "      <th>education_id</th>\n",
       "      <th>family_status</th>\n",
       "      <th>family_status_id</th>\n",
       "      <th>gender</th>\n",
       "      <th>income_type</th>\n",
       "      <th>debt</th>\n",
       "      <th>total_income</th>\n",
       "      <th>purpose</th>\n",
       "    </tr>\n",
       "  </thead>\n",
       "  <tbody>\n",
       "    <tr>\n",
       "      <td>0</td>\n",
       "      <td>1</td>\n",
       "      <td>-8437.673028</td>\n",
       "      <td>42</td>\n",
       "      <td>высшее</td>\n",
       "      <td>0</td>\n",
       "      <td>женат / замужем</td>\n",
       "      <td>0</td>\n",
       "      <td>F</td>\n",
       "      <td>сотрудник</td>\n",
       "      <td>0</td>\n",
       "      <td>253875.639453</td>\n",
       "      <td>покупка жилья</td>\n",
       "    </tr>\n",
       "    <tr>\n",
       "      <td>1</td>\n",
       "      <td>1</td>\n",
       "      <td>-4024.803754</td>\n",
       "      <td>36</td>\n",
       "      <td>среднее</td>\n",
       "      <td>1</td>\n",
       "      <td>женат / замужем</td>\n",
       "      <td>0</td>\n",
       "      <td>F</td>\n",
       "      <td>сотрудник</td>\n",
       "      <td>0</td>\n",
       "      <td>112080.014102</td>\n",
       "      <td>приобретение автомобиля</td>\n",
       "    </tr>\n",
       "    <tr>\n",
       "      <td>2</td>\n",
       "      <td>0</td>\n",
       "      <td>-5623.422610</td>\n",
       "      <td>33</td>\n",
       "      <td>Среднее</td>\n",
       "      <td>1</td>\n",
       "      <td>женат / замужем</td>\n",
       "      <td>0</td>\n",
       "      <td>M</td>\n",
       "      <td>сотрудник</td>\n",
       "      <td>0</td>\n",
       "      <td>145885.952297</td>\n",
       "      <td>покупка жилья</td>\n",
       "    </tr>\n",
       "    <tr>\n",
       "      <td>3</td>\n",
       "      <td>3</td>\n",
       "      <td>-4124.747207</td>\n",
       "      <td>32</td>\n",
       "      <td>среднее</td>\n",
       "      <td>1</td>\n",
       "      <td>женат / замужем</td>\n",
       "      <td>0</td>\n",
       "      <td>M</td>\n",
       "      <td>сотрудник</td>\n",
       "      <td>0</td>\n",
       "      <td>267628.550329</td>\n",
       "      <td>дополнительное образование</td>\n",
       "    </tr>\n",
       "    <tr>\n",
       "      <td>4</td>\n",
       "      <td>0</td>\n",
       "      <td>340266.072047</td>\n",
       "      <td>53</td>\n",
       "      <td>среднее</td>\n",
       "      <td>1</td>\n",
       "      <td>гражданский брак</td>\n",
       "      <td>1</td>\n",
       "      <td>F</td>\n",
       "      <td>пенсионер</td>\n",
       "      <td>0</td>\n",
       "      <td>158616.077870</td>\n",
       "      <td>сыграть свадьбу</td>\n",
       "    </tr>\n",
       "    <tr>\n",
       "      <td>5</td>\n",
       "      <td>0</td>\n",
       "      <td>-926.185831</td>\n",
       "      <td>27</td>\n",
       "      <td>высшее</td>\n",
       "      <td>0</td>\n",
       "      <td>гражданский брак</td>\n",
       "      <td>1</td>\n",
       "      <td>M</td>\n",
       "      <td>компаньон</td>\n",
       "      <td>0</td>\n",
       "      <td>255763.565419</td>\n",
       "      <td>покупка жилья</td>\n",
       "    </tr>\n",
       "    <tr>\n",
       "      <td>6</td>\n",
       "      <td>0</td>\n",
       "      <td>-2879.202052</td>\n",
       "      <td>43</td>\n",
       "      <td>высшее</td>\n",
       "      <td>0</td>\n",
       "      <td>женат / замужем</td>\n",
       "      <td>0</td>\n",
       "      <td>F</td>\n",
       "      <td>компаньон</td>\n",
       "      <td>0</td>\n",
       "      <td>240525.971920</td>\n",
       "      <td>операции с жильем</td>\n",
       "    </tr>\n",
       "    <tr>\n",
       "      <td>7</td>\n",
       "      <td>0</td>\n",
       "      <td>-152.779569</td>\n",
       "      <td>50</td>\n",
       "      <td>СРЕДНЕЕ</td>\n",
       "      <td>1</td>\n",
       "      <td>женат / замужем</td>\n",
       "      <td>0</td>\n",
       "      <td>M</td>\n",
       "      <td>сотрудник</td>\n",
       "      <td>0</td>\n",
       "      <td>135823.934197</td>\n",
       "      <td>образование</td>\n",
       "    </tr>\n",
       "    <tr>\n",
       "      <td>8</td>\n",
       "      <td>2</td>\n",
       "      <td>-6929.865299</td>\n",
       "      <td>35</td>\n",
       "      <td>ВЫСШЕЕ</td>\n",
       "      <td>0</td>\n",
       "      <td>гражданский брак</td>\n",
       "      <td>1</td>\n",
       "      <td>F</td>\n",
       "      <td>сотрудник</td>\n",
       "      <td>0</td>\n",
       "      <td>95856.832424</td>\n",
       "      <td>на проведение свадьбы</td>\n",
       "    </tr>\n",
       "    <tr>\n",
       "      <td>9</td>\n",
       "      <td>0</td>\n",
       "      <td>-2188.756445</td>\n",
       "      <td>41</td>\n",
       "      <td>среднее</td>\n",
       "      <td>1</td>\n",
       "      <td>женат / замужем</td>\n",
       "      <td>0</td>\n",
       "      <td>M</td>\n",
       "      <td>сотрудник</td>\n",
       "      <td>0</td>\n",
       "      <td>144425.938277</td>\n",
       "      <td>покупка жилья для семьи</td>\n",
       "    </tr>\n",
       "  </tbody>\n",
       "</table>\n",
       "</div>"
      ],
      "text/plain": [
       "   children  days_employed  dob_years education  education_id  \\\n",
       "0         1   -8437.673028         42    высшее             0   \n",
       "1         1   -4024.803754         36   среднее             1   \n",
       "2         0   -5623.422610         33   Среднее             1   \n",
       "3         3   -4124.747207         32   среднее             1   \n",
       "4         0  340266.072047         53   среднее             1   \n",
       "5         0    -926.185831         27    высшее             0   \n",
       "6         0   -2879.202052         43    высшее             0   \n",
       "7         0    -152.779569         50   СРЕДНЕЕ             1   \n",
       "8         2   -6929.865299         35    ВЫСШЕЕ             0   \n",
       "9         0   -2188.756445         41   среднее             1   \n",
       "\n",
       "      family_status  family_status_id gender income_type  debt   total_income  \\\n",
       "0   женат / замужем                 0      F   сотрудник     0  253875.639453   \n",
       "1   женат / замужем                 0      F   сотрудник     0  112080.014102   \n",
       "2   женат / замужем                 0      M   сотрудник     0  145885.952297   \n",
       "3   женат / замужем                 0      M   сотрудник     0  267628.550329   \n",
       "4  гражданский брак                 1      F   пенсионер     0  158616.077870   \n",
       "5  гражданский брак                 1      M   компаньон     0  255763.565419   \n",
       "6   женат / замужем                 0      F   компаньон     0  240525.971920   \n",
       "7   женат / замужем                 0      M   сотрудник     0  135823.934197   \n",
       "8  гражданский брак                 1      F   сотрудник     0   95856.832424   \n",
       "9   женат / замужем                 0      M   сотрудник     0  144425.938277   \n",
       "\n",
       "                      purpose  \n",
       "0               покупка жилья  \n",
       "1     приобретение автомобиля  \n",
       "2               покупка жилья  \n",
       "3  дополнительное образование  \n",
       "4             сыграть свадьбу  \n",
       "5               покупка жилья  \n",
       "6           операции с жильем  \n",
       "7                 образование  \n",
       "8       на проведение свадьбы  \n",
       "9     покупка жилья для семьи  "
      ]
     },
     "metadata": {},
     "output_type": "display_data"
    }
   ],
   "source": [
    "# решил посмотреть первые строки таблицы\n",
    "display(data.head(10))"
   ]
  },
  {
   "cell_type": "markdown",
   "metadata": {},
   "source": [
    "на этапе выше видно, что в столбце days_employed есть и положительные и отрицательные значения (пока неясно, что это значит)  \n",
    "видно, что образование написано в разных регистрах, в столбцах про образование, брак и пол видно по два типа значений,  \n",
    "что вероятно мало для образования и брака, в income_type уже видно больше категорий. В столбце purpose представлены разные   \n",
    "варианты текста (вероятно там понадобится лемматизация)"
   ]
  },
  {
   "cell_type": "code",
   "execution_count": 3,
   "metadata": {},
   "outputs": [
    {
     "data": {
      "text/html": [
       "<div>\n",
       "<style scoped>\n",
       "    .dataframe tbody tr th:only-of-type {\n",
       "        vertical-align: middle;\n",
       "    }\n",
       "\n",
       "    .dataframe tbody tr th {\n",
       "        vertical-align: top;\n",
       "    }\n",
       "\n",
       "    .dataframe thead th {\n",
       "        text-align: right;\n",
       "    }\n",
       "</style>\n",
       "<table border=\"1\" class=\"dataframe\">\n",
       "  <thead>\n",
       "    <tr style=\"text-align: right;\">\n",
       "      <th></th>\n",
       "      <th>children</th>\n",
       "      <th>days_employed</th>\n",
       "      <th>dob_years</th>\n",
       "      <th>education</th>\n",
       "      <th>education_id</th>\n",
       "      <th>family_status</th>\n",
       "      <th>family_status_id</th>\n",
       "      <th>gender</th>\n",
       "      <th>income_type</th>\n",
       "      <th>debt</th>\n",
       "      <th>total_income</th>\n",
       "      <th>purpose</th>\n",
       "    </tr>\n",
       "  </thead>\n",
       "  <tbody>\n",
       "    <tr>\n",
       "      <td>21515</td>\n",
       "      <td>1</td>\n",
       "      <td>-467.685130</td>\n",
       "      <td>28</td>\n",
       "      <td>среднее</td>\n",
       "      <td>1</td>\n",
       "      <td>женат / замужем</td>\n",
       "      <td>0</td>\n",
       "      <td>F</td>\n",
       "      <td>сотрудник</td>\n",
       "      <td>1</td>\n",
       "      <td>109486.327999</td>\n",
       "      <td>заняться образованием</td>\n",
       "    </tr>\n",
       "    <tr>\n",
       "      <td>21516</td>\n",
       "      <td>0</td>\n",
       "      <td>-914.391429</td>\n",
       "      <td>42</td>\n",
       "      <td>высшее</td>\n",
       "      <td>0</td>\n",
       "      <td>женат / замужем</td>\n",
       "      <td>0</td>\n",
       "      <td>F</td>\n",
       "      <td>компаньон</td>\n",
       "      <td>0</td>\n",
       "      <td>322807.776603</td>\n",
       "      <td>покупка своего жилья</td>\n",
       "    </tr>\n",
       "    <tr>\n",
       "      <td>21517</td>\n",
       "      <td>0</td>\n",
       "      <td>-404.679034</td>\n",
       "      <td>42</td>\n",
       "      <td>высшее</td>\n",
       "      <td>0</td>\n",
       "      <td>гражданский брак</td>\n",
       "      <td>1</td>\n",
       "      <td>F</td>\n",
       "      <td>компаньон</td>\n",
       "      <td>0</td>\n",
       "      <td>178059.553491</td>\n",
       "      <td>на покупку своего автомобиля</td>\n",
       "    </tr>\n",
       "    <tr>\n",
       "      <td>21518</td>\n",
       "      <td>0</td>\n",
       "      <td>373995.710838</td>\n",
       "      <td>59</td>\n",
       "      <td>СРЕДНЕЕ</td>\n",
       "      <td>1</td>\n",
       "      <td>женат / замужем</td>\n",
       "      <td>0</td>\n",
       "      <td>F</td>\n",
       "      <td>пенсионер</td>\n",
       "      <td>0</td>\n",
       "      <td>153864.650328</td>\n",
       "      <td>сделка с автомобилем</td>\n",
       "    </tr>\n",
       "    <tr>\n",
       "      <td>21519</td>\n",
       "      <td>1</td>\n",
       "      <td>-2351.431934</td>\n",
       "      <td>37</td>\n",
       "      <td>ученая степень</td>\n",
       "      <td>4</td>\n",
       "      <td>в разводе</td>\n",
       "      <td>3</td>\n",
       "      <td>M</td>\n",
       "      <td>сотрудник</td>\n",
       "      <td>0</td>\n",
       "      <td>115949.039788</td>\n",
       "      <td>покупка коммерческой недвижимости</td>\n",
       "    </tr>\n",
       "    <tr>\n",
       "      <td>21520</td>\n",
       "      <td>1</td>\n",
       "      <td>-4529.316663</td>\n",
       "      <td>43</td>\n",
       "      <td>среднее</td>\n",
       "      <td>1</td>\n",
       "      <td>гражданский брак</td>\n",
       "      <td>1</td>\n",
       "      <td>F</td>\n",
       "      <td>компаньон</td>\n",
       "      <td>0</td>\n",
       "      <td>224791.862382</td>\n",
       "      <td>операции с жильем</td>\n",
       "    </tr>\n",
       "    <tr>\n",
       "      <td>21521</td>\n",
       "      <td>0</td>\n",
       "      <td>343937.404131</td>\n",
       "      <td>67</td>\n",
       "      <td>среднее</td>\n",
       "      <td>1</td>\n",
       "      <td>женат / замужем</td>\n",
       "      <td>0</td>\n",
       "      <td>F</td>\n",
       "      <td>пенсионер</td>\n",
       "      <td>0</td>\n",
       "      <td>155999.806512</td>\n",
       "      <td>сделка с автомобилем</td>\n",
       "    </tr>\n",
       "    <tr>\n",
       "      <td>21522</td>\n",
       "      <td>1</td>\n",
       "      <td>-2113.346888</td>\n",
       "      <td>38</td>\n",
       "      <td>среднее</td>\n",
       "      <td>1</td>\n",
       "      <td>гражданский брак</td>\n",
       "      <td>1</td>\n",
       "      <td>M</td>\n",
       "      <td>сотрудник</td>\n",
       "      <td>1</td>\n",
       "      <td>89672.561153</td>\n",
       "      <td>недвижимость</td>\n",
       "    </tr>\n",
       "    <tr>\n",
       "      <td>21523</td>\n",
       "      <td>3</td>\n",
       "      <td>-3112.481705</td>\n",
       "      <td>38</td>\n",
       "      <td>среднее</td>\n",
       "      <td>1</td>\n",
       "      <td>женат / замужем</td>\n",
       "      <td>0</td>\n",
       "      <td>M</td>\n",
       "      <td>сотрудник</td>\n",
       "      <td>1</td>\n",
       "      <td>244093.050500</td>\n",
       "      <td>на покупку своего автомобиля</td>\n",
       "    </tr>\n",
       "    <tr>\n",
       "      <td>21524</td>\n",
       "      <td>2</td>\n",
       "      <td>-1984.507589</td>\n",
       "      <td>40</td>\n",
       "      <td>среднее</td>\n",
       "      <td>1</td>\n",
       "      <td>женат / замужем</td>\n",
       "      <td>0</td>\n",
       "      <td>F</td>\n",
       "      <td>сотрудник</td>\n",
       "      <td>0</td>\n",
       "      <td>82047.418899</td>\n",
       "      <td>на покупку автомобиля</td>\n",
       "    </tr>\n",
       "  </tbody>\n",
       "</table>\n",
       "</div>"
      ],
      "text/plain": [
       "       children  days_employed  dob_years       education  education_id  \\\n",
       "21515         1    -467.685130         28         среднее             1   \n",
       "21516         0    -914.391429         42          высшее             0   \n",
       "21517         0    -404.679034         42          высшее             0   \n",
       "21518         0  373995.710838         59         СРЕДНЕЕ             1   \n",
       "21519         1   -2351.431934         37  ученая степень             4   \n",
       "21520         1   -4529.316663         43         среднее             1   \n",
       "21521         0  343937.404131         67         среднее             1   \n",
       "21522         1   -2113.346888         38         среднее             1   \n",
       "21523         3   -3112.481705         38         среднее             1   \n",
       "21524         2   -1984.507589         40         среднее             1   \n",
       "\n",
       "          family_status  family_status_id gender income_type  debt  \\\n",
       "21515   женат / замужем                 0      F   сотрудник     1   \n",
       "21516   женат / замужем                 0      F   компаньон     0   \n",
       "21517  гражданский брак                 1      F   компаньон     0   \n",
       "21518   женат / замужем                 0      F   пенсионер     0   \n",
       "21519         в разводе                 3      M   сотрудник     0   \n",
       "21520  гражданский брак                 1      F   компаньон     0   \n",
       "21521   женат / замужем                 0      F   пенсионер     0   \n",
       "21522  гражданский брак                 1      M   сотрудник     1   \n",
       "21523   женат / замужем                 0      M   сотрудник     1   \n",
       "21524   женат / замужем                 0      F   сотрудник     0   \n",
       "\n",
       "        total_income                            purpose  \n",
       "21515  109486.327999              заняться образованием  \n",
       "21516  322807.776603               покупка своего жилья  \n",
       "21517  178059.553491       на покупку своего автомобиля  \n",
       "21518  153864.650328               сделка с автомобилем  \n",
       "21519  115949.039788  покупка коммерческой недвижимости  \n",
       "21520  224791.862382                  операции с жильем  \n",
       "21521  155999.806512               сделка с автомобилем  \n",
       "21522   89672.561153                       недвижимость  \n",
       "21523  244093.050500       на покупку своего автомобиля  \n",
       "21524   82047.418899              на покупку автомобиля  "
      ]
     },
     "metadata": {},
     "output_type": "display_data"
    }
   ],
   "source": [
    "# решил посмотреть данные с хвоста\n",
    "display(data.tail(10))"
   ]
  },
  {
   "cell_type": "markdown",
   "metadata": {},
   "source": [
    "теперь вижу, что категорий образования и брака больше чем 2 (две остаётся только для пола)   \n",
    "решил для того чтобы составить окончательное впечатление от предварительного знакомства с набором данных применить метод   \n",
    "value_counts для ряда столбцов (в основном не количественных): 1). число детей колмичественный параметр, но для него применение  \n",
    "метода счел актуальным, также счел его актуальным для категориальных столбцов, для столбца purpose решил не применять, т.к.  \n",
    "уже после просмотра начала и хвоста таблицы видно, что вариантов там много и они в основном дублируют себя"
   ]
  },
  {
   "cell_type": "code",
   "execution_count": 4,
   "metadata": {},
   "outputs": [
    {
     "data": {
      "text/plain": [
       "Index(['children', 'days_employed', 'dob_years', 'education', 'education_id',\n",
       "       'family_status', 'family_status_id', 'gender', 'income_type', 'debt',\n",
       "       'total_income', 'purpose'],\n",
       "      dtype='object')"
      ]
     },
     "execution_count": 4,
     "metadata": {},
     "output_type": "execute_result"
    }
   ],
   "source": [
    "data.columns"
   ]
  },
  {
   "cell_type": "code",
   "execution_count": 5,
   "metadata": {},
   "outputs": [
    {
     "name": "stdout",
     "output_type": "stream",
     "text": [
      " 0     14149\n",
      " 1      4818\n",
      " 2      2055\n",
      " 3       330\n",
      " 20       76\n",
      "-1        47\n",
      " 4        41\n",
      " 5         9\n",
      "Name: children, dtype: int64\n",
      "среднее                13750\n",
      "высшее                  4718\n",
      "СРЕДНЕЕ                  772\n",
      "Среднее                  711\n",
      "неоконченное высшее      668\n",
      "ВЫСШЕЕ                   274\n",
      "Высшее                   268\n",
      "начальное                250\n",
      "Неоконченное высшее       47\n",
      "НЕОКОНЧЕННОЕ ВЫСШЕЕ       29\n",
      "НАЧАЛЬНОЕ                 17\n",
      "Начальное                 15\n",
      "ученая степень             4\n",
      "УЧЕНАЯ СТЕПЕНЬ             1\n",
      "Ученая степень             1\n",
      "Name: education, dtype: int64\n",
      "1    15233\n",
      "0     5260\n",
      "2      744\n",
      "3      282\n",
      "4        6\n",
      "Name: education_id, dtype: int64\n",
      "женат / замужем          12380\n",
      "гражданский брак          4177\n",
      "Не женат / не замужем     2813\n",
      "в разводе                 1195\n",
      "вдовец / вдова             960\n",
      "Name: family_status, dtype: int64\n",
      "0    12380\n",
      "1     4177\n",
      "4     2813\n",
      "3     1195\n",
      "2      960\n",
      "Name: family_status_id, dtype: int64\n",
      "F      14236\n",
      "M       7288\n",
      "XNA        1\n",
      "Name: gender, dtype: int64\n",
      "сотрудник          11119\n",
      "компаньон           5085\n",
      "пенсионер           3856\n",
      "госслужащий         1459\n",
      "безработный            2\n",
      "предприниматель        2\n",
      "студент                1\n",
      "в декрете              1\n",
      "Name: income_type, dtype: int64\n",
      "0    19784\n",
      "1     1741\n",
      "Name: debt, dtype: int64\n"
     ]
    }
   ],
   "source": [
    "# для того чтобы вывести value_counts для столбцов решил сделать список columns_for_vc (с именами интересующих столбцов)\n",
    "# и пройти по нему циклом\n",
    "columns_for_vc = ['children', 'education', 'education_id', 'family_status', 'family_status_id', 'gender', 'income_type', 'debt']\n",
    "for i in columns_for_vc:\n",
    "    print(data[i].value_counts())"
   ]
  },
  {
   "cell_type": "markdown",
   "metadata": {},
   "source": [
    "После изучения просмотра значений для столбцов методом value_counts заметил что:\n",
    "- стобец с числом детей возможно можно считать категориальным (хотя он и является количественным по факту), но это еще не точно. При этом уже сейчас видно, что там есть два ошибочных значения: 20 и -1, -1 явно написано вместо 1, 20 вместо 2 (конечно теоретически возможно, что в семье есть 20 детей, но тогда было бы видно много значений в промежутке - 10, 15 и т.д. детей, кроме того семей с 20 детьми в наборе данных больше чем даже с пятью, хотя полностью исключить возмжоность одной семьи с двадцатью детьми на данном этапе нельзя)\n",
    "- в столбце с образованием множество дубликатов (в основном из-за регистра) и число категорий не соответствует столбцу education_id при этом в столбце с цифровыми категориями образования education_id все представляется более правильным (вероятно далее на него нужно будет ориентироваться)\n",
    "- число категорий в столбцах с семейным положением family_status и family_status_id полностью соответствуют\n",
    "- в столбце с полом есть одно уникальное значение не соответствующее F или M\n",
    "- в столбце с income_type виден ряд четких категорий (при этом половина категорий с очень малым числом значений), вероятно он потребует дополнительного изучения\n",
    "- столбец debt содержит в себе две категории\n",
    "\n",
    "\n"
   ]
  },
  {
   "cell_type": "markdown",
   "metadata": {},
   "source": [
    "**Вывод**  \n",
    "Данные представлены целочисленными значениями, вещественными и типом odject. В наборе данных представлены количественные ('children', 'days_employed', 'dob_years', 'total_income') и категориальные ('education', 'education_id', 'family_status', 'family_status_id', 'gender', 'income_type', 'debt') значения, столбец 'purpose' нельзя отнести ни к тем ни к другим (он потребует лемматизации и станет категориальным), при этом столбец 'children', несмотря на то что он количественный, веротнее всего правильнее будет рассмотреть, как категориальный. Большая часть данных не содержит пропусков, пропуски (одинаковое число) есть в столбцах 'days_employed' и 'total_income' - оба столбца содержат вещественные значения."
   ]
  },
  {
   "cell_type": "markdown",
   "metadata": {},
   "source": []
  },
  {
   "cell_type": "markdown",
   "metadata": {},
   "source": [
    "## Шаг 2. Предобработка данных"
   ]
  },
  {
   "cell_type": "markdown",
   "metadata": {},
   "source": [
    "### Обработка пропусков"
   ]
  },
  {
   "cell_type": "code",
   "execution_count": 6,
   "metadata": {},
   "outputs": [
    {
     "name": "stdout",
     "output_type": "stream",
     "text": [
      "Число пропусков для столбца days_employed 2174\n",
      "Число пропусков для столбца total_income 2174\n"
     ]
    },
    {
     "data": {
      "text/html": [
       "<div>\n",
       "<style scoped>\n",
       "    .dataframe tbody tr th:only-of-type {\n",
       "        vertical-align: middle;\n",
       "    }\n",
       "\n",
       "    .dataframe tbody tr th {\n",
       "        vertical-align: top;\n",
       "    }\n",
       "\n",
       "    .dataframe thead th {\n",
       "        text-align: right;\n",
       "    }\n",
       "</style>\n",
       "<table border=\"1\" class=\"dataframe\">\n",
       "  <thead>\n",
       "    <tr style=\"text-align: right;\">\n",
       "      <th></th>\n",
       "      <th>children</th>\n",
       "      <th>days_employed</th>\n",
       "      <th>dob_years</th>\n",
       "      <th>education</th>\n",
       "      <th>education_id</th>\n",
       "      <th>family_status</th>\n",
       "      <th>family_status_id</th>\n",
       "      <th>gender</th>\n",
       "      <th>income_type</th>\n",
       "      <th>debt</th>\n",
       "      <th>total_income</th>\n",
       "      <th>purpose</th>\n",
       "    </tr>\n",
       "  </thead>\n",
       "  <tbody>\n",
       "    <tr>\n",
       "      <td>12</td>\n",
       "      <td>0</td>\n",
       "      <td>NaN</td>\n",
       "      <td>65</td>\n",
       "      <td>среднее</td>\n",
       "      <td>1</td>\n",
       "      <td>гражданский брак</td>\n",
       "      <td>1</td>\n",
       "      <td>M</td>\n",
       "      <td>пенсионер</td>\n",
       "      <td>0</td>\n",
       "      <td>NaN</td>\n",
       "      <td>сыграть свадьбу</td>\n",
       "    </tr>\n",
       "    <tr>\n",
       "      <td>26</td>\n",
       "      <td>0</td>\n",
       "      <td>NaN</td>\n",
       "      <td>41</td>\n",
       "      <td>среднее</td>\n",
       "      <td>1</td>\n",
       "      <td>женат / замужем</td>\n",
       "      <td>0</td>\n",
       "      <td>M</td>\n",
       "      <td>госслужащий</td>\n",
       "      <td>0</td>\n",
       "      <td>NaN</td>\n",
       "      <td>образование</td>\n",
       "    </tr>\n",
       "    <tr>\n",
       "      <td>29</td>\n",
       "      <td>0</td>\n",
       "      <td>NaN</td>\n",
       "      <td>63</td>\n",
       "      <td>среднее</td>\n",
       "      <td>1</td>\n",
       "      <td>Не женат / не замужем</td>\n",
       "      <td>4</td>\n",
       "      <td>F</td>\n",
       "      <td>пенсионер</td>\n",
       "      <td>0</td>\n",
       "      <td>NaN</td>\n",
       "      <td>строительство жилой недвижимости</td>\n",
       "    </tr>\n",
       "    <tr>\n",
       "      <td>41</td>\n",
       "      <td>0</td>\n",
       "      <td>NaN</td>\n",
       "      <td>50</td>\n",
       "      <td>среднее</td>\n",
       "      <td>1</td>\n",
       "      <td>женат / замужем</td>\n",
       "      <td>0</td>\n",
       "      <td>F</td>\n",
       "      <td>госслужащий</td>\n",
       "      <td>0</td>\n",
       "      <td>NaN</td>\n",
       "      <td>сделка с подержанным автомобилем</td>\n",
       "    </tr>\n",
       "    <tr>\n",
       "      <td>55</td>\n",
       "      <td>0</td>\n",
       "      <td>NaN</td>\n",
       "      <td>54</td>\n",
       "      <td>среднее</td>\n",
       "      <td>1</td>\n",
       "      <td>гражданский брак</td>\n",
       "      <td>1</td>\n",
       "      <td>F</td>\n",
       "      <td>пенсионер</td>\n",
       "      <td>1</td>\n",
       "      <td>NaN</td>\n",
       "      <td>сыграть свадьбу</td>\n",
       "    </tr>\n",
       "    <tr>\n",
       "      <td>65</td>\n",
       "      <td>0</td>\n",
       "      <td>NaN</td>\n",
       "      <td>21</td>\n",
       "      <td>среднее</td>\n",
       "      <td>1</td>\n",
       "      <td>Не женат / не замужем</td>\n",
       "      <td>4</td>\n",
       "      <td>M</td>\n",
       "      <td>компаньон</td>\n",
       "      <td>0</td>\n",
       "      <td>NaN</td>\n",
       "      <td>операции с коммерческой недвижимостью</td>\n",
       "    </tr>\n",
       "    <tr>\n",
       "      <td>67</td>\n",
       "      <td>0</td>\n",
       "      <td>NaN</td>\n",
       "      <td>52</td>\n",
       "      <td>высшее</td>\n",
       "      <td>0</td>\n",
       "      <td>женат / замужем</td>\n",
       "      <td>0</td>\n",
       "      <td>F</td>\n",
       "      <td>пенсионер</td>\n",
       "      <td>0</td>\n",
       "      <td>NaN</td>\n",
       "      <td>покупка жилья для семьи</td>\n",
       "    </tr>\n",
       "    <tr>\n",
       "      <td>72</td>\n",
       "      <td>1</td>\n",
       "      <td>NaN</td>\n",
       "      <td>32</td>\n",
       "      <td>высшее</td>\n",
       "      <td>0</td>\n",
       "      <td>женат / замужем</td>\n",
       "      <td>0</td>\n",
       "      <td>M</td>\n",
       "      <td>госслужащий</td>\n",
       "      <td>0</td>\n",
       "      <td>NaN</td>\n",
       "      <td>операции с коммерческой недвижимостью</td>\n",
       "    </tr>\n",
       "    <tr>\n",
       "      <td>82</td>\n",
       "      <td>2</td>\n",
       "      <td>NaN</td>\n",
       "      <td>50</td>\n",
       "      <td>высшее</td>\n",
       "      <td>0</td>\n",
       "      <td>женат / замужем</td>\n",
       "      <td>0</td>\n",
       "      <td>F</td>\n",
       "      <td>сотрудник</td>\n",
       "      <td>0</td>\n",
       "      <td>NaN</td>\n",
       "      <td>жилье</td>\n",
       "    </tr>\n",
       "    <tr>\n",
       "      <td>83</td>\n",
       "      <td>0</td>\n",
       "      <td>NaN</td>\n",
       "      <td>52</td>\n",
       "      <td>среднее</td>\n",
       "      <td>1</td>\n",
       "      <td>женат / замужем</td>\n",
       "      <td>0</td>\n",
       "      <td>M</td>\n",
       "      <td>сотрудник</td>\n",
       "      <td>0</td>\n",
       "      <td>NaN</td>\n",
       "      <td>жилье</td>\n",
       "    </tr>\n",
       "  </tbody>\n",
       "</table>\n",
       "</div>"
      ],
      "text/plain": [
       "    children  days_employed  dob_years education  education_id  \\\n",
       "12         0            NaN         65   среднее             1   \n",
       "26         0            NaN         41   среднее             1   \n",
       "29         0            NaN         63   среднее             1   \n",
       "41         0            NaN         50   среднее             1   \n",
       "55         0            NaN         54   среднее             1   \n",
       "65         0            NaN         21   среднее             1   \n",
       "67         0            NaN         52    высшее             0   \n",
       "72         1            NaN         32    высшее             0   \n",
       "82         2            NaN         50    высшее             0   \n",
       "83         0            NaN         52   среднее             1   \n",
       "\n",
       "            family_status  family_status_id gender  income_type  debt  \\\n",
       "12       гражданский брак                 1      M    пенсионер     0   \n",
       "26        женат / замужем                 0      M  госслужащий     0   \n",
       "29  Не женат / не замужем                 4      F    пенсионер     0   \n",
       "41        женат / замужем                 0      F  госслужащий     0   \n",
       "55       гражданский брак                 1      F    пенсионер     1   \n",
       "65  Не женат / не замужем                 4      M    компаньон     0   \n",
       "67        женат / замужем                 0      F    пенсионер     0   \n",
       "72        женат / замужем                 0      M  госслужащий     0   \n",
       "82        женат / замужем                 0      F    сотрудник     0   \n",
       "83        женат / замужем                 0      M    сотрудник     0   \n",
       "\n",
       "    total_income                                purpose  \n",
       "12           NaN                        сыграть свадьбу  \n",
       "26           NaN                            образование  \n",
       "29           NaN       строительство жилой недвижимости  \n",
       "41           NaN       сделка с подержанным автомобилем  \n",
       "55           NaN                        сыграть свадьбу  \n",
       "65           NaN  операции с коммерческой недвижимостью  \n",
       "67           NaN                покупка жилья для семьи  \n",
       "72           NaN  операции с коммерческой недвижимостью  \n",
       "82           NaN                                  жилье  \n",
       "83           NaN                                  жилье  "
      ]
     },
     "metadata": {},
     "output_type": "display_data"
    }
   ],
   "source": [
    "# здесь представлен подсчет пропусков в столбцах 'days_employed', 'total_income' далее я вывел \n",
    "# первые 10 значений таблицы с пропусками на экран\n",
    "columns_null = ['days_employed', 'total_income']\n",
    "for i in columns_null:\n",
    "    print('Число пропусков для столбца', i, len(data[data[i].isna()]))\n",
    "display(data[data['days_employed'].isna()].head(10)) "
   ]
  },
  {
   "cell_type": "markdown",
   "metadata": {},
   "source": [
    "Количество пропусков в 'days_employed', 'total_income' одинаковое, при выводе таблице видно, что там где есть пропуск  \n",
    "в одном столбце - есть и в другом  \n",
    "\n",
    "Первая мысль для ответа на вопрос про \"зависимость между уровнем дохода и возвратом кредита в срок\" заполнить пропуски медианными значениями, ориентируюясь на категории из других столбцов, но неясно на какой именно \n",
    "столбец ориентироваться, так как ориентирование на категории из одного из столбцов может внести искажения в результаты задачи.\n",
    "Также есть мысль взять медианные значения по всему набору данных, хотя это тоже может вызвать искажения. \n",
    "Чтобы постараться увидеть максимально корректный результат планирую при ответе на вопрос про \"зависимость между уровнем дохода и возвратом кредита в срок\" использвать данные, как с удаленными пропусками, так и с замененными на медианное значение.\n",
    "\n",
    "Пропуски значений столбца 'days_employed' не должны повлиять на основные вопросы, но планирую их заменить для отработки информации полученной в ходе спринта."
   ]
  },
  {
   "cell_type": "markdown",
   "metadata": {},
   "source": [
    "**Вывод**  \n",
    "Обнаружены пропуски в столбцах 'days_employed' и 'total_income' - одинаковое число пропусков в одних и тех же строках. Возможное появление пропусков случайные сбои - в том как выглядт пропуски не видно закономерности"
   ]
  },
  {
   "cell_type": "markdown",
   "metadata": {},
   "source": []
  },
  {
   "cell_type": "markdown",
   "metadata": {},
   "source": [
    "### Замена типа данных"
   ]
  },
  {
   "cell_type": "code",
   "execution_count": 7,
   "metadata": {},
   "outputs": [
    {
     "name": "stdout",
     "output_type": "stream",
     "text": [
      "Максимальные значения столбца days_employed: 401755.40047533\n",
      "Минимальные значения столбца days_employed: -18388.949900568383\n"
     ]
    },
    {
     "data": {
      "text/plain": [
       "<matplotlib.axes._subplots.AxesSubplot at 0x7efdd5399950>"
      ]
     },
     "execution_count": 7,
     "metadata": {},
     "output_type": "execute_result"
    },
    {
     "data": {
      "image/png": "[encoded data removed]",
      "text/plain": [
       "<Figure size 432x288 with 1 Axes>"
      ]
     },
     "metadata": {
      "needs_background": "light"
     },
     "output_type": "display_data"
    }
   ],
   "source": [
    "# с учетом того, что в столбце 'days_employed' я заметил и положительные и отрицательные значенияя, а также очень большие \n",
    "# значения я решил посмотреть на минимальные и максимальные значения, а также визуализировать данные\n",
    "print('Максимальные значения столбца days_employed:', data['days_employed'].max())\n",
    "print('Минимальные значения столбца days_employed:', data['days_employed'].min())\n",
    "import seaborn as sns\n",
    "sns.scatterplot(data = data, x= range(len(data['days_employed'])), y = data['days_employed'])"
   ]
  },
  {
   "cell_type": "markdown",
   "metadata": {},
   "source": [
    "на графике видно, что значения в столбце 'days_employed' распределяются странным образом: меньшая часть значений отрицательная (минимальное около -18000) при этом абсолютная величина таких значений выглядит реалистично, но большая часть значений находится в интервал между 300000 и 400000, что выглядит нереалистичным (человек столько не живет)"
   ]
  },
  {
   "cell_type": "code",
   "execution_count": 8,
   "metadata": {},
   "outputs": [
    {
     "data": {
      "text/plain": [
       "<matplotlib.axes._subplots.AxesSubplot at 0x7efdccc1b2d0>"
      ]
     },
     "execution_count": 8,
     "metadata": {},
     "output_type": "execute_result"
    },
    {
     "data": {
      "image/png": "[encoded data removed]",
      "text/plain": [
       "<Figure size 432x288 with 1 Axes>"
      ]
     },
     "metadata": {
      "needs_background": "light"
     },
     "output_type": "display_data"
    }
   ],
   "source": [
    "# далее я решил посмотреть на распределние значений 'days_employed' в зависимости от возраста (логично если значения будут расти)\n",
    "sns.scatterplot(data = data, x= data['dob_years'], y = data['days_employed'])"
   ]
  },
  {
   "cell_type": "markdown",
   "metadata": {},
   "source": [
    "на графике выше видно что:  \n",
    "- часть значений возраста нулевые (раньше это не было заметно) - видимо данные о возрасте забыли вбить\n",
    "- отрицательные значения ведут себя более реалистично (растут вместе с возрастом), положительные значения ведут себя странно (не растут вместе с возрастом, но в интервале возраста 50 и более лет встречаются чаще)"
   ]
  },
  {
   "cell_type": "code",
   "execution_count": 9,
   "metadata": {},
   "outputs": [
    {
     "data": {
      "text/plain": [
       "<matplotlib.axes._subplots.AxesSubplot at 0x7efdccb97390>"
      ]
     },
     "execution_count": 9,
     "metadata": {},
     "output_type": "execute_result"
    },
    {
     "data": {
      "image/png": "[encoded data removed]",
      "text/plain": [
       "<Figure size 432x288 with 1 Axes>"
      ]
     },
     "metadata": {
      "needs_background": "light"
     },
     "output_type": "display_data"
    }
   ],
   "source": [
    "# решил по такому же принципу посмотреть распределение значений столбца 'total_income'\n",
    "sns.scatterplot(data = data, x= data['dob_years'], y = data['total_income'])"
   ]
  },
  {
   "cell_type": "markdown",
   "metadata": {},
   "source": [
    "также как и в случае с 'dob_years' видно, что часть значений возраста нулевые, но в целом распределение 'total_income' в зависимости от возраста выглядит вполне реалистичным  "
   ]
  },
  {
   "cell_type": "code",
   "execution_count": 10,
   "metadata": {},
   "outputs": [
    {
     "name": "stderr",
     "output_type": "stream",
     "text": [
      "/opt/conda/lib/python3.7/site-packages/ipykernel_launcher.py:10: SettingWithCopyWarning: \n",
      "A value is trying to be set on a copy of a slice from a DataFrame.\n",
      "Try using .loc[row_indexer,col_indexer] = value instead\n",
      "\n",
      "See the caveats in the documentation: http://pandas.pydata.org/pandas-docs/stable/user_guide/indexing.html#returning-a-view-versus-a-copy\n",
      "  # Remove the CWD from sys.path while we load stuff.\n"
     ]
    }
   ],
   "source": [
    "# здесь поставлена замена пропусков в days_employed (т.к. выше уже видно, что отрицательные данные реалистичнее, то расчет\n",
    "# опирается на них)\n",
    "data_de_negative = data.loc[data['days_employed'] <= 0] \n",
    "days_employed_median = abs(data_de_negative['days_employed'].median()) # расчет медианного значения стажа исходя из\n",
    "                                                                            # реалистичных данных\n",
    "\n",
    "data['days_employed'] = data['days_employed'].fillna(days_employed_median) # замена пропусков медианным значением\n",
    "data['days_employed'] = data['days_employed'].astype('int') # перевод вещественных значений стажа в целочисленные\n",
    "\n",
    "data_de_negative['days_employed'] = data_de_negative['days_employed'].astype('int') # перевод вещественных значений стажа в целочисленные"
   ]
  },
  {
   "cell_type": "code",
   "execution_count": 11,
   "metadata": {},
   "outputs": [
    {
     "name": "stdout",
     "output_type": "stream",
     "text": [
      "<class 'pandas.core.frame.DataFrame'>\n",
      "Int64Index: 5619 entries, 4 to 21521\n",
      "Data columns (total 12 columns):\n",
      "children            5619 non-null int64\n",
      "days_employed       5619 non-null int64\n",
      "dob_years           5619 non-null int64\n",
      "education           5619 non-null object\n",
      "education_id        5619 non-null int64\n",
      "family_status       5619 non-null object\n",
      "family_status_id    5619 non-null int64\n",
      "gender              5619 non-null object\n",
      "income_type         5619 non-null object\n",
      "debt                5619 non-null int64\n",
      "total_income        3445 non-null float64\n",
      "purpose             5619 non-null object\n",
      "dtypes: float64(1), int64(6), object(5)\n",
      "memory usage: 570.7+ KB\n",
      "None\n",
      "<class 'pandas.core.frame.DataFrame'>\n",
      "Int64Index: 15906 entries, 0 to 21524\n",
      "Data columns (total 12 columns):\n",
      "children            15906 non-null int64\n",
      "days_employed       15906 non-null int64\n",
      "dob_years           15906 non-null int64\n",
      "education           15906 non-null object\n",
      "education_id        15906 non-null int64\n",
      "family_status       15906 non-null object\n",
      "family_status_id    15906 non-null int64\n",
      "gender              15906 non-null object\n",
      "income_type         15906 non-null object\n",
      "debt                15906 non-null int64\n",
      "total_income        15906 non-null float64\n",
      "purpose             15906 non-null object\n",
      "dtypes: float64(1), int64(6), object(5)\n",
      "memory usage: 1.6+ MB\n",
      "None\n"
     ]
    },
    {
     "data": {
      "text/plain": [
       "<matplotlib.axes._subplots.AxesSubplot at 0x7efdcd2d0e90>"
      ]
     },
     "execution_count": 11,
     "metadata": {},
     "output_type": "execute_result"
    },
    {
     "data": {
      "image/png": "[encoded data removed]",
      "text/plain": [
       "<Figure size 432x288 with 1 Axes>"
      ]
     },
     "metadata": {
      "needs_background": "light"
     },
     "output_type": "display_data"
    }
   ],
   "source": [
    "# здесь я решил визуализировать по отдельности отрицательные и положительные значения столбцов 'days_employed' \n",
    "# и посмотреть соотношение отрицательных и положительных значений в них\n",
    "\n",
    "data_de_positive = data.loc[data['days_employed'] > 0]\n",
    "print(data_de_positive.info())\n",
    "print(data_de_negative.info())\n",
    "\n",
    "# ниже график для положительных значений 'days_employed'\n",
    "sns.scatterplot(data = data_de_positive, x= data_de_positive['dob_years'], y = data_de_positive['days_employed'])"
   ]
  },
  {
   "cell_type": "code",
   "execution_count": 12,
   "metadata": {},
   "outputs": [
    {
     "data": {
      "text/plain": [
       "<matplotlib.axes._subplots.AxesSubplot at 0x7efdccb070d0>"
      ]
     },
     "execution_count": 12,
     "metadata": {},
     "output_type": "execute_result"
    },
    {
     "data": {
      "image/png": "[encoded data removed]",
      "text/plain": [
       "<Figure size 432x288 with 1 Axes>"
      ]
     },
     "metadata": {
      "needs_background": "light"
     },
     "output_type": "display_data"
    }
   ],
   "source": [
    "# ниже график для отрицательных значений 'days_employed'\n",
    "sns.scatterplot(data = data_de_negative, x= data_de_negative['dob_years'], y = data_de_negative['days_employed'])"
   ]
  },
  {
   "cell_type": "markdown",
   "metadata": {},
   "source": [
    "в двух графиках выше видно, что распределение стажа, в тех случаях когда он представлен отрицательными значениями вполне реалистично (вероятно счетчик настроен вниз от нуля). положительные значения (в интервале 300 - 400 тысяч дней) выглядят нереальными, причем у меня не получается понять как они появились (это явно не результат случайного умножения на 10, 100 или возведения в квадрат), возможно какая-то ошибка в обработке данных после ввода (если там часы или минуты - тоже не похоже на правду). Единственное, что заметно - в возрастном интервале 50 и больше лет таких значений намного больше. Также заметно, что положительных значение больше, чем отрицательных (15906 против 3445).\n",
    "\n",
    "Далее по замене данных решил сделать следующее: \n",
    "\n",
    "- для трудового стажа взять медиану для абсолютных значений в тех случаях когда стаж меньше нуля и заменить на это значение все отсутствующие значения в столбце, а также все исходно положительные (в случае если бы основные вопросы задания включали в себя   трудовой стаж более корректным было бы сделать такую замену ориентируясь на возрастные катгеории, но для требуемых целей корректно так)\n",
    "- для нулевых значений по возрасту **сделана замена на медиану** (как и в случае с трудовым стажем это не повлияет на основные вопросы, в другом случае можно было бы ориентироваться на данные трудового стажа)\n",
    "- отсутствующие значения по уровню дохода можно заменить медианным значением по столбцу \n",
    "- аномальные значения по числу детей (-1 и 20) необходимо заменить\n",
    "- одно аномальное значение по полу можно заменить на этапе категоризации\n",
    "- заменить вещественные значения на целочисленные можно для столбцов 'days_employed', 'total_income', смысла в данных после запятой для этих столбцов не видно"
   ]
  },
  {
   "cell_type": "code",
   "execution_count": 13,
   "metadata": {},
   "outputs": [],
   "source": [
    "# замена значений трудового стажа\n",
    "\n",
    "def de_correction(de): # функция для замены методом apply нереалистичных значений стажа (> 300000) на медианные и для перевода \n",
    "                       # отрицательных значений в положительные \n",
    "    if de > 300000:\n",
    "        return days_employed_median\n",
    "    else:\n",
    "        de = abs(de)\n",
    "        return de\n",
    "data['days_employed'] = data['days_employed'].apply(de_correction)"
   ]
  },
  {
   "cell_type": "code",
   "execution_count": 14,
   "metadata": {},
   "outputs": [],
   "source": [
    "# замена значений возраста\n",
    "def age_correction(age): # функция для замены методом apply нулевых значений возраста на медианные\n",
    "    if age == 0:\n",
    "        return data['dob_years'].median()\n",
    "    else:\n",
    "        return age\n",
    "data['dob_years'] = data['dob_years'].apply(age_correction)"
   ]
  },
  {
   "cell_type": "code",
   "execution_count": 15,
   "metadata": {},
   "outputs": [],
   "source": [
    "# замена нереалистичных значений числа детей\n",
    "def replace_children(age_children):  # функция для замены некорректных значений числа детей c применением метода apply\n",
    "    if age_children == -1:\n",
    "        return 1\n",
    "    if age_children == 20:\n",
    "        return 2\n",
    "    else:\n",
    "        return age_children\n",
    "data['children'] = data['children'].apply(replace_children)"
   ]
  },
  {
   "cell_type": "code",
   "execution_count": 16,
   "metadata": {},
   "outputs": [
    {
     "name": "stdout",
     "output_type": "stream",
     "text": [
      "Число пропусков в столбце значений стажа: 0\n",
      "Минимальное значение возраста: 19.0\n",
      "Минимальное значение числа детей: 0\n",
      "Максимальное значение числа детей: 5\n"
     ]
    },
    {
     "data": {
      "image/png": "[encoded data removed]",
      "text/plain": [
       "<Figure size 432x288 with 1 Axes>"
      ]
     },
     "metadata": {
      "needs_background": "light"
     },
     "output_type": "display_data"
    }
   ],
   "source": [
    "# проверка замен\n",
    "print('Число пропусков в столбце значений стажа:', len(data[data['dob_years'].isna()])) # проверка замены пропусков в столбце 'dob_years'\n",
    "sns.scatterplot(data = data, x= data['dob_years'], y = data['days_employed']) # проверка того как выглядят данные столбца \n",
    "# 'dob_years' после замен\n",
    "print('Минимальное значение возраста:', data['dob_years'].min()) # проверка замены нулевых значений возраста (вывод минимального значения)\n",
    "print('Минимальное значение числа детей:', data['children'].min()) # проверка замены числа детей \n",
    "print('Максимальное значение числа детей:', data['children'].max()) # проверка замены числа детей"
   ]
  },
  {
   "cell_type": "markdown",
   "metadata": {},
   "source": [
    "после замен, данные по стажу стали выглядеть реалистично (хотя некоторое икажение от медианного значения на графике заметно), нулевых данных по возрасту больше нет, нереалистичных значений по числу детей нет."
   ]
  },
  {
   "cell_type": "code",
   "execution_count": 17,
   "metadata": {},
   "outputs": [],
   "source": [
    "# работа с данными о доходе\n",
    "\n",
    "data['total_income'] = data['total_income'].fillna(data.groupby('income_type')['total_income'].transform('median')) # заполнение\n",
    "# пропусков опираясь на данные столбца о типе занятости, в соотеветствии с показаным методом\n",
    "data['total_income'] = data['total_income'].astype('int') # перевод вещественных значений дохода в целочисленные"
   ]
  },
  {
   "cell_type": "markdown",
   "metadata": {},
   "source": [
    "**Вывод**  \n",
    "заменил пропуски и некорректные значения в столбце с днями трудового стажа (для замены использована медианное значение по реалистичным данным)\n",
    "заменены нулевые значения возраста (для замены использованы **медианные** значения возраста)\n",
    "заменены некорректные значения числа детей\n",
    "**пропуски в столбце по уровню дохода заменены медианным значением с учетом типа занятости**"
   ]
  },
  {
   "cell_type": "markdown",
   "metadata": {},
   "source": []
  },
  {
   "cell_type": "markdown",
   "metadata": {},
   "source": [
    "### Обработка дубликатов"
   ]
  },
  {
   "cell_type": "code",
   "execution_count": 18,
   "metadata": {},
   "outputs": [
    {
     "name": "stdout",
     "output_type": "stream",
     "text": [
      "55\n"
     ]
    }
   ],
   "source": [
    "# методом duplicated проводится поиск явных дубликатов\n",
    "print(data.duplicated().sum()) "
   ]
  },
  {
   "cell_type": "code",
   "execution_count": 19,
   "metadata": {},
   "outputs": [
    {
     "name": "stdout",
     "output_type": "stream",
     "text": [
      "0\n"
     ]
    }
   ],
   "source": [
    "# явных дубликатов 55 их можно удалить\n",
    "data = data.drop_duplicates() # удаление явных дубликатов\n",
    "print(data.duplicated().sum()) # проверка"
   ]
  },
  {
   "cell_type": "code",
   "execution_count": 20,
   "metadata": {},
   "outputs": [
    {
     "name": "stdout",
     "output_type": "stream",
     "text": [
      "['высшее' 'среднее' 'Среднее' 'СРЕДНЕЕ' 'ВЫСШЕЕ' 'неоконченное высшее'\n",
      " 'начальное' 'Высшее' 'НЕОКОНЧЕННОЕ ВЫСШЕЕ' 'Неоконченное высшее'\n",
      " 'НАЧАЛЬНОЕ' 'Начальное' 'Ученая степень' 'УЧЕНАЯ СТЕПЕНЬ'\n",
      " 'ученая степень']\n"
     ]
    }
   ],
   "source": [
    "# на этапе знакомства с данными после применения метода value_counts было видно много дубликатов в столбце 'education', возникших \n",
    "# из-за прменения разных регистров \n",
    "print(data['education'].unique())"
   ]
  },
  {
   "cell_type": "code",
   "execution_count": 21,
   "metadata": {},
   "outputs": [
    {
     "name": "stdout",
     "output_type": "stream",
     "text": [
      "['высшее' 'среднее' 'неоконченное высшее' 'начальное' 'ученая степень']\n",
      "среднее                15187\n",
      "высшее                  5251\n",
      "неоконченное высшее      744\n",
      "начальное                282\n",
      "ученая степень             6\n",
      "Name: education, dtype: int64\n",
      "1    15187\n",
      "0     5251\n",
      "2      744\n",
      "3      282\n",
      "4        6\n",
      "Name: education_id, dtype: int64\n"
     ]
    }
   ],
   "source": [
    "data['education'] = data['education'].str.lower() # с помощью метода str.lower все значения переводяться в нижний регистр\n",
    "print(data['education'].unique()) # проверка перевода значений\n",
    "\n",
    "print(data['education'].value_counts()) # дополнительная проверка - если результаты value_counts для столбцов 'education'\n",
    "print(data['education_id'].value_counts()) # и 'education_id' будут одтнаковыми - можно получить увереность в правильности замены\n",
    "\n",
    "\n",
    "#stock['count'] = stock['count'].replace(10, apple)"
   ]
  },
  {
   "cell_type": "code",
   "execution_count": 22,
   "metadata": {},
   "outputs": [
    {
     "name": "stdout",
     "output_type": "stream",
     "text": [
      "17\n"
     ]
    }
   ],
   "source": [
    "print(data.duplicated().sum()) # после замены значений в столбце 'education' нужно еще раз вызывать метод duplicated"
   ]
  },
  {
   "cell_type": "code",
   "execution_count": 23,
   "metadata": {},
   "outputs": [
    {
     "name": "stdout",
     "output_type": "stream",
     "text": [
      "0\n"
     ]
    }
   ],
   "source": [
    "# появилось еще 17 дубликатов их также можно удалить методом drop_duplicates()\n",
    "data = data.drop_duplicates() # удаление явных дубликатов\n",
    "print(data.duplicated().sum()) # проверка"
   ]
  },
  {
   "cell_type": "markdown",
   "metadata": {},
   "source": [
    "**Вывод**  \n",
    "В наборе данных встретились 54 явных дубликата, они были удалены. Для того чтобы выявить неявные дубликаты значения столбца 'education' были приведены к нижнему регистру - выявлено еще 17 дубликатов - они удалены"
   ]
  },
  {
   "cell_type": "markdown",
   "metadata": {},
   "source": []
  },
  {
   "cell_type": "markdown",
   "metadata": {},
   "source": [
    "### Лемматизация"
   ]
  },
  {
   "cell_type": "code",
   "execution_count": 24,
   "metadata": {},
   "outputs": [
    {
     "name": "stdout",
     "output_type": "stream",
     "text": [
      "['покупка жилья' 'приобретение автомобиля' 'дополнительное образование'\n",
      " 'сыграть свадьбу' 'операции с жильем' 'образование'\n",
      " 'на проведение свадьбы' 'покупка жилья для семьи' 'покупка недвижимости'\n",
      " 'покупка коммерческой недвижимости' 'покупка жилой недвижимости'\n",
      " 'строительство собственной недвижимости' 'недвижимость'\n",
      " 'строительство недвижимости' 'на покупку подержанного автомобиля'\n",
      " 'на покупку своего автомобиля' 'операции с коммерческой недвижимостью'\n",
      " 'строительство жилой недвижимости' 'жилье'\n",
      " 'операции со своей недвижимостью' 'автомобили' 'заняться образованием'\n",
      " 'сделка с подержанным автомобилем' 'получение образования' 'автомобиль'\n",
      " 'свадьба' 'получение дополнительного образования' 'покупка своего жилья'\n",
      " 'операции с недвижимостью' 'получение высшего образования'\n",
      " 'свой автомобиль' 'сделка с автомобилем' 'профильное образование'\n",
      " 'высшее образование' 'покупка жилья для сдачи' 'на покупку автомобиля'\n",
      " 'ремонт жилью' 'заняться высшим образованием']\n",
      "['покупка', ' ', 'жилье', ' ', 'приобретение', ' ', 'автомобиль', ' ', 'дополнительный', ' ', 'образование', ' ', 'сыграть', ' ', 'свадьба', ' ', 'операция', ' ', 'с', ' ', 'жилье', ' ', 'образование', ' ', 'на', ' ', 'проведение', ' ', 'свадьба', ' ', 'покупка', ' ', 'жилье', ' ', 'для', ' ', 'семья', ' ', 'покупка', ' ', 'недвижимость', ' ', 'покупка', ' ', 'коммерческий', ' ', 'недвижимость', ' ', 'покупка', ' ', 'жилой', ' ', 'недвижимость', ' ', 'строительство', ' ', 'собственный', ' ', 'недвижимость', ' ', 'недвижимость', ' ', 'строительство', ' ', 'недвижимость', ' ', 'на', ' ', 'покупка', ' ', 'подержать', ' ', 'автомобиль', ' ', 'на', ' ', 'покупка', ' ', 'свой', ' ', 'автомобиль', ' ', 'операция', ' ', 'с', ' ', 'коммерческий', ' ', 'недвижимость', ' ', 'строительство', ' ', 'жилой', ' ', 'недвижимость', ' ', 'жилье', ' ', 'операция', ' ', 'со', ' ', 'свой', ' ', 'недвижимость', ' ', 'автомобиль', ' ', 'заниматься', ' ', 'образование', ' ', 'сделка', ' ', 'с', ' ', 'подержать', ' ', 'автомобиль', ' ', 'получение', ' ', 'образование', ' ', 'автомобиль', ' ', 'свадьба', ' ', 'получение', ' ', 'дополнительный', ' ', 'образование', ' ', 'покупка', ' ', 'свой', ' ', 'жилье', ' ', 'операция', ' ', 'с', ' ', 'недвижимость', ' ', 'получение', ' ', 'высокий', ' ', 'образование', ' ', 'свой', ' ', 'автомобиль', ' ', 'сделка', ' ', 'с', ' ', 'автомобиль', ' ', 'профильный', ' ', 'образование', ' ', 'высокий', ' ', 'образование', ' ', 'покупка', ' ', 'жилье', ' ', 'для', ' ', 'сдача', ' ', 'на', ' ', 'покупка', ' ', 'автомобиль', ' ', 'ремонт', ' ', 'жилье', ' ', 'заниматься', ' ', 'высокий', ' ', 'образование', '\\n']\n",
      "Counter({' ': 96, 'покупка': 10, 'недвижимость': 10, 'автомобиль': 9, 'образование': 9, 'жилье': 7, 'с': 5, 'операция': 4, 'на': 4, 'свой': 4, 'свадьба': 3, 'строительство': 3, 'получение': 3, 'высокий': 3, 'дополнительный': 2, 'для': 2, 'коммерческий': 2, 'жилой': 2, 'подержать': 2, 'заниматься': 2, 'сделка': 2, 'приобретение': 1, 'сыграть': 1, 'проведение': 1, 'семья': 1, 'собственный': 1, 'со': 1, 'профильный': 1, 'сдача': 1, 'ремонт': 1, '\\n': 1})\n"
     ]
    }
   ],
   "source": [
    "print(data['purpose'].unique()) # сначала я решил ознакомиться со списком уникальных значений столбца 'purpose', для того,\n",
    "                                # чтобы предварительно понять какое число категорий нужно \n",
    "                                # будет выбрать после лемматизации\n",
    "    \n",
    "text = ' '.join(data['purpose'].unique()) # объединение списка уникальных значений в строку\n",
    "\n",
    "lemmas = m.lemmatize(text) # лемматизация (сделать в одну строку без переменной text не сумел)\n",
    "print(lemmas)\n",
    "from collections import Counter # подсчет встречаемости слов среди списка уникальных значений столбца 'purpose'\n",
    "print(Counter(lemmas))           # дополнительная информация\n",
    "\n",
    "# В итоге решил выбрать 4 категории: недвижимость, автомобиль, свадьба и образование\n",
    "# отдельные слова наводят на мысль о выделении дополнительных категорий (поддержанный автомобиль), (дополнительное образование),\n",
    "# (коммерческая недвижимость) и др., но исходя из контекстов трудно понять характеристики альтернатив таких категорий"
   ]
  },
  {
   "cell_type": "code",
   "execution_count": 25,
   "metadata": {},
   "outputs": [
    {
     "name": "stdout",
     "output_type": "stream",
     "text": [
      "недвижимость    10811\n",
      "автомобиль       4306\n",
      "образование      4013\n",
      "свадьба          2323\n",
      "Name: purpose_lemmatize, dtype: int64\n"
     ]
    }
   ],
   "source": [
    "def cateorize_purpose(row):                        #  функция для создания столбца с категориями целей взятия кредита\n",
    "    purpose = row['purpose']\n",
    "    lemmas = ''.join(m.lemmatize(purpose))\n",
    "    if 'жилье' in lemmas or 'недвижимость' in lemmas:\n",
    "        return 'недвижимость'\n",
    "    if 'образование' in lemmas:\n",
    "        return 'образование'\n",
    "    if 'свадьба' in lemmas:\n",
    "        return 'свадьба'                     \n",
    "    if 'автомобиль' in lemmas:\n",
    "        return 'автомобиль'\n",
    "    else:\n",
    "        return 'неизвестно'\n",
    "    \n",
    "data['purpose_lemmatize'] = data.apply(cateorize_purpose, axis=1)   # создание столбца с категориями - у меня получилось\n",
    "                                                                    # применить только ко всему набору данных (не к одному столбцу)\n",
    "print(data['purpose_lemmatize'].value_counts())    # проверка (если все значения затронуты - значение 'неизвестно' - не появится)"
   ]
  },
  {
   "cell_type": "markdown",
   "metadata": {},
   "source": [
    "**Вывод**  \n",
    "проведена лемматизация данных в столбце 'purpose' с её помощью выбраны категории целей взятия кредита  \n",
    "далее с помощью лемматизации создан столбец с категориями взятия кредита"
   ]
  },
  {
   "cell_type": "markdown",
   "metadata": {},
   "source": []
  },
  {
   "cell_type": "markdown",
   "metadata": {},
   "source": [
    "### Категоризация данных"
   ]
  },
  {
   "cell_type": "markdown",
   "metadata": {},
   "source": [
    "На данный момент значительная часть данных уже категоризированна (но еще не все):\n",
    "- **число детей в целом интересно рассмотреть как ряд категорий, в то же время можно ввести дополнительный столбец с 4-мя категориями (0, 1, 2, многодетные)**\n",
    "- образование категоризровано в ходе работе с дубликатами (плюс в столбце education_id исходно были нужные категории), плюс вопрос про образование исходно не ставится\n",
    "- цели кредита категоризированны в ходе лемматизации\n",
    "- семейное положение категоризировано исходно - возможно в ходе ответа на вопрос оно потребует дополнительной категоризации, но это будет лучше видно по ходу работы над вопросом\n",
    "- **данные о доходе нуждаются в категоризации**\n",
    "- данные о поле уже категоризированны (было видно одно аномальное значение, но сложно понять на какое его заменить - в случае если рассмотрение пондобится там можно применить кострукцию try-except, применение которой предполагается заданием, но я пока не увидел места для её применения) - вопрос про пол исходно не ставился\n",
    "- вопрос про данные о типе дохода не ставился, но в случае работы над ним все еденичные значения (безработный, декрет, предприниматель, студент) будет лучше объединить с большими группами - в то же время не вполне ясно, как быть с большими группами - на первый взгляд кажется логичным объединить их все кроме пенсионера"
   ]
  },
  {
   "cell_type": "code",
   "execution_count": 26,
   "metadata": {},
   "outputs": [
    {
     "name": "stdout",
     "output_type": "stream",
     "text": [
      "нет детей       14090\n",
      "один ребенок     4855\n",
      "двое детей       2128\n",
      "многодетные       380\n",
      "Name: children_categories, dtype: int64\n"
     ]
    }
   ],
   "source": [
    "# дополнительная категоризация столбца с числом детей\n",
    "def children_category(children):   # фунция для дополнительной категоризации числа детей\n",
    "    if children >= 3:\n",
    "        return 'многодетные'  \n",
    "    if children == 2:\n",
    "        return 'двое детей'        # так как категория многодетные представлена текстовым значением остальные тоже решил  \n",
    "    if children == 1:              # сделать текстовыми\n",
    "        return 'один ребенок'\n",
    "    else:\n",
    "        return 'нет детей'\n",
    "data['children_categories'] = data['children'].apply(children_category)\n",
    "print(data['children_categories'].value_counts()) # проверка"
   ]
  },
  {
   "cell_type": "code",
   "execution_count": 27,
   "metadata": {
    "scrolled": true
   },
   "outputs": [
    {
     "name": "stdout",
     "output_type": "stream",
     "text": [
      "Медианный доход: 142594.0\n",
      "Минимальный доход: 20667\n",
      "Максимальный доход: 2265604\n"
     ]
    },
    {
     "data": {
      "text/plain": [
       "<matplotlib.axes._subplots.AxesSubplot at 0x7efdcc9eb650>"
      ]
     },
     "execution_count": 27,
     "metadata": {},
     "output_type": "execute_result"
    },
    {
     "data": {
      "image/png": "[encoded data removed]",
      "text/plain": [
       "<Figure size 432x288 with 1 Axes>"
      ]
     },
     "metadata": {
      "needs_background": "light"
     },
     "output_type": "display_data"
    }
   ],
   "source": [
    "# категоризация данных о доходе\n",
    "print('Медианный доход:', data['total_income'].median()) \n",
    "print('Минимальный доход:', data['total_income'].min()) \n",
    "print('Максимальный доход:', data['total_income'].max())\n",
    "\n",
    "# распределение вариантов общего дохода по возрастанию\n",
    "sns.scatterplot(data = data, x= range(len(data['total_income'])), y = data['total_income'].sort_values()) "
   ]
  },
  {
   "cell_type": "markdown",
   "metadata": {},
   "source": [
    "из графика видно, что доход распределятся неравномерно: можно попробовать выделить 4 категории:  \n",
    "- больше 500000, \n",
    "- 200000-500000, \n",
    "- 100000-200000 (с учетом того что 145000 - медианное значение) \n",
    "- и <100000 "
   ]
  },
  {
   "cell_type": "code",
   "execution_count": 28,
   "metadata": {},
   "outputs": [
    {
     "data": {
      "text/plain": [
       "средний доход          11923\n",
       "высокий доход           4845\n",
       "низкий доход            4463\n",
       "очень высокий доход      222\n",
       "Name: total_income_cat, dtype: int64"
      ]
     },
     "execution_count": 28,
     "metadata": {},
     "output_type": "execute_result"
    }
   ],
   "source": [
    "# категоризация данных о доходе \n",
    "\n",
    "def total_income_categorize(incom): # функция для категоризации дохода методом apply                   \n",
    "    if incom >= 500000:\n",
    "        return 'очень высокий доход'\n",
    "    if 500000 > incom >= 200000:\n",
    "        return 'высокий доход'\n",
    "    if 200000 > incom >= 100000:\n",
    "        return 'средний доход'\n",
    "    else:\n",
    "        return 'низкий доход'\n",
    "\n",
    "data['total_income_cat'] = data['total_income'].apply(total_income_categorize)\n",
    "data['total_income_cat'].value_counts()"
   ]
  },
  {
   "cell_type": "markdown",
   "metadata": {},
   "source": [
    "**Вывод**  \n",
    "проведена категоризация данных о числе детей (данные о детях до категоризации тоже могут быть полезны) и об уровне дохода\n",
    "остальные данные категоризованны на более ранних этапах (цель, семейное положение) или не требовали категоризации"
   ]
  },
  {
   "cell_type": "markdown",
   "metadata": {},
   "source": []
  },
  {
   "cell_type": "markdown",
   "metadata": {},
   "source": [
    "## Шаг 3. Ответьте на вопросы"
   ]
  },
  {
   "cell_type": "markdown",
   "metadata": {},
   "source": [
    "- Есть ли зависимость между наличием детей и возвратом кредита в срок?"
   ]
  },
  {
   "cell_type": "code",
   "execution_count": 29,
   "metadata": {},
   "outputs": [
    {
     "name": "stdout",
     "output_type": "stream",
     "text": [
      "Index(['children', 'days_employed', 'dob_years', 'education', 'education_id',\n",
      "       'family_status', 'family_status_id', 'gender', 'income_type', 'debt',\n",
      "       'total_income', 'purpose', 'purpose_lemmatize', 'children_categories',\n",
      "       'total_income_cat'],\n",
      "      dtype='object')\n",
      "0    19712\n",
      "1     1741\n",
      "Name: debt, dtype: int64\n"
     ]
    }
   ],
   "source": [
    "print(data.columns) # вывод значений столбцов (для того чтобы иметь их под рукой и быстрее ориентироваться)\n",
    "print(data['debt'].value_counts()) # вывод числа вариантов значений столбца 'debt' для подсчета среднего процента задолженности"
   ]
  },
  {
   "cell_type": "code",
   "execution_count": 30,
   "metadata": {},
   "outputs": [
    {
     "name": "stdout",
     "output_type": "stream",
     "text": [
      "8.83%\n"
     ]
    }
   ],
   "source": [
    "debt_rate = 1741/19713  # подсчет среднего процента задолженности\n",
    "print(f'{debt_rate:.2%}') # вывод среднего процента задолженности"
   ]
  },
  {
   "cell_type": "code",
   "execution_count": 31,
   "metadata": {},
   "outputs": [
    {
     "data": {
      "text/html": [
       "<div>\n",
       "<style scoped>\n",
       "    .dataframe tbody tr th:only-of-type {\n",
       "        vertical-align: middle;\n",
       "    }\n",
       "\n",
       "    .dataframe tbody tr th {\n",
       "        vertical-align: top;\n",
       "    }\n",
       "\n",
       "    .dataframe thead tr th {\n",
       "        text-align: left;\n",
       "    }\n",
       "\n",
       "    .dataframe thead tr:last-of-type th {\n",
       "        text-align: right;\n",
       "    }\n",
       "</style>\n",
       "<table border=\"1\" class=\"dataframe\">\n",
       "  <thead>\n",
       "    <tr>\n",
       "      <th></th>\n",
       "      <th colspan=\"2\" halign=\"left\">debt</th>\n",
       "      <th>relation</th>\n",
       "    </tr>\n",
       "    <tr>\n",
       "      <th></th>\n",
       "      <th>count</th>\n",
       "      <th>sum</th>\n",
       "      <th></th>\n",
       "    </tr>\n",
       "    <tr>\n",
       "      <th>children</th>\n",
       "      <th></th>\n",
       "      <th></th>\n",
       "      <th></th>\n",
       "    </tr>\n",
       "  </thead>\n",
       "  <tbody>\n",
       "    <tr>\n",
       "      <td>0</td>\n",
       "      <td>14090</td>\n",
       "      <td>1063</td>\n",
       "      <td>7.54%</td>\n",
       "    </tr>\n",
       "    <tr>\n",
       "      <td>1</td>\n",
       "      <td>4855</td>\n",
       "      <td>445</td>\n",
       "      <td>9.17%</td>\n",
       "    </tr>\n",
       "    <tr>\n",
       "      <td>2</td>\n",
       "      <td>2128</td>\n",
       "      <td>202</td>\n",
       "      <td>9.49%</td>\n",
       "    </tr>\n",
       "    <tr>\n",
       "      <td>3</td>\n",
       "      <td>330</td>\n",
       "      <td>27</td>\n",
       "      <td>8.18%</td>\n",
       "    </tr>\n",
       "    <tr>\n",
       "      <td>4</td>\n",
       "      <td>41</td>\n",
       "      <td>4</td>\n",
       "      <td>9.76%</td>\n",
       "    </tr>\n",
       "    <tr>\n",
       "      <td>5</td>\n",
       "      <td>9</td>\n",
       "      <td>0</td>\n",
       "      <td>0.00%</td>\n",
       "    </tr>\n",
       "  </tbody>\n",
       "</table>\n",
       "</div>"
      ],
      "text/plain": [
       "           debt       relation\n",
       "          count   sum         \n",
       "children                      \n",
       "0         14090  1063    7.54%\n",
       "1          4855   445    9.17%\n",
       "2          2128   202    9.49%\n",
       "3           330    27    8.18%\n",
       "4            41     4    9.76%\n",
       "5             9     0    0.00%"
      ]
     },
     "metadata": {},
     "output_type": "display_data"
    }
   ],
   "source": [
    "# рассмотрение вопроса про связь числа детей и возвратом кредита в срок\n",
    "# (вариант где каждое число детей категория)\n",
    "\n",
    "data_grouped_by_children = data.groupby('children').agg({'debt': ['count', 'sum']}) # группировка данных по стообцу о\n",
    "# числе детей и пременеие метода agg() для подсчета числа значений в столбце 'debt' (будет отражать общее число прдеставителей\n",
    "# категории) и суммы значений (будет отражать число представителей с задолженностью, т.к. наличие задолженности отмечено цифрой 1)\n",
    "\n",
    "\n",
    "def relate_count(row):                         #  функция для подсчета процента задолженностей (будет использована и для других данных)\n",
    "    count_data = row[('debt', 'count')]\n",
    "    sum_data = row[('debt', 'sum')]\n",
    "    return f'{sum_data / count_data:.2%}'\n",
    "\n",
    "data_grouped_by_children['relation'] = data_grouped_by_children.apply(relate_count, axis=1) # добавление столбца с процентом\n",
    "                                                                                            # задолженности\n",
    "display(data_grouped_by_children) "
   ]
  },
  {
   "cell_type": "code",
   "execution_count": 32,
   "metadata": {},
   "outputs": [
    {
     "data": {
      "text/html": [
       "<div>\n",
       "<style scoped>\n",
       "    .dataframe tbody tr th:only-of-type {\n",
       "        vertical-align: middle;\n",
       "    }\n",
       "\n",
       "    .dataframe tbody tr th {\n",
       "        vertical-align: top;\n",
       "    }\n",
       "\n",
       "    .dataframe thead tr th {\n",
       "        text-align: left;\n",
       "    }\n",
       "\n",
       "    .dataframe thead tr:last-of-type th {\n",
       "        text-align: right;\n",
       "    }\n",
       "</style>\n",
       "<table border=\"1\" class=\"dataframe\">\n",
       "  <thead>\n",
       "    <tr>\n",
       "      <th></th>\n",
       "      <th colspan=\"2\" halign=\"left\">debt</th>\n",
       "      <th>relation</th>\n",
       "    </tr>\n",
       "    <tr>\n",
       "      <th></th>\n",
       "      <th>count</th>\n",
       "      <th>sum</th>\n",
       "      <th></th>\n",
       "    </tr>\n",
       "    <tr>\n",
       "      <th>children_categories</th>\n",
       "      <th></th>\n",
       "      <th></th>\n",
       "      <th></th>\n",
       "    </tr>\n",
       "  </thead>\n",
       "  <tbody>\n",
       "    <tr>\n",
       "      <td>двое детей</td>\n",
       "      <td>2128</td>\n",
       "      <td>202</td>\n",
       "      <td>9.49%</td>\n",
       "    </tr>\n",
       "    <tr>\n",
       "      <td>многодетные</td>\n",
       "      <td>380</td>\n",
       "      <td>31</td>\n",
       "      <td>8.16%</td>\n",
       "    </tr>\n",
       "    <tr>\n",
       "      <td>нет детей</td>\n",
       "      <td>14090</td>\n",
       "      <td>1063</td>\n",
       "      <td>7.54%</td>\n",
       "    </tr>\n",
       "    <tr>\n",
       "      <td>один ребенок</td>\n",
       "      <td>4855</td>\n",
       "      <td>445</td>\n",
       "      <td>9.17%</td>\n",
       "    </tr>\n",
       "  </tbody>\n",
       "</table>\n",
       "</div>"
      ],
      "text/plain": [
       "                      debt       relation\n",
       "                     count   sum         \n",
       "children_categories                      \n",
       "двое детей            2128   202    9.49%\n",
       "многодетные            380    31    8.16%\n",
       "нет детей            14090  1063    7.54%\n",
       "один ребенок          4855   445    9.17%"
      ]
     },
     "metadata": {},
     "output_type": "display_data"
    }
   ],
   "source": [
    "# рассмотрение вопроса про связь числа детей и возвратом кредита в срок\n",
    "# (вариант где число детей >= 3 - многодетные)\n",
    "data_grouped_by_children_cat = data.groupby('children_categories').agg({'debt': ['count', 'sum']})\n",
    "data_grouped_by_children_cat['relation'] = data_grouped_by_children_cat.apply(relate_count, axis=1)\n",
    "display(data_grouped_by_children_cat) "
   ]
  },
  {
   "cell_type": "code",
   "execution_count": 33,
   "metadata": {},
   "outputs": [
    {
     "data": {
      "text/html": [
       "<div>\n",
       "<style scoped>\n",
       "    .dataframe tbody tr th:only-of-type {\n",
       "        vertical-align: middle;\n",
       "    }\n",
       "\n",
       "    .dataframe tbody tr th {\n",
       "        vertical-align: top;\n",
       "    }\n",
       "\n",
       "    .dataframe thead th {\n",
       "        text-align: right;\n",
       "    }\n",
       "</style>\n",
       "<table border=\"1\" class=\"dataframe\">\n",
       "  <thead>\n",
       "    <tr style=\"text-align: right;\">\n",
       "      <th></th>\n",
       "      <th>категория</th>\n",
       "      <th>процент наличия факта задолженности</th>\n",
       "    </tr>\n",
       "  </thead>\n",
       "  <tbody>\n",
       "    <tr>\n",
       "      <td>2</td>\n",
       "      <td>нет детей</td>\n",
       "      <td>7.54</td>\n",
       "    </tr>\n",
       "    <tr>\n",
       "      <td>1</td>\n",
       "      <td>многодетные</td>\n",
       "      <td>8.16</td>\n",
       "    </tr>\n",
       "    <tr>\n",
       "      <td>4</td>\n",
       "      <td>среднее по всем данным</td>\n",
       "      <td>8.83</td>\n",
       "    </tr>\n",
       "    <tr>\n",
       "      <td>3</td>\n",
       "      <td>один ребенок</td>\n",
       "      <td>9.17</td>\n",
       "    </tr>\n",
       "    <tr>\n",
       "      <td>0</td>\n",
       "      <td>двое детей</td>\n",
       "      <td>9.49</td>\n",
       "    </tr>\n",
       "  </tbody>\n",
       "</table>\n",
       "</div>"
      ],
      "text/plain": [
       "                категория  процент наличия факта задолженности\n",
       "2               нет детей                                 7.54\n",
       "1             многодетные                                 8.16\n",
       "4  среднее по всем данным                                 8.83\n",
       "3            один ребенок                                 9.17\n",
       "0              двое детей                                 9.49"
      ]
     },
     "metadata": {},
     "output_type": "display_data"
    }
   ],
   "source": [
    "# таблица с более наглядным представлением\n",
    "info = pd.DataFrame(data=[['двое детей', 9.49], ['многодетные', 8.16], ['нет детей', 7.54], ['один ребенок', 9.17], ['среднее по всем данным', 8.83]], columns=['категория', 'процент наличия факта задолженности'])\n",
    "info = info.sort_values(by='процент наличия факта задолженности') # сортировка для наглдяности\n",
    "display(info)"
   ]
  },
  {
   "cell_type": "markdown",
   "metadata": {},
   "source": [
    "**Вывод**  \n",
    "Более логично использование данных, где многодетные выделены в отдельную категорию (т.к. их и так немного).  \n",
    "Видно, что наименьший процент задолженности у группы без детей (ниже среднего по всем данным), у тех у кого есть один ребенок \n",
    "выше (и выше срденей), у тех у кого двое детей еще выше. Многодетные родители имеют процент задолженности ниже среднего (но выше, чем люди без детей), но это может быть связано с низкой выборкой по ним."
   ]
  },
  {
   "cell_type": "markdown",
   "metadata": {},
   "source": []
  },
  {
   "cell_type": "markdown",
   "metadata": {},
   "source": [
    "- Есть ли зависимость между семейным положением и возвратом кредита в срок?"
   ]
  },
  {
   "cell_type": "code",
   "execution_count": 34,
   "metadata": {},
   "outputs": [
    {
     "data": {
      "text/html": [
       "<div>\n",
       "<style scoped>\n",
       "    .dataframe tbody tr th:only-of-type {\n",
       "        vertical-align: middle;\n",
       "    }\n",
       "\n",
       "    .dataframe tbody tr th {\n",
       "        vertical-align: top;\n",
       "    }\n",
       "\n",
       "    .dataframe thead tr th {\n",
       "        text-align: left;\n",
       "    }\n",
       "\n",
       "    .dataframe thead tr:last-of-type th {\n",
       "        text-align: right;\n",
       "    }\n",
       "</style>\n",
       "<table border=\"1\" class=\"dataframe\">\n",
       "  <thead>\n",
       "    <tr>\n",
       "      <th></th>\n",
       "      <th colspan=\"2\" halign=\"left\">debt</th>\n",
       "      <th>relation</th>\n",
       "    </tr>\n",
       "    <tr>\n",
       "      <th></th>\n",
       "      <th>count</th>\n",
       "      <th>sum</th>\n",
       "      <th></th>\n",
       "    </tr>\n",
       "    <tr>\n",
       "      <th>family_status</th>\n",
       "      <th></th>\n",
       "      <th></th>\n",
       "      <th></th>\n",
       "    </tr>\n",
       "  </thead>\n",
       "  <tbody>\n",
       "    <tr>\n",
       "      <td>Не женат / не замужем</td>\n",
       "      <td>2810</td>\n",
       "      <td>274</td>\n",
       "      <td>9.75%</td>\n",
       "    </tr>\n",
       "    <tr>\n",
       "      <td>в разводе</td>\n",
       "      <td>1195</td>\n",
       "      <td>85</td>\n",
       "      <td>7.11%</td>\n",
       "    </tr>\n",
       "    <tr>\n",
       "      <td>вдовец / вдова</td>\n",
       "      <td>959</td>\n",
       "      <td>63</td>\n",
       "      <td>6.57%</td>\n",
       "    </tr>\n",
       "    <tr>\n",
       "      <td>гражданский брак</td>\n",
       "      <td>4150</td>\n",
       "      <td>388</td>\n",
       "      <td>9.35%</td>\n",
       "    </tr>\n",
       "    <tr>\n",
       "      <td>женат / замужем</td>\n",
       "      <td>12339</td>\n",
       "      <td>931</td>\n",
       "      <td>7.55%</td>\n",
       "    </tr>\n",
       "  </tbody>\n",
       "</table>\n",
       "</div>"
      ],
      "text/plain": [
       "                        debt      relation\n",
       "                       count  sum         \n",
       "family_status                             \n",
       "Не женат / не замужем   2810  274    9.75%\n",
       "в разводе               1195   85    7.11%\n",
       "вдовец / вдова           959   63    6.57%\n",
       "гражданский брак        4150  388    9.35%\n",
       "женат / замужем        12339  931    7.55%"
      ]
     },
     "metadata": {},
     "output_type": "display_data"
    }
   ],
   "source": [
    "# рассмотрение вопроса про связь семейного положения и возврата кредита в срок\n",
    "data_grouped_by_family = data.groupby('family_status').agg({'debt': ['count', 'sum']})\n",
    "data_grouped_by_family['relation'] = data_grouped_by_family.apply(relate_count, axis=1)\n",
    "display(data_grouped_by_family) "
   ]
  },
  {
   "cell_type": "code",
   "execution_count": 35,
   "metadata": {},
   "outputs": [
    {
     "data": {
      "text/html": [
       "<div>\n",
       "<style scoped>\n",
       "    .dataframe tbody tr th:only-of-type {\n",
       "        vertical-align: middle;\n",
       "    }\n",
       "\n",
       "    .dataframe tbody tr th {\n",
       "        vertical-align: top;\n",
       "    }\n",
       "\n",
       "    .dataframe thead th {\n",
       "        text-align: right;\n",
       "    }\n",
       "</style>\n",
       "<table border=\"1\" class=\"dataframe\">\n",
       "  <thead>\n",
       "    <tr style=\"text-align: right;\">\n",
       "      <th></th>\n",
       "      <th>категория</th>\n",
       "      <th>процент наличия факта задолженности</th>\n",
       "    </tr>\n",
       "  </thead>\n",
       "  <tbody>\n",
       "    <tr>\n",
       "      <td>2</td>\n",
       "      <td>вдовец / вдова</td>\n",
       "      <td>6.57</td>\n",
       "    </tr>\n",
       "    <tr>\n",
       "      <td>1</td>\n",
       "      <td>в разводе</td>\n",
       "      <td>7.11</td>\n",
       "    </tr>\n",
       "    <tr>\n",
       "      <td>4</td>\n",
       "      <td>женат / замужем</td>\n",
       "      <td>7.55</td>\n",
       "    </tr>\n",
       "    <tr>\n",
       "      <td>5</td>\n",
       "      <td>среднее по всем данным</td>\n",
       "      <td>8.83</td>\n",
       "    </tr>\n",
       "    <tr>\n",
       "      <td>3</td>\n",
       "      <td>гражданский брак</td>\n",
       "      <td>9.35</td>\n",
       "    </tr>\n",
       "    <tr>\n",
       "      <td>0</td>\n",
       "      <td>Не женат / не замужем</td>\n",
       "      <td>9.75</td>\n",
       "    </tr>\n",
       "  </tbody>\n",
       "</table>\n",
       "</div>"
      ],
      "text/plain": [
       "                категория  процент наличия факта задолженности\n",
       "2          вдовец / вдова                                 6.57\n",
       "1               в разводе                                 7.11\n",
       "4         женат / замужем                                 7.55\n",
       "5  среднее по всем данным                                 8.83\n",
       "3        гражданский брак                                 9.35\n",
       "0   Не женат / не замужем                                 9.75"
      ]
     },
     "metadata": {},
     "output_type": "display_data"
    }
   ],
   "source": [
    "# таблица с более наглядным представлением\n",
    "info = pd.DataFrame(data=[['Не женат / не замужем', 9.75], ['в разводе', 7.11], ['вдовец / вдова', 6.57], ['гражданский брак', 9.35], ['женат / замужем', 7.55], ['среднее по всем данным', 8.83]], columns=['категория', 'процент наличия факта задолженности'])\n",
    "info = info.sort_values(by='процент наличия факта задолженности') # сортировка для наглдяности\n",
    "display(info)"
   ]
  },
  {
   "cell_type": "code",
   "execution_count": 36,
   "metadata": {},
   "outputs": [
    {
     "name": "stdout",
     "output_type": "stream",
     "text": [
      "Процент наличия факта задолженности у тех кто состоит/состоял в официальном браке: 7.08\n",
      "Процент наличия факта задолженности у тех кто не состоит в официальном браке: 9.55\n"
     ]
    }
   ],
   "source": [
    "print('Процент наличия факта задолженности у тех кто состоит/состоял в официальном браке:', f'{(6.57 + 7.11 + 7.55) / 3:.2f}')\n",
    "print('Процент наличия факта задолженности у тех кто не состоит в официальном браке:', f'{(9.35 + 9.75) / 2:.2f}')"
   ]
  },
  {
   "cell_type": "markdown",
   "metadata": {},
   "source": [
    "**Вывод**  \n",
    "Исходя из имеющихся данных видно, что те кто состоит или состоял в официальном браке имеют процент наличия факта задолженности ниже среднего, а те кто не состоит выше. Конечно часть людей заявляющих гражданский брак могла ранее состоять в браке, но в общем для банка менее рисковано взаимодействие с людьми состоящими (или состоявшими) в официальном браке "
   ]
  },
  {
   "cell_type": "markdown",
   "metadata": {},
   "source": [
    "\n",
    "\n",
    "У меня не получается однозначно ответить - я попытался применить pivot_table, чтобы через них высмотреть какой-то фактор (ниже привел один из примеров - исходно мне показалось важным рассмотреть возраст в контексте брака) - но именно однозначное цифровое значение получить не могу (по ходу рассмотрения увидел, что очень важны пол, образование и возраст все таки важен и значения  \n",
    "задолженностей несколько варьируют среди групп по браку для разных возрастов и полов, но в основном соотношения похожи.  ответить именно на вопрос **почему пребывание(сейчас или раньше) в официальном браке это положительный показатель  способности заёмщика вернуть кредит?** могу только предположением:  \n",
    "\n",
    "В случае развода заемщик (это в основном женщины) могут получать алименты (самый низкий процент невзоврата в зоне 35-46 лет), в случае вдов/вдовцов нажитое имущество (самый низкий процент невзоврата в 47-59 лет из тех групп которые посмотрел).  \n",
    "Хотя размеры групп \"в разводе\" и \"вдова/вдовец\" растут с возрастом, но их в основном меньше, чем остальных - поэтому главный вопрос **из-за чего состояние в официальном браке дает меньшую рискованность в плане возврата кредита, чем гражданский брак или его отсутствие**: состояние в официальном браке говорит о наличии у заемщиков более стабильных пар, в которых имеются юридические обязательства (стабильные пары в свою очередь могут говорить о большей стабильности в финансовом плане, чем отсутствие брака и меньшей вероятности прерывания юридических обязательств, чем в случае гражданского брака).\n",
    "    \n",
    "(хотя конечно это общее ощущение возможно вообще неверное, ну и частные случаи могут быть совершенно различными) \n",
    "\n"
   ]
  },
  {
   "cell_type": "code",
   "execution_count": 37,
   "metadata": {},
   "outputs": [
    {
     "name": "stdout",
     "output_type": "stream",
     "text": [
      "Медианный возраст: 42.0\n",
      "Минимальный возраст: 19.0\n",
      "Максимальный возраст: 75.0\n"
     ]
    },
    {
     "data": {
      "text/plain": [
       "<matplotlib.axes._subplots.AxesSubplot at 0x7efdcca71b10>"
      ]
     },
     "execution_count": 37,
     "metadata": {},
     "output_type": "execute_result"
    },
    {
     "data": {
      "image/png": "[encoded data removed]",
      "text/plain": [
       "<Figure size 432x288 with 1 Axes>"
      ]
     },
     "metadata": {
      "needs_background": "light"
     },
     "output_type": "display_data"
    }
   ],
   "source": [
    "# категоризация данных о возрасте\n",
    "print('Медианный возраст:', data['dob_years'].median()) \n",
    "print('Минимальный возраст:', data['dob_years'].min()) \n",
    "print('Максимальный возраст:', data['dob_years'].max())\n",
    "\n",
    "# распределение вариантов общего дохода по возрастанию\n",
    "sns.scatterplot(data = data, x= range(len(data['dob_years'])), y = data['dob_years'].sort_values()) "
   ]
  },
  {
   "cell_type": "code",
   "execution_count": 38,
   "metadata": {},
   "outputs": [
    {
     "data": {
      "text/plain": [
       "35-46 лет       6808\n",
       "47-59 лет       6178\n",
       "25 - 34 года    5092\n",
       "пенсионер       2500\n",
       "моложе 25        875\n",
       "Name: dob_years_cat, dtype: int64"
      ]
     },
     "execution_count": 38,
     "metadata": {},
     "output_type": "execute_result"
    }
   ],
   "source": [
    "# категоризация данных о возрасте\n",
    "\n",
    "def dob_years_categorize(age): # функция для категоризации возраста методом apply                   \n",
    "    if age >= 60:\n",
    "        return 'пенсионер'\n",
    "    if 60 > age >= 47:\n",
    "        return '47-59 лет'\n",
    "    if 47 > age >= 35:\n",
    "        return '35-46 лет'\n",
    "    if 35 > age >= 25:\n",
    "        return '25 - 34 года'\n",
    "    else:\n",
    "        return 'моложе 25'\n",
    "\n",
    "data['dob_years_cat'] = data['dob_years'].apply(dob_years_categorize)\n",
    "data['dob_years_cat'].value_counts()"
   ]
  },
  {
   "cell_type": "code",
   "execution_count": 39,
   "metadata": {},
   "outputs": [],
   "source": [
    "# зедсь сводная таблица по семейному статусу для значений столбца по категориям возраста, \n",
    "# в качестве значений приведен столбец с задолженостями, применена функция суммы\n",
    "data_pivot_s = data.pivot_table(index=['family_status'], columns='dob_years_cat',  values='debt', aggfunc='sum')"
   ]
  },
  {
   "cell_type": "code",
   "execution_count": 40,
   "metadata": {},
   "outputs": [
    {
     "data": {
      "text/html": [
       "<div>\n",
       "<style scoped>\n",
       "    .dataframe tbody tr th:only-of-type {\n",
       "        vertical-align: middle;\n",
       "    }\n",
       "\n",
       "    .dataframe tbody tr th {\n",
       "        vertical-align: top;\n",
       "    }\n",
       "\n",
       "    .dataframe thead th {\n",
       "        text-align: right;\n",
       "    }\n",
       "</style>\n",
       "<table border=\"1\" class=\"dataframe\">\n",
       "  <thead>\n",
       "    <tr style=\"text-align: right;\">\n",
       "      <th>dob_years_cat</th>\n",
       "      <th>25 - 34 года</th>\n",
       "      <th>35-46 лет</th>\n",
       "      <th>47-59 лет</th>\n",
       "      <th>моложе 25</th>\n",
       "      <th>пенсионер</th>\n",
       "    </tr>\n",
       "    <tr>\n",
       "      <th>family_status</th>\n",
       "      <th></th>\n",
       "      <th></th>\n",
       "      <th></th>\n",
       "      <th></th>\n",
       "      <th></th>\n",
       "    </tr>\n",
       "  </thead>\n",
       "  <tbody>\n",
       "    <tr>\n",
       "      <td>Не женат / не замужем</td>\n",
       "      <td>955</td>\n",
       "      <td>706</td>\n",
       "      <td>547</td>\n",
       "      <td>362</td>\n",
       "      <td>240</td>\n",
       "    </tr>\n",
       "    <tr>\n",
       "      <td>в разводе</td>\n",
       "      <td>185</td>\n",
       "      <td>427</td>\n",
       "      <td>412</td>\n",
       "      <td>16</td>\n",
       "      <td>155</td>\n",
       "    </tr>\n",
       "    <tr>\n",
       "      <td>вдовец / вдова</td>\n",
       "      <td>16</td>\n",
       "      <td>111</td>\n",
       "      <td>429</td>\n",
       "      <td>1</td>\n",
       "      <td>402</td>\n",
       "    </tr>\n",
       "    <tr>\n",
       "      <td>гражданский брак</td>\n",
       "      <td>1037</td>\n",
       "      <td>1409</td>\n",
       "      <td>1090</td>\n",
       "      <td>220</td>\n",
       "      <td>394</td>\n",
       "    </tr>\n",
       "    <tr>\n",
       "      <td>женат / замужем</td>\n",
       "      <td>2899</td>\n",
       "      <td>4155</td>\n",
       "      <td>3700</td>\n",
       "      <td>276</td>\n",
       "      <td>1309</td>\n",
       "    </tr>\n",
       "  </tbody>\n",
       "</table>\n",
       "</div>"
      ],
      "text/plain": [
       "dob_years_cat          25 - 34 года  35-46 лет  47-59 лет  моложе 25  \\\n",
       "family_status                                                          \n",
       "Не женат / не замужем           955        706        547        362   \n",
       "в разводе                       185        427        412         16   \n",
       "вдовец / вдова                   16        111        429          1   \n",
       "гражданский брак               1037       1409       1090        220   \n",
       "женат / замужем                2899       4155       3700        276   \n",
       "\n",
       "dob_years_cat          пенсионер  \n",
       "family_status                     \n",
       "Не женат / не замужем        240  \n",
       "в разводе                    155  \n",
       "вдовец / вдова               402  \n",
       "гражданский брак             394  \n",
       "женат / замужем             1309  "
      ]
     },
     "metadata": {},
     "output_type": "display_data"
    }
   ],
   "source": [
    "# применена функция count для того чтобы видеть соотношение представителей подгрупп\n",
    "data_pivot_c = data.pivot_table(index=['family_status'], columns='dob_years_cat',  values='debt', aggfunc='count')\n",
    "display(data_pivot_c)"
   ]
  },
  {
   "cell_type": "code",
   "execution_count": 41,
   "metadata": {},
   "outputs": [
    {
     "data": {
      "text/html": [
       "<div>\n",
       "<style scoped>\n",
       "    .dataframe tbody tr th:only-of-type {\n",
       "        vertical-align: middle;\n",
       "    }\n",
       "\n",
       "    .dataframe tbody tr th {\n",
       "        vertical-align: top;\n",
       "    }\n",
       "\n",
       "    .dataframe thead th {\n",
       "        text-align: right;\n",
       "    }\n",
       "</style>\n",
       "<table border=\"1\" class=\"dataframe\">\n",
       "  <thead>\n",
       "    <tr style=\"text-align: right;\">\n",
       "      <th>dob_years_cat</th>\n",
       "      <th>25 - 34 года</th>\n",
       "      <th>35-46 лет</th>\n",
       "      <th>47-59 лет</th>\n",
       "      <th>моложе 25</th>\n",
       "      <th>пенсионер</th>\n",
       "    </tr>\n",
       "    <tr>\n",
       "      <th>family_status</th>\n",
       "      <th></th>\n",
       "      <th></th>\n",
       "      <th></th>\n",
       "      <th></th>\n",
       "      <th></th>\n",
       "    </tr>\n",
       "  </thead>\n",
       "  <tbody>\n",
       "    <tr>\n",
       "      <td>Не женат / не замужем</td>\n",
       "      <td>12.356021</td>\n",
       "      <td>9.490085</td>\n",
       "      <td>7.129799</td>\n",
       "      <td>11.325967</td>\n",
       "      <td>3.750000</td>\n",
       "    </tr>\n",
       "    <tr>\n",
       "      <td>в разводе</td>\n",
       "      <td>11.351351</td>\n",
       "      <td>5.386417</td>\n",
       "      <td>6.796117</td>\n",
       "      <td>12.500000</td>\n",
       "      <td>7.096774</td>\n",
       "    </tr>\n",
       "    <tr>\n",
       "      <td>вдовец / вдова</td>\n",
       "      <td>12.500000</td>\n",
       "      <td>8.108108</td>\n",
       "      <td>5.827506</td>\n",
       "      <td>0.000000</td>\n",
       "      <td>6.716418</td>\n",
       "    </tr>\n",
       "    <tr>\n",
       "      <td>гражданский брак</td>\n",
       "      <td>11.475410</td>\n",
       "      <td>9.936125</td>\n",
       "      <td>8.256881</td>\n",
       "      <td>9.545455</td>\n",
       "      <td>4.568528</td>\n",
       "    </tr>\n",
       "    <tr>\n",
       "      <td>женат / замужем</td>\n",
       "      <td>10.451880</td>\n",
       "      <td>7.725632</td>\n",
       "      <td>6.081081</td>\n",
       "      <td>8.695652</td>\n",
       "      <td>4.430863</td>\n",
       "    </tr>\n",
       "  </tbody>\n",
       "</table>\n",
       "</div>"
      ],
      "text/plain": [
       "dob_years_cat          25 - 34 года  35-46 лет  47-59 лет  моложе 25  \\\n",
       "family_status                                                          \n",
       "Не женат / не замужем     12.356021   9.490085   7.129799  11.325967   \n",
       "в разводе                 11.351351   5.386417   6.796117  12.500000   \n",
       "вдовец / вдова            12.500000   8.108108   5.827506   0.000000   \n",
       "гражданский брак          11.475410   9.936125   8.256881   9.545455   \n",
       "женат / замужем           10.451880   7.725632   6.081081   8.695652   \n",
       "\n",
       "dob_years_cat          пенсионер  \n",
       "family_status                     \n",
       "Не женат / не замужем   3.750000  \n",
       "в разводе               7.096774  \n",
       "вдовец / вдова          6.716418  \n",
       "гражданский брак        4.568528  \n",
       "женат / замужем         4.430863  "
      ]
     },
     "metadata": {},
     "output_type": "display_data"
    }
   ],
   "source": [
    "# подсчитал процент задолженностей (не сумел сделать форматирование в процентах для этой ситуации - поэтому умножил на 100)\n",
    "data_p_rel = data_pivot_s / data_pivot_c * 100\n",
    "display(data_p_rel)"
   ]
  },
  {
   "cell_type": "markdown",
   "metadata": {},
   "source": []
  },
  {
   "cell_type": "markdown",
   "metadata": {},
   "source": [
    "- Есть ли зависимость между уровнем дохода и возвратом кредита в срок?"
   ]
  },
  {
   "cell_type": "code",
   "execution_count": 42,
   "metadata": {},
   "outputs": [
    {
     "data": {
      "text/html": [
       "<div>\n",
       "<style scoped>\n",
       "    .dataframe tbody tr th:only-of-type {\n",
       "        vertical-align: middle;\n",
       "    }\n",
       "\n",
       "    .dataframe tbody tr th {\n",
       "        vertical-align: top;\n",
       "    }\n",
       "\n",
       "    .dataframe thead tr th {\n",
       "        text-align: left;\n",
       "    }\n",
       "\n",
       "    .dataframe thead tr:last-of-type th {\n",
       "        text-align: right;\n",
       "    }\n",
       "</style>\n",
       "<table border=\"1\" class=\"dataframe\">\n",
       "  <thead>\n",
       "    <tr>\n",
       "      <th></th>\n",
       "      <th colspan=\"2\" halign=\"left\">debt</th>\n",
       "      <th>relation</th>\n",
       "    </tr>\n",
       "    <tr>\n",
       "      <th></th>\n",
       "      <th>count</th>\n",
       "      <th>sum</th>\n",
       "      <th></th>\n",
       "    </tr>\n",
       "    <tr>\n",
       "      <th>total_income_cat</th>\n",
       "      <th></th>\n",
       "      <th></th>\n",
       "      <th></th>\n",
       "    </tr>\n",
       "  </thead>\n",
       "  <tbody>\n",
       "    <tr>\n",
       "      <td>высокий доход</td>\n",
       "      <td>4845</td>\n",
       "      <td>344</td>\n",
       "      <td>7.10%</td>\n",
       "    </tr>\n",
       "    <tr>\n",
       "      <td>низкий доход</td>\n",
       "      <td>4463</td>\n",
       "      <td>354</td>\n",
       "      <td>7.93%</td>\n",
       "    </tr>\n",
       "    <tr>\n",
       "      <td>очень высокий доход</td>\n",
       "      <td>222</td>\n",
       "      <td>14</td>\n",
       "      <td>6.31%</td>\n",
       "    </tr>\n",
       "    <tr>\n",
       "      <td>средний доход</td>\n",
       "      <td>11923</td>\n",
       "      <td>1029</td>\n",
       "      <td>8.63%</td>\n",
       "    </tr>\n",
       "  </tbody>\n",
       "</table>\n",
       "</div>"
      ],
      "text/plain": [
       "                      debt       relation\n",
       "                     count   sum         \n",
       "total_income_cat                         \n",
       "высокий доход         4845   344    7.10%\n",
       "низкий доход          4463   354    7.93%\n",
       "очень высокий доход    222    14    6.31%\n",
       "средний доход        11923  1029    8.63%"
      ]
     },
     "metadata": {},
     "output_type": "display_data"
    }
   ],
   "source": [
    "# рассмотрение вопроса про уровень дохода и возвратом кредита в срок \n",
    "\n",
    "data_grouped_by_total_incom = data.groupby('total_income_cat').agg({'debt': ['count', 'sum']})\n",
    "data_grouped_by_total_incom['relation'] = data_grouped_by_total_incom.apply(relate_count, axis=1)\n",
    "display(data_grouped_by_total_incom) "
   ]
  },
  {
   "cell_type": "markdown",
   "metadata": {},
   "source": [
    "Видно, что для выделенных категорий в зависимости от дохода процент наличия факта задолженности всегда меньше среднего по набору данных. "
   ]
  },
  {
   "cell_type": "code",
   "execution_count": 43,
   "metadata": {},
   "outputs": [
    {
     "data": {
      "text/html": [
       "<div>\n",
       "<style scoped>\n",
       "    .dataframe tbody tr th:only-of-type {\n",
       "        vertical-align: middle;\n",
       "    }\n",
       "\n",
       "    .dataframe tbody tr th {\n",
       "        vertical-align: top;\n",
       "    }\n",
       "\n",
       "    .dataframe thead th {\n",
       "        text-align: right;\n",
       "    }\n",
       "</style>\n",
       "<table border=\"1\" class=\"dataframe\">\n",
       "  <thead>\n",
       "    <tr style=\"text-align: right;\">\n",
       "      <th></th>\n",
       "      <th>категория</th>\n",
       "      <th>процент наличия факта задолженности</th>\n",
       "    </tr>\n",
       "  </thead>\n",
       "  <tbody>\n",
       "    <tr>\n",
       "      <td>2</td>\n",
       "      <td>очень высокий доход</td>\n",
       "      <td>6.31</td>\n",
       "    </tr>\n",
       "    <tr>\n",
       "      <td>0</td>\n",
       "      <td>высокий доход</td>\n",
       "      <td>7.10</td>\n",
       "    </tr>\n",
       "    <tr>\n",
       "      <td>1</td>\n",
       "      <td>низкий доход</td>\n",
       "      <td>7.93</td>\n",
       "    </tr>\n",
       "    <tr>\n",
       "      <td>3</td>\n",
       "      <td>средний доход</td>\n",
       "      <td>8.63</td>\n",
       "    </tr>\n",
       "    <tr>\n",
       "      <td>4</td>\n",
       "      <td>среднее по всем данным</td>\n",
       "      <td>8.83</td>\n",
       "    </tr>\n",
       "  </tbody>\n",
       "</table>\n",
       "</div>"
      ],
      "text/plain": [
       "                категория  процент наличия факта задолженности\n",
       "2     очень высокий доход                                 6.31\n",
       "0           высокий доход                                 7.10\n",
       "1            низкий доход                                 7.93\n",
       "3           средний доход                                 8.63\n",
       "4  среднее по всем данным                                 8.83"
      ]
     },
     "metadata": {},
     "output_type": "display_data"
    }
   ],
   "source": [
    "# таблица с более наглядным представлением\n",
    "info = pd.DataFrame(data=[['высокий доход', 7.10], ['низкий доход', 7.93], ['очень высокий доход', 6.31], ['средний доход', 8.63], ['среднее по всем данным', 8.83]], columns=['категория', 'процент наличия факта задолженности'])\n",
    "info = info.sort_values(by='процент наличия факта задолженности') # сортировка для наглдяности\n",
    "display(info)"
   ]
  },
  {
   "cell_type": "markdown",
   "metadata": {},
   "source": [
    "**Вывод**  \n",
    "Процент наличия факта задолженности по категориям общего дохода всегда меньше среднего по набору данных. Наименьший процент задолженностей у людей с очень высоким доходом (эта группа очень мала), также видно что в случае высокого или низкого дохода процент задолженностей ниже, чем в случае среднего"
   ]
  },
  {
   "cell_type": "markdown",
   "metadata": {},
   "source": []
  },
  {
   "cell_type": "markdown",
   "metadata": {},
   "source": [
    "- Как разные цели кредита влияют на его возврат в срок?"
   ]
  },
  {
   "cell_type": "code",
   "execution_count": 44,
   "metadata": {},
   "outputs": [
    {
     "data": {
      "text/html": [
       "<div>\n",
       "<style scoped>\n",
       "    .dataframe tbody tr th:only-of-type {\n",
       "        vertical-align: middle;\n",
       "    }\n",
       "\n",
       "    .dataframe tbody tr th {\n",
       "        vertical-align: top;\n",
       "    }\n",
       "\n",
       "    .dataframe thead tr th {\n",
       "        text-align: left;\n",
       "    }\n",
       "\n",
       "    .dataframe thead tr:last-of-type th {\n",
       "        text-align: right;\n",
       "    }\n",
       "</style>\n",
       "<table border=\"1\" class=\"dataframe\">\n",
       "  <thead>\n",
       "    <tr>\n",
       "      <th></th>\n",
       "      <th colspan=\"2\" halign=\"left\">debt</th>\n",
       "      <th>relation</th>\n",
       "    </tr>\n",
       "    <tr>\n",
       "      <th></th>\n",
       "      <th>count</th>\n",
       "      <th>sum</th>\n",
       "      <th></th>\n",
       "    </tr>\n",
       "    <tr>\n",
       "      <th>purpose_lemmatize</th>\n",
       "      <th></th>\n",
       "      <th></th>\n",
       "      <th></th>\n",
       "    </tr>\n",
       "  </thead>\n",
       "  <tbody>\n",
       "    <tr>\n",
       "      <td>автомобиль</td>\n",
       "      <td>4306</td>\n",
       "      <td>403</td>\n",
       "      <td>9.36%</td>\n",
       "    </tr>\n",
       "    <tr>\n",
       "      <td>недвижимость</td>\n",
       "      <td>10811</td>\n",
       "      <td>782</td>\n",
       "      <td>7.23%</td>\n",
       "    </tr>\n",
       "    <tr>\n",
       "      <td>образование</td>\n",
       "      <td>4013</td>\n",
       "      <td>370</td>\n",
       "      <td>9.22%</td>\n",
       "    </tr>\n",
       "    <tr>\n",
       "      <td>свадьба</td>\n",
       "      <td>2323</td>\n",
       "      <td>186</td>\n",
       "      <td>8.01%</td>\n",
       "    </tr>\n",
       "  </tbody>\n",
       "</table>\n",
       "</div>"
      ],
      "text/plain": [
       "                    debt      relation\n",
       "                   count  sum         \n",
       "purpose_lemmatize                     \n",
       "автомобиль          4306  403    9.36%\n",
       "недвижимость       10811  782    7.23%\n",
       "образование         4013  370    9.22%\n",
       "свадьба             2323  186    8.01%"
      ]
     },
     "metadata": {},
     "output_type": "display_data"
    }
   ],
   "source": [
    "# рассмотрение вопроса про связь целей кредита и возврата кредита в срок\n",
    "data_grouped_by_purpose = data.groupby('purpose_lemmatize').agg({'debt': ['count', 'sum']})\n",
    "data_grouped_by_purpose['relation'] = data_grouped_by_purpose.apply(relate_count, axis=1)\n",
    "display(data_grouped_by_purpose) "
   ]
  },
  {
   "cell_type": "code",
   "execution_count": 45,
   "metadata": {},
   "outputs": [
    {
     "data": {
      "text/html": [
       "<div>\n",
       "<style scoped>\n",
       "    .dataframe tbody tr th:only-of-type {\n",
       "        vertical-align: middle;\n",
       "    }\n",
       "\n",
       "    .dataframe tbody tr th {\n",
       "        vertical-align: top;\n",
       "    }\n",
       "\n",
       "    .dataframe thead th {\n",
       "        text-align: right;\n",
       "    }\n",
       "</style>\n",
       "<table border=\"1\" class=\"dataframe\">\n",
       "  <thead>\n",
       "    <tr style=\"text-align: right;\">\n",
       "      <th></th>\n",
       "      <th>категория</th>\n",
       "      <th>процент наличия факта задолженности</th>\n",
       "    </tr>\n",
       "  </thead>\n",
       "  <tbody>\n",
       "    <tr>\n",
       "      <td>1</td>\n",
       "      <td>недвижимость</td>\n",
       "      <td>7.23</td>\n",
       "    </tr>\n",
       "    <tr>\n",
       "      <td>3</td>\n",
       "      <td>свадьба</td>\n",
       "      <td>8.00</td>\n",
       "    </tr>\n",
       "    <tr>\n",
       "      <td>4</td>\n",
       "      <td>среднее по всем данным</td>\n",
       "      <td>8.83</td>\n",
       "    </tr>\n",
       "    <tr>\n",
       "      <td>2</td>\n",
       "      <td>образование</td>\n",
       "      <td>9.22</td>\n",
       "    </tr>\n",
       "    <tr>\n",
       "      <td>0</td>\n",
       "      <td>автомобиль</td>\n",
       "      <td>9.36</td>\n",
       "    </tr>\n",
       "  </tbody>\n",
       "</table>\n",
       "</div>"
      ],
      "text/plain": [
       "                категория  процент наличия факта задолженности\n",
       "1            недвижимость                                 7.23\n",
       "3                 свадьба                                 8.00\n",
       "4  среднее по всем данным                                 8.83\n",
       "2             образование                                 9.22\n",
       "0              автомобиль                                 9.36"
      ]
     },
     "metadata": {},
     "output_type": "display_data"
    }
   ],
   "source": [
    "# таблица с более наглядным представлением\n",
    "info = pd.DataFrame(data=[['автомобиль', 9.36], ['недвижимость', 7.23], ['образование', 9.22], ['свадьба', 8.00], ['среднее по всем данным', 8.83]], columns=['категория', 'процент наличия факта задолженности'])\n",
    "info = info.sort_values(by='процент наличия факта задолженности') # сортировка для наглдяности\n",
    "display(info)"
   ]
  },
  {
   "cell_type": "markdown",
   "metadata": {},
   "source": [
    "**Вывод**  \n",
    "Видно, что в случае взятия кредита на недвижимость процент задолженности наиболее низкий. В случае свадьбы тоже ниже среднего.\n",
    "В случае когда кредит берут на образование или на автомобиль процент задолженности выше срденего."
   ]
  },
  {
   "cell_type": "markdown",
   "metadata": {},
   "source": [
    "\n",
    "\n",
    "    \n",
    "Здесь пока общее предположение напишу (не стал пытаться, что-то выявить, как в случае с семейным положением, так как мне  \n",
    "кажется, что и здесь четких цифр не получу):  \n",
    "Кредит на недвижимость может предполагать ипотеку (быть кредитом под залог недвижимости) и это может быть фактором,   \n",
    "требующим более ответственного отношения к кредиту.     \n",
    "Кредит на свадьбу должен быть относительно небольшим и связан с большим  \n",
    "числом людей (вступающие в брак, родственики и.т.д.)  \n",
    "Кредит на образование должен быть более распространенн среди групп с меньшим возрастом (пока пытался увидеть причины  \n",
    "положительного влияния брака на снижение процента задолженностей видел, что меньший возраст сам по себе негативно влияет)  \n",
    "Кредит на автомобиль скорее всего не предполагает залога и автомобиль менее нерушим, чем недвижимость. \n",
    "\n"
   ]
  },
  {
   "cell_type": "markdown",
   "metadata": {},
   "source": []
  },
  {
   "cell_type": "markdown",
   "metadata": {},
   "source": [
    "## Шаг 4. Общий вывод"
   ]
  },
  {
   "cell_type": "markdown",
   "metadata": {},
   "source": [
    "По итогам рассмотрения четырех факторов видно следующее:\n",
    "- рост числа детей негативный показатель способности потенциального заёмщика вернуть кредит банку\n",
    "- состояние в официальном браке (сейчас или ранее) положительный показатель способности потенциального заёмщика вернуть кредит банку\n",
    "- наличие высокого дохода положительно влияет на способность потенциального заёмщика вернуть кредит банку (при этом низкий доход является более положительным фактором, чем средний). в общем категории дохода менее весомы, чем три другие фактора (процент задолженностей в категорияях дохода всегда меньше среднего)\n",
    "- если цель кредита недвижимость, то это положительный показатель способности потенциального заёмщика вернуть кредит банку (свадьба тоже), цель кредита автомобиль и образование - негативный показатель."
   ]
  }
 ],
 "metadata": {
  "ExecuteTimeLog": [
   {
    "duration": 646,
    "start_time": "2021-12-26T09:55:02.742Z"
   },
   {
    "duration": 53,
    "start_time": "2021-12-26T09:57:29.153Z"
   },
   {
    "duration": 84,
    "start_time": "2021-12-26T09:58:32.850Z"
   },
   {
    "duration": 67,
    "start_time": "2021-12-26T09:58:44.002Z"
   },
   {
    "duration": 67,
    "start_time": "2021-12-26T10:00:29.820Z"
   },
   {
    "duration": 69,
    "start_time": "2021-12-26T10:00:50.266Z"
   },
   {
    "duration": 916,
    "start_time": "2021-12-26T10:06:42.666Z"
   },
   {
    "duration": 72,
    "start_time": "2021-12-26T10:08:58.324Z"
   },
   {
    "duration": 313,
    "start_time": "2021-12-26T10:09:10.059Z"
   },
   {
    "duration": 75,
    "start_time": "2021-12-26T10:09:30.015Z"
   },
   {
    "duration": 373,
    "start_time": "2021-12-26T10:14:12.596Z"
   },
   {
    "duration": 353,
    "start_time": "2021-12-26T10:14:37.520Z"
   },
   {
    "duration": 91,
    "start_time": "2021-12-26T10:15:16.337Z"
   },
   {
    "duration": 9608,
    "start_time": "2021-12-26T10:15:19.495Z"
   },
   {
    "duration": 99,
    "start_time": "2021-12-26T10:15:51.767Z"
   },
   {
    "duration": 311,
    "start_time": "2021-12-26T10:26:12.886Z"
   },
   {
    "duration": 327,
    "start_time": "2021-12-26T10:27:24.606Z"
   },
   {
    "duration": 321,
    "start_time": "2021-12-26T10:28:02.620Z"
   },
   {
    "duration": 97,
    "start_time": "2021-12-26T10:29:22.315Z"
   },
   {
    "duration": 56,
    "start_time": "2021-12-26T10:38:03.616Z"
   },
   {
    "duration": 12,
    "start_time": "2021-12-26T10:45:32.642Z"
   },
   {
    "duration": 13,
    "start_time": "2021-12-26T10:53:22.649Z"
   },
   {
    "duration": 4,
    "start_time": "2021-12-26T10:58:26.843Z"
   },
   {
    "duration": 25,
    "start_time": "2021-12-26T10:59:22.040Z"
   },
   {
    "duration": 22,
    "start_time": "2021-12-26T11:00:47.795Z"
   },
   {
    "duration": 22,
    "start_time": "2021-12-26T11:00:58.445Z"
   },
   {
    "duration": 30,
    "start_time": "2021-12-26T11:01:12.442Z"
   },
   {
    "duration": 19,
    "start_time": "2021-12-26T11:02:55.227Z"
   },
   {
    "duration": 621,
    "start_time": "2021-12-26T11:07:15.864Z"
   },
   {
    "duration": 19,
    "start_time": "2021-12-26T11:07:18.890Z"
   },
   {
    "duration": 19,
    "start_time": "2021-12-26T11:07:28.125Z"
   },
   {
    "duration": 5,
    "start_time": "2021-12-26T11:09:30.165Z"
   },
   {
    "duration": 19,
    "start_time": "2021-12-26T11:11:15.392Z"
   },
   {
    "duration": 362,
    "start_time": "2021-12-26T14:06:37.528Z"
   },
   {
    "duration": 247,
    "start_time": "2021-12-26T14:06:44.850Z"
   },
   {
    "duration": 281,
    "start_time": "2021-12-26T14:09:30.208Z"
   },
   {
    "duration": 16,
    "start_time": "2021-12-26T14:10:55.682Z"
   },
   {
    "duration": 19,
    "start_time": "2021-12-26T14:11:56.297Z"
   },
   {
    "duration": 18,
    "start_time": "2021-12-26T14:14:08.151Z"
   },
   {
    "duration": 24,
    "start_time": "2021-12-26T14:23:08.088Z"
   },
   {
    "duration": 28,
    "start_time": "2021-12-26T14:23:27.227Z"
   },
   {
    "duration": 31,
    "start_time": "2021-12-26T14:23:57.475Z"
   },
   {
    "duration": 29,
    "start_time": "2021-12-26T14:27:16.585Z"
   },
   {
    "duration": 19,
    "start_time": "2021-12-26T14:27:23.535Z"
   },
   {
    "duration": 19,
    "start_time": "2021-12-26T14:27:40.429Z"
   },
   {
    "duration": 29,
    "start_time": "2021-12-26T14:28:11.782Z"
   },
   {
    "duration": 16,
    "start_time": "2021-12-26T14:29:37.807Z"
   },
   {
    "duration": 18,
    "start_time": "2021-12-26T14:46:47.505Z"
   },
   {
    "duration": 25,
    "start_time": "2021-12-26T14:47:12.393Z"
   },
   {
    "duration": 25,
    "start_time": "2021-12-26T14:47:48.704Z"
   },
   {
    "duration": 24,
    "start_time": "2021-12-26T14:49:02.167Z"
   },
   {
    "duration": 85,
    "start_time": "2021-12-26T14:50:24.141Z"
   },
   {
    "duration": 92,
    "start_time": "2021-12-26T14:51:24.741Z"
   },
   {
    "duration": 87,
    "start_time": "2021-12-26T14:51:48.750Z"
   },
   {
    "duration": 9,
    "start_time": "2021-12-26T14:51:54.762Z"
   },
   {
    "duration": 301,
    "start_time": "2021-12-26T14:52:03.771Z"
   },
   {
    "duration": 275,
    "start_time": "2021-12-26T14:52:26.693Z"
   },
   {
    "duration": 252,
    "start_time": "2021-12-26T14:55:10.205Z"
   },
   {
    "duration": 12,
    "start_time": "2021-12-26T14:55:21.507Z"
   },
   {
    "duration": 15,
    "start_time": "2021-12-26T14:55:39.866Z"
   },
   {
    "duration": 11,
    "start_time": "2021-12-26T14:55:42.760Z"
   },
   {
    "duration": 270,
    "start_time": "2021-12-26T14:56:10.058Z"
   },
   {
    "duration": 10,
    "start_time": "2021-12-26T14:56:34.727Z"
   },
   {
    "duration": 265,
    "start_time": "2021-12-26T14:57:11.104Z"
   },
   {
    "duration": 23,
    "start_time": "2021-12-26T14:57:58.456Z"
   },
   {
    "duration": 35,
    "start_time": "2021-12-26T15:00:26.385Z"
   },
   {
    "duration": 27,
    "start_time": "2021-12-26T15:21:36.455Z"
   },
   {
    "duration": 34,
    "start_time": "2021-12-26T15:24:01.411Z"
   },
   {
    "duration": 49,
    "start_time": "2021-12-26T15:26:29.332Z"
   },
   {
    "duration": 52,
    "start_time": "2021-12-26T15:28:00.093Z"
   },
   {
    "duration": 44,
    "start_time": "2021-12-26T15:29:49.592Z"
   },
   {
    "duration": 18,
    "start_time": "2021-12-26T15:30:57.030Z"
   },
   {
    "duration": 79,
    "start_time": "2021-12-26T15:40:33.483Z"
   },
   {
    "duration": 84,
    "start_time": "2021-12-26T15:40:50.153Z"
   },
   {
    "duration": 37,
    "start_time": "2021-12-26T15:41:32.317Z"
   },
   {
    "duration": 9,
    "start_time": "2021-12-26T15:46:11.186Z"
   },
   {
    "duration": 14,
    "start_time": "2021-12-26T15:46:19.780Z"
   },
   {
    "duration": 14,
    "start_time": "2021-12-26T15:47:24.647Z"
   },
   {
    "duration": 941,
    "start_time": "2021-12-26T16:05:37.509Z"
   },
   {
    "duration": 57,
    "start_time": "2021-12-26T16:06:31.434Z"
   },
   {
    "duration": 12,
    "start_time": "2021-12-26T16:06:34.632Z"
   },
   {
    "duration": 4,
    "start_time": "2021-12-26T16:06:36.880Z"
   },
   {
    "duration": 17,
    "start_time": "2021-12-26T16:06:40.918Z"
   },
   {
    "duration": 33,
    "start_time": "2021-12-26T16:06:43.313Z"
   },
   {
    "duration": 13,
    "start_time": "2021-12-26T16:06:45.814Z"
   },
   {
    "duration": 456,
    "start_time": "2021-12-26T16:06:49.512Z"
   },
   {
    "duration": 440,
    "start_time": "2021-12-26T16:09:13.036Z"
   },
   {
    "duration": 691,
    "start_time": "2021-12-28T15:53:38.395Z"
   },
   {
    "duration": 56,
    "start_time": "2021-12-28T15:53:43.280Z"
   },
   {
    "duration": 19,
    "start_time": "2021-12-28T15:53:45.086Z"
   },
   {
    "duration": 5,
    "start_time": "2021-12-28T15:53:50.140Z"
   },
   {
    "duration": 13,
    "start_time": "2021-12-28T15:53:57.039Z"
   },
   {
    "duration": 13,
    "start_time": "2021-12-28T15:54:02.984Z"
   },
   {
    "duration": 5,
    "start_time": "2021-12-28T15:54:04.844Z"
   },
   {
    "duration": 32,
    "start_time": "2021-12-28T15:54:07.580Z"
   },
   {
    "duration": 20,
    "start_time": "2021-12-28T15:54:12.845Z"
   },
   {
    "duration": 38,
    "start_time": "2021-12-28T15:54:15.399Z"
   },
   {
    "duration": 8,
    "start_time": "2021-12-28T15:54:19.353Z"
   },
   {
    "duration": 5,
    "start_time": "2021-12-28T15:54:25.140Z"
   },
   {
    "duration": 6,
    "start_time": "2021-12-28T15:54:54.809Z"
   },
   {
    "duration": 1740,
    "start_time": "2021-12-28T15:56:34.806Z"
   },
   {
    "duration": 480,
    "start_time": "2021-12-28T15:57:07.707Z"
   },
   {
    "duration": 88,
    "start_time": "2021-12-28T15:58:07.448Z"
   },
   {
    "duration": 462,
    "start_time": "2021-12-28T15:58:37.438Z"
   },
   {
    "duration": 510,
    "start_time": "2021-12-28T15:59:58.886Z"
   },
   {
    "duration": 485,
    "start_time": "2021-12-28T16:02:48.580Z"
   },
   {
    "duration": 481,
    "start_time": "2021-12-28T16:03:27.061Z"
   },
   {
    "duration": 497,
    "start_time": "2021-12-28T16:04:20.444Z"
   },
   {
    "duration": 492,
    "start_time": "2021-12-28T16:04:40.964Z"
   },
   {
    "duration": 541,
    "start_time": "2021-12-28T16:04:50.501Z"
   },
   {
    "duration": 272,
    "start_time": "2021-12-28T16:08:47.392Z"
   },
   {
    "duration": 204,
    "start_time": "2021-12-28T16:08:55.733Z"
   },
   {
    "duration": 209,
    "start_time": "2021-12-28T16:09:21.677Z"
   },
   {
    "duration": 212,
    "start_time": "2021-12-28T16:09:29.865Z"
   },
   {
    "duration": 207,
    "start_time": "2021-12-28T16:09:35.250Z"
   },
   {
    "duration": 214,
    "start_time": "2021-12-28T16:10:07.301Z"
   },
   {
    "duration": 217,
    "start_time": "2021-12-28T16:10:20.670Z"
   },
   {
    "duration": 209,
    "start_time": "2021-12-28T16:12:14.678Z"
   },
   {
    "duration": 213,
    "start_time": "2021-12-28T16:14:30.673Z"
   },
   {
    "duration": 94,
    "start_time": "2021-12-28T16:16:14.474Z"
   },
   {
    "duration": 860,
    "start_time": "2021-12-28T16:16:20.904Z"
   },
   {
    "duration": 633,
    "start_time": "2021-12-28T16:16:50.827Z"
   },
   {
    "duration": 209,
    "start_time": "2021-12-28T16:17:49.236Z"
   },
   {
    "duration": 204,
    "start_time": "2021-12-28T16:18:25.602Z"
   },
   {
    "duration": 200,
    "start_time": "2021-12-28T16:19:42.641Z"
   },
   {
    "duration": 288,
    "start_time": "2021-12-28T16:19:51.692Z"
   },
   {
    "duration": 210,
    "start_time": "2021-12-28T16:20:17.852Z"
   },
   {
    "duration": 695,
    "start_time": "2021-12-28T16:21:00.337Z"
   },
   {
    "duration": 570,
    "start_time": "2021-12-28T16:21:15.761Z"
   },
   {
    "duration": 506,
    "start_time": "2021-12-28T16:22:52.305Z"
   },
   {
    "duration": 649,
    "start_time": "2021-12-28T16:23:05.659Z"
   },
   {
    "duration": 567,
    "start_time": "2021-12-28T16:29:02.795Z"
   },
   {
    "duration": 581,
    "start_time": "2021-12-28T16:32:29.537Z"
   },
   {
    "duration": 658,
    "start_time": "2021-12-28T16:36:36.419Z"
   },
   {
    "duration": 810,
    "start_time": "2021-12-28T16:36:59.423Z"
   },
   {
    "duration": 957,
    "start_time": "2021-12-28T16:38:48.153Z"
   },
   {
    "duration": 966,
    "start_time": "2021-12-28T16:40:07.053Z"
   },
   {
    "duration": 1036,
    "start_time": "2021-12-28T16:40:16.564Z"
   },
   {
    "duration": 1092,
    "start_time": "2021-12-28T16:40:33.226Z"
   },
   {
    "duration": 1117,
    "start_time": "2021-12-28T16:41:22.593Z"
   },
   {
    "duration": 905,
    "start_time": "2021-12-28T16:42:59.009Z"
   },
   {
    "duration": 1021,
    "start_time": "2021-12-28T16:43:43.142Z"
   },
   {
    "duration": 246,
    "start_time": "2021-12-28T16:44:18.665Z"
   },
   {
    "duration": 319,
    "start_time": "2021-12-28T16:46:45.119Z"
   },
   {
    "duration": 522,
    "start_time": "2021-12-28T16:53:48.698Z"
   },
   {
    "duration": 7,
    "start_time": "2021-12-28T16:53:53.864Z"
   },
   {
    "duration": 461,
    "start_time": "2021-12-28T16:54:07.866Z"
   },
   {
    "duration": 542,
    "start_time": "2021-12-28T17:13:45.221Z"
   },
   {
    "duration": 481,
    "start_time": "2021-12-28T17:14:13.186Z"
   },
   {
    "duration": 530,
    "start_time": "2021-12-28T17:14:21.586Z"
   },
   {
    "duration": 379,
    "start_time": "2021-12-28T17:14:32.122Z"
   },
   {
    "duration": 449,
    "start_time": "2021-12-28T17:14:56.758Z"
   },
   {
    "duration": 671,
    "start_time": "2021-12-28T17:16:53.076Z"
   },
   {
    "duration": 20,
    "start_time": "2021-12-28T17:17:01.602Z"
   },
   {
    "duration": 4,
    "start_time": "2021-12-28T17:17:04.685Z"
   },
   {
    "duration": 20,
    "start_time": "2021-12-28T17:17:09.480Z"
   },
   {
    "duration": 19,
    "start_time": "2021-12-28T17:17:14.260Z"
   },
   {
    "duration": 39,
    "start_time": "2021-12-28T17:17:19.546Z"
   },
   {
    "duration": 1091,
    "start_time": "2021-12-28T17:17:36.000Z"
   },
   {
    "duration": 487,
    "start_time": "2021-12-28T17:17:40.799Z"
   },
   {
    "duration": 470,
    "start_time": "2021-12-28T17:17:45.561Z"
   },
   {
    "duration": 353,
    "start_time": "2021-12-28T17:17:56.785Z"
   },
   {
    "duration": 456,
    "start_time": "2021-12-28T17:17:59.123Z"
   },
   {
    "duration": 433,
    "start_time": "2021-12-28T18:44:39.450Z"
   },
   {
    "duration": 505,
    "start_time": "2021-12-28T19:19:03.281Z"
   },
   {
    "duration": 576,
    "start_time": "2021-12-28T19:26:04.249Z"
   },
   {
    "duration": 479,
    "start_time": "2021-12-28T19:32:15.135Z"
   },
   {
    "duration": 81,
    "start_time": "2021-12-28T19:40:10.174Z"
   },
   {
    "duration": 348,
    "start_time": "2021-12-28T19:40:14.103Z"
   },
   {
    "duration": 471,
    "start_time": "2021-12-28T19:40:17.404Z"
   },
   {
    "duration": 352,
    "start_time": "2021-12-28T19:45:02.861Z"
   },
   {
    "duration": 386,
    "start_time": "2021-12-28T19:45:32.608Z"
   },
   {
    "duration": 6801,
    "start_time": "2021-12-28T19:46:40.319Z"
   },
   {
    "duration": 255,
    "start_time": "2021-12-28T19:47:21.203Z"
   },
   {
    "duration": 379,
    "start_time": "2021-12-28T19:48:54.425Z"
   },
   {
    "duration": 455,
    "start_time": "2021-12-28T19:49:03.385Z"
   },
   {
    "duration": 441,
    "start_time": "2021-12-28T20:06:43.958Z"
   },
   {
    "duration": 14,
    "start_time": "2021-12-28T20:24:43.901Z"
   },
   {
    "duration": 97,
    "start_time": "2021-12-28T20:26:55.639Z"
   },
   {
    "duration": 105,
    "start_time": "2021-12-28T20:27:03.754Z"
   },
   {
    "duration": 87,
    "start_time": "2021-12-28T20:27:10.691Z"
   },
   {
    "duration": 4,
    "start_time": "2021-12-28T20:38:43.929Z"
   },
   {
    "duration": 4,
    "start_time": "2021-12-28T20:38:54.724Z"
   },
   {
    "duration": 5,
    "start_time": "2021-12-28T20:39:23.048Z"
   },
   {
    "duration": 118,
    "start_time": "2021-12-28T20:42:17.853Z"
   },
   {
    "duration": 1019,
    "start_time": "2021-12-28T20:43:42.875Z"
   },
   {
    "duration": 269,
    "start_time": "2021-12-28T20:43:56.993Z"
   },
   {
    "duration": 85,
    "start_time": "2021-12-28T20:44:21.596Z"
   },
   {
    "duration": 87,
    "start_time": "2021-12-28T20:44:24.061Z"
   },
   {
    "duration": 516,
    "start_time": "2021-12-28T20:44:32.004Z"
   },
   {
    "duration": 556,
    "start_time": "2021-12-28T20:44:58.452Z"
   },
   {
    "duration": 515,
    "start_time": "2021-12-28T20:45:38.951Z"
   },
   {
    "duration": 662,
    "start_time": "2021-12-28T20:46:59.684Z"
   },
   {
    "duration": 19,
    "start_time": "2021-12-28T20:47:04.143Z"
   },
   {
    "duration": 4,
    "start_time": "2021-12-28T20:47:06.341Z"
   },
   {
    "duration": 22,
    "start_time": "2021-12-28T20:47:09.402Z"
   },
   {
    "duration": 20,
    "start_time": "2021-12-28T20:47:14.156Z"
   },
   {
    "duration": 1031,
    "start_time": "2021-12-28T20:47:18.158Z"
   },
   {
    "duration": 477,
    "start_time": "2021-12-28T20:47:21.512Z"
   },
   {
    "duration": 463,
    "start_time": "2021-12-28T20:47:23.736Z"
   },
   {
    "duration": 364,
    "start_time": "2021-12-28T20:47:26.828Z"
   },
   {
    "duration": 481,
    "start_time": "2021-12-28T20:47:30.412Z"
   },
   {
    "duration": 507,
    "start_time": "2021-12-28T20:47:34.445Z"
   },
   {
    "duration": 359,
    "start_time": "2021-12-28T20:51:51.985Z"
   },
   {
    "duration": 520,
    "start_time": "2021-12-28T20:55:22.783Z"
   },
   {
    "duration": 526,
    "start_time": "2021-12-28T20:56:05.988Z"
   },
   {
    "duration": 260,
    "start_time": "2021-12-28T21:10:39.807Z"
   },
   {
    "duration": 282,
    "start_time": "2021-12-28T21:11:19.478Z"
   },
   {
    "duration": 269,
    "start_time": "2021-12-28T21:11:35.406Z"
   },
   {
    "duration": 286,
    "start_time": "2021-12-28T21:11:46.288Z"
   },
   {
    "duration": 265,
    "start_time": "2021-12-28T21:12:40.451Z"
   },
   {
    "duration": 5260,
    "start_time": "2021-12-28T21:14:14.427Z"
   },
   {
    "duration": 6,
    "start_time": "2021-12-28T21:15:15.262Z"
   },
   {
    "duration": 8,
    "start_time": "2021-12-28T21:15:21.172Z"
   },
   {
    "duration": 88,
    "start_time": "2021-12-28T21:15:29.750Z"
   },
   {
    "duration": 23,
    "start_time": "2021-12-28T21:15:38.328Z"
   },
   {
    "duration": 4221,
    "start_time": "2021-12-28T21:16:07.903Z"
   },
   {
    "duration": 4049,
    "start_time": "2021-12-28T21:17:03.546Z"
   },
   {
    "duration": 526,
    "start_time": "2021-12-28T21:17:53.453Z"
   },
   {
    "duration": 1491,
    "start_time": "2021-12-28T21:18:25.201Z"
   },
   {
    "duration": 347,
    "start_time": "2021-12-28T21:19:36.407Z"
   },
   {
    "duration": 375,
    "start_time": "2021-12-28T21:26:45.766Z"
   },
   {
    "duration": 345,
    "start_time": "2021-12-28T21:27:07.375Z"
   },
   {
    "duration": 36289,
    "start_time": "2021-12-28T21:29:22.095Z"
   },
   {
    "duration": 410,
    "start_time": "2021-12-28T21:30:19.379Z"
   },
   {
    "duration": 651,
    "start_time": "2021-12-28T21:30:31.003Z"
   },
   {
    "duration": 60,
    "start_time": "2021-12-28T21:31:14.967Z"
   },
   {
    "duration": 36123,
    "start_time": "2021-12-28T21:31:21.155Z"
   },
   {
    "duration": 56,
    "start_time": "2021-12-28T21:33:03.991Z"
   },
   {
    "duration": 22021,
    "start_time": "2021-12-28T21:33:08.780Z"
   },
   {
    "duration": 637,
    "start_time": "2021-12-28T21:34:35.530Z"
   },
   {
    "duration": 80,
    "start_time": "2021-12-28T21:34:45.854Z"
   },
   {
    "duration": 83,
    "start_time": "2021-12-28T21:35:02.151Z"
   },
   {
    "duration": 646,
    "start_time": "2021-12-28T21:35:08.033Z"
   },
   {
    "duration": 78,
    "start_time": "2021-12-28T21:37:46.794Z"
   },
   {
    "duration": 420,
    "start_time": "2021-12-28T21:38:00.096Z"
   },
   {
    "duration": 62,
    "start_time": "2021-12-28T21:40:28.168Z"
   },
   {
    "duration": 454,
    "start_time": "2021-12-28T21:40:35.144Z"
   },
   {
    "duration": 442,
    "start_time": "2021-12-28T21:41:14.623Z"
   },
   {
    "duration": 60,
    "start_time": "2021-12-28T21:41:23.647Z"
   },
   {
    "duration": 427,
    "start_time": "2021-12-28T21:41:30.375Z"
   },
   {
    "duration": 431,
    "start_time": "2021-12-28T21:42:48.155Z"
   },
   {
    "duration": 287,
    "start_time": "2021-12-28T21:43:22.390Z"
   },
   {
    "duration": 699,
    "start_time": "2021-12-28T21:43:33.515Z"
   },
   {
    "duration": 930,
    "start_time": "2021-12-28T21:47:07.506Z"
   },
   {
    "duration": 795,
    "start_time": "2021-12-28T21:47:31.147Z"
   },
   {
    "duration": 1299,
    "start_time": "2021-12-28T21:48:46.673Z"
   },
   {
    "duration": 592,
    "start_time": "2021-12-29T07:21:45.779Z"
   },
   {
    "duration": 18,
    "start_time": "2021-12-29T07:21:49.182Z"
   },
   {
    "duration": 56,
    "start_time": "2021-12-29T07:21:55.443Z"
   },
   {
    "duration": 593,
    "start_time": "2021-12-29T07:22:03.778Z"
   },
   {
    "duration": 19,
    "start_time": "2021-12-29T07:22:06.904Z"
   },
   {
    "duration": 3,
    "start_time": "2021-12-29T07:22:09.485Z"
   },
   {
    "duration": 20,
    "start_time": "2021-12-29T07:22:11.380Z"
   },
   {
    "duration": 14,
    "start_time": "2021-12-29T07:22:21.494Z"
   },
   {
    "duration": 18,
    "start_time": "2021-12-29T07:22:27.710Z"
   },
   {
    "duration": 943,
    "start_time": "2021-12-29T07:22:33.145Z"
   },
   {
    "duration": 440,
    "start_time": "2021-12-29T07:22:37.368Z"
   },
   {
    "duration": 435,
    "start_time": "2021-12-29T07:22:41.122Z"
   },
   {
    "duration": 348,
    "start_time": "2021-12-29T07:22:58.205Z"
   },
   {
    "duration": 416,
    "start_time": "2021-12-29T07:23:03.019Z"
   },
   {
    "duration": 680,
    "start_time": "2021-12-29T07:24:10.535Z"
   },
   {
    "duration": 598,
    "start_time": "2021-12-29T07:24:16.260Z"
   },
   {
    "duration": 489,
    "start_time": "2021-12-29T07:26:13.462Z"
   },
   {
    "duration": 141,
    "start_time": "2021-12-29T07:33:47.760Z"
   },
   {
    "duration": 776,
    "start_time": "2021-12-29T07:35:35.454Z"
   },
   {
    "duration": 718,
    "start_time": "2021-12-29T07:36:10.180Z"
   },
   {
    "duration": 14,
    "start_time": "2021-12-29T07:48:41.407Z"
   },
   {
    "duration": 13,
    "start_time": "2021-12-29T07:53:21.892Z"
   },
   {
    "duration": 26,
    "start_time": "2021-12-29T07:55:02.273Z"
   },
   {
    "duration": 4,
    "start_time": "2021-12-29T07:59:41.882Z"
   },
   {
    "duration": 13,
    "start_time": "2021-12-29T08:01:35.604Z"
   },
   {
    "duration": 331,
    "start_time": "2021-12-29T08:02:37.402Z"
   },
   {
    "duration": 5079,
    "start_time": "2021-12-29T08:02:42.320Z"
   },
   {
    "duration": 12,
    "start_time": "2021-12-29T08:08:12.502Z"
   },
   {
    "duration": 13,
    "start_time": "2021-12-29T08:08:42.010Z"
   },
   {
    "duration": 15,
    "start_time": "2021-12-29T08:08:48.728Z"
   },
   {
    "duration": 23,
    "start_time": "2021-12-29T08:10:22.166Z"
   },
   {
    "duration": 19,
    "start_time": "2021-12-29T08:13:57.041Z"
   },
   {
    "duration": 36,
    "start_time": "2021-12-29T08:15:42.275Z"
   },
   {
    "duration": 259,
    "start_time": "2021-12-29T08:19:46.577Z"
   },
   {
    "duration": 260,
    "start_time": "2021-12-29T08:20:01.588Z"
   },
   {
    "duration": 249,
    "start_time": "2021-12-29T08:23:07.334Z"
   },
   {
    "duration": 260,
    "start_time": "2021-12-29T08:24:00.192Z"
   },
   {
    "duration": 260,
    "start_time": "2021-12-29T08:24:12.871Z"
   },
   {
    "duration": 251,
    "start_time": "2021-12-29T08:25:09.562Z"
   },
   {
    "duration": 294,
    "start_time": "2021-12-29T08:25:40.750Z"
   },
   {
    "duration": 252,
    "start_time": "2021-12-29T08:26:16.839Z"
   },
   {
    "duration": 256,
    "start_time": "2021-12-29T08:26:49.908Z"
   },
   {
    "duration": 272,
    "start_time": "2021-12-29T08:31:30.107Z"
   },
   {
    "duration": 292,
    "start_time": "2021-12-29T08:31:53.623Z"
   },
   {
    "duration": 370,
    "start_time": "2021-12-29T08:32:01.646Z"
   },
   {
    "duration": 6,
    "start_time": "2021-12-29T08:32:26.588Z"
   },
   {
    "duration": 617,
    "start_time": "2021-12-29T08:33:04.971Z"
   },
   {
    "duration": 672,
    "start_time": "2021-12-29T08:33:15.131Z"
   },
   {
    "duration": 266,
    "start_time": "2021-12-29T08:36:15.638Z"
   },
   {
    "duration": 996,
    "start_time": "2021-12-29T08:36:35.404Z"
   },
   {
    "duration": 999,
    "start_time": "2021-12-29T08:36:54.011Z"
   },
   {
    "duration": 887,
    "start_time": "2021-12-29T08:37:54.031Z"
   },
   {
    "duration": 273,
    "start_time": "2021-12-29T08:42:49.515Z"
   },
   {
    "duration": 888,
    "start_time": "2021-12-29T08:43:35.448Z"
   },
   {
    "duration": 930,
    "start_time": "2021-12-29T08:43:55.362Z"
   },
   {
    "duration": 709,
    "start_time": "2021-12-29T08:44:38.124Z"
   },
   {
    "duration": 691,
    "start_time": "2021-12-29T08:45:44.996Z"
   },
   {
    "duration": 655,
    "start_time": "2021-12-29T08:47:38.720Z"
   },
   {
    "duration": 707,
    "start_time": "2021-12-29T08:48:06.578Z"
   },
   {
    "duration": 674,
    "start_time": "2021-12-29T10:00:11.518Z"
   },
   {
    "duration": 1021,
    "start_time": "2021-12-29T10:02:05.748Z"
   },
   {
    "duration": 656,
    "start_time": "2021-12-29T10:02:21.756Z"
   },
   {
    "duration": 279,
    "start_time": "2021-12-29T10:04:30.385Z"
   },
   {
    "duration": 602,
    "start_time": "2021-12-29T10:04:37.719Z"
   },
   {
    "duration": 617,
    "start_time": "2021-12-29T10:05:20.614Z"
   },
   {
    "duration": 638,
    "start_time": "2021-12-29T10:13:11.574Z"
   },
   {
    "duration": 652,
    "start_time": "2021-12-29T10:14:00.869Z"
   },
   {
    "duration": 950,
    "start_time": "2021-12-29T10:18:12.369Z"
   },
   {
    "duration": 294,
    "start_time": "2021-12-29T10:18:29.470Z"
   },
   {
    "duration": 645,
    "start_time": "2021-12-29T10:18:41.936Z"
   },
   {
    "duration": 662,
    "start_time": "2021-12-29T10:18:55.066Z"
   },
   {
    "duration": 635,
    "start_time": "2021-12-29T10:19:05.462Z"
   },
   {
    "duration": 704,
    "start_time": "2021-12-29T10:20:21.782Z"
   },
   {
    "duration": 5831,
    "start_time": "2021-12-29T10:24:37.492Z"
   },
   {
    "duration": 5268,
    "start_time": "2021-12-29T10:25:13.397Z"
   },
   {
    "duration": 6384,
    "start_time": "2021-12-29T10:25:56.887Z"
   },
   {
    "duration": 5592,
    "start_time": "2021-12-29T10:26:24.870Z"
   },
   {
    "duration": 4625,
    "start_time": "2021-12-29T10:28:02.705Z"
   },
   {
    "duration": 4024,
    "start_time": "2021-12-29T10:29:01.149Z"
   },
   {
    "duration": 4433,
    "start_time": "2021-12-29T10:29:10.103Z"
   },
   {
    "duration": 4430,
    "start_time": "2021-12-29T10:30:15.730Z"
   },
   {
    "duration": 10293,
    "start_time": "2021-12-29T10:30:36.579Z"
   },
   {
    "duration": 6496,
    "start_time": "2021-12-29T10:30:56.774Z"
   },
   {
    "duration": 5309,
    "start_time": "2021-12-29T10:31:13.908Z"
   },
   {
    "duration": 5193,
    "start_time": "2021-12-29T10:31:36.437Z"
   },
   {
    "duration": 6319,
    "start_time": "2021-12-29T10:32:32.795Z"
   },
   {
    "duration": 445,
    "start_time": "2021-12-29T10:34:38.731Z"
   },
   {
    "duration": 88,
    "start_time": "2021-12-29T10:34:54.076Z"
   },
   {
    "duration": 87,
    "start_time": "2021-12-29T10:35:16.957Z"
   },
   {
    "duration": 89,
    "start_time": "2021-12-29T10:35:35.273Z"
   },
   {
    "duration": 5029,
    "start_time": "2021-12-29T10:35:48.846Z"
   },
   {
    "duration": 5506,
    "start_time": "2021-12-29T10:36:55.519Z"
   },
   {
    "duration": 6440,
    "start_time": "2021-12-29T11:21:46.469Z"
   },
   {
    "duration": 5597,
    "start_time": "2021-12-29T11:22:38.760Z"
   },
   {
    "duration": 5921,
    "start_time": "2021-12-29T11:22:49.602Z"
   },
   {
    "duration": 6261,
    "start_time": "2021-12-29T11:23:13.219Z"
   },
   {
    "duration": 6125,
    "start_time": "2021-12-29T11:23:39.809Z"
   },
   {
    "duration": 6985,
    "start_time": "2021-12-29T11:23:54.074Z"
   },
   {
    "duration": 5209,
    "start_time": "2021-12-29T11:24:06.770Z"
   },
   {
    "duration": 8400,
    "start_time": "2021-12-29T11:25:29.607Z"
   },
   {
    "duration": 7045,
    "start_time": "2021-12-29T11:26:09.838Z"
   },
   {
    "duration": 6013,
    "start_time": "2021-12-29T11:26:24.547Z"
   },
   {
    "duration": 5454,
    "start_time": "2021-12-29T11:29:50.752Z"
   },
   {
    "duration": 5167,
    "start_time": "2021-12-29T11:30:02.306Z"
   },
   {
    "duration": 949,
    "start_time": "2021-12-29T11:31:04.290Z"
   },
   {
    "duration": 6120,
    "start_time": "2021-12-29T11:31:11.747Z"
   },
   {
    "duration": 5495,
    "start_time": "2021-12-29T11:31:35.842Z"
   },
   {
    "duration": 5538,
    "start_time": "2021-12-29T11:42:13.429Z"
   },
   {
    "duration": 8283,
    "start_time": "2021-12-29T11:43:43.040Z"
   },
   {
    "duration": 6869,
    "start_time": "2021-12-29T11:44:34.669Z"
   },
   {
    "duration": 5631,
    "start_time": "2021-12-29T11:45:08.288Z"
   },
   {
    "duration": 91,
    "start_time": "2021-12-29T11:51:18.982Z"
   },
   {
    "duration": 85,
    "start_time": "2021-12-29T11:51:44.687Z"
   },
   {
    "duration": 1168,
    "start_time": "2021-12-29T11:52:30.265Z"
   },
   {
    "duration": 4009,
    "start_time": "2021-12-29T11:54:57.078Z"
   },
   {
    "duration": 3838,
    "start_time": "2021-12-29T11:55:16.825Z"
   },
   {
    "duration": 4115,
    "start_time": "2021-12-29T11:56:09.829Z"
   },
   {
    "duration": 3912,
    "start_time": "2021-12-29T11:56:42.718Z"
   },
   {
    "duration": 4228,
    "start_time": "2021-12-29T11:57:17.222Z"
   },
   {
    "duration": 3966,
    "start_time": "2021-12-29T11:57:49.435Z"
   },
   {
    "duration": 3925,
    "start_time": "2021-12-29T11:59:07.897Z"
   },
   {
    "duration": 336,
    "start_time": "2021-12-29T11:59:37.818Z"
   },
   {
    "duration": 249,
    "start_time": "2021-12-29T11:59:59.371Z"
   },
   {
    "duration": 255,
    "start_time": "2021-12-29T12:00:12.171Z"
   },
   {
    "duration": 250,
    "start_time": "2021-12-29T12:01:04.508Z"
   },
   {
    "duration": 303,
    "start_time": "2021-12-29T12:01:53.967Z"
   },
   {
    "duration": 3973,
    "start_time": "2021-12-29T12:02:32.720Z"
   },
   {
    "duration": 326,
    "start_time": "2021-12-29T12:02:59.122Z"
   },
   {
    "duration": 262,
    "start_time": "2021-12-29T12:03:32.849Z"
   },
   {
    "duration": 4318,
    "start_time": "2021-12-29T12:03:41.113Z"
   },
   {
    "duration": 4747,
    "start_time": "2021-12-29T12:04:02.814Z"
   },
   {
    "duration": 300,
    "start_time": "2021-12-29T12:04:38.116Z"
   },
   {
    "duration": 4332,
    "start_time": "2021-12-29T12:05:16.633Z"
   },
   {
    "duration": 4146,
    "start_time": "2021-12-29T12:06:37.978Z"
   },
   {
    "duration": 2582,
    "start_time": "2021-12-29T12:06:47.334Z"
   },
   {
    "duration": 87,
    "start_time": "2021-12-29T12:12:00.341Z"
   },
   {
    "duration": 6706,
    "start_time": "2021-12-29T12:12:54.790Z"
   },
   {
    "duration": 801,
    "start_time": "2021-12-29T12:14:48.882Z"
   },
   {
    "duration": 59,
    "start_time": "2021-12-29T12:14:58.996Z"
   },
   {
    "duration": 742,
    "start_time": "2021-12-29T12:15:04.863Z"
   },
   {
    "duration": 1242,
    "start_time": "2021-12-29T19:14:15.087Z"
   },
   {
    "duration": 46,
    "start_time": "2021-12-29T19:14:18.624Z"
   },
   {
    "duration": 30,
    "start_time": "2021-12-29T19:14:23.356Z"
   },
   {
    "duration": 6,
    "start_time": "2021-12-29T19:14:25.972Z"
   },
   {
    "duration": 41,
    "start_time": "2021-12-29T19:14:30.950Z"
   },
   {
    "duration": 1477,
    "start_time": "2021-12-29T19:14:34.718Z"
   },
   {
    "duration": 714,
    "start_time": "2021-12-29T19:14:38.659Z"
   },
   {
    "duration": 988,
    "start_time": "2021-12-29T19:14:41.589Z"
   },
   {
    "duration": 689,
    "start_time": "2021-12-29T19:14:44.546Z"
   },
   {
    "duration": 757,
    "start_time": "2021-12-29T19:14:48.365Z"
   },
   {
    "duration": 14540,
    "start_time": "2021-12-29T19:15:15.530Z"
   },
   {
    "duration": 774,
    "start_time": "2021-12-29T19:15:51.043Z"
   },
   {
    "duration": 60,
    "start_time": "2021-12-29T19:18:44.075Z"
   },
   {
    "duration": 778,
    "start_time": "2021-12-29T19:18:55.993Z"
   },
   {
    "duration": 23,
    "start_time": "2021-12-29T19:21:49.657Z"
   },
   {
    "duration": 1148,
    "start_time": "2021-12-29T19:28:55.206Z"
   },
   {
    "duration": 34,
    "start_time": "2021-12-29T19:28:57.988Z"
   },
   {
    "duration": 23,
    "start_time": "2021-12-29T19:29:02.328Z"
   },
   {
    "duration": 6,
    "start_time": "2021-12-29T19:29:05.895Z"
   },
   {
    "duration": 32,
    "start_time": "2021-12-29T19:29:10.675Z"
   },
   {
    "duration": 29,
    "start_time": "2021-12-29T19:29:17.268Z"
   },
   {
    "duration": 1412,
    "start_time": "2021-12-29T19:29:20.968Z"
   },
   {
    "duration": 665,
    "start_time": "2021-12-29T19:29:31.748Z"
   },
   {
    "duration": 784,
    "start_time": "2021-12-29T19:29:35.574Z"
   },
   {
    "duration": 504,
    "start_time": "2021-12-29T19:29:42.089Z"
   },
   {
    "duration": 736,
    "start_time": "2021-12-29T19:29:46.233Z"
   },
   {
    "duration": 38,
    "start_time": "2021-12-29T19:31:18.227Z"
   },
   {
    "duration": 35,
    "start_time": "2021-12-29T19:31:23.953Z"
   },
   {
    "duration": 17,
    "start_time": "2021-12-29T19:31:28.684Z"
   },
   {
    "duration": 1135,
    "start_time": "2021-12-29T19:31:41.327Z"
   },
   {
    "duration": 33,
    "start_time": "2021-12-29T19:31:56.059Z"
   },
   {
    "duration": 59,
    "start_time": "2021-12-29T19:31:57.885Z"
   },
   {
    "duration": 6,
    "start_time": "2021-12-29T19:32:01.713Z"
   },
   {
    "duration": 23,
    "start_time": "2021-12-29T19:32:38.323Z"
   },
   {
    "duration": 22,
    "start_time": "2021-12-29T19:32:45.449Z"
   },
   {
    "duration": 46,
    "start_time": "2021-12-29T19:32:47.623Z"
   },
   {
    "duration": 919,
    "start_time": "2021-12-29T19:35:12.662Z"
   },
   {
    "duration": 42,
    "start_time": "2021-12-29T19:35:53.762Z"
   },
   {
    "duration": 12,
    "start_time": "2021-12-29T19:36:10.607Z"
   },
   {
    "duration": 1154,
    "start_time": "2021-12-29T19:42:31.319Z"
   },
   {
    "duration": 3359,
    "start_time": "2021-12-29T19:47:07.537Z"
   },
   {
    "duration": 2809,
    "start_time": "2021-12-29T19:47:14.089Z"
   },
   {
    "duration": 1650,
    "start_time": "2021-12-29T19:49:43.193Z"
   },
   {
    "duration": 2019,
    "start_time": "2021-12-29T19:49:53.733Z"
   },
   {
    "duration": 123,
    "start_time": "2021-12-29T19:50:52.792Z"
   },
   {
    "duration": 914,
    "start_time": "2021-12-29T19:51:06.088Z"
   },
   {
    "duration": 6212,
    "start_time": "2021-12-29T19:52:27.102Z"
   },
   {
    "duration": 6141,
    "start_time": "2021-12-29T19:54:59.234Z"
   },
   {
    "duration": 112,
    "start_time": "2021-12-29T20:40:26.187Z"
   },
   {
    "duration": 26,
    "start_time": "2021-12-29T20:40:32.169Z"
   },
   {
    "duration": 66,
    "start_time": "2021-12-29T20:53:19.393Z"
   },
   {
    "duration": 783,
    "start_time": "2021-12-29T20:54:57.291Z"
   },
   {
    "duration": 1089,
    "start_time": "2021-12-29T20:58:19.487Z"
   },
   {
    "duration": 1000,
    "start_time": "2021-12-29T20:59:20.904Z"
   },
   {
    "duration": 24,
    "start_time": "2021-12-29T21:00:02.283Z"
   },
   {
    "duration": 1388,
    "start_time": "2021-12-29T21:00:02.794Z"
   },
   {
    "duration": 44,
    "start_time": "2021-12-29T21:00:20.998Z"
   },
   {
    "duration": 908,
    "start_time": "2021-12-29T21:00:29.169Z"
   },
   {
    "duration": 1454,
    "start_time": "2021-12-29T21:01:23.956Z"
   },
   {
    "duration": 964,
    "start_time": "2021-12-29T21:01:46.948Z"
   },
   {
    "duration": 743,
    "start_time": "2021-12-29T21:04:03.541Z"
   },
   {
    "duration": 916,
    "start_time": "2021-12-29T21:05:31.264Z"
   },
   {
    "duration": 700,
    "start_time": "2021-12-29T21:05:39.470Z"
   },
   {
    "duration": 1011,
    "start_time": "2021-12-29T21:06:05.864Z"
   },
   {
    "duration": 753,
    "start_time": "2021-12-29T21:06:44.748Z"
   },
   {
    "duration": 93,
    "start_time": "2021-12-29T21:10:34.855Z"
   },
   {
    "duration": 818,
    "start_time": "2021-12-29T21:10:39.706Z"
   },
   {
    "duration": 994,
    "start_time": "2021-12-29T21:11:39.995Z"
   },
   {
    "duration": 782,
    "start_time": "2021-12-29T21:17:58.967Z"
   },
   {
    "duration": 13,
    "start_time": "2021-12-29T21:22:59.497Z"
   },
   {
    "duration": 19,
    "start_time": "2021-12-29T21:23:17.771Z"
   },
   {
    "duration": 108,
    "start_time": "2021-12-29T21:25:05.753Z"
   },
   {
    "duration": 304,
    "start_time": "2021-12-29T21:25:15.602Z"
   },
   {
    "duration": 658,
    "start_time": "2021-12-29T21:25:51.347Z"
   },
   {
    "duration": 23,
    "start_time": "2021-12-29T21:25:55.152Z"
   },
   {
    "duration": 36,
    "start_time": "2021-12-29T21:29:46.173Z"
   },
   {
    "duration": 5,
    "start_time": "2021-12-29T21:30:52.329Z"
   },
   {
    "duration": 5,
    "start_time": "2021-12-29T21:31:00.667Z"
   },
   {
    "duration": 5,
    "start_time": "2021-12-29T21:31:06.875Z"
   },
   {
    "duration": 6,
    "start_time": "2021-12-29T21:31:16.789Z"
   },
   {
    "duration": 731,
    "start_time": "2021-12-29T21:31:41.306Z"
   },
   {
    "duration": 22,
    "start_time": "2021-12-29T21:33:07.271Z"
   },
   {
    "duration": 676,
    "start_time": "2021-12-29T21:35:22.578Z"
   },
   {
    "duration": 692,
    "start_time": "2021-12-29T21:36:37.610Z"
   },
   {
    "duration": 24,
    "start_time": "2021-12-29T21:36:58.920Z"
   },
   {
    "duration": 21,
    "start_time": "2021-12-29T21:38:35.887Z"
   },
   {
    "duration": 22,
    "start_time": "2021-12-29T21:38:38.623Z"
   },
   {
    "duration": 39,
    "start_time": "2021-12-29T21:39:08.513Z"
   },
   {
    "duration": 42,
    "start_time": "2021-12-29T21:40:12.418Z"
   },
   {
    "duration": 8116,
    "start_time": "2021-12-29T21:40:36.281Z"
   },
   {
    "duration": 25,
    "start_time": "2021-12-29T21:41:02.609Z"
   },
   {
    "duration": 1092,
    "start_time": "2021-12-29T21:41:51.009Z"
   },
   {
    "duration": 42,
    "start_time": "2021-12-29T21:41:53.976Z"
   },
   {
    "duration": 29,
    "start_time": "2021-12-29T21:41:58.958Z"
   },
   {
    "duration": 7,
    "start_time": "2021-12-29T21:42:03.214Z"
   },
   {
    "duration": 42,
    "start_time": "2021-12-29T21:42:05.695Z"
   },
   {
    "duration": 27,
    "start_time": "2021-12-29T21:42:09.809Z"
   },
   {
    "duration": 1907,
    "start_time": "2021-12-29T21:42:12.949Z"
   },
   {
    "duration": 1004,
    "start_time": "2021-12-29T21:42:18.039Z"
   },
   {
    "duration": 999,
    "start_time": "2021-12-29T21:42:21.725Z"
   },
   {
    "duration": 553,
    "start_time": "2021-12-29T21:42:25.147Z"
   },
   {
    "duration": 655,
    "start_time": "2021-12-29T21:42:28.911Z"
   },
   {
    "duration": 24,
    "start_time": "2021-12-29T21:42:32.581Z"
   },
   {
    "duration": 53,
    "start_time": "2021-12-29T21:42:34.787Z"
   },
   {
    "duration": 27,
    "start_time": "2021-12-29T21:42:36.222Z"
   },
   {
    "duration": 750,
    "start_time": "2021-12-29T21:42:39.714Z"
   },
   {
    "duration": 23,
    "start_time": "2021-12-29T21:42:44.265Z"
   },
   {
    "duration": 41,
    "start_time": "2021-12-29T21:42:46.593Z"
   },
   {
    "duration": 6,
    "start_time": "2021-12-29T21:42:48.809Z"
   },
   {
    "duration": 29,
    "start_time": "2021-12-29T21:42:57.575Z"
   },
   {
    "duration": 26,
    "start_time": "2021-12-29T21:43:03.004Z"
   },
   {
    "duration": 42,
    "start_time": "2021-12-29T21:43:07.756Z"
   },
   {
    "duration": 2002,
    "start_time": "2021-12-29T21:43:11.007Z"
   },
   {
    "duration": 962,
    "start_time": "2021-12-29T21:43:28.375Z"
   },
   {
    "duration": 5182,
    "start_time": "2021-12-29T21:43:37.147Z"
   },
   {
    "duration": 18,
    "start_time": "2021-12-29T21:43:54.063Z"
   },
   {
    "duration": 774,
    "start_time": "2021-12-29T21:44:00.068Z"
   },
   {
    "duration": 33,
    "start_time": "2021-12-29T21:44:09.500Z"
   },
   {
    "duration": 35,
    "start_time": "2021-12-29T21:44:16.279Z"
   },
   {
    "duration": 29,
    "start_time": "2021-12-29T21:58:53.855Z"
   },
   {
    "duration": 464,
    "start_time": "2021-12-29T21:59:38.562Z"
   },
   {
    "duration": 18,
    "start_time": "2021-12-29T21:59:45.080Z"
   },
   {
    "duration": 5,
    "start_time": "2021-12-29T22:00:16.485Z"
   },
   {
    "duration": 25,
    "start_time": "2021-12-29T22:00:29.449Z"
   },
   {
    "duration": 118,
    "start_time": "2021-12-29T22:01:17.465Z"
   },
   {
    "duration": 33,
    "start_time": "2021-12-29T22:02:20.148Z"
   },
   {
    "duration": 32,
    "start_time": "2021-12-29T22:03:16.192Z"
   },
   {
    "duration": 30,
    "start_time": "2021-12-29T22:03:38.324Z"
   },
   {
    "duration": 10,
    "start_time": "2021-12-29T22:10:51.747Z"
   },
   {
    "duration": 17,
    "start_time": "2021-12-29T22:11:10.462Z"
   },
   {
    "duration": 119,
    "start_time": "2021-12-29T22:12:31.067Z"
   },
   {
    "duration": 19,
    "start_time": "2021-12-29T22:12:36.501Z"
   },
   {
    "duration": 18,
    "start_time": "2021-12-29T22:13:59.014Z"
   },
   {
    "duration": 20,
    "start_time": "2021-12-29T22:14:06.938Z"
   },
   {
    "duration": 21,
    "start_time": "2021-12-29T22:14:51.199Z"
   },
   {
    "duration": 26,
    "start_time": "2021-12-29T22:17:17.539Z"
   },
   {
    "duration": 46,
    "start_time": "2021-12-29T22:17:29.707Z"
   },
   {
    "duration": 832,
    "start_time": "2021-12-30T07:14:40.053Z"
   },
   {
    "duration": 29,
    "start_time": "2021-12-30T07:14:43.279Z"
   },
   {
    "duration": 21,
    "start_time": "2021-12-30T07:14:47.712Z"
   },
   {
    "duration": 5,
    "start_time": "2021-12-30T07:14:49.942Z"
   },
   {
    "duration": 31,
    "start_time": "2021-12-30T07:14:51.489Z"
   },
   {
    "duration": 27,
    "start_time": "2021-12-30T07:14:57.016Z"
   },
   {
    "duration": 1513,
    "start_time": "2021-12-30T07:15:00.786Z"
   },
   {
    "duration": 800,
    "start_time": "2021-12-30T07:15:04.292Z"
   },
   {
    "duration": 664,
    "start_time": "2021-12-30T07:15:07.122Z"
   },
   {
    "duration": 500,
    "start_time": "2021-12-30T07:15:09.734Z"
   },
   {
    "duration": 659,
    "start_time": "2021-12-30T07:15:13.687Z"
   },
   {
    "duration": 22,
    "start_time": "2021-12-30T07:15:16.936Z"
   },
   {
    "duration": 32,
    "start_time": "2021-12-30T07:15:19.532Z"
   },
   {
    "duration": 16,
    "start_time": "2021-12-30T07:15:21.228Z"
   },
   {
    "duration": 753,
    "start_time": "2021-12-30T07:15:27.143Z"
   },
   {
    "duration": 23,
    "start_time": "2021-12-30T07:15:32.970Z"
   },
   {
    "duration": 41,
    "start_time": "2021-12-30T07:15:35.208Z"
   },
   {
    "duration": 6,
    "start_time": "2021-12-30T07:15:36.861Z"
   },
   {
    "duration": 30,
    "start_time": "2021-12-30T07:15:39.055Z"
   },
   {
    "duration": 24,
    "start_time": "2021-12-30T07:15:41.588Z"
   },
   {
    "duration": 42,
    "start_time": "2021-12-30T07:15:43.310Z"
   },
   {
    "duration": 950,
    "start_time": "2021-12-30T07:15:46.456Z"
   },
   {
    "duration": 4690,
    "start_time": "2021-12-30T07:15:50.407Z"
   },
   {
    "duration": 19,
    "start_time": "2021-12-30T07:16:01.057Z"
   },
   {
    "duration": 727,
    "start_time": "2021-12-30T07:16:05.892Z"
   },
   {
    "duration": 22,
    "start_time": "2021-12-30T07:16:10.673Z"
   },
   {
    "duration": 23,
    "start_time": "2021-12-30T07:16:20.408Z"
   },
   {
    "duration": 102,
    "start_time": "2021-12-30T07:17:10.876Z"
   },
   {
    "duration": 107,
    "start_time": "2021-12-30T07:17:36.780Z"
   },
   {
    "duration": 118,
    "start_time": "2021-12-30T07:17:56.452Z"
   },
   {
    "duration": 122,
    "start_time": "2021-12-30T07:18:14.651Z"
   },
   {
    "duration": 34,
    "start_time": "2021-12-30T07:18:39.615Z"
   },
   {
    "duration": 7849,
    "start_time": "2021-12-30T07:20:47.582Z"
   },
   {
    "duration": 9777,
    "start_time": "2021-12-30T07:26:54.248Z"
   },
   {
    "duration": 29,
    "start_time": "2021-12-30T07:28:53.654Z"
   },
   {
    "duration": 30,
    "start_time": "2021-12-30T07:29:44.745Z"
   },
   {
    "duration": 8,
    "start_time": "2021-12-30T07:31:57.903Z"
   },
   {
    "duration": 4,
    "start_time": "2021-12-30T07:33:56.692Z"
   },
   {
    "duration": 8,
    "start_time": "2021-12-30T07:34:36.398Z"
   },
   {
    "duration": 8,
    "start_time": "2021-12-30T07:34:44.302Z"
   },
   {
    "duration": 434,
    "start_time": "2021-12-30T07:42:43.388Z"
   },
   {
    "duration": 54,
    "start_time": "2021-12-30T07:43:25.539Z"
   },
   {
    "duration": 53,
    "start_time": "2021-12-30T07:43:39.893Z"
   },
   {
    "duration": 78,
    "start_time": "2021-12-30T07:45:39.283Z"
   },
   {
    "duration": 104,
    "start_time": "2021-12-30T07:46:30.620Z"
   },
   {
    "duration": 111,
    "start_time": "2021-12-30T07:46:49.438Z"
   },
   {
    "duration": 98,
    "start_time": "2021-12-30T07:48:23.558Z"
   },
   {
    "duration": 643,
    "start_time": "2021-12-30T07:48:30.580Z"
   },
   {
    "duration": 474,
    "start_time": "2021-12-30T07:51:58.579Z"
   },
   {
    "duration": 24,
    "start_time": "2021-12-30T07:52:38.783Z"
   },
   {
    "duration": 305,
    "start_time": "2021-12-30T07:55:33.636Z"
   },
   {
    "duration": 24,
    "start_time": "2021-12-30T07:55:39.828Z"
   },
   {
    "duration": 13,
    "start_time": "2021-12-30T08:03:56.546Z"
   },
   {
    "duration": 7884,
    "start_time": "2021-12-30T08:05:03.377Z"
   },
   {
    "duration": 312,
    "start_time": "2021-12-30T08:05:21.364Z"
   },
   {
    "duration": 25,
    "start_time": "2021-12-30T08:11:08.594Z"
   },
   {
    "duration": 13,
    "start_time": "2021-12-30T08:14:31.897Z"
   },
   {
    "duration": 350,
    "start_time": "2021-12-30T08:17:08.992Z"
   },
   {
    "duration": 14,
    "start_time": "2021-12-30T08:17:45.005Z"
   },
   {
    "duration": 5,
    "start_time": "2021-12-30T08:19:31.424Z"
   },
   {
    "duration": 5,
    "start_time": "2021-12-30T08:19:41.777Z"
   },
   {
    "duration": 6,
    "start_time": "2021-12-30T08:20:30.306Z"
   },
   {
    "duration": 2121,
    "start_time": "2021-12-30T08:27:57.690Z"
   },
   {
    "duration": 25,
    "start_time": "2021-12-30T08:28:12.561Z"
   },
   {
    "duration": 23,
    "start_time": "2021-12-30T08:29:44.743Z"
   },
   {
    "duration": 97,
    "start_time": "2021-12-30T08:35:13.081Z"
   },
   {
    "duration": 14,
    "start_time": "2021-12-30T08:36:54.929Z"
   },
   {
    "duration": 33,
    "start_time": "2021-12-30T08:40:39.469Z"
   },
   {
    "duration": 17,
    "start_time": "2021-12-30T08:43:00.754Z"
   },
   {
    "duration": 78,
    "start_time": "2021-12-30T08:59:05.491Z"
   },
   {
    "duration": 872,
    "start_time": "2021-12-30T08:59:17.617Z"
   },
   {
    "duration": 39,
    "start_time": "2021-12-30T08:59:20.971Z"
   },
   {
    "duration": 19,
    "start_time": "2021-12-30T08:59:24.864Z"
   },
   {
    "duration": 6,
    "start_time": "2021-12-30T08:59:29.338Z"
   },
   {
    "duration": 29,
    "start_time": "2021-12-30T08:59:33.255Z"
   },
   {
    "duration": 38,
    "start_time": "2021-12-30T08:59:47.212Z"
   },
   {
    "duration": 1994,
    "start_time": "2021-12-30T08:59:52.687Z"
   },
   {
    "duration": 985,
    "start_time": "2021-12-30T09:00:02.154Z"
   },
   {
    "duration": 796,
    "start_time": "2021-12-30T09:00:06.355Z"
   },
   {
    "duration": 499,
    "start_time": "2021-12-30T09:00:10.529Z"
   },
   {
    "duration": 963,
    "start_time": "2021-12-30T09:00:15.154Z"
   },
   {
    "duration": 27,
    "start_time": "2021-12-30T09:00:18.735Z"
   },
   {
    "duration": 32,
    "start_time": "2021-12-30T09:00:23.354Z"
   },
   {
    "duration": 16,
    "start_time": "2021-12-30T09:00:25.203Z"
   },
   {
    "duration": 35,
    "start_time": "2021-12-30T09:00:32.373Z"
   },
   {
    "duration": 42,
    "start_time": "2021-12-30T09:00:33.816Z"
   },
   {
    "duration": 8,
    "start_time": "2021-12-30T09:00:36.095Z"
   },
   {
    "duration": 32,
    "start_time": "2021-12-30T09:00:40.509Z"
   },
   {
    "duration": 854,
    "start_time": "2021-12-30T09:00:55.536Z"
   },
   {
    "duration": 30,
    "start_time": "2021-12-30T09:00:59.216Z"
   },
   {
    "duration": 27,
    "start_time": "2021-12-30T09:01:01.090Z"
   },
   {
    "duration": 6,
    "start_time": "2021-12-30T09:01:05.987Z"
   },
   {
    "duration": 44,
    "start_time": "2021-12-30T09:01:08.826Z"
   },
   {
    "duration": 41,
    "start_time": "2021-12-30T09:01:13.256Z"
   },
   {
    "duration": 2112,
    "start_time": "2021-12-30T09:01:16.125Z"
   },
   {
    "duration": 1020,
    "start_time": "2021-12-30T09:01:20.533Z"
   },
   {
    "duration": 716,
    "start_time": "2021-12-30T09:01:24.128Z"
   },
   {
    "duration": 538,
    "start_time": "2021-12-30T09:01:27.300Z"
   },
   {
    "duration": 929,
    "start_time": "2021-12-30T09:01:31.381Z"
   },
   {
    "duration": 37,
    "start_time": "2021-12-30T09:01:35.470Z"
   },
   {
    "duration": 51,
    "start_time": "2021-12-30T09:01:38.281Z"
   },
   {
    "duration": 67,
    "start_time": "2021-12-30T09:01:40.423Z"
   },
   {
    "duration": 759,
    "start_time": "2021-12-30T09:01:43.736Z"
   },
   {
    "duration": 23,
    "start_time": "2021-12-30T09:01:47.683Z"
   },
   {
    "duration": 47,
    "start_time": "2021-12-30T09:01:49.999Z"
   },
   {
    "duration": 8,
    "start_time": "2021-12-30T09:01:52.632Z"
   },
   {
    "duration": 35,
    "start_time": "2021-12-30T09:01:59.167Z"
   },
   {
    "duration": 24,
    "start_time": "2021-12-30T09:02:03.071Z"
   },
   {
    "duration": 44,
    "start_time": "2021-12-30T09:02:05.789Z"
   },
   {
    "duration": 1186,
    "start_time": "2021-12-30T09:02:09.213Z"
   },
   {
    "duration": 5383,
    "start_time": "2021-12-30T09:02:16.927Z"
   },
   {
    "duration": 23,
    "start_time": "2021-12-30T09:02:26.909Z"
   },
   {
    "duration": 749,
    "start_time": "2021-12-30T09:02:31.301Z"
   },
   {
    "duration": 34,
    "start_time": "2021-12-30T09:02:37.943Z"
   },
   {
    "duration": 9,
    "start_time": "2021-12-30T09:02:46.176Z"
   },
   {
    "duration": 5,
    "start_time": "2021-12-30T09:02:48.842Z"
   },
   {
    "duration": 52,
    "start_time": "2021-12-30T09:02:52.587Z"
   },
   {
    "duration": 25,
    "start_time": "2021-12-30T09:02:57.386Z"
   },
   {
    "duration": 20,
    "start_time": "2021-12-30T09:03:03.551Z"
   },
   {
    "duration": 105,
    "start_time": "2021-12-30T09:03:10.134Z"
   },
   {
    "duration": 15,
    "start_time": "2021-12-30T09:03:14.166Z"
   },
   {
    "duration": 7,
    "start_time": "2021-12-30T09:03:16.360Z"
   },
   {
    "duration": 23,
    "start_time": "2021-12-30T09:03:22.281Z"
   },
   {
    "duration": 492,
    "start_time": "2021-12-30T09:03:25.662Z"
   },
   {
    "duration": 286,
    "start_time": "2021-12-30T09:03:58.519Z"
   },
   {
    "duration": 298,
    "start_time": "2021-12-30T09:04:47.739Z"
   },
   {
    "duration": 311,
    "start_time": "2021-12-30T09:06:55.964Z"
   },
   {
    "duration": 26,
    "start_time": "2021-12-30T09:07:25.104Z"
   },
   {
    "duration": 9,
    "start_time": "2021-12-30T09:07:36.387Z"
   },
   {
    "duration": 33,
    "start_time": "2021-12-30T09:08:38.360Z"
   },
   {
    "duration": 827,
    "start_time": "2021-12-30T09:09:00.682Z"
   },
   {
    "duration": 30,
    "start_time": "2021-12-30T09:09:03.308Z"
   },
   {
    "duration": 21,
    "start_time": "2021-12-30T09:09:05.336Z"
   },
   {
    "duration": 6,
    "start_time": "2021-12-30T09:09:07.809Z"
   },
   {
    "duration": 29,
    "start_time": "2021-12-30T09:09:11.622Z"
   },
   {
    "duration": 28,
    "start_time": "2021-12-30T09:09:14.872Z"
   },
   {
    "duration": 1992,
    "start_time": "2021-12-30T09:09:17.639Z"
   },
   {
    "duration": 803,
    "start_time": "2021-12-30T09:09:22.400Z"
   },
   {
    "duration": 880,
    "start_time": "2021-12-30T09:09:25.564Z"
   },
   {
    "duration": 742,
    "start_time": "2021-12-30T09:09:28.721Z"
   },
   {
    "duration": 1028,
    "start_time": "2021-12-30T09:09:32.916Z"
   },
   {
    "duration": 24,
    "start_time": "2021-12-30T09:09:36.365Z"
   },
   {
    "duration": 32,
    "start_time": "2021-12-30T09:09:38.946Z"
   },
   {
    "duration": 16,
    "start_time": "2021-12-30T09:09:41.046Z"
   },
   {
    "duration": 866,
    "start_time": "2021-12-30T09:09:43.673Z"
   },
   {
    "duration": 24,
    "start_time": "2021-12-30T09:09:47.576Z"
   },
   {
    "duration": 41,
    "start_time": "2021-12-30T09:09:49.716Z"
   },
   {
    "duration": 6,
    "start_time": "2021-12-30T09:09:52.268Z"
   },
   {
    "duration": 30,
    "start_time": "2021-12-30T09:09:56.612Z"
   },
   {
    "duration": 22,
    "start_time": "2021-12-30T09:09:59.937Z"
   },
   {
    "duration": 41,
    "start_time": "2021-12-30T09:10:01.961Z"
   },
   {
    "duration": 1056,
    "start_time": "2021-12-30T09:10:04.574Z"
   },
   {
    "duration": 5474,
    "start_time": "2021-12-30T09:10:08.790Z"
   },
   {
    "duration": 20,
    "start_time": "2021-12-30T09:10:19.647Z"
   },
   {
    "duration": 775,
    "start_time": "2021-12-30T09:10:22.471Z"
   },
   {
    "duration": 23,
    "start_time": "2021-12-30T09:10:26.561Z"
   },
   {
    "duration": 25,
    "start_time": "2021-12-30T09:10:30.843Z"
   },
   {
    "duration": 10,
    "start_time": "2021-12-30T09:10:34.933Z"
   },
   {
    "duration": 5,
    "start_time": "2021-12-30T09:10:38.574Z"
   },
   {
    "duration": 34,
    "start_time": "2021-12-30T09:10:44.648Z"
   },
   {
    "duration": 24,
    "start_time": "2021-12-30T09:10:47.557Z"
   },
   {
    "duration": 13,
    "start_time": "2021-12-30T09:10:52.804Z"
   },
   {
    "duration": 110,
    "start_time": "2021-12-30T09:11:01.214Z"
   },
   {
    "duration": 13,
    "start_time": "2021-12-30T09:11:03.596Z"
   },
   {
    "duration": 5,
    "start_time": "2021-12-30T09:11:05.762Z"
   },
   {
    "duration": 25,
    "start_time": "2021-12-30T09:11:08.298Z"
   },
   {
    "duration": 36,
    "start_time": "2021-12-30T09:11:10.606Z"
   },
   {
    "duration": 18,
    "start_time": "2021-12-30T09:11:13.256Z"
   },
   {
    "duration": 23,
    "start_time": "2021-12-30T09:11:16.634Z"
   },
   {
    "duration": 19,
    "start_time": "2021-12-30T09:11:19.318Z"
   },
   {
    "duration": 776,
    "start_time": "2021-12-31T12:07:57.505Z"
   },
   {
    "duration": 28,
    "start_time": "2021-12-31T12:07:58.284Z"
   },
   {
    "duration": 19,
    "start_time": "2021-12-31T12:07:58.316Z"
   },
   {
    "duration": 6,
    "start_time": "2021-12-31T12:07:58.359Z"
   },
   {
    "duration": 30,
    "start_time": "2021-12-31T12:07:58.367Z"
   },
   {
    "duration": 26,
    "start_time": "2021-12-31T12:07:58.399Z"
   },
   {
    "duration": 1320,
    "start_time": "2021-12-31T12:07:58.428Z"
   },
   {
    "duration": 703,
    "start_time": "2021-12-31T12:07:59.751Z"
   },
   {
    "duration": 822,
    "start_time": "2021-12-31T12:08:00.458Z"
   },
   {
    "duration": 552,
    "start_time": "2021-12-31T12:08:01.284Z"
   },
   {
    "duration": 673,
    "start_time": "2021-12-31T12:08:01.839Z"
   },
   {
    "duration": 24,
    "start_time": "2021-12-31T12:08:02.514Z"
   },
   {
    "duration": 42,
    "start_time": "2021-12-31T12:08:02.540Z"
   },
   {
    "duration": 15,
    "start_time": "2021-12-31T12:08:02.585Z"
   },
   {
    "duration": 737,
    "start_time": "2021-12-31T12:08:02.603Z"
   },
   {
    "duration": 31,
    "start_time": "2021-12-31T12:08:03.343Z"
   },
   {
    "duration": 39,
    "start_time": "2021-12-31T12:08:03.377Z"
   },
   {
    "duration": 5,
    "start_time": "2021-12-31T12:08:03.419Z"
   },
   {
    "duration": 58,
    "start_time": "2021-12-31T12:08:03.426Z"
   },
   {
    "duration": 21,
    "start_time": "2021-12-31T12:08:03.487Z"
   },
   {
    "duration": 72,
    "start_time": "2021-12-31T12:08:03.511Z"
   },
   {
    "duration": 950,
    "start_time": "2021-12-31T12:08:03.587Z"
   },
   {
    "duration": 5176,
    "start_time": "2021-12-31T12:08:04.540Z"
   },
   {
    "duration": 19,
    "start_time": "2021-12-31T12:08:09.718Z"
   },
   {
    "duration": 766,
    "start_time": "2021-12-31T12:08:09.739Z"
   },
   {
    "duration": 20,
    "start_time": "2021-12-31T12:08:10.508Z"
   },
   {
    "duration": 39,
    "start_time": "2021-12-31T12:08:10.533Z"
   },
   {
    "duration": 10,
    "start_time": "2021-12-31T12:08:10.575Z"
   },
   {
    "duration": 6,
    "start_time": "2021-12-31T12:08:10.588Z"
   },
   {
    "duration": 80,
    "start_time": "2021-12-31T12:08:10.597Z"
   },
   {
    "duration": 25,
    "start_time": "2021-12-31T12:08:10.680Z"
   },
   {
    "duration": 15,
    "start_time": "2021-12-31T12:08:10.707Z"
   },
   {
    "duration": 103,
    "start_time": "2021-12-31T12:08:10.758Z"
   },
   {
    "duration": 14,
    "start_time": "2021-12-31T12:08:10.864Z"
   },
   {
    "duration": 7,
    "start_time": "2021-12-31T12:08:10.881Z"
   },
   {
    "duration": 68,
    "start_time": "2021-12-31T12:08:10.891Z"
   },
   {
    "duration": 24,
    "start_time": "2021-12-31T12:08:10.961Z"
   },
   {
    "duration": 13,
    "start_time": "2021-12-31T12:08:10.987Z"
   },
   {
    "duration": 58,
    "start_time": "2021-12-31T12:08:11.003Z"
   },
   {
    "duration": 13,
    "start_time": "2021-12-31T12:08:11.063Z"
   },
   {
    "duration": 98,
    "start_time": "2021-12-31T12:12:17.252Z"
   },
   {
    "duration": 58,
    "start_time": "2022-01-04T17:54:35.489Z"
   },
   {
    "duration": 319,
    "start_time": "2022-01-04T19:13:06.433Z"
   },
   {
    "duration": 77,
    "start_time": "2022-01-04T19:19:26.633Z"
   },
   {
    "duration": 117,
    "start_time": "2022-01-04T19:23:07.105Z"
   },
   {
    "duration": 59,
    "start_time": "2022-01-04T19:27:09.268Z"
   },
   {
    "duration": 571,
    "start_time": "2022-01-04T19:30:04.850Z"
   },
   {
    "duration": 19,
    "start_time": "2022-01-04T19:30:11.742Z"
   },
   {
    "duration": 14,
    "start_time": "2022-01-04T19:30:16.558Z"
   },
   {
    "duration": 6,
    "start_time": "2022-01-04T19:30:21.518Z"
   },
   {
    "duration": 21,
    "start_time": "2022-01-04T19:30:24.343Z"
   },
   {
    "duration": 35,
    "start_time": "2022-01-04T19:30:48.999Z"
   },
   {
    "duration": 998,
    "start_time": "2022-01-04T19:31:15.886Z"
   },
   {
    "duration": 477,
    "start_time": "2022-01-04T19:31:22.075Z"
   },
   {
    "duration": 450,
    "start_time": "2022-01-04T19:31:46.996Z"
   },
   {
    "duration": 275,
    "start_time": "2022-01-04T19:31:58.949Z"
   },
   {
    "duration": 59,
    "start_time": "2022-01-04T19:44:26.252Z"
   },
   {
    "duration": 622,
    "start_time": "2022-01-04T19:44:45.200Z"
   },
   {
    "duration": 18,
    "start_time": "2022-01-04T19:44:48.164Z"
   },
   {
    "duration": 13,
    "start_time": "2022-01-04T19:44:50.950Z"
   },
   {
    "duration": 4,
    "start_time": "2022-01-04T19:44:53.717Z"
   },
   {
    "duration": 22,
    "start_time": "2022-01-04T19:44:55.788Z"
   },
   {
    "duration": 21,
    "start_time": "2022-01-04T19:45:00.056Z"
   },
   {
    "duration": 1024,
    "start_time": "2022-01-04T19:45:03.958Z"
   },
   {
    "duration": 475,
    "start_time": "2022-01-04T19:45:07.360Z"
   },
   {
    "duration": 467,
    "start_time": "2022-01-04T19:45:10.581Z"
   },
   {
    "duration": 10,
    "start_time": "2022-01-04T19:45:17.357Z"
   },
   {
    "duration": 388,
    "start_time": "2022-01-04T19:45:28.379Z"
   },
   {
    "duration": 462,
    "start_time": "2022-01-04T19:45:36.314Z"
   },
   {
    "duration": 13,
    "start_time": "2022-01-04T19:48:02.301Z"
   },
   {
    "duration": 61,
    "start_time": "2022-01-04T19:48:04.498Z"
   },
   {
    "duration": 11,
    "start_time": "2022-01-04T19:48:07.232Z"
   },
   {
    "duration": 505,
    "start_time": "2022-01-04T19:48:09.688Z"
   },
   {
    "duration": 8,
    "start_time": "2022-01-04T19:48:17.039Z"
   },
   {
    "duration": 17,
    "start_time": "2022-01-04T19:48:24.511Z"
   },
   {
    "duration": 29,
    "start_time": "2022-01-04T19:48:53.122Z"
   },
   {
    "duration": 4,
    "start_time": "2022-01-04T19:48:55.710Z"
   },
   {
    "duration": 32,
    "start_time": "2022-01-04T19:48:59.894Z"
   },
   {
    "duration": 15,
    "start_time": "2022-01-04T19:49:03.379Z"
   },
   {
    "duration": 29,
    "start_time": "2022-01-04T19:49:05.951Z"
   },
   {
    "duration": 16,
    "start_time": "2022-01-04T19:50:52.544Z"
   },
   {
    "duration": 30,
    "start_time": "2022-01-04T19:50:54.032Z"
   },
   {
    "duration": 638,
    "start_time": "2022-01-04T19:50:56.085Z"
   },
   {
    "duration": 3390,
    "start_time": "2022-01-04T19:51:07.613Z"
   },
   {
    "duration": 11,
    "start_time": "2022-01-04T19:51:17.911Z"
   },
   {
    "duration": 5164,
    "start_time": "2022-01-04T19:51:21.860Z"
   },
   {
    "duration": 16,
    "start_time": "2022-01-04T19:51:38.101Z"
   },
   {
    "duration": 6,
    "start_time": "2022-01-04T19:52:04.219Z"
   },
   {
    "duration": 3,
    "start_time": "2022-01-04T19:52:06.541Z"
   },
   {
    "duration": 22,
    "start_time": "2022-01-04T19:52:20.506Z"
   },
   {
    "duration": 15,
    "start_time": "2022-01-04T19:52:24.120Z"
   },
   {
    "duration": 10,
    "start_time": "2022-01-04T19:52:28.253Z"
   },
   {
    "duration": 17,
    "start_time": "2022-01-04T19:52:33.385Z"
   },
   {
    "duration": 10,
    "start_time": "2022-01-04T19:52:35.673Z"
   },
   {
    "duration": 4,
    "start_time": "2022-01-04T19:52:38.215Z"
   },
   {
    "duration": 15,
    "start_time": "2022-01-04T19:52:52.488Z"
   },
   {
    "duration": 9,
    "start_time": "2022-01-04T19:52:57.520Z"
   },
   {
    "duration": 15,
    "start_time": "2022-01-04T19:53:00.456Z"
   },
   {
    "duration": 10,
    "start_time": "2022-01-04T19:53:02.916Z"
   },
   {
    "duration": 65,
    "start_time": "2022-01-04T20:05:48.103Z"
   },
   {
    "duration": 61,
    "start_time": "2022-01-04T20:06:05.423Z"
   },
   {
    "duration": 281,
    "start_time": "2022-01-04T20:06:19.959Z"
   },
   {
    "duration": 4879,
    "start_time": "2022-01-04T20:06:49.288Z"
   },
   {
    "duration": 189,
    "start_time": "2022-01-04T20:08:03.115Z"
   },
   {
    "duration": 20,
    "start_time": "2022-01-04T20:08:21.470Z"
   },
   {
    "duration": 12,
    "start_time": "2022-01-04T20:08:34.166Z"
   },
   {
    "duration": 19,
    "start_time": "2022-01-04T20:10:48.706Z"
   },
   {
    "duration": 12,
    "start_time": "2022-01-04T20:10:52.681Z"
   },
   {
    "duration": 186,
    "start_time": "2022-01-04T20:11:26.239Z"
   },
   {
    "duration": 17,
    "start_time": "2022-01-04T20:12:01.444Z"
   },
   {
    "duration": 7,
    "start_time": "2022-01-04T20:12:03.976Z"
   },
   {
    "duration": 689,
    "start_time": "2022-01-04T20:12:38.006Z"
   },
   {
    "duration": 28,
    "start_time": "2022-01-04T20:12:47.079Z"
   },
   {
    "duration": 12,
    "start_time": "2022-01-04T20:12:50.386Z"
   },
   {
    "duration": 18,
    "start_time": "2022-01-04T20:15:07.884Z"
   },
   {
    "duration": 17,
    "start_time": "2022-01-04T20:15:09.467Z"
   },
   {
    "duration": 22,
    "start_time": "2022-01-04T20:15:10.569Z"
   },
   {
    "duration": 18,
    "start_time": "2022-01-04T20:15:32.851Z"
   },
   {
    "duration": 17,
    "start_time": "2022-01-04T20:15:33.831Z"
   },
   {
    "duration": 10,
    "start_time": "2022-01-04T20:15:35.083Z"
   },
   {
    "duration": 4,
    "start_time": "2022-01-04T20:17:33.177Z"
   },
   {
    "duration": 3,
    "start_time": "2022-01-04T20:17:37.242Z"
   },
   {
    "duration": 5,
    "start_time": "2022-01-04T20:18:10.032Z"
   },
   {
    "duration": 219,
    "start_time": "2022-01-04T20:19:03.194Z"
   },
   {
    "duration": 241,
    "start_time": "2022-01-04T20:19:08.767Z"
   },
   {
    "duration": 172,
    "start_time": "2022-01-04T20:19:15.179Z"
   },
   {
    "duration": 11,
    "start_time": "2022-01-04T20:19:36.519Z"
   },
   {
    "duration": 177,
    "start_time": "2022-01-04T20:20:11.245Z"
   },
   {
    "duration": 12,
    "start_time": "2022-01-04T20:21:03.117Z"
   },
   {
    "duration": 29,
    "start_time": "2022-01-04T20:25:40.551Z"
   },
   {
    "duration": 12,
    "start_time": "2022-01-04T20:25:42.095Z"
   },
   {
    "duration": 17,
    "start_time": "2022-01-04T20:26:17.348Z"
   },
   {
    "duration": 16,
    "start_time": "2022-01-04T20:26:18.400Z"
   },
   {
    "duration": 12,
    "start_time": "2022-01-04T20:26:19.495Z"
   },
   {
    "duration": 12,
    "start_time": "2022-01-04T20:29:24.139Z"
   },
   {
    "duration": 10,
    "start_time": "2022-01-04T20:29:44.563Z"
   },
   {
    "duration": 17,
    "start_time": "2022-01-04T20:30:20.944Z"
   },
   {
    "duration": 17,
    "start_time": "2022-01-04T20:30:21.652Z"
   },
   {
    "duration": 11,
    "start_time": "2022-01-04T20:30:22.538Z"
   },
   {
    "duration": 525,
    "start_time": "2022-01-04T20:31:41.851Z"
   },
   {
    "duration": 587,
    "start_time": "2022-01-04T20:34:04.051Z"
   },
   {
    "duration": 461,
    "start_time": "2022-01-04T20:37:18.295Z"
   },
   {
    "duration": 17,
    "start_time": "2022-01-04T20:40:23.570Z"
   },
   {
    "duration": 17,
    "start_time": "2022-01-04T20:40:33.632Z"
   },
   {
    "duration": 940,
    "start_time": "2022-01-04T20:40:50.937Z"
   },
   {
    "duration": 15,
    "start_time": "2022-01-04T20:41:14.989Z"
   },
   {
    "duration": 23,
    "start_time": "2022-01-04T20:41:39.663Z"
   },
   {
    "duration": 16,
    "start_time": "2022-01-04T20:41:40.887Z"
   },
   {
    "duration": 11,
    "start_time": "2022-01-04T20:41:41.532Z"
   },
   {
    "duration": 20,
    "start_time": "2022-01-04T20:44:01.054Z"
   },
   {
    "duration": 16,
    "start_time": "2022-01-04T20:49:21.053Z"
   },
   {
    "duration": 18,
    "start_time": "2022-01-04T20:49:44.294Z"
   },
   {
    "duration": 15,
    "start_time": "2022-01-04T20:49:50.906Z"
   },
   {
    "duration": 14,
    "start_time": "2022-01-04T20:53:56.794Z"
   },
   {
    "duration": 30,
    "start_time": "2022-01-04T20:54:05.359Z"
   },
   {
    "duration": 12,
    "start_time": "2022-01-04T20:54:08.285Z"
   },
   {
    "duration": 19,
    "start_time": "2022-01-04T20:54:09.315Z"
   },
   {
    "duration": 26,
    "start_time": "2022-01-04T20:54:10.214Z"
   },
   {
    "duration": 10,
    "start_time": "2022-01-04T20:54:13.126Z"
   },
   {
    "duration": 17,
    "start_time": "2022-01-04T20:54:40.292Z"
   },
   {
    "duration": 36,
    "start_time": "2022-01-04T20:54:41.560Z"
   },
   {
    "duration": 11,
    "start_time": "2022-01-04T20:54:42.968Z"
   },
   {
    "duration": 16,
    "start_time": "2022-01-04T20:54:45.154Z"
   },
   {
    "duration": 19,
    "start_time": "2022-01-04T20:54:45.919Z"
   },
   {
    "duration": 11,
    "start_time": "2022-01-04T20:54:47.500Z"
   },
   {
    "duration": 15,
    "start_time": "2022-01-04T20:58:03.306Z"
   },
   {
    "duration": 770,
    "start_time": "2022-01-04T21:05:33.245Z"
   },
   {
    "duration": 172,
    "start_time": "2022-01-04T21:06:28.748Z"
   },
   {
    "duration": 702,
    "start_time": "2022-01-04T21:06:43.498Z"
   },
   {
    "duration": 727,
    "start_time": "2022-01-04T21:07:55.735Z"
   },
   {
    "duration": 725,
    "start_time": "2022-01-04T21:08:49.166Z"
   },
   {
    "duration": 766,
    "start_time": "2022-01-04T21:09:33.469Z"
   },
   {
    "duration": 18,
    "start_time": "2022-01-04T21:16:19.490Z"
   },
   {
    "duration": 30,
    "start_time": "2022-01-04T21:16:22.820Z"
   },
   {
    "duration": 802,
    "start_time": "2022-01-04T21:16:24.618Z"
   },
   {
    "duration": 18,
    "start_time": "2022-01-04T21:16:26.648Z"
   },
   {
    "duration": 20,
    "start_time": "2022-01-04T21:16:27.810Z"
   },
   {
    "duration": 11,
    "start_time": "2022-01-04T21:16:30.355Z"
   },
   {
    "duration": 16,
    "start_time": "2022-01-04T21:23:15.857Z"
   },
   {
    "duration": 20,
    "start_time": "2022-01-04T21:23:18.414Z"
   },
   {
    "duration": 10,
    "start_time": "2022-01-04T21:23:22.754Z"
   },
   {
    "duration": 17,
    "start_time": "2022-01-04T21:27:31.700Z"
   },
   {
    "duration": 19,
    "start_time": "2022-01-04T21:27:33.232Z"
   },
   {
    "duration": 11,
    "start_time": "2022-01-04T21:27:35.324Z"
   },
   {
    "duration": 18,
    "start_time": "2022-01-04T21:32:19.007Z"
   },
   {
    "duration": 23,
    "start_time": "2022-01-04T21:32:19.862Z"
   },
   {
    "duration": 14,
    "start_time": "2022-01-04T21:32:36.118Z"
   },
   {
    "duration": 18,
    "start_time": "2022-01-04T21:35:37.781Z"
   },
   {
    "duration": 21,
    "start_time": "2022-01-04T21:35:39.254Z"
   },
   {
    "duration": 12,
    "start_time": "2022-01-04T21:35:41.421Z"
   },
   {
    "duration": 17,
    "start_time": "2022-01-04T21:36:30.858Z"
   },
   {
    "duration": 21,
    "start_time": "2022-01-04T21:36:32.034Z"
   },
   {
    "duration": 11,
    "start_time": "2022-01-04T21:36:34.262Z"
   },
   {
    "duration": 17,
    "start_time": "2022-01-04T21:38:24.672Z"
   },
   {
    "duration": 20,
    "start_time": "2022-01-04T21:38:25.620Z"
   },
   {
    "duration": 12,
    "start_time": "2022-01-04T21:38:27.256Z"
   },
   {
    "duration": 18,
    "start_time": "2022-01-04T21:53:11.424Z"
   },
   {
    "duration": 16,
    "start_time": "2022-01-04T21:53:12.929Z"
   },
   {
    "duration": 19,
    "start_time": "2022-01-04T21:53:14.126Z"
   },
   {
    "duration": 11,
    "start_time": "2022-01-04T21:56:04.212Z"
   },
   {
    "duration": 57,
    "start_time": "2022-01-04T21:59:58.863Z"
   },
   {
    "duration": 830,
    "start_time": "2022-01-05T08:40:26.021Z"
   },
   {
    "duration": 32,
    "start_time": "2022-01-05T08:40:29.569Z"
   },
   {
    "duration": 20,
    "start_time": "2022-01-05T08:40:32.091Z"
   },
   {
    "duration": 6,
    "start_time": "2022-01-05T08:40:34.601Z"
   },
   {
    "duration": 29,
    "start_time": "2022-01-05T08:40:36.572Z"
   },
   {
    "duration": 27,
    "start_time": "2022-01-05T08:40:39.875Z"
   },
   {
    "duration": 1389,
    "start_time": "2022-01-05T08:40:42.798Z"
   },
   {
    "duration": 672,
    "start_time": "2022-01-05T08:40:47.142Z"
   },
   {
    "duration": 674,
    "start_time": "2022-01-05T08:40:51.350Z"
   },
   {
    "duration": 15,
    "start_time": "2022-01-05T08:40:54.106Z"
   },
   {
    "duration": 494,
    "start_time": "2022-01-05T08:41:28.651Z"
   },
   {
    "duration": 665,
    "start_time": "2022-01-05T08:41:33.188Z"
   },
   {
    "duration": 21,
    "start_time": "2022-01-05T08:42:53.096Z"
   },
   {
    "duration": 116,
    "start_time": "2022-01-05T08:42:55.128Z"
   },
   {
    "duration": 17,
    "start_time": "2022-01-05T08:42:58.230Z"
   },
   {
    "duration": 707,
    "start_time": "2022-01-05T08:43:00.613Z"
   },
   {
    "duration": 11,
    "start_time": "2022-01-05T08:43:13.288Z"
   },
   {
    "duration": 24,
    "start_time": "2022-01-05T08:43:16.576Z"
   },
   {
    "duration": 65,
    "start_time": "2022-01-05T08:45:05.150Z"
   },
   {
    "duration": 7,
    "start_time": "2022-01-05T08:45:07.528Z"
   },
   {
    "duration": 32,
    "start_time": "2022-01-05T08:45:14.260Z"
   },
   {
    "duration": 31,
    "start_time": "2022-01-05T08:45:16.384Z"
   },
   {
    "duration": 44,
    "start_time": "2022-01-05T08:45:18.464Z"
   },
   {
    "duration": 1080,
    "start_time": "2022-01-05T08:45:21.391Z"
   },
   {
    "duration": 5823,
    "start_time": "2022-01-05T08:45:26.225Z"
   },
   {
    "duration": 18,
    "start_time": "2022-01-05T08:45:36.571Z"
   },
   {
    "duration": 780,
    "start_time": "2022-01-05T08:45:40.733Z"
   },
   {
    "duration": 28,
    "start_time": "2022-01-05T08:45:51.787Z"
   },
   {
    "duration": 7,
    "start_time": "2022-01-05T08:45:55.608Z"
   },
   {
    "duration": 4,
    "start_time": "2022-01-05T08:45:58.587Z"
   },
   {
    "duration": 34,
    "start_time": "2022-01-05T08:46:00.860Z"
   },
   {
    "duration": 24,
    "start_time": "2022-01-05T08:46:03.905Z"
   },
   {
    "duration": 13,
    "start_time": "2022-01-05T08:46:06.307Z"
   },
   {
    "duration": 103,
    "start_time": "2022-01-05T08:46:11.091Z"
   },
   {
    "duration": 19,
    "start_time": "2022-01-05T08:46:13.522Z"
   },
   {
    "duration": 6,
    "start_time": "2022-01-05T08:46:15.541Z"
   },
   {
    "duration": 25,
    "start_time": "2022-01-05T08:48:15.245Z"
   },
   {
    "duration": 14,
    "start_time": "2022-01-05T08:48:17.817Z"
   },
   {
    "duration": 24,
    "start_time": "2022-01-05T08:48:20.571Z"
   },
   {
    "duration": 13,
    "start_time": "2022-01-05T08:48:22.314Z"
   },
   {
    "duration": 92,
    "start_time": "2022-01-05T08:56:44.856Z"
   },
   {
    "duration": 91,
    "start_time": "2022-01-05T09:05:46.574Z"
   },
   {
    "duration": 827,
    "start_time": "2022-01-05T09:06:57.786Z"
   },
   {
    "duration": 29,
    "start_time": "2022-01-05T09:07:02.974Z"
   },
   {
    "duration": 18,
    "start_time": "2022-01-05T09:07:06.168Z"
   },
   {
    "duration": 6,
    "start_time": "2022-01-05T09:07:09.796Z"
   },
   {
    "duration": 30,
    "start_time": "2022-01-05T09:07:12.280Z"
   },
   {
    "duration": 27,
    "start_time": "2022-01-05T09:07:16.584Z"
   },
   {
    "duration": 1477,
    "start_time": "2022-01-05T09:07:23.386Z"
   },
   {
    "duration": 675,
    "start_time": "2022-01-05T09:07:27.694Z"
   },
   {
    "duration": 728,
    "start_time": "2022-01-05T09:07:30.475Z"
   },
   {
    "duration": 15,
    "start_time": "2022-01-05T09:07:33.745Z"
   },
   {
    "duration": 575,
    "start_time": "2022-01-05T09:07:53.093Z"
   },
   {
    "duration": 698,
    "start_time": "2022-01-05T09:07:57.375Z"
   },
   {
    "duration": 19,
    "start_time": "2022-01-05T09:08:01.393Z"
   },
   {
    "duration": 91,
    "start_time": "2022-01-05T09:08:03.181Z"
   },
   {
    "duration": 16,
    "start_time": "2022-01-05T09:08:05.953Z"
   },
   {
    "duration": 745,
    "start_time": "2022-01-05T09:08:08.280Z"
   },
   {
    "duration": 11,
    "start_time": "2022-01-05T09:08:12.743Z"
   },
   {
    "duration": 25,
    "start_time": "2022-01-05T09:08:19.729Z"
   },
   {
    "duration": 63,
    "start_time": "2022-01-05T09:08:22.324Z"
   },
   {
    "duration": 6,
    "start_time": "2022-01-05T09:08:24.045Z"
   },
   {
    "duration": 30,
    "start_time": "2022-01-05T09:08:26.112Z"
   },
   {
    "duration": 24,
    "start_time": "2022-01-05T09:08:28.642Z"
   },
   {
    "duration": 44,
    "start_time": "2022-01-05T09:08:30.073Z"
   },
   {
    "duration": 939,
    "start_time": "2022-01-05T09:08:32.872Z"
   },
   {
    "duration": 4864,
    "start_time": "2022-01-05T09:08:37.205Z"
   },
   {
    "duration": 17,
    "start_time": "2022-01-05T09:08:47.965Z"
   },
   {
    "duration": 778,
    "start_time": "2022-01-05T09:08:52.330Z"
   },
   {
    "duration": 22,
    "start_time": "2022-01-05T09:08:58.013Z"
   },
   {
    "duration": 8,
    "start_time": "2022-01-05T09:09:02.728Z"
   },
   {
    "duration": 4,
    "start_time": "2022-01-05T09:09:05.823Z"
   },
   {
    "duration": 33,
    "start_time": "2022-01-05T09:09:07.349Z"
   },
   {
    "duration": 23,
    "start_time": "2022-01-05T09:09:10.222Z"
   },
   {
    "duration": 14,
    "start_time": "2022-01-05T09:09:12.768Z"
   },
   {
    "duration": 105,
    "start_time": "2022-01-05T09:09:16.116Z"
   },
   {
    "duration": 13,
    "start_time": "2022-01-05T09:09:18.338Z"
   },
   {
    "duration": 5,
    "start_time": "2022-01-05T09:09:20.133Z"
   },
   {
    "duration": 710,
    "start_time": "2022-01-05T09:09:28.470Z"
   },
   {
    "duration": 25,
    "start_time": "2022-01-05T09:09:35.621Z"
   },
   {
    "duration": 30,
    "start_time": "2022-01-05T09:09:46.929Z"
   },
   {
    "duration": 32,
    "start_time": "2022-01-05T09:09:48.857Z"
   },
   {
    "duration": 22,
    "start_time": "2022-01-05T09:09:51.201Z"
   },
   {
    "duration": 24,
    "start_time": "2022-01-05T09:09:54.721Z"
   },
   {
    "duration": 14,
    "start_time": "2022-01-05T09:09:57.191Z"
   },
   {
    "duration": 25,
    "start_time": "2022-01-05T09:09:59.795Z"
   },
   {
    "duration": 14,
    "start_time": "2022-01-05T09:10:01.725Z"
   }
  ],
  "kernelspec": {
   "display_name": "Python 3 (ipykernel)",
   "language": "python",
   "name": "python3"
  },
  "language_info": {
   "codemirror_mode": {
    "name": "ipython",
    "version": 3
   },
   "file_extension": ".py",
   "mimetype": "text/x-python",
   "name": "python",
   "nbconvert_exporter": "python",
   "pygments_lexer": "ipython3",
   "version": "3.9.12"
  },
  "toc": {
   "base_numbering": 1,
   "nav_menu": {},
   "number_sections": true,
   "sideBar": true,
   "skip_h1_title": true,
   "title_cell": "Table of Contents",
   "title_sidebar": "Contents",
   "toc_cell": false,
   "toc_position": {},
   "toc_section_display": true,
   "toc_window_display": false
  }
 },
 "nbformat": 4,
 "nbformat_minor": 2
}
